{
 "cells": [
  {
   "cell_type": "markdown",
   "id": "5391b212-4ad3-4526-84fe-9057397039b0",
   "metadata": {},
   "source": [
    "# Accuracy and robustness\n",
    "The VMM should have a high accuracy in describing the known data, being the manoeuvring model tests in this case. A prediction model is however of little use if it can only predict data that is already known. Therefore also the robustness, how the prediction model is performing in new situations must also be considered. The accuracy of how well the VMM:s describe known data will be first analyzed. After that the robustness of the models will also be considered. "
   ]
  },
  {
   "cell_type": "code",
   "execution_count": 1,
   "id": "f1f1bfa1-28d3-40c9-9c19-59d6c815dbb8",
   "metadata": {
    "jupyter": {
     "source_hidden": true
    },
    "tags": [
     "remove-cell"
    ]
   },
   "outputs": [
    {
     "name": "stdout",
     "output_type": "stream",
     "text": [
      "2022-02-08 13:12:18,790 - kedro.framework.session.store - INFO - `read()` not implemented for `SQLiteStore`. Assuming empty store.\n",
      "2022-02-08 13:12:21,362 - root - INFO - ** Kedro project wPCC_pipeline\n",
      "2022-02-08 13:12:21,363 - root - INFO - Defined global variable `context`, `session`, `catalog` and `pipelines`\n",
      "2022-02-08 13:12:21,373 - root - INFO - Registered line magic `run_viz`\n"
     ]
    }
   ],
   "source": [
    "# %load imports.py\n",
    "%load_ext autoreload\n",
    "%autoreload 2\n",
    "%reload_kedro\n",
    "%config Completer.use_jedi = False  ## (To fix autocomplete)\n",
    "\n",
    "import pandas as pd\n",
    "from src.models.vmm import ModelSimulator\n",
    "import matplotlib.pyplot as plt\n",
    "from src.visualization.plot import track_plots, plot, captive_plot\n",
    "import kedro\n",
    "import numpy as np\n",
    "import os.path\n",
    "import anyconfig\n",
    "\n",
    "import matplotlib\n",
    "matplotlib.rcParams[\"figure.figsize\"] = (15,4)\n",
    "\n",
    "from myst_nb import glue\n",
    "from src.symbols import *\n",
    "import src.symbols as symbols\n",
    "from src.system_equations import *\n",
    "\n",
    "from IPython.display import display, Math, Latex, Markdown\n",
    "from sympy.physics.vector.printing import vpprint, vlatex\n",
    "\n",
    "from src.parameters import df_parameters\n",
    "p = df_parameters[\"symbol\"]\n",
    "\n",
    "# Read configs:\n",
    "conf_path = os.path.join(\"../../conf/base/\")\n",
    "runs_globals_path = os.path.join(\n",
    "    conf_path,\n",
    "    \"runs_globals.yml\",\n",
    ")\n",
    "\n",
    "runs_globals = anyconfig.load(runs_globals_path)\n",
    "model_test_ids = runs_globals[\"model_test_ids\"]\n",
    "\n",
    "join_globals_path = os.path.join(\n",
    "    conf_path,\n",
    "    \"join_globals.yml\",\n",
    ")\n",
    "\n",
    "joins = runs_globals[\"joins\"]\n",
    "join_runs_dict = anyconfig.load(join_globals_path)\n",
    "\n",
    "globals_path = os.path.join(\n",
    "    conf_path,\n",
    "    \"globals.yml\",\n",
    ")\n",
    "global_variables = anyconfig.load(globals_path)\n",
    "\n",
    "\n",
    "\n",
    "vmms = global_variables[\"vmms\"]\n",
    "only_joined = global_variables[\n",
    "    \"only_joined\"\n",
    "]  # (regress/predict with only models from joined runs)S"
   ]
  },
  {
   "cell_type": "markdown",
   "id": "16522db1-f0ab-439d-b447-55f06e4d9900",
   "metadata": {},
   "source": [
    "## Accuracy\n",
    "The accuracy of the models can be measured in many ways. For standard manoeuvres {cite}`imo_standards_2002` such as zigzag-tests and turning circle tests key characteristics such as overshoot angles and tactical diameters can be used {cite}`ittc_manoeuvring_2014`. When reducing the time series into a few key characterisics a lot of information is lost. Two models with the same overshoot angles can for instance have very different trajectories. This approach is good wheen the key characteristics is the main focus, for instance when assessing the compliance with the IMO standards {cite}`imo_standards_2002`.\n",
    "\n",
    "For other cases where the predicted trajectory needs to be very accurate or for none standard manoeuvres, the accuracy needs to be calculated from the time series in a general way. One way is to calculate position error for each DOF, as the difference between predicted position and true position. It is of course impossible to know the true position from experimental data exactly. The true position therefore assumed to be approximately the same as the Kalman smoother estimate.\n",
    "\n",
    "$$\n",
    "\\vec{\\epsilon} = \\vec{x} - \\hat{\\vec{x}}\n",
    "$$\n",
    "\n",
    "$$\n",
    "\\vec{x} = \\left[x_0, y_0, \\psi \\right]^T\n",
    "$$\n",
    "\n",
    "where $x$ is the true position and $\\hat{x}$ is the predicted position.\n",
    "\n",
    "This way to define accuracy is very straight forward, but has the drawback that the prediction will deviate more and more over time as the prediction error is accumulated. The prediction will eventually diverge into a complete other state where it is no longer relevant to assess the accuracy. Consider the scenario where the VMM is very inaccurate in the begining of a time series, but would in fact be very accurate if only the later part of the time series is considered. This would never be seen in the accuracy as the solution has already divereged at that point.\n",
    "It is therefore better to calculate the error as the error of the acceleration calculated from the true state for each time step in the time series, so that the diverge problem is avoided:\n",
    "\n",
    "$$\n",
    "\\vec{\\epsilon} = \\vec{\\ddot{x}} - \\hat{\\vec{\\ddot{x}}}\n",
    "$$\n",
    "\n",
    "$$\n",
    "\\vec{\\ddot{x}} = \\left[\\dot{u}, \\dot{v}, \\dot{r} \\right]^T\n",
    "$$\n"
   ]
  },
  {
   "cell_type": "code",
   "execution_count": null,
   "id": "74c5eb63-b93f-4267-991c-97ff12207c8a",
   "metadata": {},
   "outputs": [],
   "source": []
  }
 ],
 "metadata": {
  "kernelspec": {
   "display_name": "wPCC_pipeline",
   "language": "python",
   "name": "python3"
  },
  "language_info": {
   "codemirror_mode": {
    "name": "ipython",
    "version": 3
   },
   "file_extension": ".py",
   "mimetype": "text/x-python",
   "name": "python",
   "nbconvert_exporter": "python",
   "pygments_lexer": "ipython3",
   "version": "3.7.9"
  }
 },
 "nbformat": 4,
 "nbformat_minor": 5
}
