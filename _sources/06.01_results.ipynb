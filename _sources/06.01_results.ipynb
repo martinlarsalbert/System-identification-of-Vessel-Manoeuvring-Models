{
 "cells": [
  {
   "cell_type": "markdown",
   "id": "7311b09c-8a49-4b39-8dc9-7323602492a9",
   "metadata": {},
   "source": [
    "# Results"
   ]
  },
  {
   "cell_type": "code",
   "execution_count": 2,
   "id": "ef794442-afbf-40a3-a540-4d8e4bd8f2db",
   "metadata": {
    "tags": [
     "remove-cell"
    ]
   },
   "outputs": [
    {
     "name": "stdout",
     "output_type": "stream",
     "text": [
      "2022-02-02 09:15:31,625 - kedro.framework.session.store - INFO - `read()` not implemented for `SQLiteStore`. Assuming empty store.\n",
      "2022-02-02 09:15:32,849 - root - INFO - ** Kedro project wPCC_pipeline\n",
      "2022-02-02 09:15:32,851 - root - INFO - Defined global variable `context`, `session`, `catalog` and `pipelines`\n",
      "2022-02-02 09:15:32,860 - root - INFO - Registered line magic `run_viz`\n"
     ]
    },
    {
     "name": "stderr",
     "output_type": "stream",
     "text": [
      "E:\\dev\\wPCC_pipeline\\venv\\lib\\site-packages\\sklearn\\utils\\deprecation.py:87: FutureWarning: Function get_feature_names is deprecated; get_feature_names is deprecated in 1.0 and will be removed in 1.2. Please use get_feature_names_out instead.\n",
      "  warnings.warn(msg, category=FutureWarning)\n",
      "E:\\dev\\wPCC_pipeline\\venv\\lib\\site-packages\\mlflow\\types\\schema.py:49: DeprecationWarning: `np.object` is a deprecated alias for the builtin `object`. To silence this warning, use `object` by itself. Doing this will not modify any behavior and is safe. \n",
      "Deprecated in NumPy 1.20; for more details and guidance: https://numpy.org/devdocs/release/1.20.0-notes.html#deprecations\n",
      "  binary = (7, np.dtype(\"bytes\"), \"BinaryType\", np.object)\n"
     ]
    }
   ],
   "source": [
    "# %load imports.py\n",
    "%load_ext autoreload\n",
    "%autoreload 2\n",
    "%reload_kedro\n",
    "%config Completer.use_jedi = False  ## (To fix autocomplete)\n",
    "\n",
    "import pandas as pd\n",
    "from src.models.vmm import ModelSimulator\n",
    "import matplotlib.pyplot as plt\n",
    "from src.visualization.plot import track_plots, plot, captive_plot\n",
    "import kedro\n",
    "import numpy as np\n",
    "import os.path\n",
    "import anyconfig\n",
    "\n",
    "import matplotlib\n",
    "matplotlib.rcParams[\"figure.figsize\"] = (15,4)\n",
    "\n",
    "from myst_nb import glue\n",
    "from src.symbols import *\n",
    "import src.symbols as symbols\n",
    "from src.system_equations import *\n",
    "\n",
    "from IPython.display import display, Math, Latex, Markdown\n",
    "from sympy.physics.vector.printing import vpprint, vlatex\n",
    "\n",
    "from src.parameters import df_parameters\n",
    "p = df_parameters[\"symbol\"]\n",
    "\n",
    "# Read configs:\n",
    "conf_path = os.path.join(\"../../conf/base/\")\n",
    "runs_globals_path = os.path.join(\n",
    "    conf_path,\n",
    "    \"runs_globals.yml\",\n",
    ")\n",
    "\n",
    "runs_globals = anyconfig.load(runs_globals_path)\n",
    "model_test_ids = runs_globals[\"model_test_ids\"]\n",
    "\n",
    "join_globals_path = os.path.join(\n",
    "    conf_path,\n",
    "    \"join_globals.yml\",\n",
    ")\n",
    "\n",
    "joins = runs_globals[\"joins\"]\n",
    "join_runs_dict = anyconfig.load(join_globals_path)\n",
    "\n",
    "globals_path = os.path.join(\n",
    "    conf_path,\n",
    "    \"globals.yml\",\n",
    ")\n",
    "global_variables = anyconfig.load(globals_path)\n",
    "\n",
    "\n",
    "\n",
    "vmms = global_variables[\"vmms\"]\n",
    "only_joined = global_variables[\n",
    "    \"only_joined\"\n",
    "]  # (regress/predict with only models from joined runs)S"
   ]
  },
  {
   "cell_type": "code",
   "execution_count": 3,
   "id": "511761c0-f975-4d46-9053-e052784ceed1",
   "metadata": {
    "tags": [
     "remove-cell"
    ]
   },
   "outputs": [],
   "source": [
    "regressions = global_variables['regressions']\n",
    "\n",
    "regression_names = ['motion_regression','force_regression']\n",
    "\n",
    "def load_joined(join='joined'):\n",
    "    df_accuracies = pd.DataFrame()\n",
    "    \n",
    "    for vmm_name in vmms:\n",
    "        for model_test_id in model_test_ids:\n",
    "            \n",
    "            file_paths = []\n",
    "            file_paths.append(f\"{ vmm_name }.motion_regression.{join}.{model_test_id}.simulation_accuracy\")\n",
    "            file_paths.append(f\"{ vmm_name }.force_regression.{model_test_id}.simulation_accuracy\")\n",
    "            \n",
    "            \n",
    "            for regression,file_path in zip(regression_names, file_paths):\n",
    "                try:\n",
    "                    accuracy = catalog.load(file_path)\n",
    "                except:\n",
    "                    continue\n",
    "                \n",
    "                accuracy = pd.Series(accuracy)\n",
    "                accuracy['total'] = accuracy.mean()\n",
    "                \n",
    "                accuracy['vmm'] = vmm_name\n",
    "                accuracy['regression'] = regression\n",
    "                accuracy['model test'] = model_test_id\n",
    "                \n",
    "                df_accuracies = df_accuracies.append(accuracy, ignore_index=True)\n",
    "                \n",
    "    return df_accuracies\n",
    "            "
   ]
  },
  {
   "cell_type": "code",
   "execution_count": 4,
   "id": "4d277dec-e1ea-4ecd-b55d-1713a29b86a9",
   "metadata": {
    "collapsed": true,
    "jupyter": {
     "outputs_hidden": true
    },
    "tags": [
     "remove-cell"
    ]
   },
   "outputs": [
    {
     "name": "stdout",
     "output_type": "stream",
     "text": [
      "2022-02-02 09:16:27,069 - kedro.io.data_catalog - INFO - Loading data from `vmm_martin.motion_regression.joined.22611.simulation_accuracy` (JSONDataSet)...\n",
      "2022-02-02 09:16:27,081 - kedro.io.data_catalog - INFO - Loading data from `vmm_martin.force_regression.22611.simulation_accuracy` (JSONDataSet)...\n",
      "2022-02-02 09:16:27,092 - kedro.io.data_catalog - INFO - Loading data from `vmm_martin.motion_regression.joined.22612.simulation_accuracy` (JSONDataSet)...\n",
      "2022-02-02 09:16:27,102 - kedro.io.data_catalog - INFO - Loading data from `vmm_martin.force_regression.22612.simulation_accuracy` (JSONDataSet)...\n",
      "2022-02-02 09:16:27,111 - kedro.io.data_catalog - INFO - Loading data from `vmm_martin.motion_regression.joined.22613.simulation_accuracy` (JSONDataSet)...\n",
      "2022-02-02 09:16:27,123 - kedro.io.data_catalog - INFO - Loading data from `vmm_martin.force_regression.22613.simulation_accuracy` (JSONDataSet)...\n",
      "2022-02-02 09:16:27,132 - kedro.io.data_catalog - INFO - Loading data from `vmm_martin.motion_regression.joined.22614.simulation_accuracy` (JSONDataSet)...\n",
      "2022-02-02 09:16:27,141 - kedro.io.data_catalog - INFO - Loading data from `vmm_martin.force_regression.22614.simulation_accuracy` (JSONDataSet)...\n",
      "2022-02-02 09:16:27,152 - kedro.io.data_catalog - INFO - Loading data from `vmm_martin.motion_regression.joined.22615.simulation_accuracy` (JSONDataSet)...\n",
      "2022-02-02 09:16:27,161 - kedro.io.data_catalog - INFO - Loading data from `vmm_martin.force_regression.22615.simulation_accuracy` (JSONDataSet)...\n",
      "2022-02-02 09:16:27,170 - kedro.io.data_catalog - INFO - Loading data from `vmm_martin.motion_regression.joined.22616.simulation_accuracy` (JSONDataSet)...\n",
      "2022-02-02 09:16:27,181 - kedro.io.data_catalog - INFO - Loading data from `vmm_martin.force_regression.22616.simulation_accuracy` (JSONDataSet)...\n",
      "2022-02-02 09:16:27,191 - kedro.io.data_catalog - INFO - Loading data from `vmm_martin.motion_regression.joined.22635.simulation_accuracy` (JSONDataSet)...\n",
      "2022-02-02 09:16:27,201 - kedro.io.data_catalog - INFO - Loading data from `vmm_martin.force_regression.22635.simulation_accuracy` (JSONDataSet)...\n",
      "2022-02-02 09:16:27,211 - kedro.io.data_catalog - INFO - Loading data from `vmm_martin.motion_regression.joined.22639.simulation_accuracy` (JSONDataSet)...\n",
      "2022-02-02 09:16:27,222 - kedro.io.data_catalog - INFO - Loading data from `vmm_martin.force_regression.22639.simulation_accuracy` (JSONDataSet)...\n",
      "2022-02-02 09:16:27,231 - kedro.io.data_catalog - INFO - Loading data from `vmm_martin.motion_regression.joined.22764.simulation_accuracy` (JSONDataSet)...\n",
      "2022-02-02 09:16:27,241 - kedro.io.data_catalog - INFO - Loading data from `vmm_martin.force_regression.22764.simulation_accuracy` (JSONDataSet)...\n",
      "2022-02-02 09:16:27,253 - kedro.io.data_catalog - INFO - Loading data from `vmm_martin.motion_regression.joined.22769.simulation_accuracy` (JSONDataSet)...\n",
      "2022-02-02 09:16:27,262 - kedro.io.data_catalog - INFO - Loading data from `vmm_martin.force_regression.22769.simulation_accuracy` (JSONDataSet)...\n",
      "2022-02-02 09:16:27,272 - kedro.io.data_catalog - INFO - Loading data from `vmm_martin.motion_regression.joined.22770.simulation_accuracy` (JSONDataSet)...\n",
      "2022-02-02 09:16:27,282 - kedro.io.data_catalog - INFO - Loading data from `vmm_martin.force_regression.22770.simulation_accuracy` (JSONDataSet)...\n",
      "2022-02-02 09:16:27,291 - kedro.io.data_catalog - INFO - Loading data from `vmm_martin.motion_regression.joined.22771.simulation_accuracy` (JSONDataSet)...\n",
      "2022-02-02 09:16:27,301 - kedro.io.data_catalog - INFO - Loading data from `vmm_martin.force_regression.22771.simulation_accuracy` (JSONDataSet)...\n",
      "2022-02-02 09:16:27,311 - kedro.io.data_catalog - INFO - Loading data from `vmm_martin.motion_regression.joined.22772.simulation_accuracy` (JSONDataSet)...\n",
      "2022-02-02 09:16:27,321 - kedro.io.data_catalog - INFO - Loading data from `vmm_martin.force_regression.22772.simulation_accuracy` (JSONDataSet)...\n",
      "2022-02-02 09:16:27,329 - kedro.io.data_catalog - INFO - Loading data from `vmm_martin.motion_regression.joined.22773.simulation_accuracy` (JSONDataSet)...\n",
      "2022-02-02 09:16:27,341 - kedro.io.data_catalog - INFO - Loading data from `vmm_martin.force_regression.22773.simulation_accuracy` (JSONDataSet)...\n",
      "2022-02-02 09:16:27,350 - kedro.io.data_catalog - INFO - Loading data from `vmm_martin.motion_regression.joined.22774.simulation_accuracy` (JSONDataSet)...\n",
      "2022-02-02 09:16:27,359 - kedro.io.data_catalog - INFO - Loading data from `vmm_martin.force_regression.22774.simulation_accuracy` (JSONDataSet)...\n",
      "2022-02-02 09:16:27,370 - kedro.io.data_catalog - INFO - Loading data from `vmm_linear.motion_regression.joined.22611.simulation_accuracy` (JSONDataSet)...\n",
      "2022-02-02 09:16:27,380 - kedro.io.data_catalog - INFO - Loading data from `vmm_linear.force_regression.22611.simulation_accuracy` (JSONDataSet)...\n",
      "2022-02-02 09:16:27,389 - kedro.io.data_catalog - INFO - Loading data from `vmm_linear.motion_regression.joined.22612.simulation_accuracy` (JSONDataSet)...\n",
      "2022-02-02 09:16:27,399 - kedro.io.data_catalog - INFO - Loading data from `vmm_linear.force_regression.22612.simulation_accuracy` (JSONDataSet)...\n",
      "2022-02-02 09:16:27,412 - kedro.io.data_catalog - INFO - Loading data from `vmm_linear.motion_regression.joined.22613.simulation_accuracy` (JSONDataSet)...\n",
      "2022-02-02 09:16:27,424 - kedro.io.data_catalog - INFO - Loading data from `vmm_linear.force_regression.22613.simulation_accuracy` (JSONDataSet)...\n",
      "2022-02-02 09:16:27,434 - kedro.io.data_catalog - INFO - Loading data from `vmm_linear.motion_regression.joined.22614.simulation_accuracy` (JSONDataSet)...\n",
      "2022-02-02 09:16:27,444 - kedro.io.data_catalog - INFO - Loading data from `vmm_linear.force_regression.22614.simulation_accuracy` (JSONDataSet)...\n",
      "2022-02-02 09:16:27,454 - kedro.io.data_catalog - INFO - Loading data from `vmm_linear.motion_regression.joined.22615.simulation_accuracy` (JSONDataSet)...\n",
      "2022-02-02 09:16:27,465 - kedro.io.data_catalog - INFO - Loading data from `vmm_linear.force_regression.22615.simulation_accuracy` (JSONDataSet)...\n",
      "2022-02-02 09:16:27,475 - kedro.io.data_catalog - INFO - Loading data from `vmm_linear.motion_regression.joined.22616.simulation_accuracy` (JSONDataSet)...\n",
      "2022-02-02 09:16:27,484 - kedro.io.data_catalog - INFO - Loading data from `vmm_linear.force_regression.22616.simulation_accuracy` (JSONDataSet)...\n",
      "2022-02-02 09:16:27,493 - kedro.io.data_catalog - INFO - Loading data from `vmm_linear.motion_regression.joined.22635.simulation_accuracy` (JSONDataSet)...\n",
      "2022-02-02 09:16:27,505 - kedro.io.data_catalog - INFO - Loading data from `vmm_linear.force_regression.22635.simulation_accuracy` (JSONDataSet)...\n",
      "2022-02-02 09:16:27,514 - kedro.io.data_catalog - INFO - Loading data from `vmm_linear.motion_regression.joined.22639.simulation_accuracy` (JSONDataSet)...\n",
      "2022-02-02 09:16:27,524 - kedro.io.data_catalog - INFO - Loading data from `vmm_linear.force_regression.22639.simulation_accuracy` (JSONDataSet)...\n",
      "2022-02-02 09:16:27,534 - kedro.io.data_catalog - INFO - Loading data from `vmm_linear.motion_regression.joined.22764.simulation_accuracy` (JSONDataSet)...\n",
      "2022-02-02 09:16:27,544 - kedro.io.data_catalog - INFO - Loading data from `vmm_linear.force_regression.22764.simulation_accuracy` (JSONDataSet)...\n",
      "2022-02-02 09:16:27,553 - kedro.io.data_catalog - INFO - Loading data from `vmm_linear.motion_regression.joined.22769.simulation_accuracy` (JSONDataSet)...\n",
      "2022-02-02 09:16:27,564 - kedro.io.data_catalog - INFO - Loading data from `vmm_linear.force_regression.22769.simulation_accuracy` (JSONDataSet)...\n",
      "2022-02-02 09:16:27,574 - kedro.io.data_catalog - INFO - Loading data from `vmm_linear.motion_regression.joined.22770.simulation_accuracy` (JSONDataSet)...\n",
      "2022-02-02 09:16:27,583 - kedro.io.data_catalog - INFO - Loading data from `vmm_linear.force_regression.22770.simulation_accuracy` (JSONDataSet)...\n",
      "2022-02-02 09:16:27,594 - kedro.io.data_catalog - INFO - Loading data from `vmm_linear.motion_regression.joined.22771.simulation_accuracy` (JSONDataSet)...\n",
      "2022-02-02 09:16:27,604 - kedro.io.data_catalog - INFO - Loading data from `vmm_linear.force_regression.22771.simulation_accuracy` (JSONDataSet)...\n",
      "2022-02-02 09:16:27,612 - kedro.io.data_catalog - INFO - Loading data from `vmm_linear.motion_regression.joined.22772.simulation_accuracy` (JSONDataSet)...\n",
      "2022-02-02 09:16:27,623 - kedro.io.data_catalog - INFO - Loading data from `vmm_linear.force_regression.22772.simulation_accuracy` (JSONDataSet)...\n",
      "2022-02-02 09:16:27,632 - kedro.io.data_catalog - INFO - Loading data from `vmm_linear.motion_regression.joined.22773.simulation_accuracy` (JSONDataSet)...\n",
      "2022-02-02 09:16:27,642 - kedro.io.data_catalog - INFO - Loading data from `vmm_linear.force_regression.22773.simulation_accuracy` (JSONDataSet)...\n",
      "2022-02-02 09:16:27,652 - kedro.io.data_catalog - INFO - Loading data from `vmm_linear.motion_regression.joined.22774.simulation_accuracy` (JSONDataSet)...\n",
      "2022-02-02 09:16:27,660 - kedro.io.data_catalog - INFO - Loading data from `vmm_linear.force_regression.22774.simulation_accuracy` (JSONDataSet)...\n",
      "2022-02-02 09:16:27,669 - kedro.io.data_catalog - INFO - Loading data from `vmm_martins_simple.motion_regression.joined.22611.simulation_accuracy` (JSONDataSet)...\n",
      "2022-02-02 09:16:27,679 - kedro.io.data_catalog - INFO - Loading data from `vmm_martins_simple.force_regression.22611.simulation_accuracy` (JSONDataSet)...\n",
      "2022-02-02 09:16:27,690 - kedro.io.data_catalog - INFO - Loading data from `vmm_martins_simple.motion_regression.joined.22612.simulation_accuracy` (JSONDataSet)...\n",
      "2022-02-02 09:16:27,699 - kedro.io.data_catalog - INFO - Loading data from `vmm_martins_simple.force_regression.22612.simulation_accuracy` (JSONDataSet)...\n",
      "2022-02-02 09:16:27,709 - kedro.io.data_catalog - INFO - Loading data from `vmm_martins_simple.motion_regression.joined.22613.simulation_accuracy` (JSONDataSet)...\n",
      "2022-02-02 09:16:27,720 - kedro.io.data_catalog - INFO - Loading data from `vmm_martins_simple.force_regression.22613.simulation_accuracy` (JSONDataSet)...\n",
      "2022-02-02 09:16:27,729 - kedro.io.data_catalog - INFO - Loading data from `vmm_martins_simple.motion_regression.joined.22614.simulation_accuracy` (JSONDataSet)...\n",
      "2022-02-02 09:16:27,738 - kedro.io.data_catalog - INFO - Loading data from `vmm_martins_simple.force_regression.22614.simulation_accuracy` (JSONDataSet)...\n",
      "2022-02-02 09:16:27,749 - kedro.io.data_catalog - INFO - Loading data from `vmm_martins_simple.motion_regression.joined.22615.simulation_accuracy` (JSONDataSet)...\n",
      "2022-02-02 09:16:27,759 - kedro.io.data_catalog - INFO - Loading data from `vmm_martins_simple.force_regression.22615.simulation_accuracy` (JSONDataSet)...\n",
      "2022-02-02 09:16:27,767 - kedro.io.data_catalog - INFO - Loading data from `vmm_martins_simple.motion_regression.joined.22616.simulation_accuracy` (JSONDataSet)...\n",
      "2022-02-02 09:16:27,778 - kedro.io.data_catalog - INFO - Loading data from `vmm_martins_simple.force_regression.22616.simulation_accuracy` (JSONDataSet)...\n",
      "2022-02-02 09:16:27,788 - kedro.io.data_catalog - INFO - Loading data from `vmm_martins_simple.motion_regression.joined.22635.simulation_accuracy` (JSONDataSet)...\n",
      "2022-02-02 09:16:27,798 - kedro.io.data_catalog - INFO - Loading data from `vmm_martins_simple.force_regression.22635.simulation_accuracy` (JSONDataSet)...\n",
      "2022-02-02 09:16:27,808 - kedro.io.data_catalog - INFO - Loading data from `vmm_martins_simple.motion_regression.joined.22639.simulation_accuracy` (JSONDataSet)...\n",
      "2022-02-02 09:16:27,819 - kedro.io.data_catalog - INFO - Loading data from `vmm_martins_simple.force_regression.22639.simulation_accuracy` (JSONDataSet)...\n",
      "2022-02-02 09:16:27,828 - kedro.io.data_catalog - INFO - Loading data from `vmm_martins_simple.motion_regression.joined.22764.simulation_accuracy` (JSONDataSet)...\n",
      "2022-02-02 09:16:27,838 - kedro.io.data_catalog - INFO - Loading data from `vmm_martins_simple.force_regression.22764.simulation_accuracy` (JSONDataSet)...\n",
      "2022-02-02 09:16:27,849 - kedro.io.data_catalog - INFO - Loading data from `vmm_martins_simple.motion_regression.joined.22769.simulation_accuracy` (JSONDataSet)...\n"
     ]
    },
    {
     "name": "stderr",
     "output_type": "stream",
     "text": [
      "E:\\dev\\wPCC_pipeline\\venv\\lib\\site-packages\\ipykernel_launcher.py:22: DeprecationWarning: The default dtype for empty Series will be 'object' instead of 'float64' in a future version. Specify a dtype explicitly to silence this warning.\n"
     ]
    },
    {
     "name": "stdout",
     "output_type": "stream",
     "text": [
      "2022-02-02 09:16:27,859 - kedro.io.data_catalog - INFO - Loading data from `vmm_martins_simple.force_regression.22769.simulation_accuracy` (JSONDataSet)...\n",
      "2022-02-02 09:16:27,870 - kedro.io.data_catalog - INFO - Loading data from `vmm_martins_simple.motion_regression.joined.22770.simulation_accuracy` (JSONDataSet)...\n",
      "2022-02-02 09:16:27,880 - kedro.io.data_catalog - INFO - Loading data from `vmm_martins_simple.force_regression.22770.simulation_accuracy` (JSONDataSet)...\n",
      "2022-02-02 09:16:27,889 - kedro.io.data_catalog - INFO - Loading data from `vmm_martins_simple.motion_regression.joined.22771.simulation_accuracy` (JSONDataSet)...\n",
      "2022-02-02 09:16:27,900 - kedro.io.data_catalog - INFO - Loading data from `vmm_martins_simple.force_regression.22771.simulation_accuracy` (JSONDataSet)...\n",
      "2022-02-02 09:16:27,910 - kedro.io.data_catalog - INFO - Loading data from `vmm_martins_simple.motion_regression.joined.22772.simulation_accuracy` (JSONDataSet)...\n",
      "2022-02-02 09:16:27,919 - kedro.io.data_catalog - INFO - Loading data from `vmm_martins_simple.force_regression.22772.simulation_accuracy` (JSONDataSet)...\n",
      "2022-02-02 09:16:27,929 - kedro.io.data_catalog - INFO - Loading data from `vmm_martins_simple.motion_regression.joined.22773.simulation_accuracy` (JSONDataSet)...\n",
      "2022-02-02 09:16:27,940 - kedro.io.data_catalog - INFO - Loading data from `vmm_martins_simple.force_regression.22773.simulation_accuracy` (JSONDataSet)...\n",
      "2022-02-02 09:16:27,949 - kedro.io.data_catalog - INFO - Loading data from `vmm_martins_simple.motion_regression.joined.22774.simulation_accuracy` (JSONDataSet)...\n",
      "2022-02-02 09:16:27,960 - kedro.io.data_catalog - INFO - Loading data from `vmm_martins_simple.force_regression.22774.simulation_accuracy` (JSONDataSet)...\n"
     ]
    }
   ],
   "source": [
    "df_accuracies = load_joined()"
   ]
  },
  {
   "cell_type": "code",
   "execution_count": 5,
   "id": "03bf2ba4-c222-429c-905d-e6846e7cfe89",
   "metadata": {
    "tags": [
     "remove-cell"
    ]
   },
   "outputs": [
    {
     "data": {
      "text/html": [
       "<div>\n",
       "<style scoped>\n",
       "    .dataframe tbody tr th:only-of-type {\n",
       "        vertical-align: middle;\n",
       "    }\n",
       "\n",
       "    .dataframe tbody tr th {\n",
       "        vertical-align: top;\n",
       "    }\n",
       "\n",
       "    .dataframe thead th {\n",
       "        text-align: right;\n",
       "    }\n",
       "</style>\n",
       "<table border=\"1\" class=\"dataframe\">\n",
       "  <thead>\n",
       "    <tr style=\"text-align: right;\">\n",
       "      <th></th>\n",
       "      <th></th>\n",
       "      <th>x0</th>\n",
       "      <th>y0</th>\n",
       "      <th>psi</th>\n",
       "      <th>total</th>\n",
       "    </tr>\n",
       "    <tr>\n",
       "      <th>vmm</th>\n",
       "      <th>regression</th>\n",
       "      <th></th>\n",
       "      <th></th>\n",
       "      <th></th>\n",
       "      <th></th>\n",
       "    </tr>\n",
       "  </thead>\n",
       "  <tbody>\n",
       "    <tr>\n",
       "      <th>vmm_martin</th>\n",
       "      <th>motion_regression</th>\n",
       "      <td>0.178967</td>\n",
       "      <td>0.122198</td>\n",
       "      <td>0.011028</td>\n",
       "      <td>0.104064</td>\n",
       "    </tr>\n",
       "    <tr>\n",
       "      <th>vmm_martins_simple</th>\n",
       "      <th>force_regression</th>\n",
       "      <td>0.676050</td>\n",
       "      <td>1.014116</td>\n",
       "      <td>0.139280</td>\n",
       "      <td>0.609815</td>\n",
       "    </tr>\n",
       "    <tr>\n",
       "      <th>vmm_linear</th>\n",
       "      <th>motion_regression</th>\n",
       "      <td>1.280069</td>\n",
       "      <td>0.540236</td>\n",
       "      <td>0.031756</td>\n",
       "      <td>0.617354</td>\n",
       "    </tr>\n",
       "    <tr>\n",
       "      <th>vmm_martins_simple</th>\n",
       "      <th>motion_regression</th>\n",
       "      <td>1.570262</td>\n",
       "      <td>0.772468</td>\n",
       "      <td>0.097652</td>\n",
       "      <td>0.813461</td>\n",
       "    </tr>\n",
       "    <tr>\n",
       "      <th>vmm_martin</th>\n",
       "      <th>force_regression</th>\n",
       "      <td>1.988427</td>\n",
       "      <td>1.678367</td>\n",
       "      <td>0.195947</td>\n",
       "      <td>1.287580</td>\n",
       "    </tr>\n",
       "    <tr>\n",
       "      <th>vmm_linear</th>\n",
       "      <th>force_regression</th>\n",
       "      <td>7.408203</td>\n",
       "      <td>1.307416</td>\n",
       "      <td>0.222315</td>\n",
       "      <td>2.979311</td>\n",
       "    </tr>\n",
       "  </tbody>\n",
       "</table>\n",
       "</div>"
      ],
      "text/plain": [
       "                                            x0        y0       psi     total\n",
       "vmm                regression                                               \n",
       "vmm_martin         motion_regression  0.178967  0.122198  0.011028  0.104064\n",
       "vmm_martins_simple force_regression   0.676050  1.014116  0.139280  0.609815\n",
       "vmm_linear         motion_regression  1.280069  0.540236  0.031756  0.617354\n",
       "vmm_martins_simple motion_regression  1.570262  0.772468  0.097652  0.813461\n",
       "vmm_martin         force_regression   1.988427  1.678367  0.195947  1.287580\n",
       "vmm_linear         force_regression   7.408203  1.307416  0.222315  2.979311"
      ]
     },
     "execution_count": 5,
     "metadata": {},
     "output_type": "execute_result"
    }
   ],
   "source": [
    "df_compare = df_accuracies.groupby(by=['vmm','regression']).mean().sort_values(by='total', ascending=True)\n",
    "df_compare"
   ]
  },
  {
   "cell_type": "code",
   "execution_count": 6,
   "id": "2bbdc747-dfcd-47b6-a253-61b73fe6334d",
   "metadata": {
    "tags": [
     "remove-input"
    ]
   },
   "outputs": [
    {
     "data": {
      "image/png": "[encoded data removed]",
      "text/plain": [
       "<Figure size 1080x288 with 1 Axes>"
      ]
     },
     "metadata": {
      "needs_background": "light"
     },
     "output_type": "display_data"
    }
   ],
   "source": [
    "df_compare.reset_index().pivot(index=['vmm'], columns=['regression'], values='total').plot.bar();"
   ]
  }
 ],
 "metadata": {
  "kernelspec": {
   "display_name": "wPCC_pipeline",
   "language": "python",
   "name": "python3"
  },
  "language_info": {
   "codemirror_mode": {
    "name": "ipython",
    "version": 3
   },
   "file_extension": ".py",
   "mimetype": "text/x-python",
   "name": "python",
   "nbconvert_exporter": "python",
   "pygments_lexer": "ipython3",
   "version": "3.7.9"
  }
 },
 "nbformat": 4,
 "nbformat_minor": 5
}
