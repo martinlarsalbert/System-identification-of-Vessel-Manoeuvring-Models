{
 "cells": [
  {
   "cell_type": "markdown",
   "id": "61281317-7ace-4055-a894-3b0bc69d8d65",
   "metadata": {},
   "source": [
    "# Inverse dynamics\n",
    "Each manoeuvring model has some hydrodynamic functions $X_D(u,v,r,\\delta,thrust)$, $Y_D(u,v,r,\\delta,thrust)$, $N_D(u,v,r,\\delta,thrust)$ that are defined as polynomials. \n",
    "\n",
    "The hydrodynamic derivatives in these polynomials can be identified with **force regression** of measured forces and moments. The measured forces and moments are usually taken from captive model tests or Virtual Captive Tests (VCT) being the virtual version of captive tests calculated with Computational Fluid Dynamics (CFD). \n",
    "\n",
    "When the ship or ship model is free in all degrees of freedome, as in the present model tests, only motions can be observed however. The forces and moments that generated the motions needs to be estimated by solving the inverse dynamics problem and doing a **motion regression**. "
   ]
  },
  {
   "cell_type": "code",
   "execution_count": 1,
   "id": "10b85afd-3cff-414a-b9e2-ffcbe35f91cf",
   "metadata": {
    "tags": [
     "remove-input",
     "remove-cell"
    ]
   },
   "outputs": [
    {
     "name": "stdout",
     "output_type": "stream",
     "text": [
      "2022-02-01 08:43:29,853 - kedro.framework.session.store - INFO - `read()` not implemented for `SQLiteStore`. Assuming empty store.\n",
      "2022-02-01 08:43:30,844 - root - INFO - ** Kedro project wPCC_pipeline\n",
      "2022-02-01 08:43:30,844 - root - INFO - Defined global variable `context`, `session`, `catalog` and `pipelines`\n",
      "2022-02-01 08:43:30,859 - root - INFO - Registered line magic `run_viz`\n"
     ]
    },
    {
     "name": "stderr",
     "output_type": "stream",
     "text": [
      "e:\\dev\\wpcc\\src\\symbols.py:97: DeprecationWarning: invalid escape sequence \\d\n",
      "  x_0, x_01d = sp.symbols(\"x_0 \\dot{x_0}\")\n",
      "e:\\dev\\wpcc\\src\\symbols.py:98: DeprecationWarning: invalid escape sequence \\d\n",
      "  y_0, y_01d = sp.symbols(\"y_0 \\dot{y_0}\")\n",
      "e:\\dev\\wpcc\\src\\symbols.py:99: DeprecationWarning: invalid escape sequence \\P\n",
      "  psi, psi1d = sp.symbols(\"\\Psi \\dot{\\Psi}\")\n",
      "E:\\dev\\wPCC_pipeline\\venv\\lib\\site-packages\\sklearn\\utils\\deprecation.py:87: FutureWarning: Function get_feature_names is deprecated; get_feature_names is deprecated in 1.0 and will be removed in 1.2. Please use get_feature_names_out instead.\n",
      "  warnings.warn(msg, category=FutureWarning)\n",
      "E:\\dev\\wPCC_pipeline\\venv\\lib\\site-packages\\mlflow\\types\\schema.py:49: DeprecationWarning: `np.object` is a deprecated alias for the builtin `object`. To silence this warning, use `object` by itself. Doing this will not modify any behavior and is safe. \n",
      "Deprecated in NumPy 1.20; for more details and guidance: https://numpy.org/devdocs/release/1.20.0-notes.html#deprecations\n",
      "  binary = (7, np.dtype(\"bytes\"), \"BinaryType\", np.object)\n"
     ]
    }
   ],
   "source": [
    "# %load imports.py\n",
    "%load_ext autoreload\n",
    "%autoreload 2\n",
    "%reload_kedro\n",
    "%config Completer.use_jedi = False  ## (To fix autocomplete)\n",
    "\n",
    "import pandas as pd\n",
    "from src.models.vmm import ModelSimulator\n",
    "import matplotlib.pyplot as plt\n",
    "from src.visualization.plot import track_plots, plot, captive_plot\n",
    "import kedro\n",
    "import numpy as np\n",
    "import os.path\n",
    "import anyconfig\n",
    "\n",
    "import matplotlib\n",
    "matplotlib.rcParams[\"figure.figsize\"] = (15,4)\n",
    "\n",
    "from myst_nb import glue\n",
    "from src.symbols import *\n",
    "import src.symbols as symbols\n",
    "from src.system_equations import *\n",
    "\n",
    "from IPython.display import display, Math, Latex, Markdown\n",
    "from sympy.physics.vector.printing import vpprint, vlatex\n",
    "\n",
    "from src.parameters import df_parameters\n",
    "p = df_parameters[\"symbol\"]\n",
    "\n",
    "# Read configs:\n",
    "conf_path = os.path.join(\"../../conf/base/\")\n",
    "runs_globals_path = os.path.join(\n",
    "    conf_path,\n",
    "    \"runs_globals.yml\",\n",
    ")\n",
    "\n",
    "runs_globals = anyconfig.load(runs_globals_path)\n",
    "model_test_ids = runs_globals[\"model_test_ids\"]\n",
    "\n",
    "join_globals_path = os.path.join(\n",
    "    conf_path,\n",
    "    \"join_globals.yml\",\n",
    ")\n",
    "\n",
    "joins = runs_globals[\"joins\"]\n",
    "join_runs_dict = anyconfig.load(join_globals_path)\n",
    "\n",
    "globals_path = os.path.join(\n",
    "    conf_path,\n",
    "    \"globals.yml\",\n",
    ")\n",
    "global_variables = anyconfig.load(globals_path)\n",
    "\n",
    "\n",
    "\n",
    "vmms = global_variables[\"vmms\"]\n",
    "only_joined = global_variables[\n",
    "    \"only_joined\"\n",
    "]  # (regress/predict with only models from joined runs)S"
   ]
  },
  {
   "cell_type": "code",
   "execution_count": 2,
   "id": "0e43cb20-7f02-40b9-8327-2cb21696ff38",
   "metadata": {
    "tags": [
     "remove-input",
     "remove-cell"
    ]
   },
   "outputs": [],
   "source": [
    "from src.models.vmm_martin import martins_model\n",
    "from sympy import MatrixSymbol\n",
    "from src.models.regression import MotionRegression"
   ]
  },
  {
   "cell_type": "code",
   "execution_count": 3,
   "id": "3a4015b2-0b0d-457b-b203-db170e6a2183",
   "metadata": {
    "tags": [
     "remove-input",
     "remove-cell"
    ]
   },
   "outputs": [
    {
     "name": "stdout",
     "output_type": "stream",
     "text": [
      "2022-02-01 08:43:37,587 - kedro.io.data_catalog - INFO - Loading data from `22774.data_ek_smooth` (CSVDataSet)...\n",
      "2022-02-01 08:43:37,633 - kedro.io.data_catalog - INFO - Loading data from `added_masses` (YAMLDataSet)...\n",
      "2022-02-01 08:43:37,635 - kedro.io.data_catalog - INFO - Loading data from `ship_data` (YAMLDataSet)...\n"
     ]
    },
    {
     "name": "stderr",
     "output_type": "stream",
     "text": [
      "e:\\dev\\wpcc\\src\\models\\regression.py:103: DeprecationWarning: The default dtype for empty Series will be 'object' instead of 'float64' in a future version. Specify a dtype explicitly to silence this warning.\n",
      "  self.exclude_parameters = pd.Series(exclude_parameters)\n",
      "<string>:2: VisibleDeprecationWarning: Creating an ndarray from ragged nested sequences (which is a list-or-tuple of lists-or-tuples-or ndarrays with different lengths or shapes) is deprecated. If you meant to do this, you must specify 'dtype=object' when creating the ndarray.\n"
     ]
    }
   ],
   "source": [
    "id = 22774\n",
    "df = catalog.load(f\"{ id }.data_ek_smooth\")\n",
    "added_masses = catalog.load(\"added_masses\")\n",
    "ship_parameters = catalog.load(\"ship_data\")\n",
    "\n",
    "regression = MotionRegression(vmm=martins_model, \n",
    "                              data=df, \n",
    "                              added_masses=added_masses, \n",
    "                              ship_parameters=ship_parameters)"
   ]
  },
  {
   "cell_type": "markdown",
   "id": "0f62c9f5-fc1b-427d-b310-7687f50122ef",
   "metadata": {},
   "source": [
    "Finding the the hydrodynamic derivatives can be defined as a linear regression problem:\n",
    "\n",
    "$$ y = X \\beta + \\epsilon $$\n",
    "\n",
    "for the case with $n$ data points an $N$ features $y$ is an $[n * 1]$ output vector (label), $X$ is $[n * N]$ input matrix (features) and $\\beta$ is a $[N * 1]$ vector with the regressed coefficients. \n",
    "\n",
    "A linear regression can be defined for each of the degrees of freedomes, giving three regressions with feature matrices, replacing $X$ with : $X_X$, $X_Y$, $X_N$ and coefficient vectors, replacing $\\beta$ with: $A_{coeff}$, $B_{coeff}$, $C_{coeff}$.\n"
   ]
  },
  {
   "cell_type": "code",
   "execution_count": 24,
   "id": "c42c3051-e4d2-4321-9ae3-cec025e7c2b7",
   "metadata": {
    "tags": [
     "remove-input"
    ]
   },
   "outputs": [
    {
     "data": {
      "text/latex": [
       "$\\displaystyle \\dot{u} = \\epsilon + X_{X} A_{coeff}$"
      ],
      "text/plain": [
       "Eq(\\dot{u}, epsilon + X_X*A_coeff)"
      ]
     },
     "metadata": {},
     "output_type": "display_data"
    },
    {
     "data": {
      "text/latex": [
       "$\\displaystyle \\dot{v} = \\epsilon + X_{Y} B_{coeff}$"
      ],
      "text/plain": [
       "Eq(\\dot{v}, epsilon + X_Y*B_coeff)"
      ]
     },
     "metadata": {},
     "output_type": "display_data"
    },
    {
     "data": {
      "text/latex": [
       "$\\displaystyle \\dot{r} = \\epsilon + X_{N} C_{coeff}$"
      ],
      "text/plain": [
       "Eq(\\dot{r}, epsilon + X_N*C_coeff)"
      ]
     },
     "metadata": {},
     "output_type": "display_data"
    }
   ],
   "source": [
    "epsilon = sp.symbols('epsilon')\n",
    "\n",
    "eq_regression_u1d = sp.Eq(u1d, sp.UnevaluatedExpr(X_X*A_coeff) + epsilon)\n",
    "eq_regression_v1d = sp.Eq(v1d, sp.UnevaluatedExpr(X_Y*B_coeff) + epsilon)\n",
    "eq_regression_r1d = sp.Eq(r1d, sp.UnevaluatedExpr(X_N*C_coeff) + epsilon)\n",
    "display(eq_regression_u1d)\n",
    "display(eq_regression_v1d)\n",
    "display(eq_regression_r1d)\n"
   ]
  },
  {
   "cell_type": "markdown",
   "id": "3b25e7b0-b55f-422d-b36b-1f78666f863e",
   "metadata": {},
   "source": [
    "The right hand side of the system equation can also be expressed in matrix form:"
   ]
  },
  {
   "cell_type": "code",
   "execution_count": 62,
   "id": "66be5849-68fa-4465-b804-764ec101b185",
   "metadata": {
    "tags": [
     "remove-input"
    ]
   },
   "outputs": [
    {
     "data": {
      "text/latex": [
       "$\\displaystyle X_{X} X_{qs } = m r^{2} x_{G} + m r v + \\operatorname{X_{D}}{\\left(u,v,r,\\delta,thrust \\right)}$"
      ],
      "text/plain": [
       "Eq(X_X*X_qs_, m*r**2*x_G + m*r*v + X_D(u, v, r, delta, thrust))"
      ]
     },
     "metadata": {},
     "output_type": "display_data"
    },
    {
     "data": {
      "text/latex": [
       "$\\displaystyle X_{Y} Y_{qs } = - m r u + \\operatorname{Y_{D}}{\\left(u,v,r,\\delta,thrust \\right)}$"
      ],
      "text/plain": [
       "Eq(X_Y*Y_qs_, -m*r*u + Y_D(u, v, r, delta, thrust))"
      ]
     },
     "metadata": {},
     "output_type": "display_data"
    },
    {
     "data": {
      "text/latex": [
       "$\\displaystyle X_{N} N_{qs } = - m r u x_{G} + \\operatorname{N_{D}}{\\left(u,v,r,\\delta,thrust \\right)}$"
      ],
      "text/plain": [
       "Eq(X_N*N_qs_, -m*r*u*x_G + N_D(u, v, r, delta, thrust))"
      ]
     },
     "metadata": {},
     "output_type": "display_data"
    }
   ],
   "source": [
    "X_qs_ = MatrixSymbol(\"X_qs_\", N, 1)\n",
    "eq_Xqs =  sp.Eq(sp.UnevaluatedExpr(X_X*X_qs_), eq_system.rhs.doit()[0])\n",
    "\n",
    "Y_qs_ = MatrixSymbol(\"Y_qs_\", N, 1)\n",
    "eq_Yqs =  sp.Eq(sp.UnevaluatedExpr(X_Y*Y_qs_), eq_system.rhs.doit()[1])\n",
    "\n",
    "N_qs_ = MatrixSymbol(\"N_qs_\", N, 1)\n",
    "eq_Nqs =  sp.Eq(sp.UnevaluatedExpr(X_N*N_qs_), eq_system.rhs.doit()[2])\n",
    "\n",
    "display(eq_Xqs)\n",
    "display(eq_Yqs)\n",
    "display(eq_Nqs)\n"
   ]
  },
  {
   "cell_type": "markdown",
   "id": "d7709571-f1fd-4ff9-9d19-1e09ce02885a",
   "metadata": {},
   "source": [
    "The system equation can now be expressed in pure matrix form:"
   ]
  },
  {
   "cell_type": "code",
   "execution_count": 86,
   "id": "d400e492-7caa-41ea-824e-c0360e07153a",
   "metadata": {
    "tags": [
     "remove-input"
    ]
   },
   "outputs": [
    {
     "data": {
      "text/latex": [
       "$\\displaystyle \\left[\\begin{matrix}- X_{\\dot{u}} + m & 0 & 0\\\\0 & - Y_{\\dot{v}} + m & - Y_{\\dot{r}} + m x_{G}\\\\0 & - N_{\\dot{v}} + m x_{G} & I_{z} - N_{\\dot{r}}\\end{matrix}\\right] \\left[\\begin{matrix}A_{coeff}^{T} X_{X}^{T}\\\\B_{coeff}^{T} X_{Y}^{T}\\\\C_{coeff}^{T} X_{N}^{T}\\end{matrix}\\right] = \\left[\\begin{matrix}X_{qs }^{T} X_{X}^{T}\\\\Y_{qs }^{T} X_{Y}^{T}\\\\N_{qs }^{T} X_{N}^{T}\\end{matrix}\\right]$"
      ],
      "text/plain": [
       "Eq(Matrix([\n",
       "[-X_{\\dot{u}} + m,                    0,                    0],\n",
       "[               0,     -Y_{\\dot{v}} + m, -Y_{\\dot{r}} + m*x_G],\n",
       "[               0, -N_{\\dot{v}} + m*x_G,    I_z - N_{\\dot{r}}]])*Matrix([\n",
       "[A_coeff.T*X_X.T],\n",
       "[B_coeff.T*X_Y.T],\n",
       "[C_coeff.T*X_N.T]]), Matrix([\n",
       "[X_qs_.T*X_X.T],\n",
       "[Y_qs_.T*X_Y.T],\n",
       "[N_qs_.T*X_N.T]]))"
      ]
     },
     "execution_count": 86,
     "metadata": {},
     "output_type": "execute_result"
    }
   ],
   "source": [
    "eq_decoupling =  eq_system.subs([\n",
    "    (u1d,(X_X*A_coeff).transpose()),\n",
    "    (v1d,(X_Y*B_coeff).transpose()),\n",
    "    (r1d,(X_N*C_coeff).transpose()),\n",
    "    \n",
    "    (eq_Xqs.rhs,eq_Xqs.lhs.doit().transpose()),\n",
    "    (eq_Yqs.rhs,eq_Yqs.lhs.doit().transpose()),\n",
    "    (eq_Nqs.rhs,eq_Nqs.lhs.doit().transpose()),\n",
    "    \n",
    "])\n",
    "\n",
    "eq_decoupling"
   ]
  },
  {
   "cell_type": "markdown",
   "id": "317897f9-3ceb-4e77-8b27-55a6e4059bba",
   "metadata": {},
   "source": [
    "And the feature matrices dissapear so that the coefficient vectors can be calculates as:"
   ]
  },
  {
   "cell_type": "code",
   "execution_count": 85,
   "id": "1bbaae60-771d-4666-9087-a124ed29e0cc",
   "metadata": {
    "tags": [
     "remove-input"
    ]
   },
   "outputs": [
    {
     "data": {
      "text/latex": [
       "$\\displaystyle \\left[\\begin{matrix}X_{qs }^{T}\\\\Y_{qs }^{T}\\\\N_{qs }^{T}\\end{matrix}\\right] = \\left[\\begin{matrix}- X_{\\dot{u}} + m & 0 & 0\\\\0 & - Y_{\\dot{v}} + m & - Y_{\\dot{r}} + m x_{G}\\\\0 & - N_{\\dot{v}} + m x_{G} & I_{z} - N_{\\dot{r}}\\end{matrix}\\right] \\left[\\begin{matrix}A_{coeff}^{T}\\\\B_{coeff}^{T}\\\\C_{coeff}^{T}\\end{matrix}\\right]$"
      ],
      "text/plain": [
       "Eq(Matrix([\n",
       "[X_qs_.T],\n",
       "[Y_qs_.T],\n",
       "[N_qs_.T]]), Matrix([\n",
       "[-X_{\\dot{u}} + m,                    0,                    0],\n",
       "[               0,     -Y_{\\dot{v}} + m, -Y_{\\dot{r}} + m*x_G],\n",
       "[               0, -N_{\\dot{v}} + m*x_G,    I_z - N_{\\dot{r}}]])*Matrix([\n",
       "[A_coeff.T],\n",
       "[B_coeff.T],\n",
       "[C_coeff.T]]))"
      ]
     },
     "execution_count": 85,
     "metadata": {},
     "output_type": "execute_result"
    }
   ],
   "source": [
    "coeffs = sp.matrices.MutableDenseMatrix([A_coeff.transpose(), \n",
    "                                         B_coeff.transpose(), \n",
    "                                         C_coeff.transpose()])\n",
    "\n",
    "qs = sp.matrices.MutableDenseMatrix([X_qs_.transpose(), \n",
    "                                         Y_qs_.transpose(), \n",
    "                                         N_qs_.transpose()])\n",
    "\n",
    "sp.Eq(sp.UnevaluatedExpr(qs), sp.UnevaluatedExpr(A)*sp.UnevaluatedExpr(coeffs))"
   ]
  },
  {
   "cell_type": "markdown",
   "id": "ea9cc3dc-3f1d-465e-876c-217d0a617567",
   "metadata": {},
   "source": [
    "Note that the decoupled and regressed parameters now also contain the contributions from the coriolis/centrepetal forces, which need to be substracted so that the parameters contain only hydrodyamic contributions. For instance in the X-equation $m \\cdot x_G$ needs to be substracted from $X_{rr}$ and $m$ needs to be subtracted from the $X_{vr}$ derivative.\n",
    "\n",
    "It has been confirmed that regression of the inverse dynamics can be solved with Ordinary Least Squares (OLS) to identidy the hydrodynamic derivatives in a VMM. Identifying the derivatives on simulated data gives a perfect match between the regressed parameters and the real model. This is the case when the model captures the physics perfectly (when there is no process noise $w$) and no measurement noise $\\epsilon$. \n",
    "\n",
    "For real data from model tests or full scale ships this is of course never the case. Handling measurement errors and the fact the VMM used will be a good approximation of the real physics, at best, introduces a lot of challenges. Usually only the position and heading of the ships are measured, which means that the higher order states of velocities and accelerations are usually unknown. This introduces another challenge. Velocities and accelerations from noisy position measurements can be estimated using Extended Kalman Filter and Extended Kalman Smoother which will be introduced in the next section."
   ]
  },
  {
   "cell_type": "code",
   "execution_count": null,
   "id": "2a769b62-c8b6-4103-b08c-72cfc707a9cb",
   "metadata": {},
   "outputs": [],
   "source": []
  }
 ],
 "metadata": {
  "kernelspec": {
   "display_name": "wPCC_pipeline",
   "language": "python",
   "name": "python3"
  },
  "language_info": {
   "codemirror_mode": {
    "name": "ipython",
    "version": 3
   },
   "file_extension": ".py",
   "mimetype": "text/x-python",
   "name": "python",
   "nbconvert_exporter": "python",
   "pygments_lexer": "ipython3",
   "version": "3.7.9"
  }
 },
 "nbformat": 4,
 "nbformat_minor": 5
}
