{
 "cells": [
  {
   "cell_type": "markdown",
   "id": "ecef5b6a-812e-4031-b8a2-473f41761c9b",
   "metadata": {
    "tags": []
   },
   "source": [
    "# Model tests\n",
    "VMM:s will be developed for the reference ship using motion regression based on a series of model tests with a model that is free in six degrees of freedome. A summary of the available model tests is shown in {ref}`tab:df_runs_table`."
   ]
  },
  {
   "cell_type": "code",
   "execution_count": null,
   "id": "ff85e028-443e-4642-b362-8dad70d72fc8",
   "metadata": {
    "tags": [
     "remove-cell"
    ]
   },
   "outputs": [],
   "source": [
    "# %load imports.py\n",
    "%load_ext autoreload\n",
    "%autoreload 2\n",
    "%reload_kedro\n",
    "%config Completer.use_jedi = False  ## (To fix autocomplete)\n",
    "\n",
    "import pandas as pd\n",
    "pd.set_option('display.max_columns', 500)\n",
    "from src.models.vmm import ModelSimulator\n",
    "import matplotlib.pyplot as plt\n",
    "from src.visualization.plot import track_plots, plot, captive_plot\n",
    "import kedro\n",
    "import numpy as np\n",
    "import os.path\n",
    "import anyconfig\n",
    "\n",
    "import matplotlib\n",
    "matplotlib.rcParams[\"figure.figsize\"] = (7,4)\n",
    "plt.style.use('presentation')\n",
    "\n",
    "\n",
    "from myst_nb import glue\n",
    "from src.symbols import *\n",
    "import src.symbols as symbols\n",
    "from src.system_equations import *\n",
    "\n",
    "from IPython.display import display, Math, Latex, Markdown\n",
    "from sympy.physics.vector.printing import vpprint, vlatex\n",
    "\n",
    "from src.parameters import df_parameters\n",
    "p = df_parameters[\"symbol\"]\n",
    "\n",
    "# Read configs:\n",
    "conf_path = os.path.join(\"../../conf/base/\")\n",
    "runs_globals_path = os.path.join(\n",
    "    conf_path,\n",
    "    \"runs_globals.yml\",\n",
    ")\n",
    "\n",
    "runs_globals = anyconfig.load(runs_globals_path)\n",
    "model_test_ids = runs_globals[\"model_test_ids\"]\n",
    "\n",
    "join_globals_path = os.path.join(\n",
    "    conf_path,\n",
    "    \"join_globals.yml\",\n",
    ")\n",
    "\n",
    "joins = runs_globals[\"joins\"]\n",
    "join_runs_dict = anyconfig.load(join_globals_path)\n",
    "\n",
    "globals_path = os.path.join(\n",
    "    conf_path,\n",
    "    \"globals.yml\",\n",
    ")\n",
    "global_variables = anyconfig.load(globals_path)\n",
    "\n",
    "\n",
    "\n",
    "vmms = global_variables[\"vmms\"]\n",
    "only_joined = global_variables[\n",
    "    \"only_joined\"\n",
    "]  # (regress/predict with only models from joined runs)S"
   ]
  },
  {
   "cell_type": "code",
   "execution_count": null,
   "id": "19cdcb39-f023-4f0a-a9ab-ba504de1deea",
   "metadata": {
    "tags": [
     "remove-cell"
    ]
   },
   "outputs": [],
   "source": [
    "ship_data = catalog.load(\"ship_data\")\n",
    "\n",
    "#from wPCC_pipeline.pipelines.preprocess.nodes import track_plot\n",
    "from src.visualization.plot import track_plots, track_plot, plot"
   ]
  },
  {
   "cell_type": "code",
   "execution_count": null,
   "id": "dc541686-9b84-4e7e-9733-0d0c6edd22a3",
   "metadata": {
    "tags": [
     "remove-cell"
    ]
   },
   "outputs": [],
   "source": [
    "dataframes = {}\n",
    "df = pd.DataFrame()\n",
    "\n",
    "for id in model_test_ids:\n",
    "    \n",
    "    df_ = catalog.load(f\"{ id }.raw_data\")\n",
    "    df_['psi+'] = df_['psi'] + np.deg2rad(90)\n",
    "    df_['-y0'] = -df_['y0']\n",
    "    df_['delta_deg'] = np.rad2deg(df_['delta'])\n",
    "    \n",
    "    dataframes[id] = df_\n"
   ]
  },
  {
   "cell_type": "code",
   "execution_count": null,
   "id": "8978813d-959d-4052-9f39-d4fbfc91545b",
   "metadata": {
    "tags": [
     "remove-cell"
    ]
   },
   "outputs": [],
   "source": [
    "df_runs = catalog.load(\"runs_meta_data\")\n",
    "df_runs.index = df_runs.index.astype('str')\n",
    "df_runs = df_runs.loc[model_test_ids].copy()\n",
    "\n",
    "mask = df_runs['test_type'] == 'rodergrundvinkel'\n",
    "df_runs.loc[mask,'test_type'] = 'yaw rate'\n",
    "mask = df_runs['test_type'] != 'zigzag'\n",
    "df_runs.loc[mask,'comment'] = np.NaN\n",
    "mask = ((df_runs['comment'].notnull()) & (df_runs['test_type'] == 'zigzag'))\n",
    "df_runs['angle'] = df_runs.loc[mask,'comment'].apply(lambda x:int(x[3:5]))\n",
    "df_runs['direction'] = df_runs.loc[mask,'comment'].apply(lambda x:x[8:11])\n",
    "\n",
    "df_runs.sort_values(by=['test_type','ship_speed','angle'], inplace=True)\n",
    "\n",
    "df_runs_table = df_runs.rename(columns={'ship_speed':'Initial speed [m/s]','test_type':'type'})\n",
    "df_runs_table = df_runs_table[['Initial speed [m/s]','type','angle','direction']]\n",
    "\n",
    "formatter={'Initial speed [m/s]' : \"{:.2f}\", 'angle' : \"{:.0f}\"}\n",
    "\n",
    "df_runs_table = df_runs_table.style.format(formatter=formatter, na_rep='')\n",
    "\n",
    "glue(\"df_runs_table\", df_runs_table)"
   ]
  },
  {
   "cell_type": "markdown",
   "id": "e8d5864d-e824-41c0-8760-bd1d6d75316c",
   "metadata": {},
   "source": [
    "```{glue:figure} df_runs_table\n",
    ":name: \"tab:df_runs_table\"\n",
    "\n",
    "Model tests\n",
    "```"
   ]
  },
  {
   "cell_type": "code",
   "execution_count": null,
   "id": "959e8d3d-17d8-497d-a97b-358307d5ee93",
   "metadata": {
    "tags": [
     "remove-input"
    ]
   },
   "outputs": [],
   "source": [
    "for test_type, df_ in df_runs.groupby(by=['test_type']):\n",
    "    \n",
    "    dataframes_ = {key:value for key,value in dataframes.items() if key in df_.index}\n",
    "    \n",
    "    if test_type == 'reference speed':\n",
    "        continue\n",
    "    \n",
    "    fig = track_plots(dataframes=dataframes_, lpp=ship_data['L'], beam=ship_data['B'], x_dataset='-y0',\n",
    "    y_dataset='x0', psi_dataset='psi+', plot_boats=True, N=7)\n",
    "    ax = fig.axes\n",
    "    ax.set_title(f\"{test_type}\")\n",
    "    ax.get_legend().set_visible(False)"
   ]
  },
  {
   "cell_type": "code",
   "execution_count": null,
   "id": "f571eff0-775e-4479-9bec-f72a20b435d6",
   "metadata": {},
   "outputs": [],
   "source": []
  }
 ],
 "metadata": {
  "kernelspec": {
   "display_name": "wPCC_pipeline",
   "language": "python",
   "name": "python3"
  },
  "language_info": {
   "codemirror_mode": {
    "name": "ipython",
    "version": 3
   },
   "file_extension": ".py",
   "mimetype": "text/x-python",
   "name": "python",
   "nbconvert_exporter": "python",
   "pygments_lexer": "ipython3",
   "version": "3.7.9"
  }
 },
 "nbformat": 4,
 "nbformat_minor": 5
}
