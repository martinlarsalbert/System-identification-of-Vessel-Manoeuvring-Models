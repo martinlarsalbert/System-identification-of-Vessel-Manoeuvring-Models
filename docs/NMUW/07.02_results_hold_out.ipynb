{
 "cells": [
  {
   "cell_type": "markdown",
   "id": "6418e86e-42ae-4c7f-86a4-79e54753a9ad",
   "metadata": {},
   "source": [
    "# Hold out"
   ]
  },
  {
   "cell_type": "code",
   "execution_count": null,
   "id": "f61db4ca-76c2-4467-b132-45a0781e5cca",
   "metadata": {
    "tags": [
     "remove_cell"
    ]
   },
   "outputs": [],
   "source": [
    "# %load imports.py\n",
    "%load_ext autoreload\n",
    "%autoreload 2\n",
    "%reload_kedro\n",
    "%config Completer.use_jedi = False  ## (To fix autocomplete)\n",
    "\n",
    "import pandas as pd\n",
    "pd.options.display.max_rows = 100\n",
    "from src.models.vmm import ModelSimulator\n",
    "import matplotlib.pyplot as plt\n",
    "import matplotlib\n",
    "#matplotlib.rcParams[\"figure.figsize\"] = (10,10)\n",
    "plt.style.use('presentation')\n",
    "from src.visualization.plot import track_plots, plot, captive_plot\n",
    "import kedro\n",
    "import numpy as np\n",
    "import os.path\n",
    "import anyconfig\n",
    "\n",
    "\n",
    "from myst_nb import glue\n",
    "from src.symbols import *\n",
    "import src.symbols as symbols\n",
    "from src.system_equations import *\n",
    "\n",
    "from IPython.display import display, Math, Latex, Markdown\n",
    "from sympy.physics.vector.printing import vpprint, vlatex\n",
    "\n",
    "from src.models.regression import MotionRegression\n",
    "\n",
    "from src.parameters import df_parameters\n",
    "p = df_parameters[\"symbol\"]\n",
    "\n",
    "# Read configs:\n",
    "conf_path = os.path.join(\"../../conf/base/\")\n",
    "runs_globals_path = os.path.join(\n",
    "    conf_path,\n",
    "    \"runs_globals.yml\",\n",
    ")\n",
    "\n",
    "runs_globals = anyconfig.load(runs_globals_path)\n",
    "model_test_ids = runs_globals[\"model_test_ids\"]\n",
    "\n",
    "join_globals_path = os.path.join(\n",
    "    conf_path,\n",
    "    \"join_globals.yml\",\n",
    ")\n",
    "\n",
    "joins = runs_globals[\"joins\"]\n",
    "join_runs_dict = anyconfig.load(join_globals_path)\n",
    "\n",
    "globals_path = os.path.join(\n",
    "    conf_path,\n",
    "    \"globals.yml\",\n",
    ")\n",
    "global_variables = anyconfig.load(globals_path)\n",
    "\n",
    "\n",
    "\n",
    "vmm_names = global_variables[\"vmms\"]\n",
    "vmm_names.remove('vmm_linear')\n",
    "\n",
    "only_joined = global_variables[\n",
    "    \"only_joined\"\n",
    "]  # (regress/predict with only models from joined runs)S\n",
    "\n",
    "vmms = {}\n",
    "for vmm_name in vmm_names:\n",
    "    \n",
    "    vmms[vmm_name] = catalog.load(vmm_name)\n"
   ]
  },
  {
   "cell_type": "code",
   "execution_count": null,
   "id": "6ce000a3-7ffb-4384-9ded-a1409d3cf323",
   "metadata": {
    "tags": [
     "remove_cell"
    ]
   },
   "outputs": [],
   "source": [
    "id = 22774\n",
    "\n",
    "ship_data = catalog.load(\"ship_data\")\n",
    "data = catalog.load(f\"{ id }.data_ek_smooth\")\n",
    "\n",
    "dataframes = {}\n",
    "styles = {}\n",
    "for vmm_name in vmm_names:\n",
    "    \n",
    "    data_resimulate = catalog.load(f\"{ vmm_name }.motion_regression.no_circle.{ id }.data_resimulate\")\n",
    "    \n",
    "    #index = np.argmax(data_resimulate.isnull().any(axis=1))\n",
    "    if data_resimulate.notnull().all(axis=1).all():\n",
    "        dataframes[vmm_name] = data_resimulate.iloc[0:-7500].copy()\n",
    "    \n",
    "    styles[vmm_name] = {'alpha':0.75}\n",
    "\n",
    "\n",
    "dataframes['model test'] = data.iloc[0:-7500]\n",
    "styles['model test'] = {'style':'k-', 'alpha':1, 'lw':1}"
   ]
  },
  {
   "cell_type": "code",
   "execution_count": null,
   "id": "f11f69b2-7967-4950-9f8c-ac5510bfdc29",
   "metadata": {},
   "outputs": [],
   "source": [
    "fig = track_plots(dataframes, lpp=ship_data['L'], beam=ship_data['B'], plot_boats=True, styles=styles, N=7);\n",
    "fig.axes.set_xlim(-1,17.5)\n",
    "fig.axes.set_ylim(5,25)\n"
   ]
  },
  {
   "cell_type": "code",
   "execution_count": null,
   "id": "ba34874b-6810-4e3b-aa45-8892be8ec765",
   "metadata": {},
   "outputs": [],
   "source": []
  }
 ],
 "metadata": {
  "kernelspec": {
   "display_name": "wPCC_pipeline",
   "language": "python",
   "name": "python3"
  },
  "language_info": {
   "codemirror_mode": {
    "name": "ipython",
    "version": 3
   },
   "file_extension": ".py",
   "mimetype": "text/x-python",
   "name": "python",
   "nbconvert_exporter": "python",
   "pygments_lexer": "ipython3",
   "version": "3.7.9"
  }
 },
 "nbformat": 4,
 "nbformat_minor": 5
}
