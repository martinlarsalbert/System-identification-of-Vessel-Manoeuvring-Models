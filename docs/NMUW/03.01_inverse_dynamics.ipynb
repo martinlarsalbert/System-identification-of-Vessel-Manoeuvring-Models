{
 "cells": [
  {
   "cell_type": "markdown",
   "id": "ae08b6bc-1e9a-43e2-ad1a-85eef04dc6bc",
   "metadata": {},
   "source": [
    "## Inverse dynamics"
   ]
  },
  {
   "cell_type": "code",
   "execution_count": null,
   "id": "45a4c854-c949-4bc3-80cf-d0d78700fb96",
   "metadata": {
    "tags": [
     "remove_cell"
    ]
   },
   "outputs": [],
   "source": [
    "# %load imports.py\n",
    "%load_ext autoreload\n",
    "%autoreload 2\n",
    "%config Completer.use_jedi = False  ## (To fix autocomplete)\n",
    "\n",
    "import pandas as pd\n",
    "from src.models.vmm import ModelSimulator\n",
    "import matplotlib.pyplot as plt\n",
    "import matplotlib\n",
    "plt.style.use('presentation')\n",
    "matplotlib.rcParams[\"xtick.labelsize\"] = 16\n",
    "from src.visualization.plot import track_plots, plot, captive_plot\n",
    "import kedro\n",
    "import numpy as np\n",
    "import os.path\n",
    "import anyconfig\n",
    "\n",
    "\n",
    "from myst_nb import glue\n",
    "from src.symbols import *\n",
    "import src.symbols as symbols\n",
    "from src.system_equations import *\n",
    "\n",
    "from IPython.display import display, Math, Latex, Markdown\n",
    "from sympy.physics.vector.printing import vpprint, vlatex\n",
    "\n",
    "from src.models.regression import MotionRegression, Regression\n",
    "\n",
    "from src.parameters import df_parameters\n",
    "from src.substitute_dynamic_symbols import run\n",
    "from src.models.diff_eq_to_matrix import DiffEqToMatrix\n",
    "p = df_parameters[\"symbol\"]\n",
    "import statsmodels.api as sm\n",
    "\n",
    "from src.models.force_from_motion import predict_force\n",
    "\n",
    "# Read configs:\n",
    "conf_path = os.path.join(\"../../conf/base/\")\n",
    "runs_globals_path = os.path.join(\n",
    "    conf_path,\n",
    "    \"runs_globals.yml\",\n",
    ")\n",
    "\n",
    "runs_globals = anyconfig.load(runs_globals_path)\n",
    "model_test_ids = runs_globals[\"model_test_ids\"]\n",
    "\n",
    "join_globals_path = os.path.join(\n",
    "    conf_path,\n",
    "    \"join_globals.yml\",\n",
    ")\n",
    "\n",
    "joins = runs_globals[\"joins\"]\n",
    "join_runs_dict = anyconfig.load(join_globals_path)\n",
    "\n",
    "globals_path = os.path.join(\n",
    "    conf_path,\n",
    "    \"globals.yml\",\n",
    ")\n",
    "global_variables = anyconfig.load(globals_path)\n",
    "\n",
    "\n",
    "\n",
    "vmm_names = global_variables[\"vmms\"]\n",
    "only_joined = global_variables[\n",
    "    \"only_joined\"\n",
    "]  # (regress/predict with only models from joined runs)S\n",
    "\n",
    "vmms = {}\n",
    "for vmm_name in vmm_names:\n",
    "    vmms[vmm_name] = catalog.load(vmm_name)\n"
   ]
  },
  {
   "cell_type": "code",
   "execution_count": null,
   "id": "7a64e8cd-e6f5-4adf-b562-9bb95e0ff1da",
   "metadata": {
    "tags": [
     "remove_cell"
    ]
   },
   "outputs": [],
   "source": [
    "%reload_kedro\n",
    "vmm_name = 'vmm_martins_simple'\n",
    "vmm = vmms[vmm_name]\n",
    "data = pd.read_csv('example.csv', index_col=0)\n",
    "added_masses = catalog.load(\"added_masses\")\n",
    "model = catalog.load(f\"{ vmm_name}.motion_regression.joined.model\")\n",
    "initial_parameters = catalog.load(\"initial_parameters\")\n",
    "model.parameters=initial_parameters\n",
    "ship_data = catalog.load(\"ship_data\")\n"
   ]
  },
  {
   "cell_type": "code",
   "execution_count": null,
   "id": "0e7e6e84-9635-47a8-8bd2-ea740f8e7709",
   "metadata": {
    "tags": [
     "remove_input"
    ]
   },
   "outputs": [],
   "source": [
    "eq_system"
   ]
  },
  {
   "cell_type": "code",
   "execution_count": null,
   "id": "99796bc3-d3e7-4d76-9c62-4dd5dd97ee19",
   "metadata": {
    "tags": [
     "remove_input"
    ]
   },
   "outputs": [],
   "source": [
    "solution = sp.solve(eq_system.doit(),X_D,Y_D,N_D, dict=True)[0]\n",
    "\n",
    "eq_XD = sp.Eq(X_D, solution[X_D])\n",
    "eq_YD = sp.Eq(Y_D, solution[Y_D])\n",
    "eq_ND = sp.Eq(N_D, solution[N_D])\n",
    "\n",
    "display(eq_XD)\n",
    "display(eq_YD)\n",
    "display(eq_ND)\n",
    "\n"
   ]
  },
  {
   "cell_type": "code",
   "execution_count": null,
   "id": "bd9b5bfc-727f-4e6a-ba4f-37a27efda03c",
   "metadata": {},
   "outputs": [],
   "source": [
    "vmm.X_eq"
   ]
  },
  {
   "cell_type": "code",
   "execution_count": null,
   "id": "de7510bf-80d0-4ac8-a9ab-7e3cfdb8cd22",
   "metadata": {
    "tags": [
     "remove_input"
    ]
   },
   "outputs": [],
   "source": [
    "display(vmm.X_qs_eq)\n",
    "display(vmm.Y_qs_eq)\n",
    "display(vmm.N_qs_eq)\n"
   ]
  },
  {
   "cell_type": "code",
   "execution_count": null,
   "id": "b13f0a49-a260-4ebf-8f20-e5f38bcaa253",
   "metadata": {
    "tags": [
     "remove_cell"
    ]
   },
   "outputs": [],
   "source": [
    "subs = [(value, key ) for key,value in p.items()]\n",
    "subs.append((u1d,'u1d'))\n",
    "subs.append((v1d,'v1d'))\n",
    "subs.append((r1d,'r1d'))\n",
    "\n",
    "eq = eq_XD.subs(subs)\n",
    "lambda_X_D = sp.lambdify(list(eq.rhs.free_symbols), eq.rhs)\n",
    "\n",
    "eq = eq_YD.subs(subs)\n",
    "lambda_Y_D = sp.lambdify(list(eq.rhs.free_symbols), eq.rhs)\n",
    "\n",
    "eq = eq_ND.subs(subs)\n",
    "lambda_N_D = sp.lambdify(list(eq.rhs.free_symbols), eq.rhs)"
   ]
  },
  {
   "cell_type": "code",
   "execution_count": null,
   "id": "5330193e-0186-40d3-a437-dc7fdc22b0e9",
   "metadata": {
    "tags": [
     "remove_cell"
    ]
   },
   "outputs": [],
   "source": [
    "df_captive = data.copy()\n",
    "df_captive_prime = model.prime_system.prime(df_captive, U=data['U'])\n",
    "\n",
    "df_captive_prime['fx'] = run(lambda_X_D, \n",
    "                             inputs=df_captive_prime, \n",
    "                             **model.ship_parameters_prime, \n",
    "                             **added_masses)\n",
    "\n",
    "df_captive_prime['fy'] = run(lambda_Y_D, \n",
    "                             inputs=df_captive_prime, \n",
    "                             **model.ship_parameters_prime, \n",
    "                             **added_masses)\n",
    "\n",
    "df_captive_prime['mz'] = run(lambda_N_D, \n",
    "                             inputs=df_captive_prime, \n",
    "                             **model.ship_parameters_prime, \n",
    "                             **added_masses)\n"
   ]
  },
  {
   "cell_type": "code",
   "execution_count": null,
   "id": "cf898628-05a6-4a49-8d25-b1564014d96a",
   "metadata": {},
   "outputs": [],
   "source": [
    "import src.models.vmm_martin_simple\n",
    "vmm = src.models.vmm_martin_simple.martins_simple_model\n",
    "df_captive2 = predict_force(vmm=vmm, data=data, added_masses=added_masses, ship_parameters=ship_data)\n",
    "df_captive2_prime = model.prime_system.prime(df_captive2, U=df_captive2['U'])\n"
   ]
  },
  {
   "cell_type": "code",
   "execution_count": null,
   "id": "77b75c14-1fed-4b7b-a83c-f182a82259cb",
   "metadata": {},
   "outputs": [],
   "source": [
    "df_captive_prime"
   ]
  },
  {
   "cell_type": "code",
   "execution_count": null,
   "id": "99588c4a-43c6-4196-a544-f495b9e532d1",
   "metadata": {},
   "outputs": [],
   "source": [
    "df_captive2_prime"
   ]
  },
  {
   "cell_type": "code",
   "execution_count": null,
   "id": "37b99de9-cdbc-4ddf-a416-19e15e8ed0cb",
   "metadata": {
    "tags": [
     "remove_cell"
    ]
   },
   "outputs": [],
   "source": [
    "Y_D_ = sp.symbols('Y_D')\n",
    "eq = vmm.Y_qs_eq.subs(Y_D,Y_D_)\n",
    "diff_eq_Y = DiffEqToMatrix(eq, label=Y_D_, base_features=[u,v,r,delta,thrust])\n",
    "\n",
    "X_Y,y_Y = diff_eq_Y.calculate_features_and_label(data=df_captive_prime, y=df_captive_prime['fy'])\n",
    "\n",
    "model_Y = sm.OLS(y_Y, X_Y)\n",
    "result_Y = model_Y.fit()"
   ]
  },
  {
   "cell_type": "code",
   "execution_count": null,
   "id": "a1620c7b-8bb2-4215-8d4d-e7da96af6240",
   "metadata": {
    "tags": [
     "remove_cell"
    ]
   },
   "outputs": [],
   "source": [
    "N_D_ = sp.symbols('N_D')\n",
    "eq = vmm.N_qs_eq.subs(N_D,N_D_)\n",
    "diff_eq_N = DiffEqToMatrix(eq, label=N_D_, base_features=[u,v,r,delta,thrust])\n",
    "\n",
    "X_N,y_N = diff_eq_N.calculate_features_and_label(data=df_captive_prime, y=df_captive_prime['mz'])\n",
    "\n",
    "model_N = sm.OLS(y_N, X_N)\n",
    "result_N = model_N.fit()"
   ]
  },
  {
   "cell_type": "code",
   "execution_count": null,
   "id": "c1556c2c-ff30-4c78-ac99-93f20d14aec1",
   "metadata": {
    "tags": [
     "remove_cell"
    ]
   },
   "outputs": [],
   "source": [
    "X_D_ = sp.symbols('X_D')\n",
    "eq = vmm.X_qs_eq.subs(X_D,X_D_)\n",
    "diff_eq_X = DiffEqToMatrix(eq, label=X_D_, base_features=[u,v,r,delta,thrust], exclude_parameters={'Xthrust':model.parameters['Xthrust']})\n",
    "\n",
    "X_X,y_X = diff_eq_X.calculate_features_and_label(data=df_captive_prime, y=df_captive_prime['fx'])\n",
    "\n",
    "model_X = sm.OLS(y_X, X_X)\n",
    "result_X = model_X.fit()"
   ]
  },
  {
   "cell_type": "code",
   "execution_count": null,
   "id": "ab2efa14-76d8-4a0d-91a4-c1af146e495d",
   "metadata": {
    "tags": [
     "remove_cell"
    ]
   },
   "outputs": [],
   "source": [
    "df_parameters_X = pd.DataFrame(pd.Series({key:value for key,value in model.parameters.items() if key[0]=='X' and value !=0}, name='real'))\n",
    "df_parameters_X['regression'] = result_X.params\n",
    "df_parameters_X.dropna(inplace=True)\n",
    "df_parameters_X.index = p[df_parameters_X.index].apply(lambda x: \"$%s$\" % str(x).replace('delta',r'\\delta'))\n",
    "df_parameters_X.index.name = ''\n",
    "\n",
    "df_parameters_Y = pd.DataFrame(pd.Series({key:value for key,value in model.parameters.items() if key[0]=='Y' and value !=0}, name='real'))\n",
    "df_parameters_Y['regression'] = result_Y.params\n",
    "df_parameters_Y.dropna(inplace=True)\n",
    "df_parameters_Y.index = p[df_parameters_Y.index].apply(lambda x: \"$%s$\" % str(x).replace('delta',r'\\delta').replace('thrust','T'))\n",
    "df_parameters_Y.index.name = ''\n",
    "\n",
    "\n",
    "\n",
    "df_parameters_N = pd.DataFrame(pd.Series({key:value for key,value in model.parameters.items() if key[0]=='N' and value !=0}, name='real'))\n",
    "df_parameters_N['regression'] = result_N.params\n",
    "df_parameters_N.dropna(inplace=True)\n",
    "df_parameters_N.index = p[df_parameters_N.index].apply(lambda x: \"$%s$\" % str(x).replace('delta',r'\\delta').replace('thrust','T'))\n",
    "df_parameters_N.index.name = ''\n"
   ]
  },
  {
   "cell_type": "code",
   "execution_count": null,
   "id": "936fe4ad-36d9-4275-be9a-574374497653",
   "metadata": {
    "tags": [
     "remove_input"
    ]
   },
   "outputs": [],
   "source": [
    "fig,axes=plt.subplots(ncols=3)\n",
    "ax=axes[0]\n",
    "df_parameters_X.plot.bar(ax=ax)\n",
    "ax=axes[1]\n",
    "df_parameters_Y.plot.bar(ax=ax)\n",
    "ax.get_legend().set_visible(False)\n",
    "ax=axes[2]\n",
    "df_parameters_N.plot.bar(ax=ax)\n",
    "plt.tight_layout()\n",
    "ax.get_legend().set_visible(False)\n"
   ]
  },
  {
   "cell_type": "code",
   "execution_count": null,
   "id": "84fde818-44f5-4bc3-9711-8ad24dc26a7e",
   "metadata": {},
   "outputs": [],
   "source": [
    "df_captive_SI = model.prime_system.unprime(df_captive_prime, U = df_captive['U'])\n",
    "regression = Regression(vmm = vmm, data = df_captive_SI, added_masses=added_masses, ship_parameters=ship_data)"
   ]
  },
  {
   "cell_type": "code",
   "execution_count": null,
   "id": "2454f581-6216-46ec-aa70-1585b510a0b8",
   "metadata": {},
   "outputs": [],
   "source": [
    "regression.model_Y.params"
   ]
  },
  {
   "cell_type": "code",
   "execution_count": null,
   "id": "a515459b-a419-4fed-aa55-aa5e209eaeb6",
   "metadata": {},
   "outputs": [],
   "source": [
    "df_parameters_Y"
   ]
  },
  {
   "cell_type": "code",
   "execution_count": null,
   "id": "ecaf64a0-d51e-43b9-8dff-dd5e597629f7",
   "metadata": {},
   "outputs": [],
   "source": [
    "result_Y.params"
   ]
  },
  {
   "cell_type": "code",
   "execution_count": null,
   "id": "a2381fc1-a807-474c-bec8-d95c778d41de",
   "metadata": {},
   "outputs": [],
   "source": [
    "regression.Y_fancy_label = 'fy'\n",
    "regression.show_pred_Y()"
   ]
  },
  {
   "cell_type": "code",
   "execution_count": null,
   "id": "9c2dc56f-059a-4f35-88d1-c51ff2d6f235",
   "metadata": {},
   "outputs": [],
   "source": [
    "vmm.Y_eq"
   ]
  },
  {
   "cell_type": "code",
   "execution_count": null,
   "id": "6a9a8c35-4727-41e9-8b41-1578ac313003",
   "metadata": {},
   "outputs": [],
   "source": [
    "import src.models.vmm_martin_simple as model\n",
    "from src.nonlinear_vmm_equations import *"
   ]
  },
  {
   "cell_type": "code",
   "execution_count": null,
   "id": "c6f305e9-1f4b-4845-82ac-8186d0d3137c",
   "metadata": {},
   "outputs": [],
   "source": [
    "model.Y_eom"
   ]
  },
  {
   "cell_type": "code",
   "execution_count": null,
   "id": "850abeed-3287-43b3-8a9b-ed50cca72139",
   "metadata": {},
   "outputs": [],
   "source": [
    "fy_eq"
   ]
  },
  {
   "cell_type": "code",
   "execution_count": null,
   "id": "61bf077d-4639-4cc1-835d-7095e3ce096f",
   "metadata": {},
   "outputs": [],
   "source": [
    "eq = model.Y_eom.subs(Y_force,fy_eq.rhs)\n",
    "eq"
   ]
  },
  {
   "cell_type": "code",
   "execution_count": null,
   "id": "167782a3-9e33-4c91-80f5-10be9dc03a90",
   "metadata": {},
   "outputs": [],
   "source": [
    "sp.solve(eq, Y_D)[0]"
   ]
  },
  {
   "cell_type": "code",
   "execution_count": null,
   "id": "aa65bb34-7c33-4127-bb31-a902b10d44b6",
   "metadata": {},
   "outputs": [],
   "source": [
    "vmm.Y_eq"
   ]
  },
  {
   "cell_type": "code",
   "execution_count": null,
   "id": "3296c424-d86d-4993-97a4-140481604d02",
   "metadata": {},
   "outputs": [],
   "source": [
    "states = [u,v,r,delta,thrust]\n",
    "parameters = vmm.X_qs_eq.rhs.free_symbols - set(states)\n",
    "removes = [(parameter,0) for parameter in parameters]\n",
    "eq = vmm.X_eq.subs(removes)\n",
    "eq = sp.Eq(eq.lhs, eq.rhs+X_D)\n",
    "eq"
   ]
  },
  {
   "cell_type": "code",
   "execution_count": null,
   "id": "faec0a45-60aa-40f6-8375-532b683870c7",
   "metadata": {},
   "outputs": [],
   "source": [
    "model.martins_simple_model.X_eq_separated"
   ]
  },
  {
   "cell_type": "code",
   "execution_count": null,
   "id": "4d05c0f0-8ea2-4fe3-9028-194f661538b9",
   "metadata": {},
   "outputs": [],
   "source": [
    "eq"
   ]
  },
  {
   "cell_type": "code",
   "execution_count": null,
   "id": "f1f8d361-15b1-4471-af15-57c442829097",
   "metadata": {},
   "outputs": [],
   "source": [
    "sp.pprint(sp.solve(eq,X_D)[0])"
   ]
  },
  {
   "cell_type": "code",
   "execution_count": null,
   "id": "972cdd1f-e589-4e87-815b-f720a8ff1bee",
   "metadata": {},
   "outputs": [],
   "source": []
  }
 ],
 "metadata": {
  "kernelspec": {
   "display_name": "wPCC_pipeline",
   "language": "python",
   "name": "python3"
  },
  "language_info": {
   "codemirror_mode": {
    "name": "ipython",
    "version": 3
   },
   "file_extension": ".py",
   "mimetype": "text/x-python",
   "name": "python",
   "nbconvert_exporter": "python",
   "pygments_lexer": "ipython3",
   "version": "3.7.9"
  }
 },
 "nbformat": 4,
 "nbformat_minor": 5
}
