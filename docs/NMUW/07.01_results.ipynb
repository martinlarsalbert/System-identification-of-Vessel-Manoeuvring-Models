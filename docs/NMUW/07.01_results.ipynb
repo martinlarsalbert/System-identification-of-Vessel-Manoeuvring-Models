{
 "cells": [
  {
   "cell_type": "markdown",
   "id": "47ab58f2-b9ee-4e28-9698-cea8d086ea5a",
   "metadata": {},
   "source": [
    "# Results"
   ]
  },
  {
   "cell_type": "code",
   "execution_count": null,
   "id": "54c5a072-5888-41f8-8269-cdf1a0c3eb81",
   "metadata": {
    "tags": [
     "remove_cell"
    ]
   },
   "outputs": [],
   "source": [
    "# %load imports.py\n",
    "%load_ext autoreload\n",
    "%autoreload 2\n",
    "%reload_kedro\n",
    "%config Completer.use_jedi = False  ## (To fix autocomplete)\n",
    "\n",
    "import pandas as pd\n",
    "from src.models.vmm import ModelSimulator\n",
    "import matplotlib.pyplot as plt\n",
    "import matplotlib\n",
    "#matplotlib.rcParams[\"figure.figsize\"] = (10,10)\n",
    "plt.style.use('presentation')\n",
    "from src.visualization.plot import track_plots, plot, captive_plot\n",
    "import kedro\n",
    "import numpy as np\n",
    "import os.path\n",
    "import anyconfig\n",
    "\n",
    "\n",
    "from myst_nb import glue\n",
    "from src.symbols import *\n",
    "import src.symbols as symbols\n",
    "from src.system_equations import *\n",
    "\n",
    "from IPython.display import display, Math, Latex, Markdown\n",
    "from sympy.physics.vector.printing import vpprint, vlatex\n",
    "\n",
    "from src.models.regression import MotionRegression\n",
    "\n",
    "from src.parameters import df_parameters\n",
    "p = df_parameters[\"symbol\"]\n",
    "\n",
    "# Read configs:\n",
    "conf_path = os.path.join(\"../../conf/base/\")\n",
    "runs_globals_path = os.path.join(\n",
    "    conf_path,\n",
    "    \"runs_globals.yml\",\n",
    ")\n",
    "\n",
    "runs_globals = anyconfig.load(runs_globals_path)\n",
    "model_test_ids = runs_globals[\"model_test_ids\"]\n",
    "\n",
    "join_globals_path = os.path.join(\n",
    "    conf_path,\n",
    "    \"join_globals.yml\",\n",
    ")\n",
    "\n",
    "joins = runs_globals[\"joins\"]\n",
    "join_runs_dict = anyconfig.load(join_globals_path)\n",
    "\n",
    "globals_path = os.path.join(\n",
    "    conf_path,\n",
    "    \"globals.yml\",\n",
    ")\n",
    "global_variables = anyconfig.load(globals_path)\n",
    "\n",
    "\n",
    "\n",
    "vmm_names = global_variables[\"vmms\"]\n",
    "only_joined = global_variables[\n",
    "    \"only_joined\"\n",
    "]  # (regress/predict with only models from joined runs)S\n",
    "\n",
    "vmms = {}\n",
    "derivatives = {}\n",
    "vmm_names.remove('vmm_abkowitz_expanded')\n",
    "for vmm_name in vmm_names:\n",
    "    vmms[vmm_name] = catalog.load(vmm_name)\n",
    "    derivatives[vmm_name] = catalog.load(f\"{ vmm_name }.motion_regression.joined.derivatives\")\n",
    "    \n"
   ]
  },
  {
   "cell_type": "code",
   "execution_count": null,
   "id": "745b8c83-f991-45b2-aa52-3c89419baab3",
   "metadata": {
    "tags": [
     "remove_cell"
    ]
   },
   "outputs": [],
   "source": [
    "id = 22773\n",
    "\n",
    "ship_data = catalog.load(\"ship_data\")\n",
    "data = catalog.load(f\"{ id }.data_ek_smooth\")\n",
    "\n",
    "dataframes = {}\n",
    "styles = {}\n",
    "\n",
    "for vmm_name in vmm_names:\n",
    "    \n",
    "    #if vmm_name == 'vmm_linear':\n",
    "    #    continue\n",
    "    \n",
    "    df_ = catalog.load(f\"{ vmm_name }.motion_regression.joined.{ id }.data_resimulate\")\n",
    "    \n",
    "    #dataframes[vmm_name] = df_.iloc[0:-8000].copy()\n",
    "    dataframes[vmm_name] = df_.copy()\n",
    "    styles[vmm_name] = {'alpha':1}\n",
    "\n",
    "\n",
    "#dataframes['model test'] = data.iloc[0:-8000]\n",
    "dataframes['model test'] = data\n",
    "styles['model test'] = {'style':'k-', 'alpha':1, 'lw':1}"
   ]
  },
  {
   "cell_type": "code",
   "execution_count": null,
   "id": "6c040260-e5fb-4453-b37c-54968379bd0f",
   "metadata": {
    "tags": [
     "remove_input"
    ]
   },
   "outputs": [],
   "source": [
    "fig,ax=plt.subplots()\n",
    "\n",
    "fig.set_size_inches(matplotlib.rcParams[\"figure.figsize\"][0]*0.4, matplotlib.rcParams[\"figure.figsize\"][1])\n",
    "\n",
    "track_plots(dataframes, lpp=ship_data['L'], beam=ship_data['B'], plot_boats=True, styles=styles, N=7, ax=ax, flip=False);\n",
    "ax.legend(loc='lower left');"
   ]
  },
  {
   "cell_type": "code",
   "execution_count": null,
   "id": "79d8d595-9b56-419d-98f1-978ede7934a5",
   "metadata": {
    "tags": [
     "remove_input"
    ]
   },
   "outputs": [],
   "source": [
    "number_of_parameters = pd.Series(dtype=float)\n",
    "for vmm_name, parameters in derivatives.items():\n",
    "    number_of_parameters[vmm_name] = len(parameters)\n",
    "    \n",
    "fig,ax=plt.subplots()\n",
    "ax.tick_params(labelsize=15)\n",
    "\n",
    "fig.set_size_inches(7,3)\n",
    "number_of_parameters.sort_values().plot.bar(ax=ax);"
   ]
  }
 ],
 "metadata": {
  "kernelspec": {
   "display_name": "wPCC_pipeline",
   "language": "python",
   "name": "python3"
  },
  "language_info": {
   "codemirror_mode": {
    "name": "ipython",
    "version": 3
   },
   "file_extension": ".py",
   "mimetype": "text/x-python",
   "name": "python",
   "nbconvert_exporter": "python",
   "pygments_lexer": "ipython3",
   "version": "3.7.9"
  }
 },
 "nbformat": 4,
 "nbformat_minor": 5
}
