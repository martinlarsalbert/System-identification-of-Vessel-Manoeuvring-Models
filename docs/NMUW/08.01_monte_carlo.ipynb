{
 "cells": [
  {
   "cell_type": "markdown",
   "id": "14619c03-063f-47c5-b757-a844cf777632",
   "metadata": {},
   "source": [
    "# Monte-carlo simulations"
   ]
  },
  {
   "cell_type": "code",
   "execution_count": null,
   "id": "d4470836-8684-417f-b59d-784e14f38f47",
   "metadata": {
    "tags": [
     "remove-cell"
    ]
   },
   "outputs": [],
   "source": [
    "# %load imports.py\n",
    "%load_ext autoreload\n",
    "%autoreload 2\n",
    "%reload_kedro\n",
    "%config Completer.use_jedi = False  ## (To fix autocomplete)\n",
    "\n",
    "import warnings\n",
    "warnings.filterwarnings('ignore')\n",
    "\n",
    "import pandas as pd\n",
    "pd.set_option('display.max_rows', 500)\n",
    "pd.set_option('display.max_columns', 500)\n",
    "\n",
    "from src.models.vmm import ModelSimulator\n",
    "import matplotlib.pyplot as plt\n",
    "from src.visualization.plot import track_plots, plot, captive_plot, plot_parameters\n",
    "import kedro\n",
    "import numpy as np\n",
    "import os.path\n",
    "import anyconfig\n",
    "\n",
    "import matplotlib\n",
    "plt.style.use('presentation')\n",
    "\n",
    "from myst_nb import glue\n",
    "from wPCC_pipeline.paper import glue_table\n",
    "from src.symbols import *\n",
    "import src.symbols as symbols\n",
    "from src.system_equations import *\n",
    "\n",
    "from IPython.display import display, Math, Latex, Markdown\n",
    "from sympy.physics.vector.printing import vpprint, vlatex\n",
    "\n",
    "from src.parameters import df_parameters\n",
    "p = df_parameters[\"symbol\"]\n",
    "\n",
    "# Read configs:\n",
    "conf_path = os.path.join(\"../../conf/base/\")\n",
    "runs_globals_path = os.path.join(\n",
    "    conf_path,\n",
    "    \"runs_globals.yml\",\n",
    ")\n",
    "\n",
    "runs_globals = anyconfig.load(runs_globals_path)\n",
    "model_test_ids = runs_globals[\"model_test_ids\"]\n",
    "\n",
    "join_globals_path = os.path.join(\n",
    "    conf_path,\n",
    "    \"join_globals.yml\",\n",
    ")\n",
    "\n",
    "joins = runs_globals[\"joins\"]\n",
    "join_runs_dict = anyconfig.load(join_globals_path)\n",
    "\n",
    "globals_path = os.path.join(\n",
    "    conf_path,\n",
    "    \"globals.yml\",\n",
    ")\n",
    "global_variables = anyconfig.load(globals_path)\n",
    "\n",
    "\n",
    "\n",
    "vmm_names = global_variables[\"vmms\"]\n",
    "only_joined = global_variables[\n",
    "    \"only_joined\"\n",
    "]  # (regress/predict with only models from joined runs)\n",
    "\n",
    "ship_data = catalog.load(\"ship_data\")"
   ]
  },
  {
   "cell_type": "code",
   "execution_count": null,
   "id": "8d83aa97-482d-4779-91a0-ae77618cce52",
   "metadata": {
    "tags": [
     "remove-cell"
    ]
   },
   "outputs": [],
   "source": [
    "from sympy import latex\n",
    "from scipy.stats import norm, multivariate_normal\n",
    "from wPCC_pipeline.pipelines.prediction.nodes import simulate_euler\n",
    "import tqdm\n",
    "import sys\n",
    "from wPCC_pipeline.turning_circle import TurningCircle\n",
    "import seaborn as sns"
   ]
  },
  {
   "cell_type": "code",
   "execution_count": null,
   "id": "f44bb046-a479-4bef-bfe8-93ad81970df6",
   "metadata": {
    "tags": [
     "remove-cell"
    ]
   },
   "outputs": [],
   "source": [
    "#vmm_name = 'vmm_abkowitz_simple'\n",
    "vmm_name = 'vmm_martins_simple'\n",
    "#vmm_name = 'vmm_abkowitz'\n",
    "\n",
    "\n",
    "model = catalog.load(f\"{ vmm_name }.motion_regression.joined.model\")\n",
    "ek = catalog.load(f\"{ vmm_name }.ek\")\n",
    "\n",
    "id = 22774\n",
    "regression = catalog.load(f\"{ vmm_name }.motion_regression.no_circle.regression\")\n",
    "df_smooth = catalog.load(f\"{ id }.data_ek_smooth\")"
   ]
  },
  {
   "cell_type": "code",
   "execution_count": null,
   "id": "af294688-cdb2-4fcc-9bad-2d08606ea930",
   "metadata": {
    "tags": [
     "remove-cell"
    ]
   },
   "outputs": [],
   "source": [
    "def monte_carlo(data_smooth, df_parameter_variation, model, ek):\n",
    "\n",
    "    dataframes = {}\n",
    "    with tqdm.tqdm(total=len(df_parameter_variation), file=sys.stdout) as pbar:\n",
    "        for index, parameters_ in df_parameter_variation.iterrows():\n",
    "            model_ = model.copy()\n",
    "            model_.parameters.update(parameters_)\n",
    "            \n",
    "            df_ = simulate_euler(data=data_smooth, model=model_,ek=ek, solver='Radau') \n",
    "            dataframes[index] = df_\n",
    "        \n",
    "            pbar.update(1)\n",
    "        \n",
    "    return dataframes"
   ]
  },
  {
   "cell_type": "code",
   "execution_count": null,
   "id": "3d88d17d-90cf-4697-8bd0-69d837cfc113",
   "metadata": {
    "tags": [
     "remove-cell"
    ]
   },
   "outputs": [],
   "source": [
    "means = regression.parameters['regressed']\n",
    "stds = regression.std\n",
    "\n",
    "cov = regression.covs.values\n",
    "\n",
    "rv = multivariate_normal(mean=means, cov=cov, allow_singular=True)\n",
    "np.random.seed(42)\n",
    "N_=1000\n",
    "df_parameter_variation = pd.DataFrame(data=rv.rvs(N_), columns=means.index)"
   ]
  },
  {
   "cell_type": "code",
   "execution_count": null,
   "id": "7b46f3a3-caf1-4849-ab1a-0f1208f2a4b4",
   "metadata": {
    "tags": [
     "remove-cell"
    ]
   },
   "outputs": [],
   "source": [
    "dataframes = monte_carlo(df_smooth, df_parameter_variation, model=model, ek=ek)"
   ]
  },
  {
   "cell_type": "code",
   "execution_count": null,
   "id": "6aa7afbe-455c-4ff7-88f7-6590af94b718",
   "metadata": {
    "tags": [
     "remove-input"
    ]
   },
   "outputs": [],
   "source": [
    "dataframes['model test'] = df_smooth\n",
    "dataframes['manoeuvring model all'] = catalog.load(f\"{ vmm_name }.motion_regression.joined.{ id }.data_resimulate\")\n",
    "dataframes['manoeuvring model circle hold out'] = catalog.load(f\"{ vmm_name }.motion_regression.no_circle.{ id }.data_resimulate\")"
   ]
  },
  {
   "cell_type": "code",
   "execution_count": null,
   "id": "95ed287e-d3b0-4eff-bcec-c959b2d9aa52",
   "metadata": {
    "tags": [
     "remove-input"
    ]
   },
   "outputs": [],
   "source": [
    "dataframes_ = dataframes.copy()\n",
    "displays = []\n",
    "displays.append({key:value for key,value in dataframes.items() if key not in ['model test', 'manoeuvring model all', 'manoeuvring model circle hold out']})\n",
    "displays.append({key:value for key,value in dataframes.items() if key not in ['model test', 'manoeuvring model all']})\n",
    "displays.append({key:value for key,value in dataframes.items() if key not in ['manoeuvring model all']})\n",
    "displays.append(dataframes)"
   ]
  },
  {
   "cell_type": "code",
   "execution_count": null,
   "id": "28bead5b-d7f3-4f97-ba5b-c1e3c662e703",
   "metadata": {
    "tags": [
     "remove-input"
    ]
   },
   "outputs": [],
   "source": [
    "\n",
    "\n",
    "styles={'model test':{'style':'k-','lw':2},\n",
    "       'manoeuvring model all':{'style':'r-','lw':2},\n",
    "       'manoeuvring model circle hold out':{'style':'g-','lw':2},\n",
    "        \n",
    "       }\n",
    "\n",
    "for index, parameters_ in df_parameter_variation.iterrows():\n",
    "    styles[index] = {'style':'b-', \n",
    "                     'alpha':0.1,\n",
    "                     'label':'_Hidden label'}\n",
    "\n",
    "for dataframes_ in displays:\n",
    "    fig,ax=plt.subplots()\n",
    "    grid.fig.set_size_inches(0.7*np.array(matplotlib.rcParams[\"figure.figsize\"]))\n",
    "    \n",
    "    ax = track_plots(dataframes_, lpp=ship_data['L'], beam=ship_data['B'], plot_boats=False, flip=True, N=7, styles=styles, ax=ax)\n",
    "    ax.set_xlim(0,25)\n",
    "    ax.set_ylim(-20,5)"
   ]
  },
  {
   "cell_type": "code",
   "execution_count": null,
   "id": "3e43f1c3-6f3a-4bbd-8952-8d00890201dc",
   "metadata": {
    "tags": [
     "remove-cell"
    ]
   },
   "outputs": [],
   "source": [
    "df_turning_results = pd.DataFrame()\n",
    "\n",
    "for name, df_ in dataframes.items():\n",
    "\n",
    "    df_['V'] = np.sqrt(df_['u']**2 + df_['v']**2)\n",
    "    turning_circle = TurningCircle(angle=35, nominal_speed=10, lpp=ship_data['L'], df=df_)\n",
    "    res = pd.Series(turning_circle.evaluate(), name=name)\n",
    "    df_turning_results = df_turning_results.append(res)"
   ]
  },
  {
   "cell_type": "code",
   "execution_count": null,
   "id": "ab9762f3-b6e6-4094-8499-c63122747f60",
   "metadata": {
    "tags": []
   },
   "outputs": [],
   "source": [
    "mask = ((df_turning_results['steady_turning_diameter'].quantile(0.001) < df_turning_results['steady_turning_diameter']) &\n",
    "        (df_turning_results['steady_turning_diameter'].quantile(0.999) > df_turning_results['steady_turning_diameter']))\n",
    "\n",
    "#fig,ax=plt.subplots()\n",
    "\n",
    "df_turning_results.loc[mask].hist(column='steady_turning_diameter', bins=100, ax=ax)\n",
    "grid = sns.displot(df_turning_results.loc[mask], x='steady_turning_diameter', stat=\"density\")\n",
    "ax = grid.fig.axes[0]\n",
    "grid.fig.set_size_inches([0.5,0.7]*np.array(matplotlib.rcParams[\"figure.figsize\"]))\n",
    "ys = ax.get_ylim()\n",
    "\n",
    "colors = ['g-','k-','r--']\n",
    "for key in ['manoeuvring model circle hold out', 'model test', 'manoeuvring model all']:\n",
    "    display(grid.fig)\n",
    "    x = df_turning_results.loc[key, 'steady_turning_diameter']\n",
    "    xs = [x,x]\n",
    "    color = colors.pop(0)\n",
    "    ax.plot(xs, ys, color, label=key, lw=2.5);\n",
    "\n",
    "    ax.legend(loc='upper left');\n",
    "\n",
    "\n",
    "fig = ax.get_figure()\n",
    "fig_name = f\"fig_monte-carlo_hist\"\n",
    "caption = f\"Histogram of predicted steady turning diameter from Monte-Carlo simulations with parameter uncertainty for manoeuvring model fitted with turning circle as hold out. Also showing result from model test and manoeuvring model fitted on all data\"\n",
    "glue(fig_name, fig, display=False)"
   ]
  },
  {
   "cell_type": "code",
   "execution_count": null,
   "id": "36f55ae1-6371-4642-99a3-7e886e5edf02",
   "metadata": {
    "tags": [
     "remove-cell"
    ]
   },
   "outputs": [],
   "source": [
    "rv = norm(loc=df_turning_results['steady_turning_diameter'].mean(), scale=df_turning_results['steady_turning_diameter'].std())\n",
    "intervalls = []\n",
    "alphas = [0.99, 0.95, 0.75, 0.50]\n",
    "for alpha in alphas:\n",
    "    intervalls.append(rv.interval(alpha=alpha))\n",
    "    \n",
    "df_intervalls = pd.DataFrame(intervalls, columns=['min','max'], index=alphas)\n",
    "df_intervalls.index.name='alpha'\n",
    "df_intervalls.to_csv('intervalls.csv')\n",
    "glue_table(f\"steady_turning_diameter_intervalls\", df_intervalls)"
   ]
  },
  {
   "cell_type": "code",
   "execution_count": null,
   "id": "6539b988-bb6d-4247-a4ad-d6944af0e1a1",
   "metadata": {},
   "outputs": [],
   "source": []
  }
 ],
 "metadata": {
  "kernelspec": {
   "display_name": "wPCC_pipeline",
   "language": "python",
   "name": "python3"
  },
  "language_info": {
   "codemirror_mode": {
    "name": "ipython",
    "version": 3
   },
   "file_extension": ".py",
   "mimetype": "text/x-python",
   "name": "python",
   "nbconvert_exporter": "python",
   "pygments_lexer": "ipython3",
   "version": "3.7.9"
  }
 },
 "nbformat": 4,
 "nbformat_minor": 5
}
