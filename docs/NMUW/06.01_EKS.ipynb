{
 "cells": [
  {
   "cell_type": "markdown",
   "id": "89437b23-e86d-40d5-b2f0-3ea1cb6304ae",
   "metadata": {},
   "source": [
    "# Extended Kalman Smoother"
   ]
  },
  {
   "cell_type": "code",
   "execution_count": null,
   "id": "12e286bb-bb46-4d33-a866-56dc1ea36668",
   "metadata": {
    "tags": [
     "remove_cell"
    ]
   },
   "outputs": [],
   "source": [
    "# %load imports.py\n",
    "%load_ext autoreload\n",
    "%autoreload 2\n",
    "%reload_kedro\n",
    "%config Completer.use_jedi = False  ## (To fix autocomplete)\n",
    "\n",
    "import pandas as pd\n",
    "from vessel_manoeuvring_models.models.vmm import ModelSimulator\n",
    "import matplotlib.pyplot as plt\n",
    "import matplotlib\n",
    "#matplotlib.rcParams[\"figure.figsize\"] = (5,5)\n",
    "plt.style.use('presentation')\n",
    "from vessel_manoeuvring_models.visualization.plot import track_plots, plot, captive_plot\n",
    "import kedro\n",
    "import numpy as np\n",
    "import os.path\n",
    "import anyconfig\n",
    "\n",
    "\n",
    "from myst_nb import glue\n",
    "from vessel_manoeuvring_models.symbols import *\n",
    "import vessel_manoeuvring_models.symbols as symbols\n",
    "from vessel_manoeuvring_models.system_equations import *\n",
    "\n",
    "from IPython.display import display, Math, Latex, Markdown\n",
    "from sympy.physics.vector.printing import vpprint, vlatex\n",
    "\n",
    "from vessel_manoeuvring_models.models.regression import MotionRegression\n",
    "\n",
    "from vessel_manoeuvring_models.parameters import df_parameters\n",
    "p = df_parameters[\"symbol\"]\n",
    "\n",
    "# Read configs:\n",
    "conf_path = os.path.join(\"../../conf/base/\")\n",
    "runs_globals_path = os.path.join(\n",
    "    conf_path,\n",
    "    \"runs_globals.yml\",\n",
    ")\n",
    "\n",
    "runs_globals = anyconfig.load(runs_globals_path)\n",
    "model_test_ids = runs_globals[\"model_test_ids\"]\n",
    "\n",
    "join_globals_path = os.path.join(\n",
    "    conf_path,\n",
    "    \"join_globals.yml\",\n",
    ")\n",
    "\n",
    "joins = runs_globals[\"joins\"]\n",
    "join_runs_dict = anyconfig.load(join_globals_path)\n",
    "\n",
    "globals_path = os.path.join(\n",
    "    conf_path,\n",
    "    \"globals.yml\",\n",
    ")\n",
    "global_variables = anyconfig.load(globals_path)\n",
    "\n",
    "\n",
    "\n",
    "vmm_names = global_variables[\"vmms\"]\n",
    "only_joined = global_variables[\n",
    "    \"only_joined\"\n",
    "]  # (regress/predict with only models from joined runs)S\n",
    "\n",
    "vmms = {}\n",
    "for vmm_name in vmm_names:\n",
    "    vmms[vmm_name] = catalog.load(vmm_name)\n"
   ]
  },
  {
   "cell_type": "code",
   "execution_count": null,
   "id": "f91ccf99-995e-4192-8536-1c59cbc5e4ad",
   "metadata": {
    "tags": [
     "remove_cell"
    ]
   },
   "outputs": [],
   "source": [
    "id = 22774\n",
    "data = catalog.load(f\"{ id }.data\")\n",
    "data_ek_smooth = catalog.load(f\"{ id }.data_ek_smooth\")\n",
    "data_ek_filter = catalog.load(f\"{ id }.data_ek_filter\")\n",
    "data['r1d'] = np.gradient(data['r'], data.index)"
   ]
  },
  {
   "cell_type": "code",
   "execution_count": null,
   "id": "6fa53ca8-f3f4-47b9-9555-3032308a782a",
   "metadata": {
    "tags": [
     "remove_input"
    ]
   },
   "outputs": [],
   "source": [
    "dataframes = {\n",
    "    'raw' : data,\n",
    "    #'EKF' : data_ek_filter,\n",
    "    'EKS' : data_ek_smooth,\n",
    "    \n",
    "}\n",
    "fig = plot(dataframes, keys=['psi','r','r1d'], ncols=3, fig_size=matplotlib.rcParams[\"figure.figsize\"]);\n",
    "fig.axes[0].set_ylabel(r'$\\psi$')\n",
    "fig.axes[2].set_ylabel(r'$\\dot{r}$')\n",
    "fig.axes[2].set_xlabel('time');\n"
   ]
  },
  {
   "cell_type": "code",
   "execution_count": null,
   "id": "83053b5b-00ec-4cac-b8e4-b6fa5fa9e0ee",
   "metadata": {},
   "outputs": [],
   "source": []
  },
  {
   "cell_type": "code",
   "execution_count": null,
   "id": "63525304-2dee-4515-83c4-290711559114",
   "metadata": {},
   "outputs": [],
   "source": []
  }
 ],
 "metadata": {
  "kernelspec": {
   "display_name": "wPCC_pipeline",
   "language": "python",
   "name": "python3"
  },
  "language_info": {
   "codemirror_mode": {
    "name": "ipython",
    "version": 3
   },
   "file_extension": ".py",
   "mimetype": "text/x-python",
   "name": "python",
   "nbconvert_exporter": "python",
   "pygments_lexer": "ipython3",
   "version": "3.7.9"
  }
 },
 "nbformat": 4,
 "nbformat_minor": 5
}
