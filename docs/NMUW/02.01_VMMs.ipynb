{
 "cells": [
  {
   "cell_type": "markdown",
   "id": "88e2ad0f-4c9b-4c57-ac19-006dce05de59",
   "metadata": {
    "tags": []
   },
   "source": [
    "# Vessel Manoeuvring Models\n",
    "Many simulation model for ship manoeuvring have been developed in the field of ship hydrodynamics such as: the Abkowitz model {cite:p}`abkowitz_ship_1964` or the Norrbin model {cite:p}`norrbin_study_1960`.\n",
    "This chapter will develop a general simulation model for ship manoeuvring, that can be further specified to become either the Abkowitz or Norbin model. Expressing the models on a general form is important in this research where many different models will be tested and compared."
   ]
  },
  {
   "cell_type": "code",
   "execution_count": null,
   "id": "318ef776-6fa9-452c-baf4-69c3ef158f50",
   "metadata": {
    "tags": [
     "remove_cell"
    ]
   },
   "outputs": [],
   "source": [
    "# %load imports.py\n",
    "%load_ext autoreload\n",
    "%autoreload 2\n",
    "\n",
    "%config Completer.use_jedi = False  ## (To fix autocomplete)\n",
    "\n",
    "import pandas as pd\n",
    "from src.models.vmm import ModelSimulator\n",
    "import matplotlib.pyplot as plt\n",
    "import matplotlib\n",
    "plt.style.use('presentation')\n",
    "from src.visualization.plot import track_plots, plot, captive_plot\n",
    "import kedro\n",
    "import numpy as np\n",
    "import os.path\n",
    "import anyconfig\n",
    "\n",
    "\n",
    "from myst_nb import glue\n",
    "from src.symbols import *\n",
    "import src.symbols as symbols\n",
    "from src.system_equations import *\n",
    "\n",
    "from IPython.display import display, Math, Latex, Markdown\n",
    "from sympy.physics.vector.printing import vpprint, vlatex\n",
    "\n",
    "from src.models.regression import MotionRegression\n",
    "\n",
    "from src.parameters import df_parameters\n",
    "p = df_parameters[\"symbol\"]\n",
    "\n",
    "# Read configs:\n",
    "conf_path = os.path.join(\"../../conf/base/\")\n",
    "runs_globals_path = os.path.join(\n",
    "    conf_path,\n",
    "    \"runs_globals.yml\",\n",
    ")\n",
    "\n",
    "runs_globals = anyconfig.load(runs_globals_path)\n",
    "model_test_ids = runs_globals[\"model_test_ids\"]\n",
    "\n",
    "join_globals_path = os.path.join(\n",
    "    conf_path,\n",
    "    \"join_globals.yml\",\n",
    ")\n",
    "\n",
    "joins = runs_globals[\"joins\"]\n",
    "join_runs_dict = anyconfig.load(join_globals_path)\n",
    "\n",
    "globals_path = os.path.join(\n",
    "    conf_path,\n",
    "    \"globals.yml\",\n",
    ")\n",
    "global_variables = anyconfig.load(globals_path)\n",
    "\n",
    "\n",
    "\n",
    "vmm_names = global_variables[\"vmms\"]\n",
    "only_joined = global_variables[\n",
    "    \"only_joined\"\n",
    "]  # (regress/predict with only models from joined runs)S\n",
    "\n",
    "vmms = {}\n",
    "for vmm_name in vmm_names:\n",
    "    vmms[vmm_name] = catalog.load(vmm_name)\n"
   ]
  },
  {
   "cell_type": "markdown",
   "id": "a32dd2f6-4473-48a7-8f62-fc98da7ea0b8",
   "metadata": {},
   "source": [
    "3DOF system for manoeurving:"
   ]
  },
  {
   "cell_type": "code",
   "execution_count": null,
   "id": "6f3bd24f-45a3-4c7e-9888-84d8ac53fe84",
   "metadata": {
    "tags": [
     "remove-input"
    ]
   },
   "outputs": [],
   "source": [
    "eq_system"
   ]
  },
  {
   "cell_type": "markdown",
   "id": "816ee4d7-a90c-4e98-b782-055b810b45c2",
   "metadata": {},
   "source": [
    "The manoeuvring simulation can now be conducted by numerical integration of the above equation. The main difference between various vessel manoeuvring models such as the Abkowitz model {cite:p}`abkowitz_ship_1964` or the Norrbin model {cite:p}`norrbin_study_1960` lies in how the hydrodynamic functions $X_D(u,v,r,\\delta,thrust)$, $Y_D(u,v,r,\\delta,thrust)$, $N_D(u,v,r,\\delta,thrust)$ are defined. These functions cane be found in [Appendix](appendix_vmms.md)."
   ]
  },
  {
   "cell_type": "markdown",
   "id": "42cefcc8-2cc9-4841-a3ff-e4ee636022dd",
   "metadata": {},
   "source": [
    "Note that a coefficient $X_{thrust}$ has been added to the Abkowitz X equation to allow for propeller thrust as an input to the model. "
   ]
  },
  {
   "cell_type": "code",
   "execution_count": null,
   "id": "d87a7753-94ff-42a1-a72a-8ef1fd740bca",
   "metadata": {
    "tags": [
     "remove_input"
    ]
   },
   "outputs": [],
   "source": [
    "vmms['vmm_abkowitz'].Y_qs_eq"
   ]
  },
  {
   "cell_type": "code",
   "execution_count": null,
   "id": "5112c429-7fff-4001-9223-affb7bc27b48",
   "metadata": {
    "tags": [
     "remove_input"
    ]
   },
   "outputs": [],
   "source": [
    "vmms['vmm_linear'].Y_qs_eq"
   ]
  },
  {
   "cell_type": "markdown",
   "id": "20918ae5-eb04-4ea9-8c6e-d64cc70a4573",
   "metadata": {},
   "source": [
    "This equation can be rewritten to get the acceleration on the left hand side:"
   ]
  },
  {
   "cell_type": "code",
   "execution_count": null,
   "id": "fdd7f933-84ae-4b54-9925-fdacf964e434",
   "metadata": {
    "tags": [
     "remove-input"
    ]
   },
   "outputs": [],
   "source": [
    "eq_acceleration_matrix_clean"
   ]
  },
  {
   "cell_type": "markdown",
   "id": "03b8df6b-4509-4b51-aa53-4d2f21867d74",
   "metadata": {},
   "source": [
    "where $S$ is a helper variable:"
   ]
  },
  {
   "cell_type": "code",
   "execution_count": null,
   "id": "89653299-22f0-439c-bd81-508d649e9911",
   "metadata": {
    "tags": [
     "remove-input"
    ]
   },
   "outputs": [],
   "source": [
    "eq_S"
   ]
  },
  {
   "cell_type": "markdown",
   "id": "ef852db8-c266-4107-b9bd-d90394a98f4f",
   "metadata": {},
   "source": [
    "A state space model for manoeuvring can now be defined with six states:"
   ]
  },
  {
   "cell_type": "code",
   "execution_count": null,
   "id": "8c6de74b-e921-40e9-ba63-2a5135d40ac0",
   "metadata": {
    "tags": [
     "remove-input"
    ]
   },
   "outputs": [],
   "source": [
    "eq_x"
   ]
  },
  {
   "cell_type": "markdown",
   "id": "e00165ac-c097-4377-b2b3-8ac59cf1c542",
   "metadata": {},
   "source": [
    "An transition function $f$ defines how the states changes with time:"
   ]
  },
  {
   "cell_type": "code",
   "execution_count": null,
   "id": "58d79298-df15-4594-a327-38caae542880",
   "metadata": {
    "tags": [
     "remove-input"
    ]
   },
   "outputs": [],
   "source": [
    "eq_state_space"
   ]
  },
  {
   "cell_type": "markdown",
   "id": "4ca119a0-3d5d-4340-a62e-a39ecce8870c",
   "metadata": {},
   "source": [
    "Using geometrical relations for how $x_0$, $y_0$ and $\\Psi$ depend on $u$, $v$, and $r$ and the time derivatives that was derived above: $\\dot{u}$, $\\dot{v}$, $\\dot{r}$, the transition function can be written:"
   ]
  },
  {
   "cell_type": "code",
   "execution_count": null,
   "id": "a9182df8-1af7-4407-872c-9c355fd40089",
   "metadata": {
    "tags": [
     "remove-input"
    ]
   },
   "outputs": [],
   "source": [
    "eq_f"
   ]
  },
  {
   "cell_type": "code",
   "execution_count": null,
   "id": "6ae42b8d-0d01-4d37-9eef-726215906e8b",
   "metadata": {
    "tags": [
     "remove_cell"
    ]
   },
   "outputs": [],
   "source": [
    "%reload_kedro\n",
    "vmm_name = 'vmm_martins_simple'\n",
    "model = catalog.load(f\"{ vmm_name}.motion_regression.joined.model\")\n",
    "vmm = catalog.load(f\"{ vmm_name }\")\n",
    "initial_parameters = catalog.load(\"initial_parameters\")\n",
    "model.parameters=initial_parameters\n",
    "\n",
    "id = 22773\n",
    "ship_data = catalog.load(\"ship_data\")\n",
    "data = catalog.load(f\"{ id }.data_ek_smooth\")"
   ]
  },
  {
   "cell_type": "code",
   "execution_count": null,
   "id": "9ca63fd6-b1e3-4e18-b7e2-f6da98351b82",
   "metadata": {
    "tags": [
     "remove-input"
    ]
   },
   "outputs": [],
   "source": [
    "#t = np.arange(0, 70, 0.01)\n",
    "#input_columns = ['delta','U','thrust']\n",
    "#state_columns = ['x0', 'y0', 'psi', 'u', 'v', 'r']\n",
    "#data = pd.DataFrame(index=t, columns=state_columns + input_columns)\n",
    "#data['u'] = 2\n",
    "#data['delta'] = np.deg2rad(-35)\n",
    "#data['thrust'] = 30\n",
    "#data.fillna(0, inplace=True)\n",
    "#data['U'] = np.sqrt(data['u']**2 + data['v']**2)\n",
    "#\n",
    "\n",
    "result = model.simulate(df_=data)\n",
    "\n",
    "dataframes = {'simulation': result.result,\n",
    "             'model test' : data}\n",
    "styles = {}\n",
    "styles['model test'] = {'style':'k-', 'alpha':1, 'lw':1.5}\n",
    "styles['simulation'] = {'style':'r-', 'alpha':1, 'lw':1.5}\n",
    "\n",
    "#dataframes['simulate'] = ek.simulate(data=data, input_columns=input_columns, solver='Radau')\n",
    "\n",
    "fig,ax=plt.subplots()\n",
    "fig.set_size_inches(matplotlib.rcParams[\"figure.figsize\"][0]*0.4, matplotlib.rcParams[\"figure.figsize\"][1])\n",
    "\n",
    "track_plots(dataframes, lpp=model.ship_parameters['L'], beam=model.ship_parameters['B'], N=7, \n",
    "            styles=styles, ax=ax);\n",
    "\n",
    "\n",
    "\n",
    "result.result.to_csv('example.csv')"
   ]
  }
 ],
 "metadata": {
  "kernelspec": {
   "display_name": "wPCC_pipeline",
   "language": "python",
   "name": "python3"
  },
  "language_info": {
   "codemirror_mode": {
    "name": "ipython",
    "version": 3
   },
   "file_extension": ".py",
   "mimetype": "text/x-python",
   "name": "python",
   "nbconvert_exporter": "python",
   "pygments_lexer": "ipython3",
   "version": "3.7.9"
  }
 },
 "nbformat": 4,
 "nbformat_minor": 5
}
