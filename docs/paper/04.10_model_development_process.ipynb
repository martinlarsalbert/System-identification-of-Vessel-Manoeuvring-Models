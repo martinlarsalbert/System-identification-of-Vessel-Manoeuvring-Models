{
 "cells": [
  {
   "cell_type": "markdown",
   "id": "8496ab4e-7222-4886-9886-2d3eed5b63fc",
   "metadata": {},
   "source": [
    "(model_development_process)=\n",
    "## Model development process"
   ]
  },
  {
   "cell_type": "markdown",
   "id": "e6706db8-018e-4f80-a551-45405352a9ef",
   "metadata": {},
   "source": [
    "The general aim of developing a manoeuvring model with parameter estimation is to develop a model that can generalize outside the known data. The method presented in this paper is evaluated with the ''Hold-Out'' method where the data is divided into three sets: \n",
    "* training set\n",
    "* validation set\n",
    "* test set.\n",
    "\n",
    "The best manoeuvring model is selected from a selection of candidate models. The purpose with the training set is to train all the candidate models using the proposed parameter estimation method. The validation set is then used to select which one of the candidate models is the best. The training and validation sets are then joined to train the selected model as the final model, to be used in predicting the test set, which is used to evaluate the accuracy of the model. These three sets are not divided randomly, but rather to assess the model's extrapolation ability. The data sets are therefore split to have the smallest: yaw rates, drift- and rudder-angles in the training set, the medium values in the validation set and the largest values in the test set. "
   ]
  },
  {
   "cell_type": "code",
   "execution_count": null,
   "id": "1760c3ed-d343-4c66-a2c8-46917e7e9d23",
   "metadata": {},
   "outputs": [],
   "source": []
  }
 ],
 "metadata": {
  "citation-manager": {
   "items": {}
  },
  "kernelspec": {
   "display_name": "wPCC_pipeline",
   "language": "python",
   "name": "python3"
  },
  "language_info": {
   "codemirror_mode": {
    "name": "ipython",
    "version": 3
   },
   "file_extension": ".py",
   "mimetype": "text/x-python",
   "name": "python",
   "nbconvert_exporter": "python",
   "pygments_lexer": "ipython3",
   "version": "3.7.9"
  }
 },
 "nbformat": 4,
 "nbformat_minor": 5
}
