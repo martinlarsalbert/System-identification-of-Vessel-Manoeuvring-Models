{
 "cells": [
  {
   "cell_type": "markdown",
   "id": "8496ab4e-7222-4886-9886-2d3eed5b63fc",
   "metadata": {},
   "source": [
    "(model_development_process)=\n",
    "## Model development process"
   ]
  },
  {
   "cell_type": "markdown",
   "id": "e6706db8-018e-4f80-a551-45405352a9ef",
   "metadata": {},
   "source": [
    "The general aim of developing a manoeuvring model with parameter estimation is to develop a model that can generalize outside the known data. The method presented in this paper is evaluated with the holdout evaluation $\\cite{sammut_holdout_2017}$ where the data is divided into three sets: training set, validation set and test set as seen in Fig. $\\ref{\\detokenize{04.10_3:id2}}$.\n",
    "\n",
    "```{image} \n",
    ":alt: wpcc_mdl\n",
    ":class: bg-primary mb-1\n",
    ":width: 200px\n",
    ":align: center\n",
    "```\n",
    "\n",
    "```{figure} figures/model_development_process.pdf\n",
    "---\n",
    "height: 150px\n",
    "name: model_development_process\n",
    "---\n",
    "Model development process with holdout evaluation. \n",
    "```\n",
    "The purpose with the training set is to train all the candidate models using the proposed parameter estimation method. The validation set is then used to select which one of the candidate models is the best. The training and validation sets are then joined to train the selected model as the final model, to be used in predicting the test set, which is used to evaluate the accuracy of the model. These three sets are not divided randomly, but rather to assess the model’s extrapolation ability. The data sets are therefore split to have the smallest: yaw rates, drift- and rudder-angles in the training set, the medium values in the validation set and the largest values in the test set which for instance can be seen in Fig. $\\ref{\\detokenize{05.01_case_studies:fig-traintest}}$ in the next section."
   ]
  },
  {
   "cell_type": "markdown",
   "id": "c3b88f7a-f1b7-4d68-85c0-8364fdf31195",
   "metadata": {
    "tags": [
     "remove_cell"
    ]
   },
   "source": [
    "![](figures/model_develpment_process.png)"
   ]
  },
  {
   "cell_type": "code",
   "execution_count": null,
   "id": "2bb42021-63db-436d-8681-1588f2f9ac5f",
   "metadata": {},
   "outputs": [],
   "source": []
  }
 ],
 "metadata": {
  "citation-manager": {
   "items": {}
  },
  "kernelspec": {
   "display_name": "wPCC_pipeline",
   "language": "python",
   "name": "python3"
  },
  "language_info": {
   "codemirror_mode": {
    "name": "ipython",
    "version": 3
   },
   "file_extension": ".py",
   "mimetype": "text/x-python",
   "name": "python",
   "nbconvert_exporter": "python",
   "pygments_lexer": "ipython3",
   "version": "3.7.9"
  }
 },
 "nbformat": 4,
 "nbformat_minor": 5
}
