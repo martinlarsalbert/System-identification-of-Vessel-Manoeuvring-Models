{
 "cells": [
  {
   "cell_type": "markdown",
   "id": "51ee47bb-622d-4036-a6df-7ad3fa404233",
   "metadata": {
    "tags": []
   },
   "source": [
    "(case_wpcc)=\n",
    "## wPCC tests"
   ]
  },
  {
   "cell_type": "code",
   "execution_count": null,
   "id": "229acafd-5f12-4f8c-be91-ac64440c547b",
   "metadata": {
    "tags": [
     "remove-cell"
    ]
   },
   "outputs": [],
   "source": [
    "# %load imports.py\n",
    "%load_ext autoreload\n",
    "%autoreload 2\n",
    "%reload_kedro\n",
    "%config Completer.use_jedi = False  ## (To fix autocomplete)\n",
    "%matplotlib inline\n",
    "\n",
    "import warnings\n",
    "warnings.filterwarnings('ignore')\n",
    "\n",
    "import pandas as pd\n",
    "pd.set_option('display.max_rows', 500)\n",
    "pd.set_option('display.max_columns', 500)\n",
    "from src.models.vmm import ModelSimulator\n",
    "import matplotlib.pyplot as plt\n",
    "from src.visualization.plot import track_plots, plot, captive_plot\n",
    "import kedro\n",
    "import numpy as np\n",
    "import os.path\n",
    "import anyconfig\n",
    "\n",
    "import matplotlib\n",
    "plt.style.use('paper')\n",
    "from IPython.display import set_matplotlib_formats\n",
    "set_matplotlib_formats('pdf')\n",
    "\n",
    "from src.symbols import *\n",
    "\n",
    "# Read configs:\n",
    "conf_path = os.path.join(\"../../conf/base/\")\n",
    "runs_globals_path = os.path.join(\n",
    "    conf_path,\n",
    "    \"runs_globals.yml\",\n",
    ")\n",
    "\n",
    "runs_globals = anyconfig.load(runs_globals_path)\n",
    "model_test_ids = runs_globals[\"model_test_ids\"]\n",
    "\n",
    "join_globals_path = os.path.join(\n",
    "    conf_path,\n",
    "    \"join_globals.yml\",\n",
    ")\n",
    "\n",
    "joins = runs_globals[\"joins\"]\n",
    "join_runs_dict = anyconfig.load(join_globals_path)\n",
    "\n",
    "globals_path = os.path.join(\n",
    "    conf_path,\n",
    "    \"globals.yml\",\n",
    ")\n",
    "global_variables = anyconfig.load(globals_path)\n",
    "\n",
    "\n",
    "\n",
    "vmm_names = global_variables[\"vmms\"]\n",
    "\n",
    "from wPCC_pipeline.pipelines.motion_regression.nodes import predict_force, fit_motions, create_model_from_motion_regression\n",
    "from wPCC_pipeline.pipelines.prediction.nodes import simulate_euler\n",
    "from src.prime_system import PrimeSystem\n",
    "\n",
    "from sklearn.linear_model import LinearRegression\n",
    "from sklearn.model_selection import cross_val_score\n",
    "from sklearn.model_selection import RepeatedKFold\n",
    "from sklearn.feature_selection import SelectKBest\n",
    "from sklearn.feature_selection import f_regression\n",
    "from sklearn.pipeline import Pipeline\n",
    "from src.parameters import df_parameters\n",
    "p = df_parameters['symbol']\n",
    "from src.feature_selection import drop_multicollinearity\n",
    "from src.bias_variance_tradeoff import train_test_split_run\n",
    "from sklearn.metrics import r2_score\n",
    "from wPCC_pipeline.pipelines.motion_regression.nodes import fit_motions, create_model_from_motion_regression\n",
    "from src.models.regression import Regression\n",
    "from myst_nb import glue\n",
    "import src.symbols as s\n",
    "from IPython.display import Latex\n",
    "from src.substitute_dynamic_symbols import run\n",
    "import seaborn as sns\n",
    "from src.feature_selection import feature_imporance, BestFeatures, DropCorrelation\n",
    "from wPCC_pipeline.turning_circle import TurningCircle\n",
    "from jb_helpers import parameter_to_latex, df_to_myst\n",
    "from wPCC_pipeline.monte_carlo import monte_carlo, parameter_variation"
   ]
  },
  {
   "cell_type": "code",
   "execution_count": null,
   "id": "6e56cee0-9eec-45f4-bda2-102ffd2bd98c",
   "metadata": {
    "tags": [
     "remove-cell"
    ]
   },
   "outputs": [],
   "source": [
    "ship=\"wpcc\"\n",
    "#vmm_name = \"vmm_martins_simple\"\n",
    "vmm_name = \"vmm_abkowitz\"\n",
    "vmm = catalog.load(vmm_name)\n",
    "\n",
    "ship_data = catalog.load(f\"{ship}.ship_data\")\n",
    "\n",
    "#regression = catalog.load(f\"{ship}.updated.{vmm_name}.joined.regression\")\n",
    "#regression.diff_eq_Y.exclude_parameters.pop('Ydelta')\n",
    "#regression.diff_eq_Y.exclude_parameters.pop('Ythrustdelta')\n",
    "\n",
    "\n",
    "data = catalog.load(f\"{ship}.updated.joined.data_ek_smooth\")\n",
    "\n",
    "added_masses = catalog.load(f\"{ship}.added_masses\")\n",
    "exclude_parameters = catalog.load(f\"params:{ship}.motion_regression.exclude_parameters\")\n",
    "columns = ['u','v','r','u1d','v1d','r1d','delta','thrust','id','x0','y0','psi']\n",
    "data_with_force = predict_force(data=data[columns], added_masses=added_masses, ship_parameters=ship_data, vmm=vmm)"
   ]
  },
  {
   "cell_type": "code",
   "execution_count": null,
   "id": "307f22ba-7153-4124-b083-ebd93cda1f77",
   "metadata": {
    "tags": [
     "remove-cell"
    ]
   },
   "outputs": [],
   "source": [
    "def break_plot(df, **kwargs):\n",
    "    \n",
    "    df_ = df.copy()\n",
    "    mask = np.concatenate([[False],np.diff(df_.index)>1])\n",
    "    df_.loc[mask] = np.NaN\n",
    "    df_.plot(**kwargs)\n"
   ]
  },
  {
   "cell_type": "code",
   "execution_count": null,
   "id": "97037e20-ebb6-43e5-8cbd-511d1b33d02c",
   "metadata": {
    "tags": [
     "remove-cell"
    ]
   },
   "outputs": [],
   "source": [
    "ids = list(data_with_force['id'].unique())\n",
    "ids_train = ids.copy()\n",
    "id_test = 22774\n",
    "ids_train.remove(id_test)\n",
    "mask = data_with_force['id'].isin(ids_train)\n",
    "data_train = data_with_force.loc[mask].copy()\n",
    "assert not id_test in data_train['id'].unique()\n",
    "\n",
    "ps = PrimeSystem(**ship_data)\n",
    "data_prime = ps.prime(data_train, U=data_with_force['U'])"
   ]
  },
  {
   "cell_type": "code",
   "execution_count": null,
   "id": "d2128ee9-afc0-4639-93a5-2021694e7037",
   "metadata": {
    "tags": [
     "remove-cell"
    ]
   },
   "outputs": [],
   "source": [
    "ids_test = [\n",
    "    22771,\n",
    "    22772,\n",
    "    22773,\n",
    "]\n",
    "\n",
    "mask = data_train['id'].isin(ids_test)\n",
    "data_validation = data_train.loc[mask].copy()\n",
    "data_sub_train = data_train.loc[~mask].copy()\n",
    "mask = data['id']==id_test\n",
    "data_testing = data_with_force.loc[mask]"
   ]
  },
  {
   "cell_type": "code",
   "execution_count": null,
   "id": "931ad344-392e-4f2f-990c-cbb0855daeee",
   "metadata": {
    "tags": [
     "remove-cell"
    ]
   },
   "outputs": [],
   "source": [
    "def rotate(df):\n",
    "    \n",
    "    dpsi = 2*np.pi*np.random.random()\n",
    "    \n",
    "    df['psi']+=dpsi\n",
    "    x0 = df['x0'].copy()\n",
    "    y0 = df['y0'].copy()\n",
    "    \n",
    "    df['x0'] = np.cos(dpsi)*x0 - np.sin(dpsi)*y0\n",
    "    df['y0'] = np.sin(dpsi)*x0 + np.cos(dpsi)*y0\n",
    "        \n",
    "    \n",
    "    return df\n",
    "    \n",
    "    "
   ]
  },
  {
   "cell_type": "code",
   "execution_count": null,
   "id": "b2659aa6-082b-41bb-b6f9-ba41f7a61842",
   "metadata": {
    "tags": [
     "remove-cell"
    ]
   },
   "outputs": [],
   "source": [
    "np.random.seed(3)\n",
    "fig,ax=plt.subplots()\n",
    "\n",
    "dataframes = {id:rotate(df_) for id, df_ in data_sub_train.groupby(by='id')}\n",
    "styles = {id:{'style':'b-','label':'_nolegend_'} for id, df_ in data_sub_train.groupby(by='id')}\n",
    "\n",
    "dataframes.update({id:rotate(df_) for id, df_ in data_validation.groupby(by='id')})\n",
    "styles.update({id:{'style':'g-','label':'_nolegend_'} for id, df_ in data_validation.groupby(by='id')})\n",
    "\n",
    "dataframes.update({id:rotate(df_) for id, df_ in data_testing.groupby(by='id')})\n",
    "styles.update({id:{'style':'r-','label':'_nolegend_'} for id, df_ in data_testing.groupby(by='id')})\n",
    "\n",
    "track_plots(dataframes, lpp=ship_data['L'], beam=ship_data['B'],  styles=styles, N=2, ax=ax);\n",
    "\n",
    "ax.plot([],'b-',label='Training')\n",
    "ax.plot([],'g-',label='Validation')\n",
    "ax.plot([],'r-',label='Testing')\n",
    "\n",
    "\n",
    "ax.legend();\n",
    "glue('fig_traintest',fig, display=False)"
   ]
  },
  {
   "cell_type": "code",
   "execution_count": null,
   "id": "ff13c9aa-ac95-4585-917e-bc3efd137865",
   "metadata": {
    "tags": [
     "remove-cell"
    ]
   },
   "outputs": [],
   "source": [
    "ps = PrimeSystem(**ship_data)\n",
    "regression = Regression(\n",
    "        vmm=vmm,\n",
    "        data=data_train,\n",
    "        added_masses=added_masses,\n",
    "        ship_parameters=ship_data,\n",
    "        prime_system=ps,\n",
    "        exclude_parameters=exclude_parameters, \n",
    "        connect_equations_Y_N_rudder=True\n",
    "    )"
   ]
  },
  {
   "cell_type": "code",
   "execution_count": null,
   "id": "cb5f1f13-d868-45a0-a89b-75a96da97117",
   "metadata": {
    "tags": [
     "remove-cell"
    ]
   },
   "outputs": [],
   "source": [
    "Xs = {}\n",
    "ys = {}\n",
    "\n",
    "\n",
    "Xs['X'], ys['X'] = regression.diff_eq_X.calculate_features_and_label(data=data_prime, y=data_prime['fx'])\n",
    "Xs['Y'], ys['Y'] = regression.diff_eq_Y.calculate_features_and_label(data=data_prime, y=data_prime['fy'])\n",
    "Xs['N'], ys['N'] = regression.diff_eq_N.calculate_features_and_label(data=data_prime, y=data_prime['mz'])\n",
    "\n",
    "dofs = list(Xs.keys())"
   ]
  },
  {
   "cell_type": "code",
   "execution_count": null,
   "id": "e968f7da-28d9-455f-ab8c-af6ad24bb68e",
   "metadata": {
    "tags": [
     "remove-cell"
    ]
   },
   "outputs": [],
   "source": [
    "df_parameters = pd.DataFrame()\n",
    "df_parameters['mean'] = regression.model_N.params\n",
    "df_parameters['std'] = regression.model_N.bse\n",
    "df_parameters.sort_values(by='std', ascending=False, inplace=True)"
   ]
  },
  {
   "cell_type": "code",
   "execution_count": null,
   "id": "1e87ea17-e073-4ed4-8956-d78da6b1c5ad",
   "metadata": {
    "tags": [
     "remove-cell"
    ]
   },
   "outputs": [],
   "source": [
    "df_table = df_parameters.iloc[0:5]\n",
    "glue('Ndelta',int(df_parameters.loc['Ndelta','mean'].round(0)))\n",
    "glue('eNdelta',int(df_parameters.loc['Ndelta','std'].round(0)))\n",
    "\n",
    "glue('Nvvdelta',int(df_parameters.loc['Nvvdelta','mean'].round(0)))\n",
    "glue('eNvvdelta',int(df_parameters.loc['Nvvdelta','std'].round(0)))\n",
    "\n",
    "df_table"
   ]
  },
  {
   "cell_type": "markdown",
   "id": "46dd086f-ab83-4231-9517-14cb520ddbda",
   "metadata": {
    "tags": []
   },
   "source": [
    "Large problems with multicolliearity was encountered when applying the PIT on the wPCC data with AVMM. The absolute correlation coefficient between the features in the wPCC yaw moment regression are shown in {numref}`fig_Ncorr`. It can be seen that most of the coefficients have very high absolute correlation (indicated in black).\n",
    "\n",
    "```{glue:figure} fig_Ncorr\n",
    ":figwidth: 1000px\n",
    ":name: \"fig_Ncorr\"\n",
    "\n",
    "Absolute correlation between the features in the wPCC yaw moment regression of AVMM\n",
    "```\n",
    "\n",
    "Some of the regressed hydrodynamic derivatives in the AVMM also have very large values and large uncertainty.\n",
    "\n",
    "\n",
    "\n",
    "\n",
    "\n",
    "\n",
    "\n"
   ]
  },
  {
   "cell_type": "code",
   "execution_count": null,
   "id": "cc62257c-06e5-4b2a-9faa-310ddef8b4f0",
   "metadata": {
    "tags": [
     "remove-cell"
    ]
   },
   "outputs": [],
   "source": [
    "X = Xs['N']\n",
    "corr = X.corr().abs()\n",
    "corr_ = np.tril(corr, k=-1)\n",
    "corr_ = pd.DataFrame(corr_, index=X.columns, columns=X.columns)\n",
    "\n",
    "fig,ax=plt.subplots()\n",
    "grid = sns.heatmap(corr_, cmap='gray_r')\n",
    "glue('fig_Ncorr',fig, display=False)\n",
    "fig.savefig(\"figures/fig_Ncorr.pdf\")"
   ]
  },
  {
   "cell_type": "code",
   "execution_count": null,
   "id": "df807501-64ff-4c0e-bac5-bc29f94b1b5c",
   "metadata": {
    "tags": [
     "remove-cell"
    ]
   },
   "outputs": [],
   "source": [
    "ship_model = catalog.load(f\"{ship}.updated.{vmm_name}.joined.model\")"
   ]
  },
  {
   "cell_type": "markdown",
   "id": "a45e5ebb-595e-457f-b443-829a452bd544",
   "metadata": {
    "tags": [
     "remove-cell"
    ]
   },
   "source": [
    "## VMM Martin"
   ]
  },
  {
   "cell_type": "code",
   "execution_count": null,
   "id": "44f7603a-4290-4d44-b8ee-296c9c4e49ed",
   "metadata": {
    "tags": [
     "remove-cell"
    ]
   },
   "outputs": [],
   "source": [
    "vmm_martin = catalog.load(\"vmm_martins_simple\")\n",
    "ek_martin = catalog.load(f\"{ship}.vmm_martins_simple.ek\")"
   ]
  },
  {
   "cell_type": "code",
   "execution_count": null,
   "id": "dab59306-aed9-489a-9e3d-3d7e89dbcbc3",
   "metadata": {
    "tags": [
     "remove-cell"
    ]
   },
   "outputs": [],
   "source": [
    "regression_martin, _ = fit_motions(data=data_sub_train, \n",
    "                                   added_masses=added_masses, \n",
    "                                   ship_data=ship_data, \n",
    "                                   vmm=vmm_martin, \n",
    "                                   exclude_parameters=exclude_parameters)\n",
    "\n",
    "ship_model_martin = create_model_from_motion_regression(regression=regression_martin)\n",
    "#result_martin = ship_model_martin.simulate(data_validation)\n",
    "#df_predict_martin = result_martin.result.copy()"
   ]
  },
  {
   "cell_type": "code",
   "execution_count": null,
   "id": "71266681-d4a9-4612-90cf-a637a6c7a96d",
   "metadata": {
    "tags": [
     "remove-cell"
    ]
   },
   "outputs": [],
   "source": [
    "regression_abkowitz, _ = fit_motions(data=data_sub_train, \n",
    "                                   added_masses=added_masses, \n",
    "                                   ship_data=ship_data, \n",
    "                                   vmm=vmm, \n",
    "                                   exclude_parameters=exclude_parameters)\n",
    "\n",
    "ship_model_abkowitz = create_model_from_motion_regression(regression=regression_abkowitz)"
   ]
  },
  {
   "cell_type": "markdown",
   "id": "dffe1d5e-361b-416d-b7aa-dd7b3e6b88bf",
   "metadata": {},
   "source": [
    "The mean values and standard error (se) of the hydrodynamic derivatives for wPCC obtained with PIT applied on MAVMM ([eq](eqxmartinssimple),[eq](eqymartinssimple), [eq](eqnmartinssimple)) are shown in {numref}`wpcc_derivatives`. The standard error is much smaller for this model compared to AVMM."
   ]
  },
  {
   "cell_type": "markdown",
   "id": "5d564073-415e-410a-ae85-e4b81c55cc33",
   "metadata": {},
   "source": [
    "```{list-table} wPCC MAVMM derivatives (times 1000)\n",
    ":header-rows: 1\n",
    ":name: wpcc_derivatives\n",
    "* - name\n",
    "  - mean\n",
    "  - se\n",
    "  - name\n",
    "  - mean\n",
    "  - se\n",
    "  - name\n",
    "  - mean\n",
    "  - se\n",
    "* - $ X_{\\delta\\delta} $\n",
    "  - -2.927\n",
    "  - 0.011\n",
    "  - $ Y_{ur} $\n",
    "  - -65.507\n",
    "  - 0.082\n",
    "  - $ N_{\\delta} $\n",
    "  - -1.993\n",
    "  - 0.002\n",
    "* - $ X_{vr} $\n",
    "  - -7.737\n",
    "  - 0.066\n",
    "  - $ Y_{v} $\n",
    "  - -20.347\n",
    "  - 0.016\n",
    "  - $ N_{T\\delta} $\n",
    "  - -5.392\n",
    "  - 0.599\n",
    "* - $ X_{rr} $\n",
    "  - -1.413\n",
    "  - 0.026\n",
    "  - $ Y_{u} $\n",
    "  - -0.027\n",
    "  - 0.001\n",
    "  - $ N_{r} $\n",
    "  - -37.341\n",
    "  - 0.096\n",
    "* - $ X_{uu} $\n",
    "  - 20.124\n",
    "  - 0.137\n",
    "  - $ Y_{r} $\n",
    "  - 64.14\n",
    "  - 0.083\n",
    "  - $ N_{u} $\n",
    "  - -0.003\n",
    "  - 0.0\n",
    "* - $ X_{u} $\n",
    "  - -20.948\n",
    "  - 0.137\n",
    "  - \n",
    "  - \n",
    "  - \n",
    "  - $ N_{ur} $\n",
    "  - 35.525\n",
    "  - 0.096\n",
    "* - \n",
    "  - \n",
    "  - \n",
    "  - \n",
    "  - \n",
    "  - \n",
    "  - $ N_{v} $\n",
    "  - -0.05\n",
    "  - 0.004\n",
    "* - \n",
    "  - \n",
    "  - \n",
    "  - \n",
    "  - \n",
    "  - \n",
    "  - $ N_{vv\\delta} $\n",
    "  - -19.051\n",
    "  - 0.054\n",
    "\n",
    "```"
   ]
  },
  {
   "cell_type": "markdown",
   "id": "a988913e-c012-48ff-a044-9637419d02e2",
   "metadata": {
    "tags": []
   },
   "source": [
    "Forces and moment predicted with the VMMs fitted on the training set are show in {numref}`fig_validation_forces`. It can be seen that AVMM overpredicts the forces by far due to the anticipated extrapolation error. Simulations of the validation cases where therefore only possible with the MAVMM as shown for one of the ZigZag20/20 validation cases in {numref}`fig_validation_sim`.\n",
    "\n",
    "```{glue:figure} fig_validation_forces\n",
    ":figwidth: 1000px\n",
    ":name: \"fig_validation_forces\"\n",
    "\n",
    "Validation of force models for wPCC ZigZag20/20.\n",
    "```\n",
    "\n",
    "```{glue:figure} fig_validation_sim\n",
    ":figwidth: 1000px\n",
    ":name: \"fig_validation_sim\"\n",
    "\n",
    "Validation with simulations for wPCC ZigZag20/20.\n",
    "```"
   ]
  },
  {
   "cell_type": "code",
   "execution_count": null,
   "id": "30e87808-58cd-4cbe-906c-388979850c37",
   "metadata": {
    "tags": [
     "remove-cell"
    ]
   },
   "outputs": [],
   "source": [
    "validation_martin = regression_martin.predict(data_validation)\n",
    "validation_abkowitz = regression_abkowitz.predict(data_validation)\n",
    "\n",
    "fig,axes=plt.subplots(nrows=3)\n",
    "\n",
    "for ax,dof in zip(axes,['fx','fy','mz']):\n",
    "    \n",
    "    validation_abkowitz.plot(y=dof,ax=ax, label='Validation AVMM', style='r-')\n",
    "    validation_martin.plot(y=dof,ax=ax, label='Validation MAVMM', style='b--')\n",
    "    data_validation.plot(y=dof,ax=ax, label='True', style='k-.')\n",
    "    \n",
    "    ax.set_ylabel(dof)\n",
    "    ax.set_xlabel('sample')\n",
    "    ax.get_legend().set_visible(False)\n",
    "    \n",
    "axes[0].legend();\n",
    "glue(\"fig_validation_forces\",fig, display=False)\n",
    "fig.savefig(\"figures/fig_validation_forces.pdf\")"
   ]
  },
  {
   "cell_type": "code",
   "execution_count": null,
   "id": "ee322735-d40b-4fca-909e-b59baa1afa2e",
   "metadata": {
    "tags": [
     "remove-cell"
    ]
   },
   "outputs": [],
   "source": [
    "for id_validation in ids_test[0:1]:\n",
    "    \n",
    "    df_test = catalog.load(f'{ship}.updated.{id_validation}.data_ek_smooth')\n",
    "    result_martin = ship_model_martin.simulate(df_test)   \n",
    "    \n",
    "    dataframes = {'True':df_test,\n",
    "                 'Validation MAVMM':result_martin.result,\n",
    "                 }\n",
    "    \n",
    "    try:\n",
    "        result_abkowitz = ship_model_abkowitz.simulate(df_test)\n",
    "    except:\n",
    "        pass\n",
    "    else:\n",
    "        dataframes['Abkowitz']=result_abkowitz.result\n",
    "    \n",
    "    track_plots(dataframes, lpp=ship_data['L'], beam=ship_data['B'],  N=2);\n",
    "    fig = plot(dataframes=dataframes, keys=['u','v','r'], ncols=1, zero_origo=True);\n",
    "\n",
    "glue(\"fig_validation_sim\",fig, display=False)\n",
    "fig.savefig(\"figures/fig_validation_sim.pdf\")"
   ]
  },
  {
   "cell_type": "code",
   "execution_count": null,
   "id": "d03a6684-2f43-4663-8b15-e683a5e841be",
   "metadata": {
    "tags": [
     "remove-cell"
    ]
   },
   "outputs": [],
   "source": [
    "df_test = catalog.load(f'{ship}.updated.{id_test}.data_ek_smooth')\n",
    "ek = catalog.load(f\"{ship}.{vmm_name}.ek\")"
   ]
  },
  {
   "cell_type": "code",
   "execution_count": null,
   "id": "7f8c3f8d-8d03-4563-b2ca-f5cd1431a183",
   "metadata": {
    "tags": [
     "remove-cell"
    ]
   },
   "outputs": [],
   "source": [
    "#regression_martin, _ = fit_motions(data=data_train, \n",
    "#                                   added_masses=added_masses, \n",
    "#                                   ship_data=ship_data, \n",
    "#                                   vmm=vmm_martin, \n",
    "#                                   exclude_parameters=exclude_parameters)\n",
    "#\n",
    "#ship_model_martin = create_model_from_motion_regression(regression=regression_martin)\n",
    "#result_martin = ship_model_martin.simulate(df_test) "
   ]
  },
  {
   "cell_type": "code",
   "execution_count": null,
   "id": "a1cdbfcb-466b-4a11-af9d-8e586b80278f",
   "metadata": {
    "tags": [
     "remove-cell"
    ]
   },
   "outputs": [],
   "source": [
    "#np.random.seed(42)\n",
    "#N_=100\n",
    "#\n",
    "#df_parameter_variations = []\n",
    "#\n",
    "#for dof, rv in rvs.items():\n",
    "#    mean = means[dof]\n",
    "#    df_parameter_variations.append(pd.DataFrame(data=rv.rvs(N_), columns=mean.index))\n",
    "#    \n",
    "#df_parameter_variations = pd.concat(df_parameter_variations, axis=1)"
   ]
  },
  {
   "cell_type": "code",
   "execution_count": null,
   "id": "9769f169-e4e7-453b-8e22-7d0c667bd214",
   "metadata": {
    "tags": [
     "remove-cell"
    ]
   },
   "outputs": [],
   "source": [
    "df_parameter_variations = parameter_variation(regression = regression_martin, N_=100, seed=42)\n",
    "\n",
    "interesting = ['u','v','r','x0','y0','psi','delta','thrust','U']\n",
    "data = df_test[interesting].copy()\n",
    "try:\n",
    "    loaders = catalog.load(\"wpcc.monte_carlo_simulation\")\n",
    "except Exception:\n",
    "    # Slow way...\n",
    "    dataframes_monte_carlo = monte_carlo(data, df_parameter_variations, model=ship_model_martin, fast=True, ek=ek)\n",
    "    catalog.save(\"wpcc.monte_carlo_simulation\", data={str(key):value for key,value in dataframes_monte_carlo.items()})\n",
    "else:\n",
    "    dataframes_monte_carlo = {key:loader() for key,loader in loaders.items()}"
   ]
  },
  {
   "cell_type": "code",
   "execution_count": null,
   "id": "3e81b8df-6880-42c3-b1d1-bb23302a1e12",
   "metadata": {
    "tags": [
     "remove-cell"
    ]
   },
   "outputs": [],
   "source": [
    "dataframes = {\n",
    "    'Model test' : df_test,\n",
    "    'Test MAVMM' : result_martin.result,\n",
    "        \n",
    "}\n",
    "\n",
    "styles = {\n",
    "    'Model test' : {'style':'r--'},\n",
    "    'Test MAVMM' : {'style':'k-'},\n",
    "    \n",
    "}\n",
    "\n",
    "for index in dataframes_monte_carlo.keys():\n",
    "    styles[index] = {'style':'b-', \n",
    "                     'alpha':0.1,\n",
    "                     'label':'_Hidden label',\n",
    "                     'zorder' : -100}"
   ]
  },
  {
   "cell_type": "code",
   "execution_count": null,
   "id": "3d64b74a-97bb-4a9e-ab42-17a7c760e127",
   "metadata": {
    "tags": [
     "remove-cell"
    ]
   },
   "outputs": [],
   "source": [
    "fig,ax=plt.subplots()\n",
    "track_plots(dataframes_monte_carlo, lpp=ship_data['L'], beam=ship_data['B'],  styles=styles, plot_boats=False, ax=ax);\n",
    "track_plots(dataframes, lpp=ship_data['L'], beam=ship_data['B'],  styles=styles, N=5, ax=ax);\n",
    "ax.plot([],[],'b-',label='Monte Carlo MAVMM')\n",
    "ax.legend()\n",
    "\n",
    "glue(\"fig_track_plot_testing_sim\", fig, display=False)\n",
    "fig.savefig(\"figures/fig_track_plot_testing_sim.pdf\")"
   ]
  },
  {
   "cell_type": "markdown",
   "id": "0eb0feb5-fc5b-4368-9e44-81719a9724b7",
   "metadata": {
    "tags": []
   },
   "source": [
    "For wPCC the prediction was conducted using simulation with the MAVMM trained on the training and validation dataset. Result from the final prediction of the turning circle test is seen in {numref}`fig_track_plot_testing_sim`, {numref}`fig_testing_sim`. Monte Carlo simulations with alternative realizations of the regression are also shown in these figures. The alternative realizations are very similar to the model with mean values of the regression (black line), since the standard deviation of the regressed parameters are very small.\n",
    "\n",
    "Advance and tactical diameter {cite:p}`imo_standards_2002` differs 4% and 1% between simulation with the VMM and corresponding results from the model tests {numref}`tab_wpcc_advance`.\n",
    "\n",
    "```{glue:figure} fig_track_plot_testing_sim\n",
    ":figwidth: 1000px\n",
    ":name: \"fig_track_plot_testing_sim\"\n",
    "\n",
    "Turning circle test case for wPCC, track plots from model test and simulation.\n",
    "```\n",
    "\n",
    "```{glue:figure} fig_testing_sim\n",
    ":figwidth: 1000px\n",
    ":name: \"fig_testing_sim\"\n",
    "\n",
    "Turning circle test case for wPCC, time series from model test and simulation.\n",
    "```\n"
   ]
  },
  {
   "cell_type": "code",
   "execution_count": null,
   "id": "e5caae1c-0c58-47ec-9798-b1489ff4a137",
   "metadata": {
    "tags": [
     "remove-cell"
    ]
   },
   "outputs": [],
   "source": [
    "dataframes_ = dataframes.copy()\n",
    "dataframes_.update(dataframes_monte_carlo)\n",
    "fig = plot(dataframes=dataframes_, keys=['u','v','r'], ncols=1, styles=styles, zero_origo=False);\n",
    "ax = fig.axes[0]\n",
    "ax.plot([],[],'b-',label='Monte Carlo MAVMM')\n",
    "ax.legend()\n",
    "fig.savefig(\"figures/fig_testing_sim.pdf\")\n",
    "glue(\"fig_testing_sim\", fig, display=False)\n"
   ]
  },
  {
   "cell_type": "code",
   "execution_count": null,
   "id": "59f159a3-31a8-41e6-8bfc-f4fe35acd29d",
   "metadata": {
    "tags": [
     "remove-cell"
    ]
   },
   "outputs": [],
   "source": [
    "result_turning_circle = pd.DataFrame()\n",
    "turning_circle = TurningCircle(angle=35, nominal_speed=df_test['U'].iloc[0], lpp=ship_data['L'], df=df_test)\n",
    "result_turning_circle['True'] = pd.Series(turning_circle.evaluate(), name='True')\n",
    "df_result = result_martin.result.copy()\n",
    "df_result['V'] = np.sqrt(df_result['u']**2 + df_result['v']**2)\n",
    "turning_circle = TurningCircle(angle=35, nominal_speed=df_test['U'].iloc[0], lpp=ship_data['L'], df=df_result)\n",
    "result_turning_circle['Test Modified Abkowitz'] = pd.Series(turning_circle.evaluate(), name='Test Modified Abkowitz')"
   ]
  },
  {
   "cell_type": "code",
   "execution_count": null,
   "id": "05858530-8652-48b0-a101-dbe2bd18e9f7",
   "metadata": {
    "tags": [
     "remove-cell"
    ]
   },
   "outputs": [],
   "source": [
    "result_turning_circle.drop(index='units',inplace=True)"
   ]
  },
  {
   "cell_type": "code",
   "execution_count": null,
   "id": "e5838754-7cae-423b-956f-78d404e28ec3",
   "metadata": {
    "tags": [
     "remove-cell"
    ]
   },
   "outputs": [],
   "source": [
    "result_turning_circle.pct_change(axis=1)"
   ]
  },
  {
   "cell_type": "code",
   "execution_count": null,
   "id": "84f6ccc7-12a1-4514-a6f0-7f7863247af3",
   "metadata": {
    "tags": [
     "remove-cell"
    ]
   },
   "outputs": [],
   "source": [
    "df_table = result_turning_circle.transpose()[['advance', 'Advance (IMO)','tactical_diameter', 'Tactical diameter (IMO)']]\n",
    "df_table = df_table.astype(float)\n",
    "df_table.rename(index={'True':'Model test', 'Test Modified Abkowitz':'Prediction'}, inplace=True)\n",
    "df_table.rename(columns={'advance':'Advance [m]', \n",
    "                         'Advance (IMO)':'Advance (IMO) [m]',\n",
    "                         'tactical_diameter':'Tactical diameter [m]', \n",
    "                         'Tactical diameter (IMO)':'Tactical diameter (IMO) [m]',\n",
    "                        \n",
    "                        }, inplace=True)\n",
    "\n",
    "print(df_to_myst(df_table.round(decimals=2), \n",
    "                 title=\"wPCC Predicted turning circle advance and tactical diameter compared to SSPA model tests and IMO limit\",\n",
    "                 name=\"tab_wpcc_advance\",\n",
    "                 include_index=True)\n",
    "                 )"
   ]
  },
  {
   "cell_type": "markdown",
   "id": "bd93c32f-13de-45ad-be72-6fd86180c052",
   "metadata": {},
   "source": [
    "```{list-table} wPCC Predicted turning circle advance and tactical diameter compared to SSPA model tests and IMO limit\n",
    ":header-rows: 1\n",
    ":name: tab_wpcc_advance\n",
    "* -  \n",
    "  - Advance [m]\n",
    "  - Advance (IMO) [m]\n",
    "  - Tactical diameter [m]\n",
    "  - Tactical diameter (IMO) [m]\n",
    "* - Model test\n",
    "  - 12.82\n",
    "  - 22.57\n",
    "  - 14.76\n",
    "  - 25.07\n",
    "* - Prediction\n",
    "  - 13.3\n",
    "  - 22.57\n",
    "  - 14.93\n",
    "  - 25.07\n",
    "\n",
    "```\n"
   ]
  },
  {
   "cell_type": "code",
   "execution_count": null,
   "id": "35266c3e-87e1-47f6-b0a7-285dd0fda193",
   "metadata": {
    "tags": [
     "remove-cell"
    ]
   },
   "outputs": [],
   "source": [
    "vmm_name = 'vmm_martins_simple'\n",
    "regression = catalog.load(f\"{ ship }.updated.{ vmm_name }.joined.regression\")\n",
    "\n",
    "models = {'X': regression.model_X,\n",
    "          'Y': regression.model_Y,\n",
    "          'N': regression.model_N}\n",
    "\n",
    "mean_parameters_all = []\n",
    "for dof, model in models.items():\n",
    "\n",
    "    mean_parameters = pd.DataFrame()\n",
    "    mean_parameters['mean'] = model.params*1000\n",
    "    mean_parameters['se'] = model.bse*1000\n",
    "    \n",
    "    names = pd.Series(mean_parameters.index)\n",
    "    mean_parameters.index = names.apply(parameter_to_latex)\n",
    "    mean_parameters['name'] = mean_parameters.index\n",
    "    mean_parameters.reset_index(inplace=True, drop=True)\n",
    "    mean_parameters_all.append(mean_parameters[['name','mean','se']].copy())\n",
    "    \n",
    "mean_parameters = pd.concat(mean_parameters_all, axis=1) \n",
    "mean_parameters_table = mean_parameters.copy()\n",
    "mean_parameters_table=np.around(mean_parameters_table, decimals=3)\n",
    "mean_parameters_table.fillna('', inplace=True)\n",
    "\n",
    "print(df_to_myst(mean_parameters_table, \n",
    "                 title=f'wPCC MAVMM derivatives (times 1000)', \n",
    "                 name=f\"wpcc_derivatives\", include_index=False))"
   ]
  },
  {
   "cell_type": "code",
   "execution_count": null,
   "id": "5587759c-2e10-4924-a037-8d0bf796362a",
   "metadata": {
    "tags": [
     "remove-cell"
    ]
   },
   "outputs": [],
   "source": [
    "mean_parameters_table"
   ]
  }
 ],
 "metadata": {
  "citation-manager": {
   "items": {}
  },
  "kernelspec": {
   "display_name": "wPCC_pipeline",
   "language": "python",
   "name": "python3"
  },
  "language_info": {
   "codemirror_mode": {
    "name": "ipython",
    "version": 3
   },
   "file_extension": ".py",
   "mimetype": "text/x-python",
   "name": "python",
   "nbconvert_exporter": "python",
   "pygments_lexer": "ipython3",
   "version": "3.7.9"
  }
 },
 "nbformat": 4,
 "nbformat_minor": 5
}
