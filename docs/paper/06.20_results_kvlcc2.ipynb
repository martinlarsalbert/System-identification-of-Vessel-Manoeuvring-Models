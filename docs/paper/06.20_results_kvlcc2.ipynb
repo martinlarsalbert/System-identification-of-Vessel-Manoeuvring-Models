{
 "cells": [
  {
   "cell_type": "markdown",
   "id": "51ee47bb-622d-4036-a6df-7ad3fa404233",
   "metadata": {},
   "source": [
    "(case_kvlcc2)=\n",
    "## KVLCC2"
   ]
  },
  {
   "cell_type": "code",
   "execution_count": null,
   "id": "229acafd-5f12-4f8c-be91-ac64440c547b",
   "metadata": {
    "tags": [
     "remove-cell"
    ]
   },
   "outputs": [],
   "source": [
    "# %load imports.py\n",
    "%load_ext autoreload\n",
    "%autoreload 2\n",
    "%reload_kedro\n",
    "%config Completer.use_jedi = False  ## (To fix autocomplete)\n",
    "%matplotlib inline\n",
    "\n",
    "import warnings\n",
    "warnings.filterwarnings('ignore')\n",
    "\n",
    "import pandas as pd\n",
    "pd.set_option('display.max_rows', 500)\n",
    "pd.set_option('display.max_columns', 500)\n",
    "from src.models.vmm import ModelSimulator\n",
    "import matplotlib.pyplot as plt\n",
    "from src.visualization.plot import track_plots, plot, captive_plot\n",
    "import kedro\n",
    "import numpy as np\n",
    "import os.path\n",
    "import anyconfig\n",
    "\n",
    "import matplotlib\n",
    "plt.style.use('paper')\n",
    "from IPython.display import set_matplotlib_formats\n",
    "set_matplotlib_formats('pdf')\n",
    "\n",
    "from src.symbols import *\n",
    "\n",
    "# Read configs:\n",
    "conf_path = os.path.join(\"../../conf/base/\")\n",
    "runs_globals_path = os.path.join(\n",
    "    conf_path,\n",
    "    \"runs_globals.yml\",\n",
    ")\n",
    "\n",
    "runs_globals = anyconfig.load(runs_globals_path)\n",
    "model_test_ids = runs_globals[\"model_test_ids\"]\n",
    "\n",
    "join_globals_path = os.path.join(\n",
    "    conf_path,\n",
    "    \"join_globals.yml\",\n",
    ")\n",
    "\n",
    "joins = runs_globals[\"joins\"]\n",
    "join_runs_dict = anyconfig.load(join_globals_path)\n",
    "\n",
    "globals_path = os.path.join(\n",
    "    conf_path,\n",
    "    \"globals.yml\",\n",
    ")\n",
    "global_variables = anyconfig.load(globals_path)\n",
    "\n",
    "\n",
    "\n",
    "vmm_names = global_variables[\"vmms\"]\n",
    "\n",
    "from wPCC_pipeline.pipelines.motion_regression.nodes import predict_force, fit_motions, create_model_from_motion_regression\n",
    "from wPCC_pipeline.pipelines.prediction.nodes import simulate_euler\n",
    "from src.prime_system import PrimeSystem\n",
    "\n",
    "from sklearn.linear_model import LinearRegression\n",
    "from sklearn.model_selection import cross_val_score\n",
    "from sklearn.model_selection import RepeatedKFold\n",
    "from sklearn.feature_selection import SelectKBest\n",
    "from sklearn.feature_selection import f_regression\n",
    "from sklearn.pipeline import Pipeline\n",
    "from src.parameters import df_parameters\n",
    "p = df_parameters['symbol']\n",
    "from src.feature_selection import drop_multicollinearity\n",
    "from src.bias_variance_tradeoff import train_test_split_run\n",
    "from sklearn.metrics import r2_score\n",
    "from wPCC_pipeline.pipelines.motion_regression.nodes import predict_force, fit_motions, create_model_from_motion_regression, create_full_model_from_motion_regression\n",
    "from src.models.regression import Regression\n",
    "from myst_nb import glue\n",
    "import src.symbols as s\n",
    "from IPython.display import Latex\n",
    "from src.substitute_dynamic_symbols import run\n",
    "import seaborn as sns\n",
    "from src.feature_selection import feature_imporance, BestFeatures, DropCorrelation\n",
    "from wPCC_pipeline.turning_circle import TurningCircle\n",
    "from src.models.propeller import fit, predict, predictor\n",
    "from jb_helpers import parameter_to_latex, df_to_myst\n",
    "from wPCC_pipeline.monte_carlo import monte_carlo, parameter_variation"
   ]
  },
  {
   "cell_type": "code",
   "execution_count": null,
   "id": "6e56cee0-9eec-45f4-bda2-102ffd2bd98c",
   "metadata": {
    "tags": [
     "remove-cell"
    ]
   },
   "outputs": [],
   "source": [
    "ship=\"kvlcc2_hsva\"\n",
    "#vmm_name = \"vmm_martins_simple\"\n",
    "vmm_name = \"vmm_abkowitz\"\n",
    "vmm = catalog.load(vmm_name)\n",
    "\n",
    "ship_data = catalog.load(f\"{ship}.ship_data\")\n",
    "\n",
    "#regression = catalog.load(f\"{ship}.updated.{vmm_name}.joined.regression\")\n",
    "#regression.diff_eq_Y.exclude_parameters.pop('Ydelta')\n",
    "#regression.diff_eq_Y.exclude_parameters.pop('Ythrustdelta')\n",
    "\n",
    "\n",
    "data = catalog.load(f\"{ship}.updated.joined.data_ek_smooth\")\n",
    "\n",
    "added_masses = catalog.load(f\"{ship}.added_masses\")\n",
    "exclude_parameters = catalog.load(f\"params:{ship}.motion_regression.exclude_parameters\")\n",
    "columns = ['u','v','r','u1d','v1d','r1d','delta','thrust','id','x0','y0','psi','rev']\n",
    "data_with_force = predict_force(data=data[columns], added_masses=added_masses, ship_parameters=ship_data, vmm=vmm)"
   ]
  },
  {
   "cell_type": "code",
   "execution_count": null,
   "id": "307f22ba-7153-4124-b083-ebd93cda1f77",
   "metadata": {
    "tags": [
     "remove-cell"
    ]
   },
   "outputs": [],
   "source": [
    "def break_plot(df, **kwargs):\n",
    "    \n",
    "    df_ = df.copy()\n",
    "    mask = np.concatenate([[False],np.diff(df_.index)>1])\n",
    "    df_.loc[mask] = np.NaN\n",
    "    df_.plot(**kwargs)\n"
   ]
  },
  {
   "cell_type": "code",
   "execution_count": null,
   "id": "97037e20-ebb6-43e5-8cbd-511d1b33d02c",
   "metadata": {
    "tags": [
     "remove-cell"
    ]
   },
   "outputs": [],
   "source": [
    "ids = list(data_with_force['id'].unique())\n",
    "ids_train = ids.copy()\n",
    "# id_test = 22774  (MARIN test as test)\n",
    "#ids_train.remove(id_test)\n",
    "mask = data_with_force['id'].isin(ids_train)\n",
    "data_train = data_with_force.loc[mask].copy()\n",
    "#assert not id_test in data_train['id'].unique()\n",
    "\n",
    "ps = PrimeSystem(**ship_data)\n",
    "data_prime = ps.prime(data_train, U=data_with_force['U'])"
   ]
  },
  {
   "cell_type": "code",
   "execution_count": null,
   "id": "d2128ee9-afc0-4639-93a5-2021694e7037",
   "metadata": {
    "tags": [
     "remove-cell"
    ]
   },
   "outputs": [],
   "source": [
    "ids_test = [\n",
    "    'HSVA_CPMC_KVLCC2_Z_35_05',\n",
    "]\n",
    "\n",
    "mask = data_train['id'].isin(ids_test)\n",
    "data_validation = data_train.loc[mask].copy()\n",
    "data_sub_train = data_train.loc[~mask].copy()"
   ]
  },
  {
   "cell_type": "code",
   "execution_count": null,
   "id": "aa4336eb-8b63-4969-8770-6cb80fe689bb",
   "metadata": {
    "tags": [
     "remove-cell"
    ]
   },
   "outputs": [],
   "source": [
    "ids2 = [\"kvlcc2.updated.MARIN_FREE_KVLCC2_tc_35_m\",\n",
    "        \"kvlcc2.updated.MARIN_FREE_KVLCC2_tc_-35_m\",\n",
    "        \"kvlcc2.updated.MARIN_FREE_KVLCC2_zz_10_m\",\n",
    "        \"kvlcc2.updated.MARIN_FREE_KVLCC2_zz_-10_m\",\n",
    "        \"kvlcc2.updated.MARIN_FREE_KVLCC2_zz_20_m\",\n",
    "        \"kvlcc2.updated.MARIN_FREE_KVLCC2_zz_-20_m\",\n",
    "        \n",
    "       ]\n",
    "\n",
    "data_testing = pd.DataFrame()\n",
    "for id in ids2: \n",
    "    df_test = catalog.load(f\"{id}.data_ek_smooth\")\n",
    "    df_test['id'] = id\n",
    "    data_testing = data_testing.append(df_test)\n",
    "    "
   ]
  },
  {
   "cell_type": "code",
   "execution_count": null,
   "id": "931ad344-392e-4f2f-990c-cbb0855daeee",
   "metadata": {
    "tags": [
     "remove-cell"
    ]
   },
   "outputs": [],
   "source": [
    "def rotate(df):\n",
    "    \n",
    "    dpsi = 2*np.pi*np.random.random()\n",
    "    \n",
    "    df['psi']+=dpsi\n",
    "    x0 = df['x0'].copy()\n",
    "    y0 = df['y0'].copy()\n",
    "    \n",
    "    df['x0'] = np.cos(dpsi)*x0 - np.sin(dpsi)*y0\n",
    "    df['y0'] = np.sin(dpsi)*x0 + np.cos(dpsi)*y0\n",
    "        \n",
    "    \n",
    "    return df\n",
    "    \n",
    "    "
   ]
  },
  {
   "cell_type": "code",
   "execution_count": null,
   "id": "b2659aa6-082b-41bb-b6f9-ba41f7a61842",
   "metadata": {
    "tags": [
     "remove-cell"
    ]
   },
   "outputs": [],
   "source": [
    "np.random.seed(1)\n",
    "fig,ax=plt.subplots()\n",
    "\n",
    "dataframes = {id:rotate(df_) for id, df_ in data_sub_train.groupby(by='id')}\n",
    "styles = {id:{'style':'b-','label':'_nolegend_'} for id, df_ in data_sub_train.groupby(by='id')}\n",
    "\n",
    "dataframes.update({id:rotate(df_) for id, df_ in data_validation.groupby(by='id')})\n",
    "styles.update({id:{'style':'g-','label':'_nolegend_'} for id, df_ in data_validation.groupby(by='id')})\n",
    "\n",
    "dataframes.update({id:rotate(df_) for id, df_ in data_testing.groupby(by='id') if 'tc' in id})\n",
    "styles.update({id:{'style':'r-','label':'_nolegend_'} for id, df_ in data_testing.groupby(by='id')})\n",
    "\n",
    "track_plots(dataframes, lpp=ship_data['L'], beam=ship_data['B'],  styles=styles, N=2, ax=ax);\n",
    "\n",
    "ax.plot([],'b-',label='Training (HSVA)')\n",
    "ax.plot([],'g-',label='Validation (HSVA)')\n",
    "ax.plot([],'r-',label='Testing (MARIN)')\n",
    "\n",
    "\n",
    "ax.legend();\n",
    "glue('fig_kvlcc2_traintest',fig, display=False)"
   ]
  },
  {
   "cell_type": "code",
   "execution_count": null,
   "id": "ff13c9aa-ac95-4585-917e-bc3efd137865",
   "metadata": {
    "tags": [
     "remove-cell"
    ]
   },
   "outputs": [],
   "source": [
    "ps = PrimeSystem(**ship_data)\n",
    "regression = Regression(\n",
    "        vmm=vmm,\n",
    "        data=data_train,\n",
    "        added_masses=added_masses,\n",
    "        ship_parameters=ship_data,\n",
    "        prime_system=ps,\n",
    "        exclude_parameters=exclude_parameters, \n",
    "        connect_equations_Y_N_rudder=True\n",
    "    )"
   ]
  },
  {
   "cell_type": "code",
   "execution_count": null,
   "id": "cb5f1f13-d868-45a0-a89b-75a96da97117",
   "metadata": {
    "tags": [
     "remove-cell"
    ]
   },
   "outputs": [],
   "source": [
    "Xs = {}\n",
    "ys = {}\n",
    "\n",
    "\n",
    "Xs['X'], ys['X'] = regression.diff_eq_X.calculate_features_and_label(data=data_prime, y=data_prime['fx'])\n",
    "Xs['Y'], ys['Y'] = regression.diff_eq_Y.calculate_features_and_label(data=data_prime, y=data_prime['fy'])\n",
    "Xs['N'], ys['N'] = regression.diff_eq_N.calculate_features_and_label(data=data_prime, y=data_prime['mz'])\n",
    "\n",
    "dofs = list(Xs.keys())"
   ]
  },
  {
   "cell_type": "code",
   "execution_count": null,
   "id": "e968f7da-28d9-455f-ab8c-af6ad24bb68e",
   "metadata": {
    "tags": [
     "remove-cell"
    ]
   },
   "outputs": [],
   "source": [
    "df_parameters = pd.DataFrame()\n",
    "df_parameters['mean'] = regression.model_N.params\n",
    "df_parameters['std'] = regression.model_N.bse\n",
    "df_parameters.sort_values(by='std', ascending=False, inplace=True)"
   ]
  },
  {
   "cell_type": "code",
   "execution_count": null,
   "id": "1e87ea17-e073-4ed4-8956-d78da6b1c5ad",
   "metadata": {
    "tags": [
     "remove-cell"
    ]
   },
   "outputs": [],
   "source": [
    "df_table = df_parameters.iloc[0:5]\n",
    "glue('Ndelta',df_parameters.loc['Ndelta','mean'])\n",
    "glue('eNdelta',df_parameters.loc['Ndelta','std'])\n",
    "\n",
    "glue('Nvvdelta',df_parameters.loc['Nvvdelta','mean'])\n",
    "glue('eNvvdelta',df_parameters.loc['Nvvdelta','std'])\n",
    "\n",
    "df_table"
   ]
  },
  {
   "cell_type": "code",
   "execution_count": null,
   "id": "df807501-64ff-4c0e-bac5-bc29f94b1b5c",
   "metadata": {
    "tags": [
     "remove-cell"
    ]
   },
   "outputs": [],
   "source": [
    "ship_model = catalog.load(f\"{ship}.updated.{vmm_name}.joined.model\")"
   ]
  },
  {
   "cell_type": "code",
   "execution_count": null,
   "id": "e623fa76-021e-4f23-91ef-9200b2716b4e",
   "metadata": {
    "tags": [
     "remove-cell"
    ]
   },
   "outputs": [],
   "source": [
    "propeller_coefficients = catalog.load(\"kvlcc2.propeller_coefficients\")\n",
    "\n",
    "for key,value in ship_data.items():\n",
    "    glue(key,value, display=False)\n",
    "    print(key)\n",
    "\n",
    "for key,value in propeller_coefficients.items():\n",
    "    glue(key,np.round(value, 5), display=False)\n",
    "    print(key)"
   ]
  },
  {
   "cell_type": "markdown",
   "id": "17d93798-0580-4b1c-aa93-5dc92848e68a",
   "metadata": {
    "tags": []
   },
   "source": [
    "### KVLCC2 propeller model"
   ]
  },
  {
   "cell_type": "markdown",
   "id": "47a0f76e-7be2-46c3-a479-bc433b8200f3",
   "metadata": {},
   "source": [
    "The coefficients of $K_T$ [eq](eqkt) where regressed from the propeller KVLCC2 characteristics from SIMMAN2008 HSVA model tests {cite:p}`stern_experience_2011` ($k_0$:{glue:}`k_0`, $k_1$:{glue:}`k_1`, $k_2$:{glue:}`k_2`)."
   ]
  },
  {
   "cell_type": "markdown",
   "id": "39e97ddc-d3d8-4ca9-b701-55d3dbf28de2",
   "metadata": {},
   "source": [
    "The Polynomial propeller model was developed with polynomial regression and cross validation on the training and validation datasets, to make the best feature selection."
   ]
  },
  {
   "cell_type": "markdown",
   "id": "fcb11e69-59e2-43bd-a59f-1a851614b3f5",
   "metadata": {},
   "source": [
    "A cross validation study on the three candidate propeller models: MMG propeller model, Simple propeller model and the Polynomial propeller model where carried out. The training set as well as the validation set was made up by entire model test time series from the HSVA model tests.\n",
    "The model tests were divided into the test and validation set randomly. The random train and validation was reapeated 100 times. The Polynomial was selected, having the highest accuracy. Taylor wake $w_{p0}$ = {glue:}`w_p0` was used in all three models, the MMG model used $C_1$={glue:}`C_1`, $C_2$={glue:}`C_2_beta_p_pos` when $\\beta_p>0$ and $C_2$={glue:}`C_2_beta_p_neg` when $\\beta_p<=0$ {cite:p}`yasukawa_introduction_2015-1`. \n",
    "\n",
    "{numref}`fig_propeller_validation` shows a small part of the cross validation.\n",
    "\n",
    "```{figure} figures/fig_propeller_validation.pdf\n",
    "---\n",
    "name: fig_propeller_validation\n",
    "---\n",
    "Validation of MMG, Simple and Poynomial propeller models for KVLCC2.\n",
    "```\n"
   ]
  },
  {
   "cell_type": "markdown",
   "id": "8d2cf22d-26a0-4187-8426-2d417f43ad51",
   "metadata": {},
   "source": [
    "{numref}`KVLCC2_propeller_model` shows coefficients fitted on the training and validation dataset for KVLCC2."
   ]
  },
  {
   "cell_type": "markdown",
   "id": "e535f050-cab6-4f93-a323-f377e3d31850",
   "metadata": {},
   "source": [
    "```{list-table} KVLCC2 propeller model\n",
    ":header-rows: 1\n",
    ":name: KVLCC2_propeller_model\n",
    "* -  \n",
    "  - $\\beta_p>0$\n",
    "  - $\\beta_p<=0$\n",
    "* - $C_1$\n",
    "  - -0.1735\n",
    "  - -0.1066\n",
    "* - $C_2$\n",
    "  - 0.4589\n",
    "  - 0.0771\n",
    "* - $C_3$\n",
    "  - -1.8865\n",
    "  - 1.2958\n",
    "* - $C_4$\n",
    "  - 0.0515\n",
    "  - 0.0514\n",
    "\n",
    "```"
   ]
  },
  {
   "cell_type": "markdown",
   "id": "a45e5ebb-595e-457f-b443-829a452bd544",
   "metadata": {
    "tags": []
   },
   "source": [
    "### KVLCC2 VMM"
   ]
  },
  {
   "cell_type": "code",
   "execution_count": null,
   "id": "44f7603a-4290-4d44-b8ee-296c9c4e49ed",
   "metadata": {
    "tags": [
     "remove-cell"
    ]
   },
   "outputs": [],
   "source": [
    "vmm_martin = catalog.load(\"vmm_martins_simple\")\n",
    "ek_martin = catalog.load(f\"{ship}.vmm_martins_simple.ek\")"
   ]
  },
  {
   "cell_type": "code",
   "execution_count": null,
   "id": "dab59306-aed9-489a-9e3d-3d7e89dbcbc3",
   "metadata": {
    "tags": [
     "remove-cell"
    ]
   },
   "outputs": [],
   "source": [
    "#regression_martin, _ = fit_motions(data=data_sub_train, \n",
    "#                                   added_masses=added_masses, \n",
    "#                                   ship_data=ship_data, \n",
    "#                                   vmm=vmm_martin, \n",
    "#                                   exclude_parameters=exclude_parameters)\n",
    "#\n",
    "#ship_model_martin = create_model_from_motion_regression(regression=regression_martin)\n"
   ]
  },
  {
   "cell_type": "code",
   "execution_count": null,
   "id": "24d49cfd-c56e-4556-8e5e-1436c9c6b48f",
   "metadata": {
    "tags": [
     "remove-cell"
    ]
   },
   "outputs": [],
   "source": [
    "add_constant = False\n",
    "model_pos, model_neg = fit(data=data_sub_train, ship_data=ship_data, propeller_coefficients=propeller_coefficients, add_constant=add_constant) \n",
    "data_predicted_thrust = predict(model_pos=model_pos, model_neg=model_neg, data=data_sub_train, propeller_coefficients=propeller_coefficients, \n",
    "                                ship_data=ship_data)\n",
    "\n",
    "regression_martin, parameters = fit_motions(data=data_predicted_thrust, added_masses=added_masses, \n",
    "                                                      ship_data=ship_data, vmm=vmm_martin, exclude_parameters=exclude_parameters)\n",
    "\n",
    "ship_model_martin = create_full_model_from_motion_regression(regression=regression_martin, \n",
    "                                                                  model_pos=model_pos, \n",
    "                                                                  model_neg=model_neg, \n",
    "                                                                  propeller_coefficients=propeller_coefficients)"
   ]
  },
  {
   "cell_type": "code",
   "execution_count": null,
   "id": "71266681-d4a9-4612-90cf-a637a6c7a96d",
   "metadata": {
    "tags": [
     "remove-cell"
    ]
   },
   "outputs": [],
   "source": [
    "#regression_abkowitz, _ = fit_motions(data=data_sub_train, \n",
    "#                                   added_masses=added_masses, \n",
    "#                                   ship_data=ship_data, \n",
    "#                                   vmm=vmm, \n",
    "#                                   exclude_parameters=exclude_parameters)\n",
    "#\n",
    "#ship_model_abkowitz = create_model_from_motion_regression(regression=regression_abkowitz)"
   ]
  },
  {
   "cell_type": "code",
   "execution_count": null,
   "id": "f3281003-45aa-4188-87ae-85cd2cc9f0f8",
   "metadata": {
    "tags": [
     "remove-cell"
    ]
   },
   "outputs": [],
   "source": [
    "add_constant = False\n",
    "model_pos, model_neg = fit(data=data_sub_train, ship_data=ship_data, propeller_coefficients=propeller_coefficients, add_constant=add_constant) \n",
    "data_predicted_thrust = predict(model_pos=model_pos, model_neg=model_neg, data=data_sub_train, propeller_coefficients=propeller_coefficients, \n",
    "                                ship_data=ship_data)\n",
    "\n",
    "regression_abkowitz, parameters = fit_motions(data=data_predicted_thrust, added_masses=added_masses, \n",
    "                                                      ship_data=ship_data, vmm=vmm, exclude_parameters=exclude_parameters)\n",
    "\n",
    "ship_model_abkowitz = create_full_model_from_motion_regression(regression=regression_abkowitz, \n",
    "                                                                  model_pos=model_pos, \n",
    "                                                                  model_neg=model_neg, \n",
    "                                                                  propeller_coefficients=propeller_coefficients)"
   ]
  },
  {
   "cell_type": "markdown",
   "id": "a988913e-c012-48ff-a044-9637419d02e2",
   "metadata": {},
   "source": [
    "Forces and moment for the hull, rudder and propeller predicted with the VMM:s fitted on the training set are show in {numref}`fig_kvlcc2_validation_forces`. \n",
    "Simulations of the validation cases where only possible with the Modified Abkowitz model as shown for one of the ZigZag20/20 validation cases in {numref}`fig_kvlcc2_validation_sim`. The predicted thrust is also shown in this figure.\n",
    "\n",
    "```{glue:figure} fig_kvlcc2_validation_forces\n",
    ":figwidth: 1000px\n",
    ":name: \"fig_kvlcc2_validation_forces\"\n",
    "\n",
    "Validation of force models for KVLCC2.\n",
    "```\n",
    "\n",
    "```{glue:figure} fig_kvlcc2_validation_sim\n",
    ":figwidth: 1000px\n",
    ":name: \"fig_kvlcc2_validation_sim\"\n",
    "\n",
    "Validation with simulations for KVLCC2.\n",
    "```"
   ]
  },
  {
   "cell_type": "code",
   "execution_count": null,
   "id": "30e87808-58cd-4cbe-906c-388979850c37",
   "metadata": {
    "tags": [
     "remove-cell"
    ]
   },
   "outputs": [],
   "source": [
    "validation_martin = regression_martin.predict(data_validation)\n",
    "validation_abkowitz = regression_abkowitz.predict(data_validation)\n",
    "\n",
    "data_predicted_thrust = predict(model_pos=model_pos, model_neg=model_neg, data=data_validation, propeller_coefficients=propeller_coefficients, \n",
    "                                ship_data=ship_data)\n",
    "\n",
    "validation_martin['thrust'] = data_predicted_thrust['thrust']\n",
    "validation_abkowitz['thrust'] = data_predicted_thrust['thrust']\n",
    "\n",
    "fig,axes=plt.subplots(nrows=4)\n",
    "\n",
    "for ax,dof in zip(axes,['thrust','fx','fy','mz']):\n",
    "    \n",
    "    validation_abkowitz.plot(y=dof,ax=ax, label='Validation AVMM', style='r-')\n",
    "    validation_martin.plot(y=dof,ax=ax, label='Validation MAVMM', style='b--')\n",
    "    data_validation.plot(y=dof,ax=ax, label='True', style='k-.')\n",
    "    \n",
    "    ax.set_ylabel(dof)\n",
    "    ax.set_xlabel('sample')\n",
    "    ax.get_legend().set_visible(False)\n",
    "    \n",
    "axes[0].legend();\n",
    "glue(\"fig_kvlcc2_validation_forces\",fig, display=False)"
   ]
  },
  {
   "cell_type": "code",
   "execution_count": null,
   "id": "ee322735-d40b-4fca-909e-b59baa1afa2e",
   "metadata": {
    "tags": [
     "remove-cell"
    ]
   },
   "outputs": [],
   "source": [
    "for id_validation in ids_test[0:1]:\n",
    "    \n",
    "    df_test = catalog.load(f'{ship}.updated.{id_validation}.data_ek_smooth')\n",
    "    result_martin = ship_model_martin.simulate(df_test.drop(columns=['thrust']))   \n",
    "    \n",
    "        \n",
    "    df_result = result_martin.result.copy()\n",
    "    df_result['thrust'] = predict(model_pos=model_pos, \n",
    "                                                   model_neg=model_neg, \n",
    "                                                   data=df_result, \n",
    "                                                   propeller_coefficients=propeller_coefficients, \n",
    "                                                   ship_data=ship_data)['thrust']\n",
    "    \n",
    "    dataframes = {'True':df_test,\n",
    "                 'Validation MAVMM': df_result,\n",
    "                 }\n",
    "    \n",
    "    #try:\n",
    "    #    result_abkowitz = ship_model_abkowitz.simulate(df_test)\n",
    "    #except:\n",
    "    #    pass\n",
    "    #else:\n",
    "    #    dataframes['Abkowitz']=result_abkowitz.result\n",
    "    \n",
    "    track_plots(dataframes, lpp=ship_data['L'], beam=ship_data['B'],  N=2);\n",
    "    fig = plot(dataframes=dataframes, keys=['thrust','u','v','r'], ncols=1, zero_origo=True);\n",
    "\n",
    "glue(\"fig_kvlcc2_validation_sim\",fig, display=False)"
   ]
  },
  {
   "cell_type": "code",
   "execution_count": null,
   "id": "d03a6684-2f43-4663-8b15-e683a5e841be",
   "metadata": {
    "tags": [
     "remove-cell"
    ]
   },
   "outputs": [],
   "source": [
    "#df_test = catalog.load(f'{ship}.updated.{id_test}.data_ek_smooth')\n",
    "ek = catalog.load(f\"{ship}.{vmm_name}.ek\")"
   ]
  },
  {
   "cell_type": "code",
   "execution_count": null,
   "id": "7f8c3f8d-8d03-4563-b2ca-f5cd1431a183",
   "metadata": {
    "tags": [
     "remove-cell"
    ]
   },
   "outputs": [],
   "source": [
    "add_constant = False\n",
    "model_pos, model_neg = fit(data=data_train, ship_data=ship_data, propeller_coefficients=propeller_coefficients, add_constant=add_constant) \n",
    "data_predicted_thrust = predict(model_pos=model_pos, model_neg=model_neg, data=data_train, propeller_coefficients=propeller_coefficients, \n",
    "                                ship_data=ship_data)\n",
    "\n",
    "regression_martin, parameters = fit_motions(data=data_predicted_thrust, added_masses=added_masses, \n",
    "                                                      ship_data=ship_data, vmm=vmm_martin, exclude_parameters=exclude_parameters)\n",
    "\n",
    "ship_model_martin = create_full_model_from_motion_regression(regression=regression_martin, \n",
    "                                                                  model_pos=model_pos, \n",
    "                                                                  model_neg=model_neg, \n",
    "                                                                  propeller_coefficients=propeller_coefficients)\n",
    "\n",
    "catalog.save(f\"{ ship }.updated.vmm_martins_simple.joined.regression\",\n",
    "             regression_martin)\n",
    "\n",
    "catalog.save(f\"{ ship }.propeller_model_pos\",\n",
    "             model_pos)\n",
    "\n",
    "catalog.save(f\"{ ship }.propeller_model_neg\",\n",
    "             model_neg)\n",
    "\n"
   ]
  },
  {
   "cell_type": "code",
   "execution_count": null,
   "id": "c940c907-fc98-4b56-8829-17ded852c0d5",
   "metadata": {
    "tags": [
     "remove-cell"
    ]
   },
   "outputs": [],
   "source": [
    "test_prediction = {}\n",
    "\n",
    "for id, df_test in data_testing.groupby(by='id', sort=False):\n",
    "    \n",
    "    result_martin = ship_model_martin.simulate(df_test)   \n",
    "    \n",
    "    df_result = result_martin.result.copy()\n",
    "    df_result['thrust'] = predict(model_pos=model_pos, \n",
    "                                                   model_neg=model_neg, \n",
    "                                                   data=df_result, \n",
    "                                                   propeller_coefficients=propeller_coefficients, \n",
    "                                                   ship_data=ship_data)['thrust']\n",
    "    \n",
    "    \n",
    "    test_prediction[id] = df_result\n",
    "    "
   ]
  },
  {
   "cell_type": "code",
   "execution_count": null,
   "id": "8380bb49-9370-472d-958e-6e0b60222489",
   "metadata": {
    "tags": [
     "remove-cell"
    ]
   },
   "outputs": [],
   "source": [
    "test_true = data_testing.id.unique()\n",
    "for id in test_true:\n",
    "    dataframes = {\n",
    "        'True' : data_testing.groupby(by='id', sort=False).get_group(id),\n",
    "        'Test MAVMM' : test_prediction[id],\n",
    "            \n",
    "    }\n",
    "    track_plots(dataframes, lpp=ship_data['L'], beam=ship_data['B'],  styles=styles, N=2);\n",
    "    fig = plot(dataframes=dataframes, keys=['u','v','r','psi'], ncols=1,);\n"
   ]
  },
  {
   "cell_type": "code",
   "execution_count": null,
   "id": "8407a5cd-9e01-43e5-b81c-19e72c5b29b1",
   "metadata": {
    "tags": [
     "remove-cell"
    ]
   },
   "outputs": [],
   "source": [
    "test_true = data_testing.id.unique()\n",
    "id = test_true[0]\n",
    "df_test = data_testing.groupby(by='id', sort=False).get_group(id)"
   ]
  },
  {
   "cell_type": "code",
   "execution_count": null,
   "id": "216147dc-3dba-43b9-9fc7-b7f485d309ea",
   "metadata": {
    "tags": [
     "remove-cell"
    ]
   },
   "outputs": [],
   "source": [
    "df_parameter_variations = parameter_variation(regression = regression_martin, N_=100, seed=42)\n",
    "\n",
    "interesting = ['u','v','r','x0','y0','psi','delta','rev','U']\n",
    "data = df_test[interesting].copy()\n",
    "try:\n",
    "    loaders = catalog.load(\"kvlcc2_hsva.monte_carlo_simulation\")\n",
    "except Exception:\n",
    "    # Slow way...\n",
    "    dataframes_monte_carlo = monte_carlo(data, df_parameter_variations, model=ship_model_martin, fast=False)\n",
    "    catalog.save(\"kvlcc2_hsva.monte_carlo_simulation\", data={str(key):value for key,value in dataframes_monte_carlo.items()})\n",
    "else:\n",
    "    dataframes_monte_carlo = {key:loader() for key,loader in loaders.items()}"
   ]
  },
  {
   "cell_type": "code",
   "execution_count": null,
   "id": "45f6c233-002e-41c7-bca9-45ef712c2a7d",
   "metadata": {
    "tags": [
     "remove-cell"
    ]
   },
   "outputs": [],
   "source": [
    "dataframes = {\n",
    "    'Model test' : df_test,\n",
    "    'Test MAVMM' : test_prediction[id],\n",
    "        \n",
    "}\n",
    "\n",
    "styles = {\n",
    "    'Model test' : {'style':'r--'},\n",
    "    'Test MAVMM' : {'style':'k-'},\n",
    "    \n",
    "}\n",
    "\n",
    "for index in dataframes_monte_carlo.keys():\n",
    "    styles[index] = {'style':'b-', \n",
    "                     'alpha':0.1,\n",
    "                     'label':'_Hidden label',\n",
    "                     'zorder' : -100}"
   ]
  },
  {
   "cell_type": "code",
   "execution_count": null,
   "id": "204dbb04-62c2-497c-86e2-8f703b526a9d",
   "metadata": {
    "tags": [
     "remove-cell"
    ]
   },
   "outputs": [],
   "source": [
    "fig,ax=plt.subplots()\n",
    "track_plots(dataframes_monte_carlo, lpp=ship_data['L'], beam=ship_data['B'],  styles=styles, plot_boats=False, ax=ax);\n",
    "track_plots(dataframes, lpp=ship_data['L'], beam=ship_data['B'],  styles=styles, N=5, ax=ax);\n",
    "ax.plot([],[],'b-',label='Monte Carlo MAVMM')\n",
    "ax.legend()\n",
    "\n",
    "glue(\"fig_track_plot_testing_sim\", fig, display=False)\n",
    "fig.savefig(\"figures/fig_track_plot_testing_sim.pdf\")"
   ]
  },
  {
   "cell_type": "markdown",
   "id": "0eb0feb5-fc5b-4368-9e44-81719a9724b7",
   "metadata": {},
   "source": [
    "Result from the final prediction of the turning cirlce test is seen in {numref}`fig_kvlcc2_testing_sim`. The prediction is conducted using simulation with the MAVMM trained on the training and validation dataset. Monte Carlo simulations with alternative realizations of the regression are also shown in this figure. The alternative realizations are very similar to the model with mean values of the regression (black line), since the standard deviation of the regressed parameters are very small.   \n",
    "\n",
    "```{glue:figure} fig_kvlcc2_testing_sim\n",
    ":figwidth: 1000px\n",
    ":name: \"fig_kvlcc2_testing_sim\"\n",
    "\n",
    "Comparison between predicted Turning circle test with MAVMM trained on HSVA data and MARIN model test results for KVLCC2.\n",
    "```"
   ]
  },
  {
   "cell_type": "code",
   "execution_count": null,
   "id": "09325291-cf27-44e6-b784-db99f5462221",
   "metadata": {
    "tags": [
     "remove-cell"
    ]
   },
   "outputs": [],
   "source": [
    "dataframes_ = dataframes.copy()\n",
    "dataframes_.update(dataframes_monte_carlo)\n",
    "fig = plot(dataframes=dataframes_, keys=['u','v','r'], ncols=1, styles=styles, zero_origo=False);\n",
    "ax = fig.axes[0]\n",
    "ax.plot([],[],'b-',label='Monte Carlo MAVMM')\n",
    "ax.legend()\n",
    "glue(\"fig_kvlcc2_testing_sim\",fig, display=False)"
   ]
  },
  {
   "cell_type": "code",
   "execution_count": null,
   "id": "bab4e798-859b-4f5e-ab30-955e02f49bf7",
   "metadata": {
    "tags": [
     "remove-cell"
    ]
   },
   "outputs": [],
   "source": [
    "true_turning_circle = pd.DataFrame()\n",
    "prediction_turning_circle = pd.DataFrame()\n",
    "\n",
    "for id, df_result in test_prediction.items():\n",
    "    \n",
    "    df_test = data_testing.groupby(by='id', sort=False).get_group(id)\n",
    "    \n",
    "    if 'tc' in id:\n",
    "        \n",
    "        turning_circle = TurningCircle(angle=35, nominal_speed=df_test['U'].iloc[0], lpp=ship_data['L'], df=df_test)\n",
    "        true_turning_circle[id] = pd.Series(turning_circle.evaluate(), name='True')\n",
    "        \n",
    "        df_result['V'] = np.sqrt(df_result['u']**2 + df_result['v']**2)\n",
    "        turning_circle = TurningCircle(angle=35, nominal_speed=df_test['U'].iloc[0], lpp=ship_data['L'], df=df_result)\n",
    "        prediction_turning_circle[id] = pd.Series(turning_circle.evaluate(), name='Test Modified Abkowitz')\n",
    "\n",
    "true_turning_circle.drop(index='units',inplace=True)\n",
    "prediction_turning_circle.drop(index='units',inplace=True)"
   ]
  },
  {
   "cell_type": "code",
   "execution_count": null,
   "id": "38b98f40-46ed-4b23-9c92-82c5e7d7028f",
   "metadata": {
    "tags": [
     "remove-cell"
    ]
   },
   "outputs": [],
   "source": [
    "prediction_turning_circle"
   ]
  },
  {
   "cell_type": "code",
   "execution_count": null,
   "id": "4bd75c6b-14a8-4f75-b5bc-234a583ec52e",
   "metadata": {
    "tags": [
     "remove-cell"
    ]
   },
   "outputs": [],
   "source": [
    "df_advance = pd.DataFrame()\n",
    "df_advance['True'] = true_turning_circle.loc['advance']\n",
    "df_advance['Prediction'] = prediction_turning_circle.loc['advance']\n",
    "df_advance['IMO'] = prediction_turning_circle.loc['Advance (IMO)']\n",
    "df_advance['delta'] = [35,-35]\n",
    "#glue(\"tab_advance\",df_advance)\n",
    "df_advance=df_advance.astype(float)"
   ]
  },
  {
   "cell_type": "code",
   "execution_count": null,
   "id": "d01a70dc-8bba-4b5a-95c6-83a6bdb7e3c5",
   "metadata": {
    "tags": [
     "remove-cell"
    ]
   },
   "outputs": [],
   "source": [
    "df_tactical_diameter = pd.DataFrame()\n",
    "df_tactical_diameter['True'] = true_turning_circle.loc['tactical_diameter']\n",
    "df_tactical_diameter['Prediction'] = prediction_turning_circle.loc['tactical_diameter']\n",
    "df_tactical_diameter['IMO'] = prediction_turning_circle.loc['Tactical diameter (IMO)']\n",
    "df_tactical_diameter['delta'] = [35,-35]\n",
    "#glue(\"tactical_diameter\",df_tactical_diameter)\n",
    "df_tactical_diameter=df_tactical_diameter.astype(float)"
   ]
  },
  {
   "cell_type": "code",
   "execution_count": null,
   "id": "7890bfae-896f-426c-a48a-c8ddee0b167c",
   "metadata": {
    "tags": [
     "remove-cell"
    ]
   },
   "outputs": [],
   "source": [
    "df_table = df_advance[['delta']]\n",
    "df_table.rename({'delta':'rudder angle [deg]'})\n",
    "df_table['A (model test) [m]'] = df_advance['True']\n",
    "df_table['A (prediction) [m]'] = df_advance['Prediction']\n",
    "df_table['A (IMO) [m]'] = df_advance['IMO']\n",
    "\n",
    "df_table['TD (model test) [m]'] = df_tactical_diameter['True']\n",
    "df_table['TD (prediction) [m]'] = df_tactical_diameter['Prediction']\n",
    "df_table['TD (IMO) [m]'] = df_tactical_diameter['IMO']"
   ]
  },
  {
   "cell_type": "code",
   "execution_count": null,
   "id": "c86d1043-48cd-4398-b73f-6de833a3b421",
   "metadata": {
    "tags": [
     "remove-cell"
    ]
   },
   "outputs": [],
   "source": [
    "def accuracy(df):\n",
    "    return ((df['True']-df['Prediction'])/df['True']*100.0).abs().astype(float)\n",
    "\n",
    "accuracy_advance = accuracy(df_advance).mean()\n",
    "accuracy_tactical_diameter = accuracy(df_tactical_diameter).mean()\n",
    "\n",
    "glue(\"kvlcc2_accuracy_advance\", int(np.round(accuracy_advance,0)))\n",
    "glue(\"kvlcc2_tactical_diameter\", int(np.round(accuracy_tactical_diameter,0)))\n",
    "\n"
   ]
  },
  {
   "cell_type": "markdown",
   "id": "5b0052f4-868d-4a9a-805b-4fc2bc3ebd78",
   "metadata": {},
   "source": [
    "For KVLCC2 comparisons of turning circle advance and tactical diameters compared to the model test result is shown in {numref}`tab_kvlcc2_advance`. Predicted advance and tactical diameter differes 2% and 5%."
   ]
  },
  {
   "cell_type": "code",
   "execution_count": null,
   "id": "d1a36aff-d336-4570-8c1c-7dcaabf11dde",
   "metadata": {
    "tags": [
     "remove-cell"
    ]
   },
   "outputs": [],
   "source": [
    "table_advance = df_advance.round(decimals=2)[['delta','True','Prediction','IMO']]\n",
    "\n",
    "\n",
    "print(df_to_myst(df_table.round(decimals=2), \n",
    "                 title=\"KVLCC2 Predicted turning circle advance (A) and tactical diameter (TD) compared to MARIN model tests and IMO limit\",\n",
    "                 name=\"tab_kvlcc2_advance\",\n",
    "                 include_index=False)\n",
    "                 )"
   ]
  },
  {
   "cell_type": "markdown",
   "id": "8451f2da-b29e-4a1d-bbaa-037dc2a63b75",
   "metadata": {},
   "source": [
    "```{list-table} KVLCC2 Predicted turning circle advance (A) and tactical diameter (TD) compared to MARIN model tests and IMO limit\n",
    ":header-rows: 1\n",
    ":name: tab_kvlcc2_advance\n",
    "* - delta\n",
    "  - A (model test) [m]\n",
    "  - A (prediction) [m]\n",
    "  - A (IMO) [m]\n",
    "  - TD (model test) [m]\n",
    "  - TD (prediction) [m]\n",
    "  - TD (IMO) [m]\n",
    "* - 35.0\n",
    "  - 21.59\n",
    "  - 21.21\n",
    "  - 31.5\n",
    "  - 21.72\n",
    "  - 23.07\n",
    "  - 35.0\n",
    "* - -35.0\n",
    "  - 22.54\n",
    "  - 22.1\n",
    "  - 31.5\n",
    "  - 23.55\n",
    "  - 24.29\n",
    "  - 35.0\n",
    "\n",
    "```"
   ]
  },
  {
   "cell_type": "code",
   "execution_count": null,
   "id": "b4383250-4d64-4944-9c02-eb640428fca2",
   "metadata": {
    "tags": [
     "remove-cell"
    ]
   },
   "outputs": [],
   "source": [
    "vmm_name = 'vmm_martins_simple'\n",
    "ship = 'kvlcc2_hsva'\n",
    "regression = catalog.load(f\"{ ship }.updated.{ vmm_name }.joined.regression\")\n",
    "\n",
    "models = {'X': regression.model_X,\n",
    "          'Y': regression.model_Y,\n",
    "          'N': regression.model_N}\n",
    "\n",
    "for dof, model in models.items():\n",
    "\n",
    "    mean_parameters = model.bse\n",
    "    names = pd.Series(mean_parameters.index)\n",
    "    mean_parameters.index = names.apply(parameter_to_latex)\n",
    "    mean_parameters_table = mean_parameters.copy()\n",
    "    \n",
    "    mean_parameters_table*=1000\n",
    "    mean_parameters_table=np.around(mean_parameters_table, decimals=3)\n",
    "    \n",
    "    print(df_to_myst(mean_parameters_table.to_frame().transpose(), \n",
    "                     title=f'{dof} equation derivatives (times 1000)', \n",
    "                     name=f\"kvlcc2_derivatives_{dof}\", include_index=False))\n"
   ]
  },
  {
   "cell_type": "markdown",
   "id": "221a969e-1ae9-4138-b6ef-94175f086071",
   "metadata": {},
   "source": [
    "```{list-table} X equation derivatives (times 1000)\n",
    ":header-rows: 1\n",
    ":name: kvlcc2_derivatives_X\n",
    "* - $ X_{vr} $\n",
    "  - $ X_{\\delta\\delta} $\n",
    "  - $ X_{uu} $\n",
    "  - $ X_{rr} $\n",
    "  - $ X_{u} $\n",
    "* - 0.272\n",
    "  - 0.013\n",
    "  - 0.618\n",
    "  - 0.068\n",
    "  - 0.618\n",
    "\n",
    "```\n",
    "\n",
    "\n",
    "```{list-table} Y equation derivatives (times 1000)\n",
    ":header-rows: 1\n",
    ":name: kvlcc2_derivatives_Y\n",
    "* - $ Y_{r} $\n",
    "  - $ Y_{ur} $\n",
    "  - $ Y_{T} $\n",
    "  - $ Y_{u} $\n",
    "  - $ Y_{v} $\n",
    "* - 0.654\n",
    "  - 0.658\n",
    "  - 1.23\n",
    "  - 0.003\n",
    "  - 0.02\n",
    "\n",
    "```\n",
    "\n",
    "\n",
    "```{list-table} N equation derivatives (times 1000)\n",
    ":header-rows: 1\n",
    ":name: kvlcc2_derivatives_N\n",
    "* - $ N_{\\delta} $\n",
    "  - $ N_{r} $\n",
    "  - $ N_{T} $\n",
    "  - $ N_{u} $\n",
    "  - $ N_{v} $\n",
    "  - $ N_{T\\delta} $\n",
    "  - $ N_{vv\\delta} $\n",
    "  - $ N_{ur} $\n",
    "* - 0.003\n",
    "  - 0.179\n",
    "  - 0.274\n",
    "  - 0.001\n",
    "  - 0.016\n",
    "  - 0.941\n",
    "  - 0.089\n",
    "  - 0.183\n",
    "\n",
    "```"
   ]
  },
  {
   "cell_type": "code",
   "execution_count": null,
   "id": "05014c3e-a6b1-46d3-bd3e-cd3d6c1099a1",
   "metadata": {},
   "outputs": [],
   "source": []
  },
  {
   "cell_type": "code",
   "execution_count": null,
   "id": "eaf893f0-a0c3-4533-b340-1efb0e1a2dca",
   "metadata": {},
   "outputs": [],
   "source": []
  }
 ],
 "metadata": {
  "citation-manager": {
   "items": {}
  },
  "kernelspec": {
   "display_name": "wPCC_pipeline",
   "language": "python",
   "name": "python3"
  },
  "language_info": {
   "codemirror_mode": {
    "name": "ipython",
    "version": 3
   },
   "file_extension": ".py",
   "mimetype": "text/x-python",
   "name": "python",
   "nbconvert_exporter": "python",
   "pygments_lexer": "ipython3",
   "version": "3.7.9"
  }
 },
 "nbformat": 4,
 "nbformat_minor": 5
}
