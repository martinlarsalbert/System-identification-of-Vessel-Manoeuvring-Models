{
 "cells": [
  {
   "cell_type": "markdown",
   "id": "785624d3-32de-4bc8-b05a-3f87ed86a25c",
   "metadata": {},
   "source": [
    "# Discrete-time Extended Kalman"
   ]
  },
  {
   "cell_type": "code",
   "execution_count": null,
   "id": "adac4906-cc1d-49ec-a0f0-2f49b601079c",
   "metadata": {
    "tags": [
     "remove-cell"
    ]
   },
   "outputs": [],
   "source": [
    "# %load imports.py\n",
    "%load_ext autoreload\n",
    "%autoreload 2\n",
    "%reload_kedro\n",
    "%config Completer.use_jedi = False  ## (To fix autocomplete)\n",
    "\n",
    "import pandas as pd\n",
    "from src.models.vmm import ModelSimulator\n",
    "import matplotlib.pyplot as plt\n",
    "from src.visualization.plot import track_plots, plot, captive_plot\n",
    "import kedro\n",
    "import numpy as np\n",
    "import os.path\n",
    "import anyconfig\n",
    "\n",
    "import matplotlib\n",
    "matplotlib.rcParams[\"figure.figsize\"] = (15,4)\n",
    "\n",
    "from myst_nb import glue\n",
    "from src.symbols import *\n",
    "import src.symbols as symbols\n",
    "from src.system_equations import *\n",
    "\n",
    "from IPython.display import display, Math, Latex, Markdown\n",
    "from sympy.physics.vector.printing import vpprint, vlatex\n",
    "\n",
    "from src.parameters import df_parameters\n",
    "p = df_parameters[\"symbol\"]\n",
    "\n",
    "# Read configs:\n",
    "conf_path = os.path.join(\"../../conf/base/\")\n",
    "runs_globals_path = os.path.join(\n",
    "    conf_path,\n",
    "    \"runs_globals.yml\",\n",
    ")\n",
    "\n",
    "runs_globals = anyconfig.load(runs_globals_path)\n",
    "model_test_ids = runs_globals[\"model_test_ids\"]\n",
    "\n",
    "join_globals_path = os.path.join(\n",
    "    conf_path,\n",
    "    \"join_globals.yml\",\n",
    ")\n",
    "\n",
    "joins = runs_globals[\"joins\"]\n",
    "join_runs_dict = anyconfig.load(join_globals_path)\n",
    "\n",
    "globals_path = os.path.join(\n",
    "    conf_path,\n",
    "    \"globals.yml\",\n",
    ")\n",
    "global_variables = anyconfig.load(globals_path)\n",
    "\n",
    "\n",
    "\n",
    "vmms = global_variables[\"vmms\"]\n",
    "only_joined = global_variables[\n",
    "    \"only_joined\"\n",
    "]  # (regress/predict with only models from joined runs)S"
   ]
  },
  {
   "cell_type": "code",
   "execution_count": null,
   "id": "6e562f03-e99d-4af3-ac61-72f833b2d384",
   "metadata": {
    "tags": [
     "remove-cell"
    ]
   },
   "outputs": [],
   "source": [
    "from wPCC_pipeline.pipelines.preprocess.nodes import filter, assemble_data, add_thrust\n",
    "from wPCC_pipeline.pipelines.extended_kalman.nodes import create_extended_kalman\n",
    "from wPCC_pipeline.pipelines.brix.nodes import initial_parameters\n",
    "from wPCC_pipeline.pipelines.filter_data_extended_kalman.nodes import extended_kalman_filter,extended_kalman_smoother"
   ]
  },
  {
   "cell_type": "markdown",
   "id": "a468ab7b-c5fa-4a1f-9c4b-354ca7a490e0",
   "metadata": {},
   "source": [
    "$$\\dot{x} = f(x,u,w)$$\n",
    "$$y = h(x,u) + \\epsilon$$\n",
    "\n"
   ]
  },
  {
   "cell_type": "markdown",
   "id": "802a6229-8ced-4f16-b3f1-e50b7b3d0554",
   "metadata": {},
   "source": [
    "```{prf:algorithm} Discrete-time extended Kalman filter\n",
    ":label: ek-algorithm\n",
    "\n",
    "**Inputs** Initial values: $x_0$, $P_0$, $C_d$, $R_d$, $Q_d$, $E_d$  \n",
    "\n",
    "**Output** Estimated states: $\\hat{x}$, estimated covariances $\\hat{P}$\n",
    "\n",
    "1. Initial values:\n",
    "    1. $\\hat{x}^-[0] = x_0$ \n",
    "    2. $\\hat{P}^-[0] = P_0$\n",
    "\n",
    "2. For $k$ in $n$ measurements\n",
    "\n",
    "    1. KF gain\n",
    "        1. $K[k]=\\hat{P}^-[k] C_d^T \\left(C_d \\hat{P}^-[k] C_d^T + R_d\\right)^{-1}$\n",
    "        2. $I_{KC} = I_n - K[k] C_d$\n",
    "        \n",
    "    2. Update\n",
    "        1. State corrector\n",
    "            $\\hat{x}[k] = \\hat{x}^-[k] + K[k] eps$ ($eps = y - C_d \\hat{x}^-[k]$)\n",
    "        2. Covariance corrector\n",
    "            $\\hat{P}[k] = I_{KC} \\cdot \\hat{P}^-[k] I_{KC}^T + K[k] R_d K^T $\n",
    "            \n",
    "    3. Predict\n",
    "        1. State predictor\n",
    "            $\\hat{x}^-[k+1] = \\hat{x}[k] + h \\cdot \\hat{f}(\\hat{x}[k], u[k], w[k])$\n",
    "        2. Covariance predictor\n",
    "            $\\hat{P}^-[k+1] = A_d  \\hat{P}[k] A_d^T + E_d Q_d E_d^T $\n",
    "            \n",
    "\n",
    "\t\n",
    "```"
   ]
  },
  {
   "cell_type": "code",
   "execution_count": null,
   "id": "17e3d2c9-07c9-4d9a-bffa-e0f8c2254618",
   "metadata": {
    "tags": [
     "remove-cell"
    ]
   },
   "outputs": [],
   "source": [
    "#id = 22612\n",
    "id = 22613\n",
    "data_raw = catalog.load(f\"{id}.raw_data\")"
   ]
  },
  {
   "cell_type": "code",
   "execution_count": null,
   "id": "cc62a09e-fd67-48ea-bb13-b331db426a15",
   "metadata": {
    "tags": [
     "remove-cell"
    ]
   },
   "outputs": [],
   "source": [
    "thrust_channels = catalog.load(\"params:thrust_channels\")\n",
    "data_with_thrust = add_thrust(df=data_raw, thrust_channels=thrust_channels)\n",
    "df_lowpass = filter(df=data_with_thrust, cutoff=10, order=1)"
   ]
  },
  {
   "cell_type": "code",
   "execution_count": null,
   "id": "dd29009a-7f97-45cb-ad87-fa417e7f37cd",
   "metadata": {
    "tags": [
     "remove-cell"
    ]
   },
   "outputs": [],
   "source": [
    "df_data = assemble_data(df_lowpass=df_lowpass, raw_data=data_raw)"
   ]
  },
  {
   "cell_type": "code",
   "execution_count": null,
   "id": "0206c2d5-c937-4918-bbf6-3215cbd0418e",
   "metadata": {
    "tags": [
     "remove-cell"
    ]
   },
   "outputs": [],
   "source": [
    "ship_data = catalog.load(\"ship_data\")\n",
    "vmm = catalog.load(\"vmm_martin\")\n",
    "                   \n",
    "parameters = initial_parameters(ship_data=ship_data)\n",
    "\n",
    "ek = create_extended_kalman(parameters=parameters, ship_data=ship_data, vmm = vmm) "
   ]
  },
  {
   "cell_type": "code",
   "execution_count": null,
   "id": "f6c6503a-3196-41d3-bdd5-02dfc03f2b9e",
   "metadata": {
    "tags": [
     "remove-cell"
    ]
   },
   "outputs": [],
   "source": [
    "variance_u = 0.1\n",
    "variance_v = 0.1\n",
    "variance_r = np.deg2rad(0.1)\n",
    "Qd = np.diag([variance_u, variance_v, variance_r])  # process variances: u,v,r\n",
    "\n",
    "error_max_pos = 0.05\n",
    "sigma_pos = error_max_pos / 3\n",
    "variance_pos = sigma_pos ** 2\n",
    "\n",
    "error_max_psi = np.deg2rad(0.5)\n",
    "sigma_psi = error_max_psi / 3\n",
    "variance_psi = sigma_psi ** 2\n",
    "\n",
    "Rd = np.diag([variance_pos, variance_pos, variance_psi])\n",
    "P_prd = np.diag(\n",
    "    [\n",
    "        variance_pos,\n",
    "        variance_pos,\n",
    "        variance_psi,\n",
    "        variance_u,\n",
    "        variance_v,\n",
    "        variance_r,\n",
    "    ]\n",
    ")\n",
    "\n",
    "covariance_matrixes = {\n",
    "        \"P_prd\": P_prd.tolist(),\n",
    "        \"Qd\": Qd.tolist(),\n",
    "        \"Rd\": Rd.tolist(),\n",
    "    }\n",
    "\n",
    "\n",
    "ek_filtered, data_ek_filter = extended_kalman_filter(ek=ek, data=df_data, covariance_matrixes=covariance_matrixes)"
   ]
  },
  {
   "cell_type": "code",
   "execution_count": null,
   "id": "05cb2d81-9ee9-481f-837f-44243676cf5d",
   "metadata": {
    "tags": [
     "remove-cell"
    ]
   },
   "outputs": [],
   "source": [
    "ek_smooth, data_ek_smooth = extended_kalman_smoother(ek=ek)"
   ]
  },
  {
   "cell_type": "code",
   "execution_count": null,
   "id": "f2f63e71-89bc-4ade-b886-dbea6a5a489c",
   "metadata": {
    "tags": [
     "remove-input"
    ]
   },
   "outputs": [],
   "source": [
    "fig,ax=plt.subplots()\n",
    "\n",
    "df_lowpass.plot(y='u', label='lowpass', ax=ax)\n",
    "df_data.plot(y='u', label='data', ax=ax)\n",
    "data_ek_filter.plot(y='u', label='EKF', ax=ax)\n",
    "data_ek_smooth.plot(y='u', label='smooth', style='k-', lw=2, ax=ax)\n",
    "\n",
    "ax.set_ylim(0.9,1.05)\n",
    "ax.set_ylabel('$u$');"
   ]
  }
 ],
 "metadata": {
  "kernelspec": {
   "display_name": "wPCC_pipeline",
   "language": "python",
   "name": "python3"
  },
  "language_info": {
   "codemirror_mode": {
    "name": "ipython",
    "version": 3
   },
   "file_extension": ".py",
   "mimetype": "text/x-python",
   "name": "python",
   "nbconvert_exporter": "python",
   "pygments_lexer": "ipython3",
   "version": "3.7.9"
  }
 },
 "nbformat": 4,
 "nbformat_minor": 5
}
