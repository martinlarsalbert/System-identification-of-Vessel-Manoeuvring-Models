{
 "cells": [
  {
   "cell_type": "markdown",
   "id": "785624d3-32de-4bc8-b05a-3f87ed86a25c",
   "metadata": {
    "tags": []
   },
   "source": [
    "## Extended Kalman Filter"
   ]
  },
  {
   "cell_type": "code",
   "execution_count": null,
   "id": "adac4906-cc1d-49ec-a0f0-2f49b601079c",
   "metadata": {
    "tags": [
     "remove-cell"
    ]
   },
   "outputs": [],
   "source": [
    "# %load imports.py\n",
    "%load_ext autoreload\n",
    "%autoreload 2\n",
    "%reload_kedro\n",
    "%config Completer.use_jedi = False  ## (To fix autocomplete)\n",
    "%matplotlib inline\n",
    "\n",
    "import pandas as pd\n",
    "import matplotlib.pyplot as plt\n",
    "from src.visualization.plot import track_plots, plot, captive_plot\n",
    "import kedro\n",
    "import numpy as np\n",
    "import os.path\n",
    "import anyconfig\n",
    "\n",
    "import matplotlib.pyplot as plt\n",
    "import matplotlib\n",
    "plt.style.use('paper')\n",
    "plt.rcParams.update({\n",
    "    \"font.family\": \"serif\",\n",
    "    \"font.serif\": [\"Times\"]})\n",
    "\n",
    "from myst_nb import glue\n",
    "from src.symbols import *\n",
    "import src.symbols as symbols\n",
    "from src.system_equations import *\n",
    "\n",
    "from IPython.display import display, Math, Latex, Markdown\n",
    "from sympy.physics.vector.printing import vpprint, vlatex\n",
    "\n",
    "from src.parameters import df_parameters\n",
    "p = df_parameters[\"symbol\"]\n",
    "\n",
    "# Read configs:\n",
    "conf_path = os.path.join(\"../../conf/base/\")\n",
    "runs_globals_path = os.path.join(\n",
    "    conf_path,\n",
    "    \"runs_globals.yml\",\n",
    ")\n",
    "\n",
    "runs_globals = anyconfig.load(runs_globals_path)\n",
    "model_test_ids = runs_globals[\"model_test_ids\"]\n",
    "\n",
    "join_globals_path = os.path.join(\n",
    "    conf_path,\n",
    "    \"join_globals.yml\",\n",
    ")\n",
    "\n",
    "joins = runs_globals[\"joins\"]\n",
    "join_runs_dict = anyconfig.load(join_globals_path)\n",
    "\n",
    "globals_path = os.path.join(\n",
    "    conf_path,\n",
    "    \"globals.yml\",\n",
    ")\n",
    "global_variables = anyconfig.load(globals_path)\n",
    "\n",
    "\n",
    "\n",
    "vmms = global_variables[\"vmms\"]"
   ]
  },
  {
   "cell_type": "code",
   "execution_count": null,
   "id": "6e562f03-e99d-4af3-ac61-72f833b2d384",
   "metadata": {
    "tags": [
     "remove-cell"
    ]
   },
   "outputs": [],
   "source": [
    "from wPCC_pipeline.pipelines.preprocess.nodes import filter, assemble_data, add_thrust\n",
    "from wPCC_pipeline.pipelines.extended_kalman.nodes import create_extended_kalman\n",
    "from wPCC_pipeline.pipelines.brix.nodes import initial_parameters\n",
    "from wPCC_pipeline.pipelines.filter_data_extended_kalman.nodes import extended_kalman_filter,extended_kalman_smoother"
   ]
  },
  {
   "cell_type": "markdown",
   "id": "a468ab7b-c5fa-4a1f-9c4b-354ca7a490e0",
   "metadata": {},
   "source": [
    "It has been shown that it is possible to do Parameter identification on perfect (simulated) data with no noise. Such data from physical experiments does not exist in reality however. The measured data will always contain process noise and measurement noise. In order to mitigate this the data is preprocessed using an Extended Kalman filter (EKF). EKF is extending the Kalman Filter (KF) to work on nonlinear systems such as as the VMM:s.\n",
    "\n",
    "The nonlinear system (the ship) is expressed with a transition model $f(x,u)$ and process noise $w$. $x$ is current state and $u$ are control inputs (rudder angle and thrust). A VMM is used as the transition model for the model test data EKF.\n",
    "\n",
    "```{math}\n",
    ":label: eqnonlinearsystem\n",
    "\\dot{x} = f(x,u) + w\n",
    "```\n",
    "The state of the system is observed (measured) with the linear observation model $H$ and measurement noise $v$. \n",
    "\n",
    "```{math}\n",
    ":label: eqobserve\n",
    "y = Hx + v\n",
    "```\n",
    "The used EKF recursive algorithm used is summarized in pseudocode below.\n",
    "\n"
   ]
  },
  {
   "cell_type": "markdown",
   "id": "785870b9-c5f5-4ae7-8995-c1db380fdcdb",
   "metadata": {
    "tags": [
     "remove-cell"
    ]
   },
   "source": [
    "$$\\dot{x} = f(x,u) + w $$\n",
    "$$y = Hx + v $$"
   ]
  },
  {
   "cell_type": "markdown",
   "id": "802a6229-8ced-4f16-b3f1-e50b7b3d0554",
   "metadata": {},
   "source": [
    "```{prf:algorithm} Discrete-time extended Kalman filter\n",
    ":label: ek-algorithm\n",
    "\n",
    "**Inputs** Initial values: $x_0$, $P_0$, $C_d$, $R_d$, $Q_d$, $E_d$  \n",
    "\n",
    "**Output** Estimated states: $\\hat{x}$, estimated state covariances $\\hat{P}$\n",
    "\n",
    "1. Initial values:\n",
    "    1. $\\hat{x}[0] = x_0$ \n",
    "    2. $\\hat{P}[0] = P_0$\n",
    "\n",
    "2. For $k$ in $n$ measurements\n",
    "\n",
    "    1. KF gain\n",
    "        1. $K[k]=\\hat{P}[k] C_d^T \\left(C_d \\hat{P}[k] C_d^T + R_d\\right)^{-1}$\n",
    "        2. $I_{KC} = I_n - K[k] C_d$\n",
    "        \n",
    "    2. Update\n",
    "        1. State corrector\n",
    "            $\\hat{x}[k] = \\hat{x}[k] + K[k] (y - C_d \\hat{x}[k]) $ \n",
    "        2. Covariance corrector\n",
    "            $\\hat{P}[k] = I_{KC} \\cdot \\hat{P}[k] I_{KC}^T + K[k] R_d K^T $\n",
    "            \n",
    "    3. Predict\n",
    "        1. State predictor\n",
    "            $\\hat{x}[k+1] = \\hat{x}[k] + h \\cdot \\hat{f}(\\hat{x}[k], u[k])$\n",
    "        2. Covariance predictor\n",
    "            $\\hat{P}[k+1] = A_d  \\hat{P}[k] A_d^T + E_d Q_d E_d^T $\n",
    "            \n",
    "\n",
    "\t\n",
    "```"
   ]
  },
  {
   "cell_type": "markdown",
   "id": "0581d010-3153-4fa0-8145-c3418ec08e90",
   "metadata": {},
   "source": [
    "Where $n$ is number of states, $I_n$ is an $n$ * $n$ identity matrix."
   ]
  },
  {
   "cell_type": "markdown",
   "id": "242dcf3b-cd2b-4c23-a03c-5b55e6dd0b2b",
   "metadata": {},
   "source": [
    "The output from the filter are the estimated states: $\\hat{x}$ and estimated state covariances $\\hat{P}$. $\\hat{x}$ represent the most likely estimates, but the estimates have uncertainty that are expressed in $\\hat{P}$."
   ]
  },
  {
   "cell_type": "markdown",
   "id": "a7719054-a251-47d8-a356-5fff53777b1c",
   "metadata": {},
   "source": [
    "The state of the system is descrived by the ships position, heading, velocities and yaw velocity: \n",
    "\n",
    "```{math}\n",
    ":label: eqstates\n",
    "x = [x_0,y_0,\\psi,u,v,r]^T\n",
    "```\n",
    "\n",
    "The initial state $x_0$ is taken as the mean value of the first five measurements, where the velocities are estimated with numeric differentiation.  \n",
    "\n",
    "\n"
   ]
  },
  {
   "cell_type": "markdown",
   "id": "118ce26e-6452-46d2-87dd-0e56e199bc13",
   "metadata": {
    "tags": [
     "remove-cell"
    ]
   },
   "source": [
    "$$ x = [x_0,y_0,\\psi,u,v,r]^T $$"
   ]
  },
  {
   "cell_type": "markdown",
   "id": "d9e0739d-f43a-4fc2-a524-1159644664b2",
   "metadata": {},
   "source": [
    "$C_d$ selects the measured states ($x_0$, $y_0$, $\\psi$): \n",
    "```{glue:math} eqcd\n",
    ":label: eqcd\n",
    "```"
   ]
  },
  {
   "cell_type": "code",
   "execution_count": null,
   "id": "24a3a696-9f0a-43b4-9c27-00a5670dbc0b",
   "metadata": {
    "tags": [
     "remove-cell"
    ]
   },
   "outputs": [],
   "source": [
    "Cd = sp.symbols('C_d')\n",
    "eq_Cd = sp.Eq(Cd, h*sp.UnevaluatedExpr(sp.Matrix(\n",
    "        [\n",
    "            [1, 0, 0, 0, 0, 0],\n",
    "            [0, 1, 0, 0, 0, 0],\n",
    "            [0, 0, 1, 0, 0, 0],\n",
    "        ]\n",
    "    )))\n",
    "\n",
    "glue('eqcd',eq_Cd)"
   ]
  },
  {
   "cell_type": "markdown",
   "id": "f0e49834-11f5-4890-be1d-52ed4ac31176",
   "metadata": {},
   "source": [
    "$E_d$ selects the hidden states ($u$, $v, $r$): \n",
    "\n",
    "```{glue:math} eqed\n",
    ":label: eqed\n",
    "```\n",
    "Where $h$ is the discrete time step."
   ]
  },
  {
   "cell_type": "code",
   "execution_count": null,
   "id": "9977ea25-c4f1-4a62-a4bc-f222d092dc39",
   "metadata": {
    "tags": [
     "remove-cell"
    ]
   },
   "outputs": [],
   "source": [
    "Ed = sp.symbols('E_d')\n",
    "eq_Ed = sp.Eq(Ed, h*sp.UnevaluatedExpr(sp.Matrix(\n",
    "        [\n",
    "            [0, 0, 0],\n",
    "            [0, 0, 0],\n",
    "            [0, 0, 0],\n",
    "            [1, 0, 0],\n",
    "            [0, 1, 0],\n",
    "            [0, 0, 1],\n",
    "        ],\n",
    "    )))\n",
    "\n",
    "glue('eqed',eq_Ed)"
   ]
  },
  {
   "cell_type": "markdown",
   "id": "b6fd290c-fd1d-49ba-91ea-42d32860a0e8",
   "metadata": {},
   "source": [
    "$R_d$ describes the covariance matrix of the measurement, $Q_d$ is the covariance matrix of the process model. $P_0$ is the initial state covariance.\n",
    "Selecting good values for these three matrixes is the tricky part in getting the EKF to work well. The amount of expected measurement noise in the data should be inserted in to $R_d$ and the amount of error generated by the process model (VMM) needs to be estimated in $Q_d$. So the choices for these matrixes very much depend on the beleif in the present data and the present process model."
   ]
  },
  {
   "cell_type": "code",
   "execution_count": null,
   "id": "bdc80ac1-17d7-4ec9-9075-2c7ce343a223",
   "metadata": {
    "tags": [
     "remove-cell"
    ]
   },
   "outputs": [],
   "source": [
    "ship='wpcc'\n",
    "id = \"22773\"\n",
    "vmm = \"vmm_abkowitz\"\n",
    "data = catalog.load(f\"{ship}.{id}.data\")\n",
    "ek = catalog.load(f\"{ ship }.{ vmm }.ek\")\n",
    "ek_covariance_input = catalog.load(f\"params:{ship}.updated.ek_covariance_input\")\n",
    "model = catalog.load(f\"{ship}.updated.{vmm}.joined.model\")"
   ]
  },
  {
   "cell_type": "code",
   "execution_count": null,
   "id": "333a389d-24eb-4729-8c03-d459fb262ba6",
   "metadata": {
    "tags": [
     "remove-cell"
    ]
   },
   "outputs": [],
   "source": [
    "ek_covariance_input"
   ]
  },
  {
   "cell_type": "code",
   "execution_count": null,
   "id": "ec49f561-7180-4002-9ab0-e7b5455c0b8b",
   "metadata": {
    "tags": [
     "remove-cell"
    ]
   },
   "outputs": [],
   "source": [
    "x0 = initial_state(data=data)\n",
    "covariance_matrixes = guess_covariance_matrixes(ek_covariance_input=ek_covariance_input, data=data)"
   ]
  },
  {
   "cell_type": "code",
   "execution_count": null,
   "id": "6bd4fcca-829d-45b5-a3ff-0109f2ea515d",
   "metadata": {
    "tags": [
     "remove-cell"
    ]
   },
   "outputs": [],
   "source": [
    "data2 = data.copy()\n",
    "data2.iloc[0].update(x0)\n",
    "result = model.simulate(data2)\n",
    "df_sim = result.result"
   ]
  },
  {
   "cell_type": "code",
   "execution_count": null,
   "id": "e25b2b13-93cd-4fd0-bdb2-6843f2796a05",
   "metadata": {
    "tags": [
     "remove-cell"
    ]
   },
   "outputs": [],
   "source": [
    "data_noise = df_sim.copy()\n",
    "data_noise.drop(columns=['u','v','r','u1d','v1d','r1d'], inplace=True)\n",
    "np.random.seed(42)\n",
    "data_noise['x0_epsilon']=np.random.normal(0, scale=5*ek_covariance_input['measurement_error_max']['positions']/3, size=len(data_noise))\n",
    "data_noise['y0_epsilon']=np.random.normal(0, scale=5*ek_covariance_input['measurement_error_max']['positions']/3, size=len(data_noise))\n",
    "data_noise['psi_epsilon']=np.random.normal(0, scale=5*np.deg2rad(ek_covariance_input['measurement_error_max']['psi']/3), size=len(data_noise))\n",
    "data_noise['x0']+=data_noise['x0_epsilon']\n",
    "data_noise['y0']+=data_noise['y0_epsilon']\n",
    "data_noise['psi']+=data_noise['psi_epsilon']\n",
    "\n"
   ]
  },
  {
   "cell_type": "code",
   "execution_count": null,
   "id": "dbb18691-3a16-44ad-86b3-8fc9e4b32f1b",
   "metadata": {
    "tags": [
     "remove-cell"
    ]
   },
   "outputs": [],
   "source": [
    "from wPCC_pipeline.pipelines.filter_data_extended_kalman.nodes import guess_covariance_matrixes, extended_kalman_filter, initial_state"
   ]
  },
  {
   "cell_type": "code",
   "execution_count": null,
   "id": "41e57001-e12b-4784-88b9-5782d0bd4dd7",
   "metadata": {
    "tags": [
     "remove-cell"
    ]
   },
   "outputs": [],
   "source": [
    "\n",
    "ek_filtered, data_ek_filter, time_steps = extended_kalman_filter(ek=ek, data=data_noise, covariance_matrixes=covariance_matrixes, x0=x0, hydrodynamic_derivatives=model.parameters, input_columns=['delta', 'thrust'])"
   ]
  },
  {
   "cell_type": "markdown",
   "id": "63d97547-56af-44cf-badd-1a97119f9c6c",
   "metadata": {},
   "source": [
    "An example of the EKF at work can be seen in [fig](fig_ekf). The filter is run on simulated data with Gausian noise added, so that the \"real\" state is known.\n",
    "\n",
    "```{glue:figure} fig_ekf\n",
    ":figwidth: 1000px\n",
    ":name: \"fig_ekf\"\n",
    "\n",
    "EKF on simulated data (real) with Gausian noise added (raw).\n",
    "```"
   ]
  },
  {
   "cell_type": "code",
   "execution_count": null,
   "id": "983926c9-38e4-4bbf-a0a8-38a1311eadac",
   "metadata": {
    "tags": [
     "remove-cell"
    ]
   },
   "outputs": [],
   "source": [
    "dataframes = {'raw':data_noise,\n",
    "              'EKF':data_ek_filter,\n",
    "              'real':df_sim, \n",
    "             }\n",
    "\n",
    "styles = {\n",
    "    'raw': {'style':'gray','lw':0.2},\n",
    "    'real' : {'style':'r--', 'lw':1},\n",
    "    'EKF' : {'style':'b-','alpha':1.0, 'lw':0.4},\n",
    "\n",
    "}\n",
    "\n",
    "fig = plot(dataframes, keys=['psi','r','r1d','delta'], styles=styles)\n",
    "glue('fig_ekf',fig, display=False)"
   ]
  },
  {
   "cell_type": "code",
   "execution_count": null,
   "id": "92f7b467-db9f-4f31-a6c2-565a4e693ed9",
   "metadata": {
    "tags": [
     "remove-cell"
    ]
   },
   "outputs": [],
   "source": [
    "df_variance = pd.DataFrame(ek_filtered.variance.T, index= ek_filtered.time, columns=['x0','y0','psi','u','v','r'])"
   ]
  },
  {
   "cell_type": "code",
   "execution_count": null,
   "id": "076b68d4-f24f-4168-ba00-e9ff2ca8b177",
   "metadata": {
    "tags": [
     "remove-cell"
    ]
   },
   "outputs": [],
   "source": [
    "fig,ax=plt.subplots()\n",
    "df_variance.plot(ax=ax)\n",
    "ax.set_ylim(0,0.3*df_variance.max().max());"
   ]
  },
  {
   "cell_type": "markdown",
   "id": "8e01b599-fc24-4cb6-835d-c87780da0d52",
   "metadata": {},
   "source": []
  },
  {
   "cell_type": "code",
   "execution_count": null,
   "id": "e816c69d-6ce6-47ed-aa1d-09af75d6e806",
   "metadata": {},
   "outputs": [],
   "source": []
  }
 ],
 "metadata": {
  "kernelspec": {
   "display_name": "wPCC_pipeline",
   "language": "python",
   "name": "python3"
  },
  "language_info": {
   "codemirror_mode": {
    "name": "ipython",
    "version": 3
   },
   "file_extension": ".py",
   "mimetype": "text/x-python",
   "name": "python",
   "nbconvert_exporter": "python",
   "pygments_lexer": "ipython3",
   "version": "3.7.9"
  }
 },
 "nbformat": 4,
 "nbformat_minor": 5
}
