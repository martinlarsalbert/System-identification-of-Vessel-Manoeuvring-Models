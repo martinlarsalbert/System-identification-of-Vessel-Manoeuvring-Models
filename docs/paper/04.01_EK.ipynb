{
 "cells": [
  {
   "cell_type": "markdown",
   "id": "785624d3-32de-4bc8-b05a-3f87ed86a25c",
   "metadata": {
    "tags": []
   },
   "source": [
    "(extendedkalmanfilter)=\n",
    "\n",
    "## Extended Kalman Filter (EKF)\n",
    "It is possible to do an exact parameter identification on perfect (simulated) data with no noise (see Section $\\ref{\\detokenize{06.40_results_inverse_dynamics::doc}}$). However, such data from physical experiments does not exist in reality. The measured data will always contain process noise and measurement noise. In order to mitigate this, the data is preprocessed using an Extended Kalman filter (EKF) and Rauch Tung Striebel (RTS) smoother which are both presented below."
   ]
  },
  {
   "cell_type": "code",
   "execution_count": null,
   "id": "adac4906-cc1d-49ec-a0f0-2f49b601079c",
   "metadata": {
    "tags": [
     "remove-cell"
    ]
   },
   "outputs": [],
   "source": [
    "# %load imports.py\n",
    "%load_ext autoreload\n",
    "%autoreload 2\n",
    "%reload_kedro\n",
    "%config Completer.use_jedi = False  ## (To fix autocomplete)\n",
    "%matplotlib inline\n",
    "\n",
    "import pandas as pd\n",
    "import matplotlib.pyplot as plt\n",
    "from vessel_manoeuvring_models.visualization.plot import track_plots, plot, captive_plot\n",
    "import kedro\n",
    "import numpy as np\n",
    "import os.path\n",
    "import anyconfig\n",
    "\n",
    "import matplotlib.pyplot as plt\n",
    "import matplotlib\n",
    "plt.style.use('paper')\n",
    "from IPython.display import set_matplotlib_formats\n",
    "set_matplotlib_formats('pdf')\n",
    "\n",
    "plt.rcParams.update({\n",
    "    \"font.family\": \"serif\",\n",
    "    \"font.serif\": [\"Times\"]})\n",
    "\n",
    "from myst_nb import glue\n",
    "from vessel_manoeuvring_models.symbols import *\n",
    "import vessel_manoeuvring_models.symbols as symbols\n",
    "from vessel_manoeuvring_models.system_equations import *\n",
    "\n",
    "from IPython.display import display, Math, Latex, Markdown\n",
    "from sympy.physics.vector.printing import vpprint, vlatex\n",
    "\n",
    "from vessel_manoeuvring_models.parameters import df_parameters\n",
    "p = df_parameters[\"symbol\"]\n",
    "\n",
    "# Read configs:\n",
    "conf_path = os.path.join(\"../../conf/base/\")\n",
    "runs_globals_path = os.path.join(\n",
    "    conf_path,\n",
    "    \"runs_globals.yml\",\n",
    ")\n",
    "\n",
    "runs_globals = anyconfig.load(runs_globals_path)\n",
    "model_test_ids = runs_globals[\"model_test_ids\"]\n",
    "\n",
    "join_globals_path = os.path.join(\n",
    "    conf_path,\n",
    "    \"join_globals.yml\",\n",
    ")\n",
    "\n",
    "joins = runs_globals[\"joins\"]\n",
    "join_runs_dict = anyconfig.load(join_globals_path)\n",
    "\n",
    "globals_path = os.path.join(\n",
    "    conf_path,\n",
    "    \"globals.yml\",\n",
    ")\n",
    "global_variables = anyconfig.load(globals_path)\n",
    "\n",
    "\n",
    "\n",
    "vmms = global_variables[\"vmms\"]"
   ]
  },
  {
   "cell_type": "code",
   "execution_count": null,
   "id": "6e562f03-e99d-4af3-ac61-72f833b2d384",
   "metadata": {
    "tags": [
     "remove-cell"
    ]
   },
   "outputs": [],
   "source": [
    "from wPCC_pipeline.pipelines.preprocess.nodes import filter, assemble_data, add_thrust\n",
    "from wPCC_pipeline.pipelines.extended_kalman.nodes import create_extended_kalman\n",
    "from wPCC_pipeline.pipelines.brix.nodes import initial_parameters\n",
    "from wPCC_pipeline.pipelines.filter_data_extended_kalman.nodes import extended_kalman_filter,extended_kalman_smoother\n",
    "from wPCC_pipeline.pipelines.filter_data_extended_kalman.nodes import guess_covariance_matrixes, extended_kalman_filter, initial_state, extended_kalman_smoother\n",
    "from wPCC_pipeline.pipelines.preprocess.nodes import load\n",
    "from wPCC_pipeline.pipelines.motion_regression.nodes import predict_force, fit_motions, create_model_from_motion_regression\n",
    "from wPCC_pipeline.pipelines.motion_regression.nodes import fit_motions, create_model_from_motion_regression\n",
    "from wPCC_pipeline.pipelines.prediction.nodes import simulate_euler"
   ]
  },
  {
   "cell_type": "code",
   "execution_count": null,
   "id": "13c0002d-0624-409c-a2a6-6a9a3d44cf90",
   "metadata": {
    "tags": [
     "remove-cell"
    ]
   },
   "outputs": [],
   "source": [
    "#ship = \"kvlcc2_hsva\"\n",
    "ship = \"wpcc\"\n",
    "id = model_test_ids[ship][0]\n",
    "#id = \"22774\"\n",
    "raw_data = catalog.load(f\"{ship}.{ id }.data\")\n",
    "ship_data = catalog.load(f\"{ship}.ship_data\")\n",
    "vmm_name = \"vmm_martins_simple\"\n",
    "vmm = catalog.load(vmm_name)\n",
    "ek = catalog.load(f\"{ ship }.{ vmm_name }.ek\")\n",
    "model = catalog.load(f\"{ ship }.{ vmm_name }.ek\")\n",
    "\n",
    "data = load(raw_data, replace_velocities=True)\n",
    "\n",
    "data_ek_smooth = catalog.load(f\"{ ship }.updated.{ id }.data_ek_smooth\")"
   ]
  },
  {
   "cell_type": "markdown",
   "id": "3b29346a-8f2b-4446-b0f7-436f6067dc4b",
   "metadata": {},
   "source": [
    "### The EKF recursive algorithm\n",
    "EKF is an extension of the Kalman Filter (KF) to work on nonlinear systems such as the manoeuvring models. The basic idea is that noise can be disregarded if it does not make sense from a physical point of view. If noisy measurement data were perfectly correct, this would mean that the ship has many vibrations that must have originated from tremendous forces, considering the large mass of the ship. The prior understanding of model tests suggests that these forces are not present during the test. Therefore, the noise should be considered as measurement noise and should be removed. Low-pass filtering is a common way to remove noise, where motions above some cut-off frequencies are regarded as unphysical measurement noise. The problem with low-pass filter is that it is hard to know what cut-off frequency to choose, either too low: removing part of the signal, or too high: keeping some unfiltered measurement noise in the data. The Kalman filter has a system model that continuously estimates the system's state that is run in parallel with the measurement data. The filter estimates the current state as a combination of the measurement data and the system model estimate based on belief in the data and the model. If the data has low noise, the estimate turns toward that data. Conversely, if the model gives very good predictions, then that estimate turns towards the model."
   ]
  },
  {
   "cell_type": "markdown",
   "id": "057a4446-0d7e-407a-bd1e-4e0d2c2c2847",
   "metadata": {},
   "source": [
    "The system's inverse dynamics require the entire states, including positions, velocities, and accelerations, to be known. Only positions are known from the measurements, which means that velocities and accelerations are hidden states that the EKF should estimate.\n",
    "The state transition $f(\\mathbf{x},\\mathbf{c})$ is taken from the manoeuvring model ([eq](eqf)) to use the manoeuvring model as the EKF predictor.\n",
    "The state of the system is observed (measured) with a linear observation model ([eq](eqobserve)) where $\\mathbf{y}$ is the measured data $\\mathbf{H}$ is the observation matrix and $\\eta$ is measurement noise.\n",
    "\n",
    "\n",
    "```{math}\n",
    ":label: eqobserve\n",
    "\\mathbf{y} = \\mathbf{H} x + \\eta\n",
    "```"
   ]
  },
  {
   "cell_type": "markdown",
   "id": "785870b9-c5f5-4ae7-8995-c1db380fdcdb",
   "metadata": {
    "tags": [
     "remove-cell"
    ]
   },
   "source": [
    "$$\\mathbf{y} = \\mathbf{H} \\mathbf{x} + \\eta $$"
   ]
  },
  {
   "cell_type": "markdown",
   "id": "91bcae64-5cf3-4045-a84d-22de814fa1bc",
   "metadata": {},
   "source": [
    "The used EKF recursive algorithm used is summarized in the pseudocode below $\\cite{brown_introduction_1997}$."
   ]
  },
  {
   "cell_type": "markdown",
   "id": "802a6229-8ced-4f16-b3f1-e50b7b3d0554",
   "metadata": {},
   "source": [
    "```{prf:algorithm} Discrete-time extended Kalman filter\n",
    ":label: ek-algorithm\n",
    "\n",
    "**Inputs** Initial values: $x_0$, $P_0$, $C_d$, $R_d$, $Q_d$, $E_d$  \n",
    "\n",
    "**Output** Estimated states: $\\hat{x}$, estimated state covariances $\\hat{P}$\n",
    "\n",
    "1. Initial values:\n",
    "    1. $\\hat{x}[0] = x_0$ \n",
    "    2. $\\hat{P}[0] = P_0$\n",
    "\n",
    "2. For $k$ in $n$ measurements (time steps)\n",
    "\n",
    "    1. KF gain\n",
    "        1. $K[k]=\\hat{P}[k] C_d^T \\left(C_d \\hat{P}[k] C_d^T + R_d\\right)^{-1}$\n",
    "        2. $I_{KC} = I_n - K[k] C_d$\n",
    "        \n",
    "    2. Update\n",
    "        1. State corrector\n",
    "            $\\hat{x}[k] = \\hat{x}[k] + K[k] (y - C_d \\hat{x}[k]) $ \n",
    "        2. Covariance corrector\n",
    "            $\\hat{P}[k] = I_{KC} \\cdot \\hat{P}[k] I_{KC}^T + K[k] R_d K^T $\n",
    "            \n",
    "    3. Predict\n",
    "        1. State predictor\n",
    "            $\\hat{x}[k+1] = \\hat{x}[k] + h \\cdot \\hat{f}(\\hat{x}[k], c[k])$\n",
    "        2. Covariance predictor\n",
    "            $\\hat{P}[k+1] = A_d[k]  \\hat{P}[k] A_d[k]^T + E_d Q_d E_d^T $\n",
    "            \n",
    "\n",
    "\t\n",
    "```"
   ]
  },
  {
   "cell_type": "markdown",
   "id": "0581d010-3153-4fa0-8145-c3418ec08e90",
   "metadata": {},
   "source": [
    "Where $n$ is number of states (6 in this case), $I_n$ is an $n \\cdot n$ identity matrix.\n",
    "The transition matrix is calculated for each iteration using a Jacobian of the transition model:\n",
    "```{math}\n",
    ":label: eqjacobi\n",
    "A_d[k] = I + h \\left. \\frac{\\partial f \\left(x[k],c[k] \\right)}{\\partial x[k]} \\right|_{x[k]=\\hat{x}[k]}\n",
    "```\n",
    "This part and the fact that the nonlinear transition model is used directly as the predictor are the extension part of the EKF compared to the linear KF. Please note the linear approximation in [eq](eqjacobi) around the current state. This approximation can cause stability problems if the real system and the linearized system deviates too much, when large time steps are used on a very nonlinear system. The Unscented Kalman Filter, which was used in $\\cite{revestido_herrero_two-step_2012}$, is an alternative that can be used in these situations. \n"
   ]
  },
  {
   "cell_type": "markdown",
   "id": "28e3ffd3-a88d-4ea2-b073-c1e60600853b",
   "metadata": {
    "tags": [
     "remove-cell"
    ]
   },
   "source": [
    "$$ A_d[k] = I + h \\left. \\frac{\\partial f \\left(x[k],c[k] \\right)}{\\partial x[k]} \\right|_{x[k]=\\hat{x}[k]} $$"
   ]
  },
  {
   "cell_type": "markdown",
   "id": "242dcf3b-cd2b-4c23-a03c-5b55e6dd0b2b",
   "metadata": {},
   "source": [
    "The output from the filter contains the estimated states: $\\hat{x}$ and estimated state covariance matrix $\\hat{P}$. $\\hat{x}$ represent the most likely estimates, but the estimates have uncertainty that is expressed in $\\hat{P}$.\n",
    "The state of the system is described by the ships position, heading, velocities and yaw velocity: \n",
    "\n",
    "```{math}\n",
    ":label: eqstates\n",
    "x = [x_0,y_0,\\psi,u,v,r]^T\n",
    "```\n",
    "The initial state $x_0$ is taken as the mean value of the first five measurements, where the velocities are estimated with numeric differentiation. "
   ]
  },
  {
   "cell_type": "markdown",
   "id": "118ce26e-6452-46d2-87dd-0e56e199bc13",
   "metadata": {
    "tags": [
     "remove-cell"
    ]
   },
   "source": [
    "$$ x = [x_0,y_0,\\Psi,u,v,r]^T $$"
   ]
  },
  {
   "cell_type": "markdown",
   "id": "d9e0739d-f43a-4fc2-a524-1159644664b2",
   "metadata": {},
   "source": [
    "$C_d$ selects the measured states ($x_0$, $y_0$, $\\psi$): \n",
    "```{glue:math} eqcd\n",
    ":label: eqcd\n",
    "```"
   ]
  },
  {
   "cell_type": "code",
   "execution_count": null,
   "id": "24a3a696-9f0a-43b4-9c27-00a5670dbc0b",
   "metadata": {
    "tags": [
     "remove-cell"
    ]
   },
   "outputs": [],
   "source": [
    "Cd = sp.symbols('C_d')\n",
    "eq_Cd = sp.Eq(Cd, h*sp.UnevaluatedExpr(sp.Matrix(\n",
    "        [\n",
    "            [1, 0, 0, 0, 0, 0],\n",
    "            [0, 1, 0, 0, 0, 0],\n",
    "            [0, 0, 1, 0, 0, 0],\n",
    "        ]\n",
    "    )))\n",
    "\n",
    "glue('eqcd',eq_Cd)"
   ]
  },
  {
   "cell_type": "markdown",
   "id": "f0e49834-11f5-4890-be1d-52ed4ac31176",
   "metadata": {},
   "source": [
    "$E_d$ selects the hidden states ($u$, $v$, $r$): \n",
    "\n",
    "```{glue:math} eqed\n",
    ":label: eqed\n",
    "```"
   ]
  },
  {
   "cell_type": "code",
   "execution_count": null,
   "id": "9977ea25-c4f1-4a62-a4bc-f222d092dc39",
   "metadata": {
    "tags": [
     "remove-cell"
    ]
   },
   "outputs": [],
   "source": [
    "Ed = sp.symbols('E_d')\n",
    "eq_Ed = sp.Eq(Ed, h*sp.UnevaluatedExpr(sp.Matrix(\n",
    "        [\n",
    "            [0, 0, 0],\n",
    "            [0, 0, 0],\n",
    "            [0, 0, 0],\n",
    "            [1, 0, 0],\n",
    "            [0, 1, 0],\n",
    "            [0, 0, 1],\n",
    "        ],\n",
    "    )))\n",
    "\n",
    "glue('eqed',eq_Ed)"
   ]
  },
  {
   "cell_type": "markdown",
   "id": "b6fd290c-fd1d-49ba-91ea-42d32860a0e8",
   "metadata": {},
   "source": [
    "Where $h$ is the discrete time step, $R_d$ describes the covariance matrix of the measurement, $Q_d$ is the covariance matrix of the process model, and $P_0$ is the initial state covariance.\n",
    "Selecting good values for these three matrices is the most complicated part of getting the EKF to work well. The amount of expected measurement noise in the data should be inserted in to $R_d$, and the amount of error generated by the process model (manoeuvring model) needs to be estimated in $Q_d$. The choices for these matrices depend on the reliability of the present data and the present process model."
   ]
  },
  {
   "cell_type": "code",
   "execution_count": null,
   "id": "bdc80ac1-17d7-4ec9-9075-2c7ce343a223",
   "metadata": {
    "tags": [
     "remove-cell"
    ]
   },
   "outputs": [],
   "source": [
    "ship='wpcc'\n",
    "id = \"22773\"\n",
    "vmm = \"vmm_martins_simple\"\n",
    "data = catalog.load(f\"{ship}.{id}.data\")\n",
    "ek = catalog.load(f\"{ ship }.{ vmm }.ek\")\n",
    "ek_covariance_input = catalog.load(f\"params:{ship}.updated.ek_covariance_input\")\n",
    "model = catalog.load(f\"{ship}.updated.{vmm}.joined.model\")"
   ]
  },
  {
   "cell_type": "code",
   "execution_count": null,
   "id": "333a389d-24eb-4729-8c03-d459fb262ba6",
   "metadata": {
    "tags": [
     "remove-cell"
    ]
   },
   "outputs": [],
   "source": [
    "ek_covariance_input"
   ]
  },
  {
   "cell_type": "code",
   "execution_count": null,
   "id": "ec49f561-7180-4002-9ab0-e7b5455c0b8b",
   "metadata": {
    "tags": [
     "remove-cell"
    ]
   },
   "outputs": [],
   "source": [
    "x0 = initial_state(data=data)\n",
    "covariance_matrixes = guess_covariance_matrixes(ek_covariance_input=ek_covariance_input, data=data)"
   ]
  },
  {
   "cell_type": "code",
   "execution_count": null,
   "id": "6bd4fcca-829d-45b5-a3ff-0109f2ea515d",
   "metadata": {
    "tags": [
     "remove-cell"
    ]
   },
   "outputs": [],
   "source": [
    "data2 = data.copy()\n",
    "data2.iloc[0].update(x0)\n",
    "result = model.simulate(data2)\n",
    "df_sim = result.result"
   ]
  },
  {
   "cell_type": "code",
   "execution_count": null,
   "id": "e25b2b13-93cd-4fd0-bdb2-6843f2796a05",
   "metadata": {
    "tags": [
     "remove-cell"
    ]
   },
   "outputs": [],
   "source": [
    "data_noise = df_sim.copy()\n",
    "data_noise.drop(columns=['u','v','r','u1d','v1d','r1d'], inplace=True)\n",
    "np.random.seed(42)\n",
    "data_noise['x0_epsilon']=np.random.normal(0, scale=20*ek_covariance_input['measurement_error_max']['positions']/3, size=len(data_noise))\n",
    "data_noise['y0_epsilon']=np.random.normal(0, scale=20*ek_covariance_input['measurement_error_max']['positions']/3, size=len(data_noise))\n",
    "data_noise['psi_epsilon']=np.random.normal(0, scale=20*np.deg2rad(ek_covariance_input['measurement_error_max']['psi']/3), size=len(data_noise))\n",
    "data_noise['x0']+=data_noise['x0_epsilon']\n",
    "data_noise['y0']+=data_noise['y0_epsilon']\n",
    "data_noise['psi']+=data_noise['psi_epsilon']\n",
    "\n"
   ]
  },
  {
   "cell_type": "code",
   "execution_count": null,
   "id": "41e57001-e12b-4784-88b9-5782d0bd4dd7",
   "metadata": {
    "tags": [
     "remove-cell"
    ]
   },
   "outputs": [],
   "source": [
    "\n",
    "ek_filtered, data_ek_filter, time_steps = extended_kalman_filter(ek=ek, data=data_noise, covariance_matrixes=covariance_matrixes, x0=x0, hydrodynamic_derivatives=model.parameters, input_columns=['delta', 'thrust'])"
   ]
  },
  {
   "cell_type": "markdown",
   "id": "686d87f0-2b07-4365-87b4-7e52f913e8b9",
   "metadata": {},
   "source": [
    "(RTS)=\n",
    "### The Rauch Tung Striebel (RTS) smoother\n",
    "The EKF is recursive and can be run online, continuously making new estimates as new measurements arrive. The EKF uses passed measurements to estimate states in the near future. This prediction is helpful for online applications such as  autopilots or autonomous ships (USVs) (USVs). This restriction is  unnecessary for the parameter estimation on already existing data where a whole time series of existing measurements are available. The fact that both past and future data are known can be used to improve the filter. An EKF filter can include future time steps by adding a smoother after the filter. The parameter estimation uses a Rauch Tung Striebel (RTS) smoother $\\cite{rauch_maximum_1965}$, which is an algorithm that runs the EKF backward to also account for future time steps.\n",
    "The EKF and RTS have been run on simulated data with Gaussian noise added to see if the real states can be identified. Results from this can be seen in  {numref}`fig_ekf`. This figure shows that the RTS smoother is also needed to get an accurate estimate of the yaw acceleration.\n",
    "\n",
    "\n",
    "```{glue:figure} fig_ekf\n",
    ":figwidth: 1000px\n",
    ":name: \"fig_ekf\"\n",
    "\n",
    "EKF and RTS on simulated data (real) with Gaussian noise added (raw).\n",
    "```"
   ]
  },
  {
   "cell_type": "code",
   "execution_count": null,
   "id": "d33a7d46-b875-4b56-baaf-ce9db3b65f3d",
   "metadata": {
    "tags": [
     "remove-cell"
    ]
   },
   "outputs": [],
   "source": [
    "ek_smooth, data_ek_smooth = extended_kalman_smoother(ek=ek_filtered, data=data_noise, time_steps=time_steps, covariance_matrixes=covariance_matrixes, hydrodynamic_derivatives=model.parameters)"
   ]
  },
  {
   "cell_type": "code",
   "execution_count": null,
   "id": "983926c9-38e4-4bbf-a0a8-38a1311eadac",
   "metadata": {
    "tags": [
     "remove-cell"
    ]
   },
   "outputs": [],
   "source": [
    "dataframes = {'raw':data_noise,\n",
    "              'EKF':data_ek_filter,\n",
    "              'RTS':data_ek_smooth,\n",
    "              'real':df_sim, \n",
    "             }\n",
    "\n",
    "styles = {\n",
    "    'raw': {'style':'gray','lw':0.5},\n",
    "    'real' : {'style':'b--', 'lw':1.5},\n",
    "    'EKF' : {'style':'m-','alpha':1.0, 'lw':0.5},\n",
    "    'RTS' : {'style':'g-','alpha':1.0, 'lw':1.5},\n",
    "\n",
    "}\n",
    "\n",
    "fig = plot(dataframes, keys=['psi','r','r1d'], styles=styles, ncols=1)\n",
    "ax = fig.axes[0]\n",
    "ax.set_xticks([])\n",
    "ax.set_ylabel(r'$\\psi$ [rad]')\n",
    "ax = fig.axes[1]\n",
    "ax.set_ylabel(r'$r$ [rad/s]')\n",
    "ax.set_xticks([])\n",
    "ax = fig.axes[2]\n",
    "ax.set_xlabel('time [s]')\n",
    "ax.set_ylabel(r'$\\dot{r}$ $[rad/s^2]$')\n",
    "\n",
    "plt.tight_layout()\n",
    "\n",
    "glue('fig_ekf',fig, display=False)"
   ]
  },
  {
   "cell_type": "code",
   "execution_count": null,
   "id": "92f7b467-db9f-4f31-a6c2-565a4e693ed9",
   "metadata": {
    "tags": [
     "remove-cell"
    ]
   },
   "outputs": [],
   "source": [
    "df_variance = pd.DataFrame(ek_filtered.variance.T, index= ek_filtered.time, columns=['x0','y0','psi','u','v','r'])"
   ]
  },
  {
   "cell_type": "code",
   "execution_count": null,
   "id": "076b68d4-f24f-4168-ba00-e9ff2ca8b177",
   "metadata": {
    "tags": [
     "remove-cell"
    ]
   },
   "outputs": [],
   "source": [
    "fig,ax=plt.subplots()\n",
    "df_variance.plot(ax=ax)\n",
    "ax.set_ylim(0,0.3*df_variance.max().max());"
   ]
  },
  {
   "cell_type": "code",
   "execution_count": null,
   "id": "d19f1e0d-b551-47a0-946d-fa4f18635927",
   "metadata": {},
   "outputs": [],
   "source": []
  },
  {
   "cell_type": "code",
   "execution_count": null,
   "id": "9a3e89a5-acef-4f03-bea2-97289437f1f8",
   "metadata": {},
   "outputs": [],
   "source": []
  }
 ],
 "metadata": {
  "citation-manager": {
   "items": {}
  },
  "kernelspec": {
   "display_name": "wPCC_pipeline",
   "language": "python",
   "name": "python3"
  },
  "language_info": {
   "codemirror_mode": {
    "name": "ipython",
    "version": 3
   },
   "file_extension": ".py",
   "mimetype": "text/x-python",
   "name": "python",
   "nbconvert_exporter": "python",
   "pygments_lexer": "ipython3",
   "version": "3.7.9"
  }
 },
 "nbformat": 4,
 "nbformat_minor": 5
}
