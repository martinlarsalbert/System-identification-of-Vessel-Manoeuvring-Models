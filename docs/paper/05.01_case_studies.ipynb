{
 "cells": [
  {
   "cell_type": "markdown",
   "id": "ecef5b6a-812e-4031-b8a2-473f41761c9b",
   "metadata": {
    "tags": []
   },
   "source": [
    "(case_studies)=\n",
    "# Case studies"
   ]
  },
  {
   "cell_type": "markdown",
   "id": "713e1543-14df-4d90-9570-8ed3ac213160",
   "metadata": {
    "tags": [
     "remove-cell"
    ]
   },
   "source": [
    "Description of the test cases\n",
    "* *Motivate why they were selected as the candidates*\n",
    "* *Where the data come from, measurement accuracy/uncertainty*\n",
    "* *Describe the differences between the test cases to show how generally applicable the methodology is*\n",
    "* *Success criteria: make a statement about which deviations or accuracy in the prediction are accepted as ''successful'' and why*\n"
   ]
  },
  {
   "cell_type": "markdown",
   "id": "8ef4bb64-4572-4427-b5f0-8094a0e9ae1c",
   "metadata": {},
   "source": [
    "Two case study ship model test results, i.e., the wPCC as in {numref}`wpcc_mdl` and the well-known KVLCC2, are used to validate the proposed PIT method to obtain the hydrodynamic derivatives of the VMMs to describe a ship’s manoeuverability. The general aim with developing a VMM with PIT is to be able to make predictions for unseen data, outside the known data from model tests or full scale operation. The aim with both test cases is therefore to predict turning circle manouvres with VMMs that are trained on model tests data where turning circle manoeuvres are excluded. The training data contains drift angles and yaw rates that are much smaller than what is encounterd during a turning circle manoeuvre.\n",
    "The main dimensions of those two case study ship models are listed in {numref}`Main_dimensions_of_test_case_ship_models`. The wPCC test model is a wind powered car carrier tested at SSPA. This twin-screw ship with large rudders has good course stabilility and is expected to have almost linear and symmetric hydrodynamic manoeuvring forces. The test setup and measurement procedures at SSPA is also well known to the authors which all in all makes it ideal as a first test case of the PIT.\n",
    "The KVLCC2 test model and model test data from HSVA and MARIN was made available from SIMMAN2008 conference {cite:p}`stern_experience_2011`. This single screw ship is more course unstable than the wPCC test case and is therefore expected to have more nonlinear hydrodynamic manoeuvring forces which are also unsymetrical due to the single propeller. This makes it good as the seconds test case with PIT on a more nonlinear and unsymetrical model.\n",
    "\n",
    "```{image} \n",
    ":alt: wpcc_mdl\n",
    ":class: bg-primary mb-1\n",
    ":width: 200px\n",
    ":align: center\n",
    "```\n",
    "\n",
    "```{figure} figures/wpcc_mdl.png\n",
    "---\n",
    "height: 150px\n",
    "name: wpcc_mdl\n",
    "---\n",
    "wPCC tested at SSPA. Copyright 2020 by SSPA Sweden AB. \n",
    "```"
   ]
  },
  {
   "cell_type": "code",
   "execution_count": null,
   "id": "ff85e028-443e-4642-b362-8dad70d72fc8",
   "metadata": {
    "tags": [
     "remove-cell"
    ]
   },
   "outputs": [],
   "source": [
    "# %load imports.py\n",
    "%load_ext autoreload\n",
    "%autoreload 2\n",
    "%reload_kedro\n",
    "%config Completer.use_jedi = False  ## (To fix autocomplete)\n",
    "%matplotlib inline\n",
    "\n",
    "import warnings\n",
    "warnings.filterwarnings('ignore')\n",
    "\n",
    "import pandas as pd\n",
    "pd.set_option('display.max_columns', 500)\n",
    "from src.models.vmm import ModelSimulator\n",
    "import matplotlib.pyplot as plt\n",
    "from src.visualization.plot import track_plots, plot, captive_plot\n",
    "import kedro\n",
    "import numpy as np\n",
    "import os.path\n",
    "import anyconfig\n",
    "\n",
    "import matplotlib\n",
    "plt.style.use('paper')\n",
    "from IPython.display import set_matplotlib_formats\n",
    "set_matplotlib_formats('pdf')\n",
    "\n",
    "from myst_nb import glue\n",
    "from src.symbols import *\n",
    "import src.symbols as symbols\n",
    "from src.system_equations import *\n",
    "\n",
    "from IPython.display import display, Math, Latex, Markdown\n",
    "from sympy.physics.vector.printing import vpprint, vlatex\n",
    "\n",
    "from src.parameters import df_parameters\n",
    "p = df_parameters[\"symbol\"]\n",
    "\n",
    "# Read configs:\n",
    "conf_path = os.path.join(\"../../conf/base/\")\n",
    "runs_globals_path = os.path.join(\n",
    "    conf_path,\n",
    "    \"runs_globals.yml\",\n",
    ")\n",
    "\n",
    "runs_globals = anyconfig.load(runs_globals_path)\n",
    "model_test_ids = runs_globals[\"model_test_ids\"]\n",
    "\n",
    "join_globals_path = os.path.join(\n",
    "    conf_path,\n",
    "    \"join_globals.yml\",\n",
    ")\n",
    "\n",
    "joins = runs_globals[\"joins\"]\n",
    "join_runs_dict = anyconfig.load(join_globals_path)\n",
    "\n",
    "globals_path = os.path.join(\n",
    "    conf_path,\n",
    "    \"globals.yml\",\n",
    ")\n",
    "global_variables = anyconfig.load(globals_path)\n",
    "\n",
    "\n",
    "\n",
    "vmms = global_variables[\"vmms\"]\n",
    "from src.visualization.plot import track_plots, track_plot, plot, plot_parameters\n",
    "from jb_helpers import df_to_myst, parameter_to_latex\n",
    "from wPCC_pipeline.pipelines.motion_regression.nodes import predict_force"
   ]
  },
  {
   "cell_type": "code",
   "execution_count": null,
   "id": "7b2ae155-8d00-4616-9c40-d6fff2a40c21",
   "metadata": {
    "tags": [
     "remove-cell"
    ]
   },
   "outputs": [],
   "source": [
    "model_test_ids.keys()"
   ]
  },
  {
   "cell_type": "code",
   "execution_count": null,
   "id": "19cdcb39-f023-4f0a-a9ab-ba504de1deea",
   "metadata": {
    "tags": [
     "remove-cell"
    ]
   },
   "outputs": [],
   "source": [
    "ships = ['wpcc','kvlcc2_hsva']\n",
    "\n",
    "ship_datas = {}\n",
    "initial_parameters = {}\n",
    "\n",
    "for ship in ships:\n",
    "       \n",
    "    ship_datas[ship] = catalog.load(f\"{ship}.ship_data\")\n",
    "    initial_parameters[ship] = catalog.load(f\"{ship}.initial_parameters\")\n",
    "    \n",
    "\n",
    "ship_datas = pd.DataFrame(ship_datas)\n",
    "ship_datas.dropna(how='any', inplace=True)\n",
    "\n",
    "initial_parameters = pd.DataFrame(initial_parameters)\n",
    "initial_parameters.drop(index='Xthrust', inplace=True)\n",
    "mask = (initial_parameters!=0).all(axis=1)\n",
    "initial_parameters = initial_parameters.loc[mask].copy()"
   ]
  },
  {
   "cell_type": "code",
   "execution_count": null,
   "id": "229a6fb0-2243-4ad0-a2cd-3c58728bf18b",
   "metadata": {
    "tags": [
     "remove-cell"
    ]
   },
   "outputs": [],
   "source": [
    "ship_data_table = ship_datas.copy()\n",
    "ship_data_table.rename(columns={'wpcc':'WPCC', 'kvlcc2_hsva': 'KVLCC2 (HSVA)'}, inplace=True)\n",
    "ship_data_table = ship_data_table.transpose()\n",
    "ship_data_table[r'$k_{zz}$'] = np.sqrt(ship_data_table['I_z']/ship_data_table['m'])/ship_data_table['L']\n",
    "ship_data_table.drop(columns=['rho','I_z','CB'], inplace=True)\n",
    "ship_data_table.rename(\n",
    "    columns={\n",
    "        'T':'$T$ $[m]$',\n",
    "        'L':'$L$ $[m]$',\n",
    "        'B':'$B$ $[m]$',\n",
    "        'x_G': '$L_{CG}$ $[m]$',\n",
    "        'm': '$m$ $[kg]$',\n",
    "        'I_z':'$I_{zz}$ $[kg m2]$',\n",
    "        'volume':r'$\\nabla$ $[m^3]$',\n",
    "        'scale_factor':r'$\\alpha$',\n",
    "        'TWIN':'$N_p$',\n",
    "        'w_p0':r'$w_{p0}$',\n",
    "        'x_p':r'$x_{p}$ $[m]$',\n",
    "        'x_r':r'$x_{r}$ $[m]$',\n",
    "        'D':'$D$ $[m]$',\n",
    "        'CB':r'$C_B$',\n",
    "        \n",
    "    },\n",
    "    \n",
    "    inplace=True)\n",
    "\n",
    "ship_data_table['$N_p$']+=1\n",
    "ship_data_table['$N_p$']=ship_data_table['$N_p$'].astype(int)\n",
    "ship_data_table['$m$ $[kg]$']=ship_data_table['$m$ $[kg]$'].astype(int)\n",
    "\n",
    "columns = ship_data_table.columns.sort_values()\n",
    "ship_data_table=ship_data_table[columns].copy()\n",
    "ship_data_table = ship_data_table.round(decimals=2)\n",
    "#glue(\"ship_datas\", ship_data_table)\n",
    "\n",
    "print(df_to_myst(ship_data_table, title=\"Main dimensions of test case ship models\"))\n",
    "print('_____________')"
   ]
  },
  {
   "cell_type": "markdown",
   "id": "06ad028a-2522-4835-a601-cbbd13956a86",
   "metadata": {
    "tags": []
   },
   "source": [
    "```{list-table} Main dimensions of test case ship models\n",
    ":header-rows: 1\n",
    ":name: Main_dimensions_of_test_case_ship_models\n",
    "* -  \n",
    "  - $B$ $[m]$\n",
    "  - $D$ $[m]$\n",
    "  - $L$ $[m]$\n",
    "  - $L_{CG}$ $[m]$\n",
    "  - $N_p$\n",
    "  - $T$ $[m]$\n",
    "  - $\\alpha$\n",
    "  - $\\nabla$ $[m^3]$\n",
    "  - $k_{zz}$\n",
    "  - $m$ $[kg]$\n",
    "  - $w_{p0}$\n",
    "  - $x_{p}$ $[m]$\n",
    "  - $x_{r}$ $[m]$\n",
    "* - WPCC\n",
    "  - 0.95\n",
    "  - 0.12\n",
    "  - 5.01\n",
    "  - 0.0\n",
    "  - 2\n",
    "  - 0.21\n",
    "  - 41.2\n",
    "  - 0.44\n",
    "  - 0.25\n",
    "  - 441\n",
    "  - 0.15\n",
    "  - -2.42\n",
    "  - -2.42\n",
    "* - KVLCC2 (HSVA)\n",
    "  - 1.27\n",
    "  - 0.2\n",
    "  - 7.0\n",
    "  - 0.24\n",
    "  - 1\n",
    "  - 0.46\n",
    "  - 45.7\n",
    "  - 3.27\n",
    "  - 0.25\n",
    "  - 3272\n",
    "  - 0.4\n",
    "  - -3.39\n",
    "  - -3.5\n",
    "\n",
    "```"
   ]
  },
  {
   "cell_type": "markdown",
   "id": "f2d31fa1-bc6d-42e8-a11b-54d4f46037b0",
   "metadata": {
    "tags": [
     "remove-cell"
    ]
   },
   "source": [
    "### Initial conditions and assumptions"
   ]
  },
  {
   "cell_type": "code",
   "execution_count": null,
   "id": "46b5c166-1935-4240-9595-a99263dc3ee4",
   "metadata": {
    "tags": [
     "remove-cell"
    ]
   },
   "outputs": [],
   "source": [
    "s = \"\"\n",
    "mask = df_parameters['brix'].notnull()\n",
    "df_brix = df_parameters.loc[mask].copy()\n",
    "df_brix.sort_index(inplace=True)\n",
    "for index, row in df_brix.iterrows():\n",
    "    \n",
    "    eq = sp.Eq(row['symbol'],row['brix'])\n",
    "    name = f\"eq_{index}\"\n",
    "    glue(name,eq)\n",
    "    \n",
    "    s+=f\"\"\"\n",
    "```{{glue:math}} {name}\n",
    ":label: \"{name}\"\n",
    "```\n",
    "    \"\"\"\n",
    "print(s)   "
   ]
  },
  {
   "cell_type": "markdown",
   "id": "f6409204-2f91-4797-9c9a-0b79e1e657c8",
   "metadata": {},
   "source": [
    "The PIT requires an initial guessed linear model. Hydrodynamic derivatives for these inital models for the two test cases are shown in table {numref}`intial_guess`. These are calculated with semi empirical formulas ([eq](eq_Nr)- [eq](eq_Yvdot)) taken from {cite:p}`brix_manoeuvring_1993`. "
   ]
  },
  {
   "cell_type": "markdown",
   "id": "71792fd4-eb70-47f1-8a91-741c7fae568f",
   "metadata": {},
   "source": [
    "\n",
    "```{glue:math} eq_Nr\n",
    ":label: \"eq_Nr\"\n",
    "```\n",
    "    \n",
    "```{glue:math} eq_Nrdot\n",
    ":label: \"eq_Nrdot\"\n",
    "```\n",
    "    \n",
    "```{glue:math} eq_Nv\n",
    ":label: \"eq_Nv\"\n",
    "```\n",
    "    \n",
    "```{glue:math} eq_Nvdot\n",
    ":label: \"eq_Nvdot\"\n",
    "```\n",
    "    \n",
    "```{glue:math} eq_Xudot\n",
    ":label: \"eq_Xudot\"\n",
    "```\n",
    "    \n",
    "```{glue:math} eq_Yr\n",
    ":label: \"eq_Yr\"\n",
    "```\n",
    "    \n",
    "```{glue:math} eq_Yrdot\n",
    ":label: \"eq_Yrdot\"\n",
    "```\n",
    "    \n",
    "```{glue:math} eq_Yv\n",
    ":label: \"eq_Yv\"\n",
    "```\n",
    "    \n",
    "```{glue:math} eq_Yvdot\n",
    ":label: \"eq_Yvdot\"\n",
    "```\n",
    "    \n"
   ]
  },
  {
   "cell_type": "code",
   "execution_count": null,
   "id": "4bbf5303-8108-4764-8238-9a2b07dbbf1b",
   "metadata": {
    "tags": [
     "remove-cell"
    ]
   },
   "outputs": [],
   "source": [
    "initial_parameter_table = initial_parameters.rename(columns={'wpcc':'WPCC', 'kvlcc2_hsva': 'KVLCC2 (HSVA)'})\n",
    "initial_parameter_table = initial_parameter_table.transpose()\n",
    "initial_parameter_table.columns = [parameter_to_latex(x) for x in initial_parameter_table.columns]\n",
    "\n",
    "#glue(\"initial_parameters\", 1000*initial_parameter_table)\n",
    "\n",
    "print(df_to_myst((1000*initial_parameter_table).round(decimals=3), \n",
    "                 title=\"Initial guessed derivatives in linear models (times 1000)\", \n",
    "                 name=\"intial_guess\"))\n"
   ]
  },
  {
   "cell_type": "markdown",
   "id": "f169156b-f920-4bdf-9fcf-8f4f333767ae",
   "metadata": {},
   "source": [
    "```{list-table} Initial guessed derivatives in linear models (times 1000)\n",
    ":header-rows: 1\n",
    ":name: intial_guess\n",
    "* -  \n",
    "  - $ N_{\\delta} $\n",
    "  - $ N_{r} $\n",
    "  - $ N_{\\dot{r}} $\n",
    "  - $ N_{v} $\n",
    "  - $ N_{\\dot{v}} $\n",
    "  - $ X_{\\dot{u}} $\n",
    "  - $ Y_{\\delta} $\n",
    "  - $ Y_{r} $\n",
    "  - $ Y_{\\dot{r}} $\n",
    "  - $ Y_{v} $\n",
    "  - $ Y_{\\dot{v}} $\n",
    "* - WPCC\n",
    "  - -1.5\n",
    "  - -1.719\n",
    "  - -0.299\n",
    "  - -3.184\n",
    "  - -0.128\n",
    "  - 0.179\n",
    "  - 3.0\n",
    "  - 2.402\n",
    "  - -0.303\n",
    "  - -9.713\n",
    "  - -6.109\n",
    "* - KVLCC2 (HSVA)\n",
    "  - -1.5\n",
    "  - -3.415\n",
    "  - -0.822\n",
    "  - -8.707\n",
    "  - -1.166\n",
    "  - 1.05\n",
    "  - 3.0\n",
    "  - 4.305\n",
    "  - -1.271\n",
    "  - -25.266\n",
    "  - -15.846\n",
    "\n",
    "```"
   ]
  },
  {
   "cell_type": "code",
   "execution_count": null,
   "id": "9c365693-9d4d-4f05-9105-6eca4b394a3c",
   "metadata": {
    "tags": [
     "remove-cell"
    ]
   },
   "outputs": [],
   "source": [
    "def break_plot(df, **kwargs):\n",
    "    \n",
    "    df_ = df.copy()\n",
    "    mask = np.concatenate([[False],np.diff(df_.index)>1])\n",
    "    df_.loc[mask] = np.NaN\n",
    "    df_.plot(**kwargs)\n"
   ]
  },
  {
   "cell_type": "code",
   "execution_count": null,
   "id": "eee74d06-e385-41eb-88b2-60713c6917bb",
   "metadata": {
    "tags": [
     "remove-cell"
    ]
   },
   "outputs": [],
   "source": [
    "def rotate(df):\n",
    "    \n",
    "    dpsi = 2*np.pi*np.random.random()\n",
    "    \n",
    "    df['psi']+=dpsi\n",
    "    x0 = df['x0'].copy()\n",
    "    y0 = df['y0'].copy()\n",
    "    \n",
    "    df['x0'] = np.cos(dpsi)*x0 - np.sin(dpsi)*y0\n",
    "    df['y0'] = np.sin(dpsi)*x0 + np.cos(dpsi)*y0\n",
    "        \n",
    "    \n",
    "    return df\n",
    "    \n",
    "    "
   ]
  },
  {
   "cell_type": "markdown",
   "id": "bc8ea8c8-c429-4870-9664-cd2eabb2b8fd",
   "metadata": {},
   "source": [
    "### wPCC test scenarios"
   ]
  },
  {
   "cell_type": "code",
   "execution_count": null,
   "id": "be3a2c8b-59a5-41ad-8e03-ad3dce33722e",
   "metadata": {
    "tags": [
     "remove-cell"
    ]
   },
   "outputs": [],
   "source": [
    "ship=\"wpcc\"\n",
    "#vmm_name = \"vmm_martins_simple\"\n",
    "vmm_name = \"vmm_abkowitz\"\n",
    "vmm = catalog.load(vmm_name)\n",
    "\n",
    "ship_data = catalog.load(f\"{ship}.ship_data\")\n",
    "\n",
    "#regression = catalog.load(f\"{ship}.updated.{vmm_name}.joined.regression\")\n",
    "#regression.diff_eq_Y.exclude_parameters.pop('Ydelta')\n",
    "#regression.diff_eq_Y.exclude_parameters.pop('Ythrustdelta')\n",
    "\n",
    "\n",
    "data = catalog.load(f\"{ship}.updated.joined.data_ek_smooth\")\n",
    "\n",
    "added_masses = catalog.load(f\"{ship}.added_masses\")\n",
    "exclude_parameters = catalog.load(f\"params:{ship}.motion_regression.exclude_parameters\")\n",
    "columns = ['u','v','r','u1d','v1d','r1d','delta','thrust','id','x0','y0','psi']\n",
    "data_with_force = predict_force(data=data[columns], added_masses=added_masses, ship_parameters=ship_data, vmm=vmm)"
   ]
  },
  {
   "cell_type": "code",
   "execution_count": null,
   "id": "a9ba22d0-7ebf-43be-b8fc-ec5f012e11e4",
   "metadata": {
    "tags": [
     "remove-cell"
    ]
   },
   "outputs": [],
   "source": [
    "ids = list(data_with_force['id'].unique())\n",
    "ids_train = ids.copy()\n",
    "id_test = 22774\n",
    "ids_train.remove(id_test)\n",
    "mask = data_with_force['id'].isin(ids_train)\n",
    "data_train = data_with_force.loc[mask].copy()\n",
    "assert not id_test in data_train['id'].unique()"
   ]
  },
  {
   "cell_type": "code",
   "execution_count": null,
   "id": "e72a11d6-aca3-4cfc-ab06-ecdef2341fba",
   "metadata": {
    "tags": [
     "remove-cell"
    ]
   },
   "outputs": [],
   "source": [
    "ids_test = [\n",
    "    22771,\n",
    "    22772,\n",
    "    22773,\n",
    "]\n",
    "\n",
    "mask = data_train['id'].isin(ids_test)\n",
    "data_validation = data_train.loc[mask].copy()\n",
    "data_sub_train = data_train.loc[~mask].copy()\n",
    "mask = data['id']==id_test\n",
    "data_testing = data_with_force.loc[mask]"
   ]
  },
  {
   "cell_type": "markdown",
   "id": "b1d9dcea-c481-4b57-bb4a-64f18d676ebb",
   "metadata": {},
   "source": [
    "A turning circle manoeuvre should be predicted for the wPCC test case based on a series of model tests including ZigZag10/10, 20/20 to port and startboard as well as self propulsion and yaw rate tests. The turning circle test contain much larger drift angles, rudder angle and yaw rates compared to the model tests used for training, so that the VMM:s prediction ability outside the traning data is tested.\n",
    "This test case focuses on the prediction of forces and moments from the ship hull and rudders. The propeller force is therefore not part of the prediction model and is instead taken from the model test measurements.\n",
    "The model test data that is used for training is split into a training and validation dataset. The training dataset contains self propulsion, yaw rate tests and zigzag10/10 tests to startboard and port. The validation dataset constists of three zigzag20/20 tests, so that the validation set contains larger drift angles, rudder angles and yaw rates than the training set in a similiar way as for the real prediction case. The training and validation datasets as well as the turning circle test case are shown in the. The training and validation datasets as well as the test set are shown in the {numref}`fig_traintest`.\n",
    "\n",
    "```{glue:figure} fig_traintest\n",
    ":name: \"fig_traintest\"\n",
    ":figwidth: 1000px\n",
    "wPCC training, validation and testing datasets.\n",
    "```"
   ]
  },
  {
   "cell_type": "code",
   "execution_count": null,
   "id": "5bd0aa86-82e0-41e7-9cd6-19dc548f1c75",
   "metadata": {
    "tags": [
     "remove-cell"
    ]
   },
   "outputs": [],
   "source": [
    "np.random.seed(3)\n",
    "fig,ax=plt.subplots()\n",
    "\n",
    "dataframes = {id:rotate(df_) for id, df_ in data_sub_train.groupby(by='id')}\n",
    "styles = {id:{'style':'b-','label':'_nolegend_'} for id, df_ in data_sub_train.groupby(by='id')}\n",
    "\n",
    "dataframes.update({id:rotate(df_) for id, df_ in data_validation.groupby(by='id')})\n",
    "styles.update({id:{'style':'k--','label':'_nolegend_'} for id, df_ in data_validation.groupby(by='id')})\n",
    "\n",
    "dataframes.update({id:rotate(df_) for id, df_ in data_testing.groupby(by='id')})\n",
    "styles.update({id:{'style':'r-.','label':'_nolegend_'} for id, df_ in data_testing.groupby(by='id')})\n",
    "\n",
    "track_plots(dataframes, lpp=ship_data['L'], beam=ship_data['B'],  styles=styles, N=2, ax=ax);\n",
    "\n",
    "ax.plot([],'b-',label='Training')\n",
    "ax.plot([],'g-',label='Validation')\n",
    "ax.plot([],'r-',label='Testing')\n",
    "\n",
    "\n",
    "ax.legend();\n",
    "glue('fig_traintest',fig, display=False)"
   ]
  },
  {
   "cell_type": "markdown",
   "id": "e389b63d-8395-4ad7-bb8b-25ab9564ea4e",
   "metadata": {},
   "source": [
    "### KVLCC2 test scenarios"
   ]
  },
  {
   "cell_type": "code",
   "execution_count": null,
   "id": "a6955b35-8e77-4971-9aa3-11e61d447662",
   "metadata": {
    "tags": [
     "remove-cell"
    ]
   },
   "outputs": [],
   "source": [
    "ship=\"kvlcc2_hsva\"\n",
    "#vmm_name = \"vmm_martins_simple\"\n",
    "vmm_name = \"vmm_abkowitz\"\n",
    "vmm = catalog.load(vmm_name)\n",
    "\n",
    "ship_data = catalog.load(f\"{ship}.ship_data\")\n",
    "\n",
    "#regression = catalog.load(f\"{ship}.updated.{vmm_name}.joined.regression\")\n",
    "#regression.diff_eq_Y.exclude_parameters.pop('Ydelta')\n",
    "#regression.diff_eq_Y.exclude_parameters.pop('Ythrustdelta')\n",
    "\n",
    "\n",
    "data = catalog.load(f\"{ship}.updated.joined.data_ek_smooth\")\n",
    "\n",
    "added_masses = catalog.load(f\"{ship}.added_masses\")\n",
    "exclude_parameters = catalog.load(f\"params:{ship}.motion_regression.exclude_parameters\")\n",
    "columns = ['u','v','r','u1d','v1d','r1d','delta','thrust','id','x0','y0','psi','rev']\n",
    "data_with_force = predict_force(data=data[columns], added_masses=added_masses, ship_parameters=ship_data, vmm=vmm)"
   ]
  },
  {
   "cell_type": "code",
   "execution_count": null,
   "id": "475760ce-515c-43f2-9539-5efcd4c7227f",
   "metadata": {
    "tags": [
     "remove-cell"
    ]
   },
   "outputs": [],
   "source": [
    "ids = list(data_with_force['id'].unique())\n",
    "ids_train = ids.copy()\n",
    "# id_test = 22774  (MARIN test as test)\n",
    "#ids_train.remove(id_test)\n",
    "mask = data_with_force['id'].isin(ids_train)\n",
    "data_train = data_with_force.loc[mask].copy()\n",
    "#assert not id_test in data_train['id'].unique()\n"
   ]
  },
  {
   "cell_type": "code",
   "execution_count": null,
   "id": "48a3e7de-08ac-4d1e-abfd-3c7f04e9455c",
   "metadata": {
    "tags": [
     "remove-cell"
    ]
   },
   "outputs": [],
   "source": [
    "ids_test = [\n",
    "    'HSVA_CPMC_KVLCC2_Z_35_05',\n",
    "]\n",
    "\n",
    "mask = data_train['id'].isin(ids_test)\n",
    "data_validation = data_train.loc[mask].copy()\n",
    "data_sub_train = data_train.loc[~mask].copy()"
   ]
  },
  {
   "cell_type": "code",
   "execution_count": null,
   "id": "f5179381-1c07-48fb-858d-da3001fb04c6",
   "metadata": {
    "tags": [
     "remove-cell"
    ]
   },
   "outputs": [],
   "source": [
    "ids2 = [\"kvlcc2.updated.MARIN_FREE_KVLCC2_tc_35_m\",\n",
    "        \"kvlcc2.updated.MARIN_FREE_KVLCC2_tc_-35_m\",\n",
    "        \"kvlcc2.updated.MARIN_FREE_KVLCC2_zz_10_m\",\n",
    "        \"kvlcc2.updated.MARIN_FREE_KVLCC2_zz_-10_m\",\n",
    "        \"kvlcc2.updated.MARIN_FREE_KVLCC2_zz_20_m\",\n",
    "        \"kvlcc2.updated.MARIN_FREE_KVLCC2_zz_-20_m\",\n",
    "        \n",
    "       ]\n",
    "\n",
    "data_testing = pd.DataFrame()\n",
    "for id in ids2: \n",
    "    df_test = catalog.load(f\"{id}.data_ek_smooth\")\n",
    "    df_test['id'] = id\n",
    "    data_testing = data_testing.append(df_test)\n",
    "    "
   ]
  },
  {
   "cell_type": "markdown",
   "id": "18049a69-9004-46e9-be34-73e4c260f0fc",
   "metadata": {},
   "source": [
    "A turning circle manoeuvre should again be predicted, but now for the KVLCC2 case based on a series of model tests carried out at HSVA for the SIMMAN2008 conference {cite:p}`stern_experience_2011`. The turning circle test contain much larger drift angles, rudder angle and yaw rates compared to the model tests used for training, so that\n",
    "the VMM:s prediction ability outside the traning data is tested.\n",
    "The propeller is part of the VMM for this test case, instead of only hull and rudders as in the wPCC test case so that the full ship can be simulated without any additional input.\n",
    "The model test data that is used for training is split into a training and validation dataset. The training\n",
    "dataset contains various zigzag tests to startboard and port. The validation dataset constists of a ZigZag35/5\n",
    "test, so that the validation set contains larger drift angles, rudder angles and yaw rates than the training set\n",
    "in a similiar way as for the real prediction case.\n",
    "The test set is taken from turning cirlce model tests caried out at MARIN for the SIMMAN2008 conference\n",
    "{cite:p}`stern_experience_2011`. The training and validation datasets as well as the test set are shown in the {numref}`fig_kvlcc2_traintest`.\n",
    "\n",
    "```{glue:figure} fig_kvlcc2_traintest\n",
    ":name: \"fig_kvlcc2_traintest\"\n",
    ":figwidth: 1000px\n",
    "KVLCC2 training, validation and testing datasets.\n",
    "```"
   ]
  },
  {
   "cell_type": "code",
   "execution_count": null,
   "id": "bbd7fa30-432f-4ac8-a401-ace6f3e5fb7c",
   "metadata": {
    "tags": [
     "remove-cell"
    ]
   },
   "outputs": [],
   "source": [
    "np.random.seed(1)\n",
    "fig,ax=plt.subplots()\n",
    "\n",
    "dataframes = {id:rotate(df_) for id, df_ in data_sub_train.groupby(by='id')}\n",
    "styles = {id:{'style':'b-','label':'_nolegend_'} for id, df_ in data_sub_train.groupby(by='id')}\n",
    "\n",
    "dataframes.update({id:rotate(df_) for id, df_ in data_validation.groupby(by='id')})\n",
    "styles.update({id:{'style':'k--','label':'_nolegend_'} for id, df_ in data_validation.groupby(by='id')})\n",
    "\n",
    "dataframes.update({id:rotate(df_) for id, df_ in data_testing.groupby(by='id') if 'tc' in id})\n",
    "styles.update({id:{'style':'r-.','label':'_nolegend_'} for id, df_ in data_testing.groupby(by='id')})\n",
    "\n",
    "track_plots(dataframes, lpp=ship_data['L'], beam=ship_data['B'],  styles=styles, N=2, ax=ax);\n",
    "\n",
    "ax.plot([],'b-',label='Training (HSVA)')\n",
    "ax.plot([],'g-',label='Validation (HSVA)')\n",
    "ax.plot([],'r-',label='Testing (MARIN)')\n",
    "\n",
    "\n",
    "ax.legend();\n",
    "glue('fig_kvlcc2_traintest',fig, display=False)"
   ]
  }
 ],
 "metadata": {
  "citation-manager": {
   "items": {}
  },
  "kernelspec": {
   "display_name": "wPCC_pipeline",
   "language": "python",
   "name": "python3"
  },
  "language_info": {
   "codemirror_mode": {
    "name": "ipython",
    "version": 3
   },
   "file_extension": ".py",
   "mimetype": "text/x-python",
   "name": "python",
   "nbconvert_exporter": "python",
   "pygments_lexer": "ipython3",
   "version": "3.7.9"
  }
 },
 "nbformat": 4,
 "nbformat_minor": 5
}
