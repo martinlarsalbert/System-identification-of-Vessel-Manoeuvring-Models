{
 "cells": [
  {
   "cell_type": "markdown",
   "id": "ecef5b6a-812e-4031-b8a2-473f41761c9b",
   "metadata": {
    "tags": []
   },
   "source": [
    "(case_studies)=\n",
    "# Case studies"
   ]
  },
  {
   "cell_type": "markdown",
   "id": "713e1543-14df-4d90-9570-8ed3ac213160",
   "metadata": {
    "tags": [
     "remove-cell"
    ]
   },
   "source": [
    "Description of the test cases\n",
    "* *Motivate why they were selected as the candidates*\n",
    "* *Where the data come from, measurement accuracy/uncertainty*\n",
    "* *Describe the differences between the test cases to show how generally applicable the methodology is*\n",
    "* *Success criteria: make a statement about which deviations or accuracy in the prediction are accepted as ''successful'' and why*\n"
   ]
  },
  {
   "cell_type": "markdown",
   "id": "8ef4bb64-4572-4427-b5f0-8094a0e9ae1c",
   "metadata": {},
   "source": [
    "The proposed PIT is studied for two test cases: wPCC (see [fig](wpcc_mdl)) and the well known KVLCC2 test case.\n",
    "\n",
    "The wPCC test case is a wind powered car carrier tested at SSPA. This twin screw ship with large rudders has good course stabilility and is expected to have almost linear and symmetric hydrodynamic manoeuvring forces. The test setup and measurement procedures at SSPA is also well known to the authors which all in all makes it ideal as a first test case of the PIT. \n",
    "\n",
    "```{image} figures/wpcc_mdl.png\n",
    ":alt: wpcc_mdl\n",
    ":class: bg-primary mb-1\n",
    ":width: 200px\n",
    ":align: center\n",
    "```\n",
    "\n",
    "KVLCC2 test case was selected as the second test case. It is a known test case and model test data from HSVA and MARIN was made available from SIMMAN2008 conference {cite:p}`stern_experience_2011`. This single screw ship is more course unstable than the wPCC test case and is therefore expected to have more nonlinear hydrodynamic manoeuvring forces which are also unsymetrical due to the single propeller. This makes it good as the seconds test case with PIT on a more nonlinear and unsymetrical model.\n",
    "\n",
    "The general aim with developing a VMM with PIT is to be able to make predictions for unseen data, outside the known data from model tests or full scale operation. The aim with both test cases is therefore to predict turning circle manouvres with VMM:s that are trained on model tests data where turning circle manoeuvres are excluded. The training data contains drift angles and yaw rates that are much smaller than what is encounterd during a turning circle manouvre.\n",
    "\n",
    "Main dimensions of the test cases can be seen in table [tab](Main_dimensions_of_test_case_ship_models)."
   ]
  },
  {
   "cell_type": "code",
   "execution_count": null,
   "id": "ff85e028-443e-4642-b362-8dad70d72fc8",
   "metadata": {
    "tags": [
     "remove-cell"
    ]
   },
   "outputs": [],
   "source": [
    "# %load imports.py\n",
    "%load_ext autoreload\n",
    "%autoreload 2\n",
    "%reload_kedro\n",
    "%config Completer.use_jedi = False  ## (To fix autocomplete)\n",
    "%matplotlib inline\n",
    "\n",
    "import pandas as pd\n",
    "pd.set_option('display.max_columns', 500)\n",
    "from src.models.vmm import ModelSimulator\n",
    "import matplotlib.pyplot as plt\n",
    "from src.visualization.plot import track_plots, plot, captive_plot\n",
    "import kedro\n",
    "import numpy as np\n",
    "import os.path\n",
    "import anyconfig\n",
    "\n",
    "import matplotlib\n",
    "plt.style.use('paper')\n",
    "\n",
    "from myst_nb import glue\n",
    "from src.symbols import *\n",
    "import src.symbols as symbols\n",
    "from src.system_equations import *\n",
    "\n",
    "from IPython.display import display, Math, Latex, Markdown\n",
    "from sympy.physics.vector.printing import vpprint, vlatex\n",
    "\n",
    "from src.parameters import df_parameters\n",
    "p = df_parameters[\"symbol\"]\n",
    "\n",
    "# Read configs:\n",
    "conf_path = os.path.join(\"../../conf/base/\")\n",
    "runs_globals_path = os.path.join(\n",
    "    conf_path,\n",
    "    \"runs_globals.yml\",\n",
    ")\n",
    "\n",
    "runs_globals = anyconfig.load(runs_globals_path)\n",
    "model_test_ids = runs_globals[\"model_test_ids\"]\n",
    "\n",
    "join_globals_path = os.path.join(\n",
    "    conf_path,\n",
    "    \"join_globals.yml\",\n",
    ")\n",
    "\n",
    "joins = runs_globals[\"joins\"]\n",
    "join_runs_dict = anyconfig.load(join_globals_path)\n",
    "\n",
    "globals_path = os.path.join(\n",
    "    conf_path,\n",
    "    \"globals.yml\",\n",
    ")\n",
    "global_variables = anyconfig.load(globals_path)\n",
    "\n",
    "\n",
    "\n",
    "vmms = global_variables[\"vmms\"]\n",
    "from src.visualization.plot import track_plots, track_plot, plot, plot_parameters\n",
    "from jb_helpers import df_to_myst, parameter_to_latex"
   ]
  },
  {
   "cell_type": "code",
   "execution_count": null,
   "id": "7b2ae155-8d00-4616-9c40-d6fff2a40c21",
   "metadata": {
    "tags": [
     "remove-cell"
    ]
   },
   "outputs": [],
   "source": [
    "model_test_ids.keys()"
   ]
  },
  {
   "cell_type": "code",
   "execution_count": null,
   "id": "19cdcb39-f023-4f0a-a9ab-ba504de1deea",
   "metadata": {
    "tags": [
     "remove-cell"
    ]
   },
   "outputs": [],
   "source": [
    "ships = ['wpcc','kvlcc2_hsva']\n",
    "\n",
    "ship_datas = {}\n",
    "initial_parameters = {}\n",
    "\n",
    "for ship in ships:\n",
    "       \n",
    "    ship_datas[ship] = catalog.load(f\"{ship}.ship_data\")\n",
    "    initial_parameters[ship] = catalog.load(f\"{ship}.initial_parameters\")\n",
    "    \n",
    "\n",
    "ship_datas = pd.DataFrame(ship_datas)\n",
    "ship_datas.dropna(how='any', inplace=True)\n",
    "\n",
    "initial_parameters = pd.DataFrame(initial_parameters)\n",
    "initial_parameters.drop(index='Xthrust', inplace=True)\n",
    "mask = (initial_parameters!=0).all(axis=1)\n",
    "initial_parameters = initial_parameters.loc[mask].copy()"
   ]
  },
  {
   "cell_type": "code",
   "execution_count": null,
   "id": "229a6fb0-2243-4ad0-a2cd-3c58728bf18b",
   "metadata": {
    "tags": [
     "remove-cell"
    ]
   },
   "outputs": [],
   "source": [
    "ship_data_table = ship_datas.copy()\n",
    "ship_data_table.rename(columns={'wpcc':'WPCC', 'kvlcc2_hsva': 'KVLCC2 (HSVA)'}, inplace=True)\n",
    "ship_data_table = ship_data_table.transpose()\n",
    "ship_data_table.drop(columns=['rho'], inplace=True)\n",
    "ship_data_table.rename(\n",
    "    columns={\n",
    "        'T':'T [m]',\n",
    "        'L':'L [m]',\n",
    "        'B':'B [m]',\n",
    "        'x_G': 'LCG [m]',\n",
    "        'm': 'm [kg]',\n",
    "        'I_z':'Izz [kg m2]',\n",
    "        'volume':'Disp [m3]',\n",
    "        'scale_factor':'scale factor',\n",
    "        'TWIN':'Np',\n",
    "    },\n",
    "    \n",
    "    inplace=True)\n",
    "\n",
    "ship_data_table['Np']+=1\n",
    "ship_data_table['Np']=ship_data_table['Np'].astype(int)\n",
    "\n",
    "ship_data_table = ship_data_table.round(decimals=2)\n",
    "#glue(\"ship_datas\", ship_data_table)\n",
    "\n",
    "print(df_to_myst(ship_data_table, title=\"Main dimensions of test case ship models\"))\n",
    "print('_____________')"
   ]
  },
  {
   "cell_type": "markdown",
   "id": "06ad028a-2522-4835-a601-cbbd13956a86",
   "metadata": {
    "tags": []
   },
   "source": [
    "```{list-table} This table title\n",
    ":header-rows: 1\n",
    ":name: This_table_title\n",
    "* -  \n",
    "  - T [m]\n",
    "  - L [m]\n",
    "  - CB\n",
    "  - B [m]\n",
    "  - LCG [m]\n",
    "  - m [kg]\n",
    "  - Izz [kg m2]\n",
    "  - Disp [m3]\n",
    "  - scale factor\n",
    "  - x_r\n",
    "  - Np\n",
    "  - x_p\n",
    "  - D\n",
    "  - w_p0\n",
    "* - WPCC\n",
    "  - 0.21\n",
    "  - 5.01\n",
    "  - 0.45\n",
    "  - 0.95\n",
    "  - 0.0\n",
    "  - 441.03\n",
    "  - 693.12\n",
    "  - 0.44\n",
    "  - 41.2\n",
    "  - -2.42\n",
    "  - 2\n",
    "  - -2.42\n",
    "  - 0.12\n",
    "  - 0.15\n",
    "* - KVLCC2 (HSVA)\n",
    "  - 0.46\n",
    "  - 7.0\n",
    "  - 0.81\n",
    "  - 1.27\n",
    "  - 0.24\n",
    "  - 3272.0\n",
    "  - 9908.58\n",
    "  - 3.27\n",
    "  - 45.7\n",
    "  - -3.5\n",
    "  - 1\n",
    "  - -3.39\n",
    "  - 0.2\n",
    "  - 0.4\n",
    "\n",
    "```"
   ]
  },
  {
   "cell_type": "markdown",
   "id": "f2d31fa1-bc6d-42e8-a11b-54d4f46037b0",
   "metadata": {
    "tags": [
     "remove-cell"
    ]
   },
   "source": [
    "### Initial conditions and assumptions"
   ]
  },
  {
   "cell_type": "code",
   "execution_count": null,
   "id": "46b5c166-1935-4240-9595-a99263dc3ee4",
   "metadata": {
    "tags": [
     "remove-cell"
    ]
   },
   "outputs": [],
   "source": [
    "s = \"\"\n",
    "mask = df_parameters['brix'].notnull()\n",
    "df_brix = df_parameters.loc[mask].copy()\n",
    "df_brix.sort_index(inplace=True)\n",
    "for index, row in df_brix.iterrows():\n",
    "    \n",
    "    eq = sp.Eq(row['symbol'],row['brix'])\n",
    "    name = f\"eq_{index}\"\n",
    "    glue(name,eq)\n",
    "    \n",
    "    s+=f\"\"\"\n",
    "```{{glue:math}} {name}\n",
    ":label: \"{name}\"\n",
    "```\n",
    "    \"\"\"\n",
    "print(s)   "
   ]
  },
  {
   "cell_type": "markdown",
   "id": "f6409204-2f91-4797-9c9a-0b79e1e657c8",
   "metadata": {},
   "source": [
    "The PIT requires an initial guessed linear model. Hydrodynamic derivatives for these inital models for the two test cases are shown in table [tab](intial_guess). These are calculated with semi empirical formulas ([eq](eq_Nr)- [eq](eq_Yvdot)) taken from {cite:p}`brix_manoeuvring_1993`. "
   ]
  },
  {
   "cell_type": "markdown",
   "id": "71792fd4-eb70-47f1-8a91-741c7fae568f",
   "metadata": {},
   "source": [
    "\n",
    "```{glue:math} eq_Nr\n",
    ":label: \"eq_Nr\"\n",
    "```\n",
    "    \n",
    "```{glue:math} eq_Nrdot\n",
    ":label: \"eq_Nrdot\"\n",
    "```\n",
    "    \n",
    "```{glue:math} eq_Nv\n",
    ":label: \"eq_Nv\"\n",
    "```\n",
    "    \n",
    "```{glue:math} eq_Nvdot\n",
    ":label: \"eq_Nvdot\"\n",
    "```\n",
    "    \n",
    "```{glue:math} eq_Xudot\n",
    ":label: \"eq_Xudot\"\n",
    "```\n",
    "    \n",
    "```{glue:math} eq_Yr\n",
    ":label: \"eq_Yr\"\n",
    "```\n",
    "    \n",
    "```{glue:math} eq_Yrdot\n",
    ":label: \"eq_Yrdot\"\n",
    "```\n",
    "    \n",
    "```{glue:math} eq_Yv\n",
    ":label: \"eq_Yv\"\n",
    "```\n",
    "    \n",
    "```{glue:math} eq_Yvdot\n",
    ":label: \"eq_Yvdot\"\n",
    "```\n",
    "    \n"
   ]
  },
  {
   "cell_type": "code",
   "execution_count": null,
   "id": "4bbf5303-8108-4764-8238-9a2b07dbbf1b",
   "metadata": {
    "tags": [
     "remove-cell"
    ]
   },
   "outputs": [],
   "source": [
    "initial_parameter_table = initial_parameters.rename(columns={'wpcc':'WPCC', 'kvlcc2_hsva': 'KVLCC2 (HSVA)'})\n",
    "initial_parameter_table = initial_parameter_table.transpose()\n",
    "initial_parameter_table.columns = [parameter_to_latex(x) for x in initial_parameter_table.columns]\n",
    "\n",
    "#glue(\"initial_parameters\", 1000*initial_parameter_table)\n",
    "\n",
    "print(df_to_myst((1000*initial_parameter_table).round(decimals=3), \n",
    "                 title=\"Initial guessed derivatives in linear models (times 1000)\", \n",
    "                 name=\"intial_guess\"))\n"
   ]
  },
  {
   "cell_type": "markdown",
   "id": "f169156b-f920-4bdf-9fcf-8f4f333767ae",
   "metadata": {},
   "source": [
    "```{list-table} Initial guessed derivatives in linear models (times 1000)\n",
    ":header-rows: 1\n",
    ":name: intial_guess\n",
    "* -  \n",
    "  - $ N_{\\delta} $\n",
    "  - $ N_{r} $\n",
    "  - $ N_{\\dot{r}} $\n",
    "  - $ N_{v} $\n",
    "  - $ N_{\\dot{v}} $\n",
    "  - $ X_{\\dot{u}} $\n",
    "  - $ Y_{\\delta} $\n",
    "  - $ Y_{r} $\n",
    "  - $ Y_{\\dot{r}} $\n",
    "  - $ Y_{v} $\n",
    "  - $ Y_{\\dot{v}} $\n",
    "* - WPCC\n",
    "  - -1.5\n",
    "  - -1.719\n",
    "  - -0.299\n",
    "  - -3.184\n",
    "  - -0.128\n",
    "  - 0.179\n",
    "  - 3.0\n",
    "  - 2.402\n",
    "  - -0.303\n",
    "  - -9.713\n",
    "  - -6.109\n",
    "* - KVLCC2 (HSVA)\n",
    "  - -1.5\n",
    "  - -3.415\n",
    "  - -0.822\n",
    "  - -8.707\n",
    "  - -1.166\n",
    "  - 1.05\n",
    "  - 3.0\n",
    "  - 4.305\n",
    "  - -1.271\n",
    "  - -25.266\n",
    "  - -15.846\n",
    "\n",
    "```"
   ]
  },
  {
   "cell_type": "markdown",
   "id": "ea97daea-ca74-43ca-8a47-490218d7a1fb",
   "metadata": {
    "jp-MarkdownHeadingCollapsed": true,
    "tags": []
   },
   "source": [
    "Hydrodynamic deriviatives in the Abkowitz model are identified with linear regression on forces and moments from the model tests inverse dynamics. A comparison between the inverse dynamic forces and prediction with the regressed model is shown for one of the KVLCC2 model tests in [fig](force_prediction).\n",
    "\n",
    "```{glue:figure} force_prediction\n",
    ":name: \"force_prediction\"\n",
    "\n",
    "Forces and moment from model test inverse dynamics and prediction with the regressed model.\n",
    "```\n"
   ]
  },
  {
   "cell_type": "markdown",
   "id": "9fd3f7d1-bf3e-412e-96b0-6337d4cb3991",
   "metadata": {
    "tags": [
     "remove-cell"
    ]
   },
   "source": [
    "### Motion regression"
   ]
  },
  {
   "cell_type": "code",
   "execution_count": null,
   "id": "25293810-6205-4772-a469-74c3c36b5c35",
   "metadata": {
    "tags": [
     "remove-cell"
    ]
   },
   "outputs": [],
   "source": [
    "from wPCC_pipeline.pipelines.motion_regression.nodes import predict_force\n",
    "\n",
    "vmm_name = 'vmm_abkowitz'\n",
    "id = 'HSVA_CPMC_KVLCC2_Z_20_10_S'\n",
    "ship = 'kvlcc2_hsva'\n",
    "\n",
    "data_ek_smooth = catalog.load(f\"{ship}.initial.{id}.data_ek_smooth\")\n",
    "added_masses = catalog.load(f\"{ship}.added_masses\")\n",
    "ship_parameters = catalog.load(f\"{ship}.ship_data\")\n",
    "vmm = catalog.load(vmm_name)\n",
    "regression = catalog.load(f\"{ship}.initial.{vmm_name}.joined.regression\")\n",
    "df_force = predict_force(data=data_ek_smooth, added_masses=added_masses, ship_parameters=ship_parameters, vmm=vmm) "
   ]
  },
  {
   "cell_type": "markdown",
   "id": "15755dac-3980-4108-b4b9-c9d9d6a72a44",
   "metadata": {
    "tags": [
     "remove-cell"
    ]
   },
   "source": [
    "* *If needed: detailed description of each test case and ship model*"
   ]
  },
  {
   "cell_type": "code",
   "execution_count": null,
   "id": "010d110d-2215-4e49-84e8-e1357505cd5d",
   "metadata": {},
   "outputs": [],
   "source": []
  }
 ],
 "metadata": {
  "citation-manager": {
   "items": {}
  },
  "kernelspec": {
   "display_name": "wPCC_pipeline",
   "language": "python",
   "name": "python3"
  },
  "language_info": {
   "codemirror_mode": {
    "name": "ipython",
    "version": 3
   },
   "file_extension": ".py",
   "mimetype": "text/x-python",
   "name": "python",
   "nbconvert_exporter": "python",
   "pygments_lexer": "ipython3",
   "version": "3.7.9"
  }
 },
 "nbformat": 4,
 "nbformat_minor": 5
}
