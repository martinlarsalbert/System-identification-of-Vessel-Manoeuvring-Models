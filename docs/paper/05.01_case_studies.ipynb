{
 "cells": [
  {
   "cell_type": "markdown",
   "id": "ecef5b6a-812e-4031-b8a2-473f41761c9b",
   "metadata": {
    "tags": []
   },
   "source": [
    "(case_studies)=\n",
    "# Case studies"
   ]
  },
  {
   "cell_type": "markdown",
   "id": "713e1543-14df-4d90-9570-8ed3ac213160",
   "metadata": {
    "tags": [
     "remove-cell"
    ]
   },
   "source": [
    "Description of the test cases\n",
    "* *Motivate why they were selected as the candidates*\n",
    "* *Where the data come from, measurement accuracy/uncertainty*\n",
    "* *Describe the differences between the test cases to show how generally applicable the methodology is*\n",
    "* *Success criteria: make a statement about which deviations or accuracy in the prediction are accepted as ''successful'' and why*\n"
   ]
  },
  {
   "cell_type": "code",
   "execution_count": null,
   "id": "ff85e028-443e-4642-b362-8dad70d72fc8",
   "metadata": {
    "tags": [
     "remove-cell"
    ]
   },
   "outputs": [],
   "source": [
    "# %load imports.py\n",
    "%load_ext autoreload\n",
    "%autoreload 2\n",
    "%reload_kedro\n",
    "%config Completer.use_jedi = False  ## (To fix autocomplete)\n",
    "%matplotlib inline\n",
    "\n",
    "import pandas as pd\n",
    "pd.set_option('display.max_columns', 500)\n",
    "from src.models.vmm import ModelSimulator\n",
    "import matplotlib.pyplot as plt\n",
    "from src.visualization.plot import track_plots, plot, captive_plot\n",
    "import kedro\n",
    "import numpy as np\n",
    "import os.path\n",
    "import anyconfig\n",
    "\n",
    "import matplotlib\n",
    "plt.style.use('paper')\n",
    "\n",
    "from myst_nb import glue\n",
    "from src.symbols import *\n",
    "import src.symbols as symbols\n",
    "from src.system_equations import *\n",
    "\n",
    "from IPython.display import display, Math, Latex, Markdown\n",
    "from sympy.physics.vector.printing import vpprint, vlatex\n",
    "\n",
    "from src.parameters import df_parameters\n",
    "p = df_parameters[\"symbol\"]\n",
    "\n",
    "# Read configs:\n",
    "conf_path = os.path.join(\"../../conf/base/\")\n",
    "runs_globals_path = os.path.join(\n",
    "    conf_path,\n",
    "    \"runs_globals.yml\",\n",
    ")\n",
    "\n",
    "runs_globals = anyconfig.load(runs_globals_path)\n",
    "model_test_ids = runs_globals[\"model_test_ids\"]\n",
    "\n",
    "join_globals_path = os.path.join(\n",
    "    conf_path,\n",
    "    \"join_globals.yml\",\n",
    ")\n",
    "\n",
    "joins = runs_globals[\"joins\"]\n",
    "join_runs_dict = anyconfig.load(join_globals_path)\n",
    "\n",
    "globals_path = os.path.join(\n",
    "    conf_path,\n",
    "    \"globals.yml\",\n",
    ")\n",
    "global_variables = anyconfig.load(globals_path)\n",
    "\n",
    "\n",
    "\n",
    "vmms = global_variables[\"vmms\"]\n",
    "from src.visualization.plot import track_plots, track_plot, plot, plot_parameters"
   ]
  },
  {
   "cell_type": "code",
   "execution_count": null,
   "id": "7b2ae155-8d00-4616-9c40-d6fff2a40c21",
   "metadata": {
    "tags": [
     "remove-cell"
    ]
   },
   "outputs": [],
   "source": [
    "model_test_ids.keys()"
   ]
  },
  {
   "cell_type": "code",
   "execution_count": null,
   "id": "19cdcb39-f023-4f0a-a9ab-ba504de1deea",
   "metadata": {
    "tags": [
     "remove-cell"
    ]
   },
   "outputs": [],
   "source": [
    "ships = ['wpcc','LNG','kvlcc2_hsva']\n",
    "\n",
    "ship_datas = {}\n",
    "initial_parameters = {}\n",
    "\n",
    "for ship in ships:\n",
    "       \n",
    "    ship_datas[ship] = catalog.load(f\"{ship}.ship_data\")\n",
    "    initial_parameters[ship] = catalog.load(f\"{ship}.initial_parameters\")\n",
    "    \n",
    "\n",
    "ship_datas = pd.DataFrame(ship_datas)\n",
    "ship_datas.dropna(how='any', inplace=True)\n",
    "\n",
    "initial_parameters = pd.DataFrame(initial_parameters)\n",
    "initial_parameters.drop(index='Xthrust', inplace=True)\n",
    "mask = (initial_parameters!=0).all(axis=1)\n",
    "initial_parameters = initial_parameters.loc[mask].copy()"
   ]
  },
  {
   "cell_type": "code",
   "execution_count": null,
   "id": "229a6fb0-2243-4ad0-a2cd-3c58728bf18b",
   "metadata": {
    "tags": [
     "remove-cell"
    ]
   },
   "outputs": [],
   "source": [
    "ship_data_table = ship_datas.copy()\n",
    "ship_data_table.rename(columns={'wpcc':'WPCC', 'kvlcc2_hsva': 'KVLCC2 (HSVA)'}, inplace=True)\n",
    "ship_data_table = ship_data_table.transpose()\n",
    "ship_data_table.drop(columns=['rho'], inplace=True)\n",
    "ship_data_table.rename(\n",
    "    columns={\n",
    "        'T':'T [m]',\n",
    "        'L':'L [m]',\n",
    "        'B':'B [m]',\n",
    "        'x_G': 'LCG [m]',\n",
    "        'm': 'm [kg]',\n",
    "        'I_z':'Izz [kg m2]',\n",
    "        'volume':'Disp [m3]',\n",
    "        'scale_factor':'scale factor',\n",
    "        'TWIN':'Np',\n",
    "    },\n",
    "    \n",
    "    inplace=True)\n",
    "\n",
    "ship_data_table['Np']+=1\n",
    "ship_data_table['Np']=ship_data_table['Np'].astype(int)\n",
    "\n",
    "ship_data_table = ship_data_table.round(decimals=2)\n",
    "glue(\"ship_datas\", ship_data_table)"
   ]
  },
  {
   "cell_type": "markdown",
   "id": "f2d31fa1-bc6d-42e8-a11b-54d4f46037b0",
   "metadata": {
    "tags": [
     "remove-cell"
    ]
   },
   "source": [
    "### Initial conditions and assumptions"
   ]
  },
  {
   "cell_type": "code",
   "execution_count": null,
   "id": "4bbf5303-8108-4764-8238-9a2b07dbbf1b",
   "metadata": {
    "tags": [
     "remove-cell"
    ]
   },
   "outputs": [],
   "source": [
    "initial_parameter_table = initial_parameters.rename(columns={'wpcc':'WPCC', 'kvlcc2_hsva': 'KVLCC2 (HSVA)'})\n",
    "initial_parameter_table = initial_parameter_table.transpose()\n",
    "initial_parameter_table = initial_parameter_table.round(decimals=6)\n",
    "\n",
    "glue(\"initial_parameters\", 1000*initial_parameter_table)"
   ]
  },
  {
   "cell_type": "code",
   "execution_count": null,
   "id": "79c9ea65-59a1-4451-abe5-9a602223c442",
   "metadata": {
    "tags": [
     "remove-cell"
    ]
   },
   "outputs": [],
   "source": [
    "df_brix = pd.merge(left=initial_parameters, right=df_parameters, how='left', left_index=True, right_index=True)\n",
    "df_brix.dropna(subset=['brix'], inplace=True)\n",
    "brix = \"brix_manoeuvring_1993\"\n",
    "df_brix['ref'] = brix"
   ]
  },
  {
   "cell_type": "code",
   "execution_count": null,
   "id": "06df6dbe-f146-42d6-8814-0e32cc87e514",
   "metadata": {
    "tags": [
     "remove-cell"
    ]
   },
   "outputs": [],
   "source": [
    "s_table = \"\"\"\n",
    "| Parameter                            |       Equation                    | Reference |\n",
    "|:------------------------------------:|:---------------------------------:|:---------------------------------:|\n",
    "\"\"\"\n",
    "for name, parameter in df_brix.iterrows():\n",
    "    \n",
    "    glue(name, parameter['brix'])\n",
    "    s_table+= f\"| ${parameter['symbol']}$                            |       {{glue:}}`{name}`                     | {{cite:p}}`{parameter['ref']}` |\\n\"\n",
    "    \n",
    "print(s_table)"
   ]
  },
  {
   "cell_type": "markdown",
   "id": "65aae68d-1a66-47a4-8bc6-02862ca94128",
   "metadata": {
    "tags": []
   },
   "source": [
    "Parameters in Abkowitz VMM:s are identified with the developed PIT for three test cases: WPCC, LNG and KVLCC2. Model test data from SSPA Maritime Dynamics Laboratory is used for WPCC, and LNG. Data from the SIMMAN2008 conference {cite:p}`stern_experience_2011` tested at HSVA is used for the KVLCC2. Main dimensions for the ship models used in these tests are summarized in [table](ship_datas).\n",
    "\n",
    "```{glue:figure} ship_datas\n",
    ":name: \"ship_datas\"\n",
    "\n",
    "Ship data in model scale for WPCC, LNG tanker and KVLCC2.\n",
    "```"
   ]
  },
  {
   "cell_type": "markdown",
   "id": "f9a662d7-a31a-41f8-b933-4b86f89a91f5",
   "metadata": {
    "tags": [
     "remove-cell"
    ]
   },
   "source": [
    "### Initial guessed parameters"
   ]
  },
  {
   "cell_type": "markdown",
   "id": "521e587e-1ec2-49a9-9da9-dddbb4befdc0",
   "metadata": {
    "tags": []
   },
   "source": [
    "Following the PIT algorithm ([fig](overview)) first step is to make an initial guess for a linear VMM to be used in the the first EKF iteration.\n",
    "The following semi-empirical formulas are used as initial guesses for hydrodynamic derivatives. \n",
    "\n",
    "| Parameter                            |       Equation                    | Reference |\n",
    "|:------------------------------------:|:---------------------------------:|:---------------------------------:|\n",
    "| $N_{r}$                            |       {glue:}`Nr`                     | {cite:p}`brix_manoeuvring_1993` |\n",
    "| $N_{\\dot{r}}$                            |       {glue:}`Nrdot`                     | {cite:p}`brix_manoeuvring_1993` |\n",
    "| $N_{v}$                            |       {glue:}`Nv`                     | {cite:p}`brix_manoeuvring_1993` |\n",
    "| $N_{\\dot{v}}$                            |       {glue:}`Nvdot`                     | {cite:p}`brix_manoeuvring_1993` |\n",
    "| $X_{\\dot{u}}$                            |       {glue:}`Xudot`                     | {cite:p}`brix_manoeuvring_1993` |\n",
    "| $Y_{r}$                            |       {glue:}`Yr`                     | {cite:p}`brix_manoeuvring_1993` |\n",
    "| $Y_{\\dot{r}}$                            |       {glue:}`Yrdot`                     | {cite:p}`brix_manoeuvring_1993` |\n",
    "| $Y_{v}$                            |       {glue:}`Yv`                     | {cite:p}`brix_manoeuvring_1993` |\n",
    "| $Y_{\\dot{v}}$                            |       {glue:}`Yvdot`                     | {cite:p}`brix_manoeuvring_1993` |\n",
    "\n",
    "Calculated values for the three test cases can be seen in [fig](initial_parameters)\n",
    "\n",
    "```{glue:figure} initial_parameters\n",
    ":name: \"initial_parameters\"\n",
    "\n",
    "Initial guess for linear hydrodynamic derivatives for WPCC, LNG tanker and KVLCC2. (Values have been multiplied by 1000)\n",
    "```"
   ]
  },
  {
   "cell_type": "markdown",
   "id": "ea97daea-ca74-43ca-8a47-490218d7a1fb",
   "metadata": {
    "jp-MarkdownHeadingCollapsed": true,
    "tags": []
   },
   "source": [
    "Hydrodynamic deriviatives in the Abkowitz model are identified with linear regression on forces and moments from the model tests inverse dynamics. A comparison between the inverse dynamic forces and prediction with the regressed model is shown for one of the KVLCC2 model tests in [fig](force_prediction).\n",
    "\n",
    "```{glue:figure} force_prediction\n",
    ":name: \"force_prediction\"\n",
    "\n",
    "Forces and moment from model test inverse dynamics and prediction with the regressed model.\n",
    "```\n"
   ]
  },
  {
   "cell_type": "markdown",
   "id": "9fd3f7d1-bf3e-412e-96b0-6337d4cb3991",
   "metadata": {
    "tags": [
     "remove-cell"
    ]
   },
   "source": [
    "### Motion regression"
   ]
  },
  {
   "cell_type": "code",
   "execution_count": null,
   "id": "25293810-6205-4772-a469-74c3c36b5c35",
   "metadata": {
    "tags": [
     "remove-cell"
    ]
   },
   "outputs": [],
   "source": [
    "from wPCC_pipeline.pipelines.motion_regression.nodes import predict_force\n",
    "\n",
    "vmm_name = 'vmm_abkowitz'\n",
    "id = 'HSVA_CPMC_KVLCC2_Z_20_10_S'\n",
    "ship = 'kvlcc2_hsva'\n",
    "\n",
    "data_ek_smooth = catalog.load(f\"{ship}.initial.{id}.data_ek_smooth\")\n",
    "added_masses = catalog.load(f\"{ship}.added_masses\")\n",
    "ship_parameters = catalog.load(f\"{ship}.ship_data\")\n",
    "vmm = catalog.load(vmm_name)\n",
    "regression = catalog.load(f\"{ship}.initial.{vmm_name}.joined.regression\")\n",
    "df_force = predict_force(data=data_ek_smooth, added_masses=added_masses, ship_parameters=ship_parameters, vmm=vmm) "
   ]
  },
  {
   "cell_type": "code",
   "execution_count": null,
   "id": "d5e5ffff-bda4-4974-ac06-ee8632d6e13e",
   "metadata": {
    "tags": [
     "remove-cell"
    ]
   },
   "outputs": [],
   "source": [
    "data_prime = regression.ps.prime(df_force, U = df_force['U'])\n",
    "\n",
    "X, _ = regression.diff_eq_X.calculate_features_and_label(\n",
    "            data=data_prime, y=data_prime['u']\n",
    "        )\n",
    "\n",
    "X = X[regression.X_X.columns].copy()\n",
    "\n",
    "data_prime['fx'] = regression.model_X.predict(X) + data_prime['thrust']*regression.exclude_parameters['Xthrust']\n",
    "\n",
    "X = regression.diff_eq_Y.calculate_features(data_prime)\n",
    "data_prime['fy'] = regression.model_Y.predict(X)\n",
    "\n",
    "X = regression.diff_eq_N.calculate_features(data_prime)\n",
    "data_prime['mz'] = regression.model_N.predict(X)\n",
    "\n",
    "\n",
    "data_prediction = regression.ps.unprime(data_prime, U=df_force['U'])\n",
    "\n",
    "fig,axes=plt.subplots(nrows=3)\n",
    "\n",
    "units = {'fx':'N',\n",
    "         'fy':'N',\n",
    "         'mz':'Nm'}\n",
    "for ax,dof in zip(axes,['fx','fy','mz']):\n",
    "\n",
    "    df_force.plot(y=dof, label='inverse dynamics', ax=ax)\n",
    "    data_prediction.plot(y=dof, label='prediction', ax=ax)\n",
    "    \n",
    "    label=f\"${dof[0]}_{dof[1]}$ $[{units[dof]}]$\"\n",
    "    \n",
    "    ax.set_ylabel(label)\n",
    "    ax.get_legend().set_visible(False)\n",
    "    \n",
    "axes[0].legend(loc='lower right')\n",
    "axes[-1].set_xlabel('time [s]')\n",
    "\n",
    "axes[0].get_xaxis().set_visible(False)\n",
    "axes[1].get_xaxis().set_visible(False)\n",
    "plt.tight_layout()\n",
    "\n",
    "glue(\"force_prediction\",fig, display=False)"
   ]
  },
  {
   "cell_type": "markdown",
   "id": "15755dac-3980-4108-b4b9-c9d9d6a72a44",
   "metadata": {
    "tags": [
     "remove-cell"
    ]
   },
   "source": [
    "* *If needed: detailed description of each test case and ship model*"
   ]
  },
  {
   "cell_type": "markdown",
   "id": "bc8fada9-4bb0-4444-a9f0-aac49a34148b",
   "metadata": {
    "tags": [
     "remove-cell"
    ]
   },
   "source": [
    "### Recursive Extended Kalman Filter"
   ]
  },
  {
   "cell_type": "markdown",
   "id": "565c8ec4-4989-4f9a-85f0-135c6163f469",
   "metadata": {},
   "source": [
    "Simulation results with the initial guessed model and two iterrations of the PIT algorithm is shown in [fig](iterations). \n",
    "It can be seen that the first iteration of the PIT algorithm is much closer to the model test data compared to the initial guessed linear VMM model and the second iteration is even closer. The motion regression in the PIT algorithm has been run on all of the KVLCC2 model tests. \n",
    "\n",
    "```{glue:figure} iterations\n",
    ":figwidth: 1000px\n",
    ":name: \"iterations\"\n",
    "\n",
    "Model test data for one of the KVLCC2 tests compared to simulations with initial model, PIT first iteration model and PIT second iteration model. \n",
    "\n",
    "```"
   ]
  },
  {
   "cell_type": "code",
   "execution_count": null,
   "id": "51d0cb50-1c8e-41e6-9a2f-9d7710af1594",
   "metadata": {
    "tags": [
     "remove-cell"
    ]
   },
   "outputs": [],
   "source": [
    "#id = '22773'\n",
    "#ship = 'wpcc'\n",
    "id = 'HSVA_CPMC_KVLCC2_Z_20_10_S'\n",
    "ship = 'kvlcc2_hsva'\n",
    "\n",
    "data_raw = catalog.load(f\"{ship}.{id}.data\")\n",
    "data_lowpass = catalog.load(f\"{ship}.{id}.data_lowpass\")\n",
    "\n",
    "data = catalog.load(f\"{ship}.initial.{id}.data_ek_smooth\")\n",
    "ek = catalog.load(f\"{ship}.vmm_linear.ek\")\n",
    "model = catalog.load(f\"{ship}.initial.vmm_linear.joined.model\")\n"
   ]
  },
  {
   "cell_type": "code",
   "execution_count": null,
   "id": "3705b5d3-f4e2-46e7-8ee9-ddaeff0dfec6",
   "metadata": {
    "tags": [
     "remove-cell"
    ]
   },
   "outputs": [],
   "source": [
    "data['U'] = np.sqrt(data['u']**2 + data['v']**2)\n",
    "df_sim = ek.simulate(data=data, input_columns=['delta','U'], solver='Radau')\n",
    "\n",
    "dataframes = {\n",
    "    'initial guessed model': df_sim,\n",
    "    'PIT iteration 1': catalog.load(f\"{ship}.initial.{vmm_name}.joined.{id}.data_resimulate\"),\n",
    "    'PIT iteration 2': catalog.load(f\"{ship}.updated.{vmm_name}.joined.{id}.data_resimulate\"),\n",
    "    'model test' : data,\n",
    "}\n",
    "\n",
    "keys = ['u','v','r']\n",
    "error_keys = [f'$\\\\epsilon({key})$' for key in keys]  \n",
    "for key, df_ in dataframes.items():\n",
    "    df_[error_keys]=df_[keys] - data[keys]\n",
    "\n",
    "fig,ax=plt.subplots()\n",
    "track_plots(dataframes, lpp=ship_datas[ship]['L'], beam=ship_datas[ship]['B'], time_window=[0,70], N=2, ax=ax);\n",
    "glue(\"iterations\",fig, display=False)\n",
    "\n",
    "fig = plot(dataframes, keys=error_keys, ncols=1);\n",
    "plt.tight_layout()\n",
    "glue(\"iteration_errors\",fig, display=False)\n",
    "\n",
    "rmse = {}\n",
    "rmse_keys = [f'$RMSe({key})$' for key in keys] \n",
    "for key, df_ in dataframes.items():\n",
    "    rmse[key] = np.sqrt((df_[error_keys]**2).mean())\n",
    "    \n",
    "\n",
    "rmse = pd.DataFrame(rmse)\n",
    "\n",
    "r = rmse.loc['$\\\\epsilon(r)$']\n",
    "u = rmse.loc['$\\\\epsilon(u)$']\n",
    "v = rmse.loc['$\\\\epsilon(v)$']\n",
    "rmse.loc['total'] = u+v+r*ship_datas[ship]['L']/2"
   ]
  }
 ],
 "metadata": {
  "citation-manager": {
   "items": {}
  },
  "kernelspec": {
   "display_name": "wPCC_pipeline",
   "language": "python",
   "name": "python3"
  },
  "language_info": {
   "codemirror_mode": {
    "name": "ipython",
    "version": 3
   },
   "file_extension": ".py",
   "mimetype": "text/x-python",
   "name": "python",
   "nbconvert_exporter": "python",
   "pygments_lexer": "ipython3",
   "version": "3.7.9"
  }
 },
 "nbformat": 4,
 "nbformat_minor": 5
}
