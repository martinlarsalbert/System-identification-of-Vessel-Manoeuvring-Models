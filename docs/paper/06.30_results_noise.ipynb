{
 "cells": [
  {
   "cell_type": "markdown",
   "id": "d1d38b4c-4f2c-4956-aa46-fef1cc12925e",
   "metadata": {},
   "source": [
    "### Noise"
   ]
  },
  {
   "cell_type": "code",
   "execution_count": null,
   "id": "5b3b0d31-017c-46f0-a809-1e695b895fbf",
   "metadata": {
    "tags": [
     "remove-cell"
    ]
   },
   "outputs": [],
   "source": [
    "# %load imports.py\n",
    "%load_ext autoreload\n",
    "%autoreload 2\n",
    "%reload_kedro\n",
    "%config Completer.use_jedi = False  ## (To fix autocomplete)\n",
    "%matplotlib inline\n",
    "\n",
    "import pandas as pd\n",
    "import matplotlib.pyplot as plt\n",
    "from vessel_manoeuvring_models.visualization.plot import track_plots, plot, captive_plot\n",
    "import kedro\n",
    "import numpy as np\n",
    "import os.path\n",
    "import anyconfig\n",
    "\n",
    "import matplotlib.pyplot as plt\n",
    "import matplotlib\n",
    "plt.style.use('paper')\n",
    "from IPython.display import set_matplotlib_formats\n",
    "set_matplotlib_formats('pdf')\n",
    "\n",
    "plt.rcParams.update({\n",
    "    \"font.family\": \"serif\",\n",
    "    \"font.serif\": [\"Times\"]})\n",
    "\n",
    "from myst_nb import glue\n",
    "from vessel_manoeuvring_models.symbols import *\n",
    "import vessel_manoeuvring_models.symbols as symbols\n",
    "from vessel_manoeuvring_models.system_equations import *\n",
    "\n",
    "from IPython.display import display, Math, Latex, Markdown\n",
    "from sympy.physics.vector.printing import vpprint, vlatex\n",
    "\n",
    "from vessel_manoeuvring_models.parameters import df_parameters\n",
    "p = df_parameters[\"symbol\"]\n",
    "\n",
    "# Read configs:\n",
    "conf_path = os.path.join(\"../../conf/base/\")\n",
    "runs_globals_path = os.path.join(\n",
    "    conf_path,\n",
    "    \"runs_globals.yml\",\n",
    ")\n",
    "\n",
    "runs_globals = anyconfig.load(runs_globals_path)\n",
    "model_test_ids = runs_globals[\"model_test_ids\"]\n",
    "\n",
    "join_globals_path = os.path.join(\n",
    "    conf_path,\n",
    "    \"join_globals.yml\",\n",
    ")\n",
    "\n",
    "joins = runs_globals[\"joins\"]\n",
    "join_runs_dict = anyconfig.load(join_globals_path)\n",
    "\n",
    "globals_path = os.path.join(\n",
    "    conf_path,\n",
    "    \"globals.yml\",\n",
    ")\n",
    "global_variables = anyconfig.load(globals_path)\n",
    "\n",
    "\n",
    "\n",
    "vmms = global_variables[\"vmms\"]\n",
    "from sklearn.metrics import r2_score"
   ]
  },
  {
   "cell_type": "code",
   "execution_count": null,
   "id": "4e35d61c-e2cc-42de-96eb-b21935dc74a6",
   "metadata": {
    "tags": [
     "remove-cell"
    ]
   },
   "outputs": [],
   "source": [
    "from wPCC_pipeline.pipelines.preprocess.nodes import filter, assemble_data, add_thrust\n",
    "from wPCC_pipeline.pipelines.extended_kalman.nodes import create_extended_kalman\n",
    "from wPCC_pipeline.pipelines.brix.nodes import initial_parameters\n",
    "from wPCC_pipeline.pipelines.filter_data_extended_kalman.nodes import extended_kalman_filter,extended_kalman_smoother\n",
    "from wPCC_pipeline.pipelines.filter_data_extended_kalman.nodes import guess_covariance_matrixes, extended_kalman_filter, initial_state, extended_kalman_smoother\n",
    "from wPCC_pipeline.pipelines.preprocess.nodes import load, filter\n",
    "from wPCC_pipeline.pipelines.motion_regression.nodes import predict_force, fit_motions, create_model_from_motion_regression\n",
    "from wPCC_pipeline.pipelines.motion_regression.nodes import fit_motions, create_model_from_motion_regression\n",
    "from wPCC_pipeline.pipelines.prediction.nodes import simulate_euler"
   ]
  },
  {
   "cell_type": "code",
   "execution_count": null,
   "id": "83e1fa50-a87a-44d2-8c61-d64fccea80d8",
   "metadata": {
    "tags": [
     "remove-cell"
    ]
   },
   "outputs": [],
   "source": [
    "#ship = \"kvlcc2_hsva\"\n",
    "ship = \"wpcc\"\n",
    "#id = model_test_ids[ship][0]\n",
    "#id = \"22774\"\n",
    "id = \"22771\"\n",
    "raw_data = catalog.load(f\"{ship}.{ id }.data\")\n",
    "ship_data = catalog.load(f\"{ship}.ship_data\")\n",
    "vmm_name = \"vmm_martins_simple\"\n",
    "vmm = catalog.load(vmm_name)\n",
    "ek = catalog.load(f\"{ ship }.{ vmm_name }.ek\")\n",
    "model = catalog.load(f\"{ ship }.{ vmm_name }.ek\")\n",
    "\n",
    "data = load(raw_data, replace_velocities=True)\n",
    "\n",
    "cuttoffs = np.linspace(1.0,10.0, 10)\n",
    "datas_lowpass = {}\n",
    "for cuttoff in cuttoffs:\n",
    "    datas_lowpass[cuttoff] = filter(raw_data, cutoff=cuttoff, order=1)\n",
    "\n",
    "data_ek_smooth = catalog.load(f\"{ ship }.updated.{ id }.data_ek_smooth\")"
   ]
  },
  {
   "cell_type": "code",
   "execution_count": null,
   "id": "acdfacbf-cfda-4127-8f74-98de25c17372",
   "metadata": {},
   "outputs": [],
   "source": [
    "data_ek_smooth['U'] = data_ek_smooth['V'] = np.sqrt(data_ek_smooth['u']**2 + data_ek_smooth['v']**2)"
   ]
  },
  {
   "cell_type": "code",
   "execution_count": null,
   "id": "94085698-7c55-4059-a75e-64a770ae125c",
   "metadata": {},
   "outputs": [],
   "source": [
    "added_masses = catalog.load(f\"{ship}.added_masses\")\n",
    "exclude_parameters = catalog.load(f\"params:{ship}.motion_regression.exclude_parameters\")"
   ]
  },
  {
   "cell_type": "code",
   "execution_count": null,
   "id": "b0ada43c-bc69-4514-8f12-2dfd56b54f9c",
   "metadata": {
    "tags": []
   },
   "outputs": [],
   "source": [
    "columns = ['u','v','r','u1d','v1d','r1d','delta','thrust','x0','y0','psi']\n",
    "data_with_force_smooth = predict_force(data=data_ek_smooth[columns], \n",
    "                                added_masses=added_masses, \n",
    "                                ship_parameters=ship_data, \n",
    "                                vmm=vmm)\n",
    "\n",
    "#data_with_force_smooth.plot(y='fy')\n"
   ]
  },
  {
   "cell_type": "code",
   "execution_count": null,
   "id": "4d2963b3-a480-4fac-bf7e-c8fedbc8144b",
   "metadata": {},
   "outputs": [],
   "source": [
    "\n",
    "columns = ['u','v','r','u1d','v1d','r1d','delta','thrust','x0','y0','psi']\n",
    "data_with_force = predict_force(data=data[columns], \n",
    "                                added_masses=added_masses, \n",
    "                                ship_parameters=ship_data, \n",
    "                                vmm=vmm)\n",
    "\n",
    "data_with_force_smooth = predict_force(data=data_ek_smooth[columns], \n",
    "                                added_masses=added_masses, \n",
    "                                ship_parameters=ship_data, \n",
    "                                vmm=vmm)\n",
    "\n",
    "\n",
    "models_lowpass = {}\n",
    "datas_with_force_lowpass = {}\n",
    "regressions_lowpass = {}\n",
    "for cuttoff, data_lowpass in datas_lowpass.items():\n",
    "    \n",
    "    datas_with_force_lowpass[cuttoff] = predict_force(data=data_lowpass[columns], \n",
    "                                added_masses=added_masses, \n",
    "                                ship_parameters=ship_data, \n",
    "                                vmm=vmm)\n",
    "    \n",
    "    regressions_lowpass[cuttoff], parameters_lowpass = fit_motions(data=datas_with_force_lowpass[cuttoff], \n",
    "                                     added_masses=added_masses, \n",
    "                                     ship_data=ship_data, vmm=vmm, \n",
    "                                     exclude_parameters=exclude_parameters)\n",
    "\n",
    "    models_lowpass[cuttoff] = create_model_from_motion_regression(regression=regressions_lowpass[cuttoff])\n"
   ]
  },
  {
   "cell_type": "code",
   "execution_count": null,
   "id": "1ef9415e-2169-49ec-b0ba-978d4bb487c4",
   "metadata": {},
   "outputs": [],
   "source": [
    "regression, parameters = fit_motions(data=data_with_force, \n",
    "                                     added_masses=added_masses, \n",
    "                                     ship_data=ship_data, vmm=vmm, \n",
    "                                     exclude_parameters=exclude_parameters)\n",
    "\n",
    "regression_smooth, parameters_smooth = fit_motions(data=data_with_force_smooth, \n",
    "                                     added_masses=added_masses, \n",
    "                                     ship_data=ship_data, vmm=vmm, \n",
    "                                     exclude_parameters=exclude_parameters)\n"
   ]
  },
  {
   "cell_type": "code",
   "execution_count": null,
   "id": "8c2d3b30-2bb4-42b6-b122-b03be3435f74",
   "metadata": {},
   "outputs": [],
   "source": [
    "model = create_model_from_motion_regression(regression=regression)\n",
    "model_smooth = create_model_from_motion_regression(regression=regression_smooth)\n"
   ]
  },
  {
   "cell_type": "code",
   "execution_count": null,
   "id": "54d766e6-06d2-40e7-abb5-b17d7682b340",
   "metadata": {},
   "outputs": [],
   "source": [
    "i_max = 3000\n",
    "#results = model.simulate(data.iloc[0:i_max])\n",
    "#results_smooth = model_smooth.simulate(data.loc[0:i_max])\n",
    "\n",
    "results = simulate_euler(data_ek_smooth.iloc[0:i_max], model=model, ek=ek).dropna()\n",
    "results_smooth = simulate_euler(data_ek_smooth.iloc[0:i_max], model=model_smooth, ek=ek).dropna()\n",
    "\n",
    "dataframes_lowpass = {}\n",
    "for cuttoff, model_ in models_lowpass.items():\n",
    "    dataframes_lowpass[cuttoff] = simulate_euler(data_ek_smooth.iloc[0:i_max], model=model_, ek=ek).dropna()"
   ]
  },
  {
   "cell_type": "code",
   "execution_count": null,
   "id": "807832a0-1356-4bcd-83f1-9ae36cad4e2f",
   "metadata": {},
   "outputs": [],
   "source": [
    "dataframes = {\n",
    "    'raw' : data.iloc[0:i_max],\n",
    "    'simulation' : results,\n",
    "    'simulation smooth' : results_smooth,\n",
    "    \n",
    "}\n",
    "dataframes.update(dataframes_lowpass)\n",
    "styles = {\n",
    "    'raw' : {'style':'k-'},\n",
    "    'simulation' : {'style':'--'},\n",
    "    'simulation smooth' : {'style':'--'},\n",
    "    \n",
    "}\n",
    "\n",
    "for cuttoff in models_lowpass.keys():\n",
    "    styles[cuttoff] = {'style':'--'}\n",
    "    \n",
    "\n",
    "ax = track_plots(dataframes=dataframes, lpp=ship_data['L'], beam=ship_data['B'],N=5, styles=styles, flip=True);\n",
    "ax.set_ylim(-1,5)\n",
    "ax.set_xlim(-5,40)\n",
    "\n"
   ]
  },
  {
   "cell_type": "code",
   "execution_count": null,
   "id": "a569a941-da29-465e-bd94-c312c15b7152",
   "metadata": {},
   "outputs": [],
   "source": [
    "#dofs = ['u','v','r']\n",
    "dofs = ['x0','y0','psi']\n",
    "df_r2 = pd.DataFrame(columns=dofs, index=dataframes.keys())\n",
    "\n",
    "for dof in df_r2:\n",
    "    for key, prediction in dataframes.items():\n",
    "        try:\n",
    "            df_r2.loc[key,dof] = r2_score(y_true = data[dof].iloc[0:i_max], y_pred=prediction[dof])\n",
    "        except:\n",
    "            continue\n",
    "\n",
    "            \n",
    "df_r2['mean'] = df_r2.mean(axis=1)\n",
    "df_r2.sort_values(by=['mean'], inplace=True, ascending=False)\n",
    "#df_r2.index = df_r2.index.astype(str)\n"
   ]
  },
  {
   "cell_type": "code",
   "execution_count": null,
   "id": "4d97cbd4-ae26-49a2-815a-27e40e64f5fd",
   "metadata": {},
   "outputs": [],
   "source": [
    "index_lowpass = [i for i in df_r2.index if not isinstance(i,str)]\n",
    "\n",
    "fig,ax=plt.subplots()\n",
    "df_r2.loc[index_lowpass].sort_index().plot(y='mean', ax=ax, label='Lowpass')\n",
    "ax.plot([cuttoffs[0],cuttoffs[-1]], [df_r2.loc['simulation smooth','mean'],df_r2.loc['simulation smooth','mean']], label='EKF + smoother')\n",
    "ax.set_ylim(0.95,1)\n",
    "ax.set_ylabel('Simulation accuracy ($r^2$)')\n",
    "ax.set_xlabel('Low-pass cut off frequency [Hz]')\n",
    "ax.grid(True)\n",
    "ax.legend()\n"
   ]
  },
  {
   "cell_type": "code",
   "execution_count": null,
   "id": "5e3529a3-ff57-4bf0-8ea1-58f3042bcca8",
   "metadata": {},
   "outputs": [],
   "source": [
    "keys=['u']\n",
    "\n",
    "dataframes_ = {\n",
    "\n",
    "    'raw EK' : data_ek_smooth,\n",
    "    'raw lowpass' : datas_lowpass[df_r2.drop(index=['raw', 'simulation smooth']).index[0]],\n",
    "    'simulation smooth' : results_smooth,\n",
    "    \n",
    "}\n",
    "dataframes_.update(dataframes_lowpass)\n",
    "dataframes_.pop(1)\n",
    "styles = {\n",
    "    'raw lowpass' : {'style':'m-'},\n",
    "    'raw EK' : {'style':'k:'},\n",
    "    \n",
    "    'simulation' : {'style':'--'},\n",
    "    'simulation smooth' : {'style':'--'},\n",
    "    \n",
    "}\n",
    "\n",
    "fig = plot(dataframes=dataframes_, keys=keys, styles=styles,ncols=1, time_window=[0,30], zero_origo=False);\n",
    "\n",
    "#y_scale = 2.5\n",
    "#for key, ax in zip(keys,fig.axes):\n",
    "#    ax.set_ylim(y_scale*data_ek_smooth[key].min(), y_scale*data_ek_smooth[key].max())"
   ]
  },
  {
   "cell_type": "code",
   "execution_count": null,
   "id": "a30e0ebb-c5bd-4c79-8839-4978ca1e85ff",
   "metadata": {},
   "outputs": [],
   "source": [
    "columns = ['U','u','v','r','u1d','v1d','r1d','delta','thrust','x0','y0','psi']\n",
    "\n",
    "data_prediction = regression.predict(data=data_ek_smooth[columns])\n",
    "data_prediction_smooth = regression_smooth.predict(data=data_ek_smooth[columns])"
   ]
  },
  {
   "cell_type": "code",
   "execution_count": null,
   "id": "52368c14-0b4e-4ad0-94b9-fb647cc5ec79",
   "metadata": {},
   "outputs": [],
   "source": [
    "fig,ax=plt.subplots()\n",
    "data_with_force_smooth.plot(y='fy', ax=ax)\n",
    "data_prediction_smooth.plot(y='fy', ax=ax)\n",
    "\n",
    "regression_smooth.predict_parameter_contributions_Y().plot(ax=ax)\n",
    "regression_smooth.predict_parameter_contributions_Y().sum(axis=1).plot(ax=ax, label='sum', style='--')\n",
    "ax.legend()\n"
   ]
  },
  {
   "cell_type": "code",
   "execution_count": null,
   "id": "6d49ec91-6eb6-42b2-aa07-01e2854e681e",
   "metadata": {},
   "outputs": [],
   "source": []
  }
 ],
 "metadata": {
  "citation-manager": {
   "items": {}
  },
  "kernelspec": {
   "display_name": "wPCC_pipeline",
   "language": "python",
   "name": "python3"
  },
  "language_info": {
   "codemirror_mode": {
    "name": "ipython",
    "version": 3
   },
   "file_extension": ".py",
   "mimetype": "text/x-python",
   "name": "python",
   "nbconvert_exporter": "python",
   "pygments_lexer": "ipython3",
   "version": "3.7.9"
  }
 },
 "nbformat": 4,
 "nbformat_minor": 5
}
