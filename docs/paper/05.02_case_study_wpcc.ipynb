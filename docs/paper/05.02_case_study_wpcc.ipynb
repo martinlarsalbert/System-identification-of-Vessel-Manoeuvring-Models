{
 "cells": [
  {
   "cell_type": "markdown",
   "id": "51ee47bb-622d-4036-a6df-7ad3fa404233",
   "metadata": {},
   "source": [
    "(case_wpcc)=\n",
    "## wPCC test case"
   ]
  },
  {
   "cell_type": "code",
   "execution_count": null,
   "id": "229acafd-5f12-4f8c-be91-ac64440c547b",
   "metadata": {
    "tags": [
     "remove-cell"
    ]
   },
   "outputs": [],
   "source": [
    "# %load imports.py\n",
    "%load_ext autoreload\n",
    "%autoreload 2\n",
    "%reload_kedro\n",
    "%config Completer.use_jedi = False  ## (To fix autocomplete)\n",
    "%matplotlib inline\n",
    "\n",
    "import warnings\n",
    "warnings.filterwarnings('ignore')\n",
    "\n",
    "import pandas as pd\n",
    "pd.set_option('display.max_rows', 500)\n",
    "pd.set_option('display.max_columns', 500)\n",
    "from src.models.vmm import ModelSimulator\n",
    "import matplotlib.pyplot as plt\n",
    "from src.visualization.plot import track_plots, plot, captive_plot\n",
    "import kedro\n",
    "import numpy as np\n",
    "import os.path\n",
    "import anyconfig\n",
    "\n",
    "import matplotlib\n",
    "matplotlib.rcParams[\"figure.figsize\"] = (10,7)\n",
    "from src.symbols import *\n",
    "\n",
    "# Read configs:\n",
    "conf_path = os.path.join(\"../../conf/base/\")\n",
    "runs_globals_path = os.path.join(\n",
    "    conf_path,\n",
    "    \"runs_globals.yml\",\n",
    ")\n",
    "\n",
    "runs_globals = anyconfig.load(runs_globals_path)\n",
    "model_test_ids = runs_globals[\"model_test_ids\"]\n",
    "\n",
    "join_globals_path = os.path.join(\n",
    "    conf_path,\n",
    "    \"join_globals.yml\",\n",
    ")\n",
    "\n",
    "joins = runs_globals[\"joins\"]\n",
    "join_runs_dict = anyconfig.load(join_globals_path)\n",
    "\n",
    "globals_path = os.path.join(\n",
    "    conf_path,\n",
    "    \"globals.yml\",\n",
    ")\n",
    "global_variables = anyconfig.load(globals_path)\n",
    "\n",
    "\n",
    "\n",
    "vmm_names = global_variables[\"vmms\"]\n",
    "\n",
    "from wPCC_pipeline.pipelines.motion_regression.nodes import predict_force, fit_motions, create_model_from_motion_regression\n",
    "from wPCC_pipeline.pipelines.prediction.nodes import simulate_euler\n",
    "from src.prime_system import PrimeSystem\n",
    "\n",
    "from sklearn.linear_model import LinearRegression\n",
    "from sklearn.model_selection import cross_val_score\n",
    "from sklearn.model_selection import RepeatedKFold\n",
    "from sklearn.feature_selection import SelectKBest\n",
    "from sklearn.feature_selection import f_regression\n",
    "from sklearn.pipeline import Pipeline\n",
    "from src.parameters import df_parameters\n",
    "p = df_parameters['symbol']\n",
    "from src.feature_selection import drop_multicollinearity\n",
    "from src.bias_variance_tradeoff import train_test_split_run\n",
    "from sklearn.metrics import r2_score\n",
    "from wPCC_pipeline.pipelines.motion_regression.nodes import fit_motions, create_model_from_motion_regression\n",
    "from src.models.regression import Regression\n",
    "from myst_nb import glue\n",
    "import src.symbols as s\n",
    "from IPython.display import Latex\n",
    "from src.substitute_dynamic_symbols import run\n",
    "import seaborn as sns\n",
    "from src.feature_selection import feature_imporance, BestFeatures, DropCorrelation\n",
    "from wPCC_pipeline.turning_circle import TurningCircle"
   ]
  },
  {
   "cell_type": "code",
   "execution_count": null,
   "id": "6e56cee0-9eec-45f4-bda2-102ffd2bd98c",
   "metadata": {
    "tags": [
     "remove-cell"
    ]
   },
   "outputs": [],
   "source": [
    "ship=\"wpcc\"\n",
    "#vmm_name = \"vmm_martins_simple\"\n",
    "vmm_name = \"vmm_abkowitz\"\n",
    "vmm = catalog.load(vmm_name)\n",
    "\n",
    "ship_data = catalog.load(f\"{ship}.ship_data\")\n",
    "\n",
    "#regression = catalog.load(f\"{ship}.updated.{vmm_name}.joined.regression\")\n",
    "#regression.diff_eq_Y.exclude_parameters.pop('Ydelta')\n",
    "#regression.diff_eq_Y.exclude_parameters.pop('Ythrustdelta')\n",
    "\n",
    "\n",
    "data = catalog.load(f\"{ship}.updated.joined.data_ek_smooth\")\n",
    "\n",
    "added_masses = catalog.load(f\"{ship}.added_masses\")\n",
    "exclude_parameters = catalog.load(f\"params:{ship}.motion_regression.exclude_parameters\")\n",
    "columns = ['u','v','r','u1d','v1d','r1d','delta','thrust','id','x0','y0','psi']\n",
    "data_with_force = predict_force(data=data[columns], added_masses=added_masses, ship_parameters=ship_data, vmm=vmm)"
   ]
  },
  {
   "cell_type": "markdown",
   "id": "a9392a26-3a1b-499c-9317-b8c47e17ef45",
   "metadata": {},
   "source": [
    "A turning circle manoeuvre should be predicted for the wPCC test case based on a series of model tests including ZigZag10/10, 20/20 to port and startboard as well as self propulsion and yaw rate tests. The turning circle test contain much larger drift angles, rudder angle and yaw rates compared to the model tests used for training, so that the VMM:s prediction ability outside the traning data is tested.\n",
    "\n",
    "This test case focuses on the prediction of forces and moments from the ship hull and rudders. The propeller force is therefore not part of the prediction model and is instead taken from the model test measurements.\n",
    "\n",
    "The model test data that is used for training is split into a training and validation dataset. The training dataset contains self propulsion, yaw rate tests and zigzag10/10 tests to startboard and port. The validation dataset constists of three zigzag20/20 tests, so that the validation set contains larger drift angles, rudder angles and yaw rates than the training set in a similiar way as for the real prediction case.\n",
    "The training and validation datasets as well as the turning circle test case are shown in  the [fig](fig_traintest).\n",
    "\n",
    "```{glue:figure} fig_traintest\n",
    ":figwidth: 1000px\n",
    ":name: \"fig_traintest\"\n",
    "\n",
    "wPCC training, validation and testing datasets.\n",
    "```"
   ]
  },
  {
   "cell_type": "code",
   "execution_count": null,
   "id": "307f22ba-7153-4124-b083-ebd93cda1f77",
   "metadata": {
    "tags": [
     "remove-cell"
    ]
   },
   "outputs": [],
   "source": [
    "def break_plot(df, **kwargs):\n",
    "    \n",
    "    df_ = df.copy()\n",
    "    mask = np.concatenate([[False],np.diff(df_.index)>1])\n",
    "    df_.loc[mask] = np.NaN\n",
    "    df_.plot(**kwargs)\n"
   ]
  },
  {
   "cell_type": "code",
   "execution_count": null,
   "id": "97037e20-ebb6-43e5-8cbd-511d1b33d02c",
   "metadata": {
    "tags": [
     "remove-cell"
    ]
   },
   "outputs": [],
   "source": [
    "ids = list(data_with_force['id'].unique())\n",
    "ids_train = ids.copy()\n",
    "id_test = 22774\n",
    "ids_train.remove(id_test)\n",
    "mask = data_with_force['id'].isin(ids_train)\n",
    "data_train = data_with_force.loc[mask].copy()\n",
    "assert not id_test in data_train['id'].unique()\n",
    "\n",
    "ps = PrimeSystem(**ship_data)\n",
    "data_prime = ps.prime(data_train, U=data_with_force['U'])"
   ]
  },
  {
   "cell_type": "code",
   "execution_count": null,
   "id": "d2128ee9-afc0-4639-93a5-2021694e7037",
   "metadata": {
    "tags": [
     "remove-cell"
    ]
   },
   "outputs": [],
   "source": [
    "ids_test = [\n",
    "    22771,\n",
    "    22772,\n",
    "    22773,\n",
    "]\n",
    "\n",
    "mask = data_train['id'].isin(ids_test)\n",
    "data_validation = data_train.loc[mask].copy()\n",
    "data_sub_train = data_train.loc[~mask].copy()\n",
    "mask = data['id']==id_test\n",
    "data_testing = data_with_force.loc[mask]"
   ]
  },
  {
   "cell_type": "code",
   "execution_count": null,
   "id": "931ad344-392e-4f2f-990c-cbb0855daeee",
   "metadata": {
    "tags": [
     "remove-cell"
    ]
   },
   "outputs": [],
   "source": [
    "def rotate(df):\n",
    "    \n",
    "    dpsi = 2*np.pi*np.random.random()\n",
    "    \n",
    "    df['psi']+=dpsi\n",
    "    x0 = df['x0'].copy()\n",
    "    y0 = df['y0'].copy()\n",
    "    \n",
    "    df['x0'] = np.cos(dpsi)*x0 - np.sin(dpsi)*y0\n",
    "    df['y0'] = np.sin(dpsi)*x0 + np.cos(dpsi)*y0\n",
    "        \n",
    "    \n",
    "    return df\n",
    "    \n",
    "    "
   ]
  },
  {
   "cell_type": "code",
   "execution_count": null,
   "id": "b2659aa6-082b-41bb-b6f9-ba41f7a61842",
   "metadata": {
    "tags": [
     "remove-cell"
    ]
   },
   "outputs": [],
   "source": [
    "np.random.seed(3)\n",
    "fig,ax=plt.subplots()\n",
    "\n",
    "dataframes = {id:rotate(df_) for id, df_ in data_sub_train.groupby(by='id')}\n",
    "styles = {id:{'style':'b-','label':'_nolegend_'} for id, df_ in data_sub_train.groupby(by='id')}\n",
    "\n",
    "dataframes.update({id:rotate(df_) for id, df_ in data_validation.groupby(by='id')})\n",
    "styles.update({id:{'style':'g-','label':'_nolegend_'} for id, df_ in data_validation.groupby(by='id')})\n",
    "\n",
    "dataframes.update({id:rotate(df_) for id, df_ in data_testing.groupby(by='id')})\n",
    "styles.update({id:{'style':'r-','label':'_nolegend_'} for id, df_ in data_testing.groupby(by='id')})\n",
    "\n",
    "track_plots(dataframes, lpp=ship_data['L'], beam=ship_data['B'],  styles=styles, N=2, ax=ax);\n",
    "\n",
    "ax.plot([],'b-',label='Training')\n",
    "ax.plot([],'g-',label='Validation')\n",
    "ax.plot([],'r-',label='Testing')\n",
    "\n",
    "\n",
    "ax.legend();\n",
    "glue('fig_traintest',fig, display=False)"
   ]
  },
  {
   "cell_type": "markdown",
   "id": "b02e3ce5-50f0-4a42-8dbd-04469cccb74d",
   "metadata": {},
   "source": [
    "The regression to identify a model for the wPCC test case is conducted on forces from the inverse dynamics calculated on states predicted with the recursive EKF."
   ]
  },
  {
   "cell_type": "code",
   "execution_count": null,
   "id": "fc747938-d988-4b28-9bbe-0c55be2c1212",
   "metadata": {
    "tags": [
     "remove-cell"
    ]
   },
   "outputs": [],
   "source": [
    "t_df = sp.symbols('t_df')\n",
    "eq_Xthrust = sp.Eq(p.Xthrust, thrust*(1-t_df))\n",
    "glue(\"eqXthrust\", eq_Xthrust)"
   ]
  },
  {
   "cell_type": "code",
   "execution_count": null,
   "id": "e9093562-1648-46e1-87ad-c201f7af981a",
   "metadata": {
    "tags": [
     "remove-cell"
    ]
   },
   "outputs": [],
   "source": [
    "eq_exclude = Latex(r\"$y-X_T \\cdot T = X \\beta + \\epsilon$\")\n",
    "glue(\"eqexclude\", eq_exclude)"
   ]
  },
  {
   "cell_type": "code",
   "execution_count": null,
   "id": "a729d8f6-d755-4b20-b083-d807f0a2277c",
   "metadata": {
    "tags": [
     "remove-cell"
    ]
   },
   "outputs": [],
   "source": [
    "eq_Y_R = sp.Eq(Y_R, N_R/x_r)\n",
    "glue(\"eqyr\", eq_Y_R)"
   ]
  },
  {
   "cell_type": "markdown",
   "id": "00fdd652-a043-4dfa-957b-bc707db496ea",
   "metadata": {},
   "source": [
    "Strong multicollinearity is a known problem for the the VMM:s {cite:p}`luo_parameter_2016`, {cite:p}`wang_quantifying_2018`.\n",
    "The thrust coefficient $X_T$ in the hydrodynamic function $X_D$ in [eq](eqXabkowitz) introduces multicollinearity to the regression. This coefficient is therefore instead calculated from the thrust deduction factor $t_{df}$:\n",
    "\n",
    "```{glue:math} eqXthrust\n",
    ":label: eqXthrust\n",
    "```\n",
    "\n",
    "The $X_T$ coefficient is excluded from the regression by moving it to the left hand side of the regression equation [eq](eqregression):\n",
    "\n",
    "```{glue:math} eqexclude\n",
    ":label: eqexclude\n",
    "```\n",
    "\n",
    "Rudder coefficients ($Y_R$) from $Y_D$ equation ([eq](eqYabkowitz)) such as $Y_{\\delta}$, $Y_{\\delta T}$ etc. have been exluded in the same way by assuming a connection with their $N_D$ equation counter part through the rudder lever arm $x_r$:\n",
    "\n",
    "```{glue:math} eqyr\n",
    ":label: eqyr\n",
    "```\n",
    "\n"
   ]
  },
  {
   "cell_type": "code",
   "execution_count": null,
   "id": "ff13c9aa-ac95-4585-917e-bc3efd137865",
   "metadata": {
    "tags": [
     "remove-cell"
    ]
   },
   "outputs": [],
   "source": [
    "ps = PrimeSystem(**ship_data)\n",
    "regression = Regression(\n",
    "        vmm=vmm,\n",
    "        data=data_train,\n",
    "        added_masses=added_masses,\n",
    "        ship_parameters=ship_data,\n",
    "        prime_system=ps,\n",
    "        exclude_parameters=exclude_parameters, \n",
    "        connect_equations_Y_N_rudder=True\n",
    "    )"
   ]
  },
  {
   "cell_type": "code",
   "execution_count": null,
   "id": "cb5f1f13-d868-45a0-a89b-75a96da97117",
   "metadata": {
    "tags": [
     "remove-cell"
    ]
   },
   "outputs": [],
   "source": [
    "Xs = {}\n",
    "ys = {}\n",
    "\n",
    "\n",
    "Xs['X'], ys['X'] = regression.diff_eq_X.calculate_features_and_label(data=data_prime, y=data_prime['fx'])\n",
    "Xs['Y'], ys['Y'] = regression.diff_eq_Y.calculate_features_and_label(data=data_prime, y=data_prime['fy'])\n",
    "Xs['N'], ys['N'] = regression.diff_eq_N.calculate_features_and_label(data=data_prime, y=data_prime['mz'])\n",
    "\n",
    "dofs = list(Xs.keys())"
   ]
  },
  {
   "cell_type": "code",
   "execution_count": null,
   "id": "e968f7da-28d9-455f-ab8c-af6ad24bb68e",
   "metadata": {
    "tags": [
     "remove-cell"
    ]
   },
   "outputs": [],
   "source": [
    "df_parameters = pd.DataFrame()\n",
    "df_parameters['mean'] = regression.model_N.params\n",
    "df_parameters['std'] = regression.model_N.bse\n",
    "df_parameters.sort_values(by='std', ascending=False, inplace=True)"
   ]
  },
  {
   "cell_type": "code",
   "execution_count": null,
   "id": "1e87ea17-e073-4ed4-8956-d78da6b1c5ad",
   "metadata": {
    "tags": [
     "remove-cell"
    ]
   },
   "outputs": [],
   "source": [
    "df_table = df_parameters.iloc[0:5]\n",
    "glue('Ndelta',int(df_parameters.loc['Ndelta','mean'].round(0)))\n",
    "glue('eNdelta',int(df_parameters.loc['Ndelta','std'].round(0)))\n",
    "\n",
    "glue('Nvvdelta',int(df_parameters.loc['Nvvdelta','mean'].round(0)))\n",
    "glue('eNvvdelta',int(df_parameters.loc['Nvvdelta','std'].round(0)))\n",
    "\n",
    "df_table"
   ]
  },
  {
   "cell_type": "markdown",
   "id": "46dd086f-ab83-4231-9517-14cb520ddbda",
   "metadata": {},
   "source": [
    "The regression of $N_D$ gives huge values for some of the coefficients, for instance $N_{\\delta}$: {glue}`Ndelta` which also has a huge uncertainty expressed as standard deviation: {glue}`eNdelta`. The regressed coefficients are however mathematically correct, where the regressed polynomials fit the training data well. But the predicted polynomial is the sum of very large counter acting coefficients. There are other coefficients such as  $N_{vv \\delta}$: {glue}`Nvvdelta` to balance the $N_{\\delta}$.\n",
    "The model works, as long as the states are similar to the training data. But when extrapolating, it is easy to imagine that the balance between these huge coefficients is disturbed, giving large extrapolation errors very quickly. This is an example that coefficients which are found in the regression do not have to be physically correct, but mathematically correct {cite:p}`ittc_maneuvering_2008`. "
   ]
  },
  {
   "cell_type": "code",
   "execution_count": null,
   "id": "cc62257c-06e5-4b2a-9faa-310ddef8b4f0",
   "metadata": {
    "tags": [
     "remove-cell"
    ]
   },
   "outputs": [],
   "source": [
    "X = Xs['N']\n",
    "corr = X.corr().abs()\n",
    "corr_ = np.tril(corr, k=-1)\n",
    "corr_ = pd.DataFrame(corr_, index=X.columns, columns=X.columns)\n",
    "\n",
    "fig,ax=plt.subplots()\n",
    "grid = sns.heatmap(corr_, cmap='gray_r')\n",
    "glue('fig_Ncorr',fig, display=False)"
   ]
  },
  {
   "cell_type": "markdown",
   "id": "b27f9e34-69f8-4f6c-a3a9-f9f331079030",
   "metadata": {},
   "source": [
    "The absolute correlation coefficient between the features in the wPCC yaw moment regression of the Abkowitz model are shown in [fig](fig_Ncorr). It can be seen that most of the coefficients have very high absolute correlation, indicated in black. \n",
    "\n",
    "```{glue:figure} fig_Ncorr\n",
    ":figwidth: 1000px\n",
    ":name: \"fig_Ncorr\"\n",
    "\n",
    "Absolute correlation between the features in the WPCC yaw moment regression of Abkowitz model\n",
    "```\n",
    "The number of parameters in the Abkowitz model needs to be reduced for the wPCC test case to lower the multicollinearity and increase the robustness of the model, so that it can make predictions outside the known data. The authors have proposed a simplified Abkowitz model for this purpose ([eq](eqXmartins_simple),[eq](eqYmartins_simple),[eq](eqNmartins_simple)) where only the most essential parameters are kept. "
   ]
  },
  {
   "cell_type": "code",
   "execution_count": null,
   "id": "df807501-64ff-4c0e-bac5-bc29f94b1b5c",
   "metadata": {
    "tags": [
     "remove-cell"
    ]
   },
   "outputs": [],
   "source": [
    "ship_model = catalog.load(f\"{ship}.updated.{vmm_name}.joined.model\")"
   ]
  },
  {
   "cell_type": "markdown",
   "id": "a45e5ebb-595e-457f-b443-829a452bd544",
   "metadata": {
    "tags": [
     "remove-cell"
    ]
   },
   "source": [
    "## VMM Martin"
   ]
  },
  {
   "cell_type": "code",
   "execution_count": null,
   "id": "44f7603a-4290-4d44-b8ee-296c9c4e49ed",
   "metadata": {
    "tags": [
     "remove-cell"
    ]
   },
   "outputs": [],
   "source": [
    "vmm_martin = catalog.load(\"vmm_martins_simple\")\n",
    "ek_martin = catalog.load(f\"{ship}.vmm_martins_simple.ek\")"
   ]
  },
  {
   "cell_type": "code",
   "execution_count": null,
   "id": "dab59306-aed9-489a-9e3d-3d7e89dbcbc3",
   "metadata": {
    "tags": [
     "remove-cell"
    ]
   },
   "outputs": [],
   "source": [
    "regression_martin, _ = fit_motions(data=data_sub_train, \n",
    "                                   added_masses=added_masses, \n",
    "                                   ship_data=ship_data, \n",
    "                                   vmm=vmm_martin, \n",
    "                                   exclude_parameters=exclude_parameters)\n",
    "\n",
    "ship_model_martin = create_model_from_motion_regression(regression=regression_martin)\n",
    "#result_martin = ship_model_martin.simulate(data_validation)\n",
    "#df_predict_martin = result_martin.result.copy()"
   ]
  },
  {
   "cell_type": "code",
   "execution_count": null,
   "id": "71266681-d4a9-4612-90cf-a637a6c7a96d",
   "metadata": {
    "tags": [
     "remove-cell"
    ]
   },
   "outputs": [],
   "source": [
    "regression_abkowitz, _ = fit_motions(data=data_sub_train, \n",
    "                                   added_masses=added_masses, \n",
    "                                   ship_data=ship_data, \n",
    "                                   vmm=vmm, \n",
    "                                   exclude_parameters=exclude_parameters)\n",
    "\n",
    "ship_model_abkowitz = create_model_from_motion_regression(regression=regression_abkowitz)"
   ]
  },
  {
   "cell_type": "markdown",
   "id": "a988913e-c012-48ff-a044-9637419d02e2",
   "metadata": {},
   "source": [
    "Forces and moment predicted with the VMM:s fitted on the training set are show in [fig](fig_validation_forces). It can be seen that the full Abkowitz model overpredicts the forces by far due to the anticipated extrapolation error. Simulations of the validation cases where therfore only possible with the simplified Abkowitz model as shown for one of the ZigZag20/20 validation cases in [fig](fig_validation_sim).\n",
    "\n",
    "```{glue:figure} fig_validation_forces\n",
    ":figwidth: 1000px\n",
    ":name: \"fig_validation_forces\"\n",
    "\n",
    "Validation of force models for wPCC.\n",
    "```\n",
    "\n",
    "```{glue:figure} fig_validation_sim\n",
    ":figwidth: 1000px\n",
    ":name: \"fig_validation_sim\"\n",
    "\n",
    "Validation with simulations for wPCC.\n",
    "```"
   ]
  },
  {
   "cell_type": "code",
   "execution_count": null,
   "id": "30e87808-58cd-4cbe-906c-388979850c37",
   "metadata": {
    "tags": [
     "remove-cell"
    ]
   },
   "outputs": [],
   "source": [
    "validation_martin = regression_martin.predict(data_validation)\n",
    "validation_abkowitz = regression_abkowitz.predict(data_validation)\n",
    "\n",
    "fig,axes=plt.subplots(nrows=3)\n",
    "\n",
    "for ax,dof in zip(axes,['fx','fy','mz']):\n",
    "    \n",
    "    validation_abkowitz.plot(y=dof,ax=ax, label='Validation Abkowitz')\n",
    "    validation_martin.plot(y=dof,ax=ax, label='Validation Simplified Abkowitz')\n",
    "    data_validation.plot(y=dof,ax=ax, label='True')\n",
    "    \n",
    "    ax.set_ylabel(dof)\n",
    "    ax.set_xlabel('sample')\n",
    "    ax.get_legend().set_visible(False)\n",
    "    \n",
    "axes[0].legend();\n",
    "glue(\"fig_validation_forces\",fig, display=False)"
   ]
  },
  {
   "cell_type": "code",
   "execution_count": null,
   "id": "ee322735-d40b-4fca-909e-b59baa1afa2e",
   "metadata": {
    "tags": [
     "remove-cell"
    ]
   },
   "outputs": [],
   "source": [
    "for id_validation in ids_test[0:1]:\n",
    "    \n",
    "    df_test = catalog.load(f'{ship}.updated.{id_validation}.data_ek_smooth')\n",
    "    result_martin = ship_model_martin.simulate(df_test)   \n",
    "    \n",
    "    dataframes = {'True':df_test,\n",
    "                 'Validation Simplified Abkowitz':result_martin.result,\n",
    "                 }\n",
    "    \n",
    "    try:\n",
    "        result_abkowitz = ship_model_abkowitz.simulate(df_test)\n",
    "    except:\n",
    "        pass\n",
    "    else:\n",
    "        dataframes['Abkowitz']=result_abkowitz.result\n",
    "    \n",
    "    track_plots(dataframes, lpp=ship_data['L'], beam=ship_data['B'],  N=2);\n",
    "    fig = plot(dataframes=dataframes, keys=['u','v','r'], ncols=1, zero_origo=True);\n",
    "\n",
    "glue(\"fig_validation_sim\",fig, display=False)"
   ]
  },
  {
   "cell_type": "code",
   "execution_count": null,
   "id": "d03a6684-2f43-4663-8b15-e683a5e841be",
   "metadata": {
    "tags": [
     "remove-cell"
    ]
   },
   "outputs": [],
   "source": [
    "df_test = catalog.load(f'{ship}.updated.{id_test}.data_ek_smooth')\n",
    "ek = catalog.load(f\"{ship}.{vmm_name}.ek\")"
   ]
  },
  {
   "cell_type": "code",
   "execution_count": null,
   "id": "7f8c3f8d-8d03-4563-b2ca-f5cd1431a183",
   "metadata": {
    "tags": [
     "remove-cell"
    ]
   },
   "outputs": [],
   "source": [
    "regression_martin, _ = fit_motions(data=data_train, \n",
    "                                   added_masses=added_masses, \n",
    "                                   ship_data=ship_data, \n",
    "                                   vmm=vmm_martin, \n",
    "                                   exclude_parameters=exclude_parameters)\n",
    "\n",
    "ship_model_martin = create_model_from_motion_regression(regression=regression_martin)\n",
    "result_martin = ship_model_martin.simulate(df_test) "
   ]
  },
  {
   "cell_type": "code",
   "execution_count": null,
   "id": "6fac62d5-8672-4535-877b-eae89ecb0330",
   "metadata": {
    "tags": [
     "remove-cell"
    ]
   },
   "outputs": [],
   "source": [
    "dataframes = {\n",
    "    'True' : df_test,\n",
    "    'Test Simplified Abkowitz' : result_martin.result,\n",
    "        \n",
    "}\n",
    "\n",
    "styles = {\n",
    "    'Experiment' : {'style':'r--'},\n",
    "    'Prediction' : {'style':'g-'},\n",
    "    'Prediction2' : {'style':'b-'},\n",
    "    'Prediction Martin' : {'style':'m-'},\n",
    "    'Prediction Abkowitz' : {'style':'y-'},\n",
    "    \n",
    "}"
   ]
  },
  {
   "cell_type": "code",
   "execution_count": null,
   "id": "20b139f1-ead1-497c-bc32-c555f9c468f5",
   "metadata": {
    "tags": [
     "remove-cell"
    ]
   },
   "outputs": [],
   "source": [
    "fig = track_plots(dataframes, lpp=ship_data['L'], beam=ship_data['B'],  styles=styles, N=2);\n",
    "glue(\"fig_track_plot_testing_sim\", fig, display=False)"
   ]
  },
  {
   "cell_type": "code",
   "execution_count": null,
   "id": "e5caae1c-0c58-47ec-9798-b1489ff4a137",
   "metadata": {
    "tags": [
     "remove-cell"
    ]
   },
   "outputs": [],
   "source": [
    "fig = plot(dataframes=dataframes, keys=['u','v','r'], ncols=1, styles=styles, zero_origo=False);\n",
    "\n",
    "glue(\"fig_testing_sim\", fig, display=False)\n"
   ]
  },
  {
   "cell_type": "code",
   "execution_count": null,
   "id": "59f159a3-31a8-41e6-8bfc-f4fe35acd29d",
   "metadata": {
    "tags": [
     "remove-cell"
    ]
   },
   "outputs": [],
   "source": [
    "result_turning_circle = pd.DataFrame()\n",
    "turning_circle = TurningCircle(angle=35, nominal_speed=df_test['U'].iloc[0], lpp=ship_data['L'], df=df_test)\n",
    "result_turning_circle['True'] = pd.Series(turning_circle.evaluate(), name='True')\n",
    "df_result = result_martin.result.copy()\n",
    "df_result['V'] = np.sqrt(df_result['u']**2 + df_result['v']**2)\n",
    "turning_circle = TurningCircle(angle=35, nominal_speed=df_test['U'].iloc[0], lpp=ship_data['L'], df=df_result)\n",
    "result_turning_circle['Test Simplified Abkowitz'] = pd.Series(turning_circle.evaluate(), name='Test Simplified Abkowitz')"
   ]
  },
  {
   "cell_type": "code",
   "execution_count": null,
   "id": "05858530-8652-48b0-a101-dbe2bd18e9f7",
   "metadata": {
    "tags": [
     "remove-cell"
    ]
   },
   "outputs": [],
   "source": [
    "result_turning_circle.drop(index='units',inplace=True)"
   ]
  },
  {
   "cell_type": "code",
   "execution_count": null,
   "id": "e5838754-7cae-423b-956f-78d404e28ec3",
   "metadata": {
    "tags": [
     "remove-cell"
    ]
   },
   "outputs": [],
   "source": [
    "result_turning_circle.pct_change(axis=1)"
   ]
  },
  {
   "cell_type": "markdown",
   "id": "0eb0feb5-fc5b-4368-9e44-81719a9724b7",
   "metadata": {},
   "source": [
    "Result from the final prediction of the turning cirlce test is seen in [fig](fig_track_plot_testing_sim) and [fig](fig_testing_sim).\n",
    "\n",
    "```{glue:figure} fig_track_plot_testing_sim\n",
    ":figwidth: 1000px\n",
    ":name: \"fig_track_plot_testing_sim\"\n",
    "\n",
    "Turning circle test case for wPCC, track plots from model test and simulation.\n",
    "```\n",
    "\n",
    "```{glue:figure} fig_testing_sim\n",
    ":figwidth: 1000px\n",
    ":name: \"fig_testing_sim\"\n",
    "\n",
    "Turning circle test case for wPCC, time series from model test and simulation.\n",
    "```\n"
   ]
  },
  {
   "cell_type": "code",
   "execution_count": null,
   "id": "75d56f95-49fe-4a2e-b3a7-fad36ddd6d45",
   "metadata": {},
   "outputs": [],
   "source": []
  },
  {
   "cell_type": "code",
   "execution_count": null,
   "id": "30f17efd-c7f5-41ac-b0ae-fc7db508cd54",
   "metadata": {},
   "outputs": [],
   "source": []
  }
 ],
 "metadata": {
  "citation-manager": {
   "items": {}
  },
  "kernelspec": {
   "display_name": "wPCC_pipeline",
   "language": "python",
   "name": "python3"
  },
  "language_info": {
   "codemirror_mode": {
    "name": "ipython",
    "version": 3
   },
   "file_extension": ".py",
   "mimetype": "text/x-python",
   "name": "python",
   "nbconvert_exporter": "python",
   "pygments_lexer": "ipython3",
   "version": "3.7.9"
  }
 },
 "nbformat": 4,
 "nbformat_minor": 5
}
