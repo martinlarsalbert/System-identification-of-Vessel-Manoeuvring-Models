{
 "cells": [
  {
   "cell_type": "markdown",
   "id": "fe79187c-b29e-4d28-8f26-6a882616c144",
   "metadata": {},
   "source": [
    "(propeller)=\n",
    "## Propeller model"
   ]
  },
  {
   "cell_type": "code",
   "execution_count": null,
   "id": "016e1503-025d-4117-805d-6eeee56adf66",
   "metadata": {
    "tags": [
     "remove-cell"
    ]
   },
   "outputs": [],
   "source": [
    "# %load imports.py\n",
    "%load_ext autoreload\n",
    "%autoreload 2\n",
    "%reload_kedro\n",
    "%config Completer.use_jedi = False  ## (To fix autocomplete)\n",
    "%matplotlib inline\n",
    "\n",
    "import warnings\n",
    "warnings.filterwarnings('ignore')\n",
    "\n",
    "import pandas as pd\n",
    "pd.set_option('display.max_rows', 500)\n",
    "pd.set_option('display.max_columns', 500)\n",
    "from src.models.vmm import ModelSimulator\n",
    "import matplotlib.pyplot as plt\n",
    "from src.visualization.plot import track_plots, plot, captive_plot\n",
    "import kedro\n",
    "import numpy as np\n",
    "import os.path\n",
    "import anyconfig\n",
    "\n",
    "import matplotlib\n",
    "plt.style.use('paper')\n",
    "from IPython.display import set_matplotlib_formats\n",
    "set_matplotlib_formats('pdf')\n",
    "\n",
    "from src.symbols import *\n",
    "\n",
    "# Read configs:\n",
    "conf_path = os.path.join(\"../../conf/base/\")\n",
    "runs_globals_path = os.path.join(\n",
    "    conf_path,\n",
    "    \"runs_globals.yml\",\n",
    ")\n",
    "\n",
    "runs_globals = anyconfig.load(runs_globals_path)\n",
    "model_test_ids = runs_globals[\"model_test_ids\"]\n",
    "\n",
    "join_globals_path = os.path.join(\n",
    "    conf_path,\n",
    "    \"join_globals.yml\",\n",
    ")\n",
    "\n",
    "joins = runs_globals[\"joins\"]\n",
    "join_runs_dict = anyconfig.load(join_globals_path)\n",
    "\n",
    "globals_path = os.path.join(\n",
    "    conf_path,\n",
    "    \"globals.yml\",\n",
    ")\n",
    "global_variables = anyconfig.load(globals_path)\n",
    "\n",
    "\n",
    "\n",
    "vmm_names = global_variables[\"vmms\"]\n",
    "\n",
    "from wPCC_pipeline.pipelines.motion_regression.nodes import predict_force, fit_motions, create_model_from_motion_regression, create_full_model_from_motion_regression\n",
    "from wPCC_pipeline.pipelines.prediction.nodes import simulate_euler\n",
    "from src.models.vmm import VMM\n",
    "from src.parameters import df_parameters\n",
    "from src.models.propeller import fit, predict, predictor\n",
    "from wPCC_pipeline.pipelines.kvlcc2.nodes import fit_propeller_characteristics\n",
    "import src.models.MMG_propeller as MMG_propeller\n",
    "from src.substitute_dynamic_symbols import run\n",
    "from src.models.propeller import preprocess\n",
    "import src.models.propeller as propeller\n",
    "from sklearn.metrics import r2_score\n",
    "\n",
    "import statsmodels.api as sm\n",
    "from myst_nb import glue\n",
    "from IPython.display import display, Math, Latex"
   ]
  },
  {
   "cell_type": "code",
   "execution_count": null,
   "id": "02a07783-e683-489e-929a-c646b61b93ac",
   "metadata": {
    "tags": [
     "remove-cell"
    ]
   },
   "outputs": [],
   "source": [
    "ship=\"kvlcc2_hsva\"\n",
    "vmm_name = \"vmm_martins_simple\"\n",
    "#vmm_name = \"vmm_abkowitz\"\n",
    "vmm = catalog.load(vmm_name)\n",
    "ship_data = catalog.load(f\"{ship}.ship_data\")\n",
    "data = catalog.load(f\"{ship}.updated.joined.data_ek_smooth\")\n",
    "added_masses = catalog.load(f\"{ship}.added_masses\")\n",
    "exclude_parameters = catalog.load(f\"params:{ship}.motion_regression.exclude_parameters\")\n",
    "open_water_characteristics = catalog.load(f\"{ship}.open_water_characteristics\")\n",
    "propeller_coefficients = catalog.load(f\"{ship}.propeller_coefficients\")"
   ]
  },
  {
   "cell_type": "markdown",
   "id": "2944c24e-73cd-4964-9501-a24fb27fb4a6",
   "metadata": {},
   "source": [
    "The propeller model is developed based on MMG model {cite:p}`yasukawa_introduction_2015-1` where the thrust is expressed as:\n",
    "\n",
    "```{glue:math} eqT\n",
    ":label: \"eqT\"\n",
    "```"
   ]
  },
  {
   "cell_type": "code",
   "execution_count": null,
   "id": "0276b9df-2580-4e83-b212-77d42b8ec34b",
   "metadata": {
    "tags": [
     "remove-cell"
    ]
   },
   "outputs": [],
   "source": [
    "glue('eqT', propeller.eq_T)"
   ]
  },
  {
   "cell_type": "markdown",
   "id": "e9470181-fe14-4648-ae6d-da62dfbf9884",
   "metadata": {},
   "source": [
    "And thrust coefficient $K_T$ is modelled as a second order polynomial:\n",
    "\n",
    "```{glue:math} eqKT\n",
    ":label: \"eqkt\"\n",
    "```"
   ]
  },
  {
   "cell_type": "code",
   "execution_count": null,
   "id": "ad83de19-9955-4950-810a-a0d206e1e3b2",
   "metadata": {
    "tags": [
     "remove-cell"
    ]
   },
   "outputs": [],
   "source": [
    "glue('eqKT', propeller.eq_K_T)"
   ]
  },
  {
   "cell_type": "markdown",
   "id": "88b1b6cc-afb1-4b0d-a89b-99a2e3cbc6b1",
   "metadata": {
    "tags": [
     "remove-cell"
    ]
   },
   "source": [
    "The coefficients of this polynomial where regressed from the propeller characteristics KVLCC2 propeller characteristic SIMMAN2008 conference {cite:p}`stern_experience_2011` ($k_0$:{glue:}`k_0`, $k_1$:{glue:}`k_1`, $k_2$:{glue:}`k_2`).\n",
    "\n",
    "```{glue:figure} fig_propeller_characteristic\n",
    ":figwidth: 1000px\n",
    ":name: \"fig_propeller_characteristic\"\n",
    "\n",
    "KVLCC2 propeller characteristic SIMMAN2008 conference {cite:p}`stern_experience_2011`\n",
    "```"
   ]
  },
  {
   "cell_type": "code",
   "execution_count": null,
   "id": "b4fd10da-4743-47be-b375-637e53fd2f99",
   "metadata": {
    "tags": [
     "remove-cell"
    ]
   },
   "outputs": [],
   "source": [
    "fig,ax=plt.subplots()\n",
    "open_water_characteristics.plot(ax=ax)\n",
    "pred_Kt = np.polyval(np.flipud(pd.Series(propeller_coefficients).values), \n",
    "           open_water_characteristics.index)\n",
    "ax.plot(open_water_characteristics.index, pred_Kt, 'r--', label='polynomial')\n",
    "ax.legend()\n",
    "ax.grid(True)\n",
    "glue(\"fig_propeller_characteristic\",fig, display=False)"
   ]
  },
  {
   "cell_type": "markdown",
   "id": "5af72cad-6e2b-4d88-88bb-dd9438ce0090",
   "metadata": {},
   "source": [
    "The advance ration $J$ is calculated as:\n",
    "```{glue:math} eqJ\n",
    ":label: \"eqJ\"\n",
    "```"
   ]
  },
  {
   "cell_type": "code",
   "execution_count": null,
   "id": "e17ef507-0037-41f2-8bd7-3abd1cd75564",
   "metadata": {
    "tags": [
     "remove-cell"
    ]
   },
   "outputs": [],
   "source": [
    "glue('eqJ', propeller.eq_J)"
   ]
  },
  {
   "cell_type": "markdown",
   "id": "381088c7-c290-4e1f-ab84-156e651cbb2a",
   "metadata": {},
   "source": [
    "where $w_p$ is the wake fraction at an oblique inflow to the propeller from drift angle an yaw rate. A semiempirical formula for $w_p$ is provided in the MMG model. As an alternative, a simple polynomial is proposed in [eq](eqpropellermodel):\n",
    "\n",
    "```{glue:math} eqpropellermodel\n",
    ":label: eqpropellermodel\n",
    "```\n"
   ]
  },
  {
   "cell_type": "markdown",
   "id": "be6719b2-15b5-40b2-a42e-28b3a892b0aa",
   "metadata": {},
   "source": [
    "$w_p$ is modelled as function of rudder angle $\\delta$, to include wake influence from the rudder and ship speed $u$, to include a speed dependency. The influence from drift angle $\\beta$ and yaw rate $r$ is expressed by $\\beta_p$ [eq](eqbetap), the local drift angle at the propeller.\n",
    "\n",
    "```{glue:math} eqbetap\n",
    ":label: \"eqbetap\"\n",
    "```"
   ]
  },
  {
   "cell_type": "code",
   "execution_count": null,
   "id": "cc363d3e-6d33-4e5d-9f9b-18a15fe03d20",
   "metadata": {
    "tags": [
     "remove-cell"
    ]
   },
   "outputs": [],
   "source": [
    "C_3,C_4 = sp.symbols(\"C_3 C_4\")\n",
    "eq_model = sp.Eq(w_p, w_p0 + C_1*delta+C_2*delta**2 + C_3*beta_p**2 + C_4*u)\n",
    "glue(\"eqpropellermodel\",eq_model)"
   ]
  },
  {
   "cell_type": "code",
   "execution_count": null,
   "id": "cc01de0e-2444-48ab-b2fb-1ea053bfe9a0",
   "metadata": {
    "tags": [
     "remove-cell"
    ]
   },
   "outputs": [],
   "source": [
    "glue('eqbetap', Latex(r'$\\beta_p=\\beta - \\frac{r}{U} \\cdot x_p $'))"
   ]
  },
  {
   "cell_type": "markdown",
   "id": "11e46f9d-24db-464b-b553-8015910483fd",
   "metadata": {},
   "source": [
    "Where $x_p$ is the propeller longitudinal position and $w_{p0}$ is the regular Taylor wake fraction, applicable to straight ahead steaming with no rudder angle. Similar to the MMG propeller model, two sets of parameters $C_1$-$C_4$ should be used in the propeller model depending on the sign of $\\beta_p$."
   ]
  },
  {
   "cell_type": "code",
   "execution_count": null,
   "id": "a9206dc7-348e-418f-9312-f55d67dc8596",
   "metadata": {
    "tags": [
     "remove-cell"
    ]
   },
   "outputs": [],
   "source": [
    "for key,value in ship_data.items():\n",
    "    glue(key,value, display=False)\n",
    "    print(key)"
   ]
  },
  {
   "cell_type": "code",
   "execution_count": null,
   "id": "ac8878fa-75b9-444f-b47a-d0737f391327",
   "metadata": {
    "tags": [
     "remove-cell"
    ]
   },
   "outputs": [],
   "source": [
    "for key,value in propeller_coefficients.items():\n",
    "    glue(key,np.round(value, 5), display=False)\n",
    "    print(key)"
   ]
  },
  {
   "cell_type": "code",
   "execution_count": null,
   "id": "82e9313f-bc88-496a-95a4-9e168f824859",
   "metadata": {
    "tags": [
     "remove-cell"
    ]
   },
   "outputs": [],
   "source": [
    "eq = MMG_propeller.X_P_solution[0][thrust]\n",
    "lambda_thrust = sp.lambdify(list(eq.free_symbols), eq)"
   ]
  },
  {
   "cell_type": "code",
   "execution_count": null,
   "id": "ed401025-3ac8-485d-9038-961356655813",
   "metadata": {
    "tags": [
     "remove-cell"
    ]
   },
   "outputs": [],
   "source": [
    "ship_data_ = ship_data.copy()\n",
    "#ship_data_['w_p0'] = 0.5"
   ]
  },
  {
   "cell_type": "code",
   "execution_count": null,
   "id": "4800f14d-ceac-4356-85c8-ba72667f7356",
   "metadata": {
    "tags": [
     "remove-cell"
    ]
   },
   "outputs": [],
   "source": [
    "ids = data['id'].unique()\n",
    "\n",
    "np.random.seed(44)\n",
    "ids_test = np.random.choice(ids, size=int(np.ceil(len(ids)*0.5)), replace=False)\n",
    "ids_train = list(set(ids) - set(ids_test))\n",
    "\n",
    "mask = data['id'].isin(ids_train)\n",
    "df_train = data.loc[mask].copy()"
   ]
  },
  {
   "cell_type": "code",
   "execution_count": null,
   "id": "56f38ccb-72d7-4b56-b800-d0a3a0ee255a",
   "metadata": {
    "tags": [
     "remove-cell"
    ]
   },
   "outputs": [],
   "source": [
    "def train_MMG(df_train):\n",
    "    \n",
    "    df_train_MMG = df_train.copy()\n",
    "    df_train_MMG = preprocess(df_train_MMG, ship_data=ship_data, propeller_coefficients=propeller_coefficients)\n",
    "    df_train_MMG['C_2'] = np.where(df_train_MMG['beta_p'] > 0, ship_data_[\"C_2_beta_p_pos\"], ship_data_[\"C_2_beta_p_neg\"])\n",
    "    \n",
    "    df_train_MMG['thrust_'] = run(function=lambda_thrust, inputs=df_train_MMG, **ship_data_, **propeller_coefficients)\n",
    "    X = df_train_MMG[['thrust_']]\n",
    "    y = df_train['thrust']\n",
    "    model = sm.OLS(y,X)\n",
    "    predictor_MMG = model.fit()\n",
    "    return predictor_MMG\n",
    "\n",
    "def train_simple(df_train):\n",
    "    df_train_simple = df_train.copy()\n",
    "    df_train_simple['thrust_'] = run(propeller.lambda_thrust_simple, inputs=df_train_simple, **ship_data_, **propeller_coefficients, w_p=ship_data['w_p0'])\n",
    "    X = df_train_simple[['thrust_']]\n",
    "    y = df_train['thrust']\n",
    "    model = sm.OLS(y,X)\n",
    "    predictor_simple = model.fit()\n",
    "    return predictor_simple"
   ]
  },
  {
   "cell_type": "code",
   "execution_count": null,
   "id": "c716a4da-01c0-437e-bedf-f360072e955d",
   "metadata": {
    "tags": [
     "remove-cell"
    ]
   },
   "outputs": [],
   "source": [
    "predictor_MMG = train_MMG(df_train=df_train)\n",
    "predictor_simple = train_simple(df_train=df_train)\n",
    "\n",
    "add_constant=False\n",
    "model_pos, model_neg = propeller.fit(data=df_train, ship_data=ship_data, propeller_coefficients=propeller_coefficients, add_constant=add_constant)\n"
   ]
  },
  {
   "cell_type": "code",
   "execution_count": null,
   "id": "12343fb1-ca51-4524-93d6-0a233845737e",
   "metadata": {
    "tags": [
     "remove-cell"
    ]
   },
   "outputs": [],
   "source": [
    "mask = data['id'].isin(ids_test)\n",
    "df_test = data.loc[mask].copy()"
   ]
  },
  {
   "cell_type": "code",
   "execution_count": null,
   "id": "c5eeba69-123d-4616-8225-50d1fe22bb47",
   "metadata": {
    "tags": [
     "remove-cell"
    ]
   },
   "outputs": [],
   "source": [
    "def predict_MMG(df_test):\n",
    "    df_predict_MMG = df_test.copy()\n",
    "    df_predict_MMG = preprocess(df_predict_MMG, ship_data=ship_data, propeller_coefficients=propeller_coefficients)\n",
    "    df_predict_MMG['C_2'] = np.where(df_predict_MMG['beta_p'] > 0, ship_data_[\"C_2_beta_p_pos\"], ship_data_[\"C_2_beta_p_neg\"])\n",
    "    df_predict_MMG['thrust_'] = run(function=lambda_thrust, inputs=df_predict_MMG, **ship_data_, **propeller_coefficients)\n",
    "    X = df_predict_MMG[['thrust_']]\n",
    "    df_predict_MMG['thrust'] = predictor_MMG.predict(X)\n",
    "    return df_predict_MMG"
   ]
  },
  {
   "cell_type": "code",
   "execution_count": null,
   "id": "6734fa91-8bb5-49c9-927b-b15cf09cd5fb",
   "metadata": {
    "tags": [
     "remove-cell"
    ]
   },
   "outputs": [],
   "source": [
    "def predict_simple(df_test):\n",
    "    df_predict_simple = df_test.copy()\n",
    "    df_predict_simple['thrust_'] = run(propeller.lambda_thrust_simple, inputs=df_predict_simple, **ship_data_, **propeller_coefficients, w_p=ship_data['w_p0'])\n",
    "    X = df_predict_simple[['thrust_']]\n",
    "    y = df_test['thrust']\n",
    "    df_predict_simple['thrust'] = predictor_simple.predict(X)\n",
    "    return df_predict_simple"
   ]
  },
  {
   "cell_type": "code",
   "execution_count": null,
   "id": "e5c759cf-c346-4c6d-aac3-beaf3104cda8",
   "metadata": {
    "tags": [
     "remove-cell"
    ]
   },
   "outputs": [],
   "source": [
    "df_predict_MMG = predict_MMG(df_test=df_test)\n",
    "df_predict_simple = predict_simple(df_test=df_test)\n",
    "df_predict = propeller.predict(model_pos=model_pos, model_neg=model_neg, data=df_test, propeller_coefficients=propeller_coefficients, ship_data=ship_data)"
   ]
  },
  {
   "cell_type": "code",
   "execution_count": null,
   "id": "0e6da154-f4df-4c36-bde4-681e494311c1",
   "metadata": {
    "tags": [
     "remove-cell"
    ]
   },
   "outputs": [],
   "source": [
    "fig,ax=plt.subplots()\n",
    "mask = df_test['id'] == df_test['id'].unique()[-1]\n",
    "df_test.loc[mask].plot(y='thrust', ax=ax, label='Model test')\n",
    "df_predict_MMG.loc[mask].plot(y='thrust', ax=ax, label='MMG', style='m--')\n",
    "df_predict_simple.loc[mask].plot(y='thrust', ax=ax, label='Simple model', style='r:')\n",
    "df_predict.loc[mask].plot(y='thrust', ax=ax, label='Polynomial model', style='k-')\n",
    "ax.set_xlabel('sample [s]')\n",
    "ax.set_ylabel('thrust [N]');\n",
    "ax.grid(True)\n",
    "glue(\"fig_propeller_validation\", fig, display=False)\n",
    "fig.savefig(\"figures/fig_propeller_validation.pdf\")\n",
    "fig.savefig(\"figures/fig_propeller_validation.png\")"
   ]
  },
  {
   "cell_type": "code",
   "execution_count": null,
   "id": "11628d98-d366-42f8-a2de-e599948313d0",
   "metadata": {
    "tags": [
     "remove-cell"
    ]
   },
   "outputs": [],
   "source": [
    "model_pos.summary()"
   ]
  },
  {
   "cell_type": "code",
   "execution_count": null,
   "id": "61045240-b07b-44ae-9aed-69ebc5e3566e",
   "metadata": {
    "tags": [
     "remove-cell"
    ]
   },
   "outputs": [],
   "source": [
    "model_neg.summary()"
   ]
  },
  {
   "cell_type": "code",
   "execution_count": null,
   "id": "0103848e-c987-49c2-abaf-86f54e59ef6c",
   "metadata": {
    "tags": [
     "remove-cell"
    ]
   },
   "outputs": [],
   "source": [
    "scores = []\n",
    "for i in range(100):\n",
    "    \n",
    "    np.random.seed(i)\n",
    "    ids_test = np.random.choice(ids, size=int(np.ceil(len(ids)*0.5)), replace=False)\n",
    "    ids_train = list(set(ids) - set(ids_test))\n",
    "    \n",
    "    mask = data['id'].isin(ids_train)\n",
    "    df_train = data.loc[mask].copy()\n",
    "    \n",
    "    mask = data['id'].isin(ids_test)\n",
    "    df_test = data.loc[mask].copy()\n",
    "    \n",
    "    \n",
    "    # Train\n",
    "    predictor_MMG = train_MMG(df_train=df_train)\n",
    "    predictor_simple = train_simple(df_train=df_train)\n",
    "\n",
    "    add_constant=False\n",
    "    model_pos, model_neg = propeller.fit(data=df_train, ship_data=ship_data, propeller_coefficients=propeller_coefficients, add_constant=add_constant)\n",
    "\n",
    "    # Predict\n",
    "    df_predict_MMG = predict_MMG(df_test=df_test)\n",
    "    df_predict_simple = predict_simple(df_test=df_test)\n",
    "    df_predict = propeller.predict(model_pos=model_pos, model_neg=model_neg, data=df_test, propeller_coefficients=propeller_coefficients, ship_data=ship_data)\n",
    "   \n",
    "    score = {}\n",
    "    score['MMG'] = r2_score(y_true=df_test['thrust'], y_pred=df_predict_MMG['thrust'])\n",
    "    score['simple'] = r2_score(y_true=df_test['thrust'], y_pred=df_predict_simple['thrust'])\n",
    "    score['model'] = r2_score(y_true=df_test['thrust'], y_pred=df_predict['thrust'])\n",
    "    scores.append(score)\n",
    "    \n",
    "    \n",
    "scores= pd.DataFrame(scores)\n",
    "    "
   ]
  },
  {
   "cell_type": "code",
   "execution_count": null,
   "id": "5cf24d1b-1ab7-4fdd-aab1-3a285430b05a",
   "metadata": {
    "tags": [
     "remove-cell"
    ]
   },
   "outputs": [],
   "source": [
    "scores.describe()"
   ]
  },
  {
   "cell_type": "code",
   "execution_count": null,
   "id": "9c7265f0-2b7d-482c-969c-4f002f800bbc",
   "metadata": {
    "tags": [
     "remove-cell"
    ]
   },
   "outputs": [],
   "source": [
    "for key,values in scores.items():\n",
    "    r2 = np.round(values.mean(),2)\n",
    "    glue(f\"r2_{key}\", r2)\n"
   ]
  },
  {
   "cell_type": "code",
   "execution_count": null,
   "id": "ce9ed184-cfff-47ef-9458-6a4b95933138",
   "metadata": {},
   "outputs": [],
   "source": []
  }
 ],
 "metadata": {
  "citation-manager": {
   "items": {}
  },
  "kernelspec": {
   "display_name": "wPCC_pipeline",
   "language": "python",
   "name": "python3"
  },
  "language_info": {
   "codemirror_mode": {
    "name": "ipython",
    "version": 3
   },
   "file_extension": ".py",
   "mimetype": "text/x-python",
   "name": "python",
   "nbconvert_exporter": "python",
   "pygments_lexer": "ipython3",
   "version": "3.7.9"
  }
 },
 "nbformat": 4,
 "nbformat_minor": 5
}
