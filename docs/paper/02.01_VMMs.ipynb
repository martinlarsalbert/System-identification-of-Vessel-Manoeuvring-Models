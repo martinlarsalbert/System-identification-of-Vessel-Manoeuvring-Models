{
 "cells": [
  {
   "cell_type": "code",
   "execution_count": null,
   "id": "48a6e305-391c-407e-a201-73ef7f7107d5",
   "metadata": {
    "tags": [
     "remove_cell"
    ]
   },
   "outputs": [],
   "source": [
    "from IPython.display import display, Math, Latex, Markdown\n",
    "from myst_nb import glue"
   ]
  },
  {
   "cell_type": "markdown",
   "id": "d9fdcb07-0d54-4108-b8ee-5cb7505dc4f5",
   "metadata": {
    "tags": []
   },
   "source": [
    "(vmm)=\n",
    "# Vessel Manoeuvring Model Models\n",
    "\n",
    "Ship manoeuvring is a simplified case of seakeeping. The encountering waves have been removed, assuming calm water conditions. This simplification allows for the ship dynamics to be expressed with only four degrees of freedom: surge, sway, roll and yaw, where roll is often excluded. Surge, sway and yaw have very low frequencies during manoeuvres, so that added masses as well as other hydrodynamic derivatives can be assumed as constants $\\cite{fossen_handbook_2021}$. Three Vessel Manoeuvring Models (VMMs) are used in this paper: Linear (LVMM) $\\cite{matusiak_dynamics_2017}$, Abkowitz model (AVMM) $\\cite{abkowitz_ship_1964}$ and a Modified Abkowitz model (MAVMM) proposed in this study.\n",
    "\n",
    "{numref}`coordinate_system` shows the coordinate systems used in the VMMs where $x_0$ and $y_0$ and heading $\\Psi$ are the global position and orientation of a ship fix coordinate system $O(x,y,z)$,  with origin at midship. $u$, $v$, $r$, $X$, $Y$ and $N$ are velocities and forces in the ship fix coordinate system.\n",
    "\n",
    "```{figure} figures/coordinate_system.PNG\n",
    "---\n",
    "height: 300px\n",
    "name: coordinate_system\n",
    "---\n",
    "Coordinate system\n",
    "```"
   ]
  },
  {
   "cell_type": "markdown",
   "id": "88e2ad0f-4c9b-4c57-ac19-006dce05de59",
   "metadata": {
    "tags": [
     "remove_cell"
    ]
   },
   "source": [
    "(vmm)=\n",
    "# Models\n",
    "Three Vessel Manoeuvring Models (VMMs) are used in this paper: Linear (LVMM), {cite:p}`matusiak_dynamics_2017`, Abkowitz model (AVMM) $\\cite{abkowitz_ship_1964}$ and a Modified Abkowitz model (MAVMM) which is  proposed by the authors. These VMMs and almost all other VMM:s that exist have a very similar structure. Ship manoeuvring is a simplified case of seakeeping. The encountering waves have been removed, assuming calm water conditions. This simplification allows for the ship dynamics to be expressed with only four degrees of freedom: surge, sway, roll and yaw, where roll is often excluded. Surge, sway and yaw have very low frequencies during manoeuvres, so that added masses as well as other hydrodynamic derivatives can be assumed as constants $\\cite{fossen_handbook_2021}$.\n",
    "\n",
    "{numref}`coordinate_system` shows the coordinate systems used in the VMMs where $x_0$ and $y_0$ and heading $\\Psi$ are the global position and orientation of a ship fix coordinate system $O(x,y,z)$,  with origo at midship. $u$, $v$, $r$, $X$, $Y$ and $N$ are velocities and forces in the ship fix coordinate system.\n",
    "\n",
    "```{figure} figures/coordinate_system.PNG\n",
    "---\n",
    "height: 300px\n",
    "name: coordinate_system\n",
    "---\n",
    "Coordinate system\n",
    "```"
   ]
  },
  {
   "cell_type": "markdown",
   "id": "cae7e8ba-1b16-4d0d-8e1a-5836bbe52f87",
   "metadata": {
    "tags": [
     "remove_cell"
    ]
   },
   "source": [
    "![](figures/coordinate_system.PNG)"
   ]
  },
  {
   "cell_type": "code",
   "execution_count": null,
   "id": "318ef776-6fa9-452c-baf4-69c3ef158f50",
   "metadata": {
    "tags": [
     "remove_cell"
    ]
   },
   "outputs": [],
   "source": [
    "# %load imports.py\n",
    "%load_ext autoreload\n",
    "%autoreload 2\n",
    "%reload_kedro\n",
    "%config Completer.use_jedi = False  ## (To fix autocomplete)\n",
    "\n",
    "import pandas as pd\n",
    "from src.models.vmm import ModelSimulator\n",
    "import matplotlib.pyplot as plt\n",
    "from src.visualization.plot import track_plots, plot, captive_plot\n",
    "import kedro\n",
    "import numpy as np\n",
    "import os.path\n",
    "import anyconfig\n",
    "\n",
    "import matplotlib\n",
    "plt.style.use('paper')\n",
    "from IPython.display import set_matplotlib_formats\n",
    "set_matplotlib_formats('pdf')\n",
    "\n",
    "from myst_nb import glue\n",
    "from src.symbols import *\n",
    "import src.symbols as symbols\n",
    "from src.system_equations import *\n",
    "\n",
    "from IPython.display import display, Math, Latex, Markdown\n",
    "from sympy.physics.vector.printing import vpprint, vlatex\n",
    "\n",
    "from src.parameters import df_parameters\n",
    "p = df_parameters[\"symbol\"]\n",
    "\n",
    "# Read configs:\n",
    "conf_path = os.path.join(\"../../conf/base/\")\n",
    "runs_globals_path = os.path.join(\n",
    "    conf_path,\n",
    "    \"runs_globals.yml\",\n",
    ")\n",
    "\n",
    "runs_globals = anyconfig.load(runs_globals_path)\n",
    "model_test_ids = runs_globals[\"model_test_ids\"]\n",
    "\n",
    "join_globals_path = os.path.join(\n",
    "    conf_path,\n",
    "    \"join_globals.yml\",\n",
    ")\n",
    "\n",
    "joins = runs_globals[\"joins\"]\n",
    "join_runs_dict = anyconfig.load(join_globals_path)\n",
    "\n",
    "globals_path = os.path.join(\n",
    "    conf_path,\n",
    "    \"globals.yml\",\n",
    ")\n",
    "global_variables = anyconfig.load(globals_path)\n",
    "\n",
    "\n",
    "\n",
    "vmm_names = global_variables[\"vmms\"]\n",
    "\n",
    "vmms = {}\n",
    "for vmm_name in vmm_names:\n",
    "    vmms[vmm_name] = catalog.load(vmm_name)\n"
   ]
  },
  {
   "cell_type": "markdown",
   "id": "55b6a56f-e23e-4514-aa75-2e811b87638e",
   "metadata": {
    "tags": [
     "remove_cell"
    ]
   },
   "source": [
    "The vessel manoeuvring models can be expressed in a very general way ( $\\cite{fossen_handbook_2021}$):\n",
    "```{glue:math} eq6dof\n",
    ":label: eq6dof\n",
    "```"
   ]
  },
  {
   "cell_type": "code",
   "execution_count": null,
   "id": "badee7b0-ecf7-4cd3-b0c0-14e6e7ddf612",
   "metadata": {
    "tags": [
     "remove-input",
     "remove_cell"
    ]
   },
   "outputs": [],
   "source": [
    "glue(\"eq6dof\", eq_6DOF)"
   ]
  },
  {
   "cell_type": "markdown",
   "id": "0ded8c49-1e75-45f2-a4ed-f8e0d1826cea",
   "metadata": {
    "tags": [
     "remove_cell"
    ]
   },
   "source": [
    "Where $\\eta$ describes the position:\n",
    "```{glue:math} eqeta\n",
    ":label: eqeta\n",
    "```"
   ]
  },
  {
   "cell_type": "code",
   "execution_count": null,
   "id": "a4b494e7-7017-45ef-a9c6-018f181cb33e",
   "metadata": {
    "tags": [
     "remove-input",
     "remove_cell"
    ]
   },
   "outputs": [],
   "source": [
    "glue(\"eqeta\", eq_eta)"
   ]
  },
  {
   "cell_type": "markdown",
   "id": "b02ae3ef-2c3f-44ff-b8e0-3cb14709da16",
   "metadata": {
    "tags": [
     "remove_cell"
    ]
   },
   "source": [
    "and $\\nu$ is the velocities:\n",
    "```{glue:math} eqnu\n",
    ":label: eqnu\n",
    "```"
   ]
  },
  {
   "cell_type": "code",
   "execution_count": null,
   "id": "6f9b6de6-0b23-43dc-b93f-30e1690e728e",
   "metadata": {
    "tags": [
     "remove-input",
     "remove_cell"
    ]
   },
   "outputs": [],
   "source": [
    "glue(\"eqnu\", eq_nu)"
   ]
  },
  {
   "cell_type": "markdown",
   "id": "3cf09f33-6460-4508-8f93-a216ccac039b",
   "metadata": {
    "tags": [
     "remove_cell"
    ]
   },
   "source": [
    "The accelerations are denoted using the dotted notation: $\\dot{\\nu}$.\n",
    "\n",
    "* $M$ is inertia matrix\n",
    "* $C(\\nu)$ is corriolis/centrepetal matrix as function of the velocities \\nu.\n",
    "* $D(\\nu)$ is damping matrix as a function of vecocities \\nu.\n",
    "* $g(\\eta)$ is a vector of generalized gravitational an buoyance forces.\n",
    "* $g_0$ is static restoring forces due to ballast systems.\n",
    "* $\\tau$ is vector of control inputs (from rudders/propellers etc.)\n",
    "* $\\tau_{wind}$ is vector of wind forces\n",
    "* $\\tau_{wave}$ is vector of wave forces"
   ]
  },
  {
   "cell_type": "markdown",
   "id": "518f5bfa-a93f-464d-bc22-fa7c016145e7",
   "metadata": {
    "tags": [
     "remove_cell"
    ]
   },
   "source": [
    "The velocities can also include the ocean current by expressing the relative velocity $v_r$ as:\n",
    "```{glue:math} eqnur\n",
    ":label: eqnur\n",
    "```"
   ]
  },
  {
   "cell_type": "code",
   "execution_count": null,
   "id": "522d4a02-fba5-4240-b231-ff5edba8e660",
   "metadata": {
    "tags": [
     "remove-input",
     "remove_cell"
    ]
   },
   "outputs": [],
   "source": [
    "glue(\"eqnur\", eq_nu_r)"
   ]
  },
  {
   "cell_type": "markdown",
   "id": "06bd6c6c-e4b5-4422-89d3-9feaa84373df",
   "metadata": {
    "tags": [
     "remove_cell"
    ]
   },
   "source": [
    "If the current is assumed to be irrotational, the angular velocities for the current is zero:\n",
    "```{glue:math} eqnuc\n",
    ":label: eqnuc\n",
    "```\n",
    "\n",
    "```{glue:math} eq_nu_c\n",
    ":label: eq_nu_c\n",
    "```\n",
    "\n",
    "```{glue:math} eqnurexpanded\n",
    ":label: eqnurexpanded\n",
    "```"
   ]
  },
  {
   "cell_type": "code",
   "execution_count": null,
   "id": "4226591a-c0fb-4805-bb35-fef74a743ee9",
   "metadata": {
    "tags": [
     "remove-input",
     "remove_cell"
    ]
   },
   "outputs": [],
   "source": [
    "glue(\"eqnuc\", eq_nu_c)"
   ]
  },
  {
   "cell_type": "code",
   "execution_count": null,
   "id": "108b8d34-cb4c-4876-91b3-a5ff9989c3ca",
   "metadata": {
    "tags": [
     "remove-input",
     "remove_cell"
    ]
   },
   "outputs": [],
   "source": [
    "glue(\"eqnurexpanded\", eq_nu_r_expanded)"
   ]
  },
  {
   "cell_type": "markdown",
   "id": "382720ac-97a1-44b5-8200-3416587f4c89",
   "metadata": {
    "tags": [
     "remove_cell"
    ]
   },
   "source": [
    "If the current is also assumed to be constant, this mean that the time derivative of $\\nu$ and $\\nu_r$ are the same, also giving the same accelerations: \n",
    "```{glue:math} eqnusteady\n",
    ":label: eqnusteady\n",
    "```"
   ]
  },
  {
   "cell_type": "code",
   "execution_count": null,
   "id": "0d1848c3-c9d6-4f90-99f7-b0894037c30d",
   "metadata": {
    "tags": [
     "remove-input",
     "remove_cell"
    ]
   },
   "outputs": [],
   "source": [
    "glue(\"eqnusteady\", eq_nu_steady)"
   ]
  },
  {
   "cell_type": "markdown",
   "id": "9a9db9a5-b39d-4677-b289-b684303d2142",
   "metadata": {
    "tags": [
     "remove_cell"
    ]
   },
   "source": [
    "When current is present the inertia as well as the corriolis matrix must be split into an added mass part (A) and a rigid body part (RB):\n",
    "```{glue:math} eqm\n",
    ":label: eqm\n",
    "```\n",
    "\n",
    "```{glue:math} eqc\n",
    ":label: eqc\n",
    "```"
   ]
  },
  {
   "cell_type": "code",
   "execution_count": null,
   "id": "030c0bc7-6964-411e-adc6-e13ab47ff28b",
   "metadata": {
    "tags": [
     "remove-input",
     "remove_cell"
    ]
   },
   "outputs": [],
   "source": [
    "glue(\"eqm\", eq_M) "
   ]
  },
  {
   "cell_type": "code",
   "execution_count": null,
   "id": "20a0cd17-2150-45dd-afe5-4adf2369e767",
   "metadata": {
    "tags": [
     "remove-input",
     "remove_cell"
    ]
   },
   "outputs": [],
   "source": [
    "glue(\"eqc\", eq_C) "
   ]
  },
  {
   "cell_type": "markdown",
   "id": "5c561604-685f-48a3-913c-81de022195a4",
   "metadata": {
    "tags": [
     "remove_cell"
    ]
   },
   "source": [
    "So that the model equation can be written as:\n",
    "\n",
    "```{glue:math} eq6DOFexpanded\n",
    ":label: eq6DOFexpanded\n",
    "```"
   ]
  },
  {
   "cell_type": "code",
   "execution_count": null,
   "id": "a6b88e94-6130-4dd7-b184-76801da6f846",
   "metadata": {
    "tags": [
     "remove-input",
     "remove_cell"
    ]
   },
   "outputs": [],
   "source": [
    "glue(\"eq6DOFexpanded\", eq_6DOF_expanded) "
   ]
  },
  {
   "cell_type": "markdown",
   "id": "654699ab-568f-42c7-9954-87856f7b38b1",
   "metadata": {
    "tags": [
     "remove_cell"
    ]
   },
   "source": [
    "This equation can be simplified for manoeuvring models by firstly only keeping surge, sway and yaw degrees of freedome. This means that both $g_0$ and $g(\\eta)$ dissapears as there are no static forces for surge, sway and yaw. For the classic manoeuvring problem also forces from wind and waves are neglected, removing $\\tau_{wave}$ and $\\tau_{wind}$. In this paper, there are no ocean current during the studied model tests, so that the relative velocity $v_r$ can be replaced with $v$.\n",
    "\n",
    "```{glue:math} eq3DOF\n",
    ":label: eq3DOF\n",
    "```"
   ]
  },
  {
   "cell_type": "code",
   "execution_count": null,
   "id": "041429d5-4718-47b6-8718-095b6312f991",
   "metadata": {
    "tags": [
     "remove-input",
     "remove_cell"
    ]
   },
   "outputs": [],
   "source": [
    "eq_3DOF = eq_6DOF_expanded.subs([\n",
    "\n",
    "    (g_0,0),\n",
    "    (g_function, 0),\n",
    "    (tau_wave,0),\n",
    "    (tau_wind,0),\n",
    "    (nu_r,nu)\n",
    "\n",
    "])\n",
    "\n",
    "glue(\"eq3DOF\", eq_3DOF) \n",
    "\n"
   ]
  },
  {
   "cell_type": "markdown",
   "id": "aed4f2a8-6ba6-442f-bb38-145cb72f5990",
   "metadata": {
    "tags": [
     "remove_cell"
    ]
   },
   "source": [
    "And these matrices can be expressed in 3 degrees of freeddome ( {cite:p}`fossen_handbook_2021`):\n",
    "\n",
    "```{glue:math} eqCA\n",
    ":label: eqCA\n",
    "```\n",
    "\n",
    "```{glue:math} eq_C_RB\n",
    ":label: eq_C_RB\n",
    "```\n",
    "\n",
    "```{glue:math} eq_M_A\n",
    ":label: eq_M_A\n",
    "```\n",
    "\n",
    "```{glue:math} eq_M_RB\n",
    ":label: eq_M_RB\n",
    "```"
   ]
  },
  {
   "cell_type": "code",
   "execution_count": null,
   "id": "3f05893a-efe5-47e8-bdaa-b0bd68aabb4e",
   "metadata": {
    "tags": [
     "remove-input",
     "remove_cell"
    ]
   },
   "outputs": [],
   "source": [
    "glue(\"eqCA\", eq_C_A) "
   ]
  },
  {
   "cell_type": "code",
   "execution_count": null,
   "id": "b29930f2-8fa6-45c3-b7ff-6c41a2ccdbb0",
   "metadata": {
    "tags": [
     "remove-input",
     "remove_cell"
    ]
   },
   "outputs": [],
   "source": [
    "glue(\"eq_C_RB\", eq_C_RB) "
   ]
  },
  {
   "cell_type": "code",
   "execution_count": null,
   "id": "49b28651-ad7a-4502-a3af-5e06df858846",
   "metadata": {
    "tags": [
     "remove-input",
     "remove_cell"
    ]
   },
   "outputs": [],
   "source": [
    "glue(\"eq_M_A\", eq_M_A) "
   ]
  },
  {
   "cell_type": "code",
   "execution_count": null,
   "id": "db2413c4-4840-4b6b-9590-abf2f128380a",
   "metadata": {
    "tags": [
     "remove-input",
     "remove_cell"
    ]
   },
   "outputs": [],
   "source": [
    "glue(\"eq_M_RB\", eq_M_RB) "
   ]
  },
  {
   "cell_type": "markdown",
   "id": "afd754b9-ea4a-4762-b50a-faa87d8e9c9f",
   "metadata": {
    "tags": [
     "remove_cell"
    ]
   },
   "source": [
    "The damping and control inputs from rudders and propellers are replaced with the functions $X_D(u,v,r,\\delta,thrust)$, $Y_D(u,v,r,\\delta,thrust)$, $N_D(u,v,r,\\delta,thrust)$. Note that the measured thrust from the model tests is used as input to the models, which means that the propeller is not part of the models. Main focus is thereby on the modelling of rudder and hull forces. A separate propeller model is needed to provide the thrust input to this model.\n",
    "\n",
    "```{glue:math} eq_D_function\n",
    ":label: eq_D_function\n",
    "```"
   ]
  },
  {
   "cell_type": "code",
   "execution_count": null,
   "id": "bcfcd7f5-4d93-499f-ae94-feff215dc223",
   "metadata": {
    "tags": [
     "remove-input",
     "remove_cell"
    ]
   },
   "outputs": [],
   "source": [
    "glue(\"eq_D_function\", eq_D_function)  "
   ]
  },
  {
   "cell_type": "code",
   "execution_count": null,
   "id": "21705dfe-0d43-4d43-910f-5a4131f5781c",
   "metadata": {
    "tags": [
     "remove_cell"
    ]
   },
   "outputs": [],
   "source": [
    "CD_ = (eq_C_A.rhs + eq_C_RB.rhs).doit()"
   ]
  },
  {
   "cell_type": "markdown",
   "id": "a32dd2f6-4473-48a7-8f62-fc98da7ea0b8",
   "metadata": {},
   "source": [
    "```{glue:math} eqqsystem\n",
    ":label: \"eqqsystem\"\n",
    "```\n",
    "\n",
    "The above equation ([eq](eqqsystem)) $\\cite{fossen_handbook_2021}$ can be rewritten to get the acceleration on the left hand side ([eq](eqacc)),\n",
    "\n",
    "\n",
    "```{glue:math} eqacc\n",
    ":label: \"eqacc\"\n",
    "```"
   ]
  },
  {
   "cell_type": "code",
   "execution_count": null,
   "id": "6f3bd24f-45a3-4c7e-9888-84d8ac53fe84",
   "metadata": {
    "tags": [
     "remove-input",
     "remove_cell"
    ]
   },
   "outputs": [],
   "source": [
    "glue(\"eqqsystem\", eq_system) "
   ]
  },
  {
   "cell_type": "code",
   "execution_count": null,
   "id": "fdd7f933-84ae-4b54-9925-fdacf964e434",
   "metadata": {
    "tags": [
     "remove-input",
     "remove_cell"
    ]
   },
   "outputs": [],
   "source": [
    "glue(\"eqacc\", eq_acceleration_matrix_clean) "
   ]
  },
  {
   "cell_type": "markdown",
   "id": "03b8df6b-4509-4b51-aa53-4d2f21867d74",
   "metadata": {},
   "source": [
    "where $S$ is a helper variable:\n",
    "```{glue:math} eq_S\n",
    ":label: eq_S\n",
    "```"
   ]
  },
  {
   "cell_type": "code",
   "execution_count": null,
   "id": "89653299-22f0-439c-bd81-508d649e9911",
   "metadata": {
    "tags": [
     "remove-input",
     "remove_cell"
    ]
   },
   "outputs": [],
   "source": [
    "glue(\"eq_S\", eq_S)  "
   ]
  },
  {
   "cell_type": "markdown",
   "id": "ef852db8-c266-4107-b9bd-d90394a98f4f",
   "metadata": {},
   "source": [
    "A state space model for manoeuvring can now be defined with six states:\n",
    "\n",
    "```{glue:math} eq_x\n",
    ":label: eq_x\n",
    "```"
   ]
  },
  {
   "cell_type": "code",
   "execution_count": null,
   "id": "8c6de74b-e921-40e9-ba63-2a5135d40ac0",
   "metadata": {
    "tags": [
     "remove-input",
     "remove_cell"
    ]
   },
   "outputs": [],
   "source": [
    "glue(\"eq_x\", eq_x)  "
   ]
  },
  {
   "cell_type": "markdown",
   "id": "4ca119a0-3d5d-4340-a62e-a39ecce8870c",
   "metadata": {},
   "source": [
    "The time derivative of this state $\\dot{\\mathbf{x}}$ can be defined by a state transition $f(\\mathbf{x},\\mathbf{c})$ using geometrical relations\n",
    "how global coordinates $x_0$, $y_0$ and $\\Psi$ depend on $u$, $v$, and $r$ viz.,\n",
    "\n",
    "```{glue:math} eq_f\n",
    ":label: \"eqf\"\n",
    "```"
   ]
  },
  {
   "cell_type": "code",
   "execution_count": null,
   "id": "a9182df8-1af7-4407-872c-9c355fd40089",
   "metadata": {
    "tags": [
     "remove-input",
     "remove_cell"
    ]
   },
   "outputs": [],
   "source": [
    "eq_transition = sp.Eq(x1d, eq_f.rhs)\n",
    "\n",
    "eq_transition = Math(r'\\dot{\\mathbf{x}} = f(\\mathbf{x},\\mathbf{c}) + \\mathbf{w} = \\left[\\begin{matrix}u \\cos{\\left(\\Psi \\right)} - v \\sin{\\left(\\Psi \\right)}\\\\u \\sin{\\left(\\Psi \\right)} + v \\cos{\\left(\\Psi \\right)}\\\\r\\\\\\dot{u}\\\\\\dot{v}\\\\\\dot{r}\\end{matrix}\\right] + \\mathbf{w}')\n",
    "\n",
    "glue(\"eq_f\", eq_transition)"
   ]
  },
  {
   "cell_type": "markdown",
   "id": "816ee4d7-a90c-4e98-b782-055b810b45c2",
   "metadata": {},
   "source": [
    "where $\\mathbf{c}$ is control inputs (rudder angle $\\delta$ and thrust $T$); the last three derivatives: $\\dot{u}$, $\\dot{v}$, $\\dot{r}$ are calculated with [eq](eqacc).\n",
    "$\\mathbf{w}$ is the process noise, i.e., the difference between the predicted state by the VMM and the true\n",
    "state of the system. $\\mathbf{w}$ is unknown when the VMM is used for manoeuvre predictions and therefore normally\n",
    "assumed to be zero, but it is an important factor when the VMM is used in the EKF, see Section $\\ref{\\detokenize{04.01_EK::doc}}$.\n",
    "\n",
    "The manoeuvring simulation can now be conducted by numerical integration of [eq](eqf). The main difference between the VMM:s lies in how the hydrodynamic functions $X_D(u,v,r,\\delta,thrust)$, $Y_D(u,v,r,\\delta,thrust)$, $N_D(u,v,r,\\delta,thrust)$ are defined. These expressions are denoted for different VMMs, namely LVMM, AVMM and MAVMM below,"
   ]
  },
  {
   "cell_type": "code",
   "execution_count": null,
   "id": "30a776f0-5b2f-4c44-9d46-fc8f1cfcc6af",
   "metadata": {
    "tags": [
     "remove_cell"
    ]
   },
   "outputs": [],
   "source": [
    "from wPCC_pipeline.jupyter_book import multiline\n",
    "\n",
    "primes = [\"u\",\"v\",\"r\",\"thrust\"]\n",
    "subs_prime={sp.symbols(symbol):sp.symbols(f\"{symbol}'\") for symbol in primes}\n",
    "\n",
    "for vmm_name, vmm in vmms.items():\n",
    "    \n",
    "    #appendix.add_header(labels.get(vmm_name), level=3)\n",
    "    eqs = {'X_D':vmm.X_qs_eq.subs(subs_prime),\n",
    "           'Y_D':vmm.Y_qs_eq.subs(subs_prime),\n",
    "           'N_D':vmm.N_qs_eq.subs(subs_prime),\n",
    "          }\n",
    "    \n",
    "    for name, eq in eqs.items():\n",
    "        label = f\"eq{name[0:-2]}{vmm_name[4:]}\"\n",
    "        s_latex = multiline(eq, terms_per_line=8)\n",
    "        for symbol in [\"X_{D}\",\"Y_{D}\",\"N_{D}\"]:\n",
    "            s_latex = s_latex.replace(symbol,f\"{symbol}'\")\n",
    "        \n",
    "        glue(label, Latex(s_latex), display=False)\n",
    "        #glue(label, eq, display=False)\n",
    "        s = f\"\"\"\n",
    "```{{glue:math}} {label}\n",
    ":label: {label.lower().replace('_','')}\n",
    "\n",
    "```\"\"\"\n",
    "        print(s)\n",
    "        \n",
    "        \n",
    "        "
   ]
  },
  {
   "cell_type": "markdown",
   "id": "07e3f0af-ed64-4415-ba82-c07cb15e9ff2",
   "metadata": {},
   "source": [
    "LVMM (Linear Vessel Manoeuvring Model) $\\cite{matusiak_dynamics_2017}$:\n",
    "\n",
    "```{glue:math} eqXlinear\n",
    ":label: eqxlinear\n",
    "\n",
    "```\n",
    "\n",
    "\n",
    "```{glue:math} eqYlinear\n",
    ":label: eqylinear\n",
    "\n",
    "```\n",
    "\n",
    "\n",
    "```{glue:math} eqNlinear\n",
    ":label: eqnlinear\n",
    "\n",
    "```\n",
    "\n",
    "\n",
    "\n",
    "\n",
    "AVMM (Abkowitz Vessel Manoeuvring Model) $\\cite{abkowitz_ship_1964}$:\n",
    "\n",
    "```{glue:math} eqXabkowitz\n",
    ":label: eqxabkowitz\n",
    "\n",
    "```\n",
    "\n",
    "\n",
    "```{glue:math} eqYabkowitz\n",
    ":label: eqyabkowitz\n",
    "\n",
    "```\n",
    "\n",
    "\n",
    "```{glue:math} eqNabkowitz\n",
    ":label: eqnabkowitz\n",
    "\n",
    "```\n",
    "\n",
    "\n",
    "MAVMM (Modified Abkowitz Vessel Manoeuvring Model where only the most relevant coefficients in AVMM are included.\n",
    "\n",
    "\n",
    "```{glue:math} eqXmartins_simple\n",
    ":label: eqxmartinssimple\n",
    "\n",
    "```\n",
    "\n",
    "\n",
    "```{glue:math} eqYmartins_simple\n",
    ":label: eqymartinssimple\n",
    "\n",
    "```\n",
    "\n",
    "\n",
    "```{glue:math} eqNmartins_simple\n",
    ":label: eqnmartinssimple\n",
    "\n",
    "```\n",
    "\n",
    "\n",
    "\n",
    "\n"
   ]
  },
  {
   "cell_type": "code",
   "execution_count": null,
   "id": "42705eca-1e8c-4881-b5fb-89c082adc6bb",
   "metadata": {
    "tags": [
     "remove-input",
     "remove_cell"
    ]
   },
   "outputs": [],
   "source": [
    "from wPCC_pipeline.jupyter_book import Appendix\n",
    "appendix = Appendix(file_path='appendix_vmms.md', title='Vessel Manoeuvring Models')\n",
    "\n",
    "labels = {\n",
    "\n",
    "    'vmm_linear':'Linear model',\n",
    "    'vmm_abkowitz':'MAVMM', \n",
    "    'vmm_martins_simple': 'MAVMM'\n",
    "\n",
    "}\n",
    "\n",
    "for vmm_name, vmm in vmms.items():\n",
    "    \n",
    "    appendix.add_header(labels.get(vmm_name), level=3)\n",
    "    eqs = {'X_D':vmm.X_qs_eq,\n",
    "           'Y_D':vmm.Y_qs_eq,\n",
    "           'N_D':vmm.N_qs_eq,\n",
    "          }\n",
    "    \n",
    "    for name, eq in eqs.items():\n",
    "        label = f\"eq_{name}_{vmm_name}\"\n",
    "        appendix.add_equation_multiline(eq=eq, label=label)"
   ]
  },
  {
   "cell_type": "code",
   "execution_count": null,
   "id": "7696906a-e0d7-4520-b7db-d2ee685ae4af",
   "metadata": {
    "tags": [
     "remove_cell"
    ]
   },
   "outputs": [],
   "source": [
    "from src.prime_system import df_prime\n",
    "from jb_helpers import df_to_myst\n",
    "\n",
    "denominators = df_prime.loc['denominator'].copy()\n",
    "denominators.drop(index=['-'], inplace=True)\n",
    "index = denominators.index\n",
    "prime_table = pd.DataFrame(index=index)\n",
    "prime_table['Denominators'] = denominators.apply(lambda x : f\"${sp.latex(x)}$\")\n",
    "prime_table.index.name = 'Physical quantity'\n",
    "prime_table.index = [item.replace('_','\\n') for item in prime_table.index]\n",
    "\n",
    "print(df_to_myst(prime_table, title='Prime system denominators'))"
   ]
  },
  {
   "cell_type": "markdown",
   "id": "9ef6dd25-8fd2-4da6-983e-ae3fd89bc5eb",
   "metadata": {},
   "source": [
    "The hydrodynamic functions above are expressed with nondimensional prime units denoted with the prime symbol ('). The quantities are expressed in the prime system, using the denominators in {numref}`Prime_system_denominators`. Surge linear velocity $u$ can for instance be expressed in prime system as seen in [eq](eqprime) using the linear velocity denominator.\n",
    "\n",
    "```{glue:math} eqprime\n",
    ":label: eqprime\n",
    "```"
   ]
  },
  {
   "cell_type": "code",
   "execution_count": null,
   "id": "9f4b650f-276a-4fe1-8e81-58904a1779ab",
   "metadata": {
    "tags": [
     "remove_cell"
    ]
   },
   "outputs": [],
   "source": [
    "eqprime = Math(r\"$u'=\\frac{u}{U}$\")\n",
    "glue(\"eqprime\", eqprime)"
   ]
  },
  {
   "cell_type": "markdown",
   "id": "ca141166-20d0-4bb0-bd06-1cfb37bae714",
   "metadata": {},
   "source": [
    "```{list-table} Prime system denominators\n",
    ":header-rows: 1\n",
    ":name: Prime_system_denominators\n",
    "* -  \n",
    "  - Denominators\n",
    "* - length\n",
    "  - $L$\n",
    "* - volume\n",
    "  - $L^{3}$\n",
    "* - mass\n",
    "  - $\\frac{L^{3} \\rho}{2}$\n",
    "* - density\n",
    "  - $\\frac{\\rho}{2}$\n",
    "* - inertia\n",
    "moment\n",
    "  - $\\frac{L^{5} \\rho}{2}$\n",
    "* - time\n",
    "  - $\\frac{L}{U}$\n",
    "* - frequency\n",
    "  - $\\frac{U}{L}$\n",
    "* - area\n",
    "  - $L^{2}$\n",
    "* - angle\n",
    "  - $1$\n",
    "* - linear\n",
    "velocity\n",
    "  - $U$\n",
    "* - angular\n",
    "velocity\n",
    "  - $\\frac{U}{L}$\n",
    "* - linear\n",
    "acceleration\n",
    "  - $\\frac{U^{2}}{L}$\n",
    "* - angular\n",
    "acceleration\n",
    "  - $\\frac{U^{2}}{L^{2}}$\n",
    "* - force\n",
    "  - $\\frac{L^{2} U^{2} \\rho}{2}$\n",
    "* - moment\n",
    "  - $\\frac{L^{3} U^{2} \\rho}{2}$\n",
    "\n",
    "```"
   ]
  }
 ],
 "metadata": {
  "citation-manager": {
   "items": {}
  },
  "kernelspec": {
   "display_name": "wPCC_pipeline",
   "language": "python",
   "name": "python3"
  },
  "language_info": {
   "codemirror_mode": {
    "name": "ipython",
    "version": 3
   },
   "file_extension": ".py",
   "mimetype": "text/x-python",
   "name": "python",
   "nbconvert_exporter": "python",
   "pygments_lexer": "ipython3",
   "version": "3.7.9"
  }
 },
 "nbformat": 4,
 "nbformat_minor": 5
}
