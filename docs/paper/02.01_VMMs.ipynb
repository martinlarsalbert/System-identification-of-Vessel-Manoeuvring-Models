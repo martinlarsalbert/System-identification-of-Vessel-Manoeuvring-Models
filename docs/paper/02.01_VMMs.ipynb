{
 "cells": [
  {
   "cell_type": "markdown",
   "id": "88e2ad0f-4c9b-4c57-ac19-006dce05de59",
   "metadata": {
    "tags": []
   },
   "source": [
    "# Vessel Manoeuvring Models\n",
    "Many simulation model for ship manoeuvring have been developed in the field of ship hydrodynamics such as: the Abkowitz model {cite:p}`abkowitz_ship_1964` or the Norrbin model {cite:p}`norrbin_study_1960`.\n",
    "This chapter will develop a general simulation model for ship manoeuvring, that can be further specified to become either the Abkowitz or Norbin model. Expressing the models on a general form is important in this research where many different models will be tested and compared."
   ]
  },
  {
   "cell_type": "code",
   "execution_count": null,
   "id": "b3ce61ef-97e8-4303-8b46-c28939f4bbdd",
   "metadata": {},
   "outputs": [],
   "source": []
  },
  {
   "cell_type": "code",
   "execution_count": null,
   "id": "318ef776-6fa9-452c-baf4-69c3ef158f50",
   "metadata": {
    "tags": [
     "remove_cell"
    ]
   },
   "outputs": [],
   "source": [
    "# %load imports.py\n",
    "%load_ext autoreload\n",
    "%autoreload 2\n",
    "%reload_kedro\n",
    "%config Completer.use_jedi = False  ## (To fix autocomplete)\n",
    "\n",
    "import pandas as pd\n",
    "from src.models.vmm import ModelSimulator\n",
    "import matplotlib.pyplot as plt\n",
    "from src.visualization.plot import track_plots, plot, captive_plot\n",
    "import kedro\n",
    "import numpy as np\n",
    "import os.path\n",
    "import anyconfig\n",
    "\n",
    "import matplotlib\n",
    "matplotlib.rcParams[\"figure.figsize\"] = (15,4)\n",
    "\n",
    "from myst_nb import glue\n",
    "from src.symbols import *\n",
    "import src.symbols as symbols\n",
    "from src.system_equations import *\n",
    "\n",
    "from IPython.display import display, Math, Latex, Markdown\n",
    "from sympy.physics.vector.printing import vpprint, vlatex\n",
    "\n",
    "from src.parameters import df_parameters\n",
    "p = df_parameters[\"symbol\"]\n",
    "\n",
    "# Read configs:\n",
    "conf_path = os.path.join(\"../../conf/base/\")\n",
    "runs_globals_path = os.path.join(\n",
    "    conf_path,\n",
    "    \"runs_globals.yml\",\n",
    ")\n",
    "\n",
    "runs_globals = anyconfig.load(runs_globals_path)\n",
    "model_test_ids = runs_globals[\"model_test_ids\"]\n",
    "\n",
    "join_globals_path = os.path.join(\n",
    "    conf_path,\n",
    "    \"join_globals.yml\",\n",
    ")\n",
    "\n",
    "joins = runs_globals[\"joins\"]\n",
    "join_runs_dict = anyconfig.load(join_globals_path)\n",
    "\n",
    "globals_path = os.path.join(\n",
    "    conf_path,\n",
    "    \"globals.yml\",\n",
    ")\n",
    "global_variables = anyconfig.load(globals_path)\n",
    "\n",
    "\n",
    "\n",
    "vmm_names = global_variables[\"vmms\"]\n",
    "only_joined = global_variables[\n",
    "    \"only_joined\"\n",
    "]  # (regress/predict with only models from joined runs)S\n",
    "\n",
    "vmms = {}\n",
    "for vmm_name in vmm_names:\n",
    "    vmms[vmm_name] = catalog.load(vmm_name)\n"
   ]
  },
  {
   "cell_type": "markdown",
   "id": "55b6a56f-e23e-4514-aa75-2e811b87638e",
   "metadata": {},
   "source": [
    "The vessel manoeuvring models can be expressed in a very general way ( {cite:p}`fossen_handbook_2021`):"
   ]
  },
  {
   "cell_type": "code",
   "execution_count": null,
   "id": "badee7b0-ecf7-4cd3-b0c0-14e6e7ddf612",
   "metadata": {
    "tags": [
     "remove-input"
    ]
   },
   "outputs": [],
   "source": [
    "eq_6DOF"
   ]
  },
  {
   "cell_type": "markdown",
   "id": "0ded8c49-1e75-45f2-a4ed-f8e0d1826cea",
   "metadata": {},
   "source": [
    "Where $\\eta$ describes the position:"
   ]
  },
  {
   "cell_type": "code",
   "execution_count": null,
   "id": "a4b494e7-7017-45ef-a9c6-018f181cb33e",
   "metadata": {
    "tags": [
     "remove-input"
    ]
   },
   "outputs": [],
   "source": [
    "eq_eta"
   ]
  },
  {
   "cell_type": "markdown",
   "id": "b02ae3ef-2c3f-44ff-b8e0-3cb14709da16",
   "metadata": {},
   "source": [
    "and $\\nu$ is the velocities:"
   ]
  },
  {
   "cell_type": "code",
   "execution_count": null,
   "id": "6f9b6de6-0b23-43dc-b93f-30e1690e728e",
   "metadata": {
    "tags": [
     "remove-input"
    ]
   },
   "outputs": [],
   "source": [
    "eq_nu"
   ]
  },
  {
   "cell_type": "markdown",
   "id": "3cf09f33-6460-4508-8f93-a216ccac039b",
   "metadata": {},
   "source": [
    "The accelerations are denoted using the dotted notation: $\\dot{\\nu}$.\n",
    "\n",
    "* $M$ is inertia matrix\n",
    "* $C(\\nu)$ is corriolis/centrepetal matrix as function of the velocities \\nu.\n",
    "* $D(\\nu)$ is damping matrix as a function of vecocities \\nu.\n",
    "* $g(\\eta)$ is a vector of generalized gravitational an buoyance forces.\n",
    "* $g_0$ is static restoring forces due to ballast systems.\n",
    "* $\\tau$ is vector of control inputs (from rudders/propellers etc.)\n",
    "* $\\tau_{wind}$ is vector of wind forces\n",
    "* $\\tau_{wave}$ is vector of wave forces"
   ]
  },
  {
   "cell_type": "markdown",
   "id": "518f5bfa-a93f-464d-bc22-fa7c016145e7",
   "metadata": {},
   "source": [
    "The velocities can also include the ocean current by expressing the relative velocity $v_r$ as:"
   ]
  },
  {
   "cell_type": "code",
   "execution_count": null,
   "id": "522d4a02-fba5-4240-b231-ff5edba8e660",
   "metadata": {
    "tags": [
     "remove-input"
    ]
   },
   "outputs": [],
   "source": [
    "eq_nu_r"
   ]
  },
  {
   "cell_type": "markdown",
   "id": "06bd6c6c-e4b5-4422-89d3-9feaa84373df",
   "metadata": {},
   "source": [
    "If the current is assumed to be irrotational, the angular velocities for the current is zero:"
   ]
  },
  {
   "cell_type": "code",
   "execution_count": null,
   "id": "4226591a-c0fb-4805-bb35-fef74a743ee9",
   "metadata": {
    "tags": [
     "remove-input"
    ]
   },
   "outputs": [],
   "source": [
    "eq_nu_c"
   ]
  },
  {
   "cell_type": "code",
   "execution_count": null,
   "id": "108b8d34-cb4c-4876-91b3-a5ff9989c3ca",
   "metadata": {
    "tags": [
     "remove-input"
    ]
   },
   "outputs": [],
   "source": [
    "eq_nu_r_expanded"
   ]
  },
  {
   "cell_type": "markdown",
   "id": "382720ac-97a1-44b5-8200-3416587f4c89",
   "metadata": {},
   "source": [
    "If the current is also assumed to be constant, this mean that the time derivative of $\\nu$ and $\\nu_r$ are the same, also giving the same accelerations: "
   ]
  },
  {
   "cell_type": "code",
   "execution_count": null,
   "id": "0d1848c3-c9d6-4f90-99f7-b0894037c30d",
   "metadata": {
    "tags": [
     "remove-input"
    ]
   },
   "outputs": [],
   "source": [
    "eq_nu_steady"
   ]
  },
  {
   "cell_type": "markdown",
   "id": "9a9db9a5-b39d-4677-b289-b684303d2142",
   "metadata": {},
   "source": [
    "When current is present the inertia as well as the corriolis matrix must be split into an added mass part (A) and a rigid body part (RB):"
   ]
  },
  {
   "cell_type": "code",
   "execution_count": null,
   "id": "030c0bc7-6964-411e-adc6-e13ab47ff28b",
   "metadata": {
    "tags": [
     "remove-input"
    ]
   },
   "outputs": [],
   "source": [
    "eq_M"
   ]
  },
  {
   "cell_type": "code",
   "execution_count": null,
   "id": "20a0cd17-2150-45dd-afe5-4adf2369e767",
   "metadata": {
    "tags": [
     "remove-input"
    ]
   },
   "outputs": [],
   "source": [
    "eq_C"
   ]
  },
  {
   "cell_type": "markdown",
   "id": "5c561604-685f-48a3-913c-81de022195a4",
   "metadata": {},
   "source": [
    "So that the model equation can be written as:"
   ]
  },
  {
   "cell_type": "code",
   "execution_count": null,
   "id": "a6b88e94-6130-4dd7-b184-76801da6f846",
   "metadata": {
    "tags": [
     "remove-input"
    ]
   },
   "outputs": [],
   "source": [
    "eq_6DOF_expanded"
   ]
  },
  {
   "cell_type": "markdown",
   "id": "654699ab-568f-42c7-9954-87856f7b38b1",
   "metadata": {},
   "source": [
    "This equation can be simplified for manoeuvring models by firstly only keeping surge, sway and yaw degrees of freedome. This means that both $g_0$ and $g(\\eta)$ dissapears as there are no static forces for surge, sway and yaw. For the classic manoeuvring problem also forces from wind and waves are neglected, removing $\\tau_{wave}$ and $\\tau_{wind}$. In this paper, there are no ocean current during the studied model tests, so that the relative velocity $v_r$ can be replaced with $v_r$."
   ]
  },
  {
   "cell_type": "code",
   "execution_count": null,
   "id": "041429d5-4718-47b6-8718-095b6312f991",
   "metadata": {
    "tags": [
     "remove-input"
    ]
   },
   "outputs": [],
   "source": [
    "eq_3DOF = eq_6DOF_expanded.subs([\n",
    "\n",
    "    (g_0,0),\n",
    "    (g_function, 0),\n",
    "    (tau_wave,0),\n",
    "    (tau_wind,0),\n",
    "    (nu_r,nu)\n",
    "\n",
    "])\n",
    "eq_3DOF"
   ]
  },
  {
   "cell_type": "markdown",
   "id": "aed4f2a8-6ba6-442f-bb38-145cb72f5990",
   "metadata": {},
   "source": [
    "And these matrices can be expressed in 3 degrees of freeddome ( {cite:p}`fossen_handbook_2021`):"
   ]
  },
  {
   "cell_type": "code",
   "execution_count": null,
   "id": "3f05893a-efe5-47e8-bdaa-b0bd68aabb4e",
   "metadata": {
    "tags": [
     "remove-input"
    ]
   },
   "outputs": [],
   "source": [
    "eq_C_A"
   ]
  },
  {
   "cell_type": "code",
   "execution_count": null,
   "id": "b29930f2-8fa6-45c3-b7ff-6c41a2ccdbb0",
   "metadata": {
    "tags": [
     "remove-input"
    ]
   },
   "outputs": [],
   "source": [
    "eq_C_RB"
   ]
  },
  {
   "cell_type": "code",
   "execution_count": null,
   "id": "49b28651-ad7a-4502-a3af-5e06df858846",
   "metadata": {
    "tags": [
     "remove-input"
    ]
   },
   "outputs": [],
   "source": [
    "eq_M_A"
   ]
  },
  {
   "cell_type": "code",
   "execution_count": null,
   "id": "db2413c4-4840-4b6b-9590-abf2f128380a",
   "metadata": {
    "tags": [
     "remove-input"
    ]
   },
   "outputs": [],
   "source": [
    "eq_M_RB"
   ]
  },
  {
   "cell_type": "markdown",
   "id": "afd754b9-ea4a-4762-b50a-faa87d8e9c9f",
   "metadata": {},
   "source": [
    "The damping and control inputs from rudders and propellers are replaced with the functions $X_D(u,v,r,\\delta,thrust)$, $Y_D(u,v,r,\\delta,thrust)$, $N_D(u,v,r,\\delta,thrust)$. Note that the measured thrust from the model tests is used as input to the models, which means that the propeller is not part of the models in this paper. Main focus is thereby on the modelling of rudder and hull forces and moments."
   ]
  },
  {
   "cell_type": "code",
   "execution_count": null,
   "id": "bcfcd7f5-4d93-499f-ae94-feff215dc223",
   "metadata": {
    "tags": [
     "remove-input"
    ]
   },
   "outputs": [],
   "source": [
    "eq_D_function"
   ]
  },
  {
   "cell_type": "code",
   "execution_count": null,
   "id": "21705dfe-0d43-4d43-910f-5a4131f5781c",
   "metadata": {
    "tags": [
     "remove_cell"
    ]
   },
   "outputs": [],
   "source": [
    "CD_ = (eq_C_A.rhs + eq_C_RB.rhs).doit()"
   ]
  },
  {
   "cell_type": "markdown",
   "id": "a32dd2f6-4473-48a7-8f62-fc98da7ea0b8",
   "metadata": {},
   "source": [
    "The system equation can now be written as:"
   ]
  },
  {
   "cell_type": "code",
   "execution_count": null,
   "id": "6f3bd24f-45a3-4c7e-9888-84d8ac53fe84",
   "metadata": {
    "tags": [
     "remove-input"
    ]
   },
   "outputs": [],
   "source": [
    "eq_system"
   ]
  },
  {
   "cell_type": "markdown",
   "id": "20918ae5-eb04-4ea9-8c6e-d64cc70a4573",
   "metadata": {},
   "source": [
    "This equation can be rewritten to get the acceleration on the left hand side:"
   ]
  },
  {
   "cell_type": "code",
   "execution_count": null,
   "id": "fdd7f933-84ae-4b54-9925-fdacf964e434",
   "metadata": {
    "tags": [
     "remove-input"
    ]
   },
   "outputs": [],
   "source": [
    "eq_acceleration_matrix_clean"
   ]
  },
  {
   "cell_type": "markdown",
   "id": "03b8df6b-4509-4b51-aa53-4d2f21867d74",
   "metadata": {},
   "source": [
    "where $S$ is a helper variable:"
   ]
  },
  {
   "cell_type": "code",
   "execution_count": null,
   "id": "89653299-22f0-439c-bd81-508d649e9911",
   "metadata": {
    "tags": [
     "remove-input"
    ]
   },
   "outputs": [],
   "source": [
    "eq_S"
   ]
  },
  {
   "cell_type": "markdown",
   "id": "ef852db8-c266-4107-b9bd-d90394a98f4f",
   "metadata": {},
   "source": [
    "A state space model for manoeuvring can now be defined with six states:"
   ]
  },
  {
   "cell_type": "code",
   "execution_count": null,
   "id": "8c6de74b-e921-40e9-ba63-2a5135d40ac0",
   "metadata": {
    "tags": [
     "remove-input"
    ]
   },
   "outputs": [],
   "source": [
    "eq_x"
   ]
  },
  {
   "cell_type": "markdown",
   "id": "e00165ac-c097-4377-b2b3-8ac59cf1c542",
   "metadata": {},
   "source": [
    "An transition function $f$ defines how the states changes with time:"
   ]
  },
  {
   "cell_type": "code",
   "execution_count": null,
   "id": "58d79298-df15-4594-a327-38caae542880",
   "metadata": {
    "tags": [
     "remove-input"
    ]
   },
   "outputs": [],
   "source": [
    "eq_state_space"
   ]
  },
  {
   "cell_type": "markdown",
   "id": "4ca119a0-3d5d-4340-a62e-a39ecce8870c",
   "metadata": {},
   "source": [
    "Using geometrical relations for how $x_0$, $y_0$ and $\\Psi$ depend on $u$, $v$, and $r$ and the time derivatives that was derived above: $\\dot{u}$, $\\dot{v}$, $\\dot{r}$, the transition function can be written:"
   ]
  },
  {
   "cell_type": "code",
   "execution_count": null,
   "id": "a9182df8-1af7-4407-872c-9c355fd40089",
   "metadata": {
    "tags": [
     "remove-input"
    ]
   },
   "outputs": [],
   "source": [
    "eq_f"
   ]
  },
  {
   "cell_type": "markdown",
   "id": "816ee4d7-a90c-4e98-b782-055b810b45c2",
   "metadata": {},
   "source": [
    "The manoeuvring simulation can now be conducted by numerical integration of the above equation. The main difference between various vessel manoeuvring models such as the Abkowitz model {cite:p}`abkowitz_ship_1964` or the Norrbin model {cite:p}`norrbin_study_1960` lies in how the hydrodynamic functions $X_D(u,v,r,\\delta,thrust)$, $Y_D(u,v,r,\\delta,thrust)$, $N_D(u,v,r,\\delta,thrust)$ are defined. These functions cane be found in [Appendix](appendix_vmms.md)."
   ]
  },
  {
   "cell_type": "markdown",
   "id": "42cefcc8-2cc9-4841-a3ff-e4ee636022dd",
   "metadata": {},
   "source": [
    "Note that a coefficient $X_{thrust}$ has been added to the Abkowitz X equation to allow for propeller thrust as an input to the model. "
   ]
  },
  {
   "cell_type": "code",
   "execution_count": null,
   "id": "42705eca-1e8c-4881-b5fb-89c082adc6bb",
   "metadata": {
    "tags": [
     "remove-input",
     "remove_cell"
    ]
   },
   "outputs": [],
   "source": [
    "from wPCC_pipeline.jupyter_book import Appendix\n",
    "appendix = Appendix(file_path='appendix_vmms.md', title='Vessel Manoeuvring Models')\n",
    "\n",
    "for vmm_name, vmm in vmms.items():\n",
    "    \n",
    "    appendix.add_header(vmm_name, level=3)\n",
    "    eqs = {'X_D':vmm.X_qs_eq,\n",
    "           'Y_D':vmm.Y_qs_eq,\n",
    "           'N_D':vmm.N_qs_eq,\n",
    "          }\n",
    "    \n",
    "    for name, eq in eqs.items():\n",
    "        label = f\"eq_{name}_{vmm_name}\"\n",
    "        appendix.add_equation_multiline(eq=eq, label=label)"
   ]
  },
  {
   "cell_type": "code",
   "execution_count": null,
   "id": "d87a7753-94ff-42a1-a72a-8ef1fd740bca",
   "metadata": {},
   "outputs": [],
   "source": []
  }
 ],
 "metadata": {
  "kernelspec": {
   "display_name": "wPCC_pipeline",
   "language": "python",
   "name": "python3"
  },
  "language_info": {
   "codemirror_mode": {
    "name": "ipython",
    "version": 3
   },
   "file_extension": ".py",
   "mimetype": "text/x-python",
   "name": "python",
   "nbconvert_exporter": "python",
   "pygments_lexer": "ipython3",
   "version": "3.7.9"
  }
 },
 "nbformat": 4,
 "nbformat_minor": 5
}
