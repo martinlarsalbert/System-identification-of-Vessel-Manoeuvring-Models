{
 "cells": [
  {
   "cell_type": "markdown",
   "id": "51ee47bb-622d-4036-a6df-7ad3fa404233",
   "metadata": {},
   "source": [
    "(case_kvlcc2)=\n",
    "## KVLCC2 test case"
   ]
  },
  {
   "cell_type": "code",
   "execution_count": null,
   "id": "229acafd-5f12-4f8c-be91-ac64440c547b",
   "metadata": {
    "tags": [
     "remove-cell"
    ]
   },
   "outputs": [],
   "source": [
    "# %load imports.py\n",
    "%load_ext autoreload\n",
    "%autoreload 2\n",
    "%reload_kedro\n",
    "%config Completer.use_jedi = False  ## (To fix autocomplete)\n",
    "%matplotlib inline\n",
    "\n",
    "import warnings\n",
    "warnings.filterwarnings('ignore')\n",
    "\n",
    "import pandas as pd\n",
    "pd.set_option('display.max_rows', 500)\n",
    "pd.set_option('display.max_columns', 500)\n",
    "from src.models.vmm import ModelSimulator\n",
    "import matplotlib.pyplot as plt\n",
    "from src.visualization.plot import track_plots, plot, captive_plot\n",
    "import kedro\n",
    "import numpy as np\n",
    "import os.path\n",
    "import anyconfig\n",
    "\n",
    "import matplotlib\n",
    "matplotlib.rcParams[\"figure.figsize\"] = (10,7)\n",
    "from src.symbols import *\n",
    "\n",
    "# Read configs:\n",
    "conf_path = os.path.join(\"../../conf/base/\")\n",
    "runs_globals_path = os.path.join(\n",
    "    conf_path,\n",
    "    \"runs_globals.yml\",\n",
    ")\n",
    "\n",
    "runs_globals = anyconfig.load(runs_globals_path)\n",
    "model_test_ids = runs_globals[\"model_test_ids\"]\n",
    "\n",
    "join_globals_path = os.path.join(\n",
    "    conf_path,\n",
    "    \"join_globals.yml\",\n",
    ")\n",
    "\n",
    "joins = runs_globals[\"joins\"]\n",
    "join_runs_dict = anyconfig.load(join_globals_path)\n",
    "\n",
    "globals_path = os.path.join(\n",
    "    conf_path,\n",
    "    \"globals.yml\",\n",
    ")\n",
    "global_variables = anyconfig.load(globals_path)\n",
    "\n",
    "\n",
    "\n",
    "vmm_names = global_variables[\"vmms\"]\n",
    "\n",
    "from wPCC_pipeline.pipelines.motion_regression.nodes import predict_force, fit_motions, create_model_from_motion_regression\n",
    "from wPCC_pipeline.pipelines.prediction.nodes import simulate_euler\n",
    "from src.prime_system import PrimeSystem\n",
    "\n",
    "from sklearn.linear_model import LinearRegression\n",
    "from sklearn.model_selection import cross_val_score\n",
    "from sklearn.model_selection import RepeatedKFold\n",
    "from sklearn.feature_selection import SelectKBest\n",
    "from sklearn.feature_selection import f_regression\n",
    "from sklearn.pipeline import Pipeline\n",
    "from src.parameters import df_parameters\n",
    "p = df_parameters['symbol']\n",
    "from src.feature_selection import drop_multicollinearity\n",
    "from src.bias_variance_tradeoff import train_test_split_run\n",
    "from sklearn.metrics import r2_score\n",
    "from wPCC_pipeline.pipelines.motion_regression.nodes import predict_force, fit_motions, create_model_from_motion_regression, create_full_model_from_motion_regression\n",
    "from src.models.regression import Regression\n",
    "from myst_nb import glue\n",
    "import src.symbols as s\n",
    "from IPython.display import Latex\n",
    "from src.substitute_dynamic_symbols import run\n",
    "import seaborn as sns\n",
    "from src.feature_selection import feature_imporance, BestFeatures, DropCorrelation\n",
    "from wPCC_pipeline.turning_circle import TurningCircle\n",
    "from src.models.propeller import fit, predict, predictor\n",
    "from jb_helpers import parameter_to_latex, df_to_myst"
   ]
  },
  {
   "cell_type": "code",
   "execution_count": null,
   "id": "6e56cee0-9eec-45f4-bda2-102ffd2bd98c",
   "metadata": {
    "tags": [
     "remove-cell"
    ]
   },
   "outputs": [],
   "source": [
    "ship=\"kvlcc2_hsva\"\n",
    "#vmm_name = \"vmm_martins_simple\"\n",
    "vmm_name = \"vmm_abkowitz\"\n",
    "vmm = catalog.load(vmm_name)\n",
    "\n",
    "ship_data = catalog.load(f\"{ship}.ship_data\")\n",
    "\n",
    "#regression = catalog.load(f\"{ship}.updated.{vmm_name}.joined.regression\")\n",
    "#regression.diff_eq_Y.exclude_parameters.pop('Ydelta')\n",
    "#regression.diff_eq_Y.exclude_parameters.pop('Ythrustdelta')\n",
    "\n",
    "\n",
    "data = catalog.load(f\"{ship}.updated.joined.data_ek_smooth\")\n",
    "\n",
    "added_masses = catalog.load(f\"{ship}.added_masses\")\n",
    "exclude_parameters = catalog.load(f\"params:{ship}.motion_regression.exclude_parameters\")\n",
    "columns = ['u','v','r','u1d','v1d','r1d','delta','thrust','id','x0','y0','psi','rev']\n",
    "data_with_force = predict_force(data=data[columns], added_masses=added_masses, ship_parameters=ship_data, vmm=vmm)"
   ]
  },
  {
   "cell_type": "markdown",
   "id": "a9392a26-3a1b-499c-9317-b8c47e17ef45",
   "metadata": {},
   "source": [
    "A turning circle manoeuvre should again be predicted, but now for the KVLCC2 case based on a series of model tests carried out at HSVA for the SIMMAN2008 conference {cite:p}`stern_experience_2011`. The turning circle test contain much larger drift angles, rudder angle and yaw rates compared to the model tests used for training, so that the VMM:s prediction ability outside the traning data is tested.\n",
    "\n",
    "The propeller is part of the VMM for this test case, instead of only hull and rudders as in the [wPCC test case](case_wpcc) so that the full ship can be simulated without any additional input. How a propeller model for the KVLCC2 was developed is further explained in [section](case_kvlcc2_propeller).\n",
    "\n",
    "The model test data that is used for training is split into a training and validation dataset. The training dataset contains various zigzag tests to startboard and port. The validation dataset constists of a ZigZag35/5 test, so that the validation set contains larger drift angles, rudder angles and yaw rates than the training set in a similiar way as for the real prediction case.\n",
    "\n",
    "The test set is taken from model tests caried out at MARIN for the SIMMAN2008 conference {cite:p}`stern_experience_2011` which also contains turning cirlce tests.\n",
    "\n",
    "The training and validation datasets as well as the test set are shown in  the [fig](fig_kvlcc2_traintest).\n",
    "\n",
    "```{glue:figure} fig_kvlcc2_traintest\n",
    ":figwidth: 1000px\n",
    ":name: \"fig_kvlcc2_traintest\"\n",
    "\n",
    "KVLCC2 training, validation and testing datasets.\n",
    "```"
   ]
  },
  {
   "cell_type": "code",
   "execution_count": null,
   "id": "307f22ba-7153-4124-b083-ebd93cda1f77",
   "metadata": {
    "tags": [
     "remove-cell"
    ]
   },
   "outputs": [],
   "source": [
    "def break_plot(df, **kwargs):\n",
    "    \n",
    "    df_ = df.copy()\n",
    "    mask = np.concatenate([[False],np.diff(df_.index)>1])\n",
    "    df_.loc[mask] = np.NaN\n",
    "    df_.plot(**kwargs)\n"
   ]
  },
  {
   "cell_type": "code",
   "execution_count": null,
   "id": "97037e20-ebb6-43e5-8cbd-511d1b33d02c",
   "metadata": {
    "tags": [
     "remove-cell"
    ]
   },
   "outputs": [],
   "source": [
    "ids = list(data_with_force['id'].unique())\n",
    "ids_train = ids.copy()\n",
    "# id_test = 22774  (MARIN test as test)\n",
    "#ids_train.remove(id_test)\n",
    "mask = data_with_force['id'].isin(ids_train)\n",
    "data_train = data_with_force.loc[mask].copy()\n",
    "#assert not id_test in data_train['id'].unique()\n",
    "\n",
    "ps = PrimeSystem(**ship_data)\n",
    "data_prime = ps.prime(data_train, U=data_with_force['U'])"
   ]
  },
  {
   "cell_type": "code",
   "execution_count": null,
   "id": "d2128ee9-afc0-4639-93a5-2021694e7037",
   "metadata": {
    "tags": [
     "remove-cell"
    ]
   },
   "outputs": [],
   "source": [
    "ids_test = [\n",
    "    'HSVA_CPMC_KVLCC2_Z_35_05',\n",
    "]\n",
    "\n",
    "mask = data_train['id'].isin(ids_test)\n",
    "data_validation = data_train.loc[mask].copy()\n",
    "data_sub_train = data_train.loc[~mask].copy()"
   ]
  },
  {
   "cell_type": "code",
   "execution_count": null,
   "id": "aa4336eb-8b63-4969-8770-6cb80fe689bb",
   "metadata": {
    "tags": [
     "remove-cell"
    ]
   },
   "outputs": [],
   "source": [
    "ids2 = [\"kvlcc2.updated.MARIN_FREE_KVLCC2_tc_35_m\",\n",
    "        \"kvlcc2.updated.MARIN_FREE_KVLCC2_tc_-35_m\",\n",
    "        \"kvlcc2.updated.MARIN_FREE_KVLCC2_zz_10_m\",\n",
    "        \"kvlcc2.updated.MARIN_FREE_KVLCC2_zz_-10_m\",\n",
    "        \"kvlcc2.updated.MARIN_FREE_KVLCC2_zz_20_m\",\n",
    "        \"kvlcc2.updated.MARIN_FREE_KVLCC2_zz_-20_m\",\n",
    "        \n",
    "       ]\n",
    "\n",
    "data_testing = pd.DataFrame()\n",
    "for id in ids2: \n",
    "    df_test = catalog.load(f\"{id}.data_ek_smooth\")\n",
    "    df_test['id'] = id\n",
    "    data_testing = data_testing.append(df_test)\n",
    "    "
   ]
  },
  {
   "cell_type": "code",
   "execution_count": null,
   "id": "931ad344-392e-4f2f-990c-cbb0855daeee",
   "metadata": {
    "tags": [
     "remove-cell"
    ]
   },
   "outputs": [],
   "source": [
    "def rotate(df):\n",
    "    \n",
    "    dpsi = 2*np.pi*np.random.random()\n",
    "    \n",
    "    df['psi']+=dpsi\n",
    "    x0 = df['x0'].copy()\n",
    "    y0 = df['y0'].copy()\n",
    "    \n",
    "    df['x0'] = np.cos(dpsi)*x0 - np.sin(dpsi)*y0\n",
    "    df['y0'] = np.sin(dpsi)*x0 + np.cos(dpsi)*y0\n",
    "        \n",
    "    \n",
    "    return df\n",
    "    \n",
    "    "
   ]
  },
  {
   "cell_type": "code",
   "execution_count": null,
   "id": "b2659aa6-082b-41bb-b6f9-ba41f7a61842",
   "metadata": {
    "tags": [
     "remove-cell"
    ]
   },
   "outputs": [],
   "source": [
    "np.random.seed(1)\n",
    "fig,ax=plt.subplots()\n",
    "\n",
    "dataframes = {id:rotate(df_) for id, df_ in data_sub_train.groupby(by='id')}\n",
    "styles = {id:{'style':'b-','label':'_nolegend_'} for id, df_ in data_sub_train.groupby(by='id')}\n",
    "\n",
    "dataframes.update({id:rotate(df_) for id, df_ in data_validation.groupby(by='id')})\n",
    "styles.update({id:{'style':'g-','label':'_nolegend_'} for id, df_ in data_validation.groupby(by='id')})\n",
    "\n",
    "dataframes.update({id:rotate(df_) for id, df_ in data_testing.groupby(by='id') if 'tc' in id})\n",
    "styles.update({id:{'style':'r-','label':'_nolegend_'} for id, df_ in data_testing.groupby(by='id')})\n",
    "\n",
    "track_plots(dataframes, lpp=ship_data['L'], beam=ship_data['B'],  styles=styles, N=2, ax=ax);\n",
    "\n",
    "ax.plot([],'b-',label='Training')\n",
    "ax.plot([],'g-',label='Validation')\n",
    "ax.plot([],'r-',label='Testing')\n",
    "\n",
    "\n",
    "ax.legend();\n",
    "glue('fig_kvlcc2_traintest',fig, display=False)"
   ]
  },
  {
   "cell_type": "markdown",
   "id": "b02e3ce5-50f0-4a42-8dbd-04469cccb74d",
   "metadata": {},
   "source": [
    "The regression to identify a model for the KVLCC2 case is conducted on forces from the inverse dynamics calculated on states predicted with the recursive EKF."
   ]
  },
  {
   "cell_type": "markdown",
   "id": "00fdd652-a043-4dfa-957b-bc707db496ea",
   "metadata": {},
   "source": [
    "The thrust coefficient $X_T$ as well as the rudder coefficients $Y_R$ are excluded from the regression in the same way as for the [wPCC test case](case_wpcc).\n"
   ]
  },
  {
   "cell_type": "code",
   "execution_count": null,
   "id": "ff13c9aa-ac95-4585-917e-bc3efd137865",
   "metadata": {
    "tags": [
     "remove-cell"
    ]
   },
   "outputs": [],
   "source": [
    "ps = PrimeSystem(**ship_data)\n",
    "regression = Regression(\n",
    "        vmm=vmm,\n",
    "        data=data_train,\n",
    "        added_masses=added_masses,\n",
    "        ship_parameters=ship_data,\n",
    "        prime_system=ps,\n",
    "        exclude_parameters=exclude_parameters, \n",
    "        connect_equations_Y_N_rudder=True\n",
    "    )"
   ]
  },
  {
   "cell_type": "code",
   "execution_count": null,
   "id": "cb5f1f13-d868-45a0-a89b-75a96da97117",
   "metadata": {
    "tags": [
     "remove-cell"
    ]
   },
   "outputs": [],
   "source": [
    "Xs = {}\n",
    "ys = {}\n",
    "\n",
    "\n",
    "Xs['X'], ys['X'] = regression.diff_eq_X.calculate_features_and_label(data=data_prime, y=data_prime['fx'])\n",
    "Xs['Y'], ys['Y'] = regression.diff_eq_Y.calculate_features_and_label(data=data_prime, y=data_prime['fy'])\n",
    "Xs['N'], ys['N'] = regression.diff_eq_N.calculate_features_and_label(data=data_prime, y=data_prime['mz'])\n",
    "\n",
    "dofs = list(Xs.keys())"
   ]
  },
  {
   "cell_type": "code",
   "execution_count": null,
   "id": "e968f7da-28d9-455f-ab8c-af6ad24bb68e",
   "metadata": {
    "tags": [
     "remove-cell"
    ]
   },
   "outputs": [],
   "source": [
    "df_parameters = pd.DataFrame()\n",
    "df_parameters['mean'] = regression.model_N.params\n",
    "df_parameters['std'] = regression.model_N.bse\n",
    "df_parameters.sort_values(by='std', ascending=False, inplace=True)"
   ]
  },
  {
   "cell_type": "code",
   "execution_count": null,
   "id": "1e87ea17-e073-4ed4-8956-d78da6b1c5ad",
   "metadata": {
    "tags": [
     "remove-cell"
    ]
   },
   "outputs": [],
   "source": [
    "df_table = df_parameters.iloc[0:5]\n",
    "glue('Ndelta',df_parameters.loc['Ndelta','mean'])\n",
    "glue('eNdelta',df_parameters.loc['Ndelta','std'])\n",
    "\n",
    "glue('Nvvdelta',df_parameters.loc['Nvvdelta','mean'])\n",
    "glue('eNvvdelta',df_parameters.loc['Nvvdelta','std'])\n",
    "\n",
    "df_table"
   ]
  },
  {
   "cell_type": "code",
   "execution_count": null,
   "id": "df807501-64ff-4c0e-bac5-bc29f94b1b5c",
   "metadata": {
    "tags": [
     "remove-cell"
    ]
   },
   "outputs": [],
   "source": [
    "ship_model = catalog.load(f\"{ship}.updated.{vmm_name}.joined.model\")"
   ]
  },
  {
   "cell_type": "markdown",
   "id": "17d93798-0580-4b1c-aa93-5dc92848e68a",
   "metadata": {
    "tags": [
     "remove-cell"
    ]
   },
   "source": [
    "## Thrust model"
   ]
  },
  {
   "cell_type": "code",
   "execution_count": null,
   "id": "e623fa76-021e-4f23-91ef-9200b2716b4e",
   "metadata": {
    "tags": [
     "remove-cell"
    ]
   },
   "outputs": [],
   "source": [
    "propeller_coefficients = catalog.load(\"kvlcc2.propeller_coefficients\")"
   ]
  },
  {
   "cell_type": "markdown",
   "id": "a45e5ebb-595e-457f-b443-829a452bd544",
   "metadata": {
    "tags": [
     "remove-cell"
    ]
   },
   "source": [
    "## VMM Martin"
   ]
  },
  {
   "cell_type": "code",
   "execution_count": null,
   "id": "44f7603a-4290-4d44-b8ee-296c9c4e49ed",
   "metadata": {
    "tags": [
     "remove-cell"
    ]
   },
   "outputs": [],
   "source": [
    "vmm_martin = catalog.load(\"vmm_martins_simple\")\n",
    "ek_martin = catalog.load(f\"{ship}.vmm_martins_simple.ek\")"
   ]
  },
  {
   "cell_type": "code",
   "execution_count": null,
   "id": "dab59306-aed9-489a-9e3d-3d7e89dbcbc3",
   "metadata": {
    "tags": [
     "remove-cell"
    ]
   },
   "outputs": [],
   "source": [
    "#regression_martin, _ = fit_motions(data=data_sub_train, \n",
    "#                                   added_masses=added_masses, \n",
    "#                                   ship_data=ship_data, \n",
    "#                                   vmm=vmm_martin, \n",
    "#                                   exclude_parameters=exclude_parameters)\n",
    "#\n",
    "#ship_model_martin = create_model_from_motion_regression(regression=regression_martin)\n"
   ]
  },
  {
   "cell_type": "code",
   "execution_count": null,
   "id": "24d49cfd-c56e-4556-8e5e-1436c9c6b48f",
   "metadata": {
    "tags": [
     "remove-cell"
    ]
   },
   "outputs": [],
   "source": [
    "add_constant = False\n",
    "model_pos, model_neg = fit(data=data_sub_train, ship_data=ship_data, propeller_coefficients=propeller_coefficients, add_constant=add_constant) \n",
    "data_predicted_thrust = predict(model_pos=model_pos, model_neg=model_neg, data=data_sub_train, propeller_coefficients=propeller_coefficients, \n",
    "                                ship_data=ship_data)\n",
    "\n",
    "regression_martin, parameters = fit_motions(data=data_predicted_thrust, added_masses=added_masses, \n",
    "                                                      ship_data=ship_data, vmm=vmm_martin, exclude_parameters=exclude_parameters)\n",
    "\n",
    "ship_model_martin = create_full_model_from_motion_regression(regression=regression_martin, \n",
    "                                                                  model_pos=model_pos, \n",
    "                                                                  model_neg=model_neg, \n",
    "                                                                  propeller_coefficients=propeller_coefficients)"
   ]
  },
  {
   "cell_type": "code",
   "execution_count": null,
   "id": "71266681-d4a9-4612-90cf-a637a6c7a96d",
   "metadata": {
    "tags": [
     "remove-cell"
    ]
   },
   "outputs": [],
   "source": [
    "#regression_abkowitz, _ = fit_motions(data=data_sub_train, \n",
    "#                                   added_masses=added_masses, \n",
    "#                                   ship_data=ship_data, \n",
    "#                                   vmm=vmm, \n",
    "#                                   exclude_parameters=exclude_parameters)\n",
    "#\n",
    "#ship_model_abkowitz = create_model_from_motion_regression(regression=regression_abkowitz)"
   ]
  },
  {
   "cell_type": "code",
   "execution_count": null,
   "id": "f3281003-45aa-4188-87ae-85cd2cc9f0f8",
   "metadata": {
    "tags": [
     "remove-cell"
    ]
   },
   "outputs": [],
   "source": [
    "add_constant = False\n",
    "model_pos, model_neg = fit(data=data_sub_train, ship_data=ship_data, propeller_coefficients=propeller_coefficients, add_constant=add_constant) \n",
    "data_predicted_thrust = predict(model_pos=model_pos, model_neg=model_neg, data=data_sub_train, propeller_coefficients=propeller_coefficients, \n",
    "                                ship_data=ship_data)\n",
    "\n",
    "regression_abkowitz, parameters = fit_motions(data=data_predicted_thrust, added_masses=added_masses, \n",
    "                                                      ship_data=ship_data, vmm=vmm, exclude_parameters=exclude_parameters)\n",
    "\n",
    "ship_model_abkowitz = create_full_model_from_motion_regression(regression=regression_abkowitz, \n",
    "                                                                  model_pos=model_pos, \n",
    "                                                                  model_neg=model_neg, \n",
    "                                                                  propeller_coefficients=propeller_coefficients)"
   ]
  },
  {
   "cell_type": "markdown",
   "id": "a988913e-c012-48ff-a044-9637419d02e2",
   "metadata": {},
   "source": [
    "Forces and moment for the hull, rudder and propeller predicted with the VMM:s fitted on the training set are show in [fig](fig_kvlcc2_validation_forces). \n",
    "Simulations of the validation cases where therfore only possible with the simplified Abkowitz model as shown for one of the ZigZag20/20 validation cases in [fig](fig_kvlcc2_validation_sim).\n",
    "\n",
    "```{glue:figure} fig_kvlcc2_validation_forces\n",
    ":figwidth: 1000px\n",
    ":name: \"fig_kvlcc2_validation_forces\"\n",
    "\n",
    "Validation of force models for KVLCC2.\n",
    "```\n",
    "\n",
    "```{glue:figure} fig_kvlcc2_validation_sim\n",
    ":figwidth: 1000px\n",
    ":name: \"fig_kvlcc2_validation_sim\"\n",
    "\n",
    "Validation with simulations for KVLCC2.\n",
    "```"
   ]
  },
  {
   "cell_type": "code",
   "execution_count": null,
   "id": "30e87808-58cd-4cbe-906c-388979850c37",
   "metadata": {
    "tags": [
     "remove-cell"
    ]
   },
   "outputs": [],
   "source": [
    "validation_martin = regression_martin.predict(data_validation)\n",
    "validation_abkowitz = regression_abkowitz.predict(data_validation)\n",
    "\n",
    "data_predicted_thrust = predict(model_pos=model_pos, model_neg=model_neg, data=data_validation, propeller_coefficients=propeller_coefficients, \n",
    "                                ship_data=ship_data)\n",
    "\n",
    "validation_martin['thrust'] = data_predicted_thrust['thrust']\n",
    "validation_abkowitz['thrust'] = data_predicted_thrust['thrust']\n",
    "\n",
    "fig,axes=plt.subplots(nrows=4)\n",
    "\n",
    "for ax,dof in zip(axes,['thrust','fx','fy','mz']):\n",
    "    \n",
    "    validation_abkowitz.plot(y=dof,ax=ax, label='Validation Abkowitz')\n",
    "    validation_martin.plot(y=dof,ax=ax, label='Validation Simplified Abkowitz')\n",
    "    data_validation.plot(y=dof,ax=ax, label='True')\n",
    "    \n",
    "    ax.set_ylabel(dof)\n",
    "    ax.set_xlabel('sample')\n",
    "    ax.get_legend().set_visible(False)\n",
    "    \n",
    "axes[0].legend();\n",
    "glue(\"fig_kvlcc2_validation_forces\",fig, display=False)"
   ]
  },
  {
   "cell_type": "code",
   "execution_count": null,
   "id": "ee322735-d40b-4fca-909e-b59baa1afa2e",
   "metadata": {
    "tags": [
     "remove-cell"
    ]
   },
   "outputs": [],
   "source": [
    "for id_validation in ids_test[0:1]:\n",
    "    \n",
    "    df_test = catalog.load(f'{ship}.updated.{id_validation}.data_ek_smooth')\n",
    "    result_martin = ship_model_martin.simulate(df_test.drop(columns=['thrust']))   \n",
    "    \n",
    "        \n",
    "    df_result = result_martin.result.copy()\n",
    "    df_result['thrust'] = predict(model_pos=model_pos, \n",
    "                                                   model_neg=model_neg, \n",
    "                                                   data=df_result, \n",
    "                                                   propeller_coefficients=propeller_coefficients, \n",
    "                                                   ship_data=ship_data)['thrust']\n",
    "    \n",
    "    dataframes = {'True':df_test,\n",
    "                 'Validation Simplified Abkowitz': df_result,\n",
    "                 }\n",
    "    \n",
    "    #try:\n",
    "    #    result_abkowitz = ship_model_abkowitz.simulate(df_test)\n",
    "    #except:\n",
    "    #    pass\n",
    "    #else:\n",
    "    #    dataframes['Abkowitz']=result_abkowitz.result\n",
    "    \n",
    "    track_plots(dataframes, lpp=ship_data['L'], beam=ship_data['B'],  N=2);\n",
    "    fig = plot(dataframes=dataframes, keys=['thrust','u','v','r'], ncols=1, zero_origo=True);\n",
    "\n",
    "glue(\"fig_kvlcc2_validation_sim\",fig, display=False)"
   ]
  },
  {
   "cell_type": "code",
   "execution_count": null,
   "id": "d03a6684-2f43-4663-8b15-e683a5e841be",
   "metadata": {
    "tags": [
     "remove-cell"
    ]
   },
   "outputs": [],
   "source": [
    "#df_test = catalog.load(f'{ship}.updated.{id_test}.data_ek_smooth')\n",
    "ek = catalog.load(f\"{ship}.{vmm_name}.ek\")"
   ]
  },
  {
   "cell_type": "code",
   "execution_count": null,
   "id": "7f8c3f8d-8d03-4563-b2ca-f5cd1431a183",
   "metadata": {
    "tags": [
     "remove-cell"
    ]
   },
   "outputs": [],
   "source": [
    "add_constant = False\n",
    "model_pos, model_neg = fit(data=data_train, ship_data=ship_data, propeller_coefficients=propeller_coefficients, add_constant=add_constant) \n",
    "data_predicted_thrust = predict(model_pos=model_pos, model_neg=model_neg, data=data_train, propeller_coefficients=propeller_coefficients, \n",
    "                                ship_data=ship_data)\n",
    "\n",
    "regression_martin, parameters = fit_motions(data=data_predicted_thrust, added_masses=added_masses, \n",
    "                                                      ship_data=ship_data, vmm=vmm_martin, exclude_parameters=exclude_parameters)\n",
    "\n",
    "ship_model_martin = create_full_model_from_motion_regression(regression=regression_martin, \n",
    "                                                                  model_pos=model_pos, \n",
    "                                                                  model_neg=model_neg, \n",
    "                                                                  propeller_coefficients=propeller_coefficients)\n",
    "\n",
    "catalog.save(f\"{ ship }.updated.vmm_martins_simple.joined.regression\",\n",
    "             regression_martin)\n",
    "\n",
    "catalog.save(f\"{ ship }.propeller_model_pos\",\n",
    "             model_pos)\n",
    "\n",
    "catalog.save(f\"{ ship }.propeller_model_neg\",\n",
    "             model_neg)\n",
    "\n"
   ]
  },
  {
   "cell_type": "code",
   "execution_count": null,
   "id": "c940c907-fc98-4b56-8829-17ded852c0d5",
   "metadata": {
    "tags": [
     "remove-cell"
    ]
   },
   "outputs": [],
   "source": [
    "test_prediction = {}\n",
    "\n",
    "for id, df_test in data_testing.groupby(by='id', sort=False):\n",
    "    \n",
    "    result_martin = ship_model_martin.simulate(df_test)   \n",
    "    \n",
    "    df_result = result_martin.result.copy()\n",
    "    df_result['thrust'] = predict(model_pos=model_pos, \n",
    "                                                   model_neg=model_neg, \n",
    "                                                   data=df_result, \n",
    "                                                   propeller_coefficients=propeller_coefficients, \n",
    "                                                   ship_data=ship_data)['thrust']\n",
    "    \n",
    "    \n",
    "    test_prediction[id] = df_result\n",
    "    "
   ]
  },
  {
   "cell_type": "code",
   "execution_count": null,
   "id": "8380bb49-9370-472d-958e-6e0b60222489",
   "metadata": {
    "tags": [
     "remove-cell"
    ]
   },
   "outputs": [],
   "source": [
    "test_true = data_testing.id.unique()\n",
    "for id in test_true:\n",
    "    dataframes = {\n",
    "        'True' : data_testing.groupby(by='id', sort=False).get_group(id),\n",
    "        'Test Simplified Abkowitz' : test_prediction[id],\n",
    "            \n",
    "    }\n",
    "    track_plots(dataframes, lpp=ship_data['L'], beam=ship_data['B'],  styles=styles, N=2);\n",
    "    fig = plot(dataframes=dataframes, keys=['u','v','r','psi'], ncols=1,);\n"
   ]
  },
  {
   "cell_type": "code",
   "execution_count": null,
   "id": "09325291-cf27-44e6-b784-db99f5462221",
   "metadata": {
    "tags": [
     "remove-cell"
    ]
   },
   "outputs": [],
   "source": [
    "test_true = data_testing.id.unique()\n",
    "id = test_true[0]\n",
    "dataframes = {\n",
    "    'True' : data_testing.groupby(by='id', sort=False).get_group(id),\n",
    "    'Test Simplified Abkowitz' : test_prediction[id],\n",
    "        \n",
    "}\n",
    "track_plots(dataframes, lpp=ship_data['L'], beam=ship_data['B'],  styles=styles, N=2);\n",
    "fig = plot(dataframes=dataframes, keys=['u','v','r'], ncols=1,);\n",
    "glue(\"fig_kvlcc2_testing_sim\",fig, display=False)"
   ]
  },
  {
   "cell_type": "code",
   "execution_count": null,
   "id": "bab4e798-859b-4f5e-ab30-955e02f49bf7",
   "metadata": {
    "tags": [
     "remove-cell"
    ]
   },
   "outputs": [],
   "source": [
    "true_turning_circle = pd.DataFrame()\n",
    "prediction_turning_circle = pd.DataFrame()\n",
    "\n",
    "for id, df_result in test_prediction.items():\n",
    "    \n",
    "    df_test = data_testing.groupby(by='id', sort=False).get_group(id)\n",
    "    \n",
    "    if 'tc' in id:\n",
    "        \n",
    "        turning_circle = TurningCircle(angle=35, nominal_speed=df_test['U'].iloc[0], lpp=ship_data['L'], df=df_test)\n",
    "        true_turning_circle[id] = pd.Series(turning_circle.evaluate(), name='True')\n",
    "        \n",
    "        df_result['V'] = np.sqrt(df_result['u']**2 + df_result['v']**2)\n",
    "        turning_circle = TurningCircle(angle=35, nominal_speed=df_test['U'].iloc[0], lpp=ship_data['L'], df=df_result)\n",
    "        prediction_turning_circle[id] = pd.Series(turning_circle.evaluate(), name='Test Simplified Abkowitz')\n",
    "\n",
    "true_turning_circle.drop(index='units',inplace=True)\n",
    "prediction_turning_circle.drop(index='units',inplace=True)"
   ]
  },
  {
   "cell_type": "code",
   "execution_count": null,
   "id": "38b98f40-46ed-4b23-9c92-82c5e7d7028f",
   "metadata": {
    "tags": [
     "remove-cell"
    ]
   },
   "outputs": [],
   "source": [
    "prediction_turning_circle"
   ]
  },
  {
   "cell_type": "code",
   "execution_count": null,
   "id": "4bd75c6b-14a8-4f75-b5bc-234a583ec52e",
   "metadata": {
    "tags": [
     "remove-cell"
    ]
   },
   "outputs": [],
   "source": [
    "df_advance = pd.DataFrame()\n",
    "df_advance['True'] = true_turning_circle.loc['advance']\n",
    "df_advance['Prediction'] = prediction_turning_circle.loc['advance']\n",
    "df_advance['IMO'] = prediction_turning_circle.loc['Advance (IMO)']\n",
    "df_advance['delta'] = [35,-35]\n",
    "#glue(\"tab_advance\",df_advance)\n",
    "df_advance=df_advance.astype(float)"
   ]
  },
  {
   "cell_type": "code",
   "execution_count": null,
   "id": "d01a70dc-8bba-4b5a-95c6-83a6bdb7e3c5",
   "metadata": {
    "tags": [
     "remove-cell"
    ]
   },
   "outputs": [],
   "source": [
    "df_tactical_diameter = pd.DataFrame()\n",
    "df_tactical_diameter['True'] = true_turning_circle.loc['tactical_diameter']\n",
    "df_tactical_diameter['Prediction'] = prediction_turning_circle.loc['tactical_diameter']\n",
    "df_tactical_diameter['IMO'] = prediction_turning_circle.loc['Tactical diameter (IMO)']\n",
    "df_tactical_diameter['delta'] = [35,-35]\n",
    "#glue(\"tactical_diameter\",df_tactical_diameter)\n",
    "df_tactical_diameter=df_tactical_diameter.astype(float)"
   ]
  },
  {
   "cell_type": "code",
   "execution_count": null,
   "id": "7890bfae-896f-426c-a48a-c8ddee0b167c",
   "metadata": {
    "tags": [
     "remove-cell"
    ]
   },
   "outputs": [],
   "source": [
    "df_table = df_advance[['delta']]\n",
    "df_table.rename({'delta':'rudder angle [deg]'})\n",
    "df_table['A (model test) [m]'] = df_advance['True']\n",
    "df_table['A (prediction) [m]'] = df_advance['Prediction']\n",
    "df_table['A (IMO) [m]'] = df_advance['IMO']\n",
    "\n",
    "df_table['TD (model test) [m]'] = df_tactical_diameter['True']\n",
    "df_table['TD (prediction) [m]'] = df_tactical_diameter['Prediction']\n",
    "df_table['TD (IMO) [m]'] = df_tactical_diameter['IMO']"
   ]
  },
  {
   "cell_type": "code",
   "execution_count": null,
   "id": "c86d1043-48cd-4398-b73f-6de833a3b421",
   "metadata": {
    "tags": [
     "remove-cell"
    ]
   },
   "outputs": [],
   "source": [
    "def accuracy(df):\n",
    "    return ((df['True']-df['Prediction'])/df['True']*100.0).abs().astype(float)\n",
    "\n",
    "accuracy_advance = accuracy(df_advance).mean()\n",
    "accuracy_tactical_diameter = accuracy(df_tactical_diameter).mean()\n",
    "\n",
    "glue(\"kvlcc2_accuracy_advance\", int(np.round(accuracy_advance,0)))\n",
    "glue(\"kvlcc2_tactical_diameter\", int(np.round(accuracy_tactical_diameter,0)))\n",
    "\n"
   ]
  },
  {
   "cell_type": "markdown",
   "id": "0eb0feb5-fc5b-4368-9e44-81719a9724b7",
   "metadata": {},
   "source": [
    "Result from the final prediction of the turning cirlce test is seen in [fig](fig_kvlcc2_testing_sim). The prediction is conducted using simulation with the Simplified Abkowitz model trained on the training and validation dataset.\n",
    "\n",
    "```{glue:figure} fig_kvlcc2_testing_sim\n",
    ":figwidth: 1000px\n",
    ":name: \"fig_kvlcc2_testing_sim\"\n",
    "\n",
    "Comparison between predicted Turning circle test with Simplified Abkowitz model trained on HSVA data and MARIN model test results for KVLCC2.\n",
    "```"
   ]
  },
  {
   "cell_type": "code",
   "execution_count": null,
   "id": "d1a36aff-d336-4570-8c1c-7dcaabf11dde",
   "metadata": {
    "tags": [
     "remove-cell"
    ]
   },
   "outputs": [],
   "source": [
    "table_advance = df_advance.round(decimals=2)[['delta','True','Prediction','IMO']]\n",
    "\n",
    "\n",
    "print(df_to_myst(df_table.round(decimals=2), \n",
    "                 title=\"KVLCC2 Predicted turning circle advance (A) and tactical diameter (TD) compared to MARIN model tests and IMO limit\",\n",
    "                 name=\"tab_kvlcc2_advance\",\n",
    "                 include_index=False)\n",
    "                 )"
   ]
  }
 ],
 "metadata": {
  "citation-manager": {
   "items": {}
  },
  "kernelspec": {
   "display_name": "wPCC_pipeline",
   "language": "python",
   "name": "python3"
  },
  "language_info": {
   "codemirror_mode": {
    "name": "ipython",
    "version": 3
   },
   "file_extension": ".py",
   "mimetype": "text/x-python",
   "name": "python",
   "nbconvert_exporter": "python",
   "pygments_lexer": "ipython3",
   "version": "3.7.9"
  }
 },
 "nbformat": 4,
 "nbformat_minor": 5
}
