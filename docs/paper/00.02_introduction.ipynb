{
 "cells": [
  {
   "cell_type": "markdown",
   "id": "5064cf8f-e13c-4d97-8b07-c556bd7e875e",
   "metadata": {
    "tags": []
   },
   "source": [
    "# Introduction"
   ]
  },
  {
   "cell_type": "markdown",
   "id": "d8c6f02f-d6d7-4237-9162-180bfb0149d9",
   "metadata": {
    "tags": [
     "remove-cell"
    ]
   },
   "source": [
    "* *What field is researched and why, who has contributed to the area (references)*\n",
    "* *State why the problem you address is important*\n",
    "* *Models: physical model tests, various numerical models with different purposes which also need a different type of data (references)*"
   ]
  },
  {
   "cell_type": "markdown",
   "id": "eeb0052c-5d30-4eae-b82c-8cf6861367ff",
   "metadata": {
    "tags": [
     "remove-cell"
    ]
   },
   "source": [
    "## Bakground"
   ]
  },
  {
   "cell_type": "markdown",
   "id": "16082228-1ada-4503-a3df-77015a4efe07",
   "metadata": {
    "tags": []
   },
   "source": [
    "Prediction of a ship's manoeuvring performance is required in many applications, such as the maneuverability requirement for ship design and construction, the design of advanced ship autopilot systems, or master mariners' training simulators. Ship manoeuvring performance can be assessed with varying accuracy, effort, and cost. The full-scale manoeuvring test during sea trials is the most common method used to demonstrate compliance with the International Maritime Organization (IMO) manoeuvring criteria $\\cite{imo_standards_2002}$, which all ships over 100 meters must fulfill. However, manoeuvring prediction methods are needed before ships are built. The free model test is often recognized as the most accurate prediction method $\\cite{ittc_maneuvering_2008}$.\n",
    "This method only gives results for one specific maneuver, whereas alternative maneuvers require conducting new tests and significant efforts. Some complex maneuvers, such as harbor maneuvers, are also complicated to conduct in a free model test.\n",
    "Instead, the system-based manoeuvring simulation is used where captive model tests can be conducted as inputs to a Vessel Manoeuvring Model (VMM). These tests are costly, and the increased flexibility of the mathematical model gives lower accuracy $\\cite{ittc_maneuvering_2008}$.\n",
    "System identification methods applied to the free model tests offer a more cost-efficient way to develop VMMs.\n",
    "\n",
    "Both statistical regression and Non-parametric black box approaches have been used for the system identification $\\cite{he_nonparametric_2022}$.  However, most of today's system identification methods for developing ship manoeuvring models assume a predefined mathematical model, reducing the problem to a parameter identification.\n",
    "The Kalman Filter (KF) combined with Maximum Likelihood Estimation was proposed already in 1976 $\\cite{astrom_identification_1976}$ to develop a linear manoeuvring model based on manually recorded data in 1969 onboard the Atlantic Song freighter. The Extended Kalman Filter (EKF) can also estimate parameters if the parameters are represented as states of the state space model. This technique was used on a nonlinear Nomoto model $\\cite{perera_system_2015}$ and a 3 degree of freedom model (3DOF) $\\cite{shi_identification_2009}$ based on simulated data.\n",
    "Support Vector Regression (SVR) has been investigated using simulated data in $\\cite{zhu_parameter_2017}$ and $\\cite{wang_parameter_2021}$ and using measured data from free model tests in $\\cite{luo_parameter_2016}$.\n",
    "\n",
    "% \n",
    "The drift effect of the hydrodynamic coefficients is inevitable in modeling of ship manoeuvring motions by using the System Identification (SI) techniques. The drifts of hydrodynamic coefficients result from the so-called multicollinearity, meaning that if the input variables of a regression model are firmly linearly dependent on each other, the regression results of their coefficients may be incorrect $\\cite{luo_parameter_2016}$. The identified coefficients within the mathematical model do not have to be physically correct but mathematically correct $\\cite{ittc_maneuvering_2008}$. Many nonlinear hydrodynamic coefficients in the mathematical model of ship manoeuvring motions have no apparent physical meaning $\\cite{luo_parameter_2016}$. Multicollinearity can be reduced by reducing the number of parameters in the model, either by simplification or adding more deterministic parts by including hydrodynamic relations. For instance, slender body theory can be added $\\cite{hwang_cancellation_1982}$. Simplification can be based on hydrodynamic reasoning where the number of parameters can be reduced $\\cite{luo_parameter_2016}$."
   ]
  },
  {
   "cell_type": "markdown",
   "id": "33ecaa56-c4f8-478f-9155-fd811e88cfb2",
   "metadata": {
    "tags": [
     "remove-cell"
    ]
   },
   "source": [
    "## Objective/Goal\n",
    "* *State what is lacking in the current knowledge*\n",
    "* *Objective of the study: what makes this study unique, what do we promise*"
   ]
  },
  {
   "cell_type": "markdown",
   "id": "0adf86db-46da-42a8-bad2-d4e18b3ed5e4",
   "metadata": {},
   "source": [
    "However, system identification methods must handle imperfections in the data from measurement noise and model uncertainty of the VMM, which will always be present since the model can never perfectly capture all fundamental physics. When developing a VMM with model test data for manoeuvring prediction, preprocessing of data and a method to choose an appropriate VMM are needed $\\cite{alexandersson_comparison_2022}$.\n",
    "This paper proposes an innovative approach to address those issues for ship manoeuvring system identification based on actual noise test data. First, a Parameter Identification Technique (PIT) is proposed to study the capability of several candidate VMMs. Model test data in all degrees of freedom is recorded as ship trajectories, including position and heading and thrust, where a model for propeller thrust is also proposed and further developed. In this method, the inverse dynamics regression and Extended Kalman Filter (EKF) with a Rauch Tung Striebel (RTS) smoother $\\cite{rauch_maximum_1965}$ are proposed for necessary data cleaning before feeding into the VMMs. An iterative approach is adopted to determine the most appropriate VMM. The multicollinearity problem is addressed by identifying a ship manoeuvring system with proper parameters in the VMM. The proposed approach is verified by identifying a selected VMM and predicting turning circle manoeuvres for two different test vessels."
   ]
  },
  {
   "cell_type": "markdown",
   "id": "268914e9-1399-41bc-8e3e-bc6ea2fe6f7d",
   "metadata": {
    "tags": [
     "remove-cell"
    ]
   },
   "source": [
    "## Outline"
   ]
  },
  {
   "cell_type": "markdown",
   "id": "7d1b19b3-cd4f-44c5-b39c-511c5589714f",
   "metadata": {},
   "source": [
    "For the completeness of this paper, different VMMs and propeller models are briefly introduced in {numref}`vmm`. Then the proposed PIT algorithm to identify the parameters in the VMMs is presented in {numref}`method`, where each subcomponent is also described. The PIT is applied to two case study ships which are introduced in {numref}`case_studies` and corresponding results are presented in the {numref}`results`, followed by conclusions."
   ]
  }
 ],
 "metadata": {
  "citation-manager": {
   "items": {}
  },
  "kernelspec": {
   "display_name": "wPCC_pipeline",
   "language": "python",
   "name": "python3"
  },
  "language_info": {
   "codemirror_mode": {
    "name": "ipython",
    "version": 3
   },
   "file_extension": ".py",
   "mimetype": "text/x-python",
   "name": "python",
   "nbconvert_exporter": "python",
   "pygments_lexer": "ipython3",
   "version": "3.7.9"
  }
 },
 "nbformat": 4,
 "nbformat_minor": 5
}
