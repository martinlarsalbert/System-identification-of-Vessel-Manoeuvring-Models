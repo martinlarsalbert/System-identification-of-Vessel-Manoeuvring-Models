{
 "cells": [
  {
   "cell_type": "markdown",
   "id": "5064cf8f-e13c-4d97-8b07-c556bd7e875e",
   "metadata": {
    "tags": []
   },
   "source": [
    "# Introduction"
   ]
  },
  {
   "cell_type": "markdown",
   "id": "d8c6f02f-d6d7-4237-9162-180bfb0149d9",
   "metadata": {
    "tags": [
     "remove-cell"
    ]
   },
   "source": [
    "* *What field is researched and why, who has contributed to the area (references)*\n",
    "* *Models: physical model tests, various numerical models with different purposes which also need a different type of data (references)*"
   ]
  },
  {
   "cell_type": "markdown",
   "id": "8fa3c16d-4ca0-4f6d-aeea-100290e8fc08",
   "metadata": {},
   "source": [
    "## Bakground\n",
    "\n",
    "The manoeuvring performance of ships can be assessed in many ways, where model test with a free moving model is the most established and accurate method to confirm the compliance with the IMO standards. Going beyond the results from a model test campaign, looking at alternative scenarios with other speeds or entirely other manoeuvres or even bridge simulations, a prediction model is needed. The prediction model is usually developed with system identification. \n",
    "System identification aims at identifying a system from observations. If a parameterized model is further assumed, Parameter Identification Technique (PIT) can be applied. The system identification uses a PIT to identify the hydrodynamic derivatives (parameters) in a VMM. The VMM:s solves the equation of motion and models the hydrodynamic forces. \n",
    "The classical VMM:s (Abkowitz, 1964), (Clarke et al., 1982), (Nomoto et al., 1957) express the hydrodynamic forces as a function of the current state expressed as polynomials where the coefficients are called hydrodynamic derivatives. Most of the VMM:s where developed many year ago but there is also more recent development as the MMG model (Yasukawa and Yoshimura, 2015). "
   ]
  },
  {
   "cell_type": "markdown",
   "id": "33ecaa56-c4f8-478f-9155-fd811e88cfb2",
   "metadata": {
    "tags": [
     "remove-cell"
    ]
   },
   "source": [
    "* *Objective of the study: what makes this study unique, what do we promise*"
   ]
  },
  {
   "cell_type": "markdown",
   "id": "c24c5b04-f8c9-41c6-a07a-69b588a8d6c3",
   "metadata": {},
   "source": [
    "## Objective/Goal\n",
    "A system for ship manoeuvring should be identified based on model test data recorded as ship trajectories (position and heading) from manoeuvring model tests with a ship model free in all degrees of freedoms. The system is further assumed to be described by a Vessel Manoeuvring Model (VMM). The System identification can then be simplified into parameter identification of the assumed model. A Parameter Identification Technique (PIT) for this purpose is presented in this paper.\n",
    "\n",
    "## Outline\n",
    "The PIT algorithm is introduced in section 2 where each subcomponent is also described in detailed subsections. Section 3 shows how the PIT is applied on three test cases and all conclusions can be found in section 4. "
   ]
  },
  {
   "cell_type": "code",
   "execution_count": null,
   "id": "398d8501-8de0-42af-b147-0c680f587974",
   "metadata": {},
   "outputs": [],
   "source": []
  }
 ],
 "metadata": {
  "citation-manager": {
   "items": {}
  },
  "kernelspec": {
   "display_name": "wPCC_pipeline",
   "language": "python",
   "name": "python3"
  },
  "language_info": {
   "codemirror_mode": {
    "name": "ipython",
    "version": 3
   },
   "file_extension": ".py",
   "mimetype": "text/x-python",
   "name": "python",
   "nbconvert_exporter": "python",
   "pygments_lexer": "ipython3",
   "version": "3.7.9"
  }
 },
 "nbformat": 4,
 "nbformat_minor": 5
}
