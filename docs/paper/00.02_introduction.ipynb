{
 "cells": [
  {
   "cell_type": "markdown",
   "id": "c4c9628b-dc50-43c0-9959-5e702f6caf8b",
   "metadata": {},
   "source": [
    "# Introduction\n",
    "The manoeuvring performance of ships can be assessed in many ways, where model test with a free moving model is the most established and accurate method to confirm the compliance with the IMO standards. Going beyond the results from a model test campaign, looking at alternative scenarios with other speeds or entirely other manoeuvres or even bridge simulations, a prediction model is needed. The prediction model is usually developed with system identification. \n",
    "System identification aims at identifying a system from observations. If a parameterized model is further assumed, Parameter Identification Technique (PIT) can be applied. The system identification uses a PIT to identify the hydrodynamic derivatives (parameters) in a VMM. The VMM:s solves the equation of motion and models the hydrodynamic forces. \n",
    "The classical VMM:s (Abkowitz, 1964), (Clarke et al., 1982), (Nomoto et al., 1957) express the hydrodynamic forces as a function of the current state expressed as polynomials where the coefficients are called hydrodynamic derivatives. Most of the VMM:s where developed many year ago but there is also more recent development as the MMG model (Yasukawa and Yoshimura, 2015). \n",
    "\n",
    "## Objective/Goal\n",
    "A system for ship manoeuvring should be identified based on model test data recorded as ship trajectories (position and heading) from manoeuvring model tests with a ship model free in all degrees of freedoms. The system is further assumed to be described by a Vessel Manoeuvring Model (VMM). The System identification can then be simplified into parameter identification of the assumed model. A Parameter Identification Technique (PIT) for this purpose is presented in this paper.\n",
    "\n",
    "## Outline\n",
    "The PIT algorithm is introduced in section 2 where each subcomponent is also described in detailed subsections. Section 3 shows how the PIT is applied on three test cases and all conclusions can be found in section 4. "
   ]
  }
 ],
 "metadata": {
  "citation-manager": {
   "items": {}
  },
  "kernelspec": {
   "display_name": "wPCC_pipeline",
   "language": "python",
   "name": "python3"
  },
  "language_info": {
   "codemirror_mode": {
    "name": "ipython",
    "version": 3
   },
   "file_extension": ".py",
   "mimetype": "text/x-python",
   "name": "python",
   "nbconvert_exporter": "python",
   "pygments_lexer": "ipython3",
   "version": "3.7.9"
  }
 },
 "nbformat": 4,
 "nbformat_minor": 5
}
