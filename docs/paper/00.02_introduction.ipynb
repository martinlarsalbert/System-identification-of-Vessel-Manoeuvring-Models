{
 "cells": [
  {
   "cell_type": "markdown",
   "id": "5064cf8f-e13c-4d97-8b07-c556bd7e875e",
   "metadata": {
    "tags": []
   },
   "source": [
    "# Introduction"
   ]
  },
  {
   "cell_type": "markdown",
   "id": "d8c6f02f-d6d7-4237-9162-180bfb0149d9",
   "metadata": {
    "tags": [
     "remove-cell"
    ]
   },
   "source": [
    "* *What field is researched and why, who has contributed to the area (references)*\n",
    "* *Models: physical model tests, various numerical models with different purposes which also need a different type of data (references)*"
   ]
  },
  {
   "cell_type": "markdown",
   "id": "8fa3c16d-4ca0-4f6d-aeea-100290e8fc08",
   "metadata": {},
   "source": [
    "## Bakground\n",
    "\n",
    "The manoeuvring performance of ships can be assessed in many ways, with varying accuracy, effort and cost.\n",
    "Full scale manoeuvres is the most reliable method and is used to demonstrate the compliance with the IMO standards {cite:p}`imo_standards_2002` which applies to all ships longer than 100 m. \n",
    "There is a wide range of applications where the ship manoeuvring performance needs to be predicted: before the ship is build or in predictions for existing ships using mathematical models in simulators or advanced autopilots.\n",
    "Free model test is the most accurate prediction method {cite:p}`ittc_maneuvering_2008` which is often used in the design stage. Predictions based on empirical methods can also be used in the earlier design stage, with lower accuracy and lower cost. Free model test cannot be used to create mathematical models for simulators directly. Instead captive model tests can be used for this purpose. These tests are more costly and the increased flexibility of the developed mathematical model unfortunatelly also gives lower accuracy {cite:p}`ittc_maneuvering_2008`. The captive tests can also be calculated with Virtual Captive Tests (VCT) using CFD {cite:p}`dai_manoeuvring_2019`. \n",
    "Mathematical models can however be developed from free model tests (or full scale manoeuvres) if system identification is used, so that results from these tests can also be used for simulators.\n",
    "\n",
    "Many methods for system identification of ship manoeuvring have been proposed over the years. Most of the methods include a regression model and sometimes also a filter to handle measurement noise. \n",
    "\n",
    "One method was proposed already in 1969 {cite:p}`astrom_identification_1976` on data that was manually recorded onboard the Atlantic Song freighter with a linear model, Kalman Filter and Maximum Likelihood Estimation. \n",
    "\n",
    "The Extended Kalman Filter can be used to filter measurement data as well as parameter identification (PIT) if the parameters are represented as states of the state space model. This technique was used on simulated data with a nonlinear Nomoto model for ship heading {cite:p}`perera_system_2015`. The same techique was also used with a 3 degree of fredome model (3DOF) on simulated data {cite:p}`shi_identification_nodate`. \n",
    "\n",
    "Most of the methods estimates parameters in an assumed a Vessel Manoeuvring Model (VMM). Black box approaches using Artificial Neural Networks (ANN) have also been used on simulated data {cite:p}`he_black-box_2020`.\n",
    "The ANN are sensitive to measurement noise which is why Support Vector Regression (SVR) has become very popular, where the penalty factor can be tuned to better handle measurement noise which has been used on simulated data in {cite:p}`zhu_parameter_2017` and {cite:p}`wang_parameter_2021`. The SVR has also bee used on measured data from free model tests {cite:p}`luo_parameter_2016-1`\n",
    "\n",
    "System identification aims at identifying a system from observations. If a parameterized model is further assumed, Parameter Identification Technique (PIT) can be applied. The system identification uses a PIT to identify the hydrodynamic derivatives (parameters) in a VMM. The VMM:s solves the equation of motion and models the hydrodynamic forces. \n",
    "The classical VMM:s (Abkowitz, 1964), (Clarke et al., 1982), (Nomoto et al., 1957) express the hydrodynamic forces as a function of the current state expressed as polynomials where the coefficients are called hydrodynamic derivatives. Most of the VMM:s where developed many year ago but there is also more recent development as the MMG model (Yasukawa and Yoshimura, 2015). "
   ]
  },
  {
   "cell_type": "markdown",
   "id": "33ecaa56-c4f8-478f-9155-fd811e88cfb2",
   "metadata": {
    "tags": [
     "remove-cell"
    ]
   },
   "source": [
    "* *Objective of the study: what makes this study unique, what do we promise*"
   ]
  },
  {
   "cell_type": "markdown",
   "id": "c24c5b04-f8c9-41c6-a07a-69b588a8d6c3",
   "metadata": {},
   "source": [
    "## Objective/Goal\n",
    "A system for ship manoeuvring should be identified based on model test data recorded as ship trajectories (position and heading) from manoeuvring model tests with a ship model free in all degrees of freedoms. The system is further assumed to be described by a Vessel Manoeuvring Model (VMM). The System identification can then be simplified into parameter identification of the assumed model. A Parameter Identification Technique (PIT) for this purpose is presented in this paper.\n",
    "\n",
    "## Outline\n",
    "The paper is organized as follows. The VMM:s are introduced in the [Model section](vmm). After that the the proposed PIT algorithm to identify the parameters in the VMM:s is introduced in the [Method section](method) where each subcomponent is also described in detailed subsections. The PIT is applied to three case study ships which are introduced in the [Case studies section](case_studies) and corresponding results are presented in the [Results section](results). Conclusions from this research are summarized the [Conslusions section](conclusions)."
   ]
  },
  {
   "cell_type": "code",
   "execution_count": null,
   "id": "398d8501-8de0-42af-b147-0c680f587974",
   "metadata": {},
   "outputs": [],
   "source": []
  }
 ],
 "metadata": {
  "citation-manager": {
   "items": {}
  },
  "kernelspec": {
   "display_name": "wPCC_pipeline",
   "language": "python",
   "name": "python3"
  },
  "language_info": {
   "codemirror_mode": {
    "name": "ipython",
    "version": 3
   },
   "file_extension": ".py",
   "mimetype": "text/x-python",
   "name": "python",
   "nbconvert_exporter": "python",
   "pygments_lexer": "ipython3",
   "version": "3.7.9"
  }
 },
 "nbformat": 4,
 "nbformat_minor": 5
}
