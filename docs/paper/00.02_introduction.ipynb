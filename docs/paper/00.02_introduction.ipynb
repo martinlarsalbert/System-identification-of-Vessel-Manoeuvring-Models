{
 "cells": [
  {
   "cell_type": "markdown",
   "id": "5064cf8f-e13c-4d97-8b07-c556bd7e875e",
   "metadata": {
    "tags": []
   },
   "source": [
    "# Introduction"
   ]
  },
  {
   "cell_type": "markdown",
   "id": "d8c6f02f-d6d7-4237-9162-180bfb0149d9",
   "metadata": {
    "tags": [
     "remove-cell"
    ]
   },
   "source": [
    "* *What field is researched and why, who has contributed to the area (references)*\n",
    "* *State why the problem you address is important*\n",
    "* *Models: physical model tests, various numerical models with different purposes which also need a different type of data (references)*"
   ]
  },
  {
   "cell_type": "markdown",
   "id": "eeb0052c-5d30-4eae-b82c-8cf6861367ff",
   "metadata": {
    "tags": [
     "remove-cell"
    ]
   },
   "source": [
    "## Bakground"
   ]
  },
  {
   "cell_type": "code",
   "execution_count": null,
   "id": "badbc115-f147-4bf0-a7c9-69ada49ff006",
   "metadata": {
    "tags": [
     "remove-cell"
    ]
   },
   "outputs": [],
   "source": [
    "import re\n",
    "\n",
    "with open(\"00.03_introduction.txt\", mode='r', encoding='utf8') as file:\n",
    "    text = file.read()\n",
    "    \n",
    "citations = {\n",
    "    \"IMO02\" : \"imo_standards_2002\",\n",
    "    \"ITT08\" : \"ittc_maneuvering_2008\",\n",
    "    #\"\" : \"dai_manoeuvring_2019\",\n",
    "    #\"\" : \"he_black-box_2020\",\n",
    "    \"Abk64\": \"abkowitz_ship_1964\",\n",
    "    \"HE22\" : \"he_nonparametric_2022\",\n",
    "    \"AK76\" : \"astrom_identification_1976\",\n",
    "    \"POGS15\" : \"perera_system_2015\",\n",
    "    \"SZPS\" : \"shi_identification_nodate\",\n",
    "    \"Luo16\" : \"luo_parameter_2016-1\",\n",
    "    \"WLW+21\" : \"wang_parameter_2021\",\n",
    "    \"Hwa82\" : \"hwang_cancellation_1982\",\n",
    "    \"ZHWB17\" : \"zhu_parameter_2017\",\n",
    "}\n",
    "\n",
    "for find in re.finditer(r\"\\[([^]]+)\", text):\n",
    "    key = find.groups(0)[0]\n",
    "    new_key = citations[key]\n",
    "    text = text.replace(f\"[{key}]\", f\"{{cite:p}}`{new_key}`\")\n",
    "    \n",
    "\n",
    "text = text.replace(\"•\",\"*\")\n",
    "    \n",
    "print(text)"
   ]
  },
  {
   "cell_type": "markdown",
   "id": "2d29c150-9cb2-4025-85b7-7a1b64fdc99e",
   "metadata": {},
   "source": [
    "Prediction of a ship’s manoeuvring performance is required in a wide range of applications such as the manoeuvrability requirement for ship design/construction, design of advanced ship autopilot systems or master mariners’ training simulators. Ship manoeuvring performance can be assessed in many ways, with varying accuracy, effort, and cost. Full scale manoeuvring test is the most reliable method and is used to demonstrate the compliance with the IMO manoeuvring criteria {cite:p}`imo_standards_2002` during sea trials, which all ships longer than 100 must fulfil. Before ships have been build prediction methods are needed, where free model test is the most accurate prediction method {cite:p}`ittc_maneuvering_2008`. The disadvantage with this method is that only results for one specific manoeuvre is obtained at the time, alterative manoeuvres requires new tests to be conducted. Some complex manoeuvres such as port manoeuvres are also very difficult to conduct in a free model test. \n",
    "System based manoeuvring simulation is instead used for this purpose. Captive model tests can conducted as input to the mathematical vessel manoeuvring model (VMM). These tests are more costly and the increased flexibility of the developed mathematical model gives lower accuracy {cite:p}`ittc_maneuvering_2008`. System identification methods can be applied to the free model tests, as an alternative way to develop the mathematical models. \n",
    "\n",
    "Black box approaches for system identification have been investigated for instance using Artificial Neural Networks (ANN) {cite:p}`he_nonparametric_2022`. Most of today’s system identification methods for developing ship manoeuvring models does however assume a pre-defined mathematical model, so that the problem reduces into the parameter identification (PIT) or rather parameter estimation. Most methods include a regression method to fit parameters in a mathematical model and sometimes also a filter to handle measurement noise.\n",
    "Kalman Filter (KF), Extended Kalman Filter (EKF) or machine learning methods such as Support Vector Regression (SVR) are common choices to regress the parameters. The KF/EKF are either used as a pre-processing filter or as the parameter estimator. The KF combined with Maximum Likelihood Estimation was proposed already in 1976 {cite:p}`astrom_identification_1976` to develop a linear manoeuvring model based on data that was manually recorded in 1969 onboard the Atlantic Song freighter. The EKF can also estimate parameters if the parameters are represented as states of the state space model. This technique was used on simulated data with a nonlinear Nomoto model {cite:p}`perera_system_2015`. The same technique was also used with a 3 degree of freedom model (3DOF) on simulated data {cite:p}`shi_identification_2009`.\n",
    "A lot of investigations using machine learning methods have been conducted lately, with the rapid development of new methods within the field. SVR has become very popular, where the penalty factor can be tuned to handle measurement noise. This has been investigated using simulated data in {cite:p}`zhu_parameter_2017` and {cite:p}`wang_parameter_2021` and using measured data from free model tests in {cite:p}`luo_parameter_2016-1`.\n",
    "The drift effect of the hydrodynamic coefficients is inevitable in modelling of ship manoeuvring motions by using the System Identification (SI) techniques. The drifts of hydrodynamic coefficients result from the so-called multicollinearity. It means if the input variables of a regression model are strongly linearly dependent on each other, the regression results of their coefficients may be incorrect {cite:p}`luo_parameter_2016-1`. The identified coefficients within the mathematical model do not have to be physically correct, but mathematically correct {cite:p}`ittc_maneuvering_2008`. In fact, many nonlinear hydrodynamic coefficients in the mathematical model of ship manoeuvring motions have no clear physical meaning {cite:p}`luo_parameter_2016-1`. Multicollinearity can be reduced by reducing the number of parameters in the model, either by simplification or adding more deterministic parts by including hydrodynamic relations for instance by adding slender body theory {cite:p}`hwang_cancellation_1982`. Simplification can be based on hydrodynamic reasoning where the number of parameters in the well-known Abkowitz yaw equation {cite:p}`abkowitz_ship_1964` can be reduced from 22 to 14 {cite:p}`luo_parameter_2016-1`. "
   ]
  },
  {
   "cell_type": "markdown",
   "id": "9dd7c411-1df1-42e2-816e-f9290d7142a3",
   "metadata": {
    "tags": [
     "remove-cell"
    ]
   },
   "source": [
    "### State what is lacking in the current knowledge "
   ]
  },
  {
   "cell_type": "markdown",
   "id": "0adf86db-46da-42a8-bad2-d4e18b3ed5e4",
   "metadata": {},
   "source": [
    "System identification methods must handle imperfections in the data from measurement noise as well as imperfection in the VMM which will always be present since the model can never capture the real physics perfectly. For a real use case developing a VMM with model test data for manoeuvring prediction, preprocessing of data and a way to chose an appropriate VMM is needed. "
   ]
  },
  {
   "cell_type": "markdown",
   "id": "33ecaa56-c4f8-478f-9155-fd811e88cfb2",
   "metadata": {
    "tags": [
     "remove-cell"
    ]
   },
   "source": [
    "## Objective/Goal\n",
    "* *Objective of the study: what makes this study unique, what do we promise*"
   ]
  },
  {
   "cell_type": "markdown",
   "id": "79d1cea5-2c66-437c-8d1e-ba0d8dda57ee",
   "metadata": {},
   "source": [
    "A way to develop VMM:s for manoeuvring prediction based on model test data is proposed in this paper. The System Identification is carried out by using a Parameter Identification Technique (PIT) proposed in this paper, on several candidate VMM:s and then applying a proposed method to select the most appropriate. The problem with multicollinearity is addressed by identifying a ship manoeuvring system with proper parameters in the VMM. \n",
    "The PIT uses model test data recorded as ship trajectories (position and heading) and propeller thrust from manoeuvring model tests with a ship model free in all degrees of freedoms. The method is verified by identifying a proposed VMM and predicting turning circle manoeuvres for two different test vessels. \n",
    "\n",
    "* Monte Carlo simulations using regression covariance (Todo?)\n"
   ]
  },
  {
   "cell_type": "markdown",
   "id": "268914e9-1399-41bc-8e3e-bc6ea2fe6f7d",
   "metadata": {
    "tags": [
     "remove-cell"
    ]
   },
   "source": [
    "## Outline"
   ]
  },
  {
   "cell_type": "markdown",
   "id": "1398fe98-7259-4719-9d17-3e2667bfd944",
   "metadata": {},
   "source": [
    "The left part of this paper is organized as follows. First, different VMMs are briefly introduced in {numref}`vmm`. Then the proposed PIT algorithm to identify the parameters in the VMMs is presented in {numref}`method`, where each subcomponent is also described in details within those subsections. The PIT is applied to two case study ships which are introduced in {numref}`case_studies` and corresponding results are presented in the {numref}`results`, followed by conclusions."
   ]
  }
 ],
 "metadata": {
  "citation-manager": {
   "items": {}
  },
  "kernelspec": {
   "display_name": "wPCC_pipeline",
   "language": "python",
   "name": "python3"
  },
  "language_info": {
   "codemirror_mode": {
    "name": "ipython",
    "version": 3
   },
   "file_extension": ".py",
   "mimetype": "text/x-python",
   "name": "python",
   "nbconvert_exporter": "python",
   "pygments_lexer": "ipython3",
   "version": "3.7.9"
  }
 },
 "nbformat": 4,
 "nbformat_minor": 5
}
