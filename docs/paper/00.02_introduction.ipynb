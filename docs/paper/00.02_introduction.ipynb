{
 "cells": [
  {
   "cell_type": "markdown",
   "id": "5064cf8f-e13c-4d97-8b07-c556bd7e875e",
   "metadata": {
    "tags": []
   },
   "source": [
    "# Introduction"
   ]
  },
  {
   "cell_type": "markdown",
   "id": "d8c6f02f-d6d7-4237-9162-180bfb0149d9",
   "metadata": {
    "tags": [
     "remove-cell"
    ]
   },
   "source": [
    "* *What field is researched and why, who has contributed to the area (references)*\n",
    "* *Models: physical model tests, various numerical models with different purposes which also need a different type of data (references)*"
   ]
  },
  {
   "cell_type": "markdown",
   "id": "8fa3c16d-4ca0-4f6d-aeea-100290e8fc08",
   "metadata": {},
   "source": [
    "## Bakground\n",
    "\n",
    "The manoeuvring performance of ships can be assessed in many ways, with varying accuracy, effort and cost.\n",
    "Full scale manoeuvres is the most reliable method and is used to demonstrate the compliance with the IMO standards {cite:p}`imo_standards_2002` (applicable to all ships longer than 100 m). \n",
    "There is a wide range of applications where the ship manoeuvring performance needs to be predicted: before the ship is build or after, making predictions for existing ships using mathematical models in simulators or advanced autopilots.\n",
    "Free model test is the most accurate prediction method {cite:p}`ittc_maneuvering_2008` which is often used in the design stage. Predictions based on empirical methods can also be used in the earlier design stage, with lower accuracy and lower cost. Free model test cannot be used to create mathematical models for simulators directly. Captive model tests can be used for this purpose. These tests are more costly and the increased flexibility of the developed mathematical model unfortunatelly also gives lower accuracy {cite:p}`ittc_maneuvering_2008`. The captive tests can also be calculated in Virtual Captive Tests (VCT) using CFD {cite:p}`dai_manoeuvring_2019`. \n",
    "Mathematical models can however be developed from free model tests (or full scale manoeuvres) if system identification is used, so that results from these tests can also be used for simulators.\n",
    "\n",
    "Many methods for system identification of ship manoeuvring have been proposed over the years. Most of the methods does system identification by assuming a mathematical model, so that the problem reduces into parameter identification (PIT) or rather parameter estimation. Black box approaches, where a mathematical model is not assumed, have also been investigated for instance using Artificial Neural Networks (ANN) on simulated data {cite:p}`he_black-box_2020`. Most methods include a regression model to fit parameters in a mathematical model and sometimes also a filter to handle measurement noise. \n",
    "\n",
    "Kalman Filters (KF), Extended Kalman Filters (EKF) or machine learning methods such as Support Vector Regression (SVR) are common choices to estimate the parameters. The KF is either used just as a preprocessing filter or can also be used as an parameter estimator.\n",
    "One method to do this was proposed already in 1976 {cite:p}`astrom_identification_1976` on data that was manually recorded in 1969 onboard the Atlantic Song freighter with a linear model, Kalman Filter and Maximum Likelihood Estimation. \n",
    "\n",
    "The EKF can also estimate parameters if the parameters are represented as states of the state space model. This technique was used on simulated data with a nonlinear Nomoto model for ship heading {cite:p}`perera_system_2015`. The same techique was also used with a 3 degree of fredome model (3DOF) on simulated data {cite:p}`shi_identification_nodate`. \n",
    "\n",
    "A lot of investigations using machine learning methods have been conducted lately, with the rapid development of new methods within this field. These methods can be used without a preprocessing filter, if the method can handle measurement noice. SVR has become very popular, where the penalty factor can be tuned to handle measurement noise. This has been investigated using simulated data in {cite:p}`zhu_parameter_2017` and {cite:p}`wang_parameter_2021`. The SVR has also bee used on measured data from free model tests {cite:p}`luo_parameter_2016-1`\n",
    "\n",
    "Drift effect of the hydrodynamic coefficients is inevitable in modeling of ship maneuvering motion by using SI techniques. The drifts of hydrodynamic coefficients result from the so-called multicollinearity. It can be explained that if the input variables of a regression model are strongly linearly dependent on each other, the regression results of their coefficients may be incorrect{cite:p}`luo_parameter_2016-1`. The coefficients which are found do not have to be physically correct, but mathematically correct {cite:p}`ittc_maneuvering_2008`. In fact, many nonlinear hydrodynamic coefficients in the mathematical model of ship manoeuvring motion have no clear physical meaning {cite:p}`luo_parameter_2016-1`. Muticollinearity can be reduced by reducing the number of parameters in the model, either by simplification or adding more deterministic parts by including hydrodynamic relations for instance by adding slender body theory {cite:p}`hwang_cancellation_1982`. Simplification can be based on hydrodynamic reasoning where for instance the number of parameters in Abkowitz yaw equation can be reduced from 22 to 14 {cite:p}`luo_parameter_2016-1`. Multicollinearity can also be reduced by reconstruction of the data samples prior to the regression. Taking the difference between samples on the input (features) and output (label) in the regression is one way to do this that reduces the correlation between the features and multicollinearity {cite:p}`luo_parameter_2016-1`. "
   ]
  },
  {
   "cell_type": "markdown",
   "id": "33ecaa56-c4f8-478f-9155-fd811e88cfb2",
   "metadata": {
    "tags": [
     "remove-cell"
    ]
   },
   "source": [
    "* *Objective of the study: what makes this study unique, what do we promise*"
   ]
  },
  {
   "cell_type": "markdown",
   "id": "c24c5b04-f8c9-41c6-a07a-69b588a8d6c3",
   "metadata": {},
   "source": [
    "## Objective/Goal\n",
    "A system for ship manoeuvring should be identified based on model test data recorded as ship trajectories (position and heading) from manoeuvring model tests with a ship model free in all degrees of freedoms. The system is further assumed to be described by a mathematical Vessel Manoeuvring Model (VMM). The System identification can then be simplified into parameter identification of the assumed model. A Parameter Identification Technique (PIT) for this purpose is presented in this paper. The PIT is applied to two test cases. The problem with multicollinearity of the identified model is also adressed, to propose the best prediction model for each test case.\n",
    "\n",
    "## Outline\n",
    "The paper is organized as follows. The VMM:s are introduced in the [Model section](vmm). After that the the proposed PIT algorithm to identify the parameters in the VMM:s is introduced in the [Method section](method) where each subcomponent of the method is also described in detailed subsections. The PIT is applied to two case study ships which are introduced in the [Case studies section](case_studies) and corresponding results are presented in the [Results section](results). Conclusions from this research are summarized the [Conslusions section](conclusions)."
   ]
  },
  {
   "cell_type": "code",
   "execution_count": null,
   "id": "d22a0d33-2e1c-4cf5-97df-4daa789b21da",
   "metadata": {},
   "outputs": [],
   "source": []
  }
 ],
 "metadata": {
  "citation-manager": {
   "items": {}
  },
  "kernelspec": {
   "display_name": "wPCC_pipeline",
   "language": "python",
   "name": "python3"
  },
  "language_info": {
   "codemirror_mode": {
    "name": "ipython",
    "version": 3
   },
   "file_extension": ".py",
   "mimetype": "text/x-python",
   "name": "python",
   "nbconvert_exporter": "python",
   "pygments_lexer": "ipython3",
   "version": "3.7.9"
  }
 },
 "nbformat": 4,
 "nbformat_minor": 5
}
