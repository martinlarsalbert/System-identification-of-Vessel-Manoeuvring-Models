{
 "cells": [
  {
   "cell_type": "markdown",
   "id": "5064cf8f-e13c-4d97-8b07-c556bd7e875e",
   "metadata": {
    "tags": []
   },
   "source": [
    "# Introduction"
   ]
  },
  {
   "cell_type": "markdown",
   "id": "d8c6f02f-d6d7-4237-9162-180bfb0149d9",
   "metadata": {
    "tags": [
     "remove-cell"
    ]
   },
   "source": [
    "* *What field is researched and why, who has contributed to the area (references)*\n",
    "* *State why the problem you address is important*\n",
    "* *Models: physical model tests, various numerical models with different purposes which also need a different type of data (references)*"
   ]
  },
  {
   "cell_type": "markdown",
   "id": "eeb0052c-5d30-4eae-b82c-8cf6861367ff",
   "metadata": {
    "tags": [
     "remove-cell"
    ]
   },
   "source": [
    "## Bakground"
   ]
  },
  {
   "cell_type": "markdown",
   "id": "f3cf6a9b-61f0-43cc-a62e-aa5d8c1c8035",
   "metadata": {
    "tags": []
   },
   "source": [
    "Ship manoeuvring performance can be assessed with varying accuracy, effort, and cost. The full-scale manoeuvring test during sea trials is the most common method used to demonstrate compliance with the International Maritime Organization (IMO) manoeuvring criteria $\\cite{imo_standards_2002}$, which all ships over 100 meters must fulfill.\n",
    "However before ships are built, manoeuvring prediction methods are needed. The free model test $\\cite{ittc_ittc_2008}$ is often recognized as the most accurate prediction method $\\cite{ittc_maneuvering_2008}$, which can also be conducted with high accuracy in CFD $\\cite{araki_estimating_2012}$. These methods are expensive and they also have the drawback of obtaining only results for one specific maneuver at the time. Some complex maneuvers, such as harbor maneuvers, are also very hard to conduct in this way.\n",
    "The system-based manoeuvring model is a more cost-efficient solution with many applications such as the maneuverability requirement for ship design and construction, the design of advanced ship autopilot systems, unmanned surface vehicles (USVs) $\\cite{bai_review_2022}$ or master mariners' training simulators.  \n",
    "Captive model tests $\\cite{ittc_ittc_2008-1}$, Planar Motion Mechanism tests (PMM) $\\cite{ittc_ittc_2008-1}$ or Virtual captive tests (VCT) $\\cite{liu_predictions_2018}$ can be conducted as input to the manoeuvring model. These tests are also costly, and the increased flexibility of the mathematical model gives lower accuracy $\\cite{ittc_maneuvering_2008}$.\n",
    "\n",
    "System identification methods applied on recorded ship trajectories from free model tests, CFD free running trials $\\cite{araki_estimating_2012}$ or full scale ship operation offers a more cost-efficient way to develop system-based manoeuvring models. \n",
    "Some of the publications within this field are summarized in {numref}`tab_methods`. The methods identifies models that can be categorized into three groups: white-box (WB), grey-box (GB) or black-box models (BB) $\\cite{miller_ship_2021}$. The white-box models are deterministic and are not data driven by applying only physical principles, for instance with semi-empirical formulas which have very low cost but also very low accuracy $\\cite{ittc_maneuvering_2008}$. The black-box models are stochastic and data driven. No knowledge about the system structure and parameters is required $\\cite{miller_ship_2021}$. The grey-box modeling is a combination of white-box and black-box modeling methods, so that both a physical model and data is used.\n",
    "\n",
    "The system identification can be applied on full scale data $\\cite{astrom_identification_1976}$, $\\cite{perera_system_2015}$, $\\cite{revestido_herrero_two-step_2012}$ which has the highest uncertainty, both in terms of model uncertainty and measurement uncertainty which is therefore the hardest task, but also the most relevant. The uncertainty can be reduced by instead using model test data as in $\\cite{araki_estimating_2012}$, $\\cite{he_nonparametric_2022}$, $\\cite{xue_identification_2021}$, $\\cite{miller_ship_2021}$ and $\\cite{luo_parameter_2016}$ . The uncertainty can be further reduced by using simulated data as in $\\cite{shi_identification_2009}$, $\\cite{zhu_parameter_2017}$, $\\cite{wang_parameter_2021}$ which can show the potential of new methods with the benefit that the true model is known, but one also has to remember that the objective is to identify real objects, not its mathematical model $\\cite{miller_ship_2021}$."
   ]
  },
  {
   "cell_type": "markdown",
   "id": "f3db013c-cd97-456b-af1b-742f28505520",
   "metadata": {
    "tags": [
     "remove-cell"
    ]
   },
   "source": [
    "|    Reference                                              |   Data              |   Method                                |BB |GB |\n",
    "| :--------------------------------                         | --------------------| ----------------------------------------|---|--:|\n",
    "| $\\cite{miller_ship_2021}$                                 |  lake test          | Genetic algorithm                       | . |   |\n",
    "| $\\cite{he_nonparametric_2022}$                            |  model test         | Neural network                          | . |   |\n",
    "| $\\cite{xue_identification_2021}$                          |  model test         | Gaussian process                        | . |   |\n",
    "| $\\cite{astrom_identification_1976}$                       |  full scale         | Kalman filter maximum likelihood        |   | . |\n",
    "| $\\cite{revestido_herrero_two-step_2012}$                  |  full scale         | Unscented Kalman filter                 |   | . |\n",
    "| $\\cite{perera_system_2015}$                               |  full scale         | Extended kalman filter                  |   | . |\n",
    "| $\\cite{araki_estimating_2012}$                            |  model test, CFD    | Constrained Least Squares               |   | . |\n",
    "| $\\cite{shi_identification_2009}$                          |  simulated          | Extended kalman filter                  |   | . |\n",
    "| $\\cite{zhu_parameter_2017}$, $\\cite{wang_parameter_2021}$ |  simulated          | SVR                                     |   | . |\n",
    "| $\\cite{luo_parameter_2016}$                               |  model test         | SVR                                     |   | . |"
   ]
  },
  {
   "cell_type": "markdown",
   "id": "56a330d6-a147-4092-9457-a84300daabb0",
   "metadata": {
    "tags": []
   },
   "source": [
    "```{list-table} System identification references\n",
    ":header-rows: 1\n",
    ":name: tab_methods\n",
    "\n",
    "* - Method\n",
    "  - BB\n",
    "  - GB\n",
    "  - Data\n",
    "  - Reference\n",
    "* - Genetic algorithm\n",
    "  - .\n",
    "  - \n",
    "  - lake test\n",
    "  - $\\cite{miller_ship_2021}$\n",
    "* - Neural network \n",
    "  - .\n",
    "  -  \n",
    "  - model test\n",
    "  - $\\cite{he_nonparametric_2022}$\n",
    "* - Gaussian process \n",
    "  - .\n",
    "  -\n",
    "  - model test\n",
    "  - $\\cite{xue_identification_2021}$\n",
    "* - Kalman filter maximum likelihood\n",
    "  - \n",
    "  - .\n",
    "  - full scale\n",
    "  - $\\cite{astrom_identification_1976}$  \n",
    "* - Unscented kalman filter\n",
    "  - \n",
    "  - .\n",
    "  - full scale\n",
    "  - $\\cite{revestido_herrero_two-step_2012}$  \n",
    "* - Extended kalman filter\n",
    "  - \n",
    "  - .\n",
    "  - full scale\n",
    "  - $\\cite{perera_system_2015}$\n",
    "* - Extended kalman filter\n",
    "  - \n",
    "  - .\n",
    "  - simulated\n",
    "  - $\\cite{shi_identification_2009}$\n",
    "* - Constrained Least Squares\n",
    "  - \n",
    "  - .\n",
    "  - model test, CFD\n",
    "  - $\\cite{araki_estimating_2012}$\n",
    "\n",
    "* - SVR\n",
    "  - \n",
    "  - .\n",
    "  - simulated\n",
    "  - $\\cite{zhu_parameter_2017}$, $\\cite{wang_parameter_2021}$\n",
    "* - SVR\n",
    "  - \n",
    "  - .  \n",
    "  - model test\n",
    "  - $\\cite{luo_parameter_2016}$\n",
    "```\n",
    "\n",
    "\n",
    "Black-box modeling was used in $\\cite{he_nonparametric_2022}$, using neural network, and in $\\cite{xue_identification_2021}$, using gaussian process. The nonparametric models are related, where the system structure is known but no parameters are required as seen in $\\cite{pongduang_nonparametric_2020}$. However, most of the system identification methods for ship manoeuvring models use the grey-box modeling by assuming a predefined mathematical model, which reduces the problem to a parameter estimation.\n",
    "The Kalman Filter (KF) combined with Maximum Likelihood Estimation was proposed already in 1976 $\\cite{astrom_identification_1976}$ to develop a linear manoeuvring model based on manually recorded data in 1969 onboard the Atlantic Song freighter. The Extended Kalman Filter (EKF) can also estimate parameters if the parameters are represented as states of the state space model. This technique was used on a nonlinear Nomoto model $\\cite{perera_system_2015}$ and a 3 degree of freedom model (3DOF) $\\cite{shi_identification_2009}$. EKF was used in $\\cite{araki_estimating_2012}$ with constrained parameters based on physical reasoning and prior knowledge using constrained least squares regression. Unscented Kalman Filter (UKF), which has been proposed as an improvement to the EKF in handling nonlinear systems, was used in $\\cite{revestido_herrero_two-step_2012}$.\n",
    "Support Vector Regression (SVR) has been investigated in $\\cite{zhu_parameter_2017}$, $\\cite{wang_parameter_2021}$ and $\\cite{luo_parameter_2016}$. A genetic algorithm was used in $\\cite{miller_ship_2021}$ for the system identification of model test performed on a lake.  \n",
    "\n",
    "The drift effect of the hydrodynamic coefficients is inevitable in modeling of ship manoeuvring motions by using the system identification. The drifts of hydrodynamic coefficients result from the so-called multicollinearity, meaning that if the input variables of a regression model are firmly linearly dependent on each other, the regression results of their coefficients may be incorrect $\\cite{luo_parameter_2016}$. The identified coefficients within the mathematical model do not have to be physically correct but mathematically correct $\\cite{ittc_maneuvering_2008}$. Many nonlinear hydrodynamic coefficients in the mathematical model of ship manoeuvring motions have no apparent physical meaning $\\cite{luo_parameter_2016}$. Multicollinearity can be reduced by reducing the number of parameters in the model, either by simplification or adding more deterministic parts by including hydrodynamic relations. For instance, slender body theory can be added $\\cite{hwang_cancellation_1982}$. Simplification can be based on hydrodynamic reasoning where the number of parameters can be reduced $\\cite{luo_parameter_2016}$."
   ]
  },
  {
   "cell_type": "markdown",
   "id": "33ecaa56-c4f8-478f-9155-fd811e88cfb2",
   "metadata": {
    "tags": [
     "remove-cell"
    ]
   },
   "source": [
    "## Objective/Goal\n",
    "* *State what is lacking in the current knowledge*\n",
    "* *Objective of the study: what makes this study unique, what do we promise*"
   ]
  },
  {
   "cell_type": "markdown",
   "id": "0adf86db-46da-42a8-bad2-d4e18b3ed5e4",
   "metadata": {},
   "source": [
    "However, system identification methods must handle imperfections in the data from measurement noise and model uncertainty of the manoeuvring model, which will always be present since the model can never perfectly capture all fundamental physics. When developing a manoeuvring model with model test data for manoeuvring prediction, preprocessing of data and a method to choose an appropriate manoeuvring model is needed $\\cite{alexandersson_comparison_2022}$.\n",
    "This paper proposes an innovative approach to address those issues for ship manoeuvring system identification based on actual noise test data. First, a parameter estimation method  is proposed to study the capability of several candidate manoeuvring models. Model test data in all degrees of freedom is recorded as ship trajectories, including position and heading and thrust, where a model for propeller thrust is also proposed and further developed. In this method, the inverse dynamics regression and Extended the Kalman Filter (EKF) with a Rauch Tung Striebel (RTS) smoother $\\cite{rauch_maximum_1965}$ are proposed for the necessary data cleaning before feeding into the manoeuvring model. An iterative approach is adopted to determine the most appropriate manoeuvring model. The multicollinearity problem is addressed by identifying a ship manoeuvring system with proper parameters in the manoeuvring model. The proposed approach is verified by identifying a selected manoeuvring model and predicting turning circle manoeuvres for two different test vessels."
   ]
  },
  {
   "cell_type": "markdown",
   "id": "268914e9-1399-41bc-8e3e-bc6ea2fe6f7d",
   "metadata": {
    "tags": [
     "remove-cell"
    ]
   },
   "source": [
    "## Outline"
   ]
  },
  {
   "cell_type": "markdown",
   "id": "7d1b19b3-cd4f-44c5-b39c-511c5589714f",
   "metadata": {},
   "source": [
    "For the completeness of this paper, different manoeuvring models and propeller models are briefly introduced in {numref}`vmm`. Then the proposed parameter estimation method is presented in {numref}`method`, where each subcomponent is also described. The robust model development process is described in section $\\ref{\\detokenize{04.10_model_development_process:id1}}$. The parameter estimation is applied to two case study ships which are introduced in {numref}`case_studies` and corresponding results are presented in the {numref}`results` with discussions, followed by conclusions."
   ]
  }
 ],
 "metadata": {
  "citation-manager": {
   "items": {}
  },
  "kernelspec": {
   "display_name": "wPCC_pipeline",
   "language": "python",
   "name": "python3"
  },
  "language_info": {
   "codemirror_mode": {
    "name": "ipython",
    "version": 3
   },
   "file_extension": ".py",
   "mimetype": "text/x-python",
   "name": "python",
   "nbconvert_exporter": "python",
   "pygments_lexer": "ipython3",
   "version": "3.7.9"
  }
 },
 "nbformat": 4,
 "nbformat_minor": 5
}
