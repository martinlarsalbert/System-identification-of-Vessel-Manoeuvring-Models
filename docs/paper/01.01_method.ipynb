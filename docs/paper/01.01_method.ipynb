{
 "cells": [
  {
   "cell_type": "markdown",
   "id": "b1b7e424-eec8-47de-b726-fc23db3dc64e",
   "metadata": {
    "tags": []
   },
   "source": [
    "(method)=\n",
    "# Method"
   ]
  },
  {
   "cell_type": "markdown",
   "id": "f5598b16-4abd-40c8-9b9c-28c877a3d6a8",
   "metadata": {
    "tags": [
     "remove_cell"
    ]
   },
   "source": [
    "* *Present the steps and components (briefly) to create an understanding of the proposed procedure. The details can come later. Highlight what makes it unique compared to other studies in the literature (include references).*"
   ]
  },
  {
   "cell_type": "markdown",
   "id": "57e99bf4-0572-4f7c-97aa-c3498eb76b48",
   "metadata": {
    "tags": []
   },
   "source": [
    "## Overview of the proposed procedure\n",
    "\n",
    "[Fig](overview) shows a flow chart summarizing how the proposed PIT.\n",
    "```{figure} figures/method.png\n",
    "---\n",
    "width: 500px\n",
    "name: overview\n",
    "---\n",
    "Flow chart over the proposed Parameter Identification Technique (PIT)\n",
    "```\n",
    "\n",
    "### VMM\n",
    "The VMM (see section  [VMM](vmm) ) expresses the ship dynamics. This ability is normally used to conduct manoeuvring simulations, where a VMM with known forces from hydrodynamic derivatives is used to predict unknown ship manoeuvres. \n",
    "\n",
    "### Inverse dynamics\n",
    "VMM can also be used to solve the reversed problem: predicting unknown forces from known ship manoeuvres, which is applicable for the current problem. This is called inverse dynamics (see section [Inverse-dynamics](inverse_dynamics)). \n",
    "\n",
    "### Regression\n",
    "The hydrodynamic derivatives in the VMM can be identified with regression of the force polynomials on forces predicted with inverse dynamics, which is called ''motion regression'' in this paper. Many authors have used different statistical methods or machine learning methods to regress the hydrodynamic derivatives. The Linear regression with Ordinary Least Square fit (OLS) is used in the proposed PIT. The OLS is known to be sensitive to noise and outliers, which is why the main focus in the present PIT is on pre-processing data with filtering rather than the regression method itself.\n",
    "\n",
    "### Extended Kalman Filter\n",
    "The filtering in the PIT is conducted with an Extended Kalman Filter (EKF) (see section [EKF](EKF)) which is a recursive filter that estimates the state of a linear or nonlinear dynamic system from a series of noisy measurements. The basic idea is that noise can be disregarded if it does not make sense from a physical point of view. For instance if noisy measurement data would be perfectly correct, this would mean that the ship has a lot of vibrations that must have originated from huge forces, considering the large mass of the ship. The prior understanding of the model tests data suggests that these huge forces are not present during the model test, and the noise is therefore considered as measurement noise that should be removed. Lowpass filtering is a common way to do this, where motions above some cut-off frequency are regarded as unphysical measurement noise. The problem with lowpass filter is that it is hard to know what the cut-off frequency to choose, either too low: removing part of the signal, or too high: keeping some unfiltered measurement noise in the data. \n",
    "The Kalman filter has a system model that continuously estimates the state of the system that is run in parallel with the measurement data. The filter estimates the current state as a combination of the measurement data and the system model estimate based on belief in the data and the model. If the data has low measurement noise the estimate turns towards the data, if the data is instead very noisy and the model gives better predictions the estimate turns towards the model predictions instead. The inverse dynamics requires the entire state of the system to be known including: positions, velocities and accelerations. Only positions are known from the measurements in this case which means that velocities and accelerations are hidden states that can instead be estimated by the EKF.\n",
    "\n",
    "### Rauch Tung Striebel Smoother\n",
    "The EKF is recursive and can be run online, continuously making new estimates as new measurements arrive. It uses passed measurements to estimate states in the near future. This is useful for applications like autopilots. For the PIT the filter is instead run on a whole time series of existing measurements. The fact that both past and future data is known can be used to improve the filter by attaching a smoother after the EKF.  The PIT uses a Rauch Tung Striebel (RTS) smoother (see section [RTS](RTS)). \n",
    "\n",
    "\n",
    "A VMM is used as the system model in the EKF. But the identified VMM is of course not known yet which is a ''the chicken or the egg'' situation. This is solved with initial guessing and iteration.\n",
    "\n",
    "### Step 1) \n",
    "VMM with guessed hydrodynamic derivatives is used. To make a fair guess, the derivatives are estimated with semiempirical formulas from the literature, for a linear VMM. The VMM is used in the EKF and RTS smoother to filter all the model tests. The VMM:s are assumed to have Markov property which means that future states depend only on the current state. This means that the filtered data with estimated hidden states from all the model tests can be joined into one time independent dataset that is passed to the motion regression. The hydrodynamic derivatives are regressed on quasi static forces from inverse dynamics giving the identified nonlinear VMM.\n",
    "\n",
    "### Step 2) \n",
    "Step1 can now be rerun, but instead of using the guessed system model, the identified VMM from step 1 can now be used in the EKF. There should be a higher belief in this model than the guessed model, so the covariance matrixes should be updated.  "
   ]
  },
  {
   "cell_type": "markdown",
   "id": "b2077847-da4a-4f7a-9950-68dfa6a9482b",
   "metadata": {
    "tags": [
     "remove_cell"
    ]
   },
   "source": [
    "![](figures/method.png)"
   ]
  },
  {
   "cell_type": "markdown",
   "id": "fc5ccc54-4ff4-41c4-ba82-d069f91a9777",
   "metadata": {
    "tags": [
     "remove-cell"
    ]
   },
   "source": [
    "### Recursive Extended Kalman Filter"
   ]
  },
  {
   "cell_type": "markdown",
   "id": "f3743ac7-97b7-47be-9c93-5e696c666174",
   "metadata": {},
   "source": [
    "How the PIT method converges can be seen in [fig](iterations) showing simulation results with the initial guessed model and two iterrations of the PIT algorithm. \n",
    "\n",
    "```{glue:figure} iterations\n",
    ":figwidth: 1000px\n",
    ":name: \"iterations\"\n",
    "\n",
    "Simulation with: initial model, first and second iteration of the PIT for one of the KVLCC2 tests\n",
    "\n",
    "```"
   ]
  },
  {
   "cell_type": "code",
   "execution_count": null,
   "id": "544683bb-c16c-46cd-9ee4-d2cf6e7b6fef",
   "metadata": {
    "tags": [
     "remove-cell"
    ]
   },
   "outputs": [],
   "source": [
    "# %load imports.py\n",
    "%load_ext autoreload\n",
    "%autoreload 2\n",
    "%reload_kedro\n",
    "%config Completer.use_jedi = False  ## (To fix autocomplete)\n",
    "%matplotlib inline\n",
    "\n",
    "import pandas as pd\n",
    "pd.set_option('display.max_columns', 500)\n",
    "from src.models.vmm import ModelSimulator\n",
    "import matplotlib.pyplot as plt\n",
    "from src.visualization.plot import track_plots, plot, captive_plot\n",
    "import kedro\n",
    "import numpy as np\n",
    "import os.path\n",
    "import anyconfig\n",
    "\n",
    "import matplotlib\n",
    "plt.style.use('paper')\n",
    "\n",
    "from myst_nb import glue\n",
    "from src.symbols import *\n",
    "import src.symbols as symbols\n",
    "from src.system_equations import *\n",
    "\n",
    "from IPython.display import display, Math, Latex, Markdown\n",
    "from sympy.physics.vector.printing import vpprint, vlatex\n",
    "\n",
    "from src.parameters import df_parameters\n",
    "p = df_parameters[\"symbol\"]\n",
    "\n",
    "# Read configs:\n",
    "conf_path = os.path.join(\"../../conf/base/\")\n",
    "runs_globals_path = os.path.join(\n",
    "    conf_path,\n",
    "    \"runs_globals.yml\",\n",
    ")\n",
    "\n",
    "runs_globals = anyconfig.load(runs_globals_path)\n",
    "model_test_ids = runs_globals[\"model_test_ids\"]\n",
    "\n",
    "join_globals_path = os.path.join(\n",
    "    conf_path,\n",
    "    \"join_globals.yml\",\n",
    ")\n",
    "\n",
    "joins = runs_globals[\"joins\"]\n",
    "join_runs_dict = anyconfig.load(join_globals_path)\n",
    "\n",
    "globals_path = os.path.join(\n",
    "    conf_path,\n",
    "    \"globals.yml\",\n",
    ")\n",
    "global_variables = anyconfig.load(globals_path)\n",
    "\n",
    "\n",
    "\n",
    "vmms = global_variables[\"vmms\"]\n",
    "from src.visualization.plot import track_plots, track_plot, plot, plot_parameters\n",
    "from jb_helpers import df_to_myst, parameter_to_latex"
   ]
  },
  {
   "cell_type": "code",
   "execution_count": null,
   "id": "030ad5e4-533c-4ed3-a433-f4fd6feaf823",
   "metadata": {
    "tags": [
     "remove-cell"
    ]
   },
   "outputs": [],
   "source": [
    "#id = '22773'\n",
    "#ship = 'wpcc'\n",
    "id = 'HSVA_CPMC_KVLCC2_Z_20_10_S'\n",
    "ship = 'kvlcc2_hsva'\n",
    "\n",
    "data_raw = catalog.load(f\"{ship}.{id}.data\")\n",
    "data_lowpass = catalog.load(f\"{ship}.{id}.data_lowpass\")\n",
    "\n",
    "data = catalog.load(f\"{ship}.initial.{id}.data_ek_smooth\")\n",
    "ek = catalog.load(f\"{ship}.vmm_linear.ek\")\n",
    "model = catalog.load(f\"{ship}.initial.vmm_linear.joined.model\")\n",
    "\n",
    "vmm_name = 'vmm_abkowitz'"
   ]
  },
  {
   "cell_type": "code",
   "execution_count": null,
   "id": "6b050e04-200a-4ab5-8fd6-3b4a84ae5e3f",
   "metadata": {
    "tags": [
     "remove-cell"
    ]
   },
   "outputs": [],
   "source": [
    "ships = ['wpcc','kvlcc2_hsva']\n",
    "\n",
    "ship_datas = {}\n",
    "initial_parameters = {}\n",
    "\n",
    "for ship in ships:\n",
    "       \n",
    "    ship_datas[ship] = catalog.load(f\"{ship}.ship_data\")\n",
    "    initial_parameters[ship] = catalog.load(f\"{ship}.initial_parameters\")\n",
    "    \n",
    "\n",
    "ship_datas = pd.DataFrame(ship_datas)\n",
    "ship_datas.dropna(how='any', inplace=True)\n",
    "\n",
    "initial_parameters = pd.DataFrame(initial_parameters)\n",
    "initial_parameters.drop(index='Xthrust', inplace=True)\n",
    "mask = (initial_parameters!=0).all(axis=1)\n",
    "initial_parameters = initial_parameters.loc[mask].copy()"
   ]
  },
  {
   "cell_type": "code",
   "execution_count": null,
   "id": "2ad8d216-991f-4922-a4b4-d150ba47e22a",
   "metadata": {
    "tags": [
     "remove-cell"
    ]
   },
   "outputs": [],
   "source": [
    "data['U'] = np.sqrt(data['u']**2 + data['v']**2)\n",
    "df_sim = ek.simulate(data=data, input_columns=['delta','U'], solver='Radau')\n",
    "\n",
    "dataframes = {\n",
    "    'initial guessed model': df_sim,\n",
    "    'PIT iteration 1': catalog.load(f\"{ship}.initial.{vmm_name}.joined.{id}.data_resimulate\"),\n",
    "    'PIT iteration 2': catalog.load(f\"{ship}.updated.{vmm_name}.joined.{id}.data_resimulate\"),\n",
    "    'model test' : data,\n",
    "}\n",
    "\n",
    "keys = ['u','v','r']\n",
    "error_keys = [f'$\\\\epsilon({key})$' for key in keys]  \n",
    "for key, df_ in dataframes.items():\n",
    "    df_[error_keys]=df_[keys] - data[keys]\n",
    "\n",
    "fig,ax=plt.subplots()\n",
    "track_plots(dataframes, lpp=ship_datas[ship]['L'], beam=ship_datas[ship]['B'], time_window=[0,70], N=2, ax=ax);\n",
    "glue(\"iterations\",fig, display=False)\n",
    "\n",
    "fig = plot(dataframes, keys=error_keys, ncols=1);\n",
    "plt.tight_layout()\n",
    "glue(\"iteration_errors\",fig, display=False)\n",
    "\n",
    "rmse = {}\n",
    "rmse_keys = [f'$RMSe({key})$' for key in keys] \n",
    "for key, df_ in dataframes.items():\n",
    "    rmse[key] = np.sqrt((df_[error_keys]**2).mean())\n",
    "    \n",
    "\n",
    "rmse = pd.DataFrame(rmse)\n",
    "\n",
    "r = rmse.loc['$\\\\epsilon(r)$']\n",
    "u = rmse.loc['$\\\\epsilon(u)$']\n",
    "v = rmse.loc['$\\\\epsilon(v)$']\n",
    "rmse.loc['total'] = u+v+r*ship_datas[ship]['L']/2"
   ]
  }
 ],
 "metadata": {
  "citation-manager": {
   "items": {}
  },
  "kernelspec": {
   "display_name": "wPCC_pipeline",
   "language": "python",
   "name": "python3"
  },
  "language_info": {
   "codemirror_mode": {
    "name": "ipython",
    "version": 3
   },
   "file_extension": ".py",
   "mimetype": "text/x-python",
   "name": "python",
   "nbconvert_exporter": "python",
   "pygments_lexer": "ipython3",
   "version": "3.7.9"
  }
 },
 "nbformat": 4,
 "nbformat_minor": 5
}
