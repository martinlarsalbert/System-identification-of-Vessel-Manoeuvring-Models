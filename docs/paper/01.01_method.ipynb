{
 "cells": [
  {
   "cell_type": "markdown",
   "id": "b1b7e424-eec8-47de-b726-fc23db3dc64e",
   "metadata": {
    "tags": []
   },
   "source": [
    "(method)=\n",
    "# Method"
   ]
  },
  {
   "cell_type": "markdown",
   "id": "f5598b16-4abd-40c8-9b9c-28c877a3d6a8",
   "metadata": {
    "tags": [
     "remove_cell"
    ]
   },
   "source": [
    "* *Present the steps and components (briefly) to create an understanding of the proposed procedure. The details can come later. Highlight what makes it unique compared to other studies in the literature (include references).*"
   ]
  },
  {
   "cell_type": "markdown",
   "id": "e9523c26-2317-4ff7-9355-02c2b05c155d",
   "metadata": {
    "tags": []
   },
   "source": [
    "The system identification can then be simplified into parameter identification if a Mathematical Vessel Manoeuvring Model (VMM) is assumed to describe the ship manoeuvring system. An efficient approach to build the VMM for a ship’s manoeuvres is proposed here and presented in {numref}`overview`. \n",
    "In this procedure, an initial VMM is used to solve the reversed manoeuvring problem, i.e., predicting unknown forces from known ship manoeuvres. Then, the hydrodynamic derivatives in the VMM can be identified with regression of the force polynomials on forces predicted with inverse dynamics. The Ordinary Least Square (OLS) method is used to regress the hydrodynamic derivatives. The OLS is known to be extremely sensitive to noise and outliers inevitably associated with both experimental and full-scale test data. Thereby, the focus in the present PIT is on pre-processing data with filtering rather than the regression method itself. Both the Extended Kalman Filter (EKF) and Rauch Tung Striebel (RTS) smoother are used to perform the data-processing for building a proper VMM.\n",
    "\n",
    "```{figure} figures/method.png\n",
    "---\n",
    "width: 500px\n",
    "name: overview\n",
    "---\n",
    "Flow chart over the proposed Parameter Identification Technique (PIT)\n",
    "```"
   ]
  },
  {
   "cell_type": "markdown",
   "id": "b2077847-da4a-4f7a-9950-68dfa6a9482b",
   "metadata": {
    "tags": [
     "remove_cell"
    ]
   },
   "source": [
    "![](figures/method.png)"
   ]
  },
  {
   "cell_type": "markdown",
   "id": "1356369d-7778-4107-b95d-5f3a5aac566b",
   "metadata": {},
   "source": [
    "## Overview of the proposed procedure\n",
    "\n",
    "After choosing a proper VMM model to describe a ship’s manoeuvring performance, the coefficients in those VMMs can be estimated by the proposed PIT method composed of two basic steps as in {numref}`overview`. During the estimation process, a VMM is required as the input system model in the EKF. But the identified VMM is of course not known yet which is a ''the chicken or the egg'' situation. This is solved with initial guessing and iteration.\n",
    "\n",
    "1) First, hydrodynamic derivatives of a pre-defined format of VMM are initially guessed. To make a fair guess, the derivatives are estimated with semi-empirical formulas for a linear VMM. The VMM is used in the EKF and RTS smoother to filter all the model tests. The VMMs are assumed to have Markov property which means that future states depend only on the current state. Then the filtered data with estimated hidden states from all the model tests can be joined into a time independent dataset passed to the motion regression. The hydrodynamic derivatives are regressed on quasi-static forces from inverse dynamics giving the identified nonlinear VMM.\n",
    "\n",
    "2) Re-run the iteration in the previous step with EKF that use the identified VMM from the previous step to replace the guessed system model in the initial stage (with Abkowitz model, Modified Abkowitz model etc.). There should be a higher belief in this model than the guessed model, so the covariance matrixes should be updated."
   ]
  },
  {
   "cell_type": "markdown",
   "id": "fc5ccc54-4ff4-41c4-ba82-d069f91a9777",
   "metadata": {
    "tags": [
     "remove-cell",
     "remove_cell"
    ]
   },
   "source": [
    "### Iterative Extended Kalman Filter"
   ]
  },
  {
   "cell_type": "markdown",
   "id": "f3743ac7-97b7-47be-9c93-5e696c666174",
   "metadata": {},
   "source": [
    "An example with simulation results from the steps in the iterative EKF is shown in {numref}`iterations`.\n",
    "\n",
    "```{glue:figure} iterations\n",
    ":figwidth: 1000px\n",
    ":name: \"iterations\"\n",
    "\n",
    "Simulation with: initial model, first and second iteration of the PIT\n",
    "\n",
    "```"
   ]
  },
  {
   "cell_type": "code",
   "execution_count": null,
   "id": "544683bb-c16c-46cd-9ee4-d2cf6e7b6fef",
   "metadata": {
    "tags": [
     "remove-cell"
    ]
   },
   "outputs": [],
   "source": [
    "# %load imports.py\n",
    "%load_ext autoreload\n",
    "%autoreload 2\n",
    "%reload_kedro\n",
    "%config Completer.use_jedi = False  ## (To fix autocomplete)\n",
    "%matplotlib inline\n",
    "\n",
    "import pandas as pd\n",
    "pd.set_option('display.max_columns', 500)\n",
    "from src.models.vmm import ModelSimulator\n",
    "import matplotlib.pyplot as plt\n",
    "from src.visualization.plot import track_plots, plot, captive_plot\n",
    "import kedro\n",
    "import numpy as np\n",
    "import os.path\n",
    "import anyconfig\n",
    "\n",
    "import matplotlib\n",
    "plt.style.use('paper')\n",
    "from IPython.display import set_matplotlib_formats\n",
    "set_matplotlib_formats('pdf')\n",
    "\n",
    "from myst_nb import glue\n",
    "from src.symbols import *\n",
    "import src.symbols as symbols\n",
    "from src.system_equations import *\n",
    "\n",
    "from IPython.display import display, Math, Latex, Markdown\n",
    "from sympy.physics.vector.printing import vpprint, vlatex\n",
    "\n",
    "from src.parameters import df_parameters\n",
    "p = df_parameters[\"symbol\"]\n",
    "\n",
    "# Read configs:\n",
    "conf_path = os.path.join(\"../../conf/base/\")\n",
    "runs_globals_path = os.path.join(\n",
    "    conf_path,\n",
    "    \"runs_globals.yml\",\n",
    ")\n",
    "\n",
    "runs_globals = anyconfig.load(runs_globals_path)\n",
    "model_test_ids = runs_globals[\"model_test_ids\"]\n",
    "\n",
    "join_globals_path = os.path.join(\n",
    "    conf_path,\n",
    "    \"join_globals.yml\",\n",
    ")\n",
    "\n",
    "joins = runs_globals[\"joins\"]\n",
    "join_runs_dict = anyconfig.load(join_globals_path)\n",
    "\n",
    "globals_path = os.path.join(\n",
    "    conf_path,\n",
    "    \"globals.yml\",\n",
    ")\n",
    "global_variables = anyconfig.load(globals_path)\n",
    "\n",
    "\n",
    "\n",
    "vmms = global_variables[\"vmms\"]\n",
    "from src.visualization.plot import track_plots, track_plot, plot, plot_parameters\n",
    "from jb_helpers import df_to_myst, parameter_to_latex"
   ]
  },
  {
   "cell_type": "code",
   "execution_count": null,
   "id": "030ad5e4-533c-4ed3-a433-f4fd6feaf823",
   "metadata": {
    "tags": [
     "remove-cell"
    ]
   },
   "outputs": [],
   "source": [
    "#id = '22773'\n",
    "#ship = 'wpcc'\n",
    "id = 'HSVA_CPMC_KVLCC2_Z_20_10_S'\n",
    "ship = 'kvlcc2_hsva'\n",
    "\n",
    "data_raw = catalog.load(f\"{ship}.{id}.data\")\n",
    "data_lowpass = catalog.load(f\"{ship}.{id}.data_lowpass\")\n",
    "\n",
    "data = catalog.load(f\"{ship}.initial.{id}.data_ek_smooth\")\n",
    "ek = catalog.load(f\"{ship}.vmm_linear.ek\")\n",
    "model = catalog.load(f\"{ship}.initial.vmm_linear.joined.model\")\n",
    "\n",
    "vmm_name = 'vmm_abkowitz'"
   ]
  },
  {
   "cell_type": "code",
   "execution_count": null,
   "id": "6b050e04-200a-4ab5-8fd6-3b4a84ae5e3f",
   "metadata": {
    "tags": [
     "remove-cell"
    ]
   },
   "outputs": [],
   "source": [
    "ships = ['wpcc','kvlcc2_hsva']\n",
    "\n",
    "ship_datas = {}\n",
    "initial_parameters = {}\n",
    "\n",
    "for ship in ships:\n",
    "       \n",
    "    ship_datas[ship] = catalog.load(f\"{ship}.ship_data\")\n",
    "    initial_parameters[ship] = catalog.load(f\"{ship}.initial_parameters\")\n",
    "    \n",
    "\n",
    "ship_datas = pd.DataFrame(ship_datas)\n",
    "ship_datas.dropna(how='any', inplace=True)\n",
    "\n",
    "initial_parameters = pd.DataFrame(initial_parameters)\n",
    "initial_parameters.drop(index='Xthrust', inplace=True)\n",
    "mask = (initial_parameters!=0).all(axis=1)\n",
    "initial_parameters = initial_parameters.loc[mask].copy()"
   ]
  },
  {
   "cell_type": "code",
   "execution_count": null,
   "id": "2ad8d216-991f-4922-a4b4-d150ba47e22a",
   "metadata": {
    "tags": [
     "remove-cell"
    ]
   },
   "outputs": [],
   "source": [
    "data['U'] = np.sqrt(data['u']**2 + data['v']**2)\n",
    "df_sim = ek.simulate(data=data, input_columns=['delta','U'], solver='Radau')\n",
    "\n",
    "dataframes = {\n",
    "    'initial guessed model': df_sim,\n",
    "    'PIT iteration 1': catalog.load(f\"{ship}.initial.{vmm_name}.joined.{id}.data_resimulate\"),\n",
    "    'PIT iteration 2': catalog.load(f\"{ship}.updated.{vmm_name}.joined.{id}.data_resimulate\"),\n",
    "    'model test' : data,\n",
    "}\n",
    "\n",
    "keys = ['u','v','r']\n",
    "error_keys = [f'$\\\\epsilon({key})$' for key in keys]  \n",
    "for key, df_ in dataframes.items():\n",
    "    df_[error_keys]=df_[keys] - data[keys]\n",
    "\n",
    "fig,ax=plt.subplots()\n",
    "track_plots(dataframes, lpp=ship_datas[ship]['L'], beam=ship_datas[ship]['B'], time_window=[0,70], N=2, ax=ax);\n",
    "glue(\"iterations\",fig, display=False)\n",
    "\n",
    "fig = plot(dataframes, keys=error_keys, ncols=1);\n",
    "plt.tight_layout()\n",
    "glue(\"iteration_errors\",fig, display=False)\n",
    "\n",
    "rmse = {}\n",
    "rmse_keys = [f'$RMSe({key})$' for key in keys] \n",
    "for key, df_ in dataframes.items():\n",
    "    rmse[key] = np.sqrt((df_[error_keys]**2).mean())\n",
    "    \n",
    "\n",
    "rmse = pd.DataFrame(rmse)\n",
    "\n",
    "r = rmse.loc['$\\\\epsilon(r)$']\n",
    "u = rmse.loc['$\\\\epsilon(u)$']\n",
    "v = rmse.loc['$\\\\epsilon(v)$']\n",
    "rmse.loc['total'] = u+v+r*ship_datas[ship]['L']/2"
   ]
  },
  {
   "cell_type": "markdown",
   "id": "bbf14fde-2f21-48c6-bacb-d9186c9c9193",
   "metadata": {},
   "source": [
    "In the following, the methods of inverse dynamics, regression and EKF used in the proposed PIT method, and their connections, are presented in detail."
   ]
  },
  {
   "cell_type": "code",
   "execution_count": null,
   "id": "4c237a9b-baaf-48ca-a453-20fce1cf5836",
   "metadata": {},
   "outputs": [],
   "source": []
  }
 ],
 "metadata": {
  "citation-manager": {
   "items": {}
  },
  "kernelspec": {
   "display_name": "wPCC_pipeline",
   "language": "python",
   "name": "python3"
  },
  "language_info": {
   "codemirror_mode": {
    "name": "ipython",
    "version": 3
   },
   "file_extension": ".py",
   "mimetype": "text/x-python",
   "name": "python",
   "nbconvert_exporter": "python",
   "pygments_lexer": "ipython3",
   "version": "3.7.9"
  }
 },
 "nbformat": 4,
 "nbformat_minor": 5
}
