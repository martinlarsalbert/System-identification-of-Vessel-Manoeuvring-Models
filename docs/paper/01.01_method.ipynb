{
 "cells": [
  {
   "cell_type": "markdown",
   "id": "fa1056c5-e91e-419d-8eef-98edce69fbc7",
   "metadata": {
    "tags": []
   },
   "source": [
    "# Overview"
   ]
  },
  {
   "cell_type": "markdown",
   "id": "b2077847-da4a-4f7a-9950-68dfa6a9482b",
   "metadata": {
    "tags": [
     "remove_cell"
    ]
   },
   "source": [
    "![](figures/method.png)"
   ]
  },
  {
   "cell_type": "markdown",
   "id": "d0e86763-5351-4036-a0e8-40b3ae41cfc2",
   "metadata": {},
   "source": [
    "```{figure} figures/method.png\n",
    "---\n",
    "width: 500px\n",
    "name:\n",
    "---\n",
    "Flow chart over the proposed Parameter Identification Technique (PIT)\n",
    "```"
   ]
  },
  {
   "cell_type": "code",
   "execution_count": null,
   "id": "1a061690-a622-4df8-b349-fa9e7711174e",
   "metadata": {},
   "outputs": [],
   "source": []
  }
 ],
 "metadata": {
  "kernelspec": {
   "display_name": "wPCC_pipeline",
   "language": "python",
   "name": "python3"
  },
  "language_info": {
   "codemirror_mode": {
    "name": "ipython",
    "version": 3
   },
   "file_extension": ".py",
   "mimetype": "text/x-python",
   "name": "python",
   "nbconvert_exporter": "python",
   "pygments_lexer": "ipython3",
   "version": "3.7.9"
  }
 },
 "nbformat": 4,
 "nbformat_minor": 5
}
