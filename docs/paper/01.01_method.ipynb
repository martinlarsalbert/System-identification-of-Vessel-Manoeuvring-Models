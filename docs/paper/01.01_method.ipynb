{
 "cells": [
  {
   "cell_type": "markdown",
   "id": "b1b7e424-eec8-47de-b726-fc23db3dc64e",
   "metadata": {
    "tags": []
   },
   "source": [
    "(method)=\n",
    "# Method"
   ]
  },
  {
   "cell_type": "markdown",
   "id": "f5598b16-4abd-40c8-9b9c-28c877a3d6a8",
   "metadata": {
    "tags": [
     "remove_cell"
    ]
   },
   "source": [
    "* *Present the steps and components (briefly) to create an understanding of the proposed procedure. The details can come later. Highlight what makes it unique compared to other studies in the literature (include references).*"
   ]
  },
  {
   "cell_type": "markdown",
   "id": "e9523c26-2317-4ff7-9355-02c2b05c155d",
   "metadata": {
    "tags": []
   },
   "source": [
    "An efficient approach to build the manoeuvring model for a ship’s manoeuvres is presented in this paper. In this procedure, an initial manoeuvring model is used to solve the reversed manoeuvring problem, i.e., predicting unknown forces from known ship manoeuvres. Then, the hydrodynamic derivatives in the manoeuvring model can be identified with regression of the force polynomials on forces predicted with inverse dynamics. The Ordinary Least Square (OLS) method is used to regress the hydrodynamic derivatives in the proposed parameter estimation method. The OLS is known to be extremely sensitive to noise and outliers inevitably associated with both experimental and full-scale test data. Thereby, the focus in the present parameter estimation is on pre-processing data with filtering rather than the regression method itself. Both the Extended Kalman Filter (EKF) and Rauch Tung Striebel (RTS) smoother are used to perform the data-processing for building a proper manoeuvring model."
   ]
  },
  {
   "cell_type": "markdown",
   "id": "b2077847-da4a-4f7a-9950-68dfa6a9482b",
   "metadata": {
    "tags": [
     "remove_cell"
    ]
   },
   "source": [
    "![](figures/method.png)"
   ]
  },
  {
   "cell_type": "markdown",
   "id": "1356369d-7778-4107-b95d-5f3a5aac566b",
   "metadata": {},
   "source": [
    "## Overview of the proposed procedure\n",
    "\n",
    "After choosing a proper manoeuvring model to describe a ship’s manoeuvring performance, the coefficients in those manoeuvring models can be estimated by the proposed parameter estimation method composed of two basic steps similar to $\\cite{revestido_herrero_two-step_2012}$ as shown in {numref}`overview`.\n",
    "The measurement noise needs to be removed\n",
    "if the regression of hydrodynamic derivatives in the manoeuvring model should work well. However, filtering with the\n",
    "EKF also needs an accurate manoeuvring model as the system model. Therefore the accurate manoeuvring model is both the input and\n",
    "output of the parameter estimation. The system model in the EKF is guessed to solve this dilemma. A linear manoeuvring model\n",
    "with hydrodynamic derivatives estimated with semi-empirical formulas is used as the initial guess. Once the\n",
    "regressed manoeuvring model has been obtained, the parameter estimation can be rerun using the regressed manoeuvring model as the system model\n",
    "in the EKF, to obtain an even better manoeuvring model. This procedure can be repeated several times for improved\n",
    "accuracy. Using semi-empirical formulas for the initially guessed manoeuvring model adds prior knowledge about the ship dynamics to the regression. When used with the recursive EKF, this method is an innovation compared to\n",
    "other parameter estimation methods.\n",
    "\n",
    "```{figure} figures/method.png\n",
    "---\n",
    "width: 500px\n",
    "name: overview\n",
    "---\n",
    "Flow chart over the proposed parameter estimation method \n",
    "```\n",
    "\n",
    "The iterative process is composed of two basic steps:\n",
    "1) First, hydrodynamic derivatives of a predefined format of manoeuvring model are initially guessed. The derivatives\n",
    "are estimated with semi-empirical formulas for a linear manoeuvring model to make an initial guess. The manoeuvring model is\n",
    "used in the EKF and RTS smoother to filter all the model tests. The manoeuvring models are assumed to have\n",
    "Markov property, meaning that future states depend only on the current state. Then the filtered data\n",
    "with estimated hidden states from all the model tests can be joined into a time-independent dataset\n",
    "passed to the regression. The hydrodynamic derivatives are regressed on quasi-static forces\n",
    "from inverse dynamics giving the identified nonlinear manoeuvring model.\n",
    "\n",
    "2) Re-run the iteration in the previous step with EKF that use the identified manoeuvring model from the previous\n",
    "step to replace the guessed system model in the initial stage, such as with AVMM or MAVMM. There\n",
    "should be more trust in this model than in the guessed model, so the covariance matrices should be\n",
    "updated."
   ]
  },
  {
   "cell_type": "markdown",
   "id": "fc5ccc54-4ff4-41c4-ba82-d069f91a9777",
   "metadata": {
    "tags": [
     "remove-cell",
     "remove_cell"
    ]
   },
   "source": [
    "### Iterative Extended Kalman Filter"
   ]
  },
  {
   "cell_type": "markdown",
   "id": "f3743ac7-97b7-47be-9c93-5e696c666174",
   "metadata": {},
   "source": [
    "An example with simulation results from the steps in the iterative EKF is shown in {numref}`iterations`\n",
    "\n",
    "```{glue:figure} iterations\n",
    ":figwidth: 1000px\n",
    ":name: \"iterations\"\n",
    "\n",
    "Simulation with: initial model, first and second iteration of the parameter estimation\n",
    "\n",
    "```\n",
    "In the following section, the methods of inverse dynamics, regression and EKF used in the proposed PIT\n",
    "method, and their connections, are presented in detail."
   ]
  },
  {
   "cell_type": "code",
   "execution_count": null,
   "id": "544683bb-c16c-46cd-9ee4-d2cf6e7b6fef",
   "metadata": {
    "tags": [
     "remove-cell"
    ]
   },
   "outputs": [],
   "source": [
    "# %load imports.py\n",
    "%load_ext autoreload\n",
    "%autoreload 2\n",
    "%reload_kedro\n",
    "%config Completer.use_jedi = False  ## (To fix autocomplete)\n",
    "%matplotlib inline\n",
    "\n",
    "import pandas as pd\n",
    "pd.set_option('display.max_columns', 500)\n",
    "from src.models.vmm import ModelSimulator\n",
    "import matplotlib.pyplot as plt\n",
    "from src.visualization.plot import track_plots, plot, captive_plot\n",
    "import kedro\n",
    "import numpy as np\n",
    "import os.path\n",
    "import anyconfig\n",
    "\n",
    "import matplotlib\n",
    "plt.style.use('paper')\n",
    "from IPython.display import set_matplotlib_formats\n",
    "set_matplotlib_formats('pdf')\n",
    "\n",
    "from myst_nb import glue\n",
    "from src.symbols import *\n",
    "import src.symbols as symbols\n",
    "from src.system_equations import *\n",
    "\n",
    "from IPython.display import display, Math, Latex, Markdown\n",
    "from sympy.physics.vector.printing import vpprint, vlatex\n",
    "\n",
    "from src.parameters import df_parameters\n",
    "p = df_parameters[\"symbol\"]\n",
    "\n",
    "# Read configs:\n",
    "conf_path = os.path.join(\"../../conf/base/\")\n",
    "runs_globals_path = os.path.join(\n",
    "    conf_path,\n",
    "    \"runs_globals.yml\",\n",
    ")\n",
    "\n",
    "runs_globals = anyconfig.load(runs_globals_path)\n",
    "model_test_ids = runs_globals[\"model_test_ids\"]\n",
    "\n",
    "join_globals_path = os.path.join(\n",
    "    conf_path,\n",
    "    \"join_globals.yml\",\n",
    ")\n",
    "\n",
    "joins = runs_globals[\"joins\"]\n",
    "join_runs_dict = anyconfig.load(join_globals_path)\n",
    "\n",
    "globals_path = os.path.join(\n",
    "    conf_path,\n",
    "    \"globals.yml\",\n",
    ")\n",
    "global_variables = anyconfig.load(globals_path)\n",
    "\n",
    "\n",
    "\n",
    "vmms = global_variables[\"vmms\"]\n",
    "from src.visualization.plot import track_plots, track_plot, plot, plot_parameters\n",
    "from jb_helpers import df_to_myst, parameter_to_latex"
   ]
  },
  {
   "cell_type": "code",
   "execution_count": null,
   "id": "030ad5e4-533c-4ed3-a433-f4fd6feaf823",
   "metadata": {
    "tags": [
     "remove-cell"
    ]
   },
   "outputs": [],
   "source": [
    "#id = '22773'\n",
    "#ship = 'wpcc'\n",
    "id = 'HSVA_CPMC_KVLCC2_Z_20_10_S'\n",
    "ship = 'kvlcc2_hsva'\n",
    "\n",
    "data_raw = catalog.load(f\"{ship}.{id}.data\")\n",
    "data_lowpass = catalog.load(f\"{ship}.{id}.data_lowpass\")\n",
    "\n",
    "data = catalog.load(f\"{ship}.initial.{id}.data_ek_smooth\")\n",
    "ek = catalog.load(f\"{ship}.vmm_linear.ek\")\n",
    "model = catalog.load(f\"{ship}.initial.vmm_linear.joined.model\")\n",
    "\n",
    "vmm_name = 'vmm_abkowitz'"
   ]
  },
  {
   "cell_type": "code",
   "execution_count": null,
   "id": "6b050e04-200a-4ab5-8fd6-3b4a84ae5e3f",
   "metadata": {
    "tags": [
     "remove-cell"
    ]
   },
   "outputs": [],
   "source": [
    "ships = ['wpcc','kvlcc2_hsva']\n",
    "\n",
    "ship_datas = {}\n",
    "initial_parameters = {}\n",
    "\n",
    "for ship in ships:\n",
    "       \n",
    "    ship_datas[ship] = catalog.load(f\"{ship}.ship_data\")\n",
    "    initial_parameters[ship] = catalog.load(f\"{ship}.initial_parameters\")\n",
    "    \n",
    "\n",
    "ship_datas = pd.DataFrame(ship_datas)\n",
    "ship_datas.dropna(how='any', inplace=True)\n",
    "\n",
    "initial_parameters = pd.DataFrame(initial_parameters)\n",
    "initial_parameters.drop(index='Xthrust', inplace=True)\n",
    "mask = (initial_parameters!=0).all(axis=1)\n",
    "initial_parameters = initial_parameters.loc[mask].copy()"
   ]
  },
  {
   "cell_type": "code",
   "execution_count": null,
   "id": "2ad8d216-991f-4922-a4b4-d150ba47e22a",
   "metadata": {
    "tags": [
     "remove-cell"
    ]
   },
   "outputs": [],
   "source": [
    "data['U'] = np.sqrt(data['u']**2 + data['v']**2)\n",
    "df_sim = ek.simulate(data=data, input_columns=['delta','U'], solver='Radau')\n",
    "\n",
    "dataframes = {\n",
    "    'initial guessed model': df_sim,\n",
    "    'parameter estimation iteration 1': catalog.load(f\"{ship}.initial.{vmm_name}.joined.{id}.data_resimulate\"),\n",
    "    'parameter estimation iteration 2': catalog.load(f\"{ship}.updated.{vmm_name}.joined.{id}.data_resimulate\"),\n",
    "    'model test' : data,\n",
    "}\n",
    "\n",
    "keys = ['u','v','r']\n",
    "error_keys = [f'$\\\\epsilon({key})$' for key in keys]  \n",
    "for key, df_ in dataframes.items():\n",
    "    df_[error_keys]=df_[keys] - data[keys]\n",
    "\n",
    "fig,ax=plt.subplots()\n",
    "track_plots(dataframes, lpp=ship_datas[ship]['L'], beam=ship_datas[ship]['B'], time_window=[0,70], N=2, ax=ax);\n",
    "glue(\"iterations\",fig, display=False)\n",
    "\n",
    "fig = plot(dataframes, keys=error_keys, ncols=1);\n",
    "plt.tight_layout()\n",
    "glue(\"iteration_errors\",fig, display=False)\n",
    "\n",
    "rmse = {}\n",
    "rmse_keys = [f'$RMSe({key})$' for key in keys] \n",
    "for key, df_ in dataframes.items():\n",
    "    rmse[key] = np.sqrt((df_[error_keys]**2).mean())\n",
    "    \n",
    "\n",
    "rmse = pd.DataFrame(rmse)\n",
    "\n",
    "r = rmse.loc['$\\\\epsilon(r)$']\n",
    "u = rmse.loc['$\\\\epsilon(u)$']\n",
    "v = rmse.loc['$\\\\epsilon(v)$']\n",
    "rmse.loc['total'] = u+v+r*ship_datas[ship]['L']/2"
   ]
  }
 ],
 "metadata": {
  "citation-manager": {
   "items": {}
  },
  "kernelspec": {
   "display_name": "wPCC_pipeline",
   "language": "python",
   "name": "python3"
  },
  "language_info": {
   "codemirror_mode": {
    "name": "ipython",
    "version": 3
   },
   "file_extension": ".py",
   "mimetype": "text/x-python",
   "name": "python",
   "nbconvert_exporter": "python",
   "pygments_lexer": "ipython3",
   "version": "3.7.9"
  }
 },
 "nbformat": 4,
 "nbformat_minor": 5
}
