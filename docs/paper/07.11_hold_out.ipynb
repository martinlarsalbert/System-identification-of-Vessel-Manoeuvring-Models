{
 "cells": [
  {
   "cell_type": "code",
   "execution_count": null,
   "id": "e56f605f-d48c-4c50-9891-caaf650c8340",
   "metadata": {
    "tags": [
     "remove-cell"
    ]
   },
   "outputs": [],
   "source": [
    "# %load imports.py\n",
    "%load_ext autoreload\n",
    "%autoreload 2\n",
    "%reload_kedro\n",
    "%config Completer.use_jedi = False  ## (To fix autocomplete)\n",
    "\n",
    "import pandas as pd\n",
    "from src.models.vmm import ModelSimulator\n",
    "import matplotlib.pyplot as plt\n",
    "from src.visualization.plot import track_plots, plot, captive_plot\n",
    "import kedro\n",
    "import numpy as np\n",
    "import os.path\n",
    "import anyconfig\n",
    "\n",
    "import matplotlib\n",
    "matplotlib.rcParams[\"figure.figsize\"] = (15,4)\n",
    "\n",
    "from myst_nb import glue\n",
    "from src.symbols import *\n",
    "import src.symbols as symbols\n",
    "from src.system_equations import *\n",
    "\n",
    "from IPython.display import display, Math, Latex, Markdown\n",
    "from sympy.physics.vector.printing import vpprint, vlatex\n",
    "\n",
    "from src.parameters import df_parameters\n",
    "p = df_parameters[\"symbol\"]\n",
    "\n",
    "# Read configs:\n",
    "conf_path = os.path.join(\"../../conf/base/\")\n",
    "runs_globals_path = os.path.join(\n",
    "    conf_path,\n",
    "    \"runs_globals.yml\",\n",
    ")\n",
    "\n",
    "runs_globals = anyconfig.load(runs_globals_path)\n",
    "model_test_ids = runs_globals[\"model_test_ids\"]\n",
    "\n",
    "join_globals_path = os.path.join(\n",
    "    conf_path,\n",
    "    \"join_globals.yml\",\n",
    ")\n",
    "\n",
    "joins = runs_globals[\"joins\"]\n",
    "join_runs_dict = anyconfig.load(join_globals_path)\n",
    "\n",
    "globals_path = os.path.join(\n",
    "    conf_path,\n",
    "    \"globals.yml\",\n",
    ")\n",
    "global_variables = anyconfig.load(globals_path)\n",
    "\n",
    "\n",
    "\n",
    "vmms = global_variables[\"vmms\"]\n",
    "only_joined = global_variables[\n",
    "    \"only_joined\"\n",
    "]  # (regress/predict with only models from joined runs)S\n",
    "\n",
    "from src.visualization.plot import plot, track_plots\n",
    "ship_data = catalog.load(\"ship_data\")\n"
   ]
  },
  {
   "cell_type": "markdown",
   "id": "8d3fba7a-a4fb-4084-942d-5d2a1845433c",
   "metadata": {},
   "source": [
    "### Hold-out\n",
    "One way to consider the robustness of the manoeuvring models is to hold-out one of the test types from the training data and then make a prediction on this test type."
   ]
  },
  {
   "cell_type": "code",
   "execution_count": null,
   "id": "bdca785e-d724-4ca6-942f-d6e0b57d7682",
   "metadata": {
    "tags": [
     "remove-cell"
    ]
   },
   "outputs": [],
   "source": [
    "def load_join_group_data(join = 'joined', id = 22770):\n",
    "\n",
    "    \n",
    "    df_smooth = catalog.load(f\"{ id }.data_ek_smooth\")\n",
    "    \n",
    "    dataframes = {\n",
    "      'model test' : df_smooth,\n",
    "    }\n",
    "    styles = {\n",
    "        'model test' : {'style':'k-','zorder':10},\n",
    "    }\n",
    "    \n",
    "    colors = ['b','g','r','m','c']\n",
    "    for vmm in vmms:\n",
    "        df = catalog.load(f\"{ vmm }.motion_regression.{join}.{id}.data_resimulate\")\n",
    "        \n",
    "        if df['u'].isnull().any():\n",
    "            continue\n",
    "            #index = df['u'].isnull().idxmax()\n",
    "            #df = df.loc[0:index-1].copy()\n",
    "            \n",
    "        dataframes[vmm] = df\n",
    "        if len(colors) > 1:\n",
    "            color=colors.pop(0)\n",
    "        else:\n",
    "            color = colors[0]\n",
    "            \n",
    "        styles[vmm] = {'alpha':0.50,'style':f'{color}-'}\n",
    "\n",
    "    return dataframes,styles"
   ]
  },
  {
   "cell_type": "code",
   "execution_count": null,
   "id": "765b74ef-7914-40b5-8cbf-91826c7681b1",
   "metadata": {
    "tags": [
     "remove-cell"
    ]
   },
   "outputs": [],
   "source": [
    "id = 22774\n",
    "\n",
    "keys=['psi','u','v','r']\n",
    "dataframes, styles = load_join_group_data(join = 'joined', id=id)\n",
    "fig,ax=plt.subplots()\n",
    "fig.set_size_inches(10,10)\n",
    "track_plots(dataframes, styles=styles, lpp=ship_data['L'], beam=ship_data['B'], N=7, plot_boats=False, ax=ax);\n",
    "fig.axes[0].set_xlim(-1,20)\n",
    "fig.axes[0].set_ylim(5,26)\n",
    "glue(\"fig_joined\", fig, display=False)\n",
    "\n",
    "dataframes, styles_ = load_join_group_data(join = 'no_circle', id=id)\n",
    "fig,ax=plt.subplots()\n",
    "fig.set_size_inches(10,10)\n",
    "track_plots(dataframes, styles=styles, lpp=ship_data['L'], beam=ship_data['B'], N=7, plot_boats=False, ax=ax);\n",
    "fig.axes[0].set_xlim(-1,20)\n",
    "fig.axes[0].set_ylim(5,26)\n",
    "glue(\"fig_no_circle\", fig, display=False)\n"
   ]
  },
  {
   "cell_type": "markdown",
   "id": "93d7cd68-88fc-4730-b228-e0ceb94c96be",
   "metadata": {},
   "source": [
    "{numref}`fig_joined` shows the track plots from the turning circle model test and simulations with the manoeuvring models. The manoeuvring models have been trained on all the model tests and it can be seen that all of the manoeuvring models, except the linear model, is in good agreement with the model test. \n",
    "\n",
    "Corresponding simulations have also been conducted with manoeuvring models where the turning circle test has been exluded from the training set (hold-out). Result from these simulations can be seen in {numref}`fig_no_circle`. Only two of the simpler models were able to complete the simulations for this case. Simulations with these models also have less agreement with the model tests then before.\n",
    "\n",
    "\n",
    "```{glue:figure} fig_joined\n",
    ":figwidth: 600px\n",
    ":name: \"fig_joined\"\n",
    "\n",
    "Predictions of turning circle with manoeuvring models trained on all model tests.\n",
    "```\n",
    "\n",
    "```{glue:figure} fig_no_circle\n",
    ":figwidth: 600px\n",
    ":name: \"fig_no_circle\"\n",
    "\n",
    "Predictions of turning circle with manoeuvring models trained on turning circle as hold out.\n",
    "```"
   ]
  },
  {
   "cell_type": "code",
   "execution_count": null,
   "id": "b8afad57-48ff-4448-8d3f-9c2b3b47fb6f",
   "metadata": {
    "tags": [
     "remove-cell"
    ]
   },
   "outputs": [],
   "source": [
    "def load_accuracies():\n",
    "    \n",
    "    regression = \"motion_regression\"\n",
    "    \n",
    "    df_rmse = pd.DataFrame() \n",
    "    \n",
    "    for vmm in vmms:\n",
    "        \n",
    "        for join in joins:\n",
    "        \n",
    "            for id in model_test_ids:\n",
    "    \n",
    "                rmse = catalog.load(f\"{ vmm }.{ regression }.{ join }.{ id }.online_prediction_rmse\")\n",
    "                \n",
    "                \n",
    "                rmse[\"vmm\"] = vmm\n",
    "                rmse[\"join\"] = join\n",
    "                rmse[\"model_test_id\"] = int(id)\n",
    "                df_rmse = df_rmse.append(rmse, ignore_index=True)\n",
    "                \n",
    "    #rmse[\"model_test_id\"] = rmse[\"model_test_id\"].astype(int)\n",
    "    return df_rmse"
   ]
  },
  {
   "cell_type": "code",
   "execution_count": null,
   "id": "950859e5-479d-449f-a807-ad6b3d5ed93e",
   "metadata": {
    "tags": [
     "remove-cell"
    ]
   },
   "outputs": [],
   "source": [
    "df_rmse = load_accuracies()"
   ]
  },
  {
   "cell_type": "markdown",
   "id": "bfb86f7b-9b9a-4574-ac6c-1423269a1f80",
   "metadata": {
    "tags": [
     "remove-cell"
    ]
   },
   "source": [
    "```{glue:figure} fig_no_circle_A_FP_rmse\n",
    ":figwidth: 600px\n",
    ":name: \"fig_no_circle_A_FP_rmse\"\n",
    "\n",
    "RMSE of the total acceleration errors for all the manoeuvring models and turning circle as hold out test type.\n",
    "```"
   ]
  },
  {
   "cell_type": "code",
   "execution_count": null,
   "id": "104094cd-4acb-49ec-878c-82137b4155f7",
   "metadata": {
    "tags": [
     "remove-cell"
    ]
   },
   "outputs": [],
   "source": [
    "hold_outs = {\n",
    "\n",
    "    'no_circle' : [22774,], \n",
    "    'no_ZZ10' : [22764,22769,22770,],\n",
    "    'no_ZZ20' : [22771,22772,22773,],\n",
    "\n",
    "}"
   ]
  },
  {
   "cell_type": "code",
   "execution_count": null,
   "id": "b42e72d8-28f4-4082-93ff-90edb08e73e9",
   "metadata": {
    "tags": [
     "remove-cell"
    ]
   },
   "outputs": [],
   "source": [
    "def hold_out_prediction_error(group,hold_outs):\n",
    "    \n",
    "    join = group.iloc[0]['join']\n",
    "    \n",
    "        \n",
    "    hold_out_test_ids = hold_outs[join]\n",
    "    \n",
    "    mask = group['model_test_id'].isin(hold_out_test_ids)\n",
    "    hold_out_tests = group.loc[mask]\n",
    "    mean_error = hold_out_tests['A_FP'].mean()\n",
    "    \n",
    "    return float(mean_error)\n",
    "    \n",
    "    "
   ]
  },
  {
   "cell_type": "code",
   "execution_count": null,
   "id": "eb13b9d7-a55e-4aaa-900e-2b1919608a8c",
   "metadata": {
    "tags": [
     "remove-cell"
    ]
   },
   "outputs": [],
   "source": [
    "mask = df_rmse['join']!='joined'\n",
    "df_rmse_hold_outs = df_rmse.loc[mask].copy()\n",
    "\n",
    "df_hold_outs = df_rmse_hold_outs.groupby(['vmm','join']).apply(hold_out_prediction_error, hold_outs=hold_outs).reset_index().rename(columns={0:'A_FP'})"
   ]
  },
  {
   "cell_type": "code",
   "execution_count": null,
   "id": "f4191082-36ac-4e8c-b7ec-6574dc82a5e7",
   "metadata": {
    "tags": [
     "remove-cell"
    ]
   },
   "outputs": [],
   "source": [
    "fig,ax=plt.subplots()\n",
    "df_hold_outs.pivot(index='join', columns='vmm').plot.bar(y='A_FP', ax=ax);\n",
    "ax.set_ylim(0,df_hold_outs['A_FP'].max())\n",
    "glue(\"fig_hold_outs\", fig, display=False)"
   ]
  },
  {
   "cell_type": "code",
   "execution_count": null,
   "id": "0c6c0232-2d4e-445b-8951-92108b58f738",
   "metadata": {
    "tags": [
     "remove-cell"
    ]
   },
   "outputs": [],
   "source": [
    "joined_group = df_rmse.groupby(by='join').get_group('joined')\n",
    "df_ref = pd.DataFrame()\n",
    "\n",
    "refs = {f\"{key[3:]}\": value for key, value in hold_outs.items()}\n",
    "\n",
    "for vmm, group in joined_group.groupby('vmm'):\n",
    "    for join, hold_out_test_ids in refs.items():\n",
    "        \n",
    "        mask = group['model_test_id'].isin(hold_out_test_ids)\n",
    "        hold_out_tests = group.loc[mask]\n",
    "        mean_error = hold_out_tests['A_FP'].mean()\n",
    "        s = pd.Series()\n",
    "        s['A_FP'] = mean_error\n",
    "        s['vmm'] = vmm\n",
    "        s['join'] = join\n",
    "        df_ref = df_ref.append(s, ignore_index=True)\n",
    "        "
   ]
  },
  {
   "cell_type": "code",
   "execution_count": null,
   "id": "3212237d-2450-445c-9e30-91cfadace5b6",
   "metadata": {
    "tags": [
     "remove-cell"
    ]
   },
   "outputs": [],
   "source": [
    "fig,ax=plt.subplots()\n",
    "df_ref.pivot(index='join', columns='vmm').plot.bar(y='A_FP', ax=ax);\n",
    "ax.set_ylim(0,df_hold_outs['A_FP'].max())\n",
    "glue(\"fig_ref\", fig, display=False)"
   ]
  },
  {
   "cell_type": "markdown",
   "id": "643dd477-cbc0-4766-8a3e-b18482efe603",
   "metadata": {},
   "source": [
    "The same procedure can also be applied with ZigZag10/10 as hold-out and ZigZag20/20 as hold-out. As a reference, the accuracy for ZigZag10/10, ZigZag20/20 and turning circle from all manoeuvring models trained on all data is showed in {numref}`fig_ref`. How the accuracy of these test types change with hold-out-tests is shown in {numref}`fig_hold_outs`. \n",
    "\n",
    "```{glue:figure} fig_ref\n",
    ":figwidth: 1000px\n",
    ":name: \"fig_ref\"\n",
    "\n",
    "RMSE for ZigZag10/10, ZigZag20/20 and turning circle, for all the manoeuvring models trained on all model tests.\n",
    "```\n",
    "\n",
    "```{glue:figure} fig_hold_outs\n",
    ":figwidth: 1000px\n",
    ":name: \"fig_hold_outs\"\n",
    "\n",
    "RMSE of the total acceleration errors for all the manoeuvring models trained with ZigZag10/10, ZigZag20/20 and turning circle as hold out tests type.\n",
    "```\n",
    "All of the manoeuvring models seem to work for the ZigZag10/10 and 20/20 hold-out tests. The accuracy is not decreased much for these cases, compared to the reference. The ZigZag10/10 hold-out has slightly better accuracy than ZigZag20/20 hold-out for all manoeuvring models. In other words: predicting a ZigZag10/10 from a 20/20 model test gives better accuracy than the reversed scenario.\n",
    "\n",
    "The more complex models, such as the Abkowitz model, have poor accuracy for the Turning circle hold-out, which can even mean that they are not possible to simulate as seen in the begining of this section. "
   ]
  },
  {
   "cell_type": "markdown",
   "id": "b0d7961d-dada-4ade-8685-bcf8f74a8050",
   "metadata": {},
   "source": []
  },
  {
   "cell_type": "code",
   "execution_count": null,
   "id": "51737764-09b6-4a91-99f6-8235b8a0e9a2",
   "metadata": {},
   "outputs": [],
   "source": []
  }
 ],
 "metadata": {
  "kernelspec": {
   "display_name": "wPCC_pipeline",
   "language": "python",
   "name": "python3"
  },
  "language_info": {
   "codemirror_mode": {
    "name": "ipython",
    "version": 3
   },
   "file_extension": ".py",
   "mimetype": "text/x-python",
   "name": "python",
   "nbconvert_exporter": "python",
   "pygments_lexer": "ipython3",
   "version": "3.7.9"
  }
 },
 "nbformat": 4,
 "nbformat_minor": 5
}
