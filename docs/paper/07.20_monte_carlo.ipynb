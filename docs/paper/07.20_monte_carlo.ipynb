{
 "cells": [
  {
   "cell_type": "markdown",
   "id": "1dce5bfb-e84b-4641-8eff-752a749edc0e",
   "metadata": {},
   "source": [
    "### Monte Carlo simulations"
   ]
  },
  {
   "cell_type": "code",
   "execution_count": null,
   "id": "7cf488ba-6ff1-412c-9ab8-73c6a36e4d12",
   "metadata": {
    "tags": [
     "remove-cell"
    ]
   },
   "outputs": [],
   "source": [
    "# %load imports.py\n",
    "%load_ext autoreload\n",
    "%autoreload 2\n",
    "%reload_kedro\n",
    "%config Completer.use_jedi = False  ## (To fix autocomplete)\n",
    "\n",
    "import pandas as pd\n",
    "from src.models.vmm import ModelSimulator\n",
    "import matplotlib.pyplot as plt\n",
    "from src.visualization.plot import track_plots, plot, captive_plot\n",
    "import kedro\n",
    "import numpy as np\n",
    "import os.path\n",
    "import anyconfig\n",
    "\n",
    "import matplotlib\n",
    "matplotlib.rcParams[\"figure.figsize\"] = (15,4)\n",
    "\n",
    "from myst_nb import glue\n",
    "from src.symbols import *\n",
    "import src.symbols as symbols\n",
    "from src.system_equations import *\n",
    "\n",
    "from IPython.display import display, Math, Latex, Markdown\n",
    "from sympy.physics.vector.printing import vpprint, vlatex\n",
    "\n",
    "from src.parameters import df_parameters\n",
    "p = df_parameters[\"symbol\"]\n",
    "\n",
    "# Read configs:\n",
    "conf_path = os.path.join(\"../../conf/base/\")\n",
    "runs_globals_path = os.path.join(\n",
    "    conf_path,\n",
    "    \"runs_globals.yml\",\n",
    ")\n",
    "\n",
    "runs_globals = anyconfig.load(runs_globals_path)\n",
    "model_test_ids = runs_globals[\"model_test_ids\"]\n",
    "\n",
    "join_globals_path = os.path.join(\n",
    "    conf_path,\n",
    "    \"join_globals.yml\",\n",
    ")\n",
    "\n",
    "joins = runs_globals[\"joins\"]\n",
    "join_runs_dict = anyconfig.load(join_globals_path)\n",
    "\n",
    "globals_path = os.path.join(\n",
    "    conf_path,\n",
    "    \"globals.yml\",\n",
    ")\n",
    "global_variables = anyconfig.load(globals_path)\n",
    "\n",
    "\n",
    "\n",
    "vmms = global_variables[\"vmms\"]\n",
    "only_joined = global_variables[\n",
    "    \"only_joined\"\n",
    "]  # (regress/predict with only models from joined runs)S\n",
    "\n",
    "from src.visualization.plot import plot, track_plots, plot_parameters\n",
    "ship_data = catalog.load(\"ship_data\")\n"
   ]
  },
  {
   "cell_type": "code",
   "execution_count": null,
   "id": "70b7b65d-7e4f-4b90-98f7-a3564cb70969",
   "metadata": {
    "tags": [
     "remove-cell"
    ]
   },
   "outputs": [],
   "source": [
    "regressions = {}\n",
    "for vmm_name in vmms:\n",
    "    regressions[vmm_name] = catalog.load(f\"{ vmm_name }.motion_regression.joined.regression\")"
   ]
  },
  {
   "cell_type": "code",
   "execution_count": null,
   "id": "6b683577-5818-4696-9f05-315c53b60802",
   "metadata": {
    "tags": [
     "remove-cell"
    ]
   },
   "outputs": [],
   "source": [
    "fig_template = \"\"\"```{{glue:figure}} {fig_name}\n",
    ":figwidth: 600px\n",
    ":name: \"{fig_name}\"\n",
    "\n",
    "{caption}\n",
    "```\"\"\""
   ]
  },
  {
   "cell_type": "code",
   "execution_count": null,
   "id": "158fade8-721b-4502-a034-0bea8f52dee8",
   "metadata": {
    "tags": [
     "remove-cell"
    ]
   },
   "outputs": [],
   "source": [
    "print(fig_template.format(fig_name='hej', caption='hej'))"
   ]
  },
  {
   "cell_type": "code",
   "execution_count": null,
   "id": "d7d3a9c8-3fdf-4e65-a8fe-e10c01277936",
   "metadata": {
    "tags": [
     "remove-cell"
    ]
   },
   "outputs": [],
   "source": [
    "quantile_cuts_dict={\n",
    "    'vmm_abkowitz' : [0.6, 0.95],\n",
    "}\n",
    "\n",
    "for vmm_name, regression in regressions.items():\n",
    "    parameters = pd.DataFrame()\n",
    "    parameters['mean'] = regression.parameters['regressed']\n",
    "    parameters['std'] = regression.std\n",
    "    quantile_cuts=quantile_cuts_dict.get(vmm_name,[])\n",
    "    fig = plot_parameters(parameters, quantile_cuts=quantile_cuts);\n",
    "    \n",
    "    fig_name = f\"fig_parameters_{vmm_name}\"\n",
    "    glue(fig_name, fig, display=False)\n",
    "    \n",
    "    caption = f\"Regressed parameters on {vmm_name}\"\n",
    "    print(fig_template.format(fig_name=fig_name, caption=caption))\n",
    "    \n",
    "    \n",
    "    "
   ]
  },
  {
   "cell_type": "markdown",
   "id": "93198ac3-2877-46e6-ae27-0f8639444afe",
   "metadata": {},
   "source": [
    "Hydrodynamic derivatives regressed on all model tests are shown for the examined VMM:s below. The Abkowitz model has a lot of parameters as seen in {numref}`fig_parameters_vmm_abkowitz`. According to the Centrall limit theorem the hydrodynamic derivatives from the OLS regression are Gausian random variables. The bar plots show the mean values of these random variables together with the standard deviation shown as the black error bars. It can be seen that the black error bars are much larger for the Abkowitz model, which means that the parameters of this model are much more uncertain.\n",
    "\n",
    "```{glue:figure} fig_parameters_vmm_abkowitz\n",
    ":figwidth: 600px\n",
    ":name: \"fig_parameters_vmm_abkowitz\"\n",
    "\n",
    "Regressed parameters on vmm_abkowitz\n",
    "```\n",
    "```{glue:figure} fig_parameters_vmm_martin\n",
    ":figwidth: 600px\n",
    ":name: \"fig_parameters_vmm_martin\"\n",
    "\n",
    "Regressed parameters on vmm_martin\n",
    "```\n",
    "```{glue:figure} fig_parameters_vmm_linear\n",
    ":figwidth: 600px\n",
    ":name: \"fig_parameters_vmm_linear\"\n",
    "\n",
    "Regressed parameters on vmm_linear\n",
    "```\n",
    "```{glue:figure} fig_parameters_vmm_martins_simple\n",
    ":figwidth: 600px\n",
    ":name: \"fig_parameters_vmm_martins_simple\"\n",
    "\n",
    "Regressed parameters on vmm_martins_simple\n",
    "```"
   ]
  },
  {
   "cell_type": "code",
   "execution_count": null,
   "id": "c7220ec4-cf71-41fd-8c31-413f33d15436",
   "metadata": {},
   "outputs": [],
   "source": []
  }
 ],
 "metadata": {
  "kernelspec": {
   "display_name": "wPCC_pipeline",
   "language": "python",
   "name": "python3"
  },
  "language_info": {
   "codemirror_mode": {
    "name": "ipython",
    "version": 3
   },
   "file_extension": ".py",
   "mimetype": "text/x-python",
   "name": "python",
   "nbconvert_exporter": "python",
   "pygments_lexer": "ipython3",
   "version": "3.7.9"
  }
 },
 "nbformat": 4,
 "nbformat_minor": 5
}
