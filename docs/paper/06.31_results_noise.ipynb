{
 "cells": [
  {
   "cell_type": "markdown",
   "id": "d1d38b4c-4f2c-4956-aa46-fef1cc12925e",
   "metadata": {},
   "source": [
    "### Preprocessor"
   ]
  },
  {
   "cell_type": "code",
   "execution_count": null,
   "id": "5b3b0d31-017c-46f0-a809-1e695b895fbf",
   "metadata": {
    "tags": [
     "remove-cell"
    ]
   },
   "outputs": [],
   "source": [
    "# %load imports.py\n",
    "%load_ext autoreload\n",
    "%autoreload 2\n",
    "%reload_kedro\n",
    "%config Completer.use_jedi = False  ## (To fix autocomplete)\n",
    "%matplotlib inline\n",
    "\n",
    "import pandas as pd\n",
    "import matplotlib.pyplot as plt\n",
    "from src.visualization.plot import track_plots, plot, captive_plot\n",
    "import kedro\n",
    "import numpy as np\n",
    "import os.path\n",
    "import anyconfig\n",
    "\n",
    "import matplotlib.pyplot as plt\n",
    "import matplotlib\n",
    "plt.style.use('paper')\n",
    "from IPython.display import set_matplotlib_formats\n",
    "set_matplotlib_formats('pdf')\n",
    "\n",
    "plt.rcParams.update({\n",
    "    \"font.family\": \"serif\",\n",
    "    \"font.serif\": [\"Times\"]})\n",
    "\n",
    "from myst_nb import glue\n",
    "from src.symbols import *\n",
    "import src.symbols as symbols\n",
    "from src.system_equations import *\n",
    "\n",
    "from IPython.display import display, Math, Latex, Markdown\n",
    "from sympy.physics.vector.printing import vpprint, vlatex\n",
    "\n",
    "from src.parameters import df_parameters\n",
    "p = df_parameters[\"symbol\"]\n",
    "\n",
    "# Read configs:\n",
    "conf_path = os.path.join(\"../../conf/base/\")\n",
    "runs_globals_path = os.path.join(\n",
    "    conf_path,\n",
    "    \"runs_globals.yml\",\n",
    ")\n",
    "\n",
    "runs_globals = anyconfig.load(runs_globals_path)\n",
    "model_test_ids = runs_globals[\"model_test_ids\"]\n",
    "\n",
    "join_globals_path = os.path.join(\n",
    "    conf_path,\n",
    "    \"join_globals.yml\",\n",
    ")\n",
    "\n",
    "joins = runs_globals[\"joins\"]\n",
    "join_runs_dict = anyconfig.load(join_globals_path)\n",
    "\n",
    "globals_path = os.path.join(\n",
    "    conf_path,\n",
    "    \"globals.yml\",\n",
    ")\n",
    "global_variables = anyconfig.load(globals_path)\n",
    "\n",
    "\n",
    "\n",
    "vmms = global_variables[\"vmms\"]\n",
    "from sklearn.metrics import r2_score\n",
    "from pathlib import Path"
   ]
  },
  {
   "cell_type": "code",
   "execution_count": null,
   "id": "83e1fa50-a87a-44d2-8c61-d64fccea80d8",
   "metadata": {
    "tags": [
     "remove-cell"
    ]
   },
   "outputs": [],
   "source": [
    "#ship = \"kvlcc2_hsva\"\n",
    "ship = \"wpcc\"\n",
    "#id = model_test_ids[ship][0]\n",
    "#id = \"22774\"\n",
    "id = \"22771\"\n",
    "#id = \"22611\"\n",
    "raw_data = catalog.load(f\"{ship}.{ id }.data\")\n",
    "ship_data = catalog.load(f\"{ship}.ship_data\")\n",
    "vmm_name = \"vmm_martins_simple\"\n",
    "\n",
    "lowpass_simulations = catalog.load(f\"{ship}.lowpass_simulation\")\n",
    "EKF_simulation = catalog.load(f\"{ship}.updated.vmm_martins_simple.joined.{ id }.data_resimulate\")\n",
    "\n",
    "df_lowpass_simulations = pd.DataFrame(index=lowpass_simulations.keys())\n",
    "df_lowpass_simulations['id'] = [Path(key).parts[-1] for key in lowpass_simulations.keys()]\n",
    "df_lowpass_simulations['cuttoff'] = [Path(key).parts[-2] for key in lowpass_simulations.keys()]\n",
    "df_lowpass_simulations['loader'] = lowpass_simulations.values()\n",
    "df_lowpass_simulations.sort_values(by=[\"id\",\"cuttoff\"], inplace=True)\n",
    "\n",
    "r2_lowpass = catalog.load(\"wpcc.r2_lowpass\")\n",
    "exclude_runs = [22611,22635,22639]\n",
    "mask = ~r2_lowpass['id'].isin(exclude_runs)\n",
    "r2_lowpass = r2_lowpass.loc[mask].copy()\n",
    "\n",
    "#r2_lowpass['mean_pos'] = r2_lowpass[['x0','y0']].mean(axis=1)\n",
    "\n",
    "r2_EKF = catalog.load(\"wpcc.r2_EKF\")\n",
    "mask = ~r2_EKF.index.isin(exclude_runs)\n",
    "r2_EKF = r2_EKF.loc[mask].copy()\n",
    "#r2_EKF['mean_pos'] = r2_EKF[['x0','y0']].mean(axis=1)\n"
   ]
  },
  {
   "cell_type": "code",
   "execution_count": null,
   "id": "91b0d1ad-fe43-483f-ae5a-8687e39167fb",
   "metadata": {
    "tags": [
     "remove-cell"
    ]
   },
   "outputs": [],
   "source": [
    "mask = df_lowpass_simulations['id'] == id\n",
    "dataframes_lowpass = {f\"{row['cuttoff']} [Hz]\": row['loader']() for key, row in df_lowpass_simulations.loc[mask].iterrows()}"
   ]
  },
  {
   "cell_type": "code",
   "execution_count": null,
   "id": "bd5e0734-6f23-42d5-8dee-bb5a86be1566",
   "metadata": {
    "tags": [
     "remove-cell"
    ]
   },
   "outputs": [],
   "source": [
    "dataframes = {\n",
    "    'Model test' : raw_data,\n",
    "    'EKF' : EKF_simulation,\n",
    "    \n",
    "}\n",
    "\n",
    "dataframes.update(dataframes_lowpass)\n",
    "\n",
    "styles = {\n",
    "    'Model test' : {'style':'k-', \"zorder\":20},\n",
    "    'EKF' : {'style':'b-', \"zorder\":19},   \n",
    "}\n",
    "\n",
    "for key in dataframes_lowpass.keys():\n",
    "    styles[key] = {'alpha':0.5}\n",
    "\n",
    "ax = track_plots(dataframes=dataframes, lpp=ship_data['L'], beam=ship_data['B'],N=2, styles=styles, flip=True, time_window=[0,50]);\n",
    "ax.legend(loc='upper left')\n",
    "#ax.set_ylim(-1,5)\n",
    "#ax.set_xlim(-5,40)"
   ]
  },
  {
   "cell_type": "code",
   "execution_count": null,
   "id": "8a9bd9be-e7a6-4683-b989-ea183900fa34",
   "metadata": {
    "tags": [
     "remove-cell"
    ]
   },
   "outputs": [],
   "source": [
    "r2_lowpass_average = r2_lowpass.groupby(by=['cuttoff'])[['RMSE']].mean()"
   ]
  },
  {
   "cell_type": "markdown",
   "id": "c8c2447d-2c60-4a1c-9b0f-0f98259b034f",
   "metadata": {},
   "source": [
    "Instead of the EKF which the proposed PIT uses, the low-pass filter is very comon choice to preprocess the model test data.\n",
    "In order to study which of the filters that works the best, the proposed PIT has been run on the wPCC model test data with the EKF + RTS smoother replaced by a Low-pass filter instead. The lowpass filter applies a first order linear digital Butterworth filter twice, once forward and once backwards, to get zero phase {cite:p}`virtanen_scipy_2020`. {numref}`fig_lowpass_accuracy` shows the average simulation error $ \\overline{RMSE} $ with low-pass filters at various cutt off frequencies for all wPCC model tets. Corresponding error with PIT using EKF + RTS is also shown in the figure. The smiulation error for each model test is expressed as Root Mean Square Error $RMSE$ [eq](eq_RMSE) of the distance between the position from the model test and simulation. The low-pass filter with 7 Hz cutt off frequency has the lowest error between the low-pass filters, but EKF + RTS in the PIT has even lower error.\n",
    "\n",
    "```{glue:math} eq_RMSE\n",
    ":label: \"eq_RMSE\"\n",
    "```\n"
   ]
  },
  {
   "cell_type": "code",
   "execution_count": null,
   "id": "d1d8291b-5838-47a5-b034-57e1c3be7676",
   "metadata": {
    "tags": [
     "remove-cell"
    ]
   },
   "outputs": [],
   "source": [
    "eq_RMSE = Latex(r\"$RMSE=\\sqrt{ \\frac{\\sum_{n=1}^{N} (d_n^2) }{N}} $\")\n",
    "glue(\"eq_RMSE\", eq_RMSE)"
   ]
  },
  {
   "cell_type": "markdown",
   "id": "605f3984-e8fd-41c5-9f5c-88d302ddcdac",
   "metadata": {},
   "source": [
    "where $d_n$ is the euclidean distance for each time step between the model test positions ($x_0$, $y_0$) and the predicted positions. "
   ]
  },
  {
   "cell_type": "markdown",
   "id": "07bc643e-3fe5-43f0-a941-85b6f4b60851",
   "metadata": {},
   "source": [
    "```{glue:figure} fig_lowpass_accuracy\n",
    ":name: \"fig_lowpass_accuracy\"\n",
    "\n",
    "Average simulation error with MA VMM fitted on wPCC model test data using low-pass filters with various cutt off frequency or EKF.\n",
    "```"
   ]
  },
  {
   "cell_type": "code",
   "execution_count": null,
   "id": "70345d20-6ed3-405a-a652-4b93f3a00df1",
   "metadata": {
    "tags": [
     "remove-cell"
    ]
   },
   "outputs": [],
   "source": [
    "fig,ax=plt.subplots()\n",
    "y='RMSE'\n",
    "r2_lowpass_average.plot(y=y, ax=ax, label='Low-pass', style='.-')\n",
    "\n",
    "accuracy_EKF = r2_EKF[y].mean()\n",
    "y_err_EKF = r2_EKF[y].std()\n",
    "\n",
    "y0 = np.array([accuracy_EKF, accuracy_EKF])\n",
    "ax.plot([r2_lowpass_average.index[0],r2_lowpass_average.index[-1]], y0, label='EKF + smoother')\n",
    "\n",
    "ax.set_ylim(0,0.5*r2_lowpass_average[y].max())\n",
    "\n",
    "ax.set_ylabel(r'Average simulation error, $\\overline{RMSE}$ $[m]$')\n",
    "ax.set_xlabel('Low-pass cut off frequency [Hz]')\n",
    "ax.grid(True)\n",
    "ax.legend(loc='best')\n",
    "ax.set_xticks(r2_lowpass_average.index.values);\n",
    "glue(\"fig_lowpass_accuracy\", fig, display=False)"
   ]
  }
 ],
 "metadata": {
  "citation-manager": {
   "items": {}
  },
  "kernelspec": {
   "display_name": "wPCC_pipeline",
   "language": "python",
   "name": "python3"
  },
  "language_info": {
   "codemirror_mode": {
    "name": "ipython",
    "version": 3
   },
   "file_extension": ".py",
   "mimetype": "text/x-python",
   "name": "python",
   "nbconvert_exporter": "python",
   "pygments_lexer": "ipython3",
   "version": "3.7.9"
  }
 },
 "nbformat": 4,
 "nbformat_minor": 5
}
