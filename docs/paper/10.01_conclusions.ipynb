{
 "cells": [
  {
   "cell_type": "markdown",
   "id": "28e1f1ec-6660-42e2-88b4-9261827177e1",
   "metadata": {},
   "source": [
    "(conclusions)=\n",
    "# Conclusions"
   ]
  },
  {
   "cell_type": "markdown",
   "id": "32162c0d-b860-44cd-9081-ec8e02014f61",
   "metadata": {},
   "source": [
    "This paper presented a new method for system identification of ship manoeuvring dynamics using a new Parameter Identification Technique (PIT) applied to Vessel Manoeuvring Models (VMMs). The proposed method includes:\n",
    "\n",
    "*  A methodology to select a suitable VMM based on cross-validation, where the validation set should have larger yaw rates, drift angles and rudder angles compared to the training set.\n",
    "    \n",
    "* A new PIT method which includes:\n",
    "    * Preprocess measurement data with EKF + RTS run in iteration with initial guess from semi-empirical formulas.\n",
    "    * Inverse dynamics regression\n",
    "    \n",
    "\n",
    "It was shown that:\n",
    "* The new method can predict Turning circles with less than 5 \\% error in advance and tactical diameter for the wPCC and KVLCC2 test cases, which should be considered sufficient considering the margin to the corresponding limits in the IMO standard for both ships. \n",
    "\n",
    "* For the KVLCC2 case with the VMM trained on zigzag model test data from the towing tank at HSVA, it was possible to reproduce the turning circle model test data from MARIN with reasonable accuracy. This example is one exciting application where the new method can be used to extend the model test from a narrow towing tank to predict turning circles.\n",
    "    \n",
    "* The inverse dynamics regression had higher accuracy when the proposed preprocessor was used instead of low-pass filters.  \n",
    "\n",
    "\n",
    "Finally, it is concluded that the proposed method can potentially improve the system identification of ship manoeuvring dynamics. The KVLCC2 test case results with the new method are closer to the model tests compared to a similar study $\\cite{he_nonparametric_2022}$. Adding the prior knowledge from semi-empirical formulas as the initial guess into the EKF iteration, adding the thrust model and adopting the complexity of the VMM by reducing the number of hydrodynamic derivatives are all contributing to the improved performance."
   ]
  },
  {
   "cell_type": "code",
   "execution_count": null,
   "id": "4dd45ce2-a990-46fe-a2c9-d8bc2b43b62f",
   "metadata": {},
   "outputs": [],
   "source": []
  }
 ],
 "metadata": {
  "citation-manager": {
   "items": {}
  },
  "kernelspec": {
   "display_name": "wPCC_pipeline",
   "language": "python",
   "name": "python3"
  },
  "language_info": {
   "codemirror_mode": {
    "name": "ipython",
    "version": 3
   },
   "file_extension": ".py",
   "mimetype": "text/x-python",
   "name": "python",
   "nbconvert_exporter": "python",
   "pygments_lexer": "ipython3",
   "version": "3.7.9"
  }
 },
 "nbformat": 4,
 "nbformat_minor": 5
}
