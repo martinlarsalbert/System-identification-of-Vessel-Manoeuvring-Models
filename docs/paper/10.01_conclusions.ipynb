{
 "cells": [
  {
   "cell_type": "markdown",
   "id": "28e1f1ec-6660-42e2-88b4-9261827177e1",
   "metadata": {},
   "source": [
    "(conclusions)=\n",
    "# Conclusions"
   ]
  },
  {
   "cell_type": "markdown",
   "id": "32162c0d-b860-44cd-9081-ec8e02014f61",
   "metadata": {},
   "source": [
    "The proposed PIT requires that the model test data is preprocessed to remove measurement noise. Good accuracy can be obtained using a low-pass filter as the preprocessor if an optimal cut off frequency is selected. The accuracy decreases however quickly at lower or higher frequencies. With higher cut off frequencies (having no filter at all is the extreme case) too much of the measurement error remains in the data. This gives poor performance of the OLS regression. Too low cut off frequency will on the other hand remove too much, also removing parts of the true signal, which also gives poor accuracy. The proposed PIT therefore uses an Iterrative EKF and RTS smoother as the preprocessor which gives higher accuracy and also avoids the trouble of finding the optimal cut off frequency of a low-pass filter.\n",
    "\n",
    "The proposed PIT can reproduce the model test results for the two test cases: wPCC and KVLCC2 with good accuracy. To avoid overfitting, alternative VMM:s have been invesigated with varying complexity. Predicting turning circles from model test data (where turning circles are missing) was selected as a good test task to try this out. \n",
    "\n",
    "It was found possible to predict turning circles with less than 5 % error in advance and tactical diameter, using a MAVMM, which is well within the margin to the corresponding limits in the IMO standard for both test cases. In the KVLCC2 case the VMM was trained on zigzag model test data from the towing tank at HSVA. This model was able to reproduce turing circle model test data from MARIN. The PIT can thereby be used to predict turning circles from experiments in a narow towing tank, where such a model tests are not possible.\n",
    "\n",
    "Multicollinearity was a large problem when a more complex Abkowitz model was used. This model gave a better description of the known training data, but quickly generated huge extrapolation errors when turning circles should be predicted with a VMM trained on zigzag test data. Investigating how well a model can make predictions outside its training data is therefore crucial. The available model test data should therefore be split into a training and validation set, where the validation set has larger drift angles and yaw rates then the training set. Predictions on the validation test can be used to chose the best VMM for the present data and purpose.\n",
    "\n",
    "Propeller thrust was measured during the model tests from SSPA and HSVA. To make use of this data, MAVMM was split into two models: one hull and rudder model and one propeller model. The models were connected by adding thrust dependent coefficients such as $Y_{T\\delta}$ and $X_T$ to the MAVMM. Mesured thrust data was used directly into the MAVMM for the wPCC test case, to put the focus on the modelling of hull and rudder forces. For the KVLCC2 test case also a simple polynomial propeller model was fitted to the thrust data. Connecting this propeller model to the MAVMM, made it possible to predict the turning circles from MARIN, where only propeller speed and no thrust was available."
   ]
  }
 ],
 "metadata": {
  "citation-manager": {
   "items": {}
  },
  "kernelspec": {
   "display_name": "wPCC_pipeline",
   "language": "python",
   "name": "python3"
  },
  "language_info": {
   "codemirror_mode": {
    "name": "ipython",
    "version": 3
   },
   "file_extension": ".py",
   "mimetype": "text/x-python",
   "name": "python",
   "nbconvert_exporter": "python",
   "pygments_lexer": "ipython3",
   "version": "3.7.9"
  }
 },
 "nbformat": 4,
 "nbformat_minor": 5
}
