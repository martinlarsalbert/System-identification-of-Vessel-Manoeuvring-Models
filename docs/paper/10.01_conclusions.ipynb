{
 "cells": [
  {
   "cell_type": "markdown",
   "id": "28e1f1ec-6660-42e2-88b4-9261827177e1",
   "metadata": {},
   "source": [
    "(conclusions)=\n",
    "# Conclusions"
   ]
  },
  {
   "cell_type": "markdown",
   "id": "32162c0d-b860-44cd-9081-ec8e02014f61",
   "metadata": {},
   "source": [
    "Using inverse dynamics in the proposed PIT can find the parameters in a VMM exactly if there is no measurement noise and if the VMM is a perfect model. This can be seen when identifying parameters in a VMM on data from simulations with the same VMM. In order to succeed in system identification on real model test data, measurement noise needs to be handled and a VMM close as possible to the real ship dynamics needs to be found.   \n",
    "\n",
    "The proposed PIT requires that the model test data is preprocessed to remove measurement noise. High accuracy can be obtained using a low-pass filter as the preprocessor if an optimal cut off frequency is selected. The accuracy decreases however quickly at lower or higher frequencies. With higher cut off frequencies too much of the measurement error remains in the data (having no filter at all is the extreme case), with poor performance of the OLS regression. Too low cut off frequency on the other hand, removes too much, also removing parts of the true signal. The proposed PIT therefore uses an Iterative EKF and RTS smoother as the preprocessor which gives higher accuracy and also avoids the trouble of finding the optimal cut off frequency of a low-pass filter.\n",
    "\n",
    "The proposed PIT applied on the AVMM can reproduce the model test results for the two test cases (wPCC and KVLCC2) with high accuracy. Multicollinearity is however a large problem with AVMM for both the wPCC and KVLCC2 data. As a consequence, some of the regressed hydrodynamic derivatives in the AVMM have unphysically large values and also very large uncertainty. The model is still mathematically correct, where the regressed polynomials fit the training data well.\n",
    "The regressed polynomial is the sum of very large counteracting coefficients. The model works, as long as the states are similar to the training data. But when extrapolating, it is easy to imagine that the balance between these huge derivatives is disturbed, giving large extrapolation errors very quickly. This behavior was seen when predicting forces and moments with the AVMM on unseen validation data.  \n",
    "\n",
    "The MAVMM has fewer hydrodynamic derivatives with lower multicollinearity and smaller extrapolation errors. Including propeller thrust in the VMM made it possible to obtain high accuracy with fewer hydrodynamic derivatives.\n",
    "\n",
    "A methodology for cross validation of the PIT was proposed, where available model test data should be split into a training and validation set. The validation set should have larger: drift angles, rudder angles and yaw rates than the training set. Investigating how well a model can make predictions outside its training data was found to be crucial.\n",
    "\n",
    "The MAVMM was selected for both test vessels based on the cross validation. It was found possible to predict turning circles with less than 5 % error in advance and tactical diameter, which is well within the margin to the corresponding limits in the IMO standard for both test cases. In the KVLCC2 case the VMM was trained on zigzag model test data from the towing tank at HSVA. This model was able to reproduce turning circle model test data from MARIN with good accuracy. The PIT can thereby be used to develop VMMs from model tests with a free model which has a lot of useful applications. Predicting turning circles from experiments in a narrow towing tank is just one example. A similar PIT could perhaps also be applied on full scale data, which is another interesting application for the future. "
   ]
  },
  {
   "cell_type": "code",
   "execution_count": null,
   "id": "ff98a565-c9b0-450f-823d-cd27967d9787",
   "metadata": {},
   "outputs": [],
   "source": []
  }
 ],
 "metadata": {
  "citation-manager": {
   "items": {}
  },
  "kernelspec": {
   "display_name": "wPCC_pipeline",
   "language": "python",
   "name": "python3"
  },
  "language_info": {
   "codemirror_mode": {
    "name": "ipython",
    "version": 3
   },
   "file_extension": ".py",
   "mimetype": "text/x-python",
   "name": "python",
   "nbconvert_exporter": "python",
   "pygments_lexer": "ipython3",
   "version": "3.7.9"
  }
 },
 "nbformat": 4,
 "nbformat_minor": 5
}
