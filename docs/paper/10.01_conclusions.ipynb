{
 "cells": [
  {
   "cell_type": "markdown",
   "id": "28e1f1ec-6660-42e2-88b4-9261827177e1",
   "metadata": {},
   "source": [
    "(conclusions)=\n",
    "# Conclusions"
   ]
  },
  {
   "cell_type": "markdown",
   "id": "32162c0d-b860-44cd-9081-ec8e02014f61",
   "metadata": {},
   "source": [
    "Using inverse dynamics in the proposed PIT can find the parameters in a VMM exactly if there is no measurement noise and if the VMM is a perfect model. This can be seen when identifying parameters in a VMM on data from simulations with the same VMM. In order to suceed in system identification on real model test data measurement noise therefore needs to be handled and a VMM close as possible to the real ship dynamics needs to be found.   \n",
    "\n",
    "The proposed PIT requires that the model test data is preprocessed to remove measurement noise. High accuracy can be obtained using a low-pass filter as the preprocessor if an optimal cut off frequency is selected. The accuracy decreases however quickly at lower or higher frequencies. With higher cut off frequencies too much of the measurement error remains in the data (having no filter at all is the extreme case), with poor performance of the OLS regression. Too low cut off frequency will on the other hand remove too much, also removing parts of the true signal. The proposed PIT therefore uses an Iterrative EKF and RTS smoother as the preprocessor which gives higher accuracy and also avoids the trouble of finding the optimal cut off frequency of a low-pass filter.\n",
    "\n",
    "Including propeller thrust in the VMM made it possible to obtain high accuracy with very few hydrodynamic derivatives. Fewer hydrodynamic derivatives reduces the complexity of the VMM with lower multicollinearity and smaller extrapolation errors.\n",
    "\n",
    "The proposed PIT can reproduce the model test results for the two test cases: wPCC and KVLCC2 with high accuracy. Multicollinearity was a large problem when AVMM (the more complex model) was used. To avoid overfitting, alternative VMMs have been invesigated with varying complexity. Predicting turning circles from model test data (where turning circles are excluded) was selected as a suitable test to try this out. \n",
    "\n",
    "AVMM gave a better description of the known training data, but quickly generated huge extrapolation errors when predicting turning circles with model trained on only zigzag tests. Investigating how well a model can make predictions outside its training data is therefore crucial. A cross validation study should be conducted, where available model test data should be split into a training and validation set. The validation set should have larger: drift angles, rudder angles and yaw rates than the training set. \n",
    "\n",
    "The MAVMM was selected for both test vessels based on cross validation. It was found possible to predict turning circles with less than 5 % error in advance and tactical diameter, which is well within the margin to the corresponding limits in the IMO standard for both test cases. In the KVLCC2 case the VMM was trained on zigzag model test data from the towing tank at HSVA. This model was able to reproduce turing circle model test data from MARIN. The PIT can thereby be used to predict turning circles from experiments in a narow towing tank, where such a model tests are not possible."
   ]
  }
 ],
 "metadata": {
  "citation-manager": {
   "items": {}
  },
  "kernelspec": {
   "display_name": "wPCC_pipeline",
   "language": "python",
   "name": "python3"
  },
  "language_info": {
   "codemirror_mode": {
    "name": "ipython",
    "version": 3
   },
   "file_extension": ".py",
   "mimetype": "text/x-python",
   "name": "python",
   "nbconvert_exporter": "python",
   "pygments_lexer": "ipython3",
   "version": "3.7.9"
  }
 },
 "nbformat": 4,
 "nbformat_minor": 5
}
