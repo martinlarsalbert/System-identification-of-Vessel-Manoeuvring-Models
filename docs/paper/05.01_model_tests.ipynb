{
 "cells": [
  {
   "cell_type": "markdown",
   "id": "ecef5b6a-812e-4031-b8a2-473f41761c9b",
   "metadata": {
    "tags": []
   },
   "source": [
    "# Test cases"
   ]
  },
  {
   "cell_type": "code",
   "execution_count": null,
   "id": "ff85e028-443e-4642-b362-8dad70d72fc8",
   "metadata": {
    "tags": [
     "remove-cell"
    ]
   },
   "outputs": [],
   "source": [
    "# %load imports.py\n",
    "%load_ext autoreload\n",
    "%autoreload 2\n",
    "%reload_kedro\n",
    "%config Completer.use_jedi = False  ## (To fix autocomplete)\n",
    "%matplotlib inline\n",
    "\n",
    "import pandas as pd\n",
    "pd.set_option('display.max_columns', 500)\n",
    "from src.models.vmm import ModelSimulator\n",
    "import matplotlib.pyplot as plt\n",
    "from src.visualization.plot import track_plots, plot, captive_plot\n",
    "import kedro\n",
    "import numpy as np\n",
    "import os.path\n",
    "import anyconfig\n",
    "\n",
    "import matplotlib\n",
    "plt.style.use('paper')\n",
    "\n",
    "from myst_nb import glue\n",
    "from src.symbols import *\n",
    "import src.symbols as symbols\n",
    "from src.system_equations import *\n",
    "\n",
    "from IPython.display import display, Math, Latex, Markdown\n",
    "from sympy.physics.vector.printing import vpprint, vlatex\n",
    "\n",
    "from src.parameters import df_parameters\n",
    "p = df_parameters[\"symbol\"]\n",
    "\n",
    "# Read configs:\n",
    "conf_path = os.path.join(\"../../conf/base/\")\n",
    "runs_globals_path = os.path.join(\n",
    "    conf_path,\n",
    "    \"runs_globals.yml\",\n",
    ")\n",
    "\n",
    "runs_globals = anyconfig.load(runs_globals_path)\n",
    "model_test_ids = runs_globals[\"model_test_ids\"]\n",
    "\n",
    "join_globals_path = os.path.join(\n",
    "    conf_path,\n",
    "    \"join_globals.yml\",\n",
    ")\n",
    "\n",
    "joins = runs_globals[\"joins\"]\n",
    "join_runs_dict = anyconfig.load(join_globals_path)\n",
    "\n",
    "globals_path = os.path.join(\n",
    "    conf_path,\n",
    "    \"globals.yml\",\n",
    ")\n",
    "global_variables = anyconfig.load(globals_path)\n",
    "\n",
    "\n",
    "\n",
    "vmms = global_variables[\"vmms\"]\n",
    "from src.visualization.plot import track_plots, track_plot, plot, plot_parameters"
   ]
  },
  {
   "cell_type": "code",
   "execution_count": null,
   "id": "7b2ae155-8d00-4616-9c40-d6fff2a40c21",
   "metadata": {
    "tags": [
     "remove-cell"
    ]
   },
   "outputs": [],
   "source": [
    "model_test_ids.keys()"
   ]
  },
  {
   "cell_type": "code",
   "execution_count": null,
   "id": "19cdcb39-f023-4f0a-a9ab-ba504de1deea",
   "metadata": {
    "tags": [
     "remove-cell"
    ]
   },
   "outputs": [],
   "source": [
    "ships = ['wpcc','LNG','kvlcc2_hsva']\n",
    "\n",
    "ship_datas = {}\n",
    "initial_parameters = {}\n",
    "\n",
    "for ship in ships:\n",
    "       \n",
    "    ship_datas[ship] = catalog.load(f\"{ship}.ship_data\")\n",
    "    initial_parameters[ship] = catalog.load(f\"{ship}.initial_parameters\")\n",
    "    \n",
    "\n",
    "ship_datas = pd.DataFrame(ship_datas)\n",
    "ship_datas.dropna(how='any', inplace=True)\n",
    "\n",
    "initial_parameters = pd.DataFrame(initial_parameters)\n",
    "initial_parameters.drop(index='Xthrust', inplace=True)\n",
    "mask = (initial_parameters!=0).all(axis=1)\n",
    "initial_parameters = initial_parameters.loc[mask].copy()"
   ]
  },
  {
   "cell_type": "code",
   "execution_count": null,
   "id": "229a6fb0-2243-4ad0-a2cd-3c58728bf18b",
   "metadata": {
    "tags": [
     "remove-cell"
    ]
   },
   "outputs": [],
   "source": [
    "ship_data_table = ship_datas.copy()\n",
    "ship_data_table.rename(columns={'wpcc':'WPCC', 'kvlcc2_hsva': 'KVLCC2 (HSVA)'}, inplace=True)\n",
    "ship_data_table = ship_data_table.transpose()\n",
    "ship_data_table.drop(columns=['rho'], inplace=True)\n",
    "ship_data_table.rename(\n",
    "    columns={\n",
    "        'T':'T [m]',\n",
    "        'L':'L [m]',\n",
    "        'B':'B [m]',\n",
    "        'x_G': 'LCG [m]',\n",
    "        'm': 'm [kg]',\n",
    "        'I_z':'Izz [kg m2]',\n",
    "        'volume':'Disp [m3]',\n",
    "        'scale_factor':'scale factor',\n",
    "        'TWIN':'Np',\n",
    "    },\n",
    "    \n",
    "    inplace=True)\n",
    "\n",
    "ship_data_table['Np']+=1\n",
    "ship_data_table['Np']=ship_data_table['Np'].astype(int)\n",
    "\n",
    "ship_data_table = ship_data_table.round(decimals=2)\n",
    "glue(\"ship_datas\", ship_data_table)"
   ]
  },
  {
   "cell_type": "code",
   "execution_count": null,
   "id": "4bbf5303-8108-4764-8238-9a2b07dbbf1b",
   "metadata": {
    "tags": [
     "remove-cell"
    ]
   },
   "outputs": [],
   "source": [
    "initial_parameter_table = initial_parameters.rename(columns={'wpcc':'WPCC', 'kvlcc2_hsva': 'KVLCC2 (HSVA)'})\n",
    "initial_parameter_table = initial_parameter_table.transpose()\n",
    "initial_parameter_table = initial_parameter_table.round(decimals=6)\n",
    "\n",
    "glue(\"initial_parameters\", 1000*initial_parameter_table)"
   ]
  },
  {
   "cell_type": "code",
   "execution_count": null,
   "id": "79c9ea65-59a1-4451-abe5-9a602223c442",
   "metadata": {
    "tags": [
     "remove-cell"
    ]
   },
   "outputs": [],
   "source": [
    "df_brix = pd.merge(left=initial_parameters, right=df_parameters, how='left', left_index=True, right_index=True)\n",
    "df_brix.dropna(subset=['brix'], inplace=True)\n",
    "brix = \"brix_manoeuvring_1993\"\n",
    "df_brix['ref'] = brix"
   ]
  },
  {
   "cell_type": "code",
   "execution_count": null,
   "id": "06df6dbe-f146-42d6-8814-0e32cc87e514",
   "metadata": {
    "tags": [
     "remove-cell"
    ]
   },
   "outputs": [],
   "source": [
    "s_table = \"\"\"\n",
    "| Parameter                            |       Equation                    | Reference |\n",
    "|:------------------------------------:|:---------------------------------:|:---------------------------------:|\n",
    "\"\"\"\n",
    "for name, parameter in df_brix.iterrows():\n",
    "    \n",
    "    glue(name, parameter['brix'])\n",
    "    s_table+= f\"| ${parameter['symbol']}$                            |       {{glue:}}`{name}`                     | {{cite:p}}`{parameter['ref']}` |\\n\"\n",
    "    \n",
    "print(s_table)"
   ]
  },
  {
   "cell_type": "markdown",
   "id": "3d58e06e-769d-42c8-aee7-4ee807dc741e",
   "metadata": {},
   "source": [
    "Parameters in Abkowitz VMM:s are identified with the developed PIT for three test cases: WPCC, LNG and KVLCC2. Model test data from SSPA Maritime Dynamics Laboratory is used for WPCC, and LNG. Data from the SIMMAN2008 conference tested at HSVA is used for the KVLCC2. Main dimensions for the ship models used in these tests are summarized in [table](ship_datas).\n",
    "\n",
    "```{glue:figure} ship_datas\n",
    ":name: \"ship_datas\"\n",
    "\n",
    "Ship data in model scale for WPCC, LNG tanker and KVLCC2.\n",
    "```\n",
    "\n",
    "## Initial guessed parameters\n",
    "Following the PIT algorithm ([fig](overview)) first step is to make an initial guess for a linear VMM to be used in the the first EKF iteration.\n",
    "The following semi-empirical formulas are used as initial guesses for hydrodynamic derivatives. \n",
    "\n",
    "| Parameter                            |       Equation                    | Reference |\n",
    "|:------------------------------------:|:---------------------------------:|:---------------------------------:|\n",
    "| $N_{r}$                            |       {glue:}`Nr`                     | {cite:p}`brix_manoeuvring_1993` |\n",
    "| $N_{\\dot{r}}$                            |       {glue:}`Nrdot`                     | {cite:p}`brix_manoeuvring_1993` |\n",
    "| $N_{v}$                            |       {glue:}`Nv`                     | {cite:p}`brix_manoeuvring_1993` |\n",
    "| $N_{\\dot{v}}$                            |       {glue:}`Nvdot`                     | {cite:p}`brix_manoeuvring_1993` |\n",
    "| $X_{\\dot{u}}$                            |       {glue:}`Xudot`                     | {cite:p}`brix_manoeuvring_1993` |\n",
    "| $Y_{r}$                            |       {glue:}`Yr`                     | {cite:p}`brix_manoeuvring_1993` |\n",
    "| $Y_{\\dot{r}}$                            |       {glue:}`Yrdot`                     | {cite:p}`brix_manoeuvring_1993` |\n",
    "| $Y_{v}$                            |       {glue:}`Yv`                     | {cite:p}`brix_manoeuvring_1993` |\n",
    "| $Y_{\\dot{v}}$                            |       {glue:}`Yvdot`                     | {cite:p}`brix_manoeuvring_1993` |\n",
    "\n",
    "Calculated values for the three test cases can be seen in [fig](initial_parameters)\n",
    "\n",
    "```{glue:figure} initial_parameters\n",
    ":name: \"initial_parameters\"\n",
    "\n",
    "Initial guess for linear hydrodynamic derivatives for WPCC, LNG tanker and KVLCC2. (Values have been multiplied by 1000)\n",
    "```"
   ]
  },
  {
   "cell_type": "markdown",
   "id": "ea97daea-ca74-43ca-8a47-490218d7a1fb",
   "metadata": {
    "tags": []
   },
   "source": [
    "## Motion regression\n",
    "Hydrodynamic deriviatives in the Abkowitz model are identified with linear regression on forces and moments from the model tests inverse dynamics. A comparison between the inverse dynamic forces and prediction with the regressed mode is shown for one of the KVLCC2 model tests in [fig](force_prediction).\n",
    "\n",
    "```{glue:figure} force_prediction\n",
    ":name: \"force_prediction\"\n",
    "\n",
    "Forces and moment from model test inverse dynamics and prediction with the regressed model.\n",
    "```\n"
   ]
  },
  {
   "cell_type": "code",
   "execution_count": null,
   "id": "25293810-6205-4772-a469-74c3c36b5c35",
   "metadata": {
    "tags": [
     "remove-cell"
    ]
   },
   "outputs": [],
   "source": [
    "from wPCC_pipeline.pipelines.motion_regression.nodes import predict_force\n",
    "\n",
    "vmm_name = 'vmm_abkowitz'\n",
    "id = 'HSVA_CPMC_KVLCC2_Z_20_10_S'\n",
    "ship = 'kvlcc2_hsva'\n",
    "\n",
    "data_ek_smooth = catalog.load(f\"{ship}.initial.{id}.data_ek_smooth\")\n",
    "added_masses = catalog.load(f\"{ship}.added_masses\")\n",
    "ship_parameters = catalog.load(f\"{ship}.ship_data\")\n",
    "vmm = catalog.load(vmm_name)\n",
    "regression = catalog.load(f\"{ship}.initial.{vmm_name}.joined.regression\")\n",
    "df_force = predict_force(data=data_ek_smooth, added_masses=added_masses, ship_parameters=ship_parameters, vmm=vmm) "
   ]
  },
  {
   "cell_type": "code",
   "execution_count": null,
   "id": "d5e5ffff-bda4-4974-ac06-ee8632d6e13e",
   "metadata": {
    "tags": [
     "remove-cell"
    ]
   },
   "outputs": [],
   "source": [
    "data_prime = regression.ps.prime(df_force, U = df_force['U'])\n",
    "\n",
    "X, _ = regression.diff_eq_X.calculate_features_and_label(\n",
    "            data=data_prime, y=data_prime['u']\n",
    "        )\n",
    "\n",
    "X = X[regression.X_X.columns].copy()\n",
    "\n",
    "data_prime['fx'] = regression.model_X.predict(X) + data_prime['thrust']*regression.exclude_parameters['Xthrust']\n",
    "\n",
    "X = regression.diff_eq_Y.calculate_features(data_prime)\n",
    "data_prime['fy'] = regression.model_Y.predict(X)\n",
    "\n",
    "X = regression.diff_eq_N.calculate_features(data_prime)\n",
    "data_prime['mz'] = regression.model_N.predict(X)\n",
    "\n",
    "\n",
    "data_prediction = regression.ps.unprime(data_prime, U=df_force['U'])\n",
    "\n",
    "fig,axes=plt.subplots(nrows=3)\n",
    "\n",
    "units = {'fx':'N',\n",
    "         'fy':'N',\n",
    "         'mz':'Nm'}\n",
    "for ax,dof in zip(axes,['fx','fy','mz']):\n",
    "\n",
    "    df_force.plot(y=dof, label='inverse dynamics', ax=ax)\n",
    "    data_prediction.plot(y=dof, label='prediction', ax=ax)\n",
    "    \n",
    "    label=f\"${dof[0]}_{dof[1]}$ $[{units[dof]}]$\"\n",
    "    \n",
    "    ax.set_ylabel(label)\n",
    "    ax.get_legend().set_visible(False)\n",
    "    \n",
    "axes[0].legend(loc='lower right')\n",
    "axes[-1].set_xlabel('time [s]')\n",
    "\n",
    "axes[0].get_xaxis().set_visible(False)\n",
    "axes[1].get_xaxis().set_visible(False)\n",
    "plt.tight_layout()\n",
    "\n",
    "glue(\"force_prediction\",fig, display=False)"
   ]
  },
  {
   "cell_type": "markdown",
   "id": "565c8ec4-4989-4f9a-85f0-135c6163f469",
   "metadata": {},
   "source": [
    "## Iterations\n",
    "The PIT algorithm is one more itteration. Simulation results with the initial guessed model and two iterrations of the PIT algorithm is shown in [fig](iterations). \n",
    "It can be seen that the first iteration of the PIT algorithm is much closer to the model test data compared to the initial guessed linear VMM model and the second iteration is even closer. The motion regression in the PIT algorithm has been run on all of the KVLCC2 model tests. \n",
    "\n",
    "```{glue:figure} iterations\n",
    ":figwidth: 1000px\n",
    ":name: \"iterations\"\n",
    "\n",
    "Model test data for one of the KVLCC2 tests compared to simulations with initial model, PIT first iteration model and PIT second iteration model. \n",
    "\n",
    "```"
   ]
  },
  {
   "cell_type": "code",
   "execution_count": null,
   "id": "51d0cb50-1c8e-41e6-9a2f-9d7710af1594",
   "metadata": {
    "tags": [
     "remove-cell"
    ]
   },
   "outputs": [],
   "source": [
    "#id = '22773'\n",
    "#ship = 'wpcc'\n",
    "id = 'HSVA_CPMC_KVLCC2_Z_20_10_S'\n",
    "ship = 'kvlcc2_hsva'\n",
    "\n",
    "data_raw = catalog.load(f\"{ship}.{id}.data\")\n",
    "data_lowpass = catalog.load(f\"{ship}.{id}.data_lowpass\")\n",
    "\n",
    "data = catalog.load(f\"{ship}.initial.{id}.data_ek_smooth\")\n",
    "ek = catalog.load(f\"{ship}.vmm_linear.ek\")\n",
    "model = catalog.load(f\"{ship}.initial.vmm_linear.joined.model\")\n"
   ]
  },
  {
   "cell_type": "code",
   "execution_count": null,
   "id": "3705b5d3-f4e2-46e7-8ee9-ddaeff0dfec6",
   "metadata": {
    "tags": [
     "remove-cell"
    ]
   },
   "outputs": [],
   "source": [
    "data['U'] = np.sqrt(data['u']**2 + data['v']**2)\n",
    "df_sim = ek.simulate(data=data, input_columns=['delta','U'], solver='Radau')\n",
    "\n",
    "dataframes = {\n",
    "    'initial guessed model': df_sim,\n",
    "    'PIT iteration 1': catalog.load(f\"{ship}.initial.{vmm_name}.joined.{id}.data_resimulate\"),\n",
    "    'PIT iteration 2': catalog.load(f\"{ship}.updated.{vmm_name}.joined.{id}.data_resimulate\"),\n",
    "    'model test' : data,\n",
    "}\n",
    "\n",
    "keys = ['u','v','r']\n",
    "error_keys = [f'$\\\\epsilon({key})$' for key in keys]  \n",
    "for key, df_ in dataframes.items():\n",
    "    df_[error_keys]=df_[keys] - data[keys]\n",
    "\n",
    "fig,ax=plt.subplots()\n",
    "track_plots(dataframes, lpp=ship_datas[ship]['L'], beam=ship_datas[ship]['B'], time_window=[0,70], N=2, ax=ax);\n",
    "glue(\"iterations\",fig, display=False)\n",
    "\n",
    "fig = plot(dataframes, keys=error_keys, ncols=1);\n",
    "plt.tight_layout()\n",
    "glue(\"iteration_errors\",fig, display=False)\n",
    "\n",
    "rmse = {}\n",
    "rmse_keys = [f'$RMSe({key})$' for key in keys] \n",
    "for key, df_ in dataframes.items():\n",
    "    rmse[key] = np.sqrt((df_[error_keys]**2).mean())\n",
    "    \n",
    "\n",
    "rmse = pd.DataFrame(rmse)\n",
    "\n",
    "r = rmse.loc['$\\\\epsilon(r)$']\n",
    "u = rmse.loc['$\\\\epsilon(u)$']\n",
    "v = rmse.loc['$\\\\epsilon(v)$']\n",
    "rmse.loc['total'] = u+v+r*ship_datas[ship]['L']/2"
   ]
  },
  {
   "cell_type": "code",
   "execution_count": null,
   "id": "c66d4a17-ab36-4ce0-b17f-60a730af0757",
   "metadata": {
    "tags": [
     "remove-cell"
    ]
   },
   "outputs": [],
   "source": [
    "fig,ax=plt.subplots()\n",
    "rmse.transpose().plot.bar(ax=ax);\n",
    "ax.set_yscale('log')\n",
    "ax.grid()\n",
    "ax.legend(loc='upper left');\n",
    "glue(\"iteration_error_bars\",fig, display=False)"
   ]
  },
  {
   "cell_type": "code",
   "execution_count": null,
   "id": "4b837f9a-57c5-4e5d-a9b5-28e490bf085c",
   "metadata": {
    "tags": [
     "remove-cell"
    ]
   },
   "outputs": [],
   "source": [
    "%reload_kedro\n",
    "\n",
    "def load_model_tests_ship(ship = 'wpcc'):\n",
    "    \n",
    "    model_tests = model_test_ids[ship]\n",
    "    \n",
    "    dfs = []\n",
    "    \n",
    "    for id in model_tests:\n",
    "        \n",
    "        df_ = catalog.load(f\"{ship}.{id}.data\")\n",
    "\n",
    "            \n",
    "        df_['id'] = id\n",
    "        dfs.append(df_)\n",
    "            \n",
    "    df = pd.concat(dfs)\n",
    "    \n",
    "    return df\n"
   ]
  },
  {
   "cell_type": "code",
   "execution_count": null,
   "id": "2e03ee18-773c-49ad-bdbd-c67d36fdec46",
   "metadata": {
    "tags": [
     "remove-cell"
    ]
   },
   "outputs": [],
   "source": [
    "def select_model_tests(df, n=9):\n",
    "    df['|psi|'] = df['psi'].abs()\n",
    "    \n",
    "    indexes = df.groupby(by='id')['|psi|'].max().sort_values(ascending=False).index[0:n]\n",
    "    mask = df['id'].isin(indexes)\n",
    "    df_select = df[mask]\n",
    "    return df_select"
   ]
  },
  {
   "cell_type": "code",
   "execution_count": null,
   "id": "30ea0dd1-dc09-4cb5-9665-3e6737e9a11e",
   "metadata": {
    "tags": [
     "remove-cell"
    ]
   },
   "outputs": [],
   "source": [
    "def plot_ship(df_select, ship, vmm=\"vmm_abkowitz\"):\n",
    "    \n",
    "    fig,axes = plt.subplots(ncols=3, nrows=3)\n",
    "    fig.set_size_inches(14,10)\n",
    "    axes = axes.flatten()\n",
    "    for ax, (id, df_) in zip(axes,df_select.groupby(by='id')):\n",
    "        \n",
    "        prediction = catalog.load(f\"{ship}.updated.{vmm}.joined.{id}.data_resimulate\")\n",
    "\n",
    "        mask = df_['x0'] < 60\n",
    "        df_ = df_.loc[mask]\n",
    "        mask = prediction['x0'] < 60\n",
    "        prediction = prediction.loc[mask]\n",
    "        \n",
    "        \n",
    "        dataframes = {\n",
    "            'model test':df_,\n",
    "            'prediction':prediction,\n",
    "            \n",
    "        }\n",
    "        \n",
    "        track_plots(dataframes, lpp=ship_data['L'], beam=ship_data['B'], ax=ax, N=4)\n",
    "        ax.get_legend().set_visible(False)\n",
    "        ax.set_title(None)\n",
    "    \n",
    "    axes[0].legend()\n",
    "    fig.suptitle(f'Track plots: {ship}')\n",
    "    plt.tight_layout()\n",
    "    return fig\n",
    "    "
   ]
  },
  {
   "cell_type": "code",
   "execution_count": null,
   "id": "08472573-e8dd-427c-928a-1d534f324612",
   "metadata": {
    "jupyter": {
     "outputs_hidden": true
    },
    "tags": [
     "remove-cell"
    ]
   },
   "outputs": [],
   "source": [
    "for ship in ships:\n",
    "    \n",
    "    df = load_model_tests_ship(ship=ship)\n",
    "    ship_data = catalog.load(f\"{ship}.ship_data\")\n",
    "    df_select = select_model_tests(df=df)\n",
    "    fig = plot_ship(df_select, ship, vmm='vmm_abkowitz')\n",
    "    glue(ship, fig, display=False)"
   ]
  },
  {
   "cell_type": "markdown",
   "id": "19818a5d-8bd2-4ae4-8ab4-8d2aeb229886",
   "metadata": {
    "tags": []
   },
   "source": [
    "## Simulations\n",
    "\n",
    "Comparisons of model test and corresponding simulations with identified Abkowitz model can be seen for three test cases in [fig](wpcc), [fig](LNG) and [fig](kvlcc2_hsva).\n",
    "\n",
    "```{glue:figure} wpcc\n",
    ":figwidth: 1000px\n",
    ":name: \"wpcc\"\n",
    "\n",
    "Comparison of model tests and simulations with identified Abkowitz model for WPCC.\n",
    "```\n",
    "\n",
    "```{glue:figure} LNG\n",
    ":figwidth: 1000px\n",
    ":name: \"LNG\"\n",
    "\n",
    "Comparison of model tests and simulations with identified Abkowitz model for LNG.\n",
    "```\n",
    "\n",
    "```{glue:figure} kvlcc2_hsva\n",
    ":figwidth: 1000px\n",
    ":name: \"kvlcc2_hsva\"\n",
    "\n",
    "Comparison of model tests and simulations with identified Abkowitz model for KVLCC2.\n",
    "```\n",
    "\n"
   ]
  },
  {
   "cell_type": "markdown",
   "id": "5cbef923-b04b-4459-a65e-96c725261e3e",
   "metadata": {},
   "source": [
    "## Multicollinearity"
   ]
  },
  {
   "cell_type": "code",
   "execution_count": null,
   "id": "308cc25f-a9ea-4cd4-88b0-0b98c9e394dc",
   "metadata": {
    "tags": [
     "remove-cell"
    ]
   },
   "outputs": [],
   "source": [
    "regression_abkowitz = catalog.load(\"kvlcc2_hsva.updated.vmm_abkowitz.joined.regression\")\n",
    "parameters = pd.DataFrame()\n",
    "parameters['mean'] = regression_abkowitz.parameters['regressed']\n",
    "\n",
    "std = dict(regression_abkowitz.model_X.bse)\n",
    "std.update(regression_abkowitz.model_Y.bse)\n",
    "std.update(regression_abkowitz.model_N.bse)\n",
    "std = pd.Series(std)\n",
    "\n",
    "parameters['std'] = std\n",
    "quantile_cuts = [0.5, 0.67, 0.70, 0.75]\n",
    "fig = plot_parameters(parameters, quantile_cuts=quantile_cuts);\n",
    "fig.set_size_inches(5.9055,10)\n",
    "plt.tight_layout()\n",
    "glue(\"parameters_abkowits\", fig, display=False)\n",
    "\n",
    "import seaborn as sns\n",
    "\n",
    "model = regression_abkowitz.model_Y\n",
    "\n",
    "cov = model.cov_HC0\n",
    "\n",
    "diag = np.sqrt(np.diag(np.diag(cov)))\n",
    "gaid = np.linalg.inv(diag)\n",
    "corr = gaid @ cov @ gaid\n",
    "corr = np.tril(corr)\n",
    "corr = pd.DataFrame(corr, index=model.params.keys(), columns=model.params.keys())\n",
    "\n",
    "fig,ax=plt.subplots()\n",
    "grid = sns.heatmap(corr.abs(), cmap='gray_r')\n",
    "glue(\"heatmap_parameters\", grid.figure, display=False)"
   ]
  },
  {
   "cell_type": "code",
   "execution_count": null,
   "id": "cf8da572-6dcc-4adf-ba96-d3993d105902",
   "metadata": {
    "tags": [
     "remove-cell"
    ]
   },
   "outputs": [],
   "source": [
    "regression_simple = catalog.load(\"kvlcc2_hsva.updated.vmm_martins_simple.joined.regression\")\n",
    "parameters = pd.DataFrame()\n",
    "parameters['mean'] = regression_simple.parameters['regressed']\n",
    "\n",
    "std = dict(regression_simple.model_X.bse)\n",
    "std.update(regression_simple.model_Y.bse)\n",
    "std.update(regression_simple.model_N.bse)\n",
    "std = pd.Series(std)\n",
    "\n",
    "parameters['std'] = std\n",
    "quantile_cuts = [0.7]\n",
    "fig = plot_parameters(parameters, quantile_cuts=quantile_cuts);\n",
    "glue(\"parameters_martins_simple\", fig, display=False)"
   ]
  },
  {
   "cell_type": "code",
   "execution_count": null,
   "id": "3abc45b1-8925-4c0a-bfc8-3b828aa139de",
   "metadata": {
    "tags": [
     "remove-cell"
    ]
   },
   "outputs": [],
   "source": [
    "glue('regression_abkowitz_summary', regression_abkowitz.model_Y.summary())"
   ]
  },
  {
   "cell_type": "code",
   "execution_count": null,
   "id": "944b0a64-1dff-446d-a86a-b7515b8cf11f",
   "metadata": {
    "tags": [
     "remove-cell"
    ]
   },
   "outputs": [],
   "source": [
    "glue('regression_simple_summary', regression_simple.model_Y.summary())"
   ]
  },
  {
   "cell_type": "markdown",
   "id": "8feff1dc-b7d8-4f04-a102-96348b125506",
   "metadata": {},
   "source": [
    "The printout from the OLS Regression results for Abkowitz fy-equation for KVLCC2 data is shown in [fig](regression_abkowitz_summary). The printout shows the regressed parameters (coef) together with, standard deviation (std err) and confidence intervals ([0.025 \t0.975]). The P-values from hypothesis tests (P>|t|) is very high for some of the parameters such as: $Y_{\\delta}$, $Y_r$ etc. This is indicating that the model has too many parameters for the present dataset. Strong multicollinearity is also reported which is a known problem for the the VMM:s {cite:p}`luo_parameter_2016`, {cite:p}`wang_quantifying_2018`. The coefficients which are found do not\n",
    "have to be physically correct, but mathematically correct {cite:p}`ittc_maneuvering_2008` which is also something that is shown here, where some of the parameters have very large values (in the order of 10^8). This means that the regressed Abkowitz model for KVLCC2 does a very good job in describing the known data, that we see here, but will not work very well when extrapolating outside the known data, when making predictions.\n",
    "\n",
    "```{glue:figure} regression_abkowitz_summary\n",
    ":figwidth: 1000px\n",
    ":name: \"regression_abkowitz_summary\"\n",
    "\n",
    "Regression result for Abkowitz model fy equation on KVLCC2 data. \n",
    "```\n",
    "\n",
    "Printout from an OLS Regression for a simplified Abkowitz fy-equation for KVLCC2 data is shown in [fig](regression_simple_summary). This model has almost as high accuracy as the full Abkowitz model when comparing the R^2 values (0.996 compared to 0.993). The coefficients in this model also have much smaller values and smaller P-values. So this means that the simplified model describes the known data almost as good as the full Abkowitz model, but will most likely work better when making predictions outside the known data.\n",
    "\n",
    "```{glue:figure} regression_simple_summary\n",
    ":figwidth: 1000px\n",
    ":name: \"regression_simple_summary\"\n",
    "\n",
    "Regression result for simplified Abkowitz model fy equation on KVLCC2 data. \n",
    "```"
   ]
  },
  {
   "cell_type": "markdown",
   "id": "8ac7343b-82da-479e-8b87-0bdd3b0f1194",
   "metadata": {
    "tags": [
     "remove-cell"
    ]
   },
   "source": [
    "The identified parameters of an Abkowitz model for KVLCC2 are shown in [figure](parameters_abkowits). \n",
    "It can be seen that the uncertainty (standard deviation of the estimated parameters), indicated by the black error bars, is very high for some of the parameters.\n",
    "It can also be seen that some of the parameters have very high values, in the order of 10^8. \n",
    "\n",
    "Identifying parameters of a simplified Abkowitz model for KVLCC2 gives much smaller parameters and lower uncertainty as seen in [figure](parameters_martins_simple).\n",
    "\n",
    "```{glue:figure} parameters_abkowits\n",
    ":figwidth: 1000px\n",
    ":name: \"parameters_abkowits\"\n",
    "\n",
    "Identified parameters in Abkowitz model for KVLCC2.\n",
    "```\n",
    "\n",
    "```{glue:figure} parameters_martins_simple\n",
    ":figwidth: 1000px\n",
    ":name: \"parameters_martins_simple\"\n",
    "\n",
    "Identified parameters in simplified Abkowitz model for KVLCC2.\n",
    "```\n",
    "\n",
    "Can the regressed Abkowitz model be trusted considering the high uncertainty in the parameter values? \n",
    "\n",
    "This can be investigated using Monte Carlo simulations with alternative realizations of the regression. \n",
    "Manoeuvre simulation can be performed with parameter sets taken as random samples from a multivariate gausian distribution defined by the mean values and \n",
    "covariance matrix from the linear regression.\n",
    "\n",
    "The covariance matrix needs to be included in the Monte Carlo simulations since there is high correlation between some of the parameters as seen in [fig](heatmap_parameters).\n",
    "\n",
    "```{glue:figure} heatmap_parameters\n",
    ":figwidth: 1000px\n",
    ":name: \"heatmap_parameters\"\n",
    "\n",
    "Absolute correlation coefficient of identified parameters in Abkowitz model for KVLCC2.\n",
    "```"
   ]
  },
  {
   "cell_type": "code",
   "execution_count": null,
   "id": "1d5eb9fc-c31e-4622-abde-056fc0bad914",
   "metadata": {
    "tags": [
     "remove-cell"
    ]
   },
   "outputs": [],
   "source": [
    "from scipy.linalg import block_diag\n",
    "from scipy.stats import norm, multivariate_normal\n",
    "import tqdm\n",
    "import sys\n",
    "from wPCC_pipeline.pipelines.prediction.nodes import simulate_euler"
   ]
  },
  {
   "cell_type": "code",
   "execution_count": null,
   "id": "fea00efe-d102-4175-ad22-3c671fd1414e",
   "metadata": {
    "tags": [
     "remove-cell"
    ]
   },
   "outputs": [],
   "source": [
    "regression = regression_abkowitz\n",
    "means = pd.concat([regression.model_X.params,regression.model_Y.params,regression.model_N.params])\n",
    "covs = [regression.model_X.cov_HC0,regression.model_Y.cov_HC0,regression.model_N.cov_HC0]\n",
    "\n",
    "std = regression.model_X.bse.copy()\n",
    "std=std.append(regression.model_Y.bse)\n",
    "std=std.append(regression.model_N.bse)\n",
    "\n",
    "cov = block_diag(*covs)\n",
    "\n",
    "rv = multivariate_normal(mean=means.values, cov=cov, allow_singular=True)\n",
    "np.random.seed(42)\n",
    "N_=10\n",
    "df_parameter_variation = pd.DataFrame(data=rv.rvs(N_), columns=means.index)"
   ]
  },
  {
   "cell_type": "code",
   "execution_count": null,
   "id": "031b2595-5a3d-479b-8c8a-0da855b2e129",
   "metadata": {
    "tags": [
     "remove-cell"
    ]
   },
   "outputs": [],
   "source": [
    "#for key in means.keys():\n",
    "#\n",
    "#    rv = norm(loc=means[key], scale=std[key])\n",
    "#    \n",
    "#    xs = np.linspace(df_parameter_variation[key].min(), df_parameter_variation[key].max(),100)\n",
    "#    \n",
    "#    grid = sns.displot(data=df_parameter_variation[key], kind='hist', stat=\"density\")\n",
    "#    \n",
    "#    ax = grid.ax\n",
    "#    ax.plot(xs, rv.pdf(xs));\n",
    "\n"
   ]
  },
  {
   "cell_type": "code",
   "execution_count": null,
   "id": "51e85392-f516-4dec-a3aa-d99c369e1253",
   "metadata": {
    "tags": [
     "remove-cell"
    ]
   },
   "outputs": [],
   "source": [
    "def monte_carlo(data_smooth, df_parameter_variation, model, ek):\n",
    "\n",
    "    dataframes = {}\n",
    "    with tqdm.tqdm(total=len(df_parameter_variation), file=sys.stdout) as pbar:\n",
    "        for index, parameters_ in df_parameter_variation.iterrows():\n",
    "            model_ = model.copy()\n",
    "            model_.parameters.update(parameters_)\n",
    "            \n",
    "            df_ = simulate_euler(data=data_smooth, model=model_,ek=ek, solver='Radau') \n",
    "            dataframes[index] = df_\n",
    "        \n",
    "            pbar.update(1)\n",
    "        \n",
    "    return dataframes"
   ]
  },
  {
   "cell_type": "code",
   "execution_count": null,
   "id": "c54e6df1-73d6-42d6-ab89-9ef74de845d8",
   "metadata": {
    "tags": [
     "remove-cell"
    ]
   },
   "outputs": [],
   "source": [
    "#vmm_name = 'vmm_abkowitz_simple'\n",
    "#vmm_name = 'vmm_martins_simple'\n",
    "vmm_name = 'vmm_abkowitz'\n",
    "#id = 'HSVA_CPMC_KVLCC2_Z_15_05'\n",
    "id = 'HSVA_CPMC_KVLCC2_Z_25_05'\n",
    "\n",
    "model = catalog.load(f\"kvlcc2_hsva.updated.{ vmm_name }.joined.model\")\n",
    "ek = catalog.load(f\"kvlcc2_hsva.{ vmm_name }.ek\")\n",
    "\n",
    "#id = 22774\n",
    "#regression = catalog.load(f\"{ vmm_name }.motion_regression.no_circle.regression\")\n",
    "df_smooth = catalog.load(f\"kvlcc2_hsva.updated.{ id }.data_ek_smooth\")\n",
    "ship = \"kvlcc2_hsva\"\n",
    "df_sim = catalog.load(f\"{ ship }.updated.{ vmm_name }.joined.{ id }.data_resimulate\")\n",
    "\n"
   ]
  },
  {
   "cell_type": "code",
   "execution_count": null,
   "id": "0dca2a17-d9fc-4751-ab7f-5e35137253f7",
   "metadata": {
    "tags": [
     "remove-cell"
    ]
   },
   "outputs": [],
   "source": [
    "model.turning_circle("
   ]
  },
  {
   "cell_type": "code",
   "execution_count": null,
   "id": "3353fae2-428e-4ef1-9f23-24d75f75a1a6",
   "metadata": {
    "tags": [
     "remove-cell"
    ]
   },
   "outputs": [],
   "source": [
    "dataframes = monte_carlo(df_smooth, df_parameter_variation, model=model, ek=ek)"
   ]
  },
  {
   "cell_type": "code",
   "execution_count": null,
   "id": "7322ee69-1559-46ed-b4ba-dd81f7e80f26",
   "metadata": {
    "tags": [
     "remove-cell"
    ]
   },
   "outputs": [],
   "source": [
    "dataframes['model test'] = df_smooth\n",
    "dataframes['VMM all'] = df_sim"
   ]
  },
  {
   "cell_type": "code",
   "execution_count": null,
   "id": "c7ee3805-79d8-4737-a6b0-daf51cd92dce",
   "metadata": {
    "tags": [
     "remove-cell"
    ]
   },
   "outputs": [],
   "source": [
    "styles={'model test':{'style':'k-','lw':2},\n",
    "       'VMM all':{'style':'r-','lw':2},\n",
    "        \n",
    "       }\n",
    "\n",
    "for index, parameters_ in df_parameter_variation.iterrows():\n",
    "    styles[index] = {'style':'b-', \n",
    "                     'alpha':0.1,\n",
    "                     'label':'_Hidden label'}\n",
    "\n",
    "#for dataframes_ in displays:\n",
    "#    fig,ax=plt.subplots()\n",
    "#    grid.fig.set_size_inches(0.7*np.array(matplotlib.rcParams[\"figure.figsize\"]))\n",
    "#    \n",
    "#    ax = track_plots(dataframes_, lpp=ship_data['L'], beam=ship_data['B'], plot_boats=False, flip=True, N=7, styles=styles, ax=ax)\n",
    "#    #ax.set_xlim(0,25)\n",
    "#    #ax.set_ylim(-20,5)   "
   ]
  },
  {
   "cell_type": "code",
   "execution_count": null,
   "id": "445ffe37-cadc-499a-accb-4a50b4c6332a",
   "metadata": {
    "tags": [
     "remove-cell"
    ]
   },
   "outputs": [],
   "source": [
    "fig,ax=plt.subplots()\n",
    "track_plots(dataframes, lpp=ship_data['L'], beam=ship_data['B'], plot_boats=False, flip=True, N=7, styles=styles, ax=ax)\n",
    "   "
   ]
  },
  {
   "cell_type": "code",
   "execution_count": null,
   "id": "46798a66-9da7-409d-b86e-e351cbda9e1f",
   "metadata": {},
   "outputs": [],
   "source": []
  }
 ],
 "metadata": {
  "citation-manager": {
   "items": {}
  },
  "kernelspec": {
   "display_name": "wPCC_pipeline",
   "language": "python",
   "name": "python3"
  },
  "language_info": {
   "codemirror_mode": {
    "name": "ipython",
    "version": 3
   },
   "file_extension": ".py",
   "mimetype": "text/x-python",
   "name": "python",
   "nbconvert_exporter": "python",
   "pygments_lexer": "ipython3",
   "version": "3.7.9"
  }
 },
 "nbformat": 4,
 "nbformat_minor": 5
}
