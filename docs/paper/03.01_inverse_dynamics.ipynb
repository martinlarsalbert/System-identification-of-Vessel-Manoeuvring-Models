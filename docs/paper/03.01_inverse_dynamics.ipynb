{
 "cells": [
  {
   "cell_type": "markdown",
   "id": "61281317-7ace-4055-a894-3b0bc69d8d65",
   "metadata": {},
   "source": [
    "# Inverse dynamics\n",
    "Each manoeuvring model has some hydrodynamic functions $X_D(u,v,r,\\delta,thrust)$, $Y_D(u,v,r,\\delta,thrust)$, $N_D(u,v,r,\\delta,thrust)$ that are defined as polynomials. \n",
    "\n",
    "The hydrodynamic derivatives in these polynomials can be identified with **force regression** of measured forces and moments. The measured forces and moments are usually taken from captive model tests or Virtual Captive Tests (VCT) being the virtual version of captive tests calculated with Computational Fluid Dynamics (CFD). \n",
    "\n",
    "When the ship or ship model is free in all degrees of freedome, as in the present model tests, only motions can be observed however. The forces and moments that generated the motions needs to be estimated by solving the inverse dynamics problem and doing a **motion regression**. "
   ]
  },
  {
   "cell_type": "code",
   "execution_count": null,
   "id": "10b85afd-3cff-414a-b9e2-ffcbe35f91cf",
   "metadata": {
    "tags": [
     "remove-input",
     "remove-cell"
    ]
   },
   "outputs": [],
   "source": [
    "# %load imports.py\n",
    "%load_ext autoreload\n",
    "%autoreload 2\n",
    "%reload_kedro\n",
    "%config Completer.use_jedi = False  ## (To fix autocomplete)\n",
    "\n",
    "import pandas as pd\n",
    "from src.models.vmm import ModelSimulator\n",
    "import matplotlib.pyplot as plt\n",
    "from src.visualization.plot import track_plots, plot, captive_plot\n",
    "import kedro\n",
    "import numpy as np\n",
    "import os.path\n",
    "import anyconfig\n",
    "\n",
    "import matplotlib\n",
    "matplotlib.rcParams[\"figure.figsize\"] = (15,4)\n",
    "\n",
    "from myst_nb import glue\n",
    "from src.symbols import *\n",
    "import src.symbols as symbols\n",
    "from src.system_equations import *\n",
    "\n",
    "from IPython.display import display, Math, Latex, Markdown\n",
    "from sympy.physics.vector.printing import vpprint, vlatex\n",
    "\n",
    "from src.parameters import df_parameters\n",
    "p = df_parameters[\"symbol\"]\n",
    "\n",
    "# Read configs:\n",
    "conf_path = os.path.join(\"../../conf/base/\")\n",
    "runs_globals_path = os.path.join(\n",
    "    conf_path,\n",
    "    \"runs_globals.yml\",\n",
    ")\n",
    "\n",
    "runs_globals = anyconfig.load(runs_globals_path)\n",
    "model_test_ids = runs_globals[\"model_test_ids\"]\n",
    "\n",
    "join_globals_path = os.path.join(\n",
    "    conf_path,\n",
    "    \"join_globals.yml\",\n",
    ")\n",
    "\n",
    "joins = runs_globals[\"joins\"]\n",
    "join_runs_dict = anyconfig.load(join_globals_path)\n",
    "\n",
    "globals_path = os.path.join(\n",
    "    conf_path,\n",
    "    \"globals.yml\",\n",
    ")\n",
    "global_variables = anyconfig.load(globals_path)\n",
    "\n",
    "\n",
    "\n",
    "vmms = global_variables[\"vmms\"]\n",
    "only_joined = global_variables[\n",
    "    \"only_joined\"\n",
    "]  # (regress/predict with only models from joined runs)S"
   ]
  },
  {
   "cell_type": "code",
   "execution_count": null,
   "id": "0e43cb20-7f02-40b9-8327-2cb21696ff38",
   "metadata": {
    "tags": [
     "remove-input",
     "remove-cell"
    ]
   },
   "outputs": [],
   "source": [
    "from src.models.vmm_martin import martins_model\n",
    "from sympy import MatrixSymbol\n",
    "from src.models.regression import MotionRegression"
   ]
  },
  {
   "cell_type": "code",
   "execution_count": null,
   "id": "3a4015b2-0b0d-457b-b203-db170e6a2183",
   "metadata": {
    "tags": [
     "remove-input",
     "remove-cell"
    ]
   },
   "outputs": [],
   "source": [
    "id = 22774\n",
    "df = catalog.load(f\"{ id }.data_ek_smooth\")\n",
    "added_masses = catalog.load(\"added_masses\")\n",
    "ship_parameters = catalog.load(\"ship_data\")\n",
    "\n",
    "regression = MotionRegression(vmm=martins_model, \n",
    "                              data=df, \n",
    "                              added_masses=added_masses, \n",
    "                              ship_parameters=ship_parameters)"
   ]
  },
  {
   "cell_type": "markdown",
   "id": "0f62c9f5-fc1b-427d-b310-7687f50122ef",
   "metadata": {},
   "source": [
    "Finding the the hydrodynamic derivatives can be defined as a linear regression problem:\n",
    "\n",
    "$$ y = X \\beta + \\epsilon $$\n",
    "\n",
    "for the case with $n$ data points an $N$ features $y$ is an $[n * 1]$ output vector (label), $X$ is $[n * N]$ input matrix (features) and $\\beta$ is a $[N * 1]$ vector with the regressed coefficients. \n",
    "\n",
    "A linear regression can be defined for each of the degrees of freedomes, giving three regressions with feature matrices, replacing $X$ with : $X_X$, $X_Y$, $X_N$ and coefficient vectors, replacing $\\beta$ with: $A_{coeff}$, $B_{coeff}$, $C_{coeff}$.\n"
   ]
  },
  {
   "cell_type": "code",
   "execution_count": null,
   "id": "c42c3051-e4d2-4321-9ae3-cec025e7c2b7",
   "metadata": {
    "tags": [
     "remove-input"
    ]
   },
   "outputs": [],
   "source": [
    "epsilon = sp.symbols('epsilon')\n",
    "\n",
    "eq_regression_u1d = sp.Eq(u1d, sp.UnevaluatedExpr(X_X*A_coeff) + epsilon)\n",
    "eq_regression_v1d = sp.Eq(v1d, sp.UnevaluatedExpr(X_Y*B_coeff) + epsilon)\n",
    "eq_regression_r1d = sp.Eq(r1d, sp.UnevaluatedExpr(X_N*C_coeff) + epsilon)\n",
    "display(eq_regression_u1d)\n",
    "display(eq_regression_v1d)\n",
    "display(eq_regression_r1d)\n"
   ]
  },
  {
   "cell_type": "markdown",
   "id": "3b25e7b0-b55f-422d-b36b-1f78666f863e",
   "metadata": {},
   "source": [
    "The right hand side of the system equation can also be expressed in matrix form:"
   ]
  },
  {
   "cell_type": "code",
   "execution_count": null,
   "id": "66be5849-68fa-4465-b804-764ec101b185",
   "metadata": {
    "tags": [
     "remove-input"
    ]
   },
   "outputs": [],
   "source": [
    "X_qs_ = MatrixSymbol(\"X_qs_\", N, 1)\n",
    "eq_Xqs =  sp.Eq(sp.UnevaluatedExpr(X_X*X_qs_), eq_system.rhs.doit()[0])\n",
    "\n",
    "Y_qs_ = MatrixSymbol(\"Y_qs_\", N, 1)\n",
    "eq_Yqs =  sp.Eq(sp.UnevaluatedExpr(X_Y*Y_qs_), eq_system.rhs.doit()[1])\n",
    "\n",
    "N_qs_ = MatrixSymbol(\"N_qs_\", N, 1)\n",
    "eq_Nqs =  sp.Eq(sp.UnevaluatedExpr(X_N*N_qs_), eq_system.rhs.doit()[2])\n",
    "\n",
    "display(eq_Xqs)\n",
    "display(eq_Yqs)\n",
    "display(eq_Nqs)\n"
   ]
  },
  {
   "cell_type": "markdown",
   "id": "d7709571-f1fd-4ff9-9d19-1e09ce02885a",
   "metadata": {},
   "source": [
    "The system equation can now be expressed in pure matrix form:"
   ]
  },
  {
   "cell_type": "code",
   "execution_count": null,
   "id": "d400e492-7caa-41ea-824e-c0360e07153a",
   "metadata": {
    "tags": [
     "remove-input"
    ]
   },
   "outputs": [],
   "source": [
    "eq_decoupling =  eq_system.subs([\n",
    "    (u1d,(X_X*A_coeff).transpose()),\n",
    "    (v1d,(X_Y*B_coeff).transpose()),\n",
    "    (r1d,(X_N*C_coeff).transpose()),\n",
    "    \n",
    "    (eq_Xqs.rhs,eq_Xqs.lhs.doit().transpose()),\n",
    "    (eq_Yqs.rhs,eq_Yqs.lhs.doit().transpose()),\n",
    "    (eq_Nqs.rhs,eq_Nqs.lhs.doit().transpose()),\n",
    "    \n",
    "])\n",
    "\n",
    "eq_decoupling"
   ]
  },
  {
   "cell_type": "markdown",
   "id": "317897f9-3ceb-4e77-8b27-55a6e4059bba",
   "metadata": {},
   "source": [
    "And the feature matrices dissapear so that the coefficient vectors can be calculates as:"
   ]
  },
  {
   "cell_type": "code",
   "execution_count": null,
   "id": "1bbaae60-771d-4666-9087-a124ed29e0cc",
   "metadata": {
    "tags": [
     "remove-input"
    ]
   },
   "outputs": [],
   "source": [
    "coeffs = sp.matrices.MutableDenseMatrix([A_coeff.transpose(), \n",
    "                                         B_coeff.transpose(), \n",
    "                                         C_coeff.transpose()])\n",
    "\n",
    "qs = sp.matrices.MutableDenseMatrix([X_qs_.transpose(), \n",
    "                                         Y_qs_.transpose(), \n",
    "                                         N_qs_.transpose()])\n",
    "\n",
    "sp.Eq(sp.UnevaluatedExpr(qs), sp.UnevaluatedExpr(A)*sp.UnevaluatedExpr(coeffs))"
   ]
  },
  {
   "cell_type": "markdown",
   "id": "ea9cc3dc-3f1d-465e-876c-217d0a617567",
   "metadata": {},
   "source": [
    "Note that the decoupled and regressed parameters now also contain the contributions from the coriolis/centrepetal forces, which need to be substracted so that the parameters contain only hydrodyamic contributions. For instance in the X-equation $m \\cdot x_G$ needs to be substracted from $X_{rr}$ and $m$ needs to be subtracted from the $X_{vr}$ derivative.\n",
    "\n",
    "It has been confirmed that regression of the inverse dynamics can be solved with Ordinary Least Squares (OLS) to identidy the hydrodynamic derivatives in a VMM. Identifying the derivatives on simulated data gives a perfect match between the regressed parameters and the real model. This is the case when the model captures the physics perfectly (when there is no process noise $w$) and no measurement noise $\\epsilon$. \n",
    "\n",
    "For real data from model tests or full scale ships this is of course never the case. Handling measurement errors and the fact the VMM used will be a good approximation of the real physics, at best, introduces a lot of challenges. Usually only the position and heading of the ships are measured, which means that the higher order states of velocities and accelerations are usually unknown. This introduces another challenge. Velocities and accelerations from noisy position measurements can be estimated using Extended Kalman Filter and Extended Kalman Smoother which will be introduced in the next section."
   ]
  },
  {
   "cell_type": "code",
   "execution_count": null,
   "id": "2a769b62-c8b6-4103-b08c-72cfc707a9cb",
   "metadata": {},
   "outputs": [],
   "source": []
  }
 ],
 "metadata": {
  "kernelspec": {
   "display_name": "wPCC_pipeline",
   "language": "python",
   "name": "python3"
  },
  "language_info": {
   "codemirror_mode": {
    "name": "ipython",
    "version": 3
   },
   "file_extension": ".py",
   "mimetype": "text/x-python",
   "name": "python",
   "nbconvert_exporter": "python",
   "pygments_lexer": "ipython3",
   "version": "3.7.9"
  }
 },
 "nbformat": 4,
 "nbformat_minor": 5
}
