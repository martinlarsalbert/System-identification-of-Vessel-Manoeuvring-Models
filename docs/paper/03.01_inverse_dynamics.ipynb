{
 "cells": [
  {
   "cell_type": "markdown",
   "id": "61281317-7ace-4055-a894-3b0bc69d8d65",
   "metadata": {},
   "source": [
    "# Inverse dynamics"
   ]
  },
  {
   "cell_type": "code",
   "execution_count": null,
   "id": "10b85afd-3cff-414a-b9e2-ffcbe35f91cf",
   "metadata": {
    "tags": [
     "remove-input",
     "remove-cell"
    ]
   },
   "outputs": [],
   "source": [
    "# %load imports.py\n",
    "%load_ext autoreload\n",
    "%autoreload 2\n",
    "%reload_kedro\n",
    "%config Completer.use_jedi = False  ## (To fix autocomplete)\n",
    "\n",
    "import pandas as pd\n",
    "from src.models.vmm import ModelSimulator\n",
    "import matplotlib.pyplot as plt\n",
    "from src.visualization.plot import track_plots, plot, captive_plot\n",
    "import kedro\n",
    "import numpy as np\n",
    "import os.path\n",
    "import anyconfig\n",
    "\n",
    "import matplotlib\n",
    "matplotlib.rcParams[\"figure.figsize\"] = (15,4)\n",
    "\n",
    "from myst_nb import glue\n",
    "from src.symbols import *\n",
    "import src.symbols as symbols\n",
    "from src.system_equations import *\n",
    "\n",
    "from IPython.display import display, Math, Latex, Markdown\n",
    "from sympy.physics.vector.printing import vpprint, vlatex\n",
    "\n",
    "from src.parameters import df_parameters\n",
    "p = df_parameters[\"symbol\"]\n",
    "\n",
    "# Read configs:\n",
    "conf_path = os.path.join(\"../../conf/base/\")\n",
    "runs_globals_path = os.path.join(\n",
    "    conf_path,\n",
    "    \"runs_globals.yml\",\n",
    ")\n",
    "\n",
    "runs_globals = anyconfig.load(runs_globals_path)\n",
    "model_test_ids = runs_globals[\"model_test_ids\"]\n",
    "\n",
    "join_globals_path = os.path.join(\n",
    "    conf_path,\n",
    "    \"join_globals.yml\",\n",
    ")\n",
    "\n",
    "joins = runs_globals[\"joins\"]\n",
    "join_runs_dict = anyconfig.load(join_globals_path)\n",
    "\n",
    "globals_path = os.path.join(\n",
    "    conf_path,\n",
    "    \"globals.yml\",\n",
    ")\n",
    "global_variables = anyconfig.load(globals_path)\n",
    "\n",
    "\n",
    "\n",
    "vmms = global_variables[\"vmms\"]\n",
    "only_joined = global_variables[\n",
    "    \"only_joined\"\n",
    "]  # (regress/predict with only models from joined runs)S"
   ]
  },
  {
   "cell_type": "code",
   "execution_count": null,
   "id": "0e43cb20-7f02-40b9-8327-2cb21696ff38",
   "metadata": {
    "tags": [
     "remove-input"
    ]
   },
   "outputs": [],
   "source": [
    "from src.models.vmm_martin import martins_model"
   ]
  },
  {
   "cell_type": "code",
   "execution_count": null,
   "id": "fcc75661-fe85-4cd2-8e97-a2114d243a9d",
   "metadata": {
    "tags": [
     "remove-input"
    ]
   },
   "outputs": [],
   "source": [
    "martins_model.X_qs_eq"
   ]
  },
  {
   "cell_type": "code",
   "execution_count": null,
   "id": "4111be0e-40b7-492a-9964-b7857d02c286",
   "metadata": {
    "tags": [
     "remove-input"
    ]
   },
   "outputs": [],
   "source": [
    "martins_model.Y_qs_eq"
   ]
  },
  {
   "cell_type": "code",
   "execution_count": null,
   "id": "3cabe0e8-82b9-4a4b-ac0f-d5203e392e63",
   "metadata": {
    "tags": [
     "remove-input"
    ]
   },
   "outputs": [],
   "source": [
    "martins_model.N_qs_eq"
   ]
  },
  {
   "cell_type": "code",
   "execution_count": null,
   "id": "682a8ecb-789c-45d9-92ba-f79d17406421",
   "metadata": {},
   "outputs": [],
   "source": []
  }
 ],
 "metadata": {
  "kernelspec": {
   "display_name": "wPCC_pipeline",
   "language": "python",
   "name": "python3"
  },
  "language_info": {
   "codemirror_mode": {
    "name": "ipython",
    "version": 3
   },
   "file_extension": ".py",
   "mimetype": "text/x-python",
   "name": "python",
   "nbconvert_exporter": "python",
   "pygments_lexer": "ipython3",
   "version": "3.7.9"
  }
 },
 "nbformat": 4,
 "nbformat_minor": 5
}
