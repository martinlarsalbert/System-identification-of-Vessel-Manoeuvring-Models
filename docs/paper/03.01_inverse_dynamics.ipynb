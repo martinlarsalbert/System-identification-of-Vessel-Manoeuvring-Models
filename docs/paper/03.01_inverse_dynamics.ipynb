{
 "cells": [
  {
   "cell_type": "markdown",
   "id": "9b0b24bb-f674-4e3b-a4f0-b15bb8486dfb",
   "metadata": {},
   "source": [
    "(inverse_dynamics)=\n",
    "## Inverse dynamics\n",
    "Each manoeuvring model has some hydrodynamic functions $X_D(u,v,r,\\delta,thrust)$, $Y_D(u,v,r,\\delta,thrust)$, $N_D(u,v,r,\\delta,thrust)$ that are defined as polynomials. \n",
    "\n",
    "The hydrodynamic derivatives in these polynomials can be identified with force regression of measured forces and moments. The measured forces and moments are usually taken from captive model tests, PMM tests or Virtual Captive Tests (VCT) being the virtual version of captive/PMM tests calculated with Computational Fluid Dynamics (CFD). \n",
    "\n",
    "When the ship or ship model is free in all degrees of freedome, as in the present model tests, only motions can be observed however. The forces and moments that generated the motions needs to be estimated by solving the inverse dynamics problem and doing a motion regression. "
   ]
  },
  {
   "cell_type": "code",
   "execution_count": null,
   "id": "45a4c854-c949-4bc3-80cf-d0d78700fb96",
   "metadata": {
    "tags": [
     "remove_cell"
    ]
   },
   "outputs": [],
   "source": [
    "# %load imports.py\n",
    "%load_ext autoreload\n",
    "%autoreload 2\n",
    "%config Completer.use_jedi = False  ## (To fix autocomplete)\n",
    "%matplotlib inline\n",
    "\n",
    "import warnings\n",
    "warnings.filterwarnings( \"ignore\", module = \"matplotlib\\..*\" )\n",
    "\n",
    "import pandas as pd\n",
    "from src.models.vmm import ModelSimulator\n",
    "import matplotlib.pyplot as plt\n",
    "import matplotlib\n",
    "plt.style.use('paper')\n",
    "from IPython.display import set_matplotlib_formats\n",
    "set_matplotlib_formats('pdf')\n",
    "\n",
    "#matplotlib.rcParams[\"xtick.labelsize\"] = 16\n",
    "from src.visualization.plot import track_plots, plot, captive_plot\n",
    "import kedro\n",
    "import numpy as np\n",
    "import os.path\n",
    "import anyconfig\n",
    "\n",
    "\n",
    "from myst_nb import glue\n",
    "from src.symbols import *\n",
    "import src.symbols as symbols\n",
    "from src.system_equations import *\n",
    "\n",
    "from IPython.display import display, Math, Latex, Markdown\n",
    "from sympy.physics.vector.printing import vpprint, vlatex\n",
    "\n",
    "from src.models.regression import MotionRegression, Regression\n",
    "\n",
    "from src.parameters import df_parameters\n",
    "from src.substitute_dynamic_symbols import run\n",
    "from src.models.diff_eq_to_matrix import DiffEqToMatrix\n",
    "p = df_parameters[\"symbol\"]\n",
    "import statsmodels.api as sm\n",
    "\n",
    "from src.models.force_from_motion import predict_force\n",
    "\n",
    "# Read configs:\n",
    "conf_path = os.path.join(\"../../conf/base/\")\n",
    "runs_globals_path = os.path.join(\n",
    "    conf_path,\n",
    "    \"runs_globals.yml\",\n",
    ")\n",
    "\n",
    "runs_globals = anyconfig.load(runs_globals_path)\n",
    "model_test_ids = runs_globals[\"model_test_ids\"]\n",
    "\n",
    "join_globals_path = os.path.join(\n",
    "    conf_path,\n",
    "    \"join_globals.yml\",\n",
    ")\n",
    "\n",
    "joins = runs_globals[\"joins\"]\n",
    "join_runs_dict = anyconfig.load(join_globals_path)\n",
    "\n",
    "globals_path = os.path.join(\n",
    "    conf_path,\n",
    "    \"globals.yml\",\n",
    ")\n",
    "global_variables = anyconfig.load(globals_path)\n",
    "\n",
    "\n",
    "\n",
    "vmm_names = global_variables[\"vmms\"]\n",
    "\n",
    "vmms = {}\n",
    "for vmm_name in vmm_names:\n",
    "    vmms[vmm_name] = catalog.load(vmm_name)\n",
    "\n",
    "from myst_nb import glue"
   ]
  },
  {
   "cell_type": "code",
   "execution_count": null,
   "id": "7a64e8cd-e6f5-4adf-b562-9bb95e0ff1da",
   "metadata": {
    "tags": [
     "remove_cell"
    ]
   },
   "outputs": [],
   "source": [
    "%reload_kedro\n",
    "ship = 'wpcc'\n",
    "vmm_name = 'vmm_martins_simple'\n",
    "vmm = vmms[vmm_name]\n",
    "data = catalog.load(\"wpcc.22774.data\")\n",
    "added_masses = catalog.load(f\"{ship}.added_masses\")\n",
    "model = catalog.load(f\"{ship}.updated.{ vmm_name}.joined.model\")\n",
    "initial_parameters = catalog.load(f\"{ship}.initial_parameters\")\n",
    "#model.parameters=initial_parameters\n",
    "ship_data = catalog.load(f\"{ship}.ship_data\")\n"
   ]
  },
  {
   "cell_type": "code",
   "execution_count": null,
   "id": "0e7e6e84-9635-47a8-8bd2-ea740f8e7709",
   "metadata": {
    "tags": [
     "remove_input",
     "remove_cell"
    ]
   },
   "outputs": [],
   "source": [
    "glue(\"eqsystem\", eq_system)"
   ]
  },
  {
   "cell_type": "code",
   "execution_count": null,
   "id": "99796bc3-d3e7-4d76-9c62-4dd5dd97ee19",
   "metadata": {
    "tags": [
     "remove_input",
     "remove_cell"
    ]
   },
   "outputs": [],
   "source": [
    "solution = sp.solve(eq_system.doit(),X_D,Y_D,N_D, dict=True)[0]\n",
    "\n",
    "eq_XD = sp.Eq(X_D, solution[X_D])\n",
    "eq_YD = sp.Eq(Y_D, solution[Y_D])\n",
    "eq_ND = sp.Eq(N_D, solution[N_D])\n",
    "\n",
    "glue(\"eqxd\", eq_XD)\n",
    "glue(\"eqyd\", eq_YD)\n",
    "glue(\"eqnd\", eq_ND)"
   ]
  },
  {
   "cell_type": "markdown",
   "id": "277d1325-c35c-4ed8-ae83-c7f8abd4ffaa",
   "metadata": {
    "tags": []
   },
   "source": [
    "The inverse dynamics is solved by restructering the system equation [eq](eqsystem) to get the hydrodynamics functions on the left hand side [eq](eqxd), [eq](eqyd), [eq](eqnd). If the mass and intertia of the ship as well as added masses: $\\dot{u}$, $\\dot{v}$, $\\dot{r}$ are known, the forces can be calculated using these equations.\n",
    "\n",
    "```{glue:math} eqsystem\n",
    ":label: \"eqsystem\"\n",
    "```\n",
    "\n",
    "```{glue:math} eqxd\n",
    ":label: eqxd\n",
    "```\n",
    "\n",
    "```{glue:math} eqyd\n",
    ":label: eqyd\n",
    "```\n",
    "\n",
    "```{glue:math} eqnd\n",
    ":label: eqnd\n",
    "```\n",
    "An example of forces calculated with inverse dynamics from motions in a turning circle test can be seen in {numref}`fig_inverse`."
   ]
  },
  {
   "cell_type": "code",
   "execution_count": null,
   "id": "b8d5cb1d-3398-485a-918b-c87fa7f6832f",
   "metadata": {
    "tags": [
     "remove_cell"
    ]
   },
   "outputs": [],
   "source": [
    "subs = [(value, key ) for key,value in p.items()]\n",
    "subs.append((u1d,'u1d'))\n",
    "subs.append((v1d,'v1d'))\n",
    "subs.append((r1d,'r1d'))\n",
    "\n",
    "eq = eq_XD.subs(subs)\n",
    "lambda_X_D = sp.lambdify(list(eq.rhs.free_symbols), eq.rhs)\n",
    "\n",
    "eq = eq_YD.subs(subs)\n",
    "lambda_Y_D = sp.lambdify(list(eq.rhs.free_symbols), eq.rhs)\n",
    "\n",
    "eq = eq_ND.subs(subs)\n",
    "lambda_N_D = sp.lambdify(list(eq.rhs.free_symbols), eq.rhs)"
   ]
  },
  {
   "cell_type": "code",
   "execution_count": null,
   "id": "b245bbec-a81a-4ca7-9bc9-d978f2cca105",
   "metadata": {
    "tags": [
     "remove_input"
    ]
   },
   "outputs": [],
   "source": [
    "result = model.simulate(data)\n",
    "df_sim = result.result"
   ]
  },
  {
   "cell_type": "code",
   "execution_count": null,
   "id": "5330193e-0186-40d3-a437-dc7fdc22b0e9",
   "metadata": {
    "tags": [
     "remove_cell"
    ]
   },
   "outputs": [],
   "source": [
    "df_captive = df_sim.copy()\n",
    "df_captive_prime = model.prime_system.prime(df_captive, U=df_sim['U'])\n",
    "\n",
    "df_captive_prime['fx'] = run(lambda_X_D, \n",
    "                             inputs=df_captive_prime, \n",
    "                             **model.ship_parameters_prime, \n",
    "                             **added_masses)\n",
    "\n",
    "df_captive_prime['fy'] = run(lambda_Y_D, \n",
    "                             inputs=df_captive_prime, \n",
    "                             **model.ship_parameters_prime, \n",
    "                             **added_masses)\n",
    "\n",
    "df_captive_prime['mz'] = run(lambda_N_D, \n",
    "                             inputs=df_captive_prime, \n",
    "                             **model.ship_parameters_prime, \n",
    "                             **added_masses)\n",
    "\n",
    "df_captive_forces = model.prime_system.unprime(df_captive_prime, U=df_sim['U'])\n"
   ]
  },
  {
   "cell_type": "code",
   "execution_count": null,
   "id": "124e6e07-3a95-4455-a01a-513e09302b40",
   "metadata": {
    "tags": [
     "remove_input",
     "remove_cell"
    ]
   },
   "outputs": [],
   "source": [
    "fig,axes=plt.subplots(ncols=2)\n",
    "\n",
    "\n",
    "track_plots({'simulated data':df_sim}, lpp=ship_data['L'], beam=ship_data['B'], ax=axes[0]);\n",
    "\n",
    "df_captive_forces.loc[0:30].plot(y=['fx','fy','mz'], label=[r'$f_x$ [N]',r'$f_y$ [N]',r'$m_z$ [Nm]'], ax=axes[1]);\n",
    "axes[0].set_ylabel('$x_0$ [m]')\n",
    "axes[0].set_xlabel('$y_0$ [m]');\n",
    "axes[1].set_ylabel('Forces and moment')\n",
    "axes[1].set_xlabel('time [s]');\n",
    "axes[1].set_title('Inverse dynamics')\n",
    "axes[1].grid(True)\n",
    "plt.tight_layout()\n",
    "\n",
    "glue(\"fig_inverse\", fig, display=False);\n"
   ]
  },
  {
   "cell_type": "markdown",
   "id": "050e3dbd-bc78-4ae3-84ea-2063206cc35b",
   "metadata": {
    "tags": []
   },
   "source": [
    "```{glue:figure} fig_inverse\n",
    ":figwidth: 1000px\n",
    ":name: \"fig_inverse\"\n",
    "\n",
    "Example of forces and moments calculated with inverse dynamics on data from a turning circle test.\n",
    "```"
   ]
  },
  {
   "cell_type": "markdown",
   "id": "146f5eb2-820f-491a-970e-5eee8aacebe4",
   "metadata": {},
   "source": [
    "# Regression"
   ]
  },
  {
   "cell_type": "markdown",
   "id": "9569fea3-f50b-49ef-9c8c-bdba703ad18f",
   "metadata": {},
   "source": [
    "Finding the the hydrodynamic derivatives can be defined as a linear regression problem:\n",
    "\n",
    "```{math}\n",
    ":label: eqregression\n",
    "y = X\\beta + \\epsilon\n",
    "```\n"
   ]
  },
  {
   "cell_type": "markdown",
   "id": "9d9c0027-6640-4ff4-9eaf-68a109054f29",
   "metadata": {
    "tags": [
     "remove_cell"
    ]
   },
   "source": [
    "$$ y = X\\beta + \\epsilon $$"
   ]
  },
  {
   "cell_type": "code",
   "execution_count": null,
   "id": "de7510bf-80d0-4ac8-a9ab-7e3cfdb8cd22",
   "metadata": {
    "tags": [
     "remove_input",
     "remove_cell"
    ]
   },
   "outputs": [],
   "source": [
    "glue(\"eqxqsmodel\", vmm.X_qs_eq)\n",
    "glue(\"eqyqsmodel\", vmm.Y_qs_eq)\n",
    "vmm.N_qs_eq = vmm.N_qs_eq.subs([(p.Nthrust,0),(p.Ythrust,0)])  # (Twin screw)\n",
    "glue(\"eqnqsmodel\", vmm.N_qs_eq)\n"
   ]
  },
  {
   "cell_type": "markdown",
   "id": "c8e0fcf5-0b33-494b-a4e0-51e2c7eeffee",
   "metadata": {},
   "source": [
    "A model for the hydrodynamic forces first needs to be assumed for instance as the polynomials in: [eq](eqxqsmodel), [eq](eqyqsmodel) and [eq](eqnqsmodel).\n",
    "\n",
    "```{glue:math} eqxqsmodel\n",
    ":label: eqxqsmodel\n",
    "```\n",
    "\n",
    "```{glue:math} eqyqsmodel\n",
    ":label: eqyqsmodel\n",
    "```\n",
    "\n",
    "```{glue:math} eqnqsmodel\n",
    ":label: eqnqsmodel\n",
    "```"
   ]
  },
  {
   "cell_type": "code",
   "execution_count": null,
   "id": "37b99de9-cdbc-4ddf-a416-19e15e8ed0cb",
   "metadata": {
    "tags": [
     "remove_cell"
    ]
   },
   "outputs": [],
   "source": [
    "Y_D_ = sp.symbols('Y_D')\n",
    "eq = vmm.Y_qs_eq.subs(Y_D,Y_D_)\n",
    "diff_eq_Y = DiffEqToMatrix(eq, label=Y_D_, base_features=[u,v,r,delta,thrust])\n",
    "\n",
    "X_Y,y_Y = diff_eq_Y.calculate_features_and_label(data=df_captive_prime, y=df_captive_prime['fy'])\n",
    "\n",
    "model_Y = sm.OLS(y_Y, X_Y)\n",
    "result_Y = model_Y.fit()"
   ]
  },
  {
   "cell_type": "code",
   "execution_count": null,
   "id": "a1620c7b-8bb2-4215-8d4d-e7da96af6240",
   "metadata": {
    "tags": [
     "remove_cell"
    ]
   },
   "outputs": [],
   "source": [
    "N_D_ = sp.symbols('N_D')\n",
    "eq = vmm.N_qs_eq.subs(N_D,N_D_)\n",
    "diff_eq_N = DiffEqToMatrix(eq, label=N_D_, base_features=[u,v,r,delta,thrust])\n",
    "\n",
    "X_N,y_N = diff_eq_N.calculate_features_and_label(data=df_captive_prime, y=df_captive_prime['mz'])\n",
    "\n",
    "model_N = sm.OLS(y_N, X_N)\n",
    "result_N = model_N.fit()"
   ]
  },
  {
   "cell_type": "code",
   "execution_count": null,
   "id": "c1556c2c-ff30-4c78-ac99-93f20d14aec1",
   "metadata": {
    "tags": [
     "remove_cell"
    ]
   },
   "outputs": [],
   "source": [
    "X_D_ = sp.symbols('X_D')\n",
    "eq = vmm.X_qs_eq.subs(X_D,X_D_)\n",
    "diff_eq_X = DiffEqToMatrix(eq, label=X_D_, base_features=[u,v,r,delta,thrust], exclude_parameters={'Xthrust':model.parameters['Xthrust']})\n",
    "\n",
    "X_X,y_X = diff_eq_X.calculate_features_and_label(data=df_captive_prime, y=df_captive_prime['fx'])\n",
    "\n",
    "model_X = sm.OLS(y_X, X_X)\n",
    "result_X = model_X.fit()"
   ]
  },
  {
   "cell_type": "markdown",
   "id": "8a9ef39d-f6e7-42ee-bf9a-d5b00603fd64",
   "metadata": {},
   "source": [
    "The label vector $y$ and feature matrix $X$ in the regression problem in [eq](eqregression) can now be inserted. As an example the regression in surge degree of freedome the labels can be calculated using the inverse dynamics force:\n",
    "\n",
    "```{glue:math} diff_eq_X_y\n",
    ":label: diff_eq_X_y\n",
    "```\n",
    "And the feature matrix $X$ is expressed as:\n",
    "\n",
    "```{glue:math} diff_eq_X_X\n",
    ":label: diff_eq_X_X\n",
    "```\n",
    "\n",
    "And the regressed hydrodynamic derivatives are stored in the $\\beta$ vector:\n",
    "\n",
    "```{glue:math} diff_eq_X_beta\n",
    ":label: diff_eq_X_beta\n",
    "```"
   ]
  },
  {
   "cell_type": "code",
   "execution_count": null,
   "id": "cd8e1338-ee66-482f-bcbc-a5eedf254ae0",
   "metadata": {
    "tags": [
     "remove_cell"
    ]
   },
   "outputs": [],
   "source": [
    "glue(\"diff_eq_X_y\", diff_eq_X.eq_y.subs(\"X_D\", eq_XD.rhs))"
   ]
  },
  {
   "cell_type": "code",
   "execution_count": null,
   "id": "42b0576f-bdf9-4425-846b-407395386604",
   "metadata": {
    "tags": [
     "remove_cell"
    ]
   },
   "outputs": [],
   "source": [
    "glue(\"diff_eq_X_X\", diff_eq_X.eq_X)"
   ]
  },
  {
   "cell_type": "code",
   "execution_count": null,
   "id": "4d12060a-1c20-4a1b-918e-220eeb9107d3",
   "metadata": {
    "tags": [
     "remove_cell"
    ]
   },
   "outputs": [],
   "source": [
    "glue(\"diff_eq_X_beta\", diff_eq_X.eq_beta)"
   ]
  },
  {
   "cell_type": "markdown",
   "id": "721d70c6-224f-4a80-82c7-36e25b8b83df",
   "metadata": {},
   "source": [
    "Solving the regressions with OLS in each degree of freedome gives a perfect match of hydrodynamic derivatives compared to the real model used when generating the simulated data as seen in {numref}`fig_bar_parameters`. Parameter identification using linear regression with forces calculated with inverse dynamics with a model that is perfectly correct on data that is also perfect will obviously give a perfect identification of the system."
   ]
  },
  {
   "cell_type": "code",
   "execution_count": null,
   "id": "ab2efa14-76d8-4a0d-91a4-c1af146e495d",
   "metadata": {
    "tags": [
     "remove_cell"
    ]
   },
   "outputs": [],
   "source": [
    "df_parameters_X = pd.DataFrame(pd.Series({key:value for key,value in model.parameters.items() if key[0]=='X' and value !=0}, name='real'))\n",
    "df_parameters_X['regression'] = result_X.params\n",
    "df_parameters_X.dropna(inplace=True)\n",
    "df_parameters_X.index = p[df_parameters_X.index].apply(lambda x: \"$%s$\" % str(x).replace('delta',r'\\delta'))\n",
    "df_parameters_X.index.name = ''\n",
    "\n",
    "df_parameters_Y = pd.DataFrame(pd.Series({key:value for key,value in model.parameters.items() if key[0]=='Y' and value !=0}, name='real'))\n",
    "df_parameters_Y['regression'] = result_Y.params\n",
    "df_parameters_Y.dropna(inplace=True)\n",
    "df_parameters_Y.index = p[df_parameters_Y.index].apply(lambda x: \"$%s$\" % str(x).replace('delta',r'\\delta').replace('thrust','T'))\n",
    "df_parameters_Y.index.name = ''\n",
    "\n",
    "\n",
    "\n",
    "df_parameters_N = pd.DataFrame(pd.Series({key:value for key,value in model.parameters.items() if key[0]=='N' and value !=0}, name='real'))\n",
    "df_parameters_N['regression'] = result_N.params\n",
    "df_parameters_N.dropna(inplace=True)\n",
    "df_parameters_N.index = p[df_parameters_N.index].apply(lambda x: \"$%s$\" % str(x).replace('delta',r'\\delta').replace('thrust','T'))\n",
    "df_parameters_N.index.name = ''\n"
   ]
  },
  {
   "cell_type": "code",
   "execution_count": null,
   "id": "936fe4ad-36d9-4275-be9a-574374497653",
   "metadata": {
    "tags": [
     "remove_input",
     "remove_cell"
    ]
   },
   "outputs": [],
   "source": [
    "fig,axes=plt.subplots(ncols=3)\n",
    "ax=axes[0]\n",
    "df_parameters_X.plot.bar(ax=ax)\n",
    "ax=axes[1]\n",
    "df_parameters_Y.plot.bar(ax=ax)\n",
    "ax.get_legend().set_visible(False)\n",
    "ax=axes[2]\n",
    "df_parameters_N.plot.bar(ax=ax)\n",
    "plt.tight_layout()\n",
    "ax.get_legend().set_visible(False)\n",
    "\n",
    "glue('fig_bar_parameters', fig, display=False)\n"
   ]
  },
  {
   "cell_type": "markdown",
   "id": "69948a5d-7e4b-40e2-941a-39f9bbb74730",
   "metadata": {
    "tags": []
   },
   "source": [
    "```{glue:figure} fig_bar_parameters\n",
    ":name: \"fig_bar_parameters\"\n",
    ":figwidth: 1000px\n",
    "Real and regressed parameters\n",
    "```"
   ]
  },
  {
   "cell_type": "code",
   "execution_count": null,
   "id": "5feb8504-75f2-4e92-bfc4-fb89219771be",
   "metadata": {},
   "outputs": [],
   "source": []
  },
  {
   "cell_type": "code",
   "execution_count": null,
   "id": "9c369c00-6218-416c-a609-abffe806db70",
   "metadata": {},
   "outputs": [],
   "source": []
  },
  {
   "cell_type": "code",
   "execution_count": null,
   "id": "02666380-40e2-41df-9f99-ba26e3878165",
   "metadata": {},
   "outputs": [],
   "source": []
  },
  {
   "cell_type": "code",
   "execution_count": null,
   "id": "a030e19e-1469-47f2-b3b9-4b702435f7f6",
   "metadata": {},
   "outputs": [],
   "source": []
  }
 ],
 "metadata": {
  "citation-manager": {
   "items": {}
  },
  "kernelspec": {
   "display_name": "wPCC_pipeline",
   "language": "python",
   "name": "python3"
  },
  "language_info": {
   "codemirror_mode": {
    "name": "ipython",
    "version": 3
   },
   "file_extension": ".py",
   "mimetype": "text/x-python",
   "name": "python",
   "nbconvert_exporter": "python",
   "pygments_lexer": "ipython3",
   "version": "3.7.9"
  }
 },
 "nbformat": 4,
 "nbformat_minor": 5
}
