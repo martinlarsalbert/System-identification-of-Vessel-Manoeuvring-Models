{
 "cells": [
  {
   "cell_type": "code",
   "execution_count": null,
   "id": "f1f1bfa1-28d3-40c9-9c19-59d6c815dbb8",
   "metadata": {
    "jupyter": {
     "source_hidden": true
    },
    "tags": [
     "remove-cell"
    ]
   },
   "outputs": [],
   "source": [
    "# %load imports.py\n",
    "%load_ext autoreload\n",
    "%autoreload 2\n",
    "%reload_kedro\n",
    "%config Completer.use_jedi = False  ## (To fix autocomplete)\n",
    "\n",
    "import pandas as pd\n",
    "from src.models.vmm import ModelSimulator\n",
    "import matplotlib.pyplot as plt\n",
    "from src.visualization.plot import track_plots, plot, captive_plot\n",
    "import kedro\n",
    "import numpy as np\n",
    "import os.path\n",
    "import anyconfig\n",
    "\n",
    "import matplotlib\n",
    "matplotlib.rcParams[\"figure.figsize\"] = (15,4)\n",
    "\n",
    "from myst_nb import glue\n",
    "from src.symbols import *\n",
    "import src.symbols as symbols\n",
    "from src.system_equations import *\n",
    "\n",
    "from IPython.display import display, Math, Latex, Markdown\n",
    "from sympy.physics.vector.printing import vpprint, vlatex\n",
    "\n",
    "from src.parameters import df_parameters\n",
    "p = df_parameters[\"symbol\"]\n",
    "\n",
    "# Read configs:\n",
    "conf_path = os.path.join(\"../../conf/base/\")\n",
    "runs_globals_path = os.path.join(\n",
    "    conf_path,\n",
    "    \"runs_globals.yml\",\n",
    ")\n",
    "\n",
    "runs_globals = anyconfig.load(runs_globals_path)\n",
    "model_test_ids = runs_globals[\"model_test_ids\"]\n",
    "\n",
    "join_globals_path = os.path.join(\n",
    "    conf_path,\n",
    "    \"join_globals.yml\",\n",
    ")\n",
    "\n",
    "joins = runs_globals[\"joins\"]\n",
    "join_runs_dict = anyconfig.load(join_globals_path)\n",
    "\n",
    "globals_path = os.path.join(\n",
    "    conf_path,\n",
    "    \"globals.yml\",\n",
    ")\n",
    "global_variables = anyconfig.load(globals_path)\n",
    "\n",
    "\n",
    "\n",
    "vmms = global_variables[\"vmms\"]\n",
    "only_joined = global_variables[\n",
    "    \"only_joined\"\n",
    "]  # (regress/predict with only models from joined runs)S"
   ]
  },
  {
   "cell_type": "markdown",
   "id": "fe763b42-8c96-46f2-bd6f-a111193c42b4",
   "metadata": {},
   "source": [
    "### Acceleration accuracy"
   ]
  },
  {
   "cell_type": "code",
   "execution_count": null,
   "id": "f5b201b2-87cf-43fc-aba3-c273a671782a",
   "metadata": {
    "jupyter": {
     "outputs_hidden": true
    },
    "tags": [
     "remove-cell"
    ]
   },
   "outputs": [],
   "source": [
    "regression = \"motion_regression\"\n",
    "\n",
    "df_rmse = pd.DataFrame() \n",
    "\n",
    "for vmm in vmms:\n",
    "    \n",
    "    for join in joins:\n",
    "    \n",
    "        for id in model_test_ids:\n",
    "\n",
    "            rmse = catalog.load(f\"{ vmm }.{ regression }.{ join }.{ id }.online_prediction_rmse\")\n",
    "            \n",
    "            \n",
    "            rmse[\"vmm\"] = vmm\n",
    "            rmse[\"join\"] = join\n",
    "            rmse[\"model_test_id\"] = id\n",
    "            df_rmse = df_rmse.append(rmse, ignore_index=True)\n",
    "            \n",
    "            \n",
    "            "
   ]
  },
  {
   "cell_type": "code",
   "execution_count": null,
   "id": "ae20781b-5d9a-4904-bae1-95428ff93f0b",
   "metadata": {
    "tags": [
     "remove-cell"
    ]
   },
   "outputs": [],
   "source": [
    "fig,ax=plt.subplots()\n",
    "df_rmse.groupby(by=['join']).get_group('joined').groupby(by=['vmm']).mean().plot.bar(ax=ax);\n",
    "\n",
    "glue(\"fig_x_dot_rmse\", fig, display=False)"
   ]
  },
  {
   "cell_type": "code",
   "execution_count": null,
   "id": "fe9ee1d1-dab5-45c8-9538-65f54a8d1ffe",
   "metadata": {
    "tags": [
     "remove-cell"
    ]
   },
   "outputs": [],
   "source": [
    "df_compare = df_rmse.groupby(by=['join']).get_group('joined').copy()\n",
    "fig,ax=plt.subplots()\n",
    "df_compare.pivot(index='model_test_id', columns='vmm').plot.bar(y='A_FP', ax=ax);\n",
    "glue(\"fig_A_FP_rmse\", fig, display=False)"
   ]
  },
  {
   "cell_type": "markdown",
   "id": "5a5f2629-268c-4f5b-b8b9-58a2c94f7974",
   "metadata": {},
   "source": [
    "The root mean square error (RMSE) of the acceleration errors are shown for all the manoeuvring models in {numref}`fig_x_dot_rmse`.\n",
    "\n",
    "```{glue:figure} fig_x_dot_rmse\n",
    ":figwidth: 1000px\n",
    ":name: \"fig_x_dot_rmse\"\n",
    "\n",
    "RMSE of the acceleration errors for all the manoeuvring models\n",
    "```\n",
    "\n",
    "This figure is also showing $A_{FP}$ which is an attempt to express a total error of all the three DOF:s as:\n",
    "\n",
    "$$ A_{FP}^2 = \\dot{u}^2 + \\left(|\\dot{v}| + \\frac{L_{pp}|\\dot{r}|}{2} \\right)^2 $$\n",
    "\n",
    "```{glue:figure} fig_A_FP_rmse\n",
    ":figwidth: 1000px\n",
    ":name: \"fig_A_FP_rmse\"\n",
    "\n",
    "RMSE of the total acceleration errors for all model tests and manoeuvring models\n",
    "```"
   ]
  },
  {
   "cell_type": "code",
   "execution_count": null,
   "id": "09fec3a6-2a98-4545-9e28-5d4d5b9f9ebf",
   "metadata": {},
   "outputs": [],
   "source": []
  },
  {
   "cell_type": "code",
   "execution_count": null,
   "id": "f546df02-924b-41d7-abeb-536c946c6304",
   "metadata": {},
   "outputs": [],
   "source": []
  },
  {
   "cell_type": "code",
   "execution_count": null,
   "id": "bad1a1b9-274f-4059-ae48-eaedb9ba8af2",
   "metadata": {},
   "outputs": [],
   "source": []
  },
  {
   "cell_type": "code",
   "execution_count": null,
   "id": "74722c10-04c9-4fe5-b99d-b90ad283448b",
   "metadata": {},
   "outputs": [],
   "source": []
  }
 ],
 "metadata": {
  "kernelspec": {
   "display_name": "wPCC_pipeline",
   "language": "python",
   "name": "python3"
  },
  "language_info": {
   "codemirror_mode": {
    "name": "ipython",
    "version": 3
   },
   "file_extension": ".py",
   "mimetype": "text/x-python",
   "name": "python",
   "nbconvert_exporter": "python",
   "pygments_lexer": "ipython3",
   "version": "3.7.9"
  }
 },
 "nbformat": 4,
 "nbformat_minor": 5
}
