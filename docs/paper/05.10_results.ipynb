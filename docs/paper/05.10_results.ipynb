{
 "cells": [
  {
   "cell_type": "markdown",
   "id": "ecef5b6a-812e-4031-b8a2-473f41761c9b",
   "metadata": {
    "tags": []
   },
   "source": [
    "(results)=\n",
    "# Results"
   ]
  },
  {
   "cell_type": "code",
   "execution_count": null,
   "id": "ff85e028-443e-4642-b362-8dad70d72fc8",
   "metadata": {
    "tags": [
     "remove-cell"
    ]
   },
   "outputs": [],
   "source": [
    "# %load imports.py\n",
    "%load_ext autoreload\n",
    "%autoreload 2\n",
    "%reload_kedro\n",
    "%config Completer.use_jedi = False  ## (To fix autocomplete)\n",
    "%matplotlib inline\n",
    "\n",
    "import pandas as pd\n",
    "pd.set_option('display.max_columns', 500)\n",
    "from src.models.vmm import ModelSimulator\n",
    "import matplotlib.pyplot as plt\n",
    "from src.visualization.plot import track_plots, plot, captive_plot\n",
    "import kedro\n",
    "import numpy as np\n",
    "import os.path\n",
    "import anyconfig\n",
    "\n",
    "import matplotlib\n",
    "plt.style.use('paper')\n",
    "\n",
    "from myst_nb import glue\n",
    "from src.symbols import *\n",
    "import src.symbols as symbols\n",
    "from src.system_equations import *\n",
    "\n",
    "from IPython.display import display, Math, Latex, Markdown\n",
    "from sympy.physics.vector.printing import vpprint, vlatex\n",
    "\n",
    "from src.parameters import df_parameters\n",
    "p = df_parameters[\"symbol\"]\n",
    "\n",
    "# Read configs:\n",
    "conf_path = os.path.join(\"../../conf/base/\")\n",
    "runs_globals_path = os.path.join(\n",
    "    conf_path,\n",
    "    \"runs_globals.yml\",\n",
    ")\n",
    "\n",
    "runs_globals = anyconfig.load(runs_globals_path)\n",
    "model_test_ids = runs_globals[\"model_test_ids\"]\n",
    "\n",
    "join_globals_path = os.path.join(\n",
    "    conf_path,\n",
    "    \"join_globals.yml\",\n",
    ")\n",
    "\n",
    "joins = runs_globals[\"joins\"]\n",
    "join_runs_dict = anyconfig.load(join_globals_path)\n",
    "\n",
    "globals_path = os.path.join(\n",
    "    conf_path,\n",
    "    \"globals.yml\",\n",
    ")\n",
    "global_variables = anyconfig.load(globals_path)\n",
    "\n",
    "\n",
    "\n",
    "vmms = global_variables[\"vmms\"]\n",
    "from src.visualization.plot import track_plots, track_plot, plot, plot_parameters\n",
    "from scipy.linalg import block_diag\n",
    "from scipy.stats import norm, multivariate_normal\n",
    "import seaborn as sns"
   ]
  },
  {
   "cell_type": "code",
   "execution_count": null,
   "id": "e9e66917-6b8f-4836-a1af-cc834279bd43",
   "metadata": {
    "tags": [
     "remove-cell"
    ]
   },
   "outputs": [],
   "source": [
    "regressions = {}\n",
    "\n",
    "regressions['wPCC'] = catalog.load(\"wpcc.updated.vmm_martins_simple.joined.regression\")\n",
    "regressions['KVLCC2'] = catalog.load(\"kvlcc2_hsva.updated.vmm_martins_simple.joined.regression\")"
   ]
  },
  {
   "cell_type": "code",
   "execution_count": null,
   "id": "07903e56-b41b-4fa6-9a9a-3c7878348be9",
   "metadata": {
    "tags": [
     "remove-cell"
    ]
   },
   "outputs": [],
   "source": [
    "stds/parameters"
   ]
  },
  {
   "cell_type": "markdown",
   "id": "110733fe-ffa9-4d18-93a0-c7171b262c8a",
   "metadata": {},
   "source": [
    "Hydrodynamic deriviatives in the selected Simplified Abkowitz model are shown in [tab](tab_parameters_X), [tab](tab_parameters_Y) and [tab](tab_parameters_N). The values are also shown in [fig](parameters). The standard deviation of the regressed parameters is small and hardly visible in this figure. The $N_{T\\delta}$ for wPCC has the largest standard deviation, which is about 11% of its parameter value.\n",
    "\n",
    "```{glue:figure} tab_parameters_X\n",
    ":name: \"tab_parameters_X\"\n",
    "\n",
    "Identified parameters in the Simplified Abkowitz model for wPCC and KVLCC2.\n",
    "```\n",
    "\n",
    "```{glue:figure} tab_parameters_Y\n",
    ":name: \"tab_parameters_Y\"\n",
    "\n",
    "Identified parameters in the Simplified Abkowitz model for wPCC and KVLCC2.\n",
    "```\n",
    "\n",
    "```{glue:figure} tab_parameters_N\n",
    ":name: \"tab_parameters_N\"\n",
    "\n",
    "Identified parameters in the Simplified Abkowitz model for wPCC and KVLCC2.\n",
    "```\n",
    "\n",
    "```{glue:figure} parameters\n",
    ":name: \"parameters\"\n",
    "\n",
    "Identified parameters in the Simplified Abkowitz model for wPCC and KVLCC2 including error bars with standard deviation.\n",
    "```\n",
    "\n",
    "[table](cov_X), [table](cov_Y), [table](cov_N) show the covarariance matrixes from the regression.\n",
    "\n",
    "```{glue:figure} cov_X\n",
    ":name: \"cov_X\"\n",
    "\n",
    "Regression covariance matrix (*10^9) in the X-equation of Simplified Abkowitz model for KVLCC2.\n",
    "```\n",
    "\n",
    "```{glue:figure} cov_Y\n",
    ":name: \"cov_Y\"\n",
    "\n",
    "Regression covariance matrix (*10^9) in the Y-equation of Simplified Abkowitz model for KVLCC2.\n",
    "```\n",
    "\n",
    "```{glue:figure} cov_N\n",
    ":name: \"cov_N\"\n",
    "\n",
    "Regression covariance matrix (*10^9) in the N-equation of Simplified Abkowitz model for KVLCC2.\n",
    "```\n",
    "\n"
   ]
  },
  {
   "cell_type": "code",
   "execution_count": null,
   "id": "cdeb0501-9c49-4c80-ae78-eb9c1995894c",
   "metadata": {
    "tags": [
     "remove-cell"
    ]
   },
   "outputs": [],
   "source": [
    "parameters = pd.DataFrame()\n",
    "stds = pd.DataFrame()\n",
    "\n",
    "for ship, regression in regressions.items():\n",
    "    parameters[ship] = regression.parameters['regressed']\n",
    "    \n",
    "    std = dict(regression.model_X.bse)\n",
    "    std.update(regression.model_Y.bse)\n",
    "    std.update(regression.model_N.bse)\n",
    "    stds[ship] = pd.Series(std)\n",
    "    \n",
    "    \n",
    "fig,ax=plt.subplots()\n",
    "parameters.plot.bar(ax=ax, yerr=stds)\n",
    "\n",
    "glue(\"parameters\", fig, display=False)"
   ]
  },
  {
   "cell_type": "code",
   "execution_count": null,
   "id": "70e61afa-6588-4abd-9aca-edb65b19a7e9",
   "metadata": {
    "tags": [
     "remove-cell"
    ]
   },
   "outputs": [],
   "source": [
    "mask_X = parameters.apply(lambda x:x.name[0]=='X', axis=1)\n",
    "parameters_X = parameters.loc[mask_X].transpose()\n",
    "glue(\"tab_parameters_X\",parameters_X)"
   ]
  },
  {
   "cell_type": "code",
   "execution_count": null,
   "id": "5c1c0a38-1b4c-48ce-9658-5295f0f513a0",
   "metadata": {
    "tags": [
     "remove-cell"
    ]
   },
   "outputs": [],
   "source": [
    "mask_Y = parameters.apply(lambda x:x.name[0]=='Y', axis=1)\n",
    "parameters_Y = parameters.loc[mask_Y].transpose()\n",
    "glue(\"tab_parameters_Y\", parameters_Y)"
   ]
  },
  {
   "cell_type": "code",
   "execution_count": null,
   "id": "b2377015-160b-4001-baa2-0d0151f0d81a",
   "metadata": {
    "tags": [
     "remove-cell"
    ]
   },
   "outputs": [],
   "source": [
    "mask_N = parameters.apply(lambda x:x.name[0]=='N', axis=1)\n",
    "parameters_N = parameters.loc[mask_N].transpose()\n",
    "glue(\"tab_parameters_N\", parameters_N)"
   ]
  },
  {
   "cell_type": "code",
   "execution_count": null,
   "id": "43a06670-8198-4a3f-b5e7-aa679bc1d428",
   "metadata": {
    "tags": [
     "remove-cell"
    ]
   },
   "outputs": [],
   "source": [
    "regression = regressions['KVLCC2']\n",
    "models = {'X':regression.model_X, \n",
    "          'Y':regression.model_Y, \n",
    "          'N':regression.model_N}\n",
    "\n",
    "fig,axes=plt.subplots(ncols=3)\n",
    "covs = {}\n",
    "\n",
    "for ax, (dof,model) in zip(axes, models.items()):\n",
    "    keys = model.params.keys()\n",
    "    cov = pd.DataFrame(model.cov_HC0, index=keys, columns=keys)\n",
    "    covs[dof] = cov\n",
    "    sigmas = np.sqrt(np.diag(cov))\n",
    "    corr = cov.divide(sigmas, axis=0).divide(sigmas, axis=1)\n",
    "    \n",
    "    \n",
    "    grid = sns.heatmap(corr.abs(), cmap='gray_r', ax=ax)\n",
    "#plt.tight_layout()\n",
    "glue(\"correlation\", fig, display=False)"
   ]
  },
  {
   "cell_type": "code",
   "execution_count": null,
   "id": "44d65d2f-0bab-412c-acd3-3441affca752",
   "metadata": {
    "tags": [
     "remove-cell"
    ]
   },
   "outputs": [],
   "source": [
    "for dof,cov in covs.items():\n",
    "    glue(f\"cov_{dof}\", (cov*10**9).round(decimals=2))"
   ]
  }
 ],
 "metadata": {
  "citation-manager": {
   "items": {}
  },
  "kernelspec": {
   "display_name": "wPCC_pipeline",
   "language": "python",
   "name": "python3"
  },
  "language_info": {
   "codemirror_mode": {
    "name": "ipython",
    "version": 3
   },
   "file_extension": ".py",
   "mimetype": "text/x-python",
   "name": "python",
   "nbconvert_exporter": "python",
   "pygments_lexer": "ipython3",
   "version": "3.7.9"
  }
 },
 "nbformat": 4,
 "nbformat_minor": 5
}
