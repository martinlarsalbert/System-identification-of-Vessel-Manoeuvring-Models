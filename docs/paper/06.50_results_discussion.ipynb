{
 "cells": [
  {
   "cell_type": "markdown",
   "id": "56b6c2d2-fa07-42a0-9161-ba4804aca18f",
   "metadata": {},
   "source": [
    "## Discussion\n",
    "Using inverse dynamics in the proposed parameter estimation can find the parameters in a manoeuvring model precisely when there is no measurement noise, and the selected manoeuvring model is a perfect model. This type of result can be seen when identifying parameters in a manoeuvring model on data from simulations with the same manoeuvring model. In order to succeed in system identification on actual model test data, measurement noise as well as model uncertainty need to be handled, and a manoeuvring model as close as possible to the real system should be used. The proposed parameter estimation method requires that the model test data is preprocessed to remove measurement noises. The proposed iterative EKF and RTS smoothers gives higher accuracy and avoids finding the optimal cut-off frequency for using a low-pass filter. The linearization in the EKF did not cause any stability problems, with the high frequency model test data used (100 Hz), which can be a problem for more sparse time series, with longer time steps. In this case, Unscented Kalman Filter (UKF) can be considered as an alternative. \n",
    "  \n",
    "Multicollinearity was a significant problem with the AVMM for both the wPCC and KVLCC2 data. Consequently, some of the regressed hydrodynamic derivatives in the AVMM have unphysically large values and substantial uncertainties. The model is still mathematically correct, where the regressed polynomials fit the training data well. \n",
    "The regressed polynomial is the sum of large counteracting coefficients. The model works as long as the states are similar to the training data. However, when extrapolating, it is easy to imagine that the balance between these massive derivatives is disturbed, giving significant extrapolation errors very quickly. This behavior was seen when predicting forces and moments with the AVMM on unseen validation data and is a well known problem $\\cite{ittc_maneuvering_2008}$.\n",
    "\n",
    "The MAVMM has fewer hydrodynamic derivatives with lower multicollinearity and minor extrapolation errors. Including propeller thrust in the manoeuvring model made it possible to obtain high accuracy with fewer hydrodynamic derivatives. Another problem with a too complex model is that the standard manoeuvres used in this paper does not follow the aspect of persistence of excitation, so that some of the hydrodynamic derivatives might not be identifiable $\\cite{revestido_herrero_two-step_2012}$. During zigzag tests, the model is for instance exposed to only two rudder angles for a majority of the data. A series of step responses as used in $\\cite{miller_ship_2021}$ gives a better excitation, but requires a lot of space, which is possible at lake experiments, but not in a narrow basin.\n",
    "\n",
    "The close integration with the EKF makes this method very convenient to use in online applications. The hydrodynamic derivatives are however not updated online. The regression needs to be rerun, which is a rapid procedure with the OLS regression.  The entire time series history or more recent parts, can be used depending on how much the model should remembered. "
   ]
  },
  {
   "cell_type": "code",
   "execution_count": null,
   "id": "44060442-0484-4ff0-8d37-2ad805ae6f1c",
   "metadata": {},
   "outputs": [],
   "source": []
  }
 ],
 "metadata": {
  "citation-manager": {
   "items": {}
  },
  "kernelspec": {
   "display_name": "wPCC_pipeline",
   "language": "python",
   "name": "python3"
  },
  "language_info": {
   "codemirror_mode": {
    "name": "ipython",
    "version": 3
   },
   "file_extension": ".py",
   "mimetype": "text/x-python",
   "name": "python",
   "nbconvert_exporter": "python",
   "pygments_lexer": "ipython3",
   "version": "3.7.9"
  }
 },
 "nbformat": 4,
 "nbformat_minor": 5
}
