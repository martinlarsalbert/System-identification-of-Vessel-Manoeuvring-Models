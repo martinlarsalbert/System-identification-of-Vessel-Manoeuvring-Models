{
 "cells": [
  {
   "cell_type": "markdown",
   "id": "56b6c2d2-fa07-42a0-9161-ba4804aca18f",
   "metadata": {},
   "source": [
    "## Discussion\n",
    "Using inverse dynamics in the proposed PIT can find the parameters in a VMM precisely when there is no measurement noise, and the selected VMM is a perfect model. This type of result can be seen when identifying parameters in a VMM on data from simulations with the same VMM. In order to succeed in system identification on actual model test data, measurement noise needs to be handled, and a VMM close as possible to natural ship dynamics needs to be found. The proposed PIT method requires that the model test data is preprocessed to remove measurement noises. The proposed iterative EKF and RTS smoothers as the preprocessor gives higher accuracy and avoids finding the optimal cut-off frequency for using a low-pass filter.\n",
    "\n",
    "  \n",
    "Multicollinearity is a significant problem with AVMM for both the wPCC and KVLCC2 data. Consequently, some of the regressed hydrodynamic derivatives in the AVMM have unphysically large values and substantial uncertainties. The model is still mathematically correct, where the regressed polynomials fit the training data well.\n",
    "The regressed polynomial is the sum of large counteracting coefficients. The model works as long as the states are similar to the training data. However, when extrapolating, it is easy to imagine that the balance between these massive derivatives is disturbed, giving significant extrapolation errors very quickly. This behavior was seen when predicting forces and moments with the AVMM on unseen validation data.\n",
    "The MAVMM has fewer hydrodynamic derivatives with lower multicollinearity and minor extrapolation errors. Including propeller thrust in the VMM made it possible to obtain high accuracy with fewer hydrodynamic derivatives."
   ]
  }
 ],
 "metadata": {
  "citation-manager": {
   "items": {}
  },
  "kernelspec": {
   "display_name": "wPCC_pipeline",
   "language": "python",
   "name": "python3"
  },
  "language_info": {
   "codemirror_mode": {
    "name": "ipython",
    "version": 3
   },
   "file_extension": ".py",
   "mimetype": "text/x-python",
   "name": "python",
   "nbconvert_exporter": "python",
   "pygments_lexer": "ipython3",
   "version": "3.7.9"
  }
 },
 "nbformat": 4,
 "nbformat_minor": 5
}
