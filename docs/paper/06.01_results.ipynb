{
 "cells": [
  {
   "cell_type": "markdown",
   "id": "7311b09c-8a49-4b39-8dc9-7323602492a9",
   "metadata": {},
   "source": [
    "# Results"
   ]
  },
  {
   "cell_type": "code",
   "execution_count": null,
   "id": "ef794442-afbf-40a3-a540-4d8e4bd8f2db",
   "metadata": {
    "tags": [
     "remove-cell"
    ]
   },
   "outputs": [],
   "source": [
    "# %load imports.py\n",
    "%load_ext autoreload\n",
    "%autoreload 2\n",
    "%reload_kedro\n",
    "%config Completer.use_jedi = False  ## (To fix autocomplete)\n",
    "\n",
    "import pandas as pd\n",
    "from src.models.vmm import ModelSimulator\n",
    "import matplotlib.pyplot as plt\n",
    "from src.visualization.plot import track_plots, plot, captive_plot\n",
    "import kedro\n",
    "import numpy as np\n",
    "import os.path\n",
    "import anyconfig\n",
    "\n",
    "import matplotlib\n",
    "matplotlib.rcParams[\"figure.figsize\"] = (15,4)\n",
    "\n",
    "from myst_nb import glue\n",
    "from src.symbols import *\n",
    "import src.symbols as symbols\n",
    "from src.system_equations import *\n",
    "\n",
    "from IPython.display import display, Math, Latex, Markdown\n",
    "from sympy.physics.vector.printing import vpprint, vlatex\n",
    "\n",
    "from src.parameters import df_parameters\n",
    "p = df_parameters[\"symbol\"]\n",
    "\n",
    "# Read configs:\n",
    "conf_path = os.path.join(\"../../conf/base/\")\n",
    "runs_globals_path = os.path.join(\n",
    "    conf_path,\n",
    "    \"runs_globals.yml\",\n",
    ")\n",
    "\n",
    "runs_globals = anyconfig.load(runs_globals_path)\n",
    "model_test_ids = runs_globals[\"model_test_ids\"]\n",
    "\n",
    "join_globals_path = os.path.join(\n",
    "    conf_path,\n",
    "    \"join_globals.yml\",\n",
    ")\n",
    "\n",
    "joins = runs_globals[\"joins\"]\n",
    "join_runs_dict = anyconfig.load(join_globals_path)\n",
    "\n",
    "globals_path = os.path.join(\n",
    "    conf_path,\n",
    "    \"globals.yml\",\n",
    ")\n",
    "global_variables = anyconfig.load(globals_path)\n",
    "\n",
    "\n",
    "\n",
    "vmms = global_variables[\"vmms\"]\n",
    "only_joined = global_variables[\n",
    "    \"only_joined\"\n",
    "]  # (regress/predict with only models from joined runs)S"
   ]
  },
  {
   "cell_type": "code",
   "execution_count": null,
   "id": "511761c0-f975-4d46-9053-e052784ceed1",
   "metadata": {
    "tags": [
     "remove-cell"
    ]
   },
   "outputs": [],
   "source": [
    "regressions = global_variables['regressions']\n",
    "\n",
    "regression_names = ['motion_regression','force_regression']\n",
    "\n",
    "def load_joined(join='joined'):\n",
    "    df_accuracies = pd.DataFrame()\n",
    "    \n",
    "    for vmm_name in vmms:\n",
    "        for model_test_id in model_test_ids:\n",
    "            \n",
    "            file_paths = []\n",
    "            file_paths.append(f\"{ vmm_name }.motion_regression.{join}.{model_test_id}.simulation_accuracy\")\n",
    "            file_paths.append(f\"{ vmm_name }.force_regression.{model_test_id}.simulation_accuracy\")\n",
    "            \n",
    "            \n",
    "            for regression,file_path in zip(regression_names, file_paths):\n",
    "                try:\n",
    "                    accuracy = catalog.load(file_path)\n",
    "                except:\n",
    "                    continue\n",
    "                \n",
    "                accuracy = pd.Series(accuracy)\n",
    "                accuracy['total'] = accuracy.mean()\n",
    "                \n",
    "                accuracy['vmm'] = vmm_name\n",
    "                accuracy['regression'] = regression\n",
    "                accuracy['model test'] = model_test_id\n",
    "                \n",
    "                df_accuracies = df_accuracies.append(accuracy, ignore_index=True)\n",
    "                \n",
    "    return df_accuracies\n",
    "            "
   ]
  },
  {
   "cell_type": "code",
   "execution_count": null,
   "id": "4d277dec-e1ea-4ecd-b55d-1713a29b86a9",
   "metadata": {
    "jupyter": {
     "outputs_hidden": true
    },
    "tags": [
     "remove-cell"
    ]
   },
   "outputs": [],
   "source": [
    "df_accuracies = load_joined()"
   ]
  },
  {
   "cell_type": "code",
   "execution_count": null,
   "id": "03bf2ba4-c222-429c-905d-e6846e7cfe89",
   "metadata": {
    "tags": [
     "remove-cell"
    ]
   },
   "outputs": [],
   "source": [
    "df_compare = df_accuracies.groupby(by=['vmm','regression']).mean().sort_values(by='total', ascending=True)\n",
    "df_compare"
   ]
  },
  {
   "cell_type": "code",
   "execution_count": null,
   "id": "2bbdc747-dfcd-47b6-a253-61b73fe6334d",
   "metadata": {
    "tags": [
     "remove-input"
    ]
   },
   "outputs": [],
   "source": [
    "df_compare.reset_index().pivot(index=['vmm'], columns=['regression'], values='total').plot.bar();"
   ]
  }
 ],
 "metadata": {
  "kernelspec": {
   "display_name": "wPCC_pipeline",
   "language": "python",
   "name": "python3"
  },
  "language_info": {
   "codemirror_mode": {
    "name": "ipython",
    "version": 3
   },
   "file_extension": ".py",
   "mimetype": "text/x-python",
   "name": "python",
   "nbconvert_exporter": "python",
   "pygments_lexer": "ipython3",
   "version": "3.7.9"
  }
 },
 "nbformat": 4,
 "nbformat_minor": 5
}
