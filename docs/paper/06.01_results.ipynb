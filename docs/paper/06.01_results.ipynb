{
 "cells": [
  {
   "cell_type": "markdown",
   "id": "7311b09c-8a49-4b39-8dc9-7323602492a9",
   "metadata": {},
   "source": [
    "# Results\n",
    "Hydrodynamic derivatives regressed on all model tests are shown for the chosen VMM is shown in {numref}`fig_parameters` and {numref}`tab_parameters`. The bar plots show the mean values of these random variables together with the standard deviation shown as the black error bars."
   ]
  },
  {
   "cell_type": "code",
   "execution_count": null,
   "id": "ef794442-afbf-40a3-a540-4d8e4bd8f2db",
   "metadata": {
    "tags": [
     "remove-cell"
    ]
   },
   "outputs": [],
   "source": [
    "# %load imports.py\n",
    "%load_ext autoreload\n",
    "%autoreload 2\n",
    "%reload_kedro\n",
    "%config Completer.use_jedi = False  ## (To fix autocomplete)\n",
    "\n",
    "import warnings\n",
    "warnings.filterwarnings('ignore')\n",
    "\n",
    "import pandas as pd\n",
    "pd.set_option('display.max_rows', 500)\n",
    "pd.set_option('display.max_columns', 500)\n",
    "\n",
    "from src.models.vmm import ModelSimulator\n",
    "import matplotlib.pyplot as plt\n",
    "from src.visualization.plot import track_plots, plot, captive_plot, plot_parameters\n",
    "import kedro\n",
    "import numpy as np\n",
    "import os.path\n",
    "import anyconfig\n",
    "\n",
    "import matplotlib\n",
    "matplotlib.rcParams[\"figure.figsize\"] = (15,4)\n",
    "\n",
    "from myst_nb import glue\n",
    "from wPCC_pipeline.paper import glue_table\n",
    "from src.symbols import *\n",
    "import src.symbols as symbols\n",
    "from src.system_equations import *\n",
    "\n",
    "from IPython.display import display, Math, Latex, Markdown\n",
    "from sympy.physics.vector.printing import vpprint, vlatex\n",
    "\n",
    "from src.parameters import df_parameters\n",
    "p = df_parameters[\"symbol\"]\n",
    "\n",
    "# Read configs:\n",
    "conf_path = os.path.join(\"../../conf/base/\")\n",
    "runs_globals_path = os.path.join(\n",
    "    conf_path,\n",
    "    \"runs_globals.yml\",\n",
    ")\n",
    "\n",
    "runs_globals = anyconfig.load(runs_globals_path)\n",
    "model_test_ids = runs_globals[\"model_test_ids\"]\n",
    "\n",
    "join_globals_path = os.path.join(\n",
    "    conf_path,\n",
    "    \"join_globals.yml\",\n",
    ")\n",
    "\n",
    "joins = runs_globals[\"joins\"]\n",
    "join_runs_dict = anyconfig.load(join_globals_path)\n",
    "\n",
    "globals_path = os.path.join(\n",
    "    conf_path,\n",
    "    \"globals.yml\",\n",
    ")\n",
    "global_variables = anyconfig.load(globals_path)\n",
    "\n",
    "\n",
    "\n",
    "vmm_names = global_variables[\"vmms\"]\n",
    "only_joined = global_variables[\n",
    "    \"only_joined\"\n",
    "]  # (regress/predict with only models from joined runs)\n",
    "\n",
    "ship_data = catalog.load(\"ship_data\")"
   ]
  },
  {
   "cell_type": "code",
   "execution_count": null,
   "id": "43b2bb1f-f419-45ae-a037-f9c14a5a1f5e",
   "metadata": {
    "tags": [
     "remove-cell"
    ]
   },
   "outputs": [],
   "source": [
    "from sympy import latex\n",
    "from scipy.stats import norm, multivariate_normal\n",
    "from wPCC_pipeline.pipelines.prediction.nodes import simulate_euler\n",
    "import tqdm\n",
    "import sys\n",
    "from wPCC_pipeline.turning_circle import TurningCircle\n",
    "import seaborn as sns"
   ]
  },
  {
   "cell_type": "code",
   "execution_count": null,
   "id": "3debc7ab-59b2-46e5-ae29-6b7c787b9b3e",
   "metadata": {
    "tags": [
     "remove-cell"
    ]
   },
   "outputs": [],
   "source": [
    "#vmm_name = 'vmm_abkowitz_simple'\n",
    "vmm_name = 'vmm_martins_simple'\n",
    "#vmm_name = 'vmm_abkowitz'\n",
    "\n",
    "\n",
    "model = catalog.load(f\"{ vmm_name }.motion_regression.joined.model\")\n",
    "ek = catalog.load(f\"{ vmm_name }.ek\")"
   ]
  },
  {
   "cell_type": "code",
   "execution_count": null,
   "id": "7ced4aa3-19d6-469b-9278-07cd84ac41cf",
   "metadata": {
    "tags": [
     "remove-cell"
    ]
   },
   "outputs": [],
   "source": [
    "fig_template = \"\"\"```{{glue:figure}} {fig_name}\n",
    ":figwidth: 800px\n",
    ":name: \"{fig_name}\"\n",
    "\n",
    "{caption}\n",
    "```\"\"\""
   ]
  },
  {
   "cell_type": "code",
   "execution_count": null,
   "id": "78f8fc28-ac07-4654-a6ce-a9bade3e7253",
   "metadata": {
    "tags": [
     "remove-cell"
    ]
   },
   "outputs": [],
   "source": [
    "runs_meta_data = catalog.load(\"runs_meta_data\")\n",
    "model_test_ids = [int(value) for value in model_test_ids]\n",
    "mask = runs_meta_data.index.isin(model_test_ids)\n",
    "runs_meta_data = runs_meta_data.loc[mask].copy()"
   ]
  },
  {
   "cell_type": "code",
   "execution_count": null,
   "id": "1210e736-49ca-45dd-90d3-a88888709ebc",
   "metadata": {
    "tags": [
     "remove-cell"
    ]
   },
   "outputs": [],
   "source": [
    "descriptions = ['ZigZag10/10','ZigZag20/20','Turning circle']\n",
    "mask = runs_meta_data['description'].isin(descriptions)\n",
    "runs_meta_data = runs_meta_data.loc[mask]\n",
    "mask = runs_meta_data.duplicated(subset='description', keep='last')\n",
    "runs = runs_meta_data.loc[~mask].copy()"
   ]
  },
  {
   "cell_type": "code",
   "execution_count": null,
   "id": "26362666-1207-4200-b863-f90e48a5c61d",
   "metadata": {
    "tags": [
     "remove-cell"
    ]
   },
   "outputs": [],
   "source": [
    "regression = catalog.load(f\"{ vmm_name }.motion_regression.joined.regression\")\n",
    "    \n",
    "parameters = pd.DataFrame()\n",
    "parameters['mean'] = regression.parameters['regressed']\n",
    "parameters['std'] = regression.std\n",
    "quantile_cuts=[0.6, 0.85]\n",
    "fig = plot_parameters(parameters, quantile_cuts=quantile_cuts);\n",
    "\n",
    "fig_name = f\"fig_parameters\"\n",
    "glue(fig_name, fig, display=False)\n",
    "\n",
    "caption = f\"Regressed parameters on {vmm_name}\"\n",
    "print(fig_template.format(fig_name=fig_name, caption=caption))"
   ]
  },
  {
   "cell_type": "markdown",
   "id": "b2c041ff-0247-4549-a22e-711351509245",
   "metadata": {},
   "source": [
    "```{glue:figure} fig_parameters\n",
    ":figwidth: 800px\n",
    ":name: \"fig_parameters\"\n",
    "\n",
    "Regressed parameters on vmm_abkowitz_simple\n",
    "```"
   ]
  },
  {
   "cell_type": "code",
   "execution_count": null,
   "id": "39cc00c9-607c-4b6e-a9ff-a149d8b9f77a",
   "metadata": {
    "tags": [
     "remove-cell"
    ]
   },
   "outputs": [],
   "source": [
    "parameters['parameter'] = parameters.index\n",
    "parameters['dof'] = parameters['parameter'].apply(lambda x : x[0])\n",
    "parameters.sort_values(by=['parameter'], ascending=True, inplace=True)"
   ]
  },
  {
   "cell_type": "code",
   "execution_count": null,
   "id": "25a6a839-978d-4a8d-a2b4-c1b64f66652e",
   "metadata": {
    "tags": [
     "remove-input",
     "remove-cell"
    ]
   },
   "outputs": [],
   "source": [
    "keys=['parameter','mean','std']\n",
    "\n",
    "parameters_groups = parameters.groupby(by='dof', sort=False)\n",
    "dofs = ['X','Y','N']\n",
    "dfs = [parameters_groups.get_group(dof).reset_index(drop=True)[keys] for dof in dofs]\n",
    "\n",
    "table = pd.concat(dfs, axis=1)\n",
    "\n",
    "def parameter_to_latex(x):\n",
    "    s = f\"$ {latex(p[x])} $\"\n",
    "    s = s.replace(r\"\\delta\",\"delta\")\n",
    "    s = s.replace(\"delta\",r\"\\delta\")\n",
    "    return s\n",
    "\n",
    "table['parameter'] = table['parameter'].applymap(parameter_to_latex, na_action='ignore')\n",
    "\n",
    "formatter={'mean' : \"{:.5f}\", 'std' : \"{:.5f}\"}\n",
    "table_ = table.style.format(formatter=formatter, na_rep='').hide_index()\n",
    "\n",
    "glue_table(f\"df_parameters_{vmm_name}\", table_)"
   ]
  },
  {
   "cell_type": "code",
   "execution_count": null,
   "id": "2f5fd976-4429-4fc9-87d3-08de80d367c7",
   "metadata": {
    "tags": [
     "remove-cell"
    ]
   },
   "outputs": [],
   "source": [
    "def render_mpl_table(data, col_width=3.0, row_height=0.625, font_size=14,\n",
    "                     header_color='#40466e', row_colors=['#f1f1f2', 'w'], edge_color='w',\n",
    "                     bbox=[0, 0, 1, 1], header_columns=0,\n",
    "                     ax=None, **kwargs):\n",
    "    if ax is None:\n",
    "        size = (np.array(data.shape[::-1]) + np.array([0, 1])) * np.array([col_width, row_height])\n",
    "        fig, ax = plt.subplots(figsize=size)\n",
    "        ax.axis('off')\n",
    "    mpl_table = ax.table(cellText=data.values, bbox=bbox, colLabels=data.columns, **kwargs)\n",
    "    mpl_table.auto_set_font_size(False)\n",
    "    mpl_table.set_fontsize(font_size)\n",
    "\n",
    "    for k, cell in mpl_table._cells.items():\n",
    "        cell.set_edgecolor(edge_color)\n",
    "        if k[0] == 0 or k[1] < header_columns:\n",
    "            cell.set_text_props(weight='bold', color='w')\n",
    "            cell.set_facecolor(header_color)\n",
    "        else:\n",
    "            cell.set_facecolor(row_colors[k[0]%len(row_colors) ])\n",
    "    return ax.get_figure(), ax"
   ]
  },
  {
   "cell_type": "code",
   "execution_count": null,
   "id": "ee7bba0d-393e-4fad-91e2-08bfb1f085d8",
   "metadata": {
    "tags": [
     "remove-cell"
    ]
   },
   "outputs": [],
   "source": [
    "table_ = table.copy()\n",
    "table_ = table_.round(decimals=6)\n",
    "table_.fillna('', inplace=True)\n",
    "fig,ax = render_mpl_table(table_, header_columns=0, col_width=1.5, font_size=12)\n",
    "\n",
    "fig_name = f\"tab_parameters\"\n",
    "glue(fig_name, fig, display=False)"
   ]
  },
  {
   "cell_type": "markdown",
   "id": "41153385-0eea-4c68-8acf-d1ee627a8f61",
   "metadata": {},
   "source": [
    "```{glue:figure} tab_parameters\n",
    ":name: \"tab_parameters\"\n",
    "\n",
    "Regressed parameters on the chosen VMM, mean values and standard deviations.\n",
    "```"
   ]
  },
  {
   "cell_type": "code",
   "execution_count": null,
   "id": "770b2990-0fd4-4d46-bffe-d58f59b0d1ed",
   "metadata": {
    "tags": [
     "remove-cell"
    ]
   },
   "outputs": [],
   "source": [
    "def monte_carlo(data_smooth, df_parameter_variation, model, ek):\n",
    "\n",
    "    dataframes = {}\n",
    "    with tqdm.tqdm(total=len(df_parameter_variation), file=sys.stdout) as pbar:\n",
    "        for index, parameters_ in df_parameter_variation.iterrows():\n",
    "            model_ = model.copy()\n",
    "            model_.parameters.update(parameters_)\n",
    "            \n",
    "            df_ = simulate_euler(data=data_smooth, model=model_,ek=ek, solver='Radau') \n",
    "            dataframes[index] = df_\n",
    "        \n",
    "            pbar.update(1)\n",
    "        \n",
    "    return dataframes"
   ]
  },
  {
   "cell_type": "code",
   "execution_count": null,
   "id": "abf03374-6e46-4526-80ba-f422ecc78056",
   "metadata": {
    "tags": [
     "remove-cell"
    ]
   },
   "outputs": [],
   "source": [
    "means = regression.parameters['regressed']\n",
    "stds = regression.std\n",
    "\n",
    "cov = regression.covs.values\n",
    "\n",
    "rv = multivariate_normal(mean=means, cov=cov, allow_singular=True)\n",
    "np.random.seed(42)\n",
    "N_=10\n",
    "df_parameter_variation = pd.DataFrame(data=rv.rvs(N_), columns=means.index)"
   ]
  },
  {
   "cell_type": "code",
   "execution_count": null,
   "id": "0c22db6d-04cf-4d75-8c06-020d97f0ecd6",
   "metadata": {
    "tags": [
     "remove-cell"
    ]
   },
   "outputs": [],
   "source": [
    "dataframes_all = {}\n",
    "vmm_names_ = [vmm_name]\n",
    "\n",
    "dataframes_all = {}\n",
    "\n",
    "with tqdm.tqdm(total=len(runs), file=sys.stdout) as pbar:\n",
    "    for id,row in runs.iterrows():\n",
    "        \n",
    "        \n",
    "        data_smooth = catalog.load(f\"{ id }.data_ek_smooth\")\n",
    "        \n",
    "        dataframes = dataframes_all[row['description']] = monte_carlo(data_smooth, df_parameter_variation, model=model, ek=ek)\n",
    "        \n",
    "        dataframes['model test'] = data_smooth\n",
    "        \n",
    "        for vmm_name in vmm_names_:\n",
    "            data_sim = catalog.load(f\"{ vmm_name }.motion_regression.joined.{ id }.data_resimulate\")\n",
    "            dataframes[vmm_name] = data_sim\n",
    "        \n",
    "        pbar.update(1)"
   ]
  },
  {
   "cell_type": "code",
   "execution_count": null,
   "id": "68933641-bb8d-46d9-8d4f-b7859cc8b561",
   "metadata": {
    "tags": [
     "remove-cell"
    ]
   },
   "outputs": [],
   "source": [
    "styles={'model test':{'style':'k-'},\n",
    "       'VMM':{'style':'r-'},\n",
    "       }\n",
    "\n",
    "for index, parameters_ in df_parameter_variation.iterrows():\n",
    "    styles[index] = {'style':'b-', \n",
    "                     'alpha':0.3,\n",
    "                     'label':'_Hidden label'}"
   ]
  },
  {
   "cell_type": "code",
   "execution_count": null,
   "id": "6a693821-b1e9-4293-b6a7-fc2604ff85ba",
   "metadata": {
    "tags": [
     "remove-cell"
    ]
   },
   "outputs": [],
   "source": [
    "for description, dataframes in dataframes_all.items():\n",
    "    \n",
    "    ax = track_plots(dataframes, lpp=ship_data['L'], beam=ship_data['B'], plot_boats=False, flip=True, \n",
    "                     styles=styles)\n",
    "    fig = ax.get_figure()\n",
    "    fig_name = f\"fig_track_plot_{description}\"\n",
    "    caption = f\"Track plot {description} model test and simulations with {vmm_name}\"\n",
    "    glue(fig_name, fig, display=False)\n",
    "    print(fig_template.format(fig_name=fig_name, caption=caption))\n",
    "    \n",
    "    fig = plot(dataframes, keys=['psi','u','v','r'], fig_size=(10, 5), styles=styles)\n",
    "    fig_name = f\"plot_{description}\"\n",
    "    caption = f\"Time series {description} model test and simulation with {vmm_name}\"\n",
    "    glue(fig_name, fig, display=False)\n",
    "    print(fig_template.format(fig_name=fig_name, caption=caption))"
   ]
  },
  {
   "cell_type": "markdown",
   "id": "a8d345b5-dbf4-4a22-9adf-eee8524688af",
   "metadata": {
    "tags": []
   },
   "source": [
    "A selection of simulations with the chosen VMM fitted on all model tests is shown for ZigZag10/10, ZigZag20/20 and Turning circle in {numref}```fig_track_plot_ZigZag10/10```, {numref}```fig_track_plot_ZigZag10/10```. \n",
    "The simulation with the most likely parameters (mean values from the regression) is shown as blue lines to be compared with corresponding values from the model test in black.\n",
    "Also results from simulations with alternative realizations of the regression are shown as transparent blue lines. These alternative realizations have been sampled from a multivariate normal distribution with mean values and covariance matrix from the regression.   \n",
    "\n",
    "```{glue:figure} fig_track_plot_Turning circle\n",
    ":figwidth: 800px\n",
    ":name: \"fig_track_plot_Turning circle\"\n",
    "\n",
    "Track plot Turning circle model test and simulations with vmm_martins_simple\n",
    "```\n",
    "```{glue:figure} plot_Turning circle\n",
    ":figwidth: 800px\n",
    ":name: \"plot_Turning circle\"\n",
    "\n",
    "Time series Turning circle model test and simulation with vmm_martins_simple\n",
    "```\n",
    "```{glue:figure} fig_track_plot_ZigZag10/10\n",
    ":figwidth: 800px\n",
    ":name: \"fig_track_plot_ZigZag10/10\"\n",
    "\n",
    "Track plot ZigZag10/10 model test and simulations with vmm_martins_simple\n",
    "```\n",
    "```{glue:figure} plot_ZigZag10/10\n",
    ":figwidth: 800px\n",
    ":name: \"plot_ZigZag10/10\"\n",
    "\n",
    "Time series ZigZag10/10 model test and simulation with vmm_martins_simple\n",
    "```\n",
    "```{glue:figure} fig_track_plot_ZigZag20/20\n",
    ":figwidth: 800px\n",
    ":name: \"fig_track_plot_ZigZag20/20\"\n",
    "\n",
    "Track plot ZigZag20/20 model test and simulations with vmm_martins_simple\n",
    "```\n",
    "```{glue:figure} plot_ZigZag20/20\n",
    ":figwidth: 800px\n",
    ":name: \"plot_ZigZag20/20\"\n",
    "\n",
    "Time series ZigZag20/20 model test and simulation with vmm_martins_simple\n",
    "```"
   ]
  },
  {
   "cell_type": "code",
   "execution_count": null,
   "id": "fc4febb0-a3e8-4f66-9dce-0904840228f1",
   "metadata": {
    "tags": [
     "remove-cell"
    ]
   },
   "outputs": [],
   "source": [
    "id = 22774\n",
    "dataframes={}\n",
    "#vmm_name = 'vmm_martins_simple'\n",
    "#vmm_name = 'vmm_abkowitz_simple'\n",
    "\n",
    "regression2 = catalog.load(f\"{ vmm_name }.motion_regression.no_circle.regression\")"
   ]
  },
  {
   "cell_type": "code",
   "execution_count": null,
   "id": "2527233f-ac75-4b12-9494-7e68d510267b",
   "metadata": {
    "tags": [
     "remove-cell"
    ]
   },
   "outputs": [],
   "source": [
    "means = regression2.parameters['regressed']\n",
    "stds = regression2.std\n",
    "\n",
    "cov = regression2.covs.values\n",
    "\n",
    "rv2 = multivariate_normal(mean=means, cov=cov, allow_singular=True)\n",
    "np.random.seed(42)\n",
    "#N_=100\n",
    "N_=1000\n",
    "df_parameter_variation2 = pd.DataFrame(data=rv2.rvs(N_), columns=means.index)"
   ]
  },
  {
   "cell_type": "code",
   "execution_count": null,
   "id": "ec6c226b-b953-4ba3-a52e-cd5b50d6303f",
   "metadata": {
    "tags": [
     "remove-cell"
    ]
   },
   "outputs": [],
   "source": [
    "df_smooth = catalog.load(f\"{ id }.data_ek_smooth\")\n",
    "dataframes = monte_carlo(df_smooth, df_parameter_variation2, model=model, ek=ek)"
   ]
  },
  {
   "cell_type": "code",
   "execution_count": null,
   "id": "027510f8-4ce0-4921-876a-b7fa3122d61f",
   "metadata": {
    "tags": [
     "remove-cell"
    ]
   },
   "outputs": [],
   "source": [
    "dataframes['model test'] = df_smooth\n",
    "dataframes['VMM all'] = catalog.load(f\"{ vmm_name }.motion_regression.joined.{ id }.data_resimulate\")\n",
    "dataframes['VMM circle hold out'] = catalog.load(f\"{ vmm_name }.motion_regression.no_circle.{ id }.data_resimulate\")\n",
    "\n",
    "styles={'model test':{'style':'k-'},\n",
    "       'VMM all':{'style':'r-'},\n",
    "       'VMM circle hold out':{'style':'g-'},\n",
    "        \n",
    "       }\n",
    "\n",
    "for index, parameters_ in df_parameter_variation2.iterrows():\n",
    "    styles[index] = {'style':'b-', \n",
    "                     'alpha':0.1,\n",
    "                     'label':'_Hidden label'}\n",
    "\n",
    "fig,ax=plt.subplots()\n",
    "fig.set_size_inches(10,10)\n",
    "ax = track_plots(dataframes, lpp=ship_data['L'], beam=ship_data['B'], plot_boats=False, flip=True, N=7, styles=styles, ax=ax)\n",
    "#ax.set_xlim((dataframes['model test']['x0'].min(), dataframes['model test']['x0'].max()))\n",
    "#ax.set_ylim((-dataframes['model test']['y0'].max(), dataframes['model test']['y0'].min()))\n",
    "\n",
    "ax.set_xlim(0,25)\n",
    "ax.set_ylim(-20,5)\n",
    "\n",
    "fig = ax.get_figure()\n",
    "fig_name = f\"fig_track_plot_hold_out\"\n",
    "caption = f\"Track plot for model test and simulations with VMM fitted on all data and all data except turning circle\"\n",
    "glue(fig_name, fig, display=False)\n",
    "print(fig_template.format(fig_name=fig_name, caption=caption))\n",
    "       "
   ]
  },
  {
   "cell_type": "markdown",
   "id": "c72da6f4-acdd-4f7c-92f9-3f6f104236e2",
   "metadata": {},
   "source": [
    "```{glue:figure} fig_track_plot_hold_out\n",
    ":figwidth: 800px\n",
    ":name: \"fig_track_plot_hold_out\"\n",
    "\n",
    "Track plot for model test and simulations with VMM fitted on all data and all data except turning circle\n",
    "```"
   ]
  },
  {
   "cell_type": "code",
   "execution_count": null,
   "id": "6c483235-e57a-4bf0-90ef-227aa9d63f7e",
   "metadata": {
    "tags": [
     "remove-cell"
    ]
   },
   "outputs": [],
   "source": [
    "df_turning_results = pd.DataFrame()\n",
    "\n",
    "for name, df_ in dataframes.items():\n",
    "\n",
    "    df_['V'] = np.sqrt(df_['u']**2 + df_['v']**2)\n",
    "    turning_circle = TurningCircle(angle=35, nominal_speed=10, lpp=ship_data['L'], df=df_)\n",
    "    res = pd.Series(turning_circle.evaluate(), name=name)\n",
    "    df_turning_results = df_turning_results.append(res)"
   ]
  },
  {
   "cell_type": "code",
   "execution_count": null,
   "id": "1bee1a9a-2721-4223-8e01-c5c84648d96c",
   "metadata": {
    "tags": [
     "remove-cell"
    ]
   },
   "outputs": [],
   "source": [
    "mask = ((df_turning_results['steady_turning_diameter'].quantile(0.001) < df_turning_results['steady_turning_diameter']) &\n",
    "        (df_turning_results['steady_turning_diameter'].quantile(0.999) > df_turning_results['steady_turning_diameter']))\n",
    "\n",
    "#fig,ax=plt.subplots()\n",
    "\n",
    "df_turning_results.loc[mask].hist(column='steady_turning_diameter', bins=100, ax=ax)\n",
    "grid = sns.displot(df_turning_results.loc[mask], x='steady_turning_diameter', stat=\"density\")\n",
    "ax = grid.fig.axes[0]\n",
    "\n",
    "ys = ax.get_ylim()\n",
    "\n",
    "colors = ['b-','r--','g--']\n",
    "for key in ['model test', 'VMM all', 'VMM circle hold out']:\n",
    "    x = df_turning_results.loc[key, 'steady_turning_diameter']\n",
    "    xs = [x,x]\n",
    "    color = colors.pop(0)\n",
    "    ax.plot(xs, ys, color, label=key);\n",
    "\n",
    "ax.legend();\n",
    "\n",
    "\n",
    "fig = ax.get_figure()\n",
    "fig_name = f\"fig_monte-carlo_hist\"\n",
    "caption = f\"Histogram of predicted steady turning diameter from Monte-Carlo simulations with parameter uncertainty for VMM fitted with turning circle as hold out. Also showing result from model test and VMM fitted on all data\"\n",
    "glue(fig_name, fig, display=False)\n",
    "print(fig_template.format(fig_name=fig_name, caption=caption))"
   ]
  },
  {
   "cell_type": "code",
   "execution_count": null,
   "id": "d8a06b0d-bd45-4747-b736-9d73b27803da",
   "metadata": {
    "tags": [
     "remove-cell"
    ]
   },
   "outputs": [],
   "source": [
    "table = df_turning_results.loc[['model test','VMM all', 'VMM circle hold out']][['advance','transfer','steady_turning_diameter']]\n",
    "\n",
    "formatter={'advance' : \"{:.2f}\", 'transfer' : \"{:.2f}\", 'steady_turning_diameter': \"{:.2f}\"}\n",
    "table_ = table.style.format(formatter=formatter, na_rep='')\n",
    "\n",
    "glue_table(f\"turning_circle_key_charactetistics\", table_)"
   ]
  },
  {
   "cell_type": "markdown",
   "id": "19c5cfb8-3f4a-4f66-aaea-17ae03b8fe18",
   "metadata": {},
   "source": [
    "```{glue:figure} fig_monte-carlo_hist\n",
    ":figwidth: 800px\n",
    ":name: \"fig_monte-carlo_hist\"\n",
    "\n",
    "Histogram of predicted steady turning diameter from Monte-Carlo simulations with parameter uncertainty for VMM fitted with turning circle as hold out. Also showing result from model test and VMM fitted on all data\n",
    "```\n",
    "\n",
    "```{glue:figure} turning_circle_key_charactetistics\n",
    ":name: \"turning_circle_key_charactetistics\"\n",
    "\n",
    "IMO turning circle key charactetistics from model test, VMM fitted on all data and VMM fitten with turning circle as hold out. \n",
    "\n",
    "```"
   ]
  },
  {
   "cell_type": "code",
   "execution_count": null,
   "id": "bf202dee-a2f4-4f57-b4e1-ae904e2e7c5e",
   "metadata": {
    "tags": [
     "remove-cell"
    ]
   },
   "outputs": [],
   "source": [
    "rv = norm(loc=df_turning_results['steady_turning_diameter'].mean(), scale=df_turning_results['steady_turning_diameter'].std())\n",
    "intervalls = []\n",
    "alphas = [0.99, 0.95, 0.75, 0.50]\n",
    "for alpha in alphas:\n",
    "    intervalls.append(rv.interval(alpha=alpha))\n",
    "    \n",
    "df_intervalls = pd.DataFrame(intervalls, columns=['min','max'], index=alphas)\n",
    "df_intervalls.index.name='alpha'\n",
    "\n",
    "glue_table(f\"steady_turning_diameter_intervalls\", df_intervalls)"
   ]
  },
  {
   "cell_type": "markdown",
   "id": "030fe6e5-047b-4dbd-9e58-3823d7637afe",
   "metadata": {
    "tags": []
   },
   "source": [
    "```{glue:figure} steady_turning_diameter_intervalls\n",
    ":name: \"steady_turning_diameter_intervalls\"\n",
    "\n",
    "Confidence intervals for the steady turning diameter with various confidence levels.\n",
    "\n",
    "```"
   ]
  },
  {
   "cell_type": "code",
   "execution_count": null,
   "id": "3503ff5d-20c8-4479-a12d-863bfada706f",
   "metadata": {},
   "outputs": [],
   "source": []
  }
 ],
 "metadata": {
  "kernelspec": {
   "display_name": "wPCC_pipeline",
   "language": "python",
   "name": "python3"
  },
  "language_info": {
   "codemirror_mode": {
    "name": "ipython",
    "version": 3
   },
   "file_extension": ".py",
   "mimetype": "text/x-python",
   "name": "python",
   "nbconvert_exporter": "python",
   "pygments_lexer": "ipython3",
   "version": "3.7.9"
  }
 },
 "nbformat": 4,
 "nbformat_minor": 5
}
