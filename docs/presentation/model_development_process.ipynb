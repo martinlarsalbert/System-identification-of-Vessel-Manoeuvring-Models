{
 "cells": [
  {
   "cell_type": "code",
   "execution_count": null,
   "id": "687673d8-19f6-4797-a1e3-35d5843ba781",
   "metadata": {
    "tags": [
     "remove-cell"
    ]
   },
   "outputs": [],
   "source": [
    "# %load imports.py\n",
    "%load_ext autoreload\n",
    "%autoreload 2\n",
    "%reload_kedro\n",
    "%config Completer.use_jedi = False  ## (To fix autocomplete)\n",
    "%matplotlib inline\n",
    "\n",
    "import warnings\n",
    "warnings.filterwarnings('ignore')\n",
    "\n",
    "import pandas as pd\n",
    "pd.set_option('display.max_rows', 500)\n",
    "pd.set_option('display.max_columns', 500)\n",
    "from src.models.vmm import ModelSimulator\n",
    "import matplotlib.pyplot as plt\n",
    "from vessel_manoeuvring_models.visualization.plot import track_plots, track_plot, plot, captive_plot\n",
    "import kedro\n",
    "import numpy as np\n",
    "import os.path\n",
    "import anyconfig\n",
    "\n",
    "import matplotlib\n",
    "#plt.style.use('paper')\n",
    "#from IPython.display import set_matplotlib_formats\n",
    "#set_matplotlib_formats('pdf')\n",
    "\n",
    "from src.symbols import *\n",
    "\n",
    "# Read configs:\n",
    "conf_path = os.path.join(\"../../conf/base/\")\n",
    "runs_globals_path = os.path.join(\n",
    "    conf_path,\n",
    "    \"runs_globals.yml\",\n",
    ")\n",
    "\n",
    "runs_globals = anyconfig.load(runs_globals_path)\n",
    "model_test_ids = runs_globals[\"model_test_ids\"]\n",
    "\n",
    "join_globals_path = os.path.join(\n",
    "    conf_path,\n",
    "    \"join_globals.yml\",\n",
    ")\n",
    "\n",
    "joins = runs_globals[\"joins\"]\n",
    "join_runs_dict = anyconfig.load(join_globals_path)\n",
    "\n",
    "globals_path = os.path.join(\n",
    "    conf_path,\n",
    "    \"globals.yml\",\n",
    ")\n",
    "global_variables = anyconfig.load(globals_path)\n",
    "\n",
    "\n",
    "\n",
    "vmm_names = global_variables[\"vmms\"]\n",
    "\n",
    "from wPCC_pipeline.pipelines.motion_regression.nodes import predict_force, fit_motions, create_model_from_motion_regression\n",
    "from wPCC_pipeline.pipelines.prediction.nodes import simulate_euler\n",
    "from src.prime_system import PrimeSystem\n",
    "\n",
    "from sklearn.linear_model import LinearRegression\n",
    "from sklearn.model_selection import cross_val_score\n",
    "from sklearn.model_selection import RepeatedKFold\n",
    "from sklearn.feature_selection import SelectKBest\n",
    "from sklearn.feature_selection import f_regression\n",
    "from sklearn.pipeline import Pipeline\n",
    "from src.parameters import df_parameters\n",
    "p = df_parameters['symbol']\n",
    "from src.feature_selection import drop_multicollinearity\n",
    "from src.bias_variance_tradeoff import train_test_split_run\n",
    "from sklearn.metrics import r2_score\n",
    "from wPCC_pipeline.pipelines.motion_regression.nodes import fit_motions, create_model_from_motion_regression\n",
    "from src.models.regression import Regression\n",
    "from myst_nb import glue\n",
    "import src.symbols as s\n",
    "from IPython.display import Latex\n",
    "from src.substitute_dynamic_symbols import run\n",
    "import seaborn as sns\n",
    "from src.feature_selection import feature_imporance, BestFeatures, DropCorrelation\n",
    "from wPCC_pipeline.turning_circle import TurningCircle\n",
    "#from jb_helpers import parameter_to_latex, df_to_myst\n",
    "from wPCC_pipeline.monte_carlo import monte_carlo, parameter_variation\n",
    "from wPCC_pipeline.presentation import set_file_name, snapshot"
   ]
  },
  {
   "cell_type": "code",
   "execution_count": null,
   "id": "04e7f385-9320-4dc0-a520-686dc5c0ede9",
   "metadata": {
    "tags": [
     "remove-cell"
    ]
   },
   "outputs": [],
   "source": [
    "ship=\"wpcc\"\n",
    "#vmm_name = \"vmm_martins_simple\"\n",
    "vmm_name = \"vmm_abkowitz\"\n",
    "vmm = catalog.load(vmm_name)\n",
    "\n",
    "ship_data = catalog.load(f\"{ship}.ship_data\")\n",
    "\n",
    "#regression = catalog.load(f\"{ship}.updated.{vmm_name}.joined.regression\")\n",
    "#regression.diff_eq_Y.exclude_parameters.pop('Ydelta')\n",
    "#regression.diff_eq_Y.exclude_parameters.pop('Ythrustdelta')\n",
    "\n",
    "id = 22772\n",
    "data_lowpass = catalog.load(f\"{ ship }.{ id }.data_lowpass\")\n",
    "\n",
    "data_ekf_1 = catalog.load(f\"{ ship }.initial.{ id }.data_ek_filter\")\n",
    "data_ekf_2 = catalog.load(f\"{ ship }.updated.{ id }.data_ek_filter\")\n",
    "data_rts_2 = catalog.load(f\"{ ship }.updated.{ id }.data_ek_smooth\")"
   ]
  },
  {
   "cell_type": "code",
   "execution_count": null,
   "id": "946bd994-3bd1-4c77-a10e-4edd9f8b74ca",
   "metadata": {},
   "outputs": [],
   "source": [
    "ship_data"
   ]
  },
  {
   "cell_type": "code",
   "execution_count": null,
   "id": "fc4f244e-b4e0-48ac-ab0b-1f8436a128c8",
   "metadata": {},
   "outputs": [],
   "source": [
    "track_plot(data_lowpass, lpp=ship_data['L'], beam=ship_data['B'])"
   ]
  },
  {
   "cell_type": "code",
   "execution_count": null,
   "id": "5f665ed9-fd3c-4a0e-af85-119fbc2c6d43",
   "metadata": {},
   "outputs": [],
   "source": [
    "dataframes = {'Model test (LPF)':data_lowpass,\n",
    "             'EKF 1':data_ekf_1,\n",
    "             'EKF 2':data_ekf_2,\n",
    "             'RTS 2':data_rts_2}\n",
    "\n",
    "plot(dataframes, keys=['u','v','r','u1d','v1d','r1d']);\n",
    "\n"
   ]
  },
  {
   "cell_type": "code",
   "execution_count": null,
   "id": "c49aded0-5762-4201-8f75-ef3e71331b0f",
   "metadata": {},
   "outputs": [],
   "source": []
  }
 ],
 "metadata": {
  "citation-manager": {
   "items": {}
  },
  "kernelspec": {
   "display_name": "wPCC_pipeline",
   "language": "python",
   "name": "python3"
  },
  "language_info": {
   "codemirror_mode": {
    "name": "ipython",
    "version": 3
   },
   "file_extension": ".py",
   "mimetype": "text/x-python",
   "name": "python",
   "nbconvert_exporter": "python",
   "pygments_lexer": "ipython3",
   "version": "3.7.9"
  }
 },
 "nbformat": 4,
 "nbformat_minor": 5
}
