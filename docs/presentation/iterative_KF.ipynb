{
 "cells": [
  {
   "cell_type": "code",
   "execution_count": null,
   "id": "0e487cf2-fdd8-45ba-aa0b-262279a95ec9",
   "metadata": {
    "tags": [
     "remove-cell"
    ]
   },
   "outputs": [],
   "source": [
    "# %load imports.py\n",
    "%load_ext autoreload\n",
    "%autoreload 2\n",
    "%reload_kedro\n",
    "%config Completer.use_jedi = False  ## (To fix autocomplete)\n",
    "%matplotlib inline\n",
    "\n",
    "import pandas as pd\n",
    "pd.set_option('display.max_columns', 500)\n",
    "from src.models.vmm import ModelSimulator\n",
    "import matplotlib.pyplot as plt\n",
    "from src.visualization.plot import track_plots, plot, captive_plot\n",
    "import kedro\n",
    "import numpy as np\n",
    "import os.path\n",
    "import anyconfig\n",
    "\n",
    "import matplotlib\n",
    "#plt.style.use('paper')\n",
    "#from IPython.display import set_matplotlib_formats\n",
    "#set_matplotlib_formats('pdf')\n",
    "\n",
    "from myst_nb import glue\n",
    "from src.symbols import *\n",
    "import src.symbols as symbols\n",
    "from src.system_equations import *\n",
    "\n",
    "from IPython.display import display, Math, Latex, Markdown\n",
    "from sympy.physics.vector.printing import vpprint, vlatex\n",
    "\n",
    "from src.parameters import df_parameters\n",
    "p = df_parameters[\"symbol\"]\n",
    "\n",
    "# Read configs:\n",
    "conf_path = os.path.join(\"../../conf/base/\")\n",
    "runs_globals_path = os.path.join(\n",
    "    conf_path,\n",
    "    \"runs_globals.yml\",\n",
    ")\n",
    "\n",
    "runs_globals = anyconfig.load(runs_globals_path)\n",
    "model_test_ids = runs_globals[\"model_test_ids\"]\n",
    "\n",
    "join_globals_path = os.path.join(\n",
    "    conf_path,\n",
    "    \"join_globals.yml\",\n",
    ")\n",
    "\n",
    "joins = runs_globals[\"joins\"]\n",
    "join_runs_dict = anyconfig.load(join_globals_path)\n",
    "\n",
    "globals_path = os.path.join(\n",
    "    conf_path,\n",
    "    \"globals.yml\",\n",
    ")\n",
    "global_variables = anyconfig.load(globals_path)\n",
    "\n",
    "\n",
    "\n",
    "vmms = global_variables[\"vmms\"]\n",
    "from src.visualization.plot import track_plots, track_plot, plot, plot_parameters\n",
    "#from jb_helpers import df_to_myst, parameter_to_latex\n",
    "from wPCC_pipeline.presentation import set_file_name, snapshot"
   ]
  },
  {
   "cell_type": "code",
   "execution_count": null,
   "id": "0c324c86-52d4-4345-a439-68380058554d",
   "metadata": {},
   "outputs": [],
   "source": [
    "id = 'HSVA_CPMC_KVLCC2_Z_20_10_S'\n",
    "ship = 'kvlcc2_hsva'\n",
    "vmm_name = 'vmm_abkowitz'\n",
    "data = catalog.load(f\"{ship}.initial.{id}.data_ek_smooth\")\n",
    "ek = catalog.load(f\"{ship}.vmm_linear.ek\")\n",
    "ship_data = catalog.load(f\"{ship}.ship_data\")"
   ]
  },
  {
   "cell_type": "code",
   "execution_count": null,
   "id": "cdd484b2-a9ff-4dd3-bedf-bedc6a90381e",
   "metadata": {
    "tags": [
     "remove-cell"
    ]
   },
   "outputs": [],
   "source": [
    "data['U'] = np.sqrt(data['u']**2 + data['v']**2)\n",
    "df_sim = ek.simulate(data=data, input_columns=['delta','U'], solver='Radau')\n",
    "\n",
    "dataframes = {\n",
    "    'Model test' : data,\n",
    "    'Initial guessed model': df_sim,\n",
    "    'Iteration 1': catalog.load(f\"{ship}.initial.{vmm_name}.joined.{id}.data_resimulate\"),\n",
    "    'Iteration 2': catalog.load(f\"{ship}.updated.{vmm_name}.joined.{id}.data_resimulate\"),\n",
    "}\n",
    "\n",
    "styles = {\n",
    "    'Initial guessed model': {'style':'--','lw':1.5},\n",
    "    'Iteration 1': {'style':'-.','lw':1.5},\n",
    "    'Iteration 2': {'style':':','lw':2},\n",
    "    'Model test' : {'style':'-','lw':1.5},\n",
    "}\n",
    "\n",
    "\n",
    "keys = ['u','v','r']\n",
    "error_keys = [f'$\\\\epsilon({key})$' for key in keys]  \n",
    "for key, df_ in dataframes.items():\n",
    "    df_[error_keys]=df_[keys] - data[keys]\n",
    "\n",
    "fig,ax=plt.subplots()\n",
    "track_plots(dataframes, lpp=ship_data['L'], beam=ship_data['B'], time_window=[0,70], N=2, styles=styles, ax=ax);\n",
    "glue(\"iterations\",fig, display=False)\n",
    "ax.set_title('')\n"
   ]
  },
  {
   "cell_type": "code",
   "execution_count": null,
   "id": "17c3b9fe-25dc-470a-9672-61a57b775543",
   "metadata": {},
   "outputs": [],
   "source": [
    "set_file_name('iterative_kf')\n",
    "\n",
    "max_length=np.max([len(key) for key in dataframes.keys()])\n",
    "\n",
    "with plt.xkcd(scale=0.0, randomness=2):\n",
    "    fig,ax=plt.subplots()\n",
    "    fig.set_size_inches(4.0,4.0)\n",
    "        \n",
    "    for name, df_ in dataframes.items():\n",
    "        label = name.ljust(max_length) \n",
    "        track_plot(df=df_, lpp=ship_data['L'], beam=ship_data['B'], time_window=[0,70], N=2, ax=ax, label=label, \n",
    "                   style=styles[name]['style'])\n",
    "        ax.set_title('')  \n",
    "        ax.set_xlim(-40,40)\n",
    "        ax.set_ylim(0,80)\n",
    "        ax.legend(loc='center right', bbox_to_anchor=(1.90, 0.5))\n",
    "        \n",
    "        snapshot()"
   ]
  },
  {
   "cell_type": "code",
   "execution_count": null,
   "id": "870d534a-1829-4589-bcb4-9d893606d086",
   "metadata": {},
   "outputs": [],
   "source": []
  }
 ],
 "metadata": {
  "citation-manager": {
   "items": {}
  },
  "kernelspec": {
   "display_name": "wPCC_pipeline",
   "language": "python",
   "name": "python3"
  },
  "language_info": {
   "codemirror_mode": {
    "name": "ipython",
    "version": 3
   },
   "file_extension": ".py",
   "mimetype": "text/x-python",
   "name": "python",
   "nbconvert_exporter": "python",
   "pygments_lexer": "ipython3",
   "version": "3.7.9"
  }
 },
 "nbformat": 4,
 "nbformat_minor": 5
}
