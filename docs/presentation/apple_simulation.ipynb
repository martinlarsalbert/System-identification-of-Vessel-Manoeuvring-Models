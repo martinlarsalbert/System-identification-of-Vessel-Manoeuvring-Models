{
 "cells": [
  {
   "cell_type": "code",
   "execution_count": null,
   "id": "7fc15474-97f9-4090-9676-a7dda28d6318",
   "metadata": {},
   "outputs": [],
   "source": [
    "%matplotlib inline\n",
    "%load_ext autoreload\n",
    "%autoreload 2\n",
    "%config Completer.use_jedi = False  ## (To fix autocomplete)\n",
    "\n",
    "import numpy as np\n",
    "import pandas as pd\n",
    "import matplotlib.pyplot as plt\n",
    "from apple_simulator import simulate, _simulate, solution_to_df\n",
    "from apple_regression import features_simple, features_drag, features_overfit, fit\n",
    "import statsmodels.api as sm\n",
    "from vessel_manoeuvring_models.extended_kalman_filter import extended_kalman_filter, time_steps_to_df, variance\n",
    "from apple_simulator import step\n",
    "from vessel_manoeuvring_models.substitute_dynamic_symbols import lambdify, run\n",
    "from wPCC_pipeline.presentation import set_file_name, snapshot"
   ]
  },
  {
   "cell_type": "code",
   "execution_count": null,
   "id": "f0e70920-cf05-4bf6-beb7-a4f6d9c8b7f7",
   "metadata": {},
   "outputs": [],
   "source": [
    "from string import ascii_uppercase as alc\n",
    "alc_ = str(alc)\n",
    "\n",
    "def label_reset():\n",
    "    global alc_\n",
    "    alc_ = str(alc)\n",
    "    \n",
    "def label(parameters, letter=None):\n",
    "    \n",
    "    if letter is None:\n",
    "        global alc_\n",
    "        letter = alc_[0]\n",
    "        alc_ = str(alc_[1:])\n",
    "        \n",
    "    return f\"{letter} (\" + \"\".join(f\"{key}: {np.round(value,4)}, \" for key,value in parameters.items() if key!='m') + \")\""
   ]
  },
  {
   "cell_type": "markdown",
   "id": "cddaa0c0-e429-47ed-a3bf-2051ab8f9f90",
   "metadata": {},
   "source": [
    "$$ a = \\frac{F}{m} $$"
   ]
  },
  {
   "cell_type": "markdown",
   "id": "c882c62c-8059-42ff-ba8c-48c561705896",
   "metadata": {},
   "source": [
    "$$ F=-m \\cdot g + C_d \\cdot v^2 + k \\cdot x$$"
   ]
  },
  {
   "cell_type": "markdown",
   "id": "8876eb8e-e572-4d10-8be8-6cab29616bac",
   "metadata": {},
   "source": [
    "$$ a=\\frac{-m \\cdot g}{m} = -g$$"
   ]
  },
  {
   "cell_type": "markdown",
   "id": "ef10d5ff-4f98-42f6-a6f4-a10713af3877",
   "metadata": {},
   "source": [
    "$$v= \\int_{0}^{T} a \\,dt $$\n",
    "$$x= \\int_{0}^{T} v \\,dt $$"
   ]
  },
  {
   "cell_type": "code",
   "execution_count": null,
   "id": "fbedf820-343f-4405-aee2-f6d36aead943",
   "metadata": {},
   "outputs": [],
   "source": [
    "t = np.arange(0, 20, 0.25)\n",
    "#t = np.arange(0, 20, 0.01)\n",
    "\n",
    "parameters: dict = {\n",
    "        \"g\": 9.81,\n",
    "        \"Cd\": 0.001,\n",
    "        \"m\": 1.0,\n",
    "}\n",
    "result = simulate(t=t, parameters=parameters)"
   ]
  },
  {
   "cell_type": "code",
   "execution_count": null,
   "id": "72b4bd3a-5fb9-40d5-9198-024549eedbc4",
   "metadata": {},
   "outputs": [],
   "source": [
    "labels = {\n",
    "    'x':r'$x$ $[m]$',\n",
    "    'v':r'$v$ $[m/s]$',\n",
    "    'a':r'$a$ $[m/s^2]$',\n",
    "}\n",
    "\n",
    "#with plt.xkcd(scale=0.0, randomness=2):\n",
    "fig,axes=plt.subplots(nrows=3)\n",
    "for ax,key in zip(axes, ['x','v','a']):\n",
    "    result.plot(y=key, ax=ax)\n",
    "    ax.get_legend().set_visible(False)\n",
    "    ax.set_ylabel(labels[key], rotation=90)\n",
    "    ax.grid(True)\n",
    "    ax.set_xticks(np.arange(0,np.max(t)+1,1));\n",
    "\n",
    "\n",
    "for ax in axes[0:-1]:\n",
    "    ax.set_xticklabels([])\n",
    "    \n",
    "axes[-1].set_xlabel('Time [s]')\n",
    "plt.tight_layout()\n"
   ]
  },
  {
   "cell_type": "code",
   "execution_count": null,
   "id": "b7f1a86f-f2c2-4d47-b939-0fb37607a496",
   "metadata": {},
   "outputs": [],
   "source": [
    "t_training = 10\n",
    "result_training = result.loc[t<t_training]\n",
    "\n",
    "model1, parameters1 = fit(result=result_training, parameters=parameters, func_features=features_simple)\n",
    "model1.summary()"
   ]
  },
  {
   "cell_type": "code",
   "execution_count": null,
   "id": "18075ef2-267e-4e47-9b67-3866f459782e",
   "metadata": {},
   "outputs": [],
   "source": [
    "result1_pred1 = simulate(t=result_training.index, parameters=parameters1)\n",
    "fig,ax=plt.subplots()\n",
    "result_training.plot(y='x', label='x measured', ax=ax)\n",
    "result1_pred1.plot(y='x', style='--', label='x predicted', ax=ax)"
   ]
  },
  {
   "cell_type": "code",
   "execution_count": null,
   "id": "739a7d3a-e525-42e5-93ce-0f470df925d2",
   "metadata": {},
   "outputs": [],
   "source": [
    "result2_pred1 = simulate(t=result.index, parameters=parameters1)\n",
    "\n",
    "fig,ax=plt.subplots()\n",
    "result.plot(y='x', label='x measured', ax=ax)\n",
    "\n",
    "result2_pred1.plot(y='x', style='--', label='x predicted', ax=ax)"
   ]
  },
  {
   "cell_type": "code",
   "execution_count": null,
   "id": "f9156e43-5158-485a-9128-b87a9fbe84d9",
   "metadata": {},
   "outputs": [],
   "source": [
    "model2, parameters2 = fit(result=result_training, parameters=parameters, func_features=features_drag)\n",
    "model2.summary()"
   ]
  },
  {
   "cell_type": "code",
   "execution_count": null,
   "id": "34b0d28d-cb0e-440e-a999-24268463dba5",
   "metadata": {},
   "outputs": [],
   "source": [
    "model3, parameters3 = fit(result=result_training, parameters=parameters, func_features=features_overfit)\n",
    "model3.summary()"
   ]
  },
  {
   "cell_type": "code",
   "execution_count": null,
   "id": "5f2c2f9c-c550-4420-a89a-39f490265f01",
   "metadata": {},
   "outputs": [],
   "source": [
    "result2_pred2 = simulate(t=result.index, parameters=parameters2)\n",
    "result2_pred3 = simulate(t=result.index, parameters=parameters3)"
   ]
  },
  {
   "cell_type": "code",
   "execution_count": null,
   "id": "063252d9-7389-46d6-81b1-7c41aa23bdc7",
   "metadata": {},
   "outputs": [],
   "source": [
    "set_file_name('perfect_data')\n",
    "\n",
    "\n",
    "with plt.xkcd(scale=0.0, randomness=2):\n",
    "    fig,ax=plt.subplots()\n",
    "    \n",
    "    result.plot(y='x', label='True', ax=ax)\n",
    "        \n",
    "    ax.set_ylabel(r'$x$ $[m]$')\n",
    "    ax.set_ylim(result['x'].min(),result['x'].max())\n",
    "    ax.set_xlabel('time [s]')\n",
    "    ax.legend(loc='upper center', bbox_to_anchor=(0.5, 1.50))\n",
    "    snapshot()\n",
    "    \n",
    "    ax.fill_between(x=[0,t_training],y1=result['x'].min(),y2=result['x'].max(), alpha=0.1, zorder=-10)\n",
    "    ax.annotate('<-Training data', (t_training,result['x'].min()+50))\n",
    "    snapshot()\n",
    "    \n",
    "    label_reset()\n",
    "    result2_pred1.plot(y='x', style='--', label=label(parameters1), ax=ax)\n",
    "    ax.legend(loc='upper center', bbox_to_anchor=(0.5, 1.50))\n",
    "    snapshot()\n",
    "    \n",
    "    result2_pred2.plot(y='x', style='r--', label=label(parameters2), ax=ax)\n",
    "    ax.legend(loc='upper center', bbox_to_anchor=(0.5, 1.50))\n",
    "    snapshot()\n",
    "    \n",
    "    result2_pred3.plot(y='x', style='m:', label=label(parameters3), ax=ax)\n",
    "    ax.legend(loc='upper center', bbox_to_anchor=(0.5, 1.50))\n",
    "    snapshot()"
   ]
  },
  {
   "cell_type": "code",
   "execution_count": null,
   "id": "5c5a8268-f9cb-449a-9792-29471c75959a",
   "metadata": {},
   "outputs": [],
   "source": [
    "result_measure = result.copy()\n",
    "np.random.seed(42)\n",
    "dt = np.mean(np.diff(result_measure.index))\n",
    "sigma_x = 2.0\n",
    "\n",
    "result_measure['epsilon'] = np.random.normal(scale=sigma_x*dt, size=len(result_measure))\n",
    "result_measure['x']+=result_measure['epsilon']\n",
    "result_measure['v']=np.concatenate((np.diff(result_measure['x'])/dt,[0],))\n",
    "result_measure['a']=np.concatenate((np.diff(result_measure['v'])/dt,[0],))\n",
    "\n",
    "result_measure = result_measure.iloc[0:-2].copy()\n",
    "result_measure_training = result_measure.loc[result_measure.index<t_training]"
   ]
  },
  {
   "cell_type": "code",
   "execution_count": null,
   "id": "ee2b9bac-db34-4c17-a045-7db5f2aa6047",
   "metadata": {},
   "outputs": [],
   "source": [
    "fig,ax=plt.subplots()\n",
    "\n",
    "result_measure.plot(y='x', label='True', ax=ax)"
   ]
  },
  {
   "cell_type": "code",
   "execution_count": null,
   "id": "36249efb-ddee-4895-9748-779ea506c00c",
   "metadata": {},
   "outputs": [],
   "source": [
    "set_file_name('measured_states')\n",
    "\n",
    "with plt.xkcd(scale=0.0, randomness=2):\n",
    "    fig,axes=plt.subplots(nrows=3)\n",
    "    for ax,key in zip(axes, ['x','v','a']):\n",
    "        result.plot(y=key, style='m-', label='True', ax=ax)\n",
    "        ax.get_legend().set_visible(False)\n",
    "        ax.set_ylabel(labels[key], rotation=90)\n",
    "        ax.grid(True)\n",
    "        if key!='a':\n",
    "            ax.set_xticklabels([])           \n",
    "        ax.set_ylim(result_measure[key].min(),result_measure[key].max())\n",
    "            \n",
    "    ax.set_xlabel('Time [s]')\n",
    "    axes[0].legend()\n",
    "    snapshot()\n",
    "    \n",
    "    for ax,key in zip(axes, ['x','v','a']):\n",
    "        result_measure.plot(y=key, style='b-', label='Measurement', ax=ax)\n",
    "        ax.get_legend().set_visible(False)\n",
    "        ax.set_ylabel(labels[key], rotation=90)\n",
    "        ax.grid(True)\n",
    "        if key!='a':\n",
    "            ax.set_xticklabels([])\n",
    "        ax.set_ylim(result_measure[key].min(),result_measure[key].max())\n",
    "        \n",
    "    ax.set_xlabel('Time [s]')\n",
    "    axes[0].legend()\n",
    "    snapshot()\n",
    "    \n",
    "    index = result_measure['a'].idxmax()\n",
    "    a_max = result_measure.loc[index]\n",
    "    F_max = a_max['a']*parameters['m']\n",
    "    ax.annotate(f\"{int(np.round(F_max))} N!\", xy=(a_max.name,F_max))\n",
    "    "
   ]
  },
  {
   "cell_type": "code",
   "execution_count": null,
   "id": "cf9cb5e6-2076-488b-835b-1fba76f67b68",
   "metadata": {},
   "outputs": [],
   "source": [
    "model4, parameters4 = fit(result=result_measure_training, parameters=parameters, func_features=features_simple)\n",
    "model5, parameters5 = fit(result=result_measure_training, parameters=parameters, func_features=features_drag)\n",
    "model6, parameters6 = fit(result=result_measure_training, parameters=parameters, func_features=features_overfit)\n",
    "\n",
    "display(model4.summary())\n",
    "display(model5.summary())\n",
    "display(model6.summary())\n"
   ]
  },
  {
   "cell_type": "code",
   "execution_count": null,
   "id": "b6c9a8e9-b75b-4a8b-9346-3d7083e11335",
   "metadata": {},
   "outputs": [],
   "source": [
    "result3_pred4 = simulate(t=result_measure.index, parameters=parameters4)\n",
    "result3_pred5 = simulate(t=result_measure.index, parameters=parameters5)\n",
    "result3_pred6 = simulate(t=result_measure.index, parameters=parameters6)"
   ]
  },
  {
   "cell_type": "code",
   "execution_count": null,
   "id": "bd3938b0-ae86-40c8-81b6-bc9be4856456",
   "metadata": {},
   "outputs": [],
   "source": [
    "with plt.xkcd(scale=0.0, randomness=2):\n",
    "    fig,ax=plt.subplots()\n",
    "    \n",
    "    result_measure.plot(y='x', label='True', ax=ax)   \n",
    "    label_reset()\n",
    "    result3_pred4.plot(y='x', style='--', label=label(parameters4), ax=ax)\n",
    "    result3_pred5.plot(y='x', style='r--', label=label(parameters5), ax=ax)\n",
    "    result3_pred6.plot(y='x', style='k--', label=label(parameters6), ax=ax)\n",
    "    ax.set_ylabel(r'$x$ $[m]$')\n",
    "    ax.set_ylim(result['x'].min(),result['x'].max())\n",
    "    ax.set_xlabel('time [s]')\n",
    "    ax.legend(loc='upper center', bbox_to_anchor=(0.5, 1.50))\n",
    "    ax.fill_between(x=[0,t_training],y1=result['x'].min(),y2=result['x'].max(), alpha=0.1, zorder=-10)\n",
    "    ax.annotate('<-Training data', (t_training,result['x'].min()+50))\n",
    "    fig.savefig('measured_data.png', transparent=True, bbox_inches='tight', dpi=300)"
   ]
  },
  {
   "cell_type": "code",
   "execution_count": null,
   "id": "2a76f9c1-c5b4-4dd6-82b4-d3041507a6a9",
   "metadata": {},
   "outputs": [],
   "source": [
    "def wrapper(parameters):\n",
    "    \n",
    "    def lambda_f(x: np.ndarray, input: pd.Series) -> np.ndarray:\n",
    "        return np.array(step(t=0, x=x, parameters=parameters))\n",
    "    \n",
    "    return lambda_f"
   ]
  },
  {
   "cell_type": "code",
   "execution_count": null,
   "id": "bb86bf30-3d74-4580-b31d-db091225d634",
   "metadata": {
    "tags": []
   },
   "outputs": [],
   "source": [
    "lambda_jacobian = wrapper(parameters=parameters1)"
   ]
  },
  {
   "cell_type": "code",
   "execution_count": null,
   "id": "878816ac-1c0d-4020-b7f9-ef1daf47f622",
   "metadata": {},
   "outputs": [],
   "source": [
    "from sympy import Matrix\n",
    "import sympy as sp"
   ]
  },
  {
   "cell_type": "code",
   "execution_count": null,
   "id": "cb5210b3-7b3d-4f78-89d8-193e15d1f091",
   "metadata": {},
   "outputs": [],
   "source": [
    "x,v,a,h = sp.symbols(\"x v a h\")\n",
    "g,m,Cd= sp.symbols(\"g,m,Cd\")\n",
    "\n",
    "f = Matrix([v, (-g*m+Cd*v**2)/m])\n",
    "lambda_f = lambdify(f)\n",
    "lambda_f"
   ]
  },
  {
   "cell_type": "code",
   "execution_count": null,
   "id": "9a092b5c-a46c-4d79-b933-0efd5e1aebda",
   "metadata": {},
   "outputs": [],
   "source": [
    "f"
   ]
  },
  {
   "cell_type": "code",
   "execution_count": null,
   "id": "bebdaade-c89a-4aa3-a118-111d8c78ff00",
   "metadata": {},
   "outputs": [],
   "source": [
    "\n",
    "\n",
    "jac = sp.eye(2) + Matrix([v, (-g*m+Cd*v**2)/m]).jacobian([x, v]) * h\n",
    "lambda_jacobian = lambdify(jac)\n",
    "jac"
   ]
  },
  {
   "cell_type": "code",
   "execution_count": null,
   "id": "d1bbaf4b-e77d-4966-9ce1-43d3b2c73f77",
   "metadata": {},
   "outputs": [],
   "source": [
    "def wrapper(parameters):\n",
    "    \n",
    "    def function(x: np.ndarray, input: pd.Series) -> np.ndarray:\n",
    "        v = x[1]\n",
    "        return np.array(run(function=lambda_f,inputs=parameters,v=v))\n",
    "    \n",
    "    return function"
   ]
  },
  {
   "cell_type": "code",
   "execution_count": null,
   "id": "65dd0e2b-1374-4a99-947f-223a2bde6f81",
   "metadata": {},
   "outputs": [],
   "source": [
    "def wrapper_jacobian(parameters):\n",
    "    \n",
    "    def lambda_f(x: np.ndarray, input: pd.Series) -> np.ndarray:\n",
    "        v = x[1]\n",
    "        return np.array(run(function=lambda_jacobian,inputs=parameters,v=v, h=dt))\n",
    "    \n",
    "    return lambda_f\n",
    "\n"
   ]
  },
  {
   "cell_type": "code",
   "execution_count": null,
   "id": "dcaed95e-d3bc-428d-b262-53956213ddc7",
   "metadata": {},
   "outputs": [],
   "source": [
    "parameters_guess = parameters1.copy()\n",
    "#parameters_guess = parameters.copy()\n",
    "parameters_guess['Cd'] = 0\n",
    "parameters_guess['k'] = 0\n",
    "\n"
   ]
  },
  {
   "cell_type": "code",
   "execution_count": null,
   "id": "93eaa052-09be-4501-8806-b063e7226945",
   "metadata": {},
   "outputs": [],
   "source": [
    "sigmas = np.array([sigma_x,10.1])\n",
    "P_prd = np.diag(sigmas**2*dt)\n",
    "P_prd = np.diag([0.001,0.001])\n",
    "\n",
    "x0 = np.array([0,0])\n",
    "\n",
    "Qd = np.array([[(15.5)**2*dt]])  # Covariance matrix of the process model\n",
    "Rd = np.array([[(sigma_x)**2*dt]])  # Covariance matrix of the measurement\n",
    "\n",
    "E = np.array([[0, 1]]).T\n",
    "Cd = np.array([[1, 0]])  # Measurement!\n",
    "\n",
    "steps = extended_kalman_filter(P_prd=P_prd, \n",
    "                               lambda_f=wrapper(parameters=parameters_guess), \n",
    "                               lambda_jacobian=wrapper_jacobian(parameters=parameters_guess), \n",
    "                               data=result_measure, \n",
    "                               Qd=Qd, \n",
    "                               Rd=Rd, \n",
    "                               E=E, \n",
    "                               Cd=Cd, \n",
    "                               state_columns=['x','v'], \n",
    "                               measurement_columns=['x'], \n",
    "                               input_columns=[], \n",
    "                               x0=x0)\n",
    "\n",
    "Qd = np.array([[steps[-1]['P_hat'][1,1]]])  # Covariance matrix of the process model\n",
    "\n",
    "steps = extended_kalman_filter(P_prd=steps[-1]['P_hat'], \n",
    "                               lambda_f=wrapper(parameters=parameters_guess), \n",
    "                               lambda_jacobian=wrapper_jacobian(parameters=parameters_guess), \n",
    "                               data=result_measure, \n",
    "                               Qd=Qd, \n",
    "                               Rd=Rd, \n",
    "                               E=E, \n",
    "                               Cd=Cd, \n",
    "                               state_columns=['x','v'], \n",
    "                               measurement_columns=['x'], \n",
    "                               input_columns=[], \n",
    "                               x0=x0)"
   ]
  },
  {
   "cell_type": "code",
   "execution_count": null,
   "id": "8740e831-a245-467b-9d91-f2db184cb436",
   "metadata": {},
   "outputs": [],
   "source": [
    "df_kalman = time_steps_to_df(time_steps=steps, state_columns=['x','v'])\n",
    "df_kalman.rename(columns={'v1d':'a'}, inplace=True)\n",
    "df_kalman_training = df_kalman.loc[df_kalman.index<t_training].copy()"
   ]
  },
  {
   "cell_type": "code",
   "execution_count": null,
   "id": "72b6b397-9cf1-4576-9f4d-1010a0991b48",
   "metadata": {},
   "outputs": [],
   "source": [
    "Ks = np.concatenate([step['K'].T for step in steps])\n",
    "fig,ax=plt.subplots()\n",
    "ax.plot(Ks, label=['x','v'])\n",
    "ax.legend()"
   ]
  },
  {
   "cell_type": "code",
   "execution_count": null,
   "id": "f592c396-6b8f-490d-b553-ee02b40cbaf5",
   "metadata": {},
   "outputs": [],
   "source": [
    "Vs = variance(steps).T\n",
    "\n",
    "fig,ax=plt.subplots()\n",
    "ax.plot(Vs, label=['x','v'])\n",
    "ax.legend()"
   ]
  },
  {
   "cell_type": "code",
   "execution_count": null,
   "id": "2e715f5b-e704-4d2e-aa22-1eb07b895756",
   "metadata": {},
   "outputs": [],
   "source": [
    "result['v']"
   ]
  },
  {
   "cell_type": "code",
   "execution_count": null,
   "id": "257124fa-4b34-4ace-a50e-31a676caae17",
   "metadata": {},
   "outputs": [],
   "source": [
    "df_kalman_steps = pd.DataFrame(index=result_measure.index)\n",
    "df_kalman_steps['x'] = result.iloc[0:-2]['x'].values\n",
    "df_kalman_steps['x_measure'] = result_measure['x']\n",
    "df_kalman_steps['x_hat'] = [step['x_hat'][0,0] for step in steps]\n",
    "df_kalman_steps['x_prd'] = [0] + [step['x_prd'][0,0] for step in steps][0:-1]\n",
    "\n",
    "set_file_name('filtering')\n",
    "size=(-22,-19)\n",
    "\n",
    "with plt.xkcd(scale=0.0, randomness=2):\n",
    "    fig,ax=plt.subplots()\n",
    "    fig.set_size_inches(4.0,4.0)\n",
    "    #df_ = df_kalman_steps.loc[df_kalman_steps.index < 2].diff()\n",
    "    df_ = df_kalman_steps.loc[(df_kalman_steps.index > 10) & (df_kalman_steps.index < 13)].diff()\n",
    "    #ax.grid()\n",
    "    ax.set_xlabel('Time [s]')\n",
    "    ax.set_ylabel(r'$\\Delta x$ $[m]$')\n",
    "    \n",
    "    df_.plot(y='x', label=r'True', style=':', ax=ax)\n",
    "    ax.set_ylim(size)\n",
    "    snapshot()\n",
    "    \n",
    "    df_.plot(y='x_measure', label=r'Measure', style='o--', ax=ax)\n",
    "    ax.set_ylim(size)\n",
    "    snapshot()\n",
    "    \n",
    "    df_.plot(y='x_prd', label=r'Model', style='s--', ax=ax)\n",
    "    ax.set_ylim(size)\n",
    "    snapshot()\n",
    "    \n",
    "    df_.plot(y='x_hat', label=r'Filter', style='-', ax=ax)\n",
    "    ax.set_ylim(size)\n",
    "    snapshot()\n",
    "    \n",
    "    "
   ]
  },
  {
   "cell_type": "code",
   "execution_count": null,
   "id": "a01535fd-4509-42d9-860a-ca05fcd11f85",
   "metadata": {},
   "outputs": [],
   "source": [
    "with plt.xkcd(scale=0.0, randomness=2):\n",
    "    fig,axes=plt.subplots(nrows=3)\n",
    "    for ax,key in zip(axes, ['x','v','a']):\n",
    "        result_measure.plot(y=key, label='Measurement', ax=ax)\n",
    "        df_kalman.plot(y=key, style='-', label='Kalman filter', ax=ax)\n",
    "        ax.get_legend().set_visible(False)\n",
    "        ax.set_ylabel(labels[key], rotation=90)\n",
    "        ax.grid(True)\n",
    "        if key!='a':\n",
    "            ax.set_xticklabels([])\n",
    "    axes[0].legend()\n",
    "    ax.set_xlabel('Time [s]')\n",
    "    fig.savefig('filtered_states.png', transparent=True, bbox_inches='tight', dpi=300)"
   ]
  },
  {
   "cell_type": "code",
   "execution_count": null,
   "id": "c243d718-5610-4b78-8926-ae15a97bb2a0",
   "metadata": {},
   "outputs": [],
   "source": [
    "model7, parameters7 = fit(result=df_kalman_training, parameters=parameters, func_features=features_simple)\n",
    "model8, parameters8 = fit(result=df_kalman_training, parameters=parameters, func_features=features_drag)\n",
    "model9, parameters9 = fit(result=df_kalman_training, parameters=parameters, func_features=features_overfit)\n",
    "\n",
    "result3_pred7 = simulate(t=result_measure.index, parameters=parameters7)\n",
    "result3_pred8= simulate(t=result_measure.index, parameters=parameters8)\n",
    "result3_pred9 = simulate(t=result_measure.index, parameters=parameters9)"
   ]
  },
  {
   "cell_type": "code",
   "execution_count": null,
   "id": "ce92ec00-d468-4e72-b282-0b3db69d8ec5",
   "metadata": {},
   "outputs": [],
   "source": [
    "with plt.xkcd(scale=0.0, randomness=2):\n",
    "    fig,ax=plt.subplots()\n",
    "    result.plot(y='x', label='True', ax=ax)\n",
    "    \n",
    "    label_reset()\n",
    "    result3_pred7.plot(y='x', style='--', label=label(parameters7), ax=ax)\n",
    "    result3_pred8.plot(y='x', style='r--', label=label(parameters8), ax=ax)\n",
    "    result3_pred9.plot(y='x', style='k--', label=label(parameters9), ax=ax)\n",
    "    ax.set_ylabel(r'$x$ $[m]$')\n",
    "    ax.set_ylim(result['x'].min(),result['x'].max())\n",
    "    ax.set_xlabel('time [s]')\n",
    "    ax.legend(loc='upper center', bbox_to_anchor=(0.5, 1.50))\n",
    "    ax.fill_between(x=[0,t_training],y1=result['x'].min(),y2=result['x'].max(), alpha=0.1, zorder=-10)\n",
    "    ax.annotate('<-Training data', (t_training,result['x'].min()+50))\n",
    "    fig.savefig('filtered_data.png', transparent=True, bbox_inches='tight', dpi=300)"
   ]
  },
  {
   "cell_type": "code",
   "execution_count": null,
   "id": "f0c4c00b-a38a-46bd-bd91-c0072606ea86",
   "metadata": {},
   "outputs": [],
   "source": [
    "steps2 = extended_kalman_filter(P_prd=P_prd, \n",
    "                               lambda_f=wrapper(parameters=parameters8), \n",
    "                               lambda_jacobian=wrapper_jacobian(parameters=parameters8), \n",
    "                               data=result_measure, \n",
    "                               Qd=Qd, \n",
    "                               Rd=Rd, \n",
    "                               E=E, \n",
    "                               Cd=Cd, \n",
    "                               state_columns=['x','v'], \n",
    "                               measurement_columns=['x'], \n",
    "                               input_columns=[], \n",
    "                               x0=x0)"
   ]
  },
  {
   "cell_type": "code",
   "execution_count": null,
   "id": "1aabf79a-fe7a-4c04-9429-d466e42f6175",
   "metadata": {},
   "outputs": [],
   "source": [
    "df_kalman2 = time_steps_to_df(time_steps=steps2, state_columns=['x','v'])\n",
    "df_kalman2.rename(columns={'v1d':'a'}, inplace=True)\n",
    "df_kalman2_training = df_kalman2.loc[df_kalman2.index<t_training].copy()"
   ]
  },
  {
   "cell_type": "code",
   "execution_count": null,
   "id": "2cc40c15-035b-4949-9a8f-f1464f3af6f6",
   "metadata": {},
   "outputs": [],
   "source": [
    "model10, parameters10 = fit(result=df_kalman2_training, parameters=parameters, func_features=features_drag)\n",
    "result3_pred10 = simulate(t=result_measure.index, parameters=parameters10)"
   ]
  },
  {
   "cell_type": "code",
   "execution_count": null,
   "id": "ba903797-c16a-4645-91ef-790a81316dfb",
   "metadata": {},
   "outputs": [],
   "source": [
    "Qd = np.array([[(1.0)**2*dt]])  # Covariance matrix of the process model\n",
    "Rd = np.array([[(sigma_x)**2*dt]])  # Covariance matrix of the measurement\n",
    "\n",
    "steps3 = extended_kalman_filter(P_prd=P_prd, \n",
    "                               lambda_f=wrapper(parameters=parameters10), \n",
    "                               lambda_jacobian=wrapper_jacobian(parameters=parameters10), \n",
    "                               data=result_measure, \n",
    "                               Qd=Qd, \n",
    "                               Rd=Rd, \n",
    "                               E=E, \n",
    "                               Cd=Cd, \n",
    "                               state_columns=['x','v'], \n",
    "                               measurement_columns=['x'], \n",
    "                               input_columns=[], \n",
    "                               x0=x0)\n",
    "\n",
    "df_kalman3 = time_steps_to_df(time_steps=steps3, state_columns=['x','v'])\n",
    "df_kalman3.rename(columns={'v1d':'a'}, inplace=True)\n",
    "df_kalman3_training = df_kalman3.loc[df_kalman3.index<t_training].copy()\n",
    "\n",
    "model11, parameters11 = fit(result=df_kalman3_training, parameters=parameters, func_features=features_drag)\n",
    "result3_pred11 = simulate(t=result_measure.index, parameters=parameters11)"
   ]
  },
  {
   "cell_type": "code",
   "execution_count": null,
   "id": "bf3f91cf-88c0-47a9-9965-12f1e3c50701",
   "metadata": {},
   "outputs": [],
   "source": [
    "with plt.xkcd(scale=0.0, randomness=2):\n",
    "    fig,ax=plt.subplots()\n",
    "    result.plot(y='x', label='True', ax=ax)\n",
    "    \n",
    "    label_reset()\n",
    "    ax.set_ylabel(r'$x$ $[m]$')\n",
    "    ax.set_ylim(result['x'].min(),result['x'].max())\n",
    "    ax.set_xlabel('time [s]')\n",
    "    ax.legend(loc='upper center', bbox_to_anchor=(0.5, 1.50))\n",
    "    ax.fill_between(x=[0,t_training],y1=result['x'].min(),y2=result['x'].max(), alpha=0.1, zorder=-10)\n",
    "    ax.annotate('<-Training data', (t_training,result['x'].min()+50))\n",
    "    \n",
    "    result3_pred10.plot(y='x', style='r--', label=label(parameters10, letter='B'), ax=ax)\n",
    "    #result3_pred11.plot(y='x', style='r:', label=label(parameters11, letter='B'), ax=ax)\n",
    "    fig.savefig('refiltered_data.png', transparent=True, bbox_inches='tight', dpi=300)"
   ]
  },
  {
   "cell_type": "code",
   "execution_count": null,
   "id": "43abdbd8-bee8-49b4-9014-793d4741bf3f",
   "metadata": {},
   "outputs": [],
   "source": [
    "df_kalman_steps3[['x','x_hat']]"
   ]
  },
  {
   "cell_type": "code",
   "execution_count": null,
   "id": "4964ffc9-de2e-4fcc-8170-03d97bc1f82b",
   "metadata": {},
   "outputs": [],
   "source": [
    "result_measure"
   ]
  },
  {
   "cell_type": "code",
   "execution_count": null,
   "id": "80e42020-8a0f-4eb7-a2b5-535b2309de6e",
   "metadata": {},
   "outputs": [],
   "source": []
  }
 ],
 "metadata": {
  "citation-manager": {
   "items": {}
  },
  "kernelspec": {
   "display_name": "wPCC_pipeline",
   "language": "python",
   "name": "python3"
  },
  "language_info": {
   "codemirror_mode": {
    "name": "ipython",
    "version": 3
   },
   "file_extension": ".py",
   "mimetype": "text/x-python",
   "name": "python",
   "nbconvert_exporter": "python",
   "pygments_lexer": "ipython3",
   "version": "3.7.9"
  }
 },
 "nbformat": 4,
 "nbformat_minor": 5
}
