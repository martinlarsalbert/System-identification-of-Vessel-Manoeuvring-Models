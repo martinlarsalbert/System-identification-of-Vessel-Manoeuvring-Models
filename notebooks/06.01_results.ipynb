{
 "cells": [
  {
   "cell_type": "markdown",
   "id": "7311b09c-8a49-4b39-8dc9-7323602492a9",
   "metadata": {},
   "source": [
    "# Results"
   ]
  },
  {
   "cell_type": "code",
   "execution_count": null,
   "id": "ef794442-afbf-40a3-a540-4d8e4bd8f2db",
   "metadata": {
    "tags": [
     "remove-cell"
    ]
   },
   "outputs": [],
   "source": [
    "# %load imports.py\n",
    "%load_ext autoreload\n",
    "%autoreload 2\n",
    "%reload_kedro\n",
    "%config Completer.use_jedi = False  ## (To fix autocomplete)\n",
    "\n",
    "import pandas as pd\n",
    "pd.set_option('display.max_rows', 500)\n",
    "pd.set_option('display.max_columns', 500)\n",
    "\n",
    "from vessel_manoeuvring_models.models.vmm import ModelSimulator\n",
    "import matplotlib.pyplot as plt\n",
    "from vessel_manoeuvring_models.visualization.plot import track_plots, plot, captive_plot\n",
    "import kedro\n",
    "import numpy as np\n",
    "import os.path\n",
    "import anyconfig\n",
    "\n",
    "import matplotlib\n",
    "matplotlib.rcParams[\"figure.figsize\"] = (15,4)\n",
    "\n",
    "from myst_nb import glue\n",
    "from vessel_manoeuvring_models.symbols import *\n",
    "import vessel_manoeuvring_models.symbols as symbols\n",
    "from vessel_manoeuvring_models.system_equations import *\n",
    "\n",
    "from IPython.display import display, Math, Latex, Markdown\n",
    "from sympy.physics.vector.printing import vpprint, vlatex\n",
    "\n",
    "from vessel_manoeuvring_models.parameters import df_parameters\n",
    "p = df_parameters[\"symbol\"]\n",
    "\n",
    "# Read configs:\n",
    "conf_path = os.path.join(\"../conf/base/\")\n",
    "runs_globals_path = os.path.join(\n",
    "    conf_path,\n",
    "    \"runs_globals.yml\",\n",
    ")\n",
    "\n",
    "runs_globals = anyconfig.load(runs_globals_path)\n",
    "model_test_ids = runs_globals[\"model_test_ids\"]\n",
    "\n",
    "join_globals_path = os.path.join(\n",
    "    conf_path,\n",
    "    \"join_globals.yml\",\n",
    ")\n",
    "\n",
    "joins = runs_globals[\"joins\"]\n",
    "join_runs_dict = anyconfig.load(join_globals_path)\n",
    "\n",
    "globals_path = os.path.join(\n",
    "    conf_path,\n",
    "    \"globals.yml\",\n",
    ")\n",
    "global_variables = anyconfig.load(globals_path)\n",
    "\n",
    "\n",
    "\n",
    "vmm_names = global_variables[\"vmms\"]\n",
    "\n",
    "ship_data = catalog.load(\"wpcc.ship_data\")"
   ]
  },
  {
   "cell_type": "code",
   "execution_count": null,
   "id": "78f8fc28-ac07-4654-a6ce-a9bade3e7253",
   "metadata": {
    "tags": [
     "remove-cell"
    ]
   },
   "outputs": [],
   "source": [
    "runs_meta_data = catalog.load(\"wpcc.runs_meta_data\")\n",
    "model_test_ids = [int(value) for value in model_test_ids['wpcc']]\n",
    "mask = runs_meta_data.index.isin(model_test_ids)\n",
    "runs_meta_data = runs_meta_data.loc[mask].copy()"
   ]
  },
  {
   "cell_type": "code",
   "execution_count": null,
   "id": "de310c8d-cbbf-4699-be78-8c042125a1be",
   "metadata": {
    "tags": [
     "remove-cell"
    ]
   },
   "outputs": [],
   "source": [
    "runs_meta_data"
   ]
  },
  {
   "cell_type": "code",
   "execution_count": null,
   "id": "ea8aa3da-b289-4d9e-bb48-1a140c0b5fd6",
   "metadata": {},
   "outputs": [],
   "source": [
    "runs_meta_data['comment'].unique()"
   ]
  },
  {
   "cell_type": "code",
   "execution_count": null,
   "id": "b17cced1-6900-4258-8c1f-665deeb3038a",
   "metadata": {
    "tags": [
     "remove-cell"
    ]
   },
   "outputs": [],
   "source": [
    "def mirror(df):\n",
    "    \n",
    "    df['y0']*=-1\n",
    "    df['psi']*=-1\n",
    "    df['v']*=-1\n",
    "    df['r']*=-1\n",
    "    df['v1d']*=-1\n",
    "    df['r1d']*=-1\n",
    "    df['delta']*=-1\n",
    "    \n",
    "    return df\n",
    "    "
   ]
  },
  {
   "cell_type": "code",
   "execution_count": null,
   "id": "1f5a1c7d-fed7-4281-83ea-f080ee4415eb",
   "metadata": {
    "tags": []
   },
   "outputs": [],
   "source": [
    "descriptions = ['ZigZag10/10','ZigZag20/20','Turning circle']\n",
    "run_groups = runs_meta_data.groupby(by='description')\n",
    "\n",
    "dataframes_all = {}\n",
    "\n",
    "for description in descriptions:\n",
    "            \n",
    "    dataframes = dataframes_all[description] = {}\n",
    "    df_ = run_groups.get_group(description)\n",
    "    for id,row in df_.iterrows():\n",
    "                \n",
    "        data_ = catalog.load(f\"wpcc.{ id }.data_ek_smooth\")\n",
    "        \n",
    "        if 'PS' in row['comment']:\n",
    "            data_ = mirror(data_)\n",
    "                \n",
    "        dataframes[id] = data_\n",
    "        \n",
    "        "
   ]
  },
  {
   "cell_type": "code",
   "execution_count": null,
   "id": "59e5d585-f205-4e36-9516-c13513d55903",
   "metadata": {},
   "outputs": [],
   "source": [
    "for description, dataframes in dataframes_all.items():\n",
    "    \n",
    "    track_plots(dataframes, lpp=ship_data['L'], beam=ship_data['B'])\n",
    "    plot(dataframes)"
   ]
  },
  {
   "cell_type": "code",
   "execution_count": null,
   "id": "1210e736-49ca-45dd-90d3-a88888709ebc",
   "metadata": {},
   "outputs": [],
   "source": [
    "descriptions = ['ZigZag10/10','ZigZag20/20','Turning circle']\n",
    "mask = runs_meta_data['description'].isin(descriptions)\n",
    "runs_meta_data = runs_meta_data.loc[mask]\n",
    "mask = runs_meta_data.duplicated(subset='description', keep='last')\n",
    "runs = runs_meta_data.loc[~mask].copy()\n",
    "runs"
   ]
  },
  {
   "cell_type": "code",
   "execution_count": null,
   "id": "0c22db6d-04cf-4d75-8c06-020d97f0ecd6",
   "metadata": {},
   "outputs": [],
   "source": [
    "dataframes_all = {}\n",
    "vmm_name = 'vmm_abkowitz_simple'\n",
    "\n",
    "dataframes_all = {}\n",
    "\n",
    "for id,row in runs.iterrows():\n",
    "    \n",
    "    dataframes = dataframes_all[row['description']] = {}\n",
    "    \n",
    "    data_smooth = catalog.load(f\"{ id }.data_ek_smooth\")\n",
    "    data_sim = catalog.load(f\"{ vmm_name }.motion_regression.joined.{ id }.data_resimulate\")\n",
    "                \n",
    "    dataframes['model test'] = data_smooth\n",
    "    dataframes[vmm_name] = data_sim"
   ]
  },
  {
   "cell_type": "code",
   "execution_count": null,
   "id": "6a693821-b1e9-4293-b6a7-fc2604ff85ba",
   "metadata": {},
   "outputs": [],
   "source": [
    "for description, dataframes in dataframes_all.items():\n",
    "    \n",
    "    track_plots(dataframes, lpp=ship_data['L'], beam=ship_data['B'], plot_boats=False)\n",
    "    plot(dataframes, keys=['psi','u','v','r'])\n"
   ]
  },
  {
   "cell_type": "code",
   "execution_count": null,
   "id": "622647b3-ace3-43c0-95b5-bab0490c3537",
   "metadata": {},
   "outputs": [],
   "source": [
    "%reload_kedro\n",
    "df_ = catalog.load(f\"kvlcc2.{id}.raw_data\")"
   ]
  },
  {
   "cell_type": "code",
   "execution_count": null,
   "id": "68569f3b-769a-4095-afbe-b32dbc952e04",
   "metadata": {},
   "outputs": [],
   "source": []
  }
 ],
 "metadata": {
  "kernelspec": {
   "display_name": "wPCC_pipeline",
   "language": "python",
   "name": "python3"
  },
  "language_info": {
   "codemirror_mode": {
    "name": "ipython",
    "version": 3
   },
   "file_extension": ".py",
   "mimetype": "text/x-python",
   "name": "python",
   "nbconvert_exporter": "python",
   "pygments_lexer": "ipython3",
   "version": "3.7.9"
  }
 },
 "nbformat": 4,
 "nbformat_minor": 5
}
