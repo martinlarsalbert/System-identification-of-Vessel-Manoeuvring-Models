{
 "cells": [
  {
   "cell_type": "markdown",
   "id": "21fadab3-6e5d-49d8-8227-a9f5b1505fc0",
   "metadata": {
    "citation-manager": {
     "citations": {
      "hzn48": [
       {
        "id": "7505983/U2L55C9Q",
        "source": "zotero"
       }
      ]
     }
    },
    "tags": []
   },
   "source": [
    "# Train test split KVLCC2 HSVA\n",
    "<cite id=\"hzn48\"><a href=\"#zotero|7505983/U2L55C9Q\">(Luo et al., 2016)</a></cite>"
   ]
  },
  {
   "cell_type": "code",
   "execution_count": null,
   "id": "2020a162-05bf-4649-961b-a6c00ea48c4a",
   "metadata": {},
   "outputs": [],
   "source": [
    "# %load imports.py\n",
    "%load_ext autoreload\n",
    "%autoreload 2\n",
    "%reload_kedro\n",
    "%config Completer.use_jedi = False  ## (To fix autocomplete)\n",
    "%matplotlib inline\n",
    "\n",
    "import warnings\n",
    "warnings.filterwarnings('ignore')\n",
    "\n",
    "import pandas as pd\n",
    "pd.set_option('display.max_rows', 500)\n",
    "pd.set_option('display.max_columns', 500)\n",
    "from src.models.vmm import ModelSimulator\n",
    "import matplotlib.pyplot as plt\n",
    "from src.visualization.plot import track_plots, plot, captive_plot\n",
    "import kedro\n",
    "import numpy as np\n",
    "import os.path\n",
    "import anyconfig\n",
    "\n",
    "import matplotlib\n",
    "matplotlib.rcParams[\"figure.figsize\"] = (10,10)\n",
    "from src.symbols import *\n",
    "\n",
    "# Read configs:\n",
    "conf_path = os.path.join(\"../conf/base/\")\n",
    "runs_globals_path = os.path.join(\n",
    "    conf_path,\n",
    "    \"runs_globals.yml\",\n",
    ")\n",
    "\n",
    "runs_globals = anyconfig.load(runs_globals_path)\n",
    "model_test_ids = runs_globals[\"model_test_ids\"]\n",
    "\n",
    "join_globals_path = os.path.join(\n",
    "    conf_path,\n",
    "    \"join_globals.yml\",\n",
    ")\n",
    "\n",
    "joins = runs_globals[\"joins\"]\n",
    "join_runs_dict = anyconfig.load(join_globals_path)\n",
    "\n",
    "globals_path = os.path.join(\n",
    "    conf_path,\n",
    "    \"globals.yml\",\n",
    ")\n",
    "global_variables = anyconfig.load(globals_path)\n",
    "\n",
    "\n",
    "\n",
    "vmm_names = global_variables[\"vmms\"]\n",
    "\n",
    "from wPCC_pipeline.pipelines.motion_regression.nodes import predict_force, fit_motions, create_model_from_motion_regression\n",
    "from wPCC_pipeline.pipelines.prediction.nodes import simulate_euler\n",
    "from src.models.vmm import VMM\n",
    "from src.parameters import df_parameters"
   ]
  },
  {
   "cell_type": "code",
   "execution_count": null,
   "id": "1dc9730f-67db-4e4a-ae0d-911ad8c54d0f",
   "metadata": {},
   "outputs": [],
   "source": [
    "ship=\"kvlcc2_hsva\"\n",
    "vmm_name = \"vmm_martins_simple\"\n",
    "#vmm_name = \"vmm_abkowitz\"\n",
    "vmm = catalog.load(vmm_name)\n",
    "\n",
    "ship_data = catalog.load(f\"{ship}.ship_data\")\n",
    "\n",
    "train = \"HSVA_CPMC_KVLCC2_Z_25_05\"\n",
    "df_train = catalog.load(f'{ship}.updated.{train}.data_ek_smooth')\n",
    "\n",
    "test = \"HSVA_CPMC_KVLCC2_Z_35_05\"\n",
    "df_test = catalog.load(f'{ship}.updated.{test}.data_ek_smooth')\n",
    "\n",
    "#delta_start = np.deg2rad(10.5)\n",
    "#\n",
    "#for data in [df_train, df_test]:\n",
    "#    index_start = (data['delta'].diff().abs() > 0).idxmax()\n",
    "#    start = data.loc[0:index_start] \n",
    "#    start['delta'] = delta_start\n",
    "\n",
    "#index_start = (df_train['delta'].diff().abs() > 0).idxmax()\n",
    "#df_train = df_train.loc[index_start:].copy()\n",
    "#df_train.index = df_train.index - df_train.index[0]\n",
    "\n",
    "index_start = (df_test['delta'].diff().abs() > 0).idxmax()\n",
    "df_test = df_test.loc[index_start:].copy()\n",
    "df_test.index = df_test.index - df_test.index[0]\n",
    "\n",
    "\n",
    "added_masses = catalog.load(f\"{ship}.added_masses\")\n",
    "exclude_parameters = catalog.load(f\"params:{ship}.motion_regression.exclude_parameters\")\n"
   ]
  },
  {
   "cell_type": "code",
   "execution_count": null,
   "id": "5e31d2cb-ee93-4cb3-b4d1-c3de5a8a9551",
   "metadata": {},
   "outputs": [],
   "source": [
    "data = df_train\n",
    "data_with_force = predict_force(data=data, added_masses=added_masses, ship_parameters=ship_data, vmm=vmm)\n"
   ]
  },
  {
   "cell_type": "code",
   "execution_count": null,
   "id": "861ae36e-85ad-41e9-b842-3c3fb7e6ef4d",
   "metadata": {},
   "outputs": [],
   "source": [
    "vmm.X_eq"
   ]
  },
  {
   "cell_type": "code",
   "execution_count": null,
   "id": "f023dccf-3704-4fe4-9267-c959b8ddd004",
   "metadata": {},
   "outputs": [],
   "source": [
    "vmm.Y_eq"
   ]
  },
  {
   "cell_type": "code",
   "execution_count": null,
   "id": "58304827-0024-4a36-9bda-f23278056edb",
   "metadata": {},
   "outputs": [],
   "source": [
    "vmm.N_eq"
   ]
  },
  {
   "cell_type": "code",
   "execution_count": null,
   "id": "5612f780-857e-4fb8-99c3-30023fd90bbc",
   "metadata": {},
   "outputs": [],
   "source": [
    "regression, parameters = fit_motions(data=data_with_force, added_masses=added_masses, ship_data=ship_data, vmm=vmm, exclude_parameters=exclude_parameters)"
   ]
  },
  {
   "cell_type": "code",
   "execution_count": null,
   "id": "50ef2f11-0b6d-4580-a311-2d675af61dfc",
   "metadata": {},
   "outputs": [],
   "source": [
    "model = create_model_from_motion_regression(regression=regression)"
   ]
  },
  {
   "cell_type": "code",
   "execution_count": null,
   "id": "79ffbbda-b72b-4156-9033-e7b7e3cf2799",
   "metadata": {},
   "outputs": [],
   "source": [
    "p = df_parameters[\"symbol\"]\n",
    "\n",
    "\n",
    "vmm_extras = []\n",
    "\n",
    "\n",
    "X_eq2=sp.Eq(vmm.X_eq.lhs, vmm.X_eq.rhs+ p.Xuu*u**2)\n",
    "Y_eq2 = vmm.Y_eq.copy()\n",
    "N_eq2 = vmm.N_eq.copy()\n",
    "vmm2 = manoeuvring model(X_eq=X_eq2, Y_eq=Y_eq2, N_eq=N_eq2)\n",
    "vmm_extras.append(vmm2)\n",
    "\n",
    "\n",
    "X_eq2=sp.Eq(vmm.X_eq.lhs, vmm.X_eq.rhs+ p.Xuu*u**2)\n",
    "Y_eq2 = vmm.Y_eq.subs([(p.Yu,0),\n",
    "                       (p.Ythrust,0)])\n",
    "N_eq2 = vmm.N_eq.subs([(p.Nu,0),\n",
    "                      (p.Nthrust,0),\n",
    "                     ])\n",
    "\n",
    "vmm2 = manoeuvring model(X_eq=X_eq2, Y_eq=Y_eq2, N_eq=N_eq2)\n",
    "vmm_extras.append(vmm2)\n",
    "\n",
    "X_eq2=sp.Eq(vmm.X_eq.lhs, vmm.X_eq.rhs+ p.Xuu*u**2)\n",
    "Y_eq2 = sp.Eq(vmm.Y_eq.lhs, vmm.Y_eq.rhs +  p.Yvvdelta*v**2*delta)\n",
    "N_eq2 = sp.Eq(vmm.N_eq.lhs, vmm.N_eq.rhs+ p.Nvvdelta*v**2*delta)\n",
    "\n",
    "vmm2 = manoeuvring model(X_eq=X_eq2, Y_eq=Y_eq2, N_eq=N_eq2)\n",
    "vmm_extras.append(vmm2)\n",
    "\n"
   ]
  },
  {
   "cell_type": "code",
   "execution_count": null,
   "id": "fccbcade-e065-46b1-ae64-d54da5c43e0e",
   "metadata": {},
   "outputs": [],
   "source": [
    "extra_regressions = []\n",
    "extra_models = []\n",
    "\n",
    "for vmm2 in vmm_extras:\n",
    "\n",
    "    regression2, parameters2 = fit_motions(data=data_with_force, added_masses=added_masses, ship_data=ship_data, vmm=vmm2, exclude_parameters=exclude_parameters)\n",
    "    model2 = create_model_from_motion_regression(regression=regression2)\n",
    "    extra_regressions.append(regression2)\n",
    "    extra_models.append(model2)\n",
    "    \n",
    "    "
   ]
  },
  {
   "cell_type": "code",
   "execution_count": null,
   "id": "a37ef798-a2fe-4a92-a932-6aa12beb860a",
   "metadata": {},
   "outputs": [],
   "source": [
    "model2.parameters['Ydelta']*model2.ship_parameters_prime['x_r']"
   ]
  },
  {
   "cell_type": "code",
   "execution_count": null,
   "id": "9d72e296-44a9-42cc-aee2-35f705612eb0",
   "metadata": {},
   "outputs": [],
   "source": [
    "model2.parameters['Ndelta']"
   ]
  },
  {
   "cell_type": "code",
   "execution_count": null,
   "id": "901304a2-66d2-42a4-a07e-668a81e901e6",
   "metadata": {},
   "outputs": [],
   "source": [
    "df_ = df_test.copy()\n",
    "#df_.iloc[0]['r'] = 0\n",
    "#df_.iloc[0]['r'] = -0.03\n",
    "#df_['delta']+=np.deg2rad(1.5)\n",
    "    \n",
    "result = model.simulate(df_=df_)\n",
    "\n",
    "df_result = result.result.copy()\n",
    "\n",
    "\n",
    "df_result['psi_deg'] = np.rad2deg(df_result['psi'])\n",
    "\n",
    "df_test['psi_deg'] = np.rad2deg(df_test['psi'])\n",
    "df_result['delta_deg'] = np.rad2deg(df_result['delta'])\n",
    "\n",
    "df_test['delta_deg'] = np.rad2deg(df_test['delta'])\n",
    "\n",
    "dataframes = {\n",
    "    'Experiment' : df_test,\n",
    "    'Prediction' : df_result,\n",
    "}\n",
    "\n",
    "styles = {\n",
    "    'Experiment' : {'style':'r--'},\n",
    "    'Prediction' : {'style':'k-'},\n",
    "}\n",
    "\n",
    "\n"
   ]
  },
  {
   "cell_type": "code",
   "execution_count": null,
   "id": "af54d8fd-5aac-44c1-bc6b-3a70bba10a86",
   "metadata": {},
   "outputs": [],
   "source": [
    "for i,model_ in enumerate(extra_models):\n",
    "    result2 = model_.simulate(df_=df_)\n",
    "    df_result2 = result2.result.copy()\n",
    "    df_result2['psi_deg'] = np.rad2deg(df_result2['psi'])\n",
    "    df_result2['delta_deg'] = np.rad2deg(df_result2['delta'])\n",
    "    dataframes[f\"{i}\"] = df_result2"
   ]
  },
  {
   "cell_type": "code",
   "execution_count": null,
   "id": "8a0de3cf-b0de-4be1-9782-c13e2996a7dd",
   "metadata": {},
   "outputs": [],
   "source": [
    "vmm_extras[1].Y_eq"
   ]
  },
  {
   "cell_type": "code",
   "execution_count": null,
   "id": "36f35d7a-c0cc-4a04-982c-8fb4c4b7a4bb",
   "metadata": {},
   "outputs": [],
   "source": [
    "vmm_extras[1].N_eq"
   ]
  },
  {
   "cell_type": "code",
   "execution_count": null,
   "id": "343962ad-81a4-40e3-96b1-5914234b6d75",
   "metadata": {},
   "outputs": [],
   "source": [
    "np.rad2deg(df_test['delta'].mean())"
   ]
  },
  {
   "cell_type": "code",
   "execution_count": null,
   "id": "3b0c56c5-e0f3-4f0b-ad5e-d57071c91942",
   "metadata": {},
   "outputs": [],
   "source": [
    "track_plots(dataframes, lpp=ship_data['L'], beam=ship_data['B'],  styles=styles);"
   ]
  },
  {
   "cell_type": "code",
   "execution_count": null,
   "id": "6c9ac758-ed4e-4d7f-a7d9-4d57cf602bba",
   "metadata": {},
   "outputs": [],
   "source": [
    "plot(dataframes=dataframes, keys=['delta_deg','psi_deg','y0','u','v','r'], ncols=1, styles=styles, time_window=[0,2]);\n",
    "plot(dataframes=dataframes, keys=['delta_deg','psi_deg','y0','u','v','r'], ncols=1, styles=styles);"
   ]
  },
  {
   "cell_type": "code",
   "execution_count": null,
   "id": "5ba355ad-7c07-49f0-8168-a2d98f83d2d4",
   "metadata": {},
   "outputs": [],
   "source": [
    "vmm_extras[1].Y_eq"
   ]
  },
  {
   "cell_type": "markdown",
   "id": "1f889f53-6ee0-43ad-b628-98d376175d86",
   "metadata": {},
   "source": [
    "## Monte Carlo"
   ]
  },
  {
   "cell_type": "code",
   "execution_count": null,
   "id": "36f2ea78-930d-4da8-817a-41f630fa3667",
   "metadata": {},
   "outputs": [],
   "source": [
    "from scipy.linalg import block_diag\n",
    "from scipy.stats import norm, multivariate_normal\n",
    "import tqdm\n",
    "import sys\n",
    "from wPCC_pipeline.pipelines.prediction.nodes import simulate_euler"
   ]
  },
  {
   "cell_type": "code",
   "execution_count": null,
   "id": "53431dde-aaae-4d93-80a3-302eb7bc573d",
   "metadata": {},
   "outputs": [],
   "source": [
    "ek = catalog.load(f\"{ship}.{vmm_name}.ek\")"
   ]
  },
  {
   "cell_type": "code",
   "execution_count": null,
   "id": "52c61f50-0f2c-4028-98f3-28bbd86f88ab",
   "metadata": {},
   "outputs": [],
   "source": [
    "def monte_carlo(data_smooth, df_parameter_variation, model, ek):\n",
    "\n",
    "    dataframes = {}\n",
    "    with tqdm.tqdm(total=len(df_parameter_variation), file=sys.stdout) as pbar:\n",
    "        for index, parameters_ in df_parameter_variation.iterrows():\n",
    "            model_ = model.copy()\n",
    "            model_.parameters.update(parameters_)\n",
    "            \n",
    "            df_ = simulate_euler(data=data_smooth, model=model_,ek=ek, solver='Radau') \n",
    "            dataframes[index] = df_\n",
    "        \n",
    "            pbar.update(1)\n",
    "        \n",
    "    return dataframes"
   ]
  },
  {
   "cell_type": "code",
   "execution_count": null,
   "id": "c32b1c4e-1a6d-4aca-af59-59b97affac6c",
   "metadata": {},
   "outputs": [],
   "source": [
    "#regression = regression_abkowitz\n",
    "means = pd.concat([regression.model_X.params,regression.model_Y.params,regression.model_N.params])\n",
    "covs = [regression.model_X.cov_HC0,regression.model_Y.cov_HC0,regression.model_N.cov_HC0]\n",
    "\n",
    "std = regression.model_X.bse.copy()\n",
    "std=std.append(regression.model_Y.bse)\n",
    "std=std.append(regression.model_N.bse)\n",
    "\n",
    "cov = block_diag(*covs)\n",
    "\n",
    "rv = multivariate_normal(mean=means.values, cov=cov, allow_singular=True)\n",
    "np.random.seed(42)\n",
    "N_=20\n",
    "df_parameter_variation = pd.DataFrame(data=rv.rvs(N_), columns=means.index)"
   ]
  },
  {
   "cell_type": "code",
   "execution_count": null,
   "id": "d6d85ab2-ee7c-4324-9aea-0348abf9a1de",
   "metadata": {},
   "outputs": [],
   "source": [
    "dataframes = monte_carlo(df_test, df_parameter_variation, model=model, ek=ek)"
   ]
  },
  {
   "cell_type": "code",
   "execution_count": null,
   "id": "d29848f1-97eb-4568-b243-2ec354d7e932",
   "metadata": {},
   "outputs": [],
   "source": [
    "dataframes['model test'] = df_test\n",
    "#dataframes['manoeuvring model all'] = df_result\n",
    "\n",
    "styles={'model test':{'style':'k-','lw':2},\n",
    "       'manoeuvring model all':{'style':'r-','lw':2},\n",
    "        \n",
    "       }\n",
    "\n",
    "for index, parameters_ in df_parameter_variation.iterrows():\n",
    "    styles[index] = {'style':'b-', \n",
    "                     'alpha':0.1,\n",
    "                     'label':'_Hidden label'}"
   ]
  },
  {
   "cell_type": "code",
   "execution_count": null,
   "id": "8bc041ed-c7a5-4a92-874d-3bac2dd05f4d",
   "metadata": {},
   "outputs": [],
   "source": [
    "fig,ax=plt.subplots()\n",
    "track_plots(dataframes, lpp=ship_data['L'], beam=ship_data['B'], plot_boats=True, flip=True, N=2, styles=styles, ax=ax)"
   ]
  },
  {
   "cell_type": "code",
   "execution_count": null,
   "id": "ae340f5f-7179-440f-9f2f-9dec92e98f5a",
   "metadata": {},
   "outputs": [],
   "source": [
    "plot(dataframes, keys=['delta_deg','psi_deg','y0','u','v','r'], ncols=1, styles=styles);"
   ]
  },
  {
   "cell_type": "code",
   "execution_count": null,
   "id": "429438cb-a776-41bd-bf0c-aecf60c4f1cf",
   "metadata": {},
   "outputs": [],
   "source": [
    "model.parameters"
   ]
  },
  {
   "cell_type": "code",
   "execution_count": null,
   "id": "f3dd05e4-b7c4-45d4-8916-f9eb6770b796",
   "metadata": {},
   "outputs": [],
   "source": [
    "regression.model_Y.summary()"
   ]
  },
  {
   "cell_type": "code",
   "execution_count": null,
   "id": "91287f18-de38-4678-a665-ffba9565c78a",
   "metadata": {},
   "outputs": [],
   "source": [
    "regression.model_Y.pvalues"
   ]
  },
  {
   "cell_type": "code",
   "execution_count": null,
   "id": "2a7301f5-4e15-4ca1-b4da-c1e3d00c367b",
   "metadata": {},
   "outputs": [],
   "source": []
  }
 ],
 "metadata": {
  "citation-manager": {
   "items": {
    "zotero": {
     "7505983/U2L55C9Q": {
      "DOI": "10.1115/1.4032892",
      "URL": "https://asmedigitalcollection.asme.org/offshoremechanics/article/doi/10.1115/1.4032892/376874/Parameter-Identification-of-Ship-Maneuvering-Model",
      "abstract": "Combined with the free-running model tests of KVLCC ship, the system identification (SI) based on support vector machines (SVM) is proposed for the prediction of ship maneuvering motion. The hydrodynamic derivatives in an Abkowitz model are determined by the Lagrangian factors and the support vectors in the SVM regression model. To obtain the optimized structural factors in SVM, particle swarm optimization (PSO) is incorporated into SVM. To diminish the drift of hydrodynamic derivatives after regression, a difference method is adopted to reconstruct the training samples before identification. The validity of the difference method is verified by correlation analysis. Based on the Abkowitz mathematical model, the simulation of ship maneuvering motion is conducted. Comparison between the predicted results and the test results demonstrates the validity of the proposed methods in this paper.",
      "accessed": {
       "date-parts": [
        [
         2020,
         8,
         24
        ]
       ]
      },
      "author": [
       {
        "family": "Luo",
        "given": "Weilin"
       },
       {
        "family": "Guedes Soares",
        "given": "C."
       },
       {
        "family": "Zou",
        "given": "Zaojian"
       }
      ],
      "container-title": "Journal of Offshore Mechanics and Arctic Engineering",
      "id": "7505983/U2L55C9Q",
      "issue": "3",
      "issued": {
       "date-parts": [
        [
         2016,
         6,
         1
        ]
       ]
      },
      "language": "en",
      "page": "031101",
      "system_id": "zotero|7505983/U2L55C9Q",
      "title": "Parameter Identification of Ship Maneuvering Model Based on Support Vector Machines and Particle Swarm Optimization",
      "type": "article-journal",
      "volume": "138"
     }
    }
   }
  },
  "kernelspec": {
   "display_name": "wPCC_pipeline",
   "language": "python",
   "name": "python3"
  },
  "language_info": {
   "codemirror_mode": {
    "name": "ipython",
    "version": 3
   },
   "file_extension": ".py",
   "mimetype": "text/x-python",
   "name": "python",
   "nbconvert_exporter": "python",
   "pygments_lexer": "ipython3",
   "version": "3.7.9"
  }
 },
 "nbformat": 4,
 "nbformat_minor": 5
}
