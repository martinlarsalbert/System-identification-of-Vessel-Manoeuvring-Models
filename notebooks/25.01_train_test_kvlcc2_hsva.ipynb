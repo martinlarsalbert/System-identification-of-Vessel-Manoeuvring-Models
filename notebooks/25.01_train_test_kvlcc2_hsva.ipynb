{
 "cells": [
  {
   "cell_type": "markdown",
   "id": "21fadab3-6e5d-49d8-8227-a9f5b1505fc0",
   "metadata": {
    "citation-manager": {
     "citations": {
      "hzn48": [
       {
        "id": "7505983/U2L55C9Q",
        "source": "zotero"
       }
      ]
     }
    },
    "tags": []
   },
   "source": [
    "# Train test split KVLCC2 HSVA\n",
    "<cite id=\"hzn48\"><a href=\"#zotero|7505983/U2L55C9Q\">(Luo et al., 2016)</a></cite>"
   ]
  },
  {
   "cell_type": "code",
   "execution_count": null,
   "id": "2020a162-05bf-4649-961b-a6c00ea48c4a",
   "metadata": {},
   "outputs": [],
   "source": [
    "# %load imports.py\n",
    "%load_ext autoreload\n",
    "%autoreload 2\n",
    "%reload_kedro\n",
    "%config Completer.use_jedi = False  ## (To fix autocomplete)\n",
    "%matplotlib inline\n",
    "\n",
    "import warnings\n",
    "warnings.filterwarnings('ignore')\n",
    "\n",
    "import pandas as pd\n",
    "pd.set_option('display.max_rows', 500)\n",
    "pd.set_option('display.max_columns', 500)\n",
    "from src.models.vmm import ModelSimulator\n",
    "import matplotlib.pyplot as plt\n",
    "from src.visualization.plot import track_plots, plot, captive_plot\n",
    "import kedro\n",
    "import numpy as np\n",
    "import os.path\n",
    "import anyconfig\n",
    "\n",
    "import matplotlib\n",
    "matplotlib.rcParams[\"figure.figsize\"] = (10,10)\n",
    "from src.symbols import *\n",
    "\n",
    "# Read configs:\n",
    "conf_path = os.path.join(\"../conf/base/\")\n",
    "runs_globals_path = os.path.join(\n",
    "    conf_path,\n",
    "    \"runs_globals.yml\",\n",
    ")\n",
    "\n",
    "runs_globals = anyconfig.load(runs_globals_path)\n",
    "model_test_ids = runs_globals[\"model_test_ids\"]\n",
    "\n",
    "join_globals_path = os.path.join(\n",
    "    conf_path,\n",
    "    \"join_globals.yml\",\n",
    ")\n",
    "\n",
    "joins = runs_globals[\"joins\"]\n",
    "join_runs_dict = anyconfig.load(join_globals_path)\n",
    "\n",
    "globals_path = os.path.join(\n",
    "    conf_path,\n",
    "    \"globals.yml\",\n",
    ")\n",
    "global_variables = anyconfig.load(globals_path)\n",
    "\n",
    "\n",
    "\n",
    "vmm_names = global_variables[\"vmms\"]\n",
    "\n",
    "from wPCC_pipeline.pipelines.motion_regression.nodes import predict_force, fit_motions, create_model_from_motion_regression\n",
    "from wPCC_pipeline.pipelines.prediction.nodes import simulate_euler"
   ]
  },
  {
   "cell_type": "code",
   "execution_count": null,
   "id": "1dc9730f-67db-4e4a-ae0d-911ad8c54d0f",
   "metadata": {},
   "outputs": [],
   "source": [
    "ship=\"kvlcc2_hsva\"\n",
    "vmm_name = \"vmm_martins_simple\"\n",
    "#vmm_name = \"vmm_abkowitz\"\n",
    "vmm = catalog.load(vmm_name)\n",
    "\n",
    "ship_data = catalog.load(f\"{ship}.ship_data\")\n",
    "\n",
    "train = \"HSVA_CPMC_KVLCC2_Z_25_05\"\n",
    "df_train = catalog.load(f'{ship}.updated.{train}.data_ek_smooth')\n",
    "\n",
    "test = \"HSVA_CPMC_KVLCC2_Z_35_05\"\n",
    "df_test = catalog.load(f'{ship}.updated.{test}.data_ek_smooth')\n",
    "\n",
    "#delta_start = np.deg2rad(10.5)\n",
    "#\n",
    "#for data in [df_train, df_test]:\n",
    "#    index_start = (data['delta'].diff().abs() > 0).idxmax()\n",
    "#    start = data.loc[0:index_start] \n",
    "#    start['delta'] = delta_start\n",
    "\n",
    "#index_start = (df_train['delta'].diff().abs() > 0).idxmax()\n",
    "#df_train = df_train.loc[index_start:].copy()\n",
    "#df_train.index = df_train.index - df_train.index[0]\n",
    "\n",
    "index_start = (df_test['delta'].diff().abs() > 0).idxmax()\n",
    "df_test = df_test.loc[index_start:].copy()\n",
    "df_test.index = df_test.index - df_test.index[0]\n",
    "\n",
    "\n",
    "added_masses = catalog.load(f\"{ship}.added_masses\")\n",
    "exclude_parameters = catalog.load(f\"params:{ship}.motion_regression.exclude_parameters\")\n"
   ]
  },
  {
   "cell_type": "code",
   "execution_count": null,
   "id": "5e31d2cb-ee93-4cb3-b4d1-c3de5a8a9551",
   "metadata": {},
   "outputs": [],
   "source": [
    "data = df_train\n",
    "data_with_force = predict_force(data=data, added_masses=added_masses, ship_parameters=ship_data, vmm=vmm)\n"
   ]
  },
  {
   "cell_type": "code",
   "execution_count": null,
   "id": "5612f780-857e-4fb8-99c3-30023fd90bbc",
   "metadata": {},
   "outputs": [],
   "source": [
    "regression, parameters = fit_motions(data=data_with_force, added_masses=added_masses, ship_data=ship_data, vmm=vmm, exclude_parameters=exclude_parameters)"
   ]
  },
  {
   "cell_type": "code",
   "execution_count": null,
   "id": "50ef2f11-0b6d-4580-a311-2d675af61dfc",
   "metadata": {},
   "outputs": [],
   "source": [
    "model = create_model_from_motion_regression(regression=regression)"
   ]
  },
  {
   "cell_type": "code",
   "execution_count": null,
   "id": "901304a2-66d2-42a4-a07e-668a81e901e6",
   "metadata": {},
   "outputs": [],
   "source": [
    "df_ = df_test.copy()\n",
    "df_.iloc[0]['r'] = 0\n",
    "result = model.simulate(df_=df_)\n",
    "df_result = result.result.copy()\n",
    "df_result['psi_deg'] = np.rad2deg(df_result['psi'])\n",
    "df_test['psi_deg'] = np.rad2deg(df_test['psi'])\n",
    "df_result['delta_deg'] = np.rad2deg(df_result['delta'])\n",
    "df_test['delta_deg'] = np.rad2deg(df_test['delta'])\n"
   ]
  },
  {
   "cell_type": "code",
   "execution_count": null,
   "id": "a566fe22-43a9-42f7-b8f5-0b9a4abb2d4d",
   "metadata": {},
   "outputs": [],
   "source": [
    "dataframes = {\n",
    "    'Experiment' : df_test,\n",
    "    'Prediction' : df_result\n",
    "}\n",
    "\n",
    "styles = {\n",
    "    'Experiment' : {'style':'r--'},\n",
    "    'Prediction' : {'style':'b-'},\n",
    "}"
   ]
  },
  {
   "cell_type": "code",
   "execution_count": null,
   "id": "3b0c56c5-e0f3-4f0b-ad5e-d57071c91942",
   "metadata": {},
   "outputs": [],
   "source": [
    "track_plots(dataframes, lpp=ship_data['L'], beam=ship_data['B'],  styles=styles);"
   ]
  },
  {
   "cell_type": "code",
   "execution_count": null,
   "id": "6c9ac758-ed4e-4d7f-a7d9-4d57cf602bba",
   "metadata": {},
   "outputs": [],
   "source": [
    "plot(dataframes=dataframes, keys=['delta_deg','psi_deg','y0','u','v','r'], ncols=1, styles=styles, time_window=[0,2]);\n",
    "plot(dataframes=dataframes, keys=['delta_deg','psi_deg','y0','u','v','r'], ncols=1, styles=styles);"
   ]
  },
  {
   "cell_type": "code",
   "execution_count": null,
   "id": "4ec76126-bcb0-4779-815a-3b24c303868c",
   "metadata": {},
   "outputs": [],
   "source": [
    "parameters"
   ]
  },
  {
   "cell_type": "code",
   "execution_count": null,
   "id": "a91db4bc-389a-43a0-b623-9c05b3eb1c3f",
   "metadata": {},
   "outputs": [],
   "source": []
  },
  {
   "cell_type": "code",
   "execution_count": null,
   "id": "c13c5b77-3102-43f0-9ab7-e311b24f314a",
   "metadata": {},
   "outputs": [],
   "source": []
  }
 ],
 "metadata": {
  "citation-manager": {
   "items": {
    "zotero": {
     "7505983/U2L55C9Q": {
      "DOI": "10.1115/1.4032892",
      "URL": "https://asmedigitalcollection.asme.org/offshoremechanics/article/doi/10.1115/1.4032892/376874/Parameter-Identification-of-Ship-Maneuvering-Model",
      "abstract": "Combined with the free-running model tests of KVLCC ship, the system identification (SI) based on support vector machines (SVM) is proposed for the prediction of ship maneuvering motion. The hydrodynamic derivatives in an Abkowitz model are determined by the Lagrangian factors and the support vectors in the SVM regression model. To obtain the optimized structural factors in SVM, particle swarm optimization (PSO) is incorporated into SVM. To diminish the drift of hydrodynamic derivatives after regression, a difference method is adopted to reconstruct the training samples before identification. The validity of the difference method is verified by correlation analysis. Based on the Abkowitz mathematical model, the simulation of ship maneuvering motion is conducted. Comparison between the predicted results and the test results demonstrates the validity of the proposed methods in this paper.",
      "accessed": {
       "date-parts": [
        [
         2020,
         8,
         24
        ]
       ]
      },
      "author": [
       {
        "family": "Luo",
        "given": "Weilin"
       },
       {
        "family": "Guedes Soares",
        "given": "C."
       },
       {
        "family": "Zou",
        "given": "Zaojian"
       }
      ],
      "container-title": "Journal of Offshore Mechanics and Arctic Engineering",
      "id": "7505983/U2L55C9Q",
      "issue": "3",
      "issued": {
       "date-parts": [
        [
         2016,
         6,
         1
        ]
       ]
      },
      "language": "en",
      "page": "031101",
      "system_id": "zotero|7505983/U2L55C9Q",
      "title": "Parameter Identification of Ship Maneuvering Model Based on Support Vector Machines and Particle Swarm Optimization",
      "type": "article-journal",
      "volume": "138"
     }
    }
   }
  },
  "kernelspec": {
   "display_name": "wPCC_pipeline",
   "language": "python",
   "name": "python3"
  },
  "language_info": {
   "codemirror_mode": {
    "name": "ipython",
    "version": 3
   },
   "file_extension": ".py",
   "mimetype": "text/x-python",
   "name": "python",
   "nbconvert_exporter": "python",
   "pygments_lexer": "ipython3",
   "version": "3.7.9"
  }
 },
 "nbformat": 4,
 "nbformat_minor": 5
}
