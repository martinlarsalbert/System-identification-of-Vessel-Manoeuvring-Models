{
 "cells": [
  {
   "cell_type": "markdown",
   "id": "0a4fd30d-2989-42e5-a09a-7e4283ce66ea",
   "metadata": {},
   "source": [
    "# Central Limit Theorem: Correct model"
   ]
  },
  {
   "cell_type": "code",
   "execution_count": null,
   "id": "855d1c0e-a9fb-4b4e-9fa1-1d5c97f72f26",
   "metadata": {},
   "outputs": [],
   "source": [
    "# %load imports.py\n",
    "%load_ext autoreload\n",
    "%autoreload 2\n",
    "%reload_kedro\n",
    "%config Completer.use_jedi = False  ## (To fix autocomplete)\n",
    "import pandas as pd\n",
    "from vessel_manoeuvring_models.models.vmm import ModelSimulator\n",
    "import matplotlib.pyplot as plt\n",
    "from vessel_manoeuvring_models.visualization.plot import track_plots, plot, captive_plot\n",
    "import kedro\n",
    "import numpy as np\n",
    "import os.path\n",
    "import anyconfig\n",
    "\n",
    "import matplotlib\n",
    "matplotlib.rcParams[\"figure.figsize\"] = (15,4)\n",
    "from vessel_manoeuvring_models.symbols import *\n",
    "\n",
    "# Read configs:\n",
    "conf_path = os.path.join(\"../conf/base/\")\n",
    "runs_globals_path = os.path.join(\n",
    "    conf_path,\n",
    "    \"runs_globals.yml\",\n",
    ")\n",
    "\n",
    "runs_globals = anyconfig.load(runs_globals_path)\n",
    "model_test_ids = runs_globals[\"model_test_ids\"]\n",
    "\n",
    "join_globals_path = os.path.join(\n",
    "    conf_path,\n",
    "    \"join_globals.yml\",\n",
    ")\n",
    "\n",
    "joins = runs_globals[\"joins\"]\n",
    "join_runs_dict = anyconfig.load(join_globals_path)\n",
    "\n",
    "globals_path = os.path.join(\n",
    "    conf_path,\n",
    "    \"globals.yml\",\n",
    ")\n",
    "global_variables = anyconfig.load(globals_path)\n",
    "\n",
    "\n",
    "\n",
    "vmms = global_variables[\"vmms\"]\n",
    "only_joined = global_variables[\n",
    "    \"only_joined\"\n",
    "]  # (regress/predict with only models from joined runs)S"
   ]
  },
  {
   "cell_type": "code",
   "execution_count": null,
   "id": "3d106ccf-6852-454c-8f4c-eadd3428ad59",
   "metadata": {},
   "outputs": [],
   "source": [
    "from scipy.stats import norm\n",
    "from sklearn.model_selection import RepeatedKFold\n",
    "import statsmodels.api as sm\n",
    "import seaborn as sns"
   ]
  },
  {
   "cell_type": "code",
   "execution_count": null,
   "id": "ef539ec0-b7fd-4d08-b3f3-7b015d72f3e2",
   "metadata": {},
   "outputs": [],
   "source": [
    "C_1,C_2, x, y = sp.symbols(\"C_1 C_2 x y\")"
   ]
  },
  {
   "cell_type": "code",
   "execution_count": null,
   "id": "cdd6ca31-13d1-4fff-8e41-74403351e0f3",
   "metadata": {},
   "outputs": [],
   "source": [
    "eq_linear = sp.Eq(y, C_1 + C_2*x)\n",
    "eq_linear"
   ]
  },
  {
   "cell_type": "code",
   "execution_count": null,
   "id": "9636d2b8-9a7f-4105-934c-2e1969a32644",
   "metadata": {},
   "outputs": [],
   "source": [
    "epsilon, z = sp.symbols(\"epsilon z\")\n"
   ]
  },
  {
   "cell_type": "code",
   "execution_count": null,
   "id": "0fa91257-048b-403e-814e-6f563a80de62",
   "metadata": {},
   "outputs": [],
   "source": [
    "eq_linear_measure = sp.Eq(z, y + epsilon)\n",
    "eq_linear_measure"
   ]
  },
  {
   "cell_type": "code",
   "execution_count": null,
   "id": "aec9fc8a-9a44-4909-a704-bcbac91ca87a",
   "metadata": {},
   "outputs": [],
   "source": [
    "solution = sp.solve(eq_linear, y, dict=True)[0][y]\n",
    "lambda_y = sp.lambdify(list(solution.free_symbols), solution)\n",
    "lambda_y"
   ]
  },
  {
   "cell_type": "code",
   "execution_count": null,
   "id": "ed4f5961-cefb-493f-afe1-edad071ac6ea",
   "metadata": {},
   "outputs": [],
   "source": [
    "solution = sp.solve((eq_linear_measure, eq_linear), z, y)[z]\n",
    "lambda_z = sp.lambdify(list(solution.free_symbols), solution)\n",
    "lambda_z"
   ]
  },
  {
   "cell_type": "code",
   "execution_count": null,
   "id": "2bb771bb-c686-4354-acf9-376effb36576",
   "metadata": {},
   "outputs": [],
   "source": [
    "scale = 2\n",
    "epsilon_ = norm(loc=0, scale=scale)\n",
    "C_1_ = 1\n",
    "C_2_ = 1\n",
    "\n",
    "N = 200\n",
    "data = pd.DataFrame()\n",
    "data['x'] = np.linspace(0,5,N)\n",
    "np.random.seed(42)\n",
    "data['epsilon'] = epsilon_.rvs(size=N)\n",
    "data['y'] = lambda_y(C_1=C_1_, C_2=C_2_, x=data['x'])\n",
    "data['z'] = lambda_z(C_1=C_1_, C_2=C_2_, epsilon=data['epsilon'], x=data['x'])\n"
   ]
  },
  {
   "cell_type": "code",
   "execution_count": null,
   "id": "d7c0ae92-a85a-40f7-a33d-497c1922c173",
   "metadata": {},
   "outputs": [],
   "source": [
    "fig,ax=plt.subplots()\n",
    "data.plot(x='x', y='y', style='--', ax=ax);\n",
    "data.plot(x='x', y='z', style='.', ax=ax);"
   ]
  },
  {
   "cell_type": "code",
   "execution_count": null,
   "id": "80776f79-d6c4-4abb-b6c5-cf857bbda0d2",
   "metadata": {},
   "outputs": [],
   "source": [
    "X = pd.DataFrame(index=data.index)\n",
    "X['C_1'] = 1\n",
    "X['C_2'] = data['x']\n",
    "\n",
    "model = sm.OLS(data['z'], X, hasconst=True)\n",
    "result = model.fit()\n",
    "\n",
    "result.summary()"
   ]
  },
  {
   "cell_type": "code",
   "execution_count": null,
   "id": "a360df6f-bea0-411b-aea1-5e00ca441a73",
   "metadata": {},
   "outputs": [],
   "source": [
    "fig,ax=plt.subplots()\n",
    "data.plot(x='x', y='y', style='--', ax=ax);\n",
    "data.plot(x='x', y='z', style='.', ax=ax);\n",
    "\n",
    "ax.plot(data['x'],result.predict(X),':', label='prediction')\n",
    "ax.legend()"
   ]
  },
  {
   "cell_type": "code",
   "execution_count": null,
   "id": "edf299d4-a4ae-445a-b8f6-fafbd7282e01",
   "metadata": {},
   "outputs": [],
   "source": [
    "errors = data['z'] - result.predict(X)\n",
    "errors.hist(bins=30)"
   ]
  },
  {
   "cell_type": "code",
   "execution_count": null,
   "id": "0bba8650-b44d-44cf-9d37-cde3500caff8",
   "metadata": {},
   "outputs": [],
   "source": [
    "random_state = 42\n",
    "rkf = RepeatedKFold(n_splits=2, n_repeats=100, random_state=random_state)\n",
    "\n",
    "df_parameters = pd.DataFrame()\n",
    "\n",
    "for train, test in rkf.split(X):\n",
    "    \n",
    "    X_train = X.iloc[train]\n",
    "    y_train = data['z'].iloc[train]\n",
    "    \n",
    "    model_ = sm.OLS(y_train, X_train, hasconst=True)\n",
    "    result_ = model_.fit()\n",
    "    df_parameters = df_parameters.append(result_.params, ignore_index=True)"
   ]
  },
  {
   "cell_type": "code",
   "execution_count": null,
   "id": "acfe0a47-e8c0-4d79-a56e-998dd93498fe",
   "metadata": {},
   "outputs": [],
   "source": [
    "df_parameters.mean()"
   ]
  },
  {
   "cell_type": "code",
   "execution_count": null,
   "id": "52066173-29c0-4acc-bba0-2ba5b6332c0a",
   "metadata": {},
   "outputs": [],
   "source": [
    "df_parameters.std()"
   ]
  },
  {
   "cell_type": "code",
   "execution_count": null,
   "id": "45a33afd-c807-4282-a283-8f17c61adfaa",
   "metadata": {},
   "outputs": [],
   "source": [
    "keys = ['C_1','C_2']\n",
    "for key in keys:\n",
    "    grid = sns.displot(df_parameters, x=key, kind=\"kde\")\n",
    "    \n",
    "    rv = norm(loc=df_parameters[key].mean(), scale=df_parameters[key].std())\n",
    "    ax = grid.ax\n",
    "    x = np.linspace(data['x'].min(),data['x'].max(),500)\n",
    "    ax.plot(x, rv.pdf(x), 'r-', label='std')\n",
    "    ax.legend()\n",
    "    \n",
    "    rv2 = norm(loc=result.params[key], scale=result.bse[key])\n",
    "    ax = grid.ax\n",
    "    x = np.linspace(data['x'].min(),data['x'].max(),500)\n",
    "    ax.plot(x, rv2.pdf(x), 'r-', label='bse')\n",
    "    ax.legend()"
   ]
  },
  {
   "cell_type": "code",
   "execution_count": null,
   "id": "6a1b590f-c261-46b4-9782-f52e47cb6c43",
   "metadata": {},
   "outputs": [],
   "source": []
  },
  {
   "cell_type": "code",
   "execution_count": null,
   "id": "deea64d6-29d3-4303-92cc-d60f13b31312",
   "metadata": {},
   "outputs": [],
   "source": []
  },
  {
   "cell_type": "code",
   "execution_count": null,
   "id": "41c30734-bd0a-42c7-a24a-0eff038348a5",
   "metadata": {},
   "outputs": [],
   "source": []
  }
 ],
 "metadata": {
  "kernelspec": {
   "display_name": "wPCC_pipeline",
   "language": "python",
   "name": "python3"
  },
  "language_info": {
   "codemirror_mode": {
    "name": "ipython",
    "version": 3
   },
   "file_extension": ".py",
   "mimetype": "text/x-python",
   "name": "python",
   "nbconvert_exporter": "python",
   "pygments_lexer": "ipython3",
   "version": "3.7.9"
  }
 },
 "nbformat": 4,
 "nbformat_minor": 5
}
