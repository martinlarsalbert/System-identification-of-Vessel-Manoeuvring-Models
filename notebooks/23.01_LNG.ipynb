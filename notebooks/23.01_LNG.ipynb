{
 "cells": [
  {
   "cell_type": "markdown",
   "id": "1f8e71dd-1d68-43a1-8d3a-63317adcc001",
   "metadata": {},
   "source": [
    "# LNG"
   ]
  },
  {
   "cell_type": "code",
   "execution_count": null,
   "id": "99320a1f-b67e-4e1e-9b56-7f93e84dc6e5",
   "metadata": {},
   "outputs": [],
   "source": [
    "# %load imports.py\n",
    "%load_ext autoreload\n",
    "%autoreload 2\n",
    "%config Completer.use_jedi = False  ## (To fix autocomplete)\n",
    "\n",
    "import pandas as pd\n",
    "from vessel_manoeuvring_models.models.vmm import ModelSimulator\n",
    "import matplotlib.pyplot as plt\n",
    "import matplotlib\n",
    "#plt.style.use('presentation')\n",
    "\n",
    "from vessel_manoeuvring_models.visualization.plot import track_plots, plot, captive_plot\n",
    "import kedro\n",
    "import numpy as np\n",
    "import os.path\n",
    "import anyconfig\n",
    "\n",
    "\n",
    "from myst_nb import glue\n",
    "from vessel_manoeuvring_models.symbols import *\n",
    "import vessel_manoeuvring_models.symbols as symbols\n",
    "from vessel_manoeuvring_models.system_equations import *\n",
    "\n",
    "from IPython.display import display, Math, Latex, Markdown\n",
    "from sympy.physics.vector.printing import vpprint, vlatex\n",
    "\n",
    "from vessel_manoeuvring_models.models.regression import MotionRegression, Regression\n",
    "\n",
    "from vessel_manoeuvring_models.parameters import df_parameters\n",
    "from vessel_manoeuvring_models.substitute_dynamic_symbols import run\n",
    "from vessel_manoeuvring_models.models.diff_eq_to_matrix import DiffEqToMatrix\n",
    "p = df_parameters[\"symbol\"]\n",
    "import statsmodels.api as sm\n",
    "\n",
    "from vessel_manoeuvring_models.models.force_from_motion import predict_force\n",
    "\n",
    "# Read configs:\n",
    "conf_path = os.path.join(\"../conf/base/\")\n",
    "runs_globals_path = os.path.join(\n",
    "    conf_path,\n",
    "    \"runs_globals.yml\",\n",
    ")\n",
    "\n",
    "runs_globals = anyconfig.load(runs_globals_path)\n",
    "model_test_ids = runs_globals[\"model_test_ids\"]\n",
    "\n",
    "join_globals_path = os.path.join(\n",
    "    conf_path,\n",
    "    \"join_globals.yml\",\n",
    ")\n",
    "\n",
    "joins = runs_globals[\"joins\"]\n",
    "join_runs_dict = anyconfig.load(join_globals_path)\n",
    "\n",
    "globals_path = os.path.join(\n",
    "    conf_path,\n",
    "    \"globals.yml\",\n",
    ")\n",
    "global_variables = anyconfig.load(globals_path)\n",
    "from vessel_manoeuvring_models.prime_system import PrimeSystem\n",
    "from wPCC_pipeline.pipelines.kvlcc2.nodes import calculate_thrust\n",
    "\n",
    "from wPCC_pipeline.pipelines.filter_data_extended_kalman.nodes import initial_state, extended_kalman_filter, extended_kalman_smoother, guess_covariance_matrixes\n",
    "from wPCC_pipeline.pipelines.prediction.nodes import simulate_euler\n"
   ]
  },
  {
   "cell_type": "code",
   "execution_count": null,
   "id": "86a34fdd-31d0-4360-8709-2d29990edce9",
   "metadata": {},
   "outputs": [],
   "source": [
    "%reload_kedro\n",
    "\n",
    "ship='LNG'\n",
    "id = \"17902\"\n",
    "vmm_name = \"vmm_martin\"\n",
    "\n",
    "dataframes = {\n",
    "\n",
    "\"raw_data\" : catalog.load(f\"{ship}.{id}.data\"),   \n",
    "\"smooth2\" : catalog.load(f\"{ship}.updated.{id}.data_ek_smooth\"),   \n",
    "    \n",
    "#\"simulation\" : catalog.load(f\"{ship}.updated.{vmm_name}.joined.{id}.data_resimulate\"),   \n",
    "\n",
    "}\n",
    "dataframes['raw_data']['psi_deg'] = np.rad2deg(dataframes['raw_data']['psi'])\n",
    "\n",
    "ship_data = catalog.load(f\"{ship}.ship_data\")\n",
    "model = catalog.load(f\"{ship}.updated.{vmm_name}.joined.model\")\n",
    "model.parameters.Xvr=0\n",
    "model.parameters.Nu=0\n",
    "#model.parameters.Nrdeltadelta = 0\n",
    "\n",
    "ek = catalog.load(f\"{ship}.{vmm_name}.ek\")\n",
    "\n"
   ]
  },
  {
   "cell_type": "code",
   "execution_count": null,
   "id": "9fc0bbb1-7184-4b14-a78c-1561f779f164",
   "metadata": {},
   "outputs": [],
   "source": [
    "model.parameters"
   ]
  },
  {
   "cell_type": "code",
   "execution_count": null,
   "id": "d4223dd7-9e80-401d-a2cc-aefdd89470af",
   "metadata": {},
   "outputs": [],
   "source": [
    "df_sim = simulate_euler(data=dataframes['smooth2'], model=model, ek=ek, solver='euler')\n",
    "dataframes['simulation2'] = df_sim"
   ]
  },
  {
   "cell_type": "code",
   "execution_count": null,
   "id": "33e482c6-51ac-46be-b37c-94500c62c9ff",
   "metadata": {},
   "outputs": [],
   "source": [
    "track_plots(dataframes=dataframes, lpp=ship_data['L'], beam=ship_data['B'], time_window=[0,20])\n",
    "#track_plots(dataframes=dataframes, lpp=ship_data['L'], beam=ship_data['B'])"
   ]
  },
  {
   "cell_type": "code",
   "execution_count": null,
   "id": "dac24afd-2f88-47d3-8292-729b55deac63",
   "metadata": {},
   "outputs": [],
   "source": [
    "plot(dataframes=dataframes, keys=['u','v','r','delta','psi_deg'], time_window=[0,20]);\n",
    "#plot(dataframes=dataframes, keys=['u','v','r','delta','psi_deg']);"
   ]
  },
  {
   "cell_type": "code",
   "execution_count": null,
   "id": "0537261f-ef2e-43f4-af82-b6d67e252287",
   "metadata": {},
   "outputs": [],
   "source": [
    "model.parameters"
   ]
  },
  {
   "cell_type": "code",
   "execution_count": null,
   "id": "125a5d9a-5c42-472f-be92-d4640af30931",
   "metadata": {},
   "outputs": [],
   "source": [
    "np.rad2deg(1.492609)"
   ]
  },
  {
   "cell_type": "code",
   "execution_count": null,
   "id": "e2fb7d7b-9dde-4c64-8a2f-e9da2b05f5ce",
   "metadata": {},
   "outputs": [],
   "source": [
    "dataframes['simulation'].loc[16.50:]"
   ]
  },
  {
   "cell_type": "code",
   "execution_count": null,
   "id": "df310e4e-672e-4518-af93-f2e111913eb3",
   "metadata": {},
   "outputs": [],
   "source": []
  }
 ],
 "metadata": {
  "kernelspec": {
   "display_name": "wPCC_pipeline",
   "language": "python",
   "name": "python3"
  },
  "language_info": {
   "codemirror_mode": {
    "name": "ipython",
    "version": 3
   },
   "file_extension": ".py",
   "mimetype": "text/x-python",
   "name": "python",
   "nbconvert_exporter": "python",
   "pygments_lexer": "ipython3",
   "version": "3.7.9"
  }
 },
 "nbformat": 4,
 "nbformat_minor": 5
}
