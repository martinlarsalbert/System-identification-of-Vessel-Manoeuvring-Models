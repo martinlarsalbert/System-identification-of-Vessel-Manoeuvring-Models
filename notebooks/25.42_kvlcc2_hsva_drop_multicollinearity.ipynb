{
 "cells": [
  {
   "cell_type": "markdown",
   "id": "21fadab3-6e5d-49d8-8227-a9f5b1505fc0",
   "metadata": {
    "tags": []
   },
   "source": [
    "# Train test split KVLCC2 HSVA feature importance"
   ]
  },
  {
   "cell_type": "code",
   "execution_count": null,
   "id": "2020a162-05bf-4649-961b-a6c00ea48c4a",
   "metadata": {},
   "outputs": [],
   "source": [
    "# %load imports.py\n",
    "%load_ext autoreload\n",
    "%autoreload 2\n",
    "%reload_kedro\n",
    "%config Completer.use_jedi = False  ## (To fix autocomplete)\n",
    "%matplotlib inline\n",
    "\n",
    "import warnings\n",
    "warnings.filterwarnings('ignore')\n",
    "\n",
    "import pandas as pd\n",
    "pd.set_option('display.max_rows', 500)\n",
    "pd.set_option('display.max_columns', 500)\n",
    "from src.models.vmm import ModelSimulator\n",
    "import matplotlib.pyplot as plt\n",
    "from src.visualization.plot import track_plots, plot, captive_plot\n",
    "import kedro\n",
    "import numpy as np\n",
    "import os.path\n",
    "import anyconfig\n",
    "\n",
    "import matplotlib\n",
    "matplotlib.rcParams[\"figure.figsize\"] = (10,7)\n",
    "from src.symbols import *\n",
    "\n",
    "# Read configs:\n",
    "conf_path = os.path.join(\"../conf/base/\")\n",
    "runs_globals_path = os.path.join(\n",
    "    conf_path,\n",
    "    \"runs_globals.yml\",\n",
    ")\n",
    "\n",
    "runs_globals = anyconfig.load(runs_globals_path)\n",
    "model_test_ids = runs_globals[\"model_test_ids\"]\n",
    "\n",
    "join_globals_path = os.path.join(\n",
    "    conf_path,\n",
    "    \"join_globals.yml\",\n",
    ")\n",
    "\n",
    "joins = runs_globals[\"joins\"]\n",
    "join_runs_dict = anyconfig.load(join_globals_path)\n",
    "\n",
    "globals_path = os.path.join(\n",
    "    conf_path,\n",
    "    \"globals.yml\",\n",
    ")\n",
    "global_variables = anyconfig.load(globals_path)\n",
    "\n",
    "\n",
    "\n",
    "vmm_names = global_variables[\"vmms\"]\n",
    "\n",
    "from wPCC_pipeline.pipelines.motion_regression.nodes import predict_force, fit_motions, create_model_from_motion_regression\n",
    "from wPCC_pipeline.pipelines.prediction.nodes import simulate_euler\n",
    "from src.prime_system import PrimeSystem\n",
    "\n",
    "from sklearn.linear_model import LinearRegression\n",
    "from sklearn.model_selection import cross_val_score\n",
    "from sklearn.model_selection import RepeatedKFold\n",
    "from sklearn.feature_selection import SelectKBest\n",
    "from sklearn.feature_selection import f_regression\n",
    "from sklearn.pipeline import Pipeline\n",
    "from src.parameters import df_parameters\n",
    "p = df_parameters['symbol']\n",
    "from src.feature_selection import drop_multicollinearity"
   ]
  },
  {
   "cell_type": "code",
   "execution_count": null,
   "id": "1dc9730f-67db-4e4a-ae0d-911ad8c54d0f",
   "metadata": {},
   "outputs": [],
   "source": [
    "ship=\"kvlcc2_hsva\"\n",
    "#vmm_name = \"vmm_martins_simple\"\n",
    "vmm_name = \"vmm_abkowitz\"\n",
    "vmm = catalog.load(vmm_name)\n",
    "\n",
    "ship_data = catalog.load(f\"{ship}.ship_data\")\n",
    "\n",
    "regression = catalog.load(f\"{ship}.updated.{vmm_name}.joined.regression\")\n",
    "regression.diff_eq_Y.exclude_parameters.pop('Ydelta')\n",
    "regression.diff_eq_Y.exclude_parameters.pop('Ythrustdelta')\n",
    "\n",
    "\n",
    "data = catalog.load(f\"{ship}.updated.joined.data_ek_smooth\")\n",
    "\n",
    "added_masses = catalog.load(f\"{ship}.added_masses\")\n",
    "exclude_parameters = catalog.load(f\"params:{ship}.motion_regression.exclude_parameters\")\n",
    "data_with_force = predict_force(data=data, added_masses=added_masses, ship_parameters=ship_data, vmm=vmm)"
   ]
  },
  {
   "cell_type": "code",
   "execution_count": null,
   "id": "16c07a2e-5de1-48b8-b5ad-4591a6dc24bc",
   "metadata": {},
   "outputs": [],
   "source": [
    "from src.bias_variance_tradeoff import train_test_split_exteme, train_test_split_run\n",
    "from sklearn.metrics import r2_score\n",
    "from sklearn.preprocessing import MinMaxScaler, StandardScaler"
   ]
  },
  {
   "cell_type": "code",
   "execution_count": null,
   "id": "2738d7e9-377f-4a73-a946-29ad5d89bb6a",
   "metadata": {},
   "outputs": [],
   "source": [
    "ids = list(data_with_force['id'].unique())\n",
    "ids_train = ids.copy()\n",
    "id_test = 'HSVA_CPMC_KVLCC2_Z_35_05'\n",
    "ids_train.remove(id_test)\n",
    "mask = data_with_force['id'].isin(ids_train)\n",
    "data_train = data_with_force.loc[mask].copy()"
   ]
  },
  {
   "cell_type": "code",
   "execution_count": null,
   "id": "5ae181a3-66d4-41e4-82d6-4882067f8f84",
   "metadata": {},
   "outputs": [],
   "source": [
    "ps = PrimeSystem(**ship_data)\n",
    "#data['U'] = np.sqrt(data['u']**2 + data['v']**2)\n",
    "data_prime = ps.prime(data_train, U=data_with_force['U'])"
   ]
  },
  {
   "cell_type": "code",
   "execution_count": null,
   "id": "5b3f7989-9f75-4bcf-893e-11573db267c0",
   "metadata": {},
   "outputs": [],
   "source": [
    "Xs = {}\n",
    "ys = {}\n",
    "\n",
    "initial_removes = ['Xuuu','Xuvv']\n",
    "\n",
    "Xs['X'], ys['X'] = regression.diff_eq_X.calculate_features_and_label(data=data_prime, y=data_prime['fx'])\n",
    "Xs['X'].drop(columns=initial_removes, inplace=True)\n",
    "\n",
    "Xs['Y'], ys['Y'] = regression.diff_eq_Y.calculate_features_and_label(data=data_prime, y=data_prime['fy'])\n",
    "Xs['N'], ys['N'] = regression.diff_eq_N.calculate_features_and_label(data=data_prime, y=data_prime['mz'])\n",
    "\n",
    "dofs = list(Xs.keys())"
   ]
  },
  {
   "cell_type": "code",
   "execution_count": null,
   "id": "a5f76c97-e152-4498-9a74-96fef904c733",
   "metadata": {},
   "outputs": [],
   "source": [
    "import seaborn as sns\n",
    "corr = Xs['Y'].corr()\n",
    "corr = np.tril(corr)\n",
    "corr = pd.DataFrame(corr, index=Xs['Y'].columns, columns=Xs['Y'].columns)\n",
    "\n",
    "fig,ax=plt.subplots()\n",
    "grid = sns.heatmap(corr, cmap='gray_r')"
   ]
  },
  {
   "cell_type": "code",
   "execution_count": null,
   "id": "2f7fbce5-75c4-473c-96fe-c0105687b4a6",
   "metadata": {},
   "outputs": [],
   "source": [
    "corr = Xs['Y'].corr().abs()\n",
    "corr_ = np.tril(corr, k=-1)\n",
    "corr_ = pd.DataFrame(corr_, index=Xs['Y'].columns, columns=Xs['Y'].columns)\n",
    "\n",
    "fig,ax=plt.subplots()\n",
    "grid = sns.heatmap(corr_, cmap='gray_r')"
   ]
  },
  {
   "cell_type": "code",
   "execution_count": null,
   "id": "ac0c6b68-4993-4351-9140-eb6f7ce9b923",
   "metadata": {},
   "outputs": [],
   "source": [
    "key = 'Y0u'\n",
    "buddy = corr_.loc[key].idxmax()"
   ]
  },
  {
   "cell_type": "code",
   "execution_count": null,
   "id": "f23bceaf-f699-4846-9844-336796c00e83",
   "metadata": {},
   "outputs": [],
   "source": [
    "corr[key].sum()"
   ]
  },
  {
   "cell_type": "code",
   "execution_count": null,
   "id": "747c957f-800a-41a3-9354-458f4299a9a3",
   "metadata": {},
   "outputs": [],
   "source": [
    "corr[key].drop(index=[key,buddy]).max()"
   ]
  },
  {
   "cell_type": "code",
   "execution_count": null,
   "id": "00b59fd7-d7e3-4d61-979a-645155576146",
   "metadata": {},
   "outputs": [],
   "source": [
    "corr[buddy].sum()"
   ]
  },
  {
   "cell_type": "code",
   "execution_count": null,
   "id": "e33f0a0a-cf56-4d9d-9ada-243e9a39be54",
   "metadata": {},
   "outputs": [],
   "source": [
    "corr[buddy].drop(index=[key,buddy]).max()"
   ]
  },
  {
   "cell_type": "code",
   "execution_count": null,
   "id": "2ec271a4-3b43-4e1b-aa71-a7a36bc898e2",
   "metadata": {},
   "outputs": [],
   "source": [
    "keys = corr_.max().sort_values(ascending=False).index\n",
    "for key in keys:\n",
    "    \n",
    "    buddy = corr_.loc[key].idxmax()\n",
    "    if buddy!=key:\n",
    "        #print(f'{key}: {corr[key].sum()}, {buddy}: {corr[buddy].sum()}')\n",
    "        \n",
    "        other_corr = corr[key].drop(index=[key,buddy])\n",
    "        other_corr_budy = corr[buddy].drop(index=[key,buddy])\n",
    "                \n",
    "        print(f\"{key}:{other_corr.max()}, {buddy}:{other_corr_budy.max()}\")\n",
    "        \n",
    "    \n",
    "    "
   ]
  },
  {
   "cell_type": "code",
   "execution_count": null,
   "id": "cc87481a-ddf1-425c-a80d-319e9d503677",
   "metadata": {},
   "outputs": [],
   "source": [
    "corr = Xs['Y'].corr().abs()\n",
    "corr_ = np.tril(corr, k=-1)\n",
    "corr_ = pd.DataFrame(corr_, index=Xs['Y'].columns, columns=Xs['Y'].columns)\n",
    "keys = corr_.max().sort_values(ascending=False).index\n",
    "\n",
    "limit_corr = 0.9\n",
    "\n",
    "keep_all = False\n",
    "\n",
    "i = 0\n",
    "while not keep_all:\n",
    "    \n",
    "    print(f'-------- iteration {i} -----------')\n",
    "    i+=1\n",
    "    keep_all = True\n",
    "    \n",
    "    for key in keys:\n",
    "        \n",
    "        if not key in corr:\n",
    "            continue\n",
    "        \n",
    "        buddy = corr_.loc[key].idxmax()\n",
    "        if buddy!=key:\n",
    "            #print(f'{key}: {corr[key].sum()}, {buddy}: {corr[buddy].sum()}')\n",
    "            \n",
    "            other_corr = corr[key].drop(index=[key,buddy])\n",
    "            other_corr_budy = corr[buddy].drop(index=[key,buddy])\n",
    "            \n",
    "            if np.max([other_corr.max(), other_corr_budy.max()]) > limit_corr:\n",
    "            \n",
    "                keep_all = False\n",
    "                \n",
    "                if other_corr.max() > other_corr_budy.max():\n",
    "                    drop = key\n",
    "                else:\n",
    "                    drop = buddy\n",
    "                \n",
    "                corr.drop(columns=[drop], inplace=True)\n",
    "                corr.drop(index=[drop], inplace=True)\n",
    "                corr_.drop(columns=[drop], inplace=True)\n",
    "                corr_.drop(index=[drop], inplace=True)\n",
    "                           \n",
    "                print(f\"{key}:{other_corr.max()}, {buddy}:{other_corr_budy.max()} --> drop:{drop}\")\n",
    "            else:\n",
    "                print(f\"{key}:{other_corr.max()}, {buddy}:{other_corr_budy.max()} --> Keep both\") "
   ]
  },
  {
   "cell_type": "code",
   "execution_count": null,
   "id": "20d8e646-e12b-4113-999f-a5eaa1e4c03e",
   "metadata": {},
   "outputs": [],
   "source": [
    "fig,ax=plt.subplots()\n",
    "grid = sns.heatmap(corr_, cmap='gray_r')"
   ]
  },
  {
   "cell_type": "code",
   "execution_count": null,
   "id": "2b975cac-ba23-4fda-ac63-c314bdde6b90",
   "metadata": {},
   "outputs": [],
   "source": [
    "corr_.max().sort_values(ascending=False).plot.bar()"
   ]
  },
  {
   "cell_type": "markdown",
   "id": "262af92b-0202-493f-b0d9-017516b18061",
   "metadata": {
    "tags": []
   },
   "source": [
    "## All dofs"
   ]
  },
  {
   "cell_type": "code",
   "execution_count": null,
   "id": "5138611d-3a48-485e-b516-be608af15472",
   "metadata": {},
   "outputs": [],
   "source": [
    "dofs = list(Xs.keys())\n",
    "\n",
    "eqs = {\n",
    "\n",
    "    'X' : regression.X_eq,\n",
    "    'Y' : regression.Y_eq,\n",
    "    'N' : regression.N_eq,\n",
    "    \n",
    "}\n",
    "\n",
    "for dof in dofs:\n",
    "    \n",
    "    X=Xs[dof]\n",
    "    X_droped = drop_multicollinearity(X=X, limit_corr=0.90)\n",
    "    \n",
    "    fig,axes=plt.subplots(ncols=2)\n",
    "    for ax,X_ in zip(axes,[X, X_droped]):\n",
    "        corr = X_.corr().abs()\n",
    "        corr_ = np.tril(corr, k=-1)\n",
    "        corr_ = pd.DataFrame(corr_, index=X_.columns, columns=X_.columns)\n",
    "        corr_.max().sort_values(ascending=False).plot.bar(ax=ax)\n",
    "        ax.set_ylim(0,1)\n",
    "    \n",
    "    removes = list(set(X.columns) - set(X_droped.columns))\n",
    "    subs = [(p[remove],0) for remove in removes]\n",
    "    eq = eqs[dof]\n",
    "    display(eq)\n",
    "    eq_simplified = eq.subs(subs)\n",
    "    display(eq_simplified)\n",
    "    \n",
    "    \n",
    "    \n",
    "    "
   ]
  }
 ],
 "metadata": {
  "citation-manager": {
   "items": {}
  },
  "kernelspec": {
   "display_name": "wPCC_pipeline",
   "language": "python",
   "name": "python3"
  },
  "language_info": {
   "codemirror_mode": {
    "name": "ipython",
    "version": 3
   },
   "file_extension": ".py",
   "mimetype": "text/x-python",
   "name": "python",
   "nbconvert_exporter": "python",
   "pygments_lexer": "ipython3",
   "version": "3.7.9"
  }
 },
 "nbformat": 4,
 "nbformat_minor": 5
}
