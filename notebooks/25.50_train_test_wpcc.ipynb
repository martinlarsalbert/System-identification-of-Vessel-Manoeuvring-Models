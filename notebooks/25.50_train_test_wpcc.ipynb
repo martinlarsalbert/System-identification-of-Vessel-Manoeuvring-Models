{
 "cells": [
  {
   "cell_type": "markdown",
   "id": "317922a4-9bd1-40b0-812d-8c903410945f",
   "metadata": {},
   "source": [
    "# Train/Test wPCC"
   ]
  },
  {
   "cell_type": "code",
   "execution_count": null,
   "id": "40a92f3a-f98a-4c96-9b6d-54babd9e9909",
   "metadata": {
    "tags": [
     "remove-cell"
    ]
   },
   "outputs": [],
   "source": [
    "# %load imports.py\n",
    "%load_ext autoreload\n",
    "%autoreload 2\n",
    "%reload_kedro\n",
    "%config Completer.use_jedi = False  ## (To fix autocomplete)\n",
    "%matplotlib inline\n",
    "\n",
    "import warnings\n",
    "warnings.filterwarnings('ignore')\n",
    "\n",
    "import pandas as pd\n",
    "pd.set_option('display.max_rows', 500)\n",
    "pd.set_option('display.max_columns', 500)\n",
    "from src.models.vmm import ModelSimulator\n",
    "import matplotlib.pyplot as plt\n",
    "from src.visualization.plot import track_plots, plot, captive_plot, plot_parameter_contributions, parameter_contributions\n",
    "import kedro\n",
    "import numpy as np\n",
    "import os.path\n",
    "import anyconfig\n",
    "\n",
    "import matplotlib\n",
    "matplotlib.rcParams[\"figure.figsize\"] = (10,7)\n",
    "from src.symbols import *\n",
    "\n",
    "# Read configs:\n",
    "conf_path = os.path.join(\"../conf/base/\")\n",
    "runs_globals_path = os.path.join(\n",
    "    conf_path,\n",
    "    \"runs_globals.yml\",\n",
    ")\n",
    "\n",
    "runs_globals = anyconfig.load(runs_globals_path)\n",
    "model_test_ids = runs_globals[\"model_test_ids\"]\n",
    "\n",
    "join_globals_path = os.path.join(\n",
    "    conf_path,\n",
    "    \"join_globals.yml\",\n",
    ")\n",
    "\n",
    "joins = runs_globals[\"joins\"]\n",
    "join_runs_dict = anyconfig.load(join_globals_path)\n",
    "\n",
    "globals_path = os.path.join(\n",
    "    conf_path,\n",
    "    \"globals.yml\",\n",
    ")\n",
    "global_variables = anyconfig.load(globals_path)\n",
    "\n",
    "\n",
    "\n",
    "vmm_names = global_variables[\"vmms\"]\n",
    "\n",
    "from wPCC_pipeline.pipelines.motion_regression.nodes import predict_force, fit_motions, create_model_from_motion_regression\n",
    "from wPCC_pipeline.pipelines.prediction.nodes import simulate_euler\n",
    "from src.prime_system import PrimeSystem\n",
    "\n",
    "from sklearn.linear_model import LinearRegression\n",
    "from sklearn.model_selection import cross_val_score\n",
    "from sklearn.model_selection import RepeatedKFold\n",
    "from sklearn.feature_selection import SelectKBest\n",
    "from sklearn.feature_selection import f_regression\n",
    "from sklearn.pipeline import Pipeline\n",
    "from src.parameters import df_parameters\n",
    "p = df_parameters['symbol']\n",
    "from src.feature_selection import drop_multicollinearity\n",
    "from src.bias_variance_tradeoff import train_test_split_run\n",
    "from sklearn.metrics import r2_score\n",
    "from wPCC_pipeline.pipelines.motion_regression.nodes import fit_motions, create_model_from_motion_regression\n",
    "from src.models.regression import Regression\n",
    "from myst_nb import glue\n",
    "import src.symbols as s\n",
    "from IPython.display import Latex\n",
    "from src.substitute_dynamic_symbols import run\n",
    "import seaborn as sns\n",
    "from src.feature_selection import feature_imporance, BestFeatures, DropCorrelation"
   ]
  },
  {
   "cell_type": "code",
   "execution_count": null,
   "id": "054fd58b-9f4d-4bd5-afa2-4880fbc97e31",
   "metadata": {
    "tags": [
     "remove-cell"
    ]
   },
   "outputs": [],
   "source": [
    "ship=\"wpcc\"\n",
    "#vmm_name = \"vmm_martins_simple\"\n",
    "vmm_name = \"vmm_abkowitz\"\n",
    "vmm = catalog.load(vmm_name)\n",
    "\n",
    "ship_data = catalog.load(f\"{ship}.ship_data\")\n",
    "\n",
    "#regression = catalog.load(f\"{ship}.updated.{vmm_name}.joined.regression\")\n",
    "#regression.diff_eq_Y.exclude_parameters.pop('Ydelta')\n",
    "#regression.diff_eq_Y.exclude_parameters.pop('Ythrustdelta')\n",
    "\n",
    "\n",
    "data = catalog.load(f\"{ship}.updated.joined.data_ek_smooth\")\n",
    "\n",
    "added_masses = catalog.load(f\"{ship}.added_masses\")\n",
    "exclude_parameters = catalog.load(f\"params:{ship}.motion_regression.exclude_parameters\")\n",
    "columns = ['u','v','r','u1d','v1d','r1d','delta','thrust','id']\n",
    "data_with_force = predict_force(data=data[columns], added_masses=added_masses, ship_parameters=ship_data, vmm=vmm)"
   ]
  },
  {
   "cell_type": "code",
   "execution_count": null,
   "id": "61f21c6c-164a-4c49-9881-e7d69495b54f",
   "metadata": {
    "tags": [
     "remove-cell"
    ]
   },
   "outputs": [],
   "source": [
    "ids = list(data_with_force['id'].unique())\n",
    "ids_train = ids.copy()\n",
    "id_test = 22774\n",
    "ids_train.remove(id_test)\n",
    "mask = data_with_force['id'].isin(ids_train)\n",
    "data_train = data_with_force.loc[mask].copy()\n",
    "\n",
    "ps = PrimeSystem(**ship_data)\n",
    "data_prime = ps.prime(data_train, U=data_with_force['U'])"
   ]
  },
  {
   "cell_type": "code",
   "execution_count": null,
   "id": "3ecc4c07-0978-4454-bc5b-59e12fc4be18",
   "metadata": {
    "tags": [
     "remove-cell"
    ]
   },
   "outputs": [],
   "source": [
    "def break_plot(y, **kwargs):\n",
    "    \n",
    "    y_ = y.copy()\n",
    "    mask = np.concatenate([[False],np.diff(y_.index)>1])\n",
    "    y_[mask] = np.NaN\n",
    "    y_.plot(**kwargs)\n",
    "    "
   ]
  },
  {
   "cell_type": "code",
   "execution_count": null,
   "id": "72a51694-ba99-4858-a1a9-450949b15835",
   "metadata": {},
   "outputs": [],
   "source": [
    "ids_test = [\n",
    "    22771,\n",
    "    22772,\n",
    "    22773,\n",
    "]\n",
    "   \n",
    "X_train, y_train, X_test, y_test, train_data = train_test_split_run(X=data_prime,\n",
    "                                                                    y=data_prime['fx'],\n",
    "                                                                    id=data_prime.id, \n",
    "                                                                    ids=ids_test)\n",
    "\n",
    "fig,ax=plt.subplots()\n",
    "break_plot(y_train, ax=ax,label='sub training')\n",
    "break_plot(y_test, ax=ax,label='validation')\n",
    "\n",
    "ax.legend();\n",
    "glue('fig_traintest',fig, display=False)"
   ]
  },
  {
   "cell_type": "code",
   "execution_count": null,
   "id": "91b8c7b8-d008-40f3-92d9-32eedf1a9629",
   "metadata": {},
   "outputs": [],
   "source": [
    "#def create_model(limit_corr, min_importance, **kwargs):\n",
    "#    \n",
    "#    drop_correlation = DropCorrelation(limit_corr=limit_corr)\n",
    "#    best_features = BestFeatures(min_importance=min_importance)\n",
    "#    linear_regression = LinearRegression(fit_intercept=False)\n",
    "#    \n",
    "#    steps = [\n",
    "#        ('drop_correlation',drop_correlation),\n",
    "#        ('best_features',best_features),\n",
    "#        ('regression',linear_regression),\n",
    "#    ]\n",
    "#    \n",
    "#    pipeline = Pipeline(steps)\n",
    "#    return pipeline\n",
    "\n",
    "def create_model(limit_corr, k):\n",
    "    \n",
    "    drop_correlation = DropCorrelation(limit_corr=limit_corr)\n",
    "    best_features = SelectKBest(score_func=f_regression, k=k)\n",
    "    linear_regression = LinearRegression(fit_intercept=False)\n",
    "    \n",
    "    steps = [\n",
    "        ('drop_correlation',drop_correlation),\n",
    "        ('best_features',best_features),\n",
    "        ('regression',linear_regression),\n",
    "    ]\n",
    "    \n",
    "    pipeline = Pipeline(steps)\n",
    "    return pipeline\n",
    "\n",
    "def create_model2(k):\n",
    "    \n",
    "    best_features = SelectKBest(score_func=f_regression, k=k)\n",
    "    linear_regression = LinearRegression(fit_intercept=False)\n",
    "    \n",
    "    steps = [\n",
    "        ('best_features',best_features),\n",
    "        ('regression',linear_regression),\n",
    "    ]\n",
    "    \n",
    "    pipeline = Pipeline(steps)\n",
    "    return pipeline\n",
    "    \n",
    "    \n",
    "    "
   ]
  },
  {
   "cell_type": "code",
   "execution_count": null,
   "id": "5d9a0dde-3610-4134-8d7d-84e1335d0ab8",
   "metadata": {
    "tags": [
     "remove-cell"
    ]
   },
   "outputs": [],
   "source": [
    "ps = PrimeSystem(**ship_data)\n",
    "regression = Regression(\n",
    "        vmm=vmm,\n",
    "        data=data_train,\n",
    "        added_masses=added_masses,\n",
    "        ship_parameters=ship_data,\n",
    "        prime_system=ps,\n",
    "        exclude_parameters=exclude_parameters, \n",
    "        connect_equations_Y_N_rudder=False\n",
    "    )"
   ]
  },
  {
   "cell_type": "code",
   "execution_count": null,
   "id": "a1780b1d-424a-4779-ab76-2a68b81d3036",
   "metadata": {},
   "outputs": [],
   "source": [
    "def get_derivatives(model):\n",
    "    drop_correlation = model['drop_correlation']\n",
    "    drop_correlation.features\n",
    "    best_features = model['best_features']\n",
    "    mask = best_features.get_support()\n",
    "    parameter_names = list(np.array(drop_correlation.features)[mask])\n",
    "    parameter_values = model['regression'].coef_\n",
    "    new_parameters = {key:value for (key,value) in zip(parameter_names, parameter_values)}\n",
    "    return new_parameters\n",
    "\n",
    "def get_derivatives2(model,X):\n",
    "    best_features = model['best_features']\n",
    "    mask = best_features.get_support()\n",
    "    parameter_names = list(X.columns[mask])\n",
    "    parameter_values = model['regression'].coef_\n",
    "    new_parameters = {key:value for (key,value) in zip(parameter_names, parameter_values)}\n",
    "    return new_parameters"
   ]
  },
  {
   "cell_type": "code",
   "execution_count": null,
   "id": "38723160-af3b-4311-8ffe-e63245eacd44",
   "metadata": {},
   "outputs": [],
   "source": [
    "derivatives = {}\n",
    "\n",
    "X, y = regression.diff_eq_N.calculate_features_and_label(data=data_prime, \n",
    "                                                         y=data_prime['mz'])\n",
    "\n",
    "X_train, y_train, X_test, y_test, train_data = train_test_split_run(X=X,\n",
    "                                                                    y=y,\n",
    "                                                                    id=data_prime.id, \n",
    "                                                                    ids=ids_test)\n",
    "\n",
    "model = create_model(limit_corr=0.93, k=3)\n",
    "model.fit(X_train, y_train)\n",
    "derivatives_n = get_derivatives(model)\n",
    "derivatives.update(derivatives_n)\n",
    "\n",
    "y_pred = pd.Series(model.predict(X_test), index=X_test.index)\n",
    "\n",
    "\n",
    "fig,ax=plt.subplots()\n",
    "y_test.plot(ax=ax, label='True')\n",
    "y_pred.plot(ax=ax, label='Pred', alpha=0.5)\n",
    "fig.suptitle(f'N ($r^2$: {np.round(model.score(X_test, y_test),2)})');"
   ]
  },
  {
   "cell_type": "code",
   "execution_count": null,
   "id": "d2926213-0b12-4e7f-89c8-f23cc2795af4",
   "metadata": {},
   "outputs": [],
   "source": [
    "#regression.diff_eq_Y.exclude_parameters.update(derivatives_n)  # Note!\n",
    "X1, y1 = regression.diff_eq_Y.calculate_features_and_label(data=data_prime, \n",
    "                                                         y=data_prime['fy'])\n",
    "\n",
    "regression.connect_equations_Y_N_rudder = True\n",
    "connected_parameters = regression.calculate_connected_parameters_N(derivatives_n)\n",
    "regression.diff_eq_Y.exclude_parameters = (\n",
    "                connected_parameters.combine_first(regression.diff_eq_Y.exclude_parameters)\n",
    ")\n",
    "\n",
    "\n",
    "X2, y2 = regression.diff_eq_Y.calculate_features_and_label(data=data_prime, \n",
    "                                                         y=data_prime['fy'])\n",
    "\n"
   ]
  },
  {
   "cell_type": "code",
   "execution_count": null,
   "id": "c7245dac-ae02-486a-bfa2-5fc2770ef632",
   "metadata": {},
   "outputs": [],
   "source": [
    "regression.diff_eq_Y.exclude_parameters"
   ]
  },
  {
   "cell_type": "code",
   "execution_count": null,
   "id": "caa3ded1-4826-4e96-9d88-dace98c4f4eb",
   "metadata": {},
   "outputs": [],
   "source": [
    "regression.connected_parameters_Y"
   ]
  },
  {
   "cell_type": "code",
   "execution_count": null,
   "id": "08498de5-764e-4e2b-8c1b-5897db85e3fa",
   "metadata": {},
   "outputs": [],
   "source": [
    "fig,ax=plt.subplots()\n",
    "y1.plot(ax=ax)\n",
    "y2.plot(ax=ax)"
   ]
  },
  {
   "cell_type": "code",
   "execution_count": null,
   "id": "efe70c34-46a4-4174-9053-a2c79abca0aa",
   "metadata": {},
   "outputs": [],
   "source": [
    "regression.connect_equations_Y_N_rudder = True\n",
    "connected_parameters = regression.calculate_connected_parameters_N(derivatives_n)\n",
    "regression.diff_eq_Y.exclude_parameters = (\n",
    "                connected_parameters.combine_first(regression.diff_eq_Y.exclude_parameters)\n",
    ")\n",
    "\n",
    "X, y = regression.diff_eq_Y.calculate_features_and_label(data=data_prime, \n",
    "                                                         y=data_prime['fy'])\n",
    "\n",
    "X_train, y_train, X_test, y_test, train_data = train_test_split_run(X=X,\n",
    "                                                                    y=y,\n",
    "                                                                    id=data_prime.id, \n",
    "                                                                    ids=ids_test)\n",
    "\n",
    "model = create_model(limit_corr=0.95, k=2)\n",
    "model.fit(X_train, y_train)\n",
    "derivatives_y = get_derivatives(model)\n",
    "derivatives.update(derivatives_y)\n",
    "\n",
    "y_pred = pd.Series(model.predict(X_test), index=X_test.index)\n",
    "\n",
    "\n",
    "fig,ax=plt.subplots()\n",
    "y_test.plot(ax=ax, label='True')\n",
    "y_pred.plot(ax=ax, label='Pred', alpha=0.5)\n",
    "fig.suptitle(f'Y ($r^2$: {np.round(model.score(X_test, y_test),2)})');"
   ]
  },
  {
   "cell_type": "code",
   "execution_count": null,
   "id": "f2025b58-d992-4e2c-865b-bd75c7d9399e",
   "metadata": {},
   "outputs": [],
   "source": [
    "X, y = regression.diff_eq_X.calculate_features_and_label(data=data_prime, \n",
    "                                                         y=data_prime['fx'])\n",
    "\n",
    "X_train, y_train, X_test, y_test, train_data = train_test_split_run(X=X,\n",
    "                                                                    y=y,\n",
    "                                                                    id=data_prime.id, \n",
    "                                                                    ids=ids_test)\n",
    "\n",
    "#model = create_model2(k=10)\n",
    "#model.fit(X_train, y_train)\n",
    "\n",
    "model = LinearRegression(fit_intercept=False)\n",
    "features = ['Xu','Xvr']\n",
    "model.fit(X_train[features], y_train)\n",
    "\n",
    "derivatives_x = {key:value for (key,value) in zip(features, model.coef_)}\n",
    "derivatives.update(derivatives_x)\n",
    "\n",
    "y_pred = pd.Series(model.predict(X_test[features]), index=X_test.index)\n",
    "\n",
    "\n",
    "fig,ax=plt.subplots()\n",
    "y_test.plot(ax=ax, label='True')\n",
    "y_pred.plot(ax=ax, label='Pred', alpha=0.5)\n",
    "fig.suptitle(f'X ($r^2$: {np.round(model.score(X_test[features], y_test),2)})');"
   ]
  },
  {
   "cell_type": "code",
   "execution_count": null,
   "id": "fd088cd2-3013-4272-be9b-9fcd437f1fde",
   "metadata": {},
   "outputs": [],
   "source": [
    "derivatives_x"
   ]
  },
  {
   "cell_type": "code",
   "execution_count": null,
   "id": "2e722cb0-66ba-4766-a408-5e5d5f916a11",
   "metadata": {},
   "outputs": [],
   "source": [
    "ship_model = catalog.load(f\"{ship}.updated.{vmm_name}.joined.model\")"
   ]
  },
  {
   "cell_type": "code",
   "execution_count": null,
   "id": "bc4bea6e-f682-4751-95a1-aee4a2e0cad5",
   "metadata": {},
   "outputs": [],
   "source": [
    "df_parameters = pd.DataFrame()\n",
    "df_parameters['original'] = ship_model.parameters\n",
    "df_parameters['selected'] = 0\n",
    "df_parameters['selected'].update(added_masses)\n",
    "df_parameters['selected'].update(derivatives)\n",
    "df_parameters['selected'].update(regression.exclude_parameters)\n",
    "df_parameters['selected'].update(regression.diff_eq_Y.exclude_parameters)\n",
    "\n",
    "ship_model2 = ship_model.copy()\n",
    "ship_model2.parameters = df_parameters['selected']"
   ]
  },
  {
   "cell_type": "code",
   "execution_count": null,
   "id": "1f48e587-6779-4506-b995-276e88a0a262",
   "metadata": {},
   "outputs": [],
   "source": [
    "mask = df_parameters['selected'] !=0\n",
    "mask['Xthrust'] = False\n",
    "df_parameters.loc[mask]['selected'].plot.bar()"
   ]
  },
  {
   "cell_type": "code",
   "execution_count": null,
   "id": "75ea7d9d-8109-4cd8-b8b4-f697f21b812b",
   "metadata": {},
   "outputs": [],
   "source": [
    "df_test = catalog.load(f'{ship}.updated.{id_test}.data_ek_smooth')\n",
    "ek = catalog.load(f\"{ship}.{vmm_name}.ek\")"
   ]
  },
  {
   "cell_type": "code",
   "execution_count": null,
   "id": "1cda1cd7-cf7c-4344-b455-65df731d708e",
   "metadata": {},
   "outputs": [],
   "source": [
    "#df_predict = simulate_euler(data=df_test, model=ship_model, ek=ek)\n",
    "result = ship_model.simulate(df_test)\n",
    "df_predict=result.result.copy()"
   ]
  },
  {
   "cell_type": "code",
   "execution_count": null,
   "id": "31cd8286-f82e-4d83-8ee3-30c6c82f92bb",
   "metadata": {},
   "outputs": [],
   "source": [
    "X = regression.diff_eq_X.calculate_features(df_predict)\n",
    "parameters = ship_model.parameters"
   ]
  },
  {
   "cell_type": "code",
   "execution_count": null,
   "id": "72135da3-f6e0-46ba-9145-5f5feb1da4b4",
   "metadata": {},
   "outputs": [],
   "source": [
    "keys = list(set(X.columns) & set(parameters.keys()))"
   ]
  },
  {
   "cell_type": "code",
   "execution_count": null,
   "id": "24c81917-b58b-497d-bfdb-13ef2c1441b4",
   "metadata": {},
   "outputs": [],
   "source": [
    "forces = X.multiply(parameters[keys])"
   ]
  },
  {
   "cell_type": "code",
   "execution_count": null,
   "id": "c5e26c07-1b9b-4e64-8af6-8d602388e678",
   "metadata": {},
   "outputs": [],
   "source": [
    "#df_predict2 = simulate_euler(data=df_test, model=ship_model2, ek=ek)\n",
    "result2 = ship_model2.simulate(df_test)\n",
    "df_predict2=result2.result.copy()\n"
   ]
  },
  {
   "cell_type": "markdown",
   "id": "e05b2e5c-0d5d-4cdf-b879-ec7e4e82ab3d",
   "metadata": {
    "tags": []
   },
   "source": [
    "## VMM Martin"
   ]
  },
  {
   "cell_type": "code",
   "execution_count": null,
   "id": "b73d2f80-b474-41aa-8a4a-571c5556270e",
   "metadata": {},
   "outputs": [],
   "source": [
    "vmm_martin = catalog.load(\"vmm_martins_simple\")\n",
    "ek_martin = catalog.load(f\"{ship}.vmm_martins_simple.ek\")"
   ]
  },
  {
   "cell_type": "code",
   "execution_count": null,
   "id": "5d3f6b9b-de62-4291-ad3a-6e721b8ed311",
   "metadata": {},
   "outputs": [],
   "source": [
    "regression_martin, _ = fit_motions(data=data_train, \n",
    "                                   added_masses=added_masses, \n",
    "                                   ship_data=ship_data, \n",
    "                                   vmm=vmm_martin, \n",
    "                                   exclude_parameters=exclude_parameters)\n",
    "\n",
    "model_martin = create_model_from_motion_regression(regression=regression_martin)\n",
    "#df_predict_martin = simulate_euler(data=df_test, model=model_martin, ek=ek_martin)\n",
    "result_martin = model_martin.simulate(df_test)\n",
    "df_predict_martin=result_martin.result.copy()"
   ]
  },
  {
   "cell_type": "code",
   "execution_count": null,
   "id": "324ac2ce-7639-441e-8f75-b653a6715020",
   "metadata": {},
   "outputs": [],
   "source": []
  },
  {
   "cell_type": "code",
   "execution_count": null,
   "id": "c0fac262-c1da-4612-8505-11a903ceba69",
   "metadata": {},
   "outputs": [],
   "source": [
    "dataframes = {\n",
    "    'Experiment' : df_test,\n",
    "    'Prediction' : df_predict,\n",
    "    'Prediction2' : df_predict2,\n",
    "    'Prediction Martin' : df_predict_martin,\n",
    "    #'Prediction Abkowitz' : df_predict_abkowitz,\n",
    "    \n",
    "}\n",
    "\n",
    "styles = {\n",
    "    'Experiment' : {'style':'r--'},\n",
    "    'Prediction' : {'style':'g-'},\n",
    "    'Prediction2' : {'style':'b-'},\n",
    "    'Prediction Martin' : {'style':'m-'},\n",
    "    'Prediction Abkowitz' : {'style':'y-'},\n",
    "    \n",
    "}"
   ]
  },
  {
   "cell_type": "code",
   "execution_count": null,
   "id": "4ceb283c-390c-4607-8571-270f65b2d6e8",
   "metadata": {},
   "outputs": [],
   "source": [
    "time_window=[0,40]\n",
    "track_plots(dataframes, \n",
    "            lpp=ship_data['L'], \n",
    "            beam=ship_data['B'],  \n",
    "            styles=styles, N=2,\n",
    "            time_window=time_window,\n",
    "           );"
   ]
  },
  {
   "cell_type": "code",
   "execution_count": null,
   "id": "0ee71acc-a35c-4fca-aff6-d0d1ad52901c",
   "metadata": {},
   "outputs": [],
   "source": [
    "plot(dataframes=dataframes, \n",
    "     keys=['u','v','r'], \n",
    "     ncols=1, \n",
    "     styles=styles, \n",
    "     zero_origo=False,\n",
    "     time_window=time_window,\n",
    "    );"
   ]
  },
  {
   "cell_type": "code",
   "execution_count": null,
   "id": "8dfeb6d5-c434-4662-afcd-95bb5710e2cb",
   "metadata": {},
   "outputs": [],
   "source": [
    "plot_parameter_contributions(data=df_predict_martin, model=model_martin, regression=regression)"
   ]
  },
  {
   "cell_type": "code",
   "execution_count": null,
   "id": "4d704be4-ffdf-4db4-ae60-394c3dc9f5f1",
   "metadata": {},
   "outputs": [],
   "source": [
    "plot_parameter_contributions(data=df_predict2, model=ship_model2, regression=regression)"
   ]
  },
  {
   "cell_type": "code",
   "execution_count": null,
   "id": "4d255446-3cee-4ee6-9537-743db298032c",
   "metadata": {},
   "outputs": [],
   "source": [
    "regression.X_eq"
   ]
  },
  {
   "cell_type": "code",
   "execution_count": null,
   "id": "71f9e82d-0d9d-4ee1-a381-fbf02fd0949e",
   "metadata": {},
   "outputs": [],
   "source": []
  }
 ],
 "metadata": {
  "citation-manager": {
   "items": {}
  },
  "kernelspec": {
   "display_name": "wPCC_pipeline",
   "language": "python",
   "name": "python3"
  },
  "language_info": {
   "codemirror_mode": {
    "name": "ipython",
    "version": 3
   },
   "file_extension": ".py",
   "mimetype": "text/x-python",
   "name": "python",
   "nbconvert_exporter": "python",
   "pygments_lexer": "ipython3",
   "version": "3.7.9"
  }
 },
 "nbformat": 4,
 "nbformat_minor": 5
}
