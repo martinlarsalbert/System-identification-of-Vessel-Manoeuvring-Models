{
 "cells": [
  {
   "cell_type": "markdown",
   "id": "82f209b8-b1bf-42b9-b510-9b62cf963fcd",
   "metadata": {},
   "source": [
    "# MMG thrust model"
   ]
  },
  {
   "cell_type": "code",
   "execution_count": null,
   "id": "869dbcca-99d9-45d1-b147-a1c98853cc0a",
   "metadata": {},
   "outputs": [],
   "source": [
    "# %load imports.py\n",
    "%load_ext autoreload\n",
    "%autoreload 2\n",
    "%reload_kedro\n",
    "%config Completer.use_jedi = False  ## (To fix autocomplete)\n",
    "%matplotlib inline\n",
    "\n",
    "import warnings\n",
    "warnings.filterwarnings('ignore')\n",
    "\n",
    "import pandas as pd\n",
    "pd.set_option('display.max_rows', 500)\n",
    "pd.set_option('display.max_columns', 500)\n",
    "from src.models.vmm import ModelSimulator\n",
    "import matplotlib.pyplot as plt\n",
    "from src.visualization.plot import track_plots, plot, captive_plot\n",
    "import kedro\n",
    "import numpy as np\n",
    "import os.path\n",
    "import anyconfig\n",
    "\n",
    "import matplotlib\n",
    "matplotlib.rcParams[\"figure.figsize\"] = (15,8)\n",
    "from src.symbols import *\n",
    "\n",
    "# Read configs:\n",
    "conf_path = os.path.join(\"../conf/base/\")\n",
    "runs_globals_path = os.path.join(\n",
    "    conf_path,\n",
    "    \"runs_globals.yml\",\n",
    ")\n",
    "\n",
    "runs_globals = anyconfig.load(runs_globals_path)\n",
    "model_test_ids = runs_globals[\"model_test_ids\"]\n",
    "\n",
    "join_globals_path = os.path.join(\n",
    "    conf_path,\n",
    "    \"join_globals.yml\",\n",
    ")\n",
    "\n",
    "joins = runs_globals[\"joins\"]\n",
    "join_runs_dict = anyconfig.load(join_globals_path)\n",
    "\n",
    "globals_path = os.path.join(\n",
    "    conf_path,\n",
    "    \"globals.yml\",\n",
    ")\n",
    "global_variables = anyconfig.load(globals_path)\n",
    "\n",
    "\n",
    "\n",
    "vmm_names = global_variables[\"vmms\"]\n",
    "\n",
    "from src.models.MMG_propeller import *\n",
    "from src.substitute_dynamic_symbols import run\n",
    "from src.prime_system import PrimeSystem\n",
    "from scipy.optimize import least_squares"
   ]
  },
  {
   "cell_type": "code",
   "execution_count": null,
   "id": "6ea43757-4bf9-4b23-8074-da32911cd7e0",
   "metadata": {},
   "outputs": [],
   "source": [
    "ship=\"kvlcc2_hsva\"\n",
    "vmm_name = \"vmm_martins_simple\"\n",
    "#vmm_name = \"vmm_abkowitz\"\n",
    "vmm = catalog.load(vmm_name)\n",
    "\n",
    "ship_data = catalog.load(f\"{ship}.ship_data\")\n",
    "\n",
    "train = \"HSVA_CPMC_KVLCC2_Z_25_05\"\n",
    "df_train = catalog.load(f'{ship}.updated.{train}.data_ek_smooth')\n",
    "df_train_raw = catalog.load(f'{ship}.{train}.raw_data')\n",
    "\n",
    "\n",
    "test = \"HSVA_CPMC_KVLCC2_Z_35_05\"\n",
    "df_test = catalog.load(f'{ship}.updated.{test}.data_ek_smooth')"
   ]
  },
  {
   "cell_type": "code",
   "execution_count": null,
   "id": "d7d3edc0-72f9-4664-ba66-4a35381507af",
   "metadata": {},
   "outputs": [],
   "source": [
    "X_P_solution[0][X_P]"
   ]
  },
  {
   "cell_type": "code",
   "execution_count": null,
   "id": "b5564f53-7526-43e9-a9a5-d310de759bd7",
   "metadata": {},
   "outputs": [],
   "source": [
    "lambda_X_P = sp.lambdify(list(X_P_solution[0][X_P].free_symbols), X_P_solution[0][X_P])\n"
   ]
  },
  {
   "cell_type": "code",
   "execution_count": null,
   "id": "eddd4e25-aad1-4ab1-958c-dfe56ae5e234",
   "metadata": {},
   "outputs": [],
   "source": [
    "lambda_X_P"
   ]
  },
  {
   "cell_type": "code",
   "execution_count": null,
   "id": "8bb30f3c-3641-4085-b6b3-3f1cd5512712",
   "metadata": {},
   "outputs": [],
   "source": [
    "df_ = df_train.copy()\n",
    "df_['rev'] = df_train_raw['rev'].values\n",
    "#J_ = open_water_characteristics.index\n",
    "#n_ = 1.0\n",
    "D_ = ship_data['D']\n",
    "w0_ = ship_data['w_p0']\n",
    "rho_ = 1000\n",
    "tdf_ = ship_data['tdf']\n",
    "#df_['J'] = J_\n",
    "#df_['u'] = J_*n_*D_/(1-w0_)\n",
    "#df_['v'] = 0\n",
    "#df_['r'] = 0\n",
    "#df_['rev'] = n_\n",
    "df_['U'] = np.sqrt(df_['u']**2 + df_['v']**2)\n",
    "\n",
    "df_['beta'] = -np.arctan2(df_['v'], df_['u'])\n",
    "ps = PrimeSystem(**ship_data)\n",
    "xp_prime = ps._prime(\n",
    "    ship_data[\"x_p\"],\n",
    "    unit=\"length\",\n",
    ")\n",
    "r_prime = ps._prime(df_['r'], unit=\"angular_velocity\", U=df_[\"U\"])\n",
    "df_['beta_p'] = df_['beta'] - xp_prime * r_prime\n",
    "\n",
    "\n",
    "df_['C_2'] = np.where(df_['beta_p'] > 0, ship_data[\"C_2_beta_p_pos\"], ship_data[\"C_2_beta_p_neg\"])\n",
    "#df_.set_index('J', inplace=True)"
   ]
  },
  {
   "cell_type": "code",
   "execution_count": null,
   "id": "64fed432-98bf-4f67-a40d-f8f514adfcf7",
   "metadata": {},
   "outputs": [],
   "source": [
    "propeller_coefficients = catalog.load(\"kvlcc2.propeller_coefficients\")"
   ]
  },
  {
   "cell_type": "code",
   "execution_count": null,
   "id": "8223773f-eb1d-4c19-8f93-ebbbe0632cc9",
   "metadata": {},
   "outputs": [],
   "source": [
    "df_['fx'] = run(function=lambda_X_P, inputs=df_, **ship_data, **propeller_coefficients)"
   ]
  },
  {
   "cell_type": "code",
   "execution_count": null,
   "id": "850321bc-48c2-479f-94c0-0fad987b32f3",
   "metadata": {},
   "outputs": [],
   "source": [
    "df_"
   ]
  },
  {
   "cell_type": "code",
   "execution_count": null,
   "id": "0368169c-0ab9-495f-9404-59925aafaae8",
   "metadata": {},
   "outputs": [],
   "source": [
    "df_['thrust_prediction'] = df_['fx']/(1-ship_data['tdf'])"
   ]
  },
  {
   "cell_type": "code",
   "execution_count": null,
   "id": "fc7c1663-127f-4fd7-bab3-f326db0b40ff",
   "metadata": {},
   "outputs": [],
   "source": [
    "df_.plot(y=['thrust','thrust_prediction'])"
   ]
  },
  {
   "cell_type": "code",
   "execution_count": null,
   "id": "73d386c9-48d0-450e-b7e9-e6297ffb17fd",
   "metadata": {},
   "outputs": [],
   "source": [
    "X_P_solution[0][X_P]"
   ]
  },
  {
   "cell_type": "code",
   "execution_count": null,
   "id": "b604653f-4d50-4f96-8a3b-048fa92f7a03",
   "metadata": {},
   "outputs": [],
   "source": [
    "lambda_X_P"
   ]
  },
  {
   "cell_type": "code",
   "execution_count": null,
   "id": "e88086a9-4b19-4851-8719-570a76ebcfc6",
   "metadata": {},
   "outputs": [],
   "source": [
    "fig,ax=plt.subplots()\n",
    "mask = df_['beta_p'] > 0\n",
    "df_.loc[mask].plot(y='thrust', style='.', label=r'$\\beta_p>0$', ax=ax)\n",
    "df_.loc[~mask].plot(y='thrust', style='.', label=r'$\\beta_p<0$', ax=ax)"
   ]
  },
  {
   "cell_type": "code",
   "execution_count": null,
   "id": "4f64989c-5dd9-4af3-a87d-ef645ddb5188",
   "metadata": {},
   "outputs": [],
   "source": [
    "df_"
   ]
  },
  {
   "cell_type": "code",
   "execution_count": null,
   "id": "8c10d7fa-886a-401e-8494-75f37d2ffc92",
   "metadata": {},
   "outputs": [],
   "source": [
    "df_input = df_.drop(columns=['C_2'])\n",
    "mask = df_['beta_p'] > 0\n",
    "df_input = df_input.loc[mask].copy()\n",
    "ship_data_ = ship_data.copy()\n",
    "ship_data_.pop('C_1')\n",
    "ship_data_.pop('tdf')"
   ]
  },
  {
   "cell_type": "code",
   "execution_count": null,
   "id": "1c3fc088-d719-419a-8c94-9df9bc723b4d",
   "metadata": {},
   "outputs": [],
   "source": [
    "def fun(x):\n",
    "    \n",
    "    C_1 = x[0]\n",
    "    C_2 = x[1]\n",
    "    tdf = x[2]\n",
    "    \n",
    "    fx = run(function=lambda_X_P, inputs=df_input, **ship_data_, **propeller_coefficients, C_1=C_1, C_2=C_2, tdf=tdf)\n",
    "    \n",
    "    thrust_prediction = fx/(1-tdf)\n",
    "    \n",
    "    epsilon = np.array(df_input['thrust'] - thrust_prediction)\n",
    "    \n",
    "    return epsilon"
   ]
  },
  {
   "cell_type": "code",
   "execution_count": null,
   "id": "02ebe7bb-a4b5-4f12-b4ad-f77f5b3916f1",
   "metadata": {},
   "outputs": [],
   "source": [
    "x = df_[['C_2']].copy()"
   ]
  },
  {
   "cell_type": "code",
   "execution_count": null,
   "id": "20bd4e69-b140-4e9c-ac87-d3ab14a99f42",
   "metadata": {},
   "outputs": [],
   "source": [
    "fig,ax=plt.subplots()\n",
    "ax.plot(fun([2,1.6,ship_data['tdf']]),'.')\n",
    "ax.plot(fun([2,0.6,ship_data['tdf']]),'.')\n",
    "ax.plot(fun([2,2.6,ship_data['tdf']]),'.')"
   ]
  },
  {
   "cell_type": "code",
   "execution_count": null,
   "id": "607fe8c1-60d7-4cde-b504-f212c8e6e17a",
   "metadata": {},
   "outputs": [],
   "source": [
    "result = least_squares(fun=fun, x0=(2,1.6,ship_data['tdf']), method='dogbox')"
   ]
  },
  {
   "cell_type": "code",
   "execution_count": null,
   "id": "03ede21c-9f11-4aef-aff3-0f17327695d9",
   "metadata": {},
   "outputs": [],
   "source": [
    "result"
   ]
  },
  {
   "cell_type": "code",
   "execution_count": null,
   "id": "28d41516-5831-4a85-b17b-ff11727a2d44",
   "metadata": {},
   "outputs": [],
   "source": [
    "df2 = df_input.copy()\n",
    "df2['C_1'] = result.x[0]\n",
    "df2['C_2'] = result.x[1]\n",
    "tdf = result.x[2]"
   ]
  },
  {
   "cell_type": "code",
   "execution_count": null,
   "id": "d66f81b3-e924-4d64-9f67-208ccb04001b",
   "metadata": {},
   "outputs": [],
   "source": [
    "df2['fx'] = run(function=lambda_X_P, inputs=df2, **ship_data_, **propeller_coefficients, tdf=tdf)\n",
    "df2['thrust_prediction'] = df2['fx']/(1-tdf)"
   ]
  },
  {
   "cell_type": "code",
   "execution_count": null,
   "id": "80569061-4010-4a83-a59b-2b9a9edcd501",
   "metadata": {},
   "outputs": [],
   "source": [
    "fig,ax=plt.subplots()\n",
    "df2.loc[mask].plot(y=['thrust','thrust_prediction'], style='.', ax=ax)\n",
    "\n"
   ]
  },
  {
   "cell_type": "code",
   "execution_count": null,
   "id": "9c45e24e-dad5-403f-a0a8-0d3b3169f9cc",
   "metadata": {},
   "outputs": [],
   "source": [
    "df2 = df_input.copy()\n",
    "df2['C_1'] = 2\n",
    "df2['C_2'] = 2\n",
    "\n",
    "df2['fx'] = run(function=lambda_X_P, inputs=df2, **ship_data_, **propeller_coefficients, tdf=0.30)\n",
    "df2['thrust_prediction'] = df2['fx']/(1-0.30)\n",
    "\n",
    "fig,ax=plt.subplots()\n",
    "df2.loc[mask].plot(y=['thrust','thrust_prediction'], style='.', ax=ax)\n"
   ]
  },
  {
   "cell_type": "code",
   "execution_count": null,
   "id": "cf16fef3-4032-4a39-87cc-fd6ff9d12d73",
   "metadata": {},
   "outputs": [],
   "source": [
    "eqs = [\n",
    "    eq_T,\n",
    "    eq_J,\n",
    "    eq_K_T,\n",
    "]\n",
    "\n",
    "solution = sp.solve(eqs, thrust, K_T, J, dict=True)[0][thrust]\n",
    "eq_thrust_simple = sp.Eq(thrust, solution)"
   ]
  },
  {
   "cell_type": "code",
   "execution_count": null,
   "id": "b0b05f06-2bdf-4a80-b218-44f326416701",
   "metadata": {},
   "outputs": [],
   "source": [
    "eq_thrust_simple"
   ]
  },
  {
   "cell_type": "code",
   "execution_count": null,
   "id": "35bf5e45-548b-48b3-97eb-8eb5f3ecb7d9",
   "metadata": {},
   "outputs": [],
   "source": [
    "lambda_thrust_simple = sp.lambdify(list(eq_thrust_simple.rhs.free_symbols), eq_thrust_simple.rhs)"
   ]
  },
  {
   "cell_type": "code",
   "execution_count": null,
   "id": "d73c9b81-83f3-442f-b43a-a14dfa30e1ca",
   "metadata": {},
   "outputs": [],
   "source": [
    "df_result = df_.copy()\n",
    "df_result['thrust'] = run(lambda_thrust_simple, inputs=df_, **propeller_coefficients, **ship_data, w_p=ship_data['w_p0']) "
   ]
  },
  {
   "cell_type": "code",
   "execution_count": null,
   "id": "ca872a31-eb00-4c75-9ddd-a45d99908a10",
   "metadata": {},
   "outputs": [],
   "source": [
    "fig,ax=plt.subplots()\n",
    "df_.plot(y='thrust', ax=ax)\n",
    "df_result.plot(y='thrust', ax=ax)\n",
    "\n",
    "v_p = df_['v']+df_['r']*ship_data['x_r']\n",
    "\n",
    "fig,ax=plt.subplots()\n",
    "v_p.plot(ax=ax)\n",
    "df_.plot(y='delta', ax=ax)"
   ]
  },
  {
   "cell_type": "code",
   "execution_count": null,
   "id": "7cfc7296-5524-49a4-bf69-8bafb77d5f03",
   "metadata": {},
   "outputs": [],
   "source": [
    "from sklearn.linear_model import LinearRegression"
   ]
  },
  {
   "cell_type": "code",
   "execution_count": null,
   "id": "6c1f7c33-89fd-45fe-9758-1de5315cb2dd",
   "metadata": {},
   "outputs": [],
   "source": [
    "linear_regression = LinearRegression()"
   ]
  },
  {
   "cell_type": "code",
   "execution_count": null,
   "id": "8853cd29-9cac-4df9-89b9-f21ee90f41a2",
   "metadata": {},
   "outputs": [],
   "source": [
    "X = pd.DataFrame(index=df_.index)\n",
    "X['delta'] = df_['delta']\n",
    "X['delta**2'] = df_['delta']**2\n",
    "X['v'] = df_['v']\n",
    "X['r'] = df_['r']\n",
    "X['v_p'] = v_p\n",
    "X['v_p**2'] = v_p**2\n",
    "\n",
    "\n",
    "y = df_['thrust'] - df_result['thrust']\n",
    "linear_regression.fit(X=X,y=y)"
   ]
  },
  {
   "cell_type": "code",
   "execution_count": null,
   "id": "ea4d92bf-0007-4f99-92ba-8c35486d1bdb",
   "metadata": {},
   "outputs": [],
   "source": [
    "df_result['thrust_predict'] = df_result['thrust'] + linear_regression.predict(X)"
   ]
  },
  {
   "cell_type": "code",
   "execution_count": null,
   "id": "3d297376-b571-4171-880a-e2840ef97f14",
   "metadata": {},
   "outputs": [],
   "source": [
    "fig,ax=plt.subplots()\n",
    "df_.plot(y='thrust', ax=ax)\n",
    "df_result.plot(y=['thrust', 'thrust_predict'], ax=ax)\n",
    "\n",
    "v_p = df_['v']+df_['r']*ship_data['x_r']\n",
    "\n",
    "fig,ax=plt.subplots()\n",
    "v_p.plot(ax=ax)\n",
    "df_.plot(y='delta', ax=ax)"
   ]
  },
  {
   "cell_type": "code",
   "execution_count": null,
   "id": "b68ab0b9-e304-4c3e-a70c-7e7a605adf8b",
   "metadata": {},
   "outputs": [],
   "source": [
    "eqs = [\n",
    "    eq_T,\n",
    "    eq_J,\n",
    "    eq_K_T,\n",
    "]\n",
    "\n",
    "solution = sp.solve(eq_thrust_simple, w_p,  dict=True)[1][w_p]\n",
    "eq_w_p = sp.Eq(w_p, solution)"
   ]
  },
  {
   "cell_type": "code",
   "execution_count": null,
   "id": "e91fb170-bca6-4392-a782-7d8f221be18f",
   "metadata": {},
   "outputs": [],
   "source": [
    "eq_w_p"
   ]
  },
  {
   "cell_type": "code",
   "execution_count": null,
   "id": "54c809eb-a699-4fe4-8fa2-7a03849b5ab9",
   "metadata": {},
   "outputs": [],
   "source": [
    "lambda_w_p = sp.lambdify(list(eq_w_p.rhs.free_symbols), eq_w_p.rhs)"
   ]
  },
  {
   "cell_type": "code",
   "execution_count": null,
   "id": "e29a605d-3967-41f4-96d5-f6dd741c5e47",
   "metadata": {},
   "outputs": [],
   "source": [
    "lambda_w_p"
   ]
  },
  {
   "cell_type": "code",
   "execution_count": null,
   "id": "54351669-a530-4917-83ee-30d05fc09293",
   "metadata": {},
   "outputs": [],
   "source": [
    "df_result['w_p'] = run(lambda_w_p, inputs=df_, **ship_data, **propeller_coefficients)"
   ]
  },
  {
   "cell_type": "code",
   "execution_count": null,
   "id": "cc4072e1-bf40-4e99-a251-94dc71f18509",
   "metadata": {},
   "outputs": [],
   "source": [
    "X = pd.DataFrame(index=df_.index)\n",
    "X['delta'] = df_['delta']\n",
    "#X['delta**2'] = df_['delta']**2\n",
    "#X['v'] = df_['v']\n",
    "#X['r'] = df_['r']\n",
    "X['v_p'] = df_['v']+df_['r']*ship_data['x_r']\n",
    "X['v_p**2'] = v_p**2\n",
    "\n",
    "\n",
    "y = df_result['w_p']\n",
    "linear_regression.fit(X=X,y=y)\n",
    "df_result['w_p_predict'] = linear_regression.predict(X=X)"
   ]
  },
  {
   "cell_type": "code",
   "execution_count": null,
   "id": "f850450c-d6fa-4813-8268-bf1d6da8f953",
   "metadata": {},
   "outputs": [],
   "source": [
    "fig,ax=plt.subplots()\n",
    "df_result.plot(y=['w_p','w_p_predict'],ax=ax)\n",
    "ax2 = ax.twinx()\n",
    "df_result.plot(y=['delta'],ax=ax2)\n",
    "\n",
    "\n",
    "ax3 = ax.twinx()\n",
    "X.plot(y=['v_p'],ax=ax3)"
   ]
  },
  {
   "cell_type": "code",
   "execution_count": null,
   "id": "7ad26099-b945-4f70-9848-7e07fd924cac",
   "metadata": {},
   "outputs": [],
   "source": [
    "df_result['thrust'] = run(lambda_thrust_simple, inputs=df_, **propeller_coefficients, **ship_data_, w_p=df_result['w_p_predict']) "
   ]
  },
  {
   "cell_type": "code",
   "execution_count": null,
   "id": "dbfce0e5-5d5c-4bc6-a8cf-890384597f0a",
   "metadata": {},
   "outputs": [],
   "source": [
    "fig,ax=plt.subplots()\n",
    "df_.plot(y='thrust', ax=ax)\n",
    "df_result.plot(y='thrust', ax=ax)"
   ]
  },
  {
   "cell_type": "code",
   "execution_count": null,
   "id": "a9332194-0067-411d-9d3e-8afa92d40c78",
   "metadata": {},
   "outputs": [],
   "source": [
    "linear_regression_pos = LinearRegression()\n",
    "mask = df_result['beta_p'] > 0\n",
    "df_pos = df_result.loc[mask].copy()\n",
    "X = pd.DataFrame(index=df_pos.index)\n",
    "X['delta'] = df_pos['delta']\n",
    "X['v_p'] = df_pos['v'] + df_pos['r']*ship_data['x_p']\n",
    "X['v_p**2'] = X['v_p']**2\n",
    "y = df_pos['w_p']\n",
    "linear_regression_pos.fit(X=X,y=y)\n",
    "df_pos['w_p_predict'] = linear_regression_pos.predict(X=X)"
   ]
  },
  {
   "cell_type": "code",
   "execution_count": null,
   "id": "40ef4546-5809-41c9-bb53-80db32ae1864",
   "metadata": {},
   "outputs": [],
   "source": [
    "linear_regression_neg = LinearRegression()\n",
    "mask = df_result['beta_p'] <= 0\n",
    "df_neg = df_result.loc[mask].copy()\n",
    "X = pd.DataFrame(index=df_neg.index)\n",
    "X['delta'] = df_neg['delta']\n",
    "X['v_p'] = df_neg['v'] + df_neg['r']*ship_data['x_p']\n",
    "X['v_p**2'] = X['v_p']**2\n",
    "y = df_neg['w_p']\n",
    "linear_regression_neg.fit(X=X,y=y)\n",
    "df_neg['w_p_predict'] = linear_regression_neg.predict(X=X)"
   ]
  },
  {
   "cell_type": "code",
   "execution_count": null,
   "id": "40d713bc-abaf-4496-a268-3b3b14d78912",
   "metadata": {},
   "outputs": [],
   "source": [
    "fig,ax=plt.subplots()\n",
    "df_pos.plot(y=['w_p','w_p_predict'], style='.',ax=ax)\n",
    "df_neg.plot(y=['w_p','w_p_predict'], style='.',ax=ax)"
   ]
  },
  {
   "cell_type": "code",
   "execution_count": null,
   "id": "d3ced1f1-944c-4b60-aee0-5d2745c443c2",
   "metadata": {},
   "outputs": [],
   "source": [
    "df_result = df_.copy()\n",
    "X = pd.DataFrame(index=df_result.index)\n",
    "X['delta'] = df_result['delta']\n",
    "X['v_p'] = df_result['v'] + df_result['r']*ship_data['x_p']\n",
    "X['v_p**2'] = X['v_p']**2\n",
    "\n",
    "df_result['w_p'] = np.where(df_result['beta_p'] > 0,  linear_regression_pos.predict(X), linear_regression_neg.predict(X))\n",
    "df_result['thrust'] = run(lambda_thrust_simple, inputs=df_result, **propeller_coefficients, **ship_data_) "
   ]
  },
  {
   "cell_type": "code",
   "execution_count": null,
   "id": "ad33a854-d067-4c18-87c7-cbd631f8238f",
   "metadata": {},
   "outputs": [],
   "source": [
    "fig,ax=plt.subplots()\n",
    "df_.plot(y='thrust', label='True', ax=ax)\n",
    "df_result.plot(y='thrust', label='Prediction', ax=ax)\n"
   ]
  },
  {
   "cell_type": "code",
   "execution_count": null,
   "id": "393ffe79-9247-4204-8d33-11f046a9bd46",
   "metadata": {},
   "outputs": [],
   "source": [
    "from sklearn.metrics import r2_score"
   ]
  },
  {
   "cell_type": "code",
   "execution_count": null,
   "id": "72a5924d-b506-4d14-912a-f4fb1e41aaa8",
   "metadata": {},
   "outputs": [],
   "source": [
    "r2_score(y_true=df_['thrust'], y_pred=df_result['thrust'])"
   ]
  },
  {
   "cell_type": "code",
   "execution_count": null,
   "id": "b776fbee-931a-4000-bcf2-32b0b4a3fea2",
   "metadata": {},
   "outputs": [],
   "source": [
    "model = catalog.load(f\"{ship}.updated.{vmm_name}.joined.model\")\n",
    "result = model.simulate(df_result)"
   ]
  },
  {
   "cell_type": "code",
   "execution_count": null,
   "id": "37b0bfaa-aef2-4513-913f-aca5461097d5",
   "metadata": {},
   "outputs": [],
   "source": [
    "dataframes = {\n",
    "    'Experiment':df_result,\n",
    "    'Sim predicted thrust':result.result\n",
    "}\n",
    "track_plots(dataframes=dataframes, lpp=ship_data['L'], beam=ship_data['B'])"
   ]
  },
  {
   "cell_type": "code",
   "execution_count": null,
   "id": "cbebfbdb-8a05-4041-9ce4-1c54f36d4156",
   "metadata": {},
   "outputs": [],
   "source": [
    "plot(dataframes=dataframes,keys=['psi','y0','u','v','r'], ncols=1);"
   ]
  },
  {
   "cell_type": "markdown",
   "id": "240acc0a-4f0c-469a-9e0f-93571d937826",
   "metadata": {},
   "source": [
    "## All tests"
   ]
  },
  {
   "cell_type": "code",
   "execution_count": null,
   "id": "1caf26bc-cd27-4fce-84da-9e331ede26e1",
   "metadata": {},
   "outputs": [],
   "source": [
    "def preprocess(data):\n",
    "\n",
    "    data['beta'] = -np.arctan2(data['v'], data['u'])\n",
    "    ps = PrimeSystem(**ship_data)\n",
    "    xp_prime = ps._prime(\n",
    "        ship_data[\"x_p\"],\n",
    "        unit=\"length\",\n",
    "    )\n",
    "    data['U'] = np.sqrt(data['u']**2 + data['v']**2)\n",
    "    r_prime = ps._prime(data['r'], unit=\"angular_velocity\", U=data[\"U\"])\n",
    "    data['beta_p'] = data['beta'] - xp_prime * r_prime\n",
    "    data['w_p'] = run(lambda_w_p, inputs=data, **ship_data_, **propeller_coefficients)\n",
    "    \n",
    "    return data"
   ]
  },
  {
   "cell_type": "code",
   "execution_count": null,
   "id": "ea98c028-634b-4c58-ab3c-c5087d929b3d",
   "metadata": {},
   "outputs": [],
   "source": [
    "data = catalog.load(f\"{ship}.updated.joined.data_ek_smooth\")\n",
    "data = preprocess(data)"
   ]
  },
  {
   "cell_type": "code",
   "execution_count": null,
   "id": "f41e9a43-e68c-4297-98ac-c740cf96fb24",
   "metadata": {},
   "outputs": [],
   "source": [
    "data.plot(y=['w_p'])"
   ]
  },
  {
   "cell_type": "code",
   "execution_count": null,
   "id": "69373419-3699-4c29-8cf3-a35f3d42eb2b",
   "metadata": {},
   "outputs": [],
   "source": [
    "def features(df, add_constant=False):\n",
    "    \n",
    "    X = pd.DataFrame(index=df.index.copy())\n",
    "    X['delta'] = df['delta']\n",
    "    X['delta**2'] = df['delta']**2\n",
    "    v_p = df['v'] + df['r']*ship_data['x_p']\n",
    "    X['v_p'] = v_p\n",
    "    X['v_p**2'] = v_p**2\n",
    "    \n",
    "    if add_constant:\n",
    "        X = sm.tools.add_constant(X)\n",
    "    \n",
    "    return X\n",
    "    "
   ]
  },
  {
   "cell_type": "code",
   "execution_count": null,
   "id": "1772a3b9-42a0-4fa4-8e6f-4dd6986623d5",
   "metadata": {},
   "outputs": [],
   "source": [
    "import statsmodels.api as sm"
   ]
  },
  {
   "cell_type": "code",
   "execution_count": null,
   "id": "aa712b33-a2c3-46c0-b9aa-347cab806437",
   "metadata": {},
   "outputs": [],
   "source": [
    "def fit(data, add_constant=False):\n",
    "    \n",
    "    data = preprocess(data)\n",
    "    \n",
    "    mask = data['beta_p'] > 0\n",
    "    df_pos = data.loc[mask].copy()\n",
    "    model = {}\n",
    "    X = features(df_pos)\n",
    "    y = df_pos['w_p'] - ship_data['w_p0']\n",
    "    linear_regression_pos = LinearRegression(fit_intercept=add_constant)\n",
    "    model['pos'] = linear_regression_pos.fit(X=X,y=y)\n",
    "    \n",
    "    mask = data['beta_p'] <= 0\n",
    "    df_neg = data.loc[mask].copy()\n",
    "    \n",
    "    X = features(df_neg)\n",
    "    y = df_neg['w_p'] - ship_data['w_p0']\n",
    "    linear_regression_neg = LinearRegression(fit_intercept=add_constant)\n",
    "    model['neg'] = linear_regression_neg.fit(X=X,y=y)\n",
    "    \n",
    "    \n",
    "    return model\n",
    "    \n",
    "def fit_sm(data, add_constant=False):\n",
    "    \n",
    "    data = preprocess(data)\n",
    "    \n",
    "    mask = data['beta_p'] > 0\n",
    "    df_pos = data.loc[mask].copy()\n",
    "    model = {}\n",
    "    X = features(df_pos, add_constant=add_constant)\n",
    "    y = df_pos['w_p'] - ship_data['w_p0']\n",
    "    linear_regression_pos = sm.OLS(y,X,hasconst=add_constant)\n",
    "    model['pos'] = linear_regression_pos.fit()\n",
    "    \n",
    "    mask = data['beta_p'] <= 0\n",
    "    df_neg = data.loc[mask].copy()\n",
    "    \n",
    "    X = features(df_neg, add_constant=add_constant)\n",
    "    y = df_neg['w_p'] - ship_data['w_p0']\n",
    "    linear_regression_neg = sm.OLS(y,X,hasconst=add_constant)\n",
    "    model['neg'] = linear_regression_neg.fit()\n",
    "    \n",
    "    \n",
    "    return model    \n",
    "\n",
    "def predict(model, data, propeller_coefficients, ship_data, add_constant=False):\n",
    "    \n",
    "    X = features(data, add_constant=add_constant)\n",
    "    df_result = data.copy()\n",
    "    df_result['w_p'] = np.where(data['beta_p'] > 0,  model['pos'].predict(X), model['neg'].predict(X)) + ship_data['w_p0']\n",
    "    df_result['thrust'] = run(lambda_thrust_simple, inputs=df_result, **propeller_coefficients, **ship_data) \n",
    "    return df_result"
   ]
  },
  {
   "cell_type": "code",
   "execution_count": null,
   "id": "4816b1dd-3466-4bd9-847c-34e59590aafc",
   "metadata": {},
   "outputs": [],
   "source": [
    "model_thrust = fit(data, add_constant=add_constant)\n",
    "add_constant=False\n",
    "model_thrust_sm = fit_sm(data, add_constant=add_constant)\n",
    "\n",
    "df_result = predict(model=model_thrust, data=data, propeller_coefficients=propeller_coefficients, ship_data=ship_data, add_constant=add_constant)"
   ]
  },
  {
   "cell_type": "code",
   "execution_count": null,
   "id": "76a366b9-7c77-46ad-9e02-f1723c0111f0",
   "metadata": {},
   "outputs": [],
   "source": [
    "model_thrust_sm['pos'].summary()"
   ]
  },
  {
   "cell_type": "code",
   "execution_count": null,
   "id": "e4189acd-beba-4882-8579-c2ba23e8a1fd",
   "metadata": {},
   "outputs": [],
   "source": [
    "model_thrust['pos'].coef_"
   ]
  },
  {
   "cell_type": "code",
   "execution_count": null,
   "id": "c68c6124-22f3-4095-bdee-8183051d20cf",
   "metadata": {},
   "outputs": [],
   "source": [
    "model_thrust_sm['neg'].summary()"
   ]
  },
  {
   "cell_type": "code",
   "execution_count": null,
   "id": "4a78f5b7-dadc-481d-af90-fc72af81dde5",
   "metadata": {},
   "outputs": [],
   "source": [
    "model_thrust['neg'].coef_"
   ]
  },
  {
   "cell_type": "code",
   "execution_count": null,
   "id": "9f0155c6-9da7-49fe-bb3a-00e1428956d3",
   "metadata": {},
   "outputs": [],
   "source": [
    "l = model_thrust['neg']\n",
    "l.intercept_"
   ]
  },
  {
   "cell_type": "code",
   "execution_count": null,
   "id": "76425209-1d9e-4c09-9f42-fbc2143c7895",
   "metadata": {},
   "outputs": [],
   "source": [
    "r2_score(y_true=data['thrust'], y_pred=df_result['thrust'])"
   ]
  },
  {
   "cell_type": "code",
   "execution_count": null,
   "id": "5f4fe8f7-3b22-4493-aea5-a236e8c1d6a7",
   "metadata": {},
   "outputs": [],
   "source": [
    "fig,ax=plt.subplots()\n",
    "data.plot(y='w_p', ax=ax)\n",
    "df_result.plot(y='w_p', ax=ax)"
   ]
  },
  {
   "cell_type": "code",
   "execution_count": null,
   "id": "990368fa-1ab9-4c3a-a11e-c32c704e8fe8",
   "metadata": {},
   "outputs": [],
   "source": [
    "fig,ax=plt.subplots()\n",
    "data.plot(y='thrust', ax=ax)\n",
    "df_result.plot(y='thrust', ax=ax)"
   ]
  },
  {
   "cell_type": "code",
   "execution_count": null,
   "id": "01b87522-475e-4a93-81ef-075b3c94134a",
   "metadata": {},
   "outputs": [],
   "source": [
    "#df_test = data.sample(n=int(len(data)*0.2), replace=False, random_state=42)\n",
    "df_test = data.iloc[-int(len(data)*0.2):-1]\n",
    "\n",
    "\n",
    "index_train = list(set(data.index) - set(df_test.index))\n",
    "df_train = data.loc[index_train].copy()\n",
    "\n",
    "fig,ax=plt.subplots()\n",
    "df_train.plot(y='thrust', style='.', ax=ax)\n",
    "df_test.plot(y='thrust', style='.', ax=ax)\n"
   ]
  },
  {
   "cell_type": "code",
   "execution_count": null,
   "id": "1821c93c-34ac-44c2-8a59-c7eb8edf6f5f",
   "metadata": {},
   "outputs": [],
   "source": [
    "len(df_train)"
   ]
  },
  {
   "cell_type": "code",
   "execution_count": null,
   "id": "2739a518-284f-42df-9adc-a2c882b03ae9",
   "metadata": {},
   "outputs": [],
   "source": [
    "len(df_test)"
   ]
  },
  {
   "cell_type": "code",
   "execution_count": null,
   "id": "5b79fda7-35e5-4e6e-ac4d-4f04dc7aeeba",
   "metadata": {},
   "outputs": [],
   "source": [
    "len(data)"
   ]
  },
  {
   "cell_type": "code",
   "execution_count": null,
   "id": "f2582412-897f-4bbe-99ac-b03054a46e49",
   "metadata": {},
   "outputs": [],
   "source": [
    "thrust_model = fit_sm(data=df_train)"
   ]
  },
  {
   "cell_type": "code",
   "execution_count": null,
   "id": "d61c7195-8651-4294-b7f2-76e793a50d16",
   "metadata": {},
   "outputs": [],
   "source": [
    "df_result = predict(model=thrust_model, data=df_test, propeller_coefficients=propeller_coefficients, ship_data=ship_data_)"
   ]
  },
  {
   "cell_type": "code",
   "execution_count": null,
   "id": "4e8a3fde-9af4-4657-9df7-801fe1c6ac8e",
   "metadata": {},
   "outputs": [],
   "source": [
    "r2_score(y_true=df_test['thrust'], y_pred=df_result['thrust'])"
   ]
  },
  {
   "cell_type": "code",
   "execution_count": null,
   "id": "5da98ba2-9d1f-44e2-b3db-0353542bc8d6",
   "metadata": {},
   "outputs": [],
   "source": [
    "from sklearn.model_selection import TimeSeriesSplit"
   ]
  },
  {
   "cell_type": "code",
   "execution_count": null,
   "id": "875c41c4-87cf-400e-aadf-979b418bed5f",
   "metadata": {},
   "outputs": [],
   "source": [
    "time_windows = TimeSeriesSplit(n_splits=10)\n",
    "\n",
    "r2s = []\n",
    "for train_index, test_index in time_windows.split(data):\n",
    "    \n",
    "    df_train = data.loc[train_index]\n",
    "    df_test = data.loc[test_index]\n",
    "    \n",
    "    thrust_model = fit_sm(data=df_train)\n",
    "    df_result = predict(model=thrust_model, data=df_test, propeller_coefficients=propeller_coefficients, ship_data=ship_data_)\n",
    "    r2 = r2_score(y_true=df_test['thrust'], y_pred=df_result['thrust'])\n",
    "    \n",
    "    r2s.append(r2)\n"
   ]
  },
  {
   "cell_type": "code",
   "execution_count": null,
   "id": "dd161595-723e-4429-83fc-0a9344927ddb",
   "metadata": {},
   "outputs": [],
   "source": [
    "r2s"
   ]
  },
  {
   "cell_type": "code",
   "execution_count": null,
   "id": "aa2f1bec-95fa-44dd-b687-6a62198c01e8",
   "metadata": {},
   "outputs": [],
   "source": []
  }
 ],
 "metadata": {
  "citation-manager": {
   "items": {}
  },
  "kernelspec": {
   "display_name": "wPCC_pipeline",
   "language": "python",
   "name": "python3"
  },
  "language_info": {
   "codemirror_mode": {
    "name": "ipython",
    "version": 3
   },
   "file_extension": ".py",
   "mimetype": "text/x-python",
   "name": "python",
   "nbconvert_exporter": "python",
   "pygments_lexer": "ipython3",
   "version": "3.7.9"
  }
 },
 "nbformat": 4,
 "nbformat_minor": 5
}
