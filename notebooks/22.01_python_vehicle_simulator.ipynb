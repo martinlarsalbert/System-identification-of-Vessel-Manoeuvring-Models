{
 "cells": [
  {
   "cell_type": "markdown",
   "id": "6d9dcdf0-3cd4-4653-9645-5854c5849b82",
   "metadata": {},
   "source": [
    "# Python Vechicle Simulator"
   ]
  },
  {
   "cell_type": "code",
   "execution_count": null,
   "id": "6bf584b1-481a-4a91-be96-9b7166f377bc",
   "metadata": {},
   "outputs": [],
   "source": [
    "%load_ext autoreload\n",
    "%autoreload 2\n",
    "%config Completer.use_jedi = False  ## (To fix autocomplete)\n",
    "\n",
    "import matplotlib.pyplot as plt\n",
    "import python_vehicle_simulator as pvs\n",
    "from python_vehicle_simulator import plotVehicleStates, plotControls, simulate\n",
    "import pandas as pd\n",
    "from src.visualization.plot import track_plots, plot, captive_plot\n",
    "import numpy as np\n",
    "from src.prime_system import PrimeSystem\n",
    "from python_vehicle_simulator.vehicles.tanker import tanker"
   ]
  },
  {
   "cell_type": "code",
   "execution_count": null,
   "id": "4c091e63-2c86-4cab-8456-60cbc8909aeb",
   "metadata": {},
   "outputs": [],
   "source": [
    "sampleTime = 1\n",
    "N = 5000"
   ]
  },
  {
   "cell_type": "code",
   "execution_count": null,
   "id": "91f35c09-fbce-4072-b9be-3482ffd1ab24",
   "metadata": {},
   "outputs": [],
   "source": []
  },
  {
   "cell_type": "code",
   "execution_count": null,
   "id": "663244c2-83c9-4faa-ae26-2b3845dd3a2e",
   "metadata": {},
   "outputs": [],
   "source": [
    "class Ship(tanker):\n",
    "    \n",
    "    n = 20\n",
    "    index = np.linspace(0, N*sampleTime, n)\n",
    "    deltas = pd.Series(np.deg2rad(np.linspace(-35, 35, n)), index=index)\n",
    "        \n",
    "    def replay_rudder(self, t):\n",
    "        \n",
    "        i = (self.deltas.index>=t).argmax()\n",
    "        delta = self.deltas.iloc[i]\n",
    "        return np.array([delta], float)\n",
    "        \n",
    "    "
   ]
  },
  {
   "cell_type": "code",
   "execution_count": null,
   "id": "4a1ad72d-b321-48db-8e39-c0865905b449",
   "metadata": {},
   "outputs": [],
   "source": [
    "ship = Ship()"
   ]
  },
  {
   "cell_type": "code",
   "execution_count": null,
   "id": "060670f6-2fd9-46ea-8cb7-c67211c60bda",
   "metadata": {},
   "outputs": [],
   "source": [
    "ship.n_c / 70.0  # propeller shaft speed (rps)\n",
    "ship.controlMode='replay rudder'\n",
    "\n",
    "nu0 = [7,0,0,0,0,0]\n",
    "time, data = simulate(N, sampleTime, ship, nu0=nu0)\n",
    "\n",
    "columns = [\n",
    "'x0', \n",
    "'y0', \n",
    "'z0', \n",
    "'phi', \n",
    "'theta', \n",
    "'psi', \n",
    "'u', \n",
    "'v', \n",
    "'w', \n",
    "'p', \n",
    "'q', \n",
    "'r',\n",
    "'delta_order',\n",
    "'delta']\n",
    "\n",
    "df = pd.DataFrame(index=time.flatten(), data=data, columns=columns)\n"
   ]
  },
  {
   "cell_type": "code",
   "execution_count": null,
   "id": "2d421972-d58b-4d5d-bc9d-c3f5f7f5fc81",
   "metadata": {},
   "outputs": [],
   "source": [
    "track_plots(dataframes={'sim':df}, lpp=ship.L, beam=ship.L/10);"
   ]
  },
  {
   "cell_type": "code",
   "execution_count": null,
   "id": "f172a2db-44f8-4136-a54a-81fd6c9dae61",
   "metadata": {},
   "outputs": [],
   "source": [
    "plot(dataframes={'sim':df});"
   ]
  },
  {
   "cell_type": "code",
   "execution_count": null,
   "id": "df6bf607-f5ce-4d31-b575-75121065c3ac",
   "metadata": {},
   "outputs": [],
   "source": [
    "%reload_kedro\n",
    "\n",
    "dataframes = {\n",
    "#\"raw_data\" : catalog.load(\"tanker.simulation1.raw_data\").loc[1000:2000],\n",
    "\"raw_data\" : catalog.load(\"tanker.simulation1.data\"),\n",
    "    \n",
    "#\"ek\" : catalog.load(\"tanker.initial.simulation1.data_ek_filter\").loc[0:2000],\n",
    "#\"smooth\" : catalog.load(\"tanker.initial.simulation1.data_ek_smooth\"),\n",
    "#\"smooth2\" : catalog.load(\"tanker.updated.simulation1.data_ek_smooth\"),\n",
    "\"true_data\" : catalog.load(\"tanker.simulation1.true_data\"),\n",
    "}\n",
    "\n",
    "styles = {\n",
    "\n",
    "    \"true_data\":{\"style\":'k-'},\n",
    "\n",
    "}\n",
    "\n",
    "ship_data = catalog.load(\"tanker.ship_data\")\n"
   ]
  },
  {
   "cell_type": "code",
   "execution_count": null,
   "id": "e66b0455-f058-4007-9233-5208e20ce8cd",
   "metadata": {},
   "outputs": [],
   "source": [
    "track_plots(dataframes, lpp=ship_data['L'], beam=ship_data['B'], N=10, plot_boats=True)"
   ]
  },
  {
   "cell_type": "code",
   "execution_count": null,
   "id": "9d291c6d-2d1f-4578-9ac9-b629ee328c5b",
   "metadata": {},
   "outputs": [],
   "source": [
    "plot(dataframes);"
   ]
  },
  {
   "cell_type": "code",
   "execution_count": null,
   "id": "9b9d7ba7-3608-4815-a859-1472a44dbe65",
   "metadata": {},
   "outputs": [],
   "source": [
    "%reload_kedro\n",
    "\n",
    "ek = catalog.load(\"tanker.vmm_linear.ek\")\n",
    "ek.parameters['Ydelta']/=30\n",
    "ek.parameters['Ndelta']/=30\n"
   ]
  },
  {
   "cell_type": "code",
   "execution_count": null,
   "id": "02901ce8-0fbe-4694-a59a-827151150e01",
   "metadata": {},
   "outputs": [],
   "source": [
    "{key:value for key,value in ek.parameters.items() if value!=0}"
   ]
  },
  {
   "cell_type": "code",
   "execution_count": null,
   "id": "e0cdd874-0fab-4c40-a655-5238cfa6f8ed",
   "metadata": {},
   "outputs": [],
   "source": [
    "data = dataframes['true_data']\n",
    "data['U'] = np.sqrt(data['u']**2 + data['v']**2)\n",
    "df_sim = ek.simulate(data=data, input_columns=['delta','U'])"
   ]
  },
  {
   "cell_type": "code",
   "execution_count": null,
   "id": "88240228-9e45-40d9-87df-ccac0d1ee3ae",
   "metadata": {},
   "outputs": [],
   "source": [
    "time_window=[0,100]\n",
    "plot({'true_data':data, 'sim':df_sim}, time_window=time_window);"
   ]
  },
  {
   "cell_type": "code",
   "execution_count": null,
   "id": "8624ece9-1b2d-41e1-a383-813bc27cca70",
   "metadata": {},
   "outputs": [],
   "source": [
    "track_plots({'true_data':data, 'sim':df_sim}, lpp=ship_data['L'], beam=ship_data['B'], time_window=time_window, N=10)"
   ]
  },
  {
   "cell_type": "code",
   "execution_count": null,
   "id": "f165c34d-766b-43a0-9f8c-b790b459e8ea",
   "metadata": {},
   "outputs": [],
   "source": [
    "ship_data"
   ]
  }
 ],
 "metadata": {
  "kernelspec": {
   "display_name": "wPCC_pipeline",
   "language": "python",
   "name": "python3"
  },
  "language_info": {
   "codemirror_mode": {
    "name": "ipython",
    "version": 3
   },
   "file_extension": ".py",
   "mimetype": "text/x-python",
   "name": "python",
   "nbconvert_exporter": "python",
   "pygments_lexer": "ipython3",
   "version": "3.7.9"
  }
 },
 "nbformat": 4,
 "nbformat_minor": 5
}
