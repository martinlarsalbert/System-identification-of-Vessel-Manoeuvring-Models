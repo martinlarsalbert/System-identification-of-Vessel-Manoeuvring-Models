{
 "cells": [
  {
   "cell_type": "markdown",
   "id": "6d9dcdf0-3cd4-4653-9645-5854c5849b82",
   "metadata": {},
   "source": [
    "# Python Vechicle Simulator"
   ]
  },
  {
   "cell_type": "code",
   "execution_count": null,
   "id": "6bf584b1-481a-4a91-be96-9b7166f377bc",
   "metadata": {},
   "outputs": [],
   "source": [
    "%load_ext autoreload\n",
    "%autoreload 2\n",
    "%config Completer.use_jedi = False  ## (To fix autocomplete)\n",
    "\n",
    "import matplotlib.pyplot as plt\n",
    "import python_vehicle_simulator as pvs\n",
    "from python_vehicle_simulator import plotVehicleStates, plotControls, simulate\n",
    "import pandas as pd\n",
    "from src.visualization.plot import track_plots, plot, captive_plot\n",
    "import numpy as np\n",
    "from src.prime_system import PrimeSystem"
   ]
  },
  {
   "cell_type": "code",
   "execution_count": null,
   "id": "4c091e63-2c86-4cab-8456-60cbc8909aeb",
   "metadata": {},
   "outputs": [],
   "source": [
    "sampleTime = 1\n",
    "N = 5000"
   ]
  },
  {
   "cell_type": "code",
   "execution_count": null,
   "id": "91f35c09-fbce-4072-b9be-3482ffd1ab24",
   "metadata": {},
   "outputs": [],
   "source": []
  },
  {
   "cell_type": "code",
   "execution_count": null,
   "id": "663244c2-83c9-4faa-ae26-2b3845dd3a2e",
   "metadata": {},
   "outputs": [],
   "source": [
    "class Ship(pvs.vehicles.tanker):\n",
    "    \n",
    "    n = 20\n",
    "    index = np.linspace(0, N*sampleTime, n)\n",
    "    deltas = pd.Series(np.deg2rad(np.linspace(-35, 35, n)), index=index)\n",
    "        \n",
    "    def replay_rudder(self, t):\n",
    "        \n",
    "        i = (self.deltas.index>=t).argmax()\n",
    "        delta = self.deltas.iloc[i]\n",
    "        return np.array([delta], float)\n",
    "        \n",
    "    "
   ]
  },
  {
   "cell_type": "code",
   "execution_count": null,
   "id": "4a1ad72d-b321-48db-8e39-c0865905b449",
   "metadata": {},
   "outputs": [],
   "source": [
    "ship = Ship()"
   ]
  },
  {
   "cell_type": "code",
   "execution_count": null,
   "id": "060670f6-2fd9-46ea-8cb7-c67211c60bda",
   "metadata": {},
   "outputs": [],
   "source": [
    "ship.n_c / 70.0  # propeller shaft speed (rps)\n",
    "ship.controlMode='replay rudder'\n",
    "\n",
    "nu0 = [7,0,0,0,0,0]\n",
    "time, data = simulate(N, sampleTime, ship, nu0=nu0)\n",
    "\n",
    "columns = [\n",
    "'x0', \n",
    "'y0', \n",
    "'z0', \n",
    "'phi', \n",
    "'theta', \n",
    "'psi', \n",
    "'u', \n",
    "'v', \n",
    "'w', \n",
    "'p', \n",
    "'q', \n",
    "'r',\n",
    "'delta_order',\n",
    "'delta']\n",
    "\n",
    "df = pd.DataFrame(index=time.flatten(), data=data, columns=columns)\n"
   ]
  },
  {
   "cell_type": "code",
   "execution_count": null,
   "id": "2d421972-d58b-4d5d-bc9d-c3f5f7f5fc81",
   "metadata": {},
   "outputs": [],
   "source": [
    "track_plots(dataframes={'sim':df}, lpp=ship.L, beam=ship.L/10);"
   ]
  },
  {
   "cell_type": "code",
   "execution_count": null,
   "id": "f172a2db-44f8-4136-a54a-81fd6c9dae61",
   "metadata": {},
   "outputs": [],
   "source": [
    "plot(dataframes={'sim':df});"
   ]
  },
  {
   "cell_type": "code",
   "execution_count": null,
   "id": "df6bf607-f5ce-4d31-b575-75121065c3ac",
   "metadata": {},
   "outputs": [],
   "source": [
    "%reload_kedro\n",
    "\n",
    "index2 = 200\n",
    "\n",
    "dataframes = {\n",
    "#\"raw_data\" : catalog.load(\"tanker.simulation1.raw_data\").loc[1000:2000],\n",
    "\"raw_data\" : catalog.load(\"tanker.simulation1.data\").loc[0:index2],\n",
    "    \n",
    "#\"ek\" : catalog.load(\"tanker.initial.simulation1.data_ek_filter\").loc[0:2000],\n",
    "\"smooth\" : catalog.load(\"tanker.initial.simulation1.data_ek_smooth\").loc[0:index2],\n",
    "\"smooth2\" : catalog.load(\"tanker.updated.simulation1.data_ek_smooth\").loc[0:index2],\n",
    "\"true_data\" : catalog.load(\"tanker.simulation1.true_data\").loc[0:index2],\n",
    "    \n",
    "}\n",
    "\n",
    "styles = {\n",
    "\n",
    "    \"true_data\":{\"style\":'k-'},\n",
    "\n",
    "}\n",
    "\n",
    "ship_data = catalog.load(\"tanker.ship_data\")\n"
   ]
  },
  {
   "cell_type": "code",
   "execution_count": null,
   "id": "e66b0455-f058-4007-9233-5208e20ce8cd",
   "metadata": {},
   "outputs": [],
   "source": [
    "track_plots(dataframes, lpp=ship_data['L'], beam=ship_data['B'], N=10)"
   ]
  },
  {
   "cell_type": "code",
   "execution_count": null,
   "id": "9d291c6d-2d1f-4578-9ac9-b629ee328c5b",
   "metadata": {},
   "outputs": [],
   "source": [
    "plot(dataframes, fig_size=(15,10), styles=styles, keys=['u','v','r','psi']);"
   ]
  },
  {
   "cell_type": "code",
   "execution_count": null,
   "id": "428081a9-cfc7-4d0b-89f0-0c51d2166d10",
   "metadata": {},
   "outputs": [],
   "source": [
    "import sympy as sp\n",
    "from src.symbols import *\n",
    "import inspect\n",
    "\n",
    "\n",
    "x_ = sp.Matrix(\n",
    "        [[sp.cos(psi), - sp.sin(psi)], [sp.sin(psi), sp.cos(psi)]]\n",
    "    )\n",
    "\n",
    "dxdt,dydt = sp.symbols('dxdt dydt')\n",
    "\n",
    "dx = sp.Matrix([[dxdt],[dydt]])\n"
   ]
  },
  {
   "cell_type": "code",
   "execution_count": null,
   "id": "152c475c-6852-4bec-8912-7b1ab93c1a18",
   "metadata": {},
   "outputs": [],
   "source": [
    "x_inv = x_.inv()\n",
    "solution = x_inv*dx"
   ]
  },
  {
   "cell_type": "code",
   "execution_count": null,
   "id": "1dbc3c2d-4374-42d5-aed2-132e8b69caba",
   "metadata": {},
   "outputs": [],
   "source": [
    "eq = solution[1].subs(psi,'psi')\n",
    "eq_lambda = sp.lambdify(list(eq.free_symbols), eq)\n",
    "inspect.getsource(eq_lambda)"
   ]
  },
  {
   "cell_type": "code",
   "execution_count": null,
   "id": "6df96516-a069-4460-bd7e-aa5eb4565380",
   "metadata": {},
   "outputs": [],
   "source": [
    "sp.simplify(x_inv)"
   ]
  },
  {
   "cell_type": "code",
   "execution_count": null,
   "id": "9b9d7ba7-3608-4815-a859-1472a44dbe65",
   "metadata": {},
   "outputs": [],
   "source": []
  }
 ],
 "metadata": {
  "kernelspec": {
   "display_name": "wPCC_pipeline",
   "language": "python",
   "name": "python3"
  },
  "language_info": {
   "codemirror_mode": {
    "name": "ipython",
    "version": 3
   },
   "file_extension": ".py",
   "mimetype": "text/x-python",
   "name": "python",
   "nbconvert_exporter": "python",
   "pygments_lexer": "ipython3",
   "version": "3.7.9"
  }
 },
 "nbformat": 4,
 "nbformat_minor": 5
}
