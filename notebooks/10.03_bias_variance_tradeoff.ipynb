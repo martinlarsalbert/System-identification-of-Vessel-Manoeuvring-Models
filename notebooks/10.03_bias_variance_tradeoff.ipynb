{
 "cells": [
  {
   "cell_type": "markdown",
   "id": "ac64bac3-030e-4044-9852-0f3e0e1fc8fe",
   "metadata": {},
   "source": [
    "# Bias variance trade-off\n",
    "Inpired by: [the-bias-variance-tradeoff](https://towardsdatascience.com/the-bias-variance-tradeoff-8818f41e39e9)"
   ]
  },
  {
   "cell_type": "code",
   "execution_count": null,
   "id": "57f758d9-d5ae-4934-805f-04f101d88df2",
   "metadata": {},
   "outputs": [],
   "source": [
    "import numpy as np\n",
    "import scipy.stats as stats\n",
    "import matplotlib.pyplot as plt\n",
    "%matplotlib inline"
   ]
  },
  {
   "cell_type": "markdown",
   "id": "137aae22-b018-4d10-9453-54c16687dd55",
   "metadata": {},
   "source": [
    "$ f(x) = \\frac{1}{2} \\cdot x + \\sqrt{\\max(x, 0)} - \\cos(x) + 2 $"
   ]
  },
  {
   "cell_type": "code",
   "execution_count": null,
   "id": "fd2db0f5-0852-4e3b-b5b9-25bf8030ab0e",
   "metadata": {},
   "outputs": [],
   "source": [
    "def f(x):\n",
    "    return .5 * x + np.sqrt(np.max(x, 0)) - np.cos(x) + 2\n",
    "\n",
    "N = 1000\n",
    "sigma_epsilon = 1\n",
    "x_max = 3\n",
    "x_test = 3.2\n",
    "x = x_max * (2 * np.random.rand(N) - 1)\n",
    "epsilon = sigma_epsilon * np.random.randn(N)\n",
    "\n",
    "y = f(x) + epsilon\n",
    "y_test = f(x_test) + sigma_epsilon * np.random.randn()\n",
    "\n",
    "plt.figure(figsize=(12, 6))\n",
    "x_range = np.linspace(-x_max, x_max, 1000)\n",
    "plt.scatter(x, y, label='underlying population')\n",
    "plt.plot(x_range, f(x_range), 'r', linewidth=3.0, label='underlying true function $f(x)$')\n",
    "plt.scatter(x_test, y_test, c='m', label='Unseen (test) point')\n",
    "plt.xlabel('x', size=12)\n",
    "plt.ylabel('y', size=12)\n",
    "plt.xticks(np.arange(-x_max, x_max + 1))\n",
    "plt.legend();"
   ]
  },
  {
   "cell_type": "markdown",
   "id": "5665c7de-eb5f-46e4-b865-0951c2559e19",
   "metadata": {},
   "source": [
    "$\\hat{f}(x) = w_0 + w_1 \\cdot x + w_2 \\cdot x^2 + ... +w_d \\cdot x^d$"
   ]
  },
  {
   "cell_type": "code",
   "execution_count": null,
   "id": "0eca2040-8c00-4ffb-a7c3-ef2cf8cc6a3a",
   "metadata": {},
   "outputs": [],
   "source": [
    "def f_hat(x, w):\n",
    "    d = len(w) - 1\n",
    "    return np.sum(w * np.power(x, np.expand_dims(np.arange(d, -1, -1), 1)).T, 1)\n",
    "\n",
    "n = int(.02 * N)\n",
    "x_test = 3.2\n",
    "x_range = np.linspace(-x_max, x_max, 1000)\n",
    "colors = np.array(['tab:green', 'tab:purple', 'tab:cyan', 'tab:orange'])\n",
    "d_arr = [1, 2, 3, 5]\n",
    "\n",
    "cnt = 1\n",
    "fig, axs = plt.subplots(2, 3, sharey=True, figsize=(15, 9))\n",
    "for i in range(2):\n",
    "    for j in range(3):\n",
    "        idx = np.random.permutation(N)[:n]\n",
    "        x_train, y_train = x[idx], y[idx]\n",
    "        \n",
    "        w = []\n",
    "        for d in d_arr:\n",
    "            w.append(np.polyfit(x_train, y_train, d))\n",
    "                \n",
    "        axs[i, j].scatter(x_train, y_train)\n",
    "        axs[i, j].plot(x_range, f(x_range), 'r', linewidth=3.0)\n",
    "        for k in range(len(w)):\n",
    "            axs[i, j].plot(x_range, f_hat(x_range, w[k]), colors[k], linewidth=3.0)\n",
    "            \n",
    "        axs[i, j].scatter(x_test, y_test, c='r')\n",
    "        for k in range(len(w)):\n",
    "            axs[i, j].scatter(x_test, f_hat(x_test, w[k]), c=colors[k])\n",
    "                \n",
    "        axs[i, j].set_xlabel('x', size=12)\n",
    "        axs[i, j].set_ylabel('y', size=12)\n",
    "        axs[i, j].legend([r'$f$', r'$\\hat{f}$ (d = 1)', r'$\\hat{f}$ (d = 2)', \n",
    "                          r'$\\hat{f}$ (d = 3)', r'$\\hat{f}$ (d = 5)'], fontsize=12)\n",
    "        axs[i, j].title.set_text('experiment {}'.format(cnt))\n",
    "        cnt += 1\n",
    "plt.tight_layout()\n",
    "plt.show()"
   ]
  },
  {
   "cell_type": "code",
   "execution_count": null,
   "id": "ea1ab54e-1411-47c1-ad44-09fecf061c14",
   "metadata": {},
   "outputs": [],
   "source": [
    "\n",
    "R = 10000\n",
    "d_arr = [1, 2, 3, 5]\n",
    "y_hat_test = np.zeros((len(d_arr), R))\n",
    "\n",
    "for r in range(R):\n",
    "    n = int(.02 * N)\n",
    "    idx = np.random.permutation(N)[:n]\n",
    "    x_train, y_train = x[idx], y[idx]\n",
    "    \n",
    "    for k in range(len(d_arr)):\n",
    "        d = d_arr[k]\n",
    "        w = np.polyfit(x_train, y_train, d)\n",
    "        y_hat_test[k, r] = f_hat(x_test, w)\n",
    "\n",
    "y_hat_test_mean = np.mean(y_hat_test, 1)\n",
    "y_hat_test_std = np.std(y_hat_test, 1)\n",
    "\n",
    "fig, axs = plt.subplots(2, 1, sharex=True, sharey=True, figsize=(12, 6))\n",
    "for k in range(2):\n",
    "    axs[k].hist(y_hat_test[k], density=True, color=colors[k], alpha=0.6)             \n",
    "    xlim = axs[k].get_xlim()\n",
    "    axs[k].plot([f(x_test), f(x_test)], [0, 1], 'r', linewidth=3.0)\n",
    "    axs[k].plot([y_hat_test_mean[k], y_hat_test_mean[k]], [0, 1], c='k', linewidth=3.0)\n",
    "    axs[k].title.set_text('d = {}'.format(d_arr[k]))\n",
    "    axs[k].legend([r'$f(x_{test})$', r'$\\mathbb{E}[\\hat{f}(x_{test})]$', r'$\\hat{f}(x_{test})$'], fontsize=12)\n",
    "    \n",
    "for k in range(2):\n",
    "    x_range = np.linspace(xlim[0], xlim[1], 1000)\n",
    "    axs[k].plot(x_range, stats.norm.pdf(x_range, y_hat_test_mean[k], y_hat_test_std[k]), color=colors[k], ls='--')\n",
    "    \n",
    "plt.suptitle(r'Histogram of $\\hat{f}(x_{test})$', size=12)\n",
    "plt.show()"
   ]
  },
  {
   "cell_type": "code",
   "execution_count": null,
   "id": "6273ebe7-abcb-4441-ad39-3e145ad79c59",
   "metadata": {},
   "outputs": [],
   "source": [
    "R = 10000\n",
    "n = int(.02 * N)\n",
    "n_test = 1000\n",
    "d_arr = np.arange(5)\n",
    "\n",
    "x_test = x_max + np.random.rand(n_test) - .5  # shape: (n_test,)\n",
    "epsilon = sigma_epsilon * np.random.randn(n_test)  # shape: (n_test,)\n",
    "y_test = f(x_test) + epsilon  # shape: (n_test,)\n",
    "\n",
    "train_squared_error = np.zeros((len(d_arr), R))  # shape: (len(d_arr), R)\n",
    "y_hat_test = np.zeros((len(d_arr), R, n_test))  # shape: (len(d_arr), R, n_test)\n",
    "for r in range(R):\n",
    "    n = int(.02 * N)\n",
    "    idx = np.random.permutation(N)[:n]\n",
    "    x_train, y_train = x[idx], y[idx]  # shape: (n,), (n,)\n",
    "    for k in range(len(d_arr)):\n",
    "        d = d_arr[k]\n",
    "        w = np.polyfit(x_train, y_train, d)\n",
    "        train_squared_error[k, r] = np.mean((y_train - f_hat(x_train, w)) ** 2)  # train MSE for a specific realization\n",
    "        y_hat_test[k, r, :] = f_hat(x_test, w)  # test set predictions for a specific realization\n",
    "\n",
    "test_squared_error = np.mean((y_hat_test - y_test) ** 2, 1)  # shape: (len(d_arr), n_test)\n",
    "bias_squared = (np.mean(y_hat_test, 1) - f(x_test)) ** 2  # shape: (len(d_arr), n_test)\n",
    "var_y_hat_test = np.var(y_hat_test, 1)  # shape: (len(d_arr), n_test)\n",
    "\n",
    "plt.figure(figsize=(12, 8))\n",
    "plt.plot(d_arr, np.mean(test_squared_error, 1), 'g', linewidth=3.0)  # np.mean(test_squared_error, 1) shape: (len(d_arr),)\n",
    "plt.plot(d_arr, np.mean(train_squared_error, 1), 'k', linewidth=3.0)  # np.mean(train_squared_error, 1) shape: (len(d_arr),)\n",
    "plt.plot(d_arr, np.mean(bias_squared, 1), 'y--')  # np.mean(bias_squared, 1) shape: (len(d_arr),)\n",
    "plt.plot(d_arr, np.mean(var_y_hat_test, 1), 'b--')  # np.mean(var_y_hat_test, 1) shape: (len(d_arr),)\n",
    "plt.plot(d_arr, (sigma_epsilon ** 2) * np.ones_like(d_arr), 'r--')\n",
    "# plt.plot(d_arr, np.mean(bias_squared + var_y_hat_test + sigma_epsilon ** 2, 1), 'm--')\n",
    "plt.xticks(d_arr)\n",
    "plt.xlabel('d', size=12)\n",
    "plt.legend(['test error', 'training error', r'bias squared: $(\\mathbb{E}[\\hat{f}(x)] - f(x))^2$',\n",
    "            r'$var(\\hat{f}(x))$', r'irreducible error: $\\sigma_\\epsilon^2$'], loc='upper center', fontsize=12)\n",
    "plt.ylim([0, 12])\n",
    "plt.show();"
   ]
  },
  {
   "cell_type": "code",
   "execution_count": null,
   "id": "ce46010c-54d2-4a6e-a69e-db652c7ecd10",
   "metadata": {},
   "outputs": [],
   "source": []
  }
 ],
 "metadata": {
  "kernelspec": {
   "display_name": "wPCC_pipeline",
   "language": "python",
   "name": "python3"
  },
  "language_info": {
   "codemirror_mode": {
    "name": "ipython",
    "version": 3
   },
   "file_extension": ".py",
   "mimetype": "text/x-python",
   "name": "python",
   "nbconvert_exporter": "python",
   "pygments_lexer": "ipython3",
   "version": "3.7.9"
  }
 },
 "nbformat": 4,
 "nbformat_minor": 5
}
