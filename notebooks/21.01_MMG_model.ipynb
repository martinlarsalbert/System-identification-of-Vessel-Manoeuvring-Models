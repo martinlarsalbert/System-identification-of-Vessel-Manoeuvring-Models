{
 "cells": [
  {
   "cell_type": "markdown",
   "id": "cdbd9315-5028-4325-b64f-e88015567dde",
   "metadata": {},
   "source": [
    "# MMG model"
   ]
  },
  {
   "cell_type": "code",
   "execution_count": null,
   "id": "a74cb814-385b-40ed-9de9-0daab83dac7a",
   "metadata": {},
   "outputs": [],
   "source": [
    "%%time\n",
    "# %load imports.py\n",
    "%load_ext autoreload\n",
    "%autoreload 2\n",
    "%config Completer.use_jedi = False  ## (To fix autocomplete)\n",
    "\n",
    "import pandas as pd\n",
    "from src.models.vmm import ModelSimulator\n",
    "import matplotlib.pyplot as plt\n",
    "import matplotlib\n",
    "\n",
    "import sympy as sp\n",
    "from src.symbols import *\n",
    "\n",
    "#import src.models.MMG_rudder as rudder\n",
    "from src.models.MMG_rudder import *\n",
    "from src.models.MMG_propeller import *\n",
    "\n",
    "#from src.models.vmm_MMG import *\n",
    "from src.substitute_dynamic_symbols import run\n",
    "from src.prime_system import PrimeSystem"
   ]
  },
  {
   "cell_type": "code",
   "execution_count": null,
   "id": "3d8cd46e-f10c-45da-a4f8-a40eb0e7b3ef",
   "metadata": {},
   "outputs": [],
   "source": [
    "from src.models.MMG_hull import *"
   ]
  },
  {
   "cell_type": "markdown",
   "id": "19487631-b7c1-4239-8cb7-9fdbe2837171",
   "metadata": {
    "tags": []
   },
   "source": [
    "## Propeller"
   ]
  },
  {
   "cell_type": "code",
   "execution_count": null,
   "id": "71dc8e23-9712-4479-b010-732b971a6644",
   "metadata": {},
   "outputs": [],
   "source": [
    "eq_Xp"
   ]
  },
  {
   "cell_type": "code",
   "execution_count": null,
   "id": "a29afcef-3c2a-44e7-9f84-058ef30e56b3",
   "metadata": {},
   "outputs": [],
   "source": [
    "eq_T"
   ]
  },
  {
   "cell_type": "code",
   "execution_count": null,
   "id": "4764f615-fec1-46fb-a261-5cd2ce71c88d",
   "metadata": {},
   "outputs": [],
   "source": [
    "eq_K_T"
   ]
  },
  {
   "cell_type": "code",
   "execution_count": null,
   "id": "32536de9-11dd-46b7-9a0c-499cd3a66ecf",
   "metadata": {},
   "outputs": [],
   "source": [
    "eq_J"
   ]
  },
  {
   "cell_type": "code",
   "execution_count": null,
   "id": "cd94dee7-231c-4e9c-99ac-6681edef406c",
   "metadata": {},
   "outputs": [],
   "source": [
    "eq_w_p"
   ]
  },
  {
   "cell_type": "code",
   "execution_count": null,
   "id": "966d231b-5a2a-4d5c-beb8-0b8951142969",
   "metadata": {},
   "outputs": [],
   "source": [
    "X_P_solution[0][X_P]"
   ]
  },
  {
   "cell_type": "code",
   "execution_count": null,
   "id": "d5e107d5-7e65-46ad-9cfb-87daece62db5",
   "metadata": {},
   "outputs": [],
   "source": [
    "X_P_solution[0][K_T]"
   ]
  },
  {
   "cell_type": "markdown",
   "id": "af02d2c6-04c2-48e8-8ada-95aaa34888f8",
   "metadata": {},
   "source": [
    "## Rudder"
   ]
  },
  {
   "cell_type": "code",
   "execution_count": null,
   "id": "88740dc1-9c91-4e76-a91b-315e67cb0738",
   "metadata": {},
   "outputs": [],
   "source": [
    "eq_F_N"
   ]
  },
  {
   "cell_type": "code",
   "execution_count": null,
   "id": "90b99a5c-aa7d-47ed-9fe5-0c5a74419c89",
   "metadata": {},
   "outputs": [],
   "source": [
    "eq_U_R"
   ]
  },
  {
   "cell_type": "code",
   "execution_count": null,
   "id": "6a32c963-80a8-4c89-9125-aee779079535",
   "metadata": {},
   "outputs": [],
   "source": [
    "eq_alpha_R"
   ]
  },
  {
   "cell_type": "code",
   "execution_count": null,
   "id": "65625c8f-f062-49d3-b7ff-2d6ca80928f7",
   "metadata": {},
   "outputs": [],
   "source": [
    "eq_v_R"
   ]
  },
  {
   "cell_type": "code",
   "execution_count": null,
   "id": "678b0662-2819-4269-921a-785162288a04",
   "metadata": {},
   "outputs": [],
   "source": [
    "eq_beta_R"
   ]
  },
  {
   "cell_type": "code",
   "execution_count": null,
   "id": "aad03c14-f390-4f6f-b73a-289d5fd905f5",
   "metadata": {},
   "outputs": [],
   "source": [
    "eq_u_R"
   ]
  },
  {
   "cell_type": "code",
   "execution_count": null,
   "id": "f432c6ee-5440-4d7b-9c28-af0ec0dea688",
   "metadata": {},
   "outputs": [],
   "source": [
    "eq_v_R"
   ]
  },
  {
   "cell_type": "code",
   "execution_count": null,
   "id": "03d0ca83-10be-4694-9131-8037e1e09abc",
   "metadata": {},
   "outputs": [],
   "source": [
    "eq_alpha_R"
   ]
  },
  {
   "cell_type": "code",
   "execution_count": null,
   "id": "4be25506-6b04-40f3-b022-06f402f8dfe8",
   "metadata": {},
   "outputs": [],
   "source": [
    "eq_U_R"
   ]
  },
  {
   "cell_type": "code",
   "execution_count": null,
   "id": "5aaa75a0-d963-43e1-bafa-c6b7ef5a362f",
   "metadata": {},
   "outputs": [],
   "source": [
    "eq_F_N"
   ]
  },
  {
   "cell_type": "code",
   "execution_count": null,
   "id": "011d2bcc-b966-48e2-a4c6-16fbb9b4865c",
   "metadata": {},
   "outputs": [],
   "source": [
    "eq_f_alpha"
   ]
  },
  {
   "cell_type": "markdown",
   "id": "e576fc44-c210-4507-b6a2-daade364e3c7",
   "metadata": {},
   "source": [
    "## Implementation"
   ]
  },
  {
   "cell_type": "code",
   "execution_count": null,
   "id": "f0bb933d-056b-4ec8-acd3-2257a055ada9",
   "metadata": {},
   "outputs": [],
   "source": [
    "lambda_X_P = sp.lambdify(list(X_P_solution[0][X_P].free_symbols), X_P_solution[0][X_P])\n",
    "\n",
    "lambda_X_R = sp.lambdify(list(X_R_solution.rhs.free_symbols), X_R_solution.rhs)\n",
    "lambda_Y_R = sp.lambdify(list(Y_R_solution.rhs.free_symbols), Y_R_solution.rhs)\n",
    "lambda_N_R = sp.lambdify(list(N_R_solution.rhs.free_symbols), N_R_solution.rhs)\n",
    "K_T_solution = X_P_solution[0][K_T]\n",
    "lambda_K_T = sp.lambdify(list(K_T_solution.free_symbols), K_T_solution)\n",
    "w_p_solution = X_P_solution[0][w_p]\n",
    "lambda_w_p = sp.lambdify(list(w_p_solution.free_symbols), w_p_solution)\n",
    "lambda_beta_p = sp.lambdify(list(eq_beta_p.rhs.free_symbols), eq_beta_p.rhs)\n",
    "\n",
    "lambda_thrust = sp.lambdify(list(X_P_solution[0][thrust].free_symbols), X_P_solution[0][thrust])"
   ]
  },
  {
   "cell_type": "code",
   "execution_count": null,
   "id": "21d113a9-aced-49a1-9cf2-beea29be2c9a",
   "metadata": {},
   "outputs": [],
   "source": [
    "lambda_K_T"
   ]
  },
  {
   "cell_type": "code",
   "execution_count": null,
   "id": "a4defffb-9a72-409c-82ab-016fd3eb1e73",
   "metadata": {},
   "outputs": [],
   "source": [
    "lambda_K_T"
   ]
  },
  {
   "cell_type": "code",
   "execution_count": null,
   "id": "b1599efe-8995-4bcd-adb5-b31ef7b29b40",
   "metadata": {},
   "outputs": [],
   "source": [
    "lambda_X_R"
   ]
  },
  {
   "cell_type": "code",
   "execution_count": null,
   "id": "7f47a64d-753b-491a-8a7f-bdcce8304116",
   "metadata": {},
   "outputs": [],
   "source": [
    "lambda_w_p"
   ]
  },
  {
   "cell_type": "code",
   "execution_count": null,
   "id": "d4806f31-e151-493f-80cd-d610cee20bfc",
   "metadata": {},
   "outputs": [],
   "source": [
    "%reload_kedro\n",
    "derivatives = catalog.load(\"kvlcc2.derivatives\")\n",
    "ship_data = catalog.load(\"kvlcc2.ship_data\")\n",
    "propeller_coefficients = catalog.load(\"kvlcc2.propeller_coefficients_captive\")\n",
    "open_water_characteristics = catalog.load(\"kvlcc2.open_water_characteristics_captive\")\n",
    "ship_data['w_p0'] = 0\n",
    "ship_data['tdf'] = 0\n",
    "\n",
    "#propeller_coefficients = {key:10*value for key,value in propeller_coefficients.items()}"
   ]
  },
  {
   "cell_type": "code",
   "execution_count": null,
   "id": "47ad8a81-d86f-4cf3-bba1-065f2402e8ec",
   "metadata": {},
   "outputs": [],
   "source": [
    "ship_data"
   ]
  },
  {
   "cell_type": "code",
   "execution_count": null,
   "id": "9056b6d1-c0cc-4b89-814d-6f8858308adc",
   "metadata": {},
   "outputs": [],
   "source": [
    "derivatives"
   ]
  },
  {
   "cell_type": "markdown",
   "id": "cca0a78a-a843-4c4e-afab-4fc0f323ea66",
   "metadata": {},
   "source": [
    "### Propeller"
   ]
  },
  {
   "cell_type": "code",
   "execution_count": null,
   "id": "201d8700-3ce0-4172-b88a-04aae73b695d",
   "metadata": {},
   "outputs": [],
   "source": [
    "lambda_X_P"
   ]
  },
  {
   "cell_type": "code",
   "execution_count": null,
   "id": "ab39e238-9f6b-4d1f-96eb-8c552bcf0094",
   "metadata": {},
   "outputs": [],
   "source": [
    "df_ = pd.DataFrame()\n",
    "J_ = open_water_characteristics.index\n",
    "n_ = 1.0\n",
    "D_ = ship_data['D']\n",
    "w0_ = ship_data['w_p0']\n",
    "rho_ = 1000\n",
    "tdf_ = ship_data['tdf']\n",
    "df_['J'] = J_\n",
    "df_['u'] = J_*n_*D_/(1-w0_)\n",
    "df_['v'] = 0\n",
    "df_['r'] = 0\n",
    "df_['rev'] = n_\n",
    "df_['U'] = np.sqrt(df_['u']**2 + df_['v']**2)\n",
    "\n",
    "df_['beta'] = -np.arctan2(df_['v'], df_['u'])\n",
    "ps = PrimeSystem(**ship_data)\n",
    "xp_prime = ps._prime(\n",
    "    ship_data[\"x_p\"],\n",
    "    unit=\"length\",\n",
    ")\n",
    "r_prime = ps._prime(df_['r'], unit=\"angular_velocity\", U=df_[\"U\"])\n",
    "df_['beta_p'] = df_['beta'] - xp_prime * r_prime\n",
    "\n",
    "\n",
    "df_['C_2'] = np.where(df_['beta_p'] > 0, ship_data[\"C_2_beta_p_pos\"], ship_data[\"C_2_beta_p_neg\"])\n",
    "df_.set_index('J', inplace=True)"
   ]
  },
  {
   "cell_type": "code",
   "execution_count": null,
   "id": "74ddf5ff-9ba1-47c1-925f-b81d266a20e8",
   "metadata": {},
   "outputs": [],
   "source": [
    "df_['fx'] = run(function=lambda_X_P, inputs=df_, **ship_data, **propeller_coefficients)"
   ]
  },
  {
   "cell_type": "code",
   "execution_count": null,
   "id": "faf9c5f0-f4b8-4b22-9380-7e16662e95b7",
   "metadata": {},
   "outputs": [],
   "source": [
    "propeller_coefficients"
   ]
  },
  {
   "cell_type": "code",
   "execution_count": null,
   "id": "0f35083a-bb48-4a04-8180-db0005ca52dc",
   "metadata": {},
   "outputs": [],
   "source": [
    "df_['Kt'] = df_['fx'] / ((1 - ship_data['tdf']) * rho_ * n_ ** 2 * D_ ** 4)\n",
    "\n",
    "fig,ax=plt.subplots()\n",
    "open_water_characteristics.plot(y='Kt', label='propeller characteristics', ax=ax)\n",
    "df_.plot(y='Kt', ax=ax)"
   ]
  },
  {
   "cell_type": "markdown",
   "id": "1c5d0a72-9587-443d-95e0-9a97d043f78b",
   "metadata": {},
   "source": [
    "### Rudder"
   ]
  },
  {
   "cell_type": "code",
   "execution_count": null,
   "id": "6c1df5c7-1c24-4add-9670-261c8762e1d4",
   "metadata": {},
   "outputs": [],
   "source": [
    "%reload_kedro\n",
    "captive = catalog.load(\"kvlcc2.captive\")"
   ]
  },
  {
   "cell_type": "code",
   "execution_count": null,
   "id": "75bc381b-6367-423a-b1e5-dcbc61edfdca",
   "metadata": {},
   "outputs": [],
   "source": [
    "captive.tail()"
   ]
  },
  {
   "cell_type": "code",
   "execution_count": null,
   "id": "eb2be93d-c63f-4afd-ae62-86819de968cc",
   "metadata": {},
   "outputs": [],
   "source": [
    "df_rudder = captive.groupby(by='test type').get_group('rudder angle')\n",
    "fig,ax=plt.subplots()\n",
    "for V_, group in df_rudder.groupby(by='V'):\n",
    "    group.sort_values(by='delta').plot(x='delta', y='fy', style='.-', ax=ax)"
   ]
  },
  {
   "cell_type": "code",
   "execution_count": null,
   "id": "1ef5933c-a910-474a-b3a0-3e7bf9649e0c",
   "metadata": {},
   "outputs": [],
   "source": [
    "%reload_kedro\n",
    "ship_data = catalog.load(\"kvlcc2.ship_data\")\n",
    "ship_data.pop('C_2_beta_p_pos')\n",
    "ship_data.pop('C_2_beta_p_neg')\n"
   ]
  },
  {
   "cell_type": "code",
   "execution_count": null,
   "id": "18188889-11cd-43b7-9bfc-95e43d75ef2b",
   "metadata": {},
   "outputs": [],
   "source": [
    "J_solution = X_P_solution[0][J]\n",
    "lambda_J = sp.lambdify(list(J_solution.free_symbols), J_solution)\n",
    "lambda_Lambda = sp.lambdify(list(eq_Lambda.rhs.free_symbols), eq_Lambda.rhs)\n",
    "lambda_beta_R = sp.lambdify(list(eq_beta_R.rhs.free_symbols), eq_beta_R)\n",
    "lambda_C_Th = sp.lambdify(list(eq_C_Th1.rhs.free_symbols),eq_C_Th1.rhs)"
   ]
  },
  {
   "cell_type": "code",
   "execution_count": null,
   "id": "42c5f592-7906-4881-88a5-faec6be96eae",
   "metadata": {},
   "outputs": [],
   "source": [
    "#df_input = captive.drop(columns=['rev'])\n",
    "#df_input = ps.prime(df_input, U=captive['V'])\n",
    "df_input=captive.copy()\n",
    "df_input['U'] = df_input['V']\n",
    "xp_prime = ps._prime(\n",
    "    ship_data[\"x_p\"],\n",
    "    unit=\"length\",\n",
    ")\n",
    "r_prime = ps._prime(df_input['r'], unit=\"angular_velocity\", U=df_input[\"V\"])\n",
    "df_input['beta_p'] = df_input['beta'] - xp_prime * r_prime\n",
    "\n",
    "\n",
    "df_input['C_2'] = np.where(df_input['beta_p'] >= 0, derivatives[\"C_2_beta_p_pos\"], derivatives[\"C_2_beta_p_neg\"])\n",
    "df_input['w_p'] = run(function=lambda_w_p, inputs=df_input, **ship_data, **propeller_coefficients)\n",
    "df_input['J'] = run(function=lambda_J, inputs=df_input, **ship_data, **propeller_coefficients)\n",
    "df_input['K_T'] = run(function=lambda_K_T, inputs=df_input, **ship_data, **propeller_coefficients)\n",
    "df_input['gamma_R'] = np.where(df_input['beta_p'] >= 0, derivatives[\"gamma_R_B_R_pos\"], derivatives[\"gamma_R_B_R_neg\"])\n",
    "df_input['Lambda'] = run(function=lambda_Lambda, inputs=ship_data)\n",
    "r_prime = ps._prime(df_input['r'], unit='angular_velocity', U=df_input['U'])\n",
    "df_input['beta_R'] = lambda_beta_R(l_R=derivatives['l_R'], r=r_prime, beta=df_input['beta'])\n",
    "df_input['C_Th'] = run(function=lambda_C_Th, inputs=df_input, **ship_data)\n",
    "df_input['thrust'] = run(function=lambda_thrust, inputs=df_input, **ship_data, **propeller_coefficients, **derivatives)"
   ]
  },
  {
   "cell_type": "code",
   "execution_count": null,
   "id": "dfc5c486-ce85-4e52-888f-e2045ea232e3",
   "metadata": {},
   "outputs": [],
   "source": [
    "df_input['X_R'] = run(function=lambda_X_R, inputs=df_input, **ship_data, **propeller_coefficients, **derivatives)\n",
    "df_input['Y_R'] = run(function=lambda_Y_R, inputs=df_input, **ship_data, **propeller_coefficients, **derivatives)\n",
    "df_input['N_R'] = run(function=lambda_N_R, inputs=df_input, **ship_data, **propeller_coefficients, **derivatives)\n",
    "df_input['X_P'] = run(function=lambda_X_P, inputs=df_input, **ship_data, **propeller_coefficients)"
   ]
  },
  {
   "cell_type": "code",
   "execution_count": null,
   "id": "0f2d730a-0d9d-46e1-bc6c-e3e4159774c2",
   "metadata": {},
   "outputs": [],
   "source": [
    "fig,ax=plt.subplots()\n",
    "for V_, group in df_input.groupby(by='V'):\n",
    "    group.sort_values(by='delta').plot(x='delta', y='Y_R', style='.-', ax=ax)"
   ]
  },
  {
   "cell_type": "code",
   "execution_count": null,
   "id": "fa2e4c5f-8ccd-424c-96a2-5f01a819117c",
   "metadata": {},
   "outputs": [],
   "source": [
    "fig,ax=plt.subplots()\n",
    "for V_, group in df_rudder.groupby(by='V'):\n",
    "    group.sort_values(by='delta').plot(x='delta', y='Y_R', style='.-', ax=ax)"
   ]
  },
  {
   "cell_type": "markdown",
   "id": "c62f8067-469c-4032-aa55-a188a818a125",
   "metadata": {},
   "source": [
    "## Hull"
   ]
  },
  {
   "cell_type": "code",
   "execution_count": null,
   "id": "e2557302-3747-428d-887f-8f307a6174d5",
   "metadata": {},
   "outputs": [],
   "source": [
    "eq_X_H"
   ]
  },
  {
   "cell_type": "code",
   "execution_count": null,
   "id": "f7e27756-e9de-4639-bfa7-daff794a8408",
   "metadata": {},
   "outputs": [],
   "source": [
    "subs = {value: key for key, value in p.items()}\n",
    "eq = eq_X_H.rhs.subs(subs)\n",
    "lambda_X_H = sp.lambdify(list(eq.free_symbols), eq)\n",
    "eq = eq_Y_H.rhs.subs(subs)\n",
    "lambda_Y_H = sp.lambdify(list(eq.free_symbols), eq)\n",
    "eq = eq_N_H.rhs.subs(subs)\n",
    "lambda_N_H = sp.lambdify(list(eq.free_symbols), eq)"
   ]
  },
  {
   "cell_type": "code",
   "execution_count": null,
   "id": "7a605c4b-a0e4-4a1b-ac0b-b8597c98eae0",
   "metadata": {},
   "outputs": [],
   "source": [
    "#df_input = captive.groupby(by='test type').get_group('drift angle').copy()\n",
    "df_input_prime = ps.prime(df_input[['u','v','r']], U=df_input['V'])"
   ]
  },
  {
   "cell_type": "code",
   "execution_count": null,
   "id": "e092a3b1-afb3-47c0-ab2c-f223f302ba20",
   "metadata": {},
   "outputs": [],
   "source": [
    "df_input_prime['X_H'] = run(function=lambda_X_H, inputs=df_input_prime, **derivatives)\n",
    "df_input_prime['Y_H'] = run(function=lambda_Y_H, inputs=df_input_prime, **derivatives)\n",
    "df_input_prime['N_H'] = run(function=lambda_N_H, inputs=df_input_prime, **derivatives)"
   ]
  },
  {
   "cell_type": "code",
   "execution_count": null,
   "id": "ff35f4d1-7600-4356-ad59-0a4ae074234f",
   "metadata": {},
   "outputs": [],
   "source": [
    "df_result = df_input.copy()\n",
    "df_result['X_H'] = ps._unprime(df_input_prime['X_H'], unit='force', U=df_input['V'])\n",
    "df_result['Y_H'] = ps._unprime(df_input_prime['Y_H'], unit='force', U=df_input['V'])\n",
    "df_result['N_H'] = ps._unprime(df_input_prime['N_H'], unit='moment', U=df_input['V'])"
   ]
  },
  {
   "cell_type": "code",
   "execution_count": null,
   "id": "c15f5f93-eb32-4aab-800e-e9ac28ad9aae",
   "metadata": {},
   "outputs": [],
   "source": [
    "df_result['fx'] = df_result['X_H'] + df_result['X_R'] + df_result['X_P']\n",
    "df_result['fy'] = df_result['Y_H'] + df_result['Y_R']\n",
    "df_result['mz'] = df_result['N_H'] + df_result['N_R']"
   ]
  },
  {
   "cell_type": "code",
   "execution_count": null,
   "id": "8540cdfd-2725-48c9-9b12-72245c015a38",
   "metadata": {},
   "outputs": [],
   "source": [
    "df_result['test type'].unique()"
   ]
  },
  {
   "cell_type": "code",
   "execution_count": null,
   "id": "132dbe55-8b17-4bd5-afa9-39d4d4921c58",
   "metadata": {},
   "outputs": [],
   "source": [
    "def plotter(group_, x, ax):\n",
    "    \n",
    "    plot = group_.sort_values(by=x).plot(x=x, y=dof, label=f\"model V:{np.round(speed,1)} m/s\", ax=ax)\n",
    "    color = plot.axes.lines[-1].get_color()\n",
    "    captive.loc[group_.index].sort_values(by=x).plot(x=x, y=dof, style=':o', color=color, label=f\"PMM V:{np.round(speed,1)} m/s\", ax=ax)\n",
    "    ax.get_legend().set_visible(False)\n",
    "\n",
    "xs = {'rudder angle':'delta',\n",
    "     'drift angle':'beta',\n",
    "      'drift + rudder angle':'delta + beta',\n",
    "     }\n",
    "\n",
    "df_result['delta + beta'] = df_result['delta'] + df_result['beta']\n",
    "captive['delta + beta'] = captive['delta'] + captive['beta']\n",
    "\n",
    "for test_type, group in df_result.groupby('test type'):\n",
    "    \n",
    "    fig,axes=plt.subplots(ncols=5)\n",
    "    fig.set_size_inches(20,6)\n",
    "    \n",
    "    axes[0].plot([],'k-')\n",
    "    axes[0].plot([],'k:o')\n",
    "        \n",
    "    for ax, dof in zip(axes, ['fx','fy','mz','Y_R','thrust']):\n",
    "        \n",
    "        for speed, group_ in group.groupby(by='V'):\n",
    "            x = xs[test_type]\n",
    "            if x=='beta':\n",
    "                plotter(group_, x, ax)\n",
    "            else:\n",
    "                for _, group__ in group_.groupby(by='beta'):\n",
    "                    plotter(group__, x, ax)\n",
    "                        \n",
    "            \n",
    "            ax.set_title(dof)\n",
    "    fig.suptitle(test_type)\n",
    "            \n",
    "    axes[0].legend(['model','PMM'])\n",
    "    \n",
    "        "
   ]
  },
  {
   "cell_type": "code",
   "execution_count": null,
   "id": "c428cadc-909d-4739-b626-2fe57af2ebf1",
   "metadata": {},
   "outputs": [],
   "source": [
    "eq_w_p"
   ]
  },
  {
   "cell_type": "code",
   "execution_count": null,
   "id": "4753eaab-8f7f-4132-b242-c7bf3c0201f2",
   "metadata": {},
   "outputs": [],
   "source": [
    "eq_u_R"
   ]
  },
  {
   "cell_type": "markdown",
   "id": "1100294f-1e16-423b-97d8-e5853e43647b",
   "metadata": {},
   "source": [
    "## Regression"
   ]
  },
  {
   "cell_type": "code",
   "execution_count": null,
   "id": "e17371a2-6a0d-47f7-b259-fd0195002784",
   "metadata": {},
   "outputs": [],
   "source": [
    "from wPCC_pipeline.pipelines.force_regression.nodes import fit_forces"
   ]
  },
  {
   "cell_type": "code",
   "execution_count": null,
   "id": "71e9a3e1-3cbe-4413-919b-cf92809abd5a",
   "metadata": {},
   "outputs": [],
   "source": [
    "%reload_kedro\n",
    "vmm_name = 'vmm_martin'\n",
    "vmm = catalog.load(vmm_name)\n",
    "added_masses = catalog.load('kvlcc2.added_masses')\n",
    "exclude_parameters = catalog.load(\"params:kvlcc2.motion_regression.exclude_parameters\")"
   ]
  },
  {
   "cell_type": "code",
   "execution_count": null,
   "id": "e1bc95b8-3d06-43c1-86ce-ae775157a1d0",
   "metadata": {},
   "outputs": [],
   "source": [
    "#regression, parameters = fit_forces(data=captive, added_masses=added_masses, ship_data=ship_data, vmm=vmm, exclude_parameters = exclude_parameters)\n",
    "regression, parameters = fit_forces(data=captive, added_masses=added_masses, ship_data=ship_data, vmm=vmm)"
   ]
  },
  {
   "cell_type": "code",
   "execution_count": null,
   "id": "ad2284a8-35c0-4688-a49d-6ca538839983",
   "metadata": {},
   "outputs": [],
   "source": [
    "regression.plot_pred_X()"
   ]
  },
  {
   "cell_type": "code",
   "execution_count": null,
   "id": "d4997adc-4179-49dc-b629-ce2f51f8164b",
   "metadata": {},
   "outputs": [],
   "source": [
    "regression.plot_pred_Y()"
   ]
  },
  {
   "cell_type": "code",
   "execution_count": null,
   "id": "ae9a4f53-a6f8-42d7-94f1-0d141f678033",
   "metadata": {},
   "outputs": [],
   "source": [
    "regression.plot_pred_N()"
   ]
  },
  {
   "cell_type": "code",
   "execution_count": null,
   "id": "207181a4-9d94-4129-86e5-f82f044c6a80",
   "metadata": {},
   "outputs": [],
   "source": [
    "regression.results_summary_Y()"
   ]
  },
  {
   "cell_type": "code",
   "execution_count": null,
   "id": "199f7948-5737-4079-b9c6-de341b70e5ec",
   "metadata": {},
   "outputs": [],
   "source": [
    "%reload_kedro\n",
    "motion_regression = catalog.load(f\"kvlcc2.{ vmm_name }.joined.model\")"
   ]
  },
  {
   "cell_type": "code",
   "execution_count": null,
   "id": "aa501a9e-991e-4491-856b-c01c0484ecd0",
   "metadata": {},
   "outputs": [],
   "source": [
    "df_parameters = pd.DataFrame()\n",
    "df_parameters['motion regression'] = motion_regression.parameters\n",
    "df_parameters['PMM'] = regression.parameters['regressed']\n",
    "mask = (df_parameters.index.str.contains('r')) & ~(df_parameters.index.str.contains('thrust')) | (df_parameters.index.str.contains('dot'))\n",
    "df_parameters = df_parameters.loc[~mask].copy()"
   ]
  },
  {
   "cell_type": "code",
   "execution_count": null,
   "id": "2a67700c-c9b6-458c-9f28-a12306629e03",
   "metadata": {},
   "outputs": [],
   "source": [
    "fig,ax=plt.subplots()\n",
    "fig.set_size_inches(15,6)\n",
    "df_parameters.plot.bar(ax=ax)"
   ]
  },
  {
   "cell_type": "code",
   "execution_count": null,
   "id": "093c31c7-0ddb-4d16-be75-235f6fbdaa9f",
   "metadata": {},
   "outputs": [],
   "source": [
    "df_parameters.loc['Xthrust','PMM']"
   ]
  },
  {
   "cell_type": "code",
   "execution_count": null,
   "id": "f2a88e92-b490-4665-8b32-be070cfd0bf2",
   "metadata": {},
   "outputs": [],
   "source": []
  }
 ],
 "metadata": {
  "kernelspec": {
   "display_name": "wPCC_pipeline",
   "language": "python",
   "name": "python3"
  },
  "language_info": {
   "codemirror_mode": {
    "name": "ipython",
    "version": 3
   },
   "file_extension": ".py",
   "mimetype": "text/x-python",
   "name": "python",
   "nbconvert_exporter": "python",
   "pygments_lexer": "ipython3",
   "version": "3.7.9"
  }
 },
 "nbformat": 4,
 "nbformat_minor": 5
}
