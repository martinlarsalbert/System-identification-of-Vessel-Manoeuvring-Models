{
 "cells": [
  {
   "cell_type": "code",
   "execution_count": null,
   "id": "b775aed0-91fc-4e56-bef5-460500a38214",
   "metadata": {},
   "outputs": [],
   "source": [
    "import anyconfig\n",
    "from pprint import pprint"
   ]
  },
  {
   "cell_type": "code",
   "execution_count": null,
   "id": "a86f1daf-ca4b-4c71-8d3d-bb5ae091674b",
   "metadata": {},
   "outputs": [],
   "source": [
    "runs = anyconfig.load('../conf/base/catalog/runs.yml', ac_template=True, )"
   ]
  },
  {
   "cell_type": "code",
   "execution_count": null,
   "id": "c873bb8a-d3cb-4f92-bc5f-e48eab83b085",
   "metadata": {},
   "outputs": [],
   "source": [
    "runs"
   ]
  },
  {
   "cell_type": "code",
   "execution_count": null,
   "id": "082673de-922d-4ffa-a88a-36d3a728f3c9",
   "metadata": {},
   "outputs": [],
   "source": [
    "runs = anyconfig.load('../conf/base/catalog/runs.yml', ac_template=True, ac_context={'model_test_ids':[1,2]})"
   ]
  },
  {
   "cell_type": "code",
   "execution_count": null,
   "id": "3c8b0e10-8376-4dd7-ab14-5e1b29b717fd",
   "metadata": {},
   "outputs": [],
   "source": [
    "runs"
   ]
  },
  {
   "cell_type": "code",
   "execution_count": null,
   "id": "b9a8d25a-79ca-4dfe-9e2c-65c6f6378581",
   "metadata": {},
   "outputs": [],
   "source": [
    "globals = anyconfig.load('../conf/base/runs_globals.yml')"
   ]
  },
  {
   "cell_type": "code",
   "execution_count": null,
   "id": "f1be0f31-89db-4cd9-9595-82f653bc9fd1",
   "metadata": {},
   "outputs": [],
   "source": [
    "runs = anyconfig.load('../conf/base/catalog/runs.yml', ac_template=True, ac_context=globals)"
   ]
  },
  {
   "cell_type": "code",
   "execution_count": null,
   "id": "63dfab52-6c6e-4381-8d64-3a00c48ff434",
   "metadata": {},
   "outputs": [],
   "source": [
    "runs['22605.raw_data']"
   ]
  },
  {
   "cell_type": "code",
   "execution_count": null,
   "id": "511bf23b-1dd3-4ce9-92dd-2448abefab99",
   "metadata": {},
   "outputs": [],
   "source": [
    "from kedro.config import TemplatedConfigLoader"
   ]
  },
  {
   "cell_type": "code",
   "execution_count": null,
   "id": "05ac08e5-3516-4eec-9fdd-2a3ed233081e",
   "metadata": {},
   "outputs": [],
   "source": [
    "conf_paths = ['../conf/base/']\n",
    "template_config_loader = TemplatedConfigLoader(\n",
    "            conf_paths,\n",
    "            globals_pattern=\"*globals.yml\",  # read the globals dictionary from project config\n",
    "            globals_dict={  # extra keys to add to the globals dictionary, take precedence over globals_pattern\n",
    "                \"bucket_name\": \"another_bucket_name\",\n",
    "                \"non_string_key\": 10,\n",
    "            },\n",
    "        )"
   ]
  },
  {
   "cell_type": "code",
   "execution_count": null,
   "id": "cc8487b4-b1bc-42f4-bd61-0ec93ec34c71",
   "metadata": {},
   "outputs": [],
   "source": [
    "template_config_loader._arg_dict"
   ]
  },
  {
   "cell_type": "code",
   "execution_count": null,
   "id": "ff1d1657-646c-4d07-9136-43db73ff3051",
   "metadata": {},
   "outputs": [],
   "source": [
    "template_config_loader.get('*globals.yml')"
   ]
  },
  {
   "cell_type": "code",
   "execution_count": null,
   "id": "2a03ba59-82ba-40bb-a874-cd65735139df",
   "metadata": {},
   "outputs": [],
   "source": []
  }
 ],
 "metadata": {
  "kernelspec": {
   "display_name": "wPCC_pipeline",
   "language": "python",
   "name": "python3"
  },
  "language_info": {
   "codemirror_mode": {
    "name": "ipython",
    "version": 3
   },
   "file_extension": ".py",
   "mimetype": "text/x-python",
   "name": "python",
   "nbconvert_exporter": "python",
   "pygments_lexer": "ipython3",
   "version": "3.7.9"
  }
 },
 "nbformat": 4,
 "nbformat_minor": 5
}
