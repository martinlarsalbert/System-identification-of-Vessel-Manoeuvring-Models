{
 "cells": [
  {
   "cell_type": "markdown",
   "id": "6639678a-409c-4938-92f9-ee6d07a2ac57",
   "metadata": {},
   "source": [
    "# Monto carlo simulations"
   ]
  },
  {
   "cell_type": "code",
   "execution_count": null,
   "id": "5c49b787-8915-4f20-b4ea-5d5ed5e9bbbd",
   "metadata": {},
   "outputs": [],
   "source": [
    "# %load imports.py\n",
    "%load_ext autoreload\n",
    "%autoreload 2\n",
    "%reload_kedro\n",
    "%config Completer.use_jedi = False  ## (To fix autocomplete)\n",
    "import pandas as pd\n",
    "from vessel_manoeuvring_models.models.vmm import ModelSimulator\n",
    "import matplotlib.pyplot as plt\n",
    "from vessel_manoeuvring_models.visualization.plot import track_plots, plot, captive_plot\n",
    "import kedro\n",
    "import numpy as np\n",
    "import os.path\n",
    "import anyconfig\n",
    "\n",
    "import matplotlib\n",
    "matplotlib.rcParams[\"figure.figsize\"] = (15,4)\n",
    "from vessel_manoeuvring_models.symbols import *\n",
    "\n",
    "# Read configs:\n",
    "conf_path = os.path.join(\"../conf/base/\")\n",
    "runs_globals_path = os.path.join(\n",
    "    conf_path,\n",
    "    \"runs_globals.yml\",\n",
    ")\n",
    "\n",
    "runs_globals = anyconfig.load(runs_globals_path)\n",
    "model_test_ids = runs_globals[\"model_test_ids\"]\n",
    "\n",
    "join_globals_path = os.path.join(\n",
    "    conf_path,\n",
    "    \"join_globals.yml\",\n",
    ")\n",
    "\n",
    "joins = runs_globals[\"joins\"]\n",
    "join_runs_dict = anyconfig.load(join_globals_path)\n",
    "\n",
    "globals_path = os.path.join(\n",
    "    conf_path,\n",
    "    \"globals.yml\",\n",
    ")\n",
    "global_variables = anyconfig.load(globals_path)\n",
    "\n",
    "\n",
    "\n",
    "vmms = global_variables[\"vmms\"]\n",
    "only_joined = global_variables[\n",
    "    \"only_joined\"\n",
    "]  # (regress/predict with only models from joined runs)S"
   ]
  },
  {
   "cell_type": "code",
   "execution_count": null,
   "id": "8cf9a949-1f7a-41c4-abae-7c9b44400834",
   "metadata": {},
   "outputs": [],
   "source": [
    "from wPCC_pipeline.pipelines.motion_regression.nodes import fit_motions\n",
    "from sklearn.model_selection import KFold\n",
    "from sklearn.model_selection import RepeatedKFold"
   ]
  },
  {
   "cell_type": "code",
   "execution_count": null,
   "id": "d3a89626-cde0-463b-9611-7ff55ac286b7",
   "metadata": {},
   "outputs": [],
   "source": [
    "join = \"joined\"\n",
    "#vmm_name = \"vmm_abkowitz\"\n",
    "vmm_name = \"vmm_martins_simple\"\n",
    "\n",
    "\n",
    "data = catalog.load(f\"{ join }.data_ek_smooth\")\n",
    "\n",
    "model = catalog.load(f\"{ vmm_name }.motion_regression.{ join }.model\")\n",
    "ek = catalog.load(f\"{ vmm_name }.ek\")\n",
    "added_masses = catalog.load(\"added_masses\")\n",
    "ship_data = catalog.load(\"ship_data\")\n",
    "vmm = catalog.load(f\"{vmm_name}\")\n",
    "exclude_parameters = catalog.load(\"params:motion_regression.exclude_parameters\")"
   ]
  },
  {
   "cell_type": "code",
   "execution_count": null,
   "id": "fad044c8-cff1-4a11-b4bd-2c6ce6d53972",
   "metadata": {},
   "outputs": [],
   "source": [
    "for key in ['u1d','v1d','r1d']:\n",
    "    \n",
    "    fig,ax=plt.subplots()\n",
    "    fig.set_size_inches(10,5)\n",
    "    data.plot(y=key, ax=ax)\n",
    "    ax.set_title(key)\n",
    "    "
   ]
  },
  {
   "cell_type": "code",
   "execution_count": null,
   "id": "a09104d8-6173-4580-9c3b-01067c8bbda0",
   "metadata": {},
   "outputs": [],
   "source": [
    "np.random.seed(42)\n",
    "regression, parameters = fit_motions(data=data, added_masses=added_masses, ship_data=ship_data, vmm=vmm, exclude_parameters=exclude_parameters)"
   ]
  },
  {
   "cell_type": "code",
   "execution_count": null,
   "id": "24fe256c-0d20-4edc-b82b-9085eaf51b26",
   "metadata": {},
   "outputs": [],
   "source": [
    "regression.model_X.summary()"
   ]
  },
  {
   "cell_type": "code",
   "execution_count": null,
   "id": "65756139-9a54-4cde-aecd-e2e8ac9cb678",
   "metadata": {},
   "outputs": [],
   "source": [
    "regression.model_X.bse"
   ]
  },
  {
   "cell_type": "code",
   "execution_count": null,
   "id": "169a9b1c-f036-4159-bfca-cfd1f308da15",
   "metadata": {},
   "outputs": [],
   "source": [
    "regression.std.head()"
   ]
  },
  {
   "cell_type": "code",
   "execution_count": null,
   "id": "de8a4279-6d7a-488a-b246-e65cb9924006",
   "metadata": {},
   "outputs": [],
   "source": [
    "regression.parameters['regressed'].head()"
   ]
  },
  {
   "cell_type": "code",
   "execution_count": null,
   "id": "fbf8d206-c6ae-4f80-aa35-79847aede385",
   "metadata": {},
   "outputs": [],
   "source": [
    "regression.parameters.plot.bar(y='regressed', yerr=regression.std)"
   ]
  },
  {
   "cell_type": "code",
   "execution_count": null,
   "id": "8549cf33-d3fc-4a20-9610-9edfcc00ea26",
   "metadata": {},
   "outputs": [],
   "source": [
    "parameters = pd.DataFrame()\n",
    "parameters['mean'] = regression.parameters['regressed']\n",
    "parameters['std'] = regression.std"
   ]
  },
  {
   "cell_type": "code",
   "execution_count": null,
   "id": "4d768667-78bc-45cf-8ec4-47217517f2df",
   "metadata": {},
   "outputs": [],
   "source": [
    "def plot_parameters(parameters, quantile_cuts = [0.6,0.95]):\n",
    "\n",
    "    cuts = [0] + quantile_cuts + [1]\n",
    "    cuts = np.flipud(cuts)\n",
    "    \n",
    "    N = len(cuts)-1\n",
    "    fig,axes=plt.subplots(nrows=N)\n",
    "    fig.set_size_inches(12,12)\n",
    "    \n",
    "    for i,ax in zip(range(N),axes):\n",
    "        \n",
    "        cut_start = cuts[i+1]\n",
    "        cut_stop = cuts[i]\n",
    "            \n",
    "        mask = ((parameters['mean'].abs() > parameters['mean'].abs().quantile(cut_start)) & \n",
    "               (parameters['mean'].abs() <= parameters['mean'].abs().quantile(cut_stop)))\n",
    "        \n",
    "        parameters.loc[mask].plot.bar(y='mean', yerr=parameters['std'], ax=ax)\n",
    "        \n",
    "    plt.tight_layout()\n",
    "    return fig"
   ]
  },
  {
   "cell_type": "code",
   "execution_count": null,
   "id": "d4a1043f-dd36-4b85-a020-fadcc17db84b",
   "metadata": {},
   "outputs": [],
   "source": [
    "plot_parameters(parameters);"
   ]
  },
  {
   "cell_type": "code",
   "execution_count": null,
   "id": "a305a5bc-5043-475b-bbb8-be31b586f537",
   "metadata": {},
   "outputs": [],
   "source": [
    "from scipy.stats import norm, multivariate_normal\n",
    "from wPCC_pipeline.pipelines.prediction.nodes import simulate_euler"
   ]
  },
  {
   "cell_type": "code",
   "execution_count": null,
   "id": "c298fef9-f8c2-48a6-8f33-6e2f776d7f12",
   "metadata": {},
   "outputs": [],
   "source": [
    "means = regression.parameters['regressed']\n",
    "stds = regression.std\n",
    "\n",
    "cov = np.diag(stds.values**2)\n",
    "cov = regression.covs.values\n",
    "\n",
    "rv = multivariate_normal(mean=means, cov=cov, allow_singular=True)\n",
    "np.random.seed(42)\n",
    "N_=20\n",
    "df_parameter_variation = pd.DataFrame(data=rv.rvs(N_), columns=means.index)"
   ]
  },
  {
   "cell_type": "code",
   "execution_count": null,
   "id": "be373c79-0768-4838-82fc-d638c46c5d4f",
   "metadata": {},
   "outputs": [],
   "source": [
    "np.diagonal(cov)"
   ]
  },
  {
   "cell_type": "code",
   "execution_count": null,
   "id": "d8ea8d41-4aed-4f67-832b-ac2219cc37eb",
   "metadata": {},
   "outputs": [],
   "source": [
    "np.diagonal(regression.covs**4)"
   ]
  },
  {
   "cell_type": "code",
   "execution_count": null,
   "id": "f535ca70-e891-488b-9367-2c0eeb53d7e4",
   "metadata": {},
   "outputs": [],
   "source": []
  },
  {
   "cell_type": "code",
   "execution_count": null,
   "id": "f14aac44-28d7-4f6a-b1db-fc43d5886384",
   "metadata": {},
   "outputs": [],
   "source": [
    "id = 22772\n",
    "df_smooth = catalog.load(f\"{ id }.data_ek_smooth\")\n",
    "\n",
    "dataframes = {\n",
    "}"
   ]
  },
  {
   "cell_type": "code",
   "execution_count": null,
   "id": "3c0e0603-4b13-4482-b785-9b273f9604d4",
   "metadata": {},
   "outputs": [],
   "source": [
    "for index, parameters_ in df_parameter_variation.iterrows():\n",
    "    model_ = model.copy()\n",
    "    model_.parameters.update(parameters_)\n",
    "    df_ = simulate_euler(data=df_smooth, model=model_,ek=ek, solver='Radau') \n",
    "    dataframes[index] = df_\n",
    "\n",
    "\n",
    "dataframes['manoeuvring model'] = simulate_euler(data=df_smooth, model=model,ek=ek, solver='Radau') \n",
    "dataframes['model test'] = df_smooth"
   ]
  },
  {
   "cell_type": "code",
   "execution_count": null,
   "id": "3dbf90a5-2aca-466e-86a4-c3af9dcca9fc",
   "metadata": {},
   "outputs": [],
   "source": [
    "styles={'model test':{'style':'k-'},\n",
    "       'manoeuvring model':{'style':'y--'},\n",
    "       }\n",
    "\n",
    "\n",
    "fig,ax=plt.subplots()\n",
    "fig.set_size_inches(10,10)\n",
    "track_plots(dataframes, lpp=ship_data['L'], beam=ship_data['B'], N=7, plot_boats=False, ax=ax, styles=styles)\n",
    "ax.set_xlim(-10,10)\n",
    "\n",
    "plot(dataframes, styles=styles);"
   ]
  },
  {
   "cell_type": "code",
   "execution_count": null,
   "id": "0204be9b-d216-4dac-91b2-653c80b4fa6f",
   "metadata": {},
   "outputs": [],
   "source": [
    "regression.model_X.cov_HC0.shape"
   ]
  },
  {
   "cell_type": "code",
   "execution_count": null,
   "id": "69d7518e-262c-47d0-a2de-0e556887f454",
   "metadata": {},
   "outputs": [],
   "source": [
    "from vessel_manoeuvring_models.substitute_dynamic_symbols import run\n",
    "from vessel_manoeuvring_models.parameters import df_parameters\n",
    "p = df_parameters['symbol']"
   ]
  },
  {
   "cell_type": "code",
   "execution_count": null,
   "id": "b2776463-bd61-4c9b-a412-c112da84168c",
   "metadata": {},
   "outputs": [],
   "source": [
    "from vessel_manoeuvring_models.parameters import df_parameters"
   ]
  },
  {
   "cell_type": "code",
   "execution_count": null,
   "id": "201f7686-14dc-409e-b4ce-62bf71ea89a3",
   "metadata": {},
   "outputs": [],
   "source": [
    "parameters.sort_index(inplace=True)\n",
    "parameters['symbol'] = df_parameters.loc[parameters.index]['symbol']\n",
    "parameters['name'] = parameters.index\n",
    "parameters['dof'] = parameters['name'].apply(lambda x:x[0])"
   ]
  },
  {
   "cell_type": "code",
   "execution_count": null,
   "id": "a569f249-b403-4060-a4f5-5ab4d5162743",
   "metadata": {},
   "outputs": [],
   "source": [
    "parameters"
   ]
  }
 ],
 "metadata": {
  "kernelspec": {
   "display_name": "wPCC_pipeline",
   "language": "python",
   "name": "python3"
  },
  "language_info": {
   "codemirror_mode": {
    "name": "ipython",
    "version": 3
   },
   "file_extension": ".py",
   "mimetype": "text/x-python",
   "name": "python",
   "nbconvert_exporter": "python",
   "pygments_lexer": "ipython3",
   "version": "3.7.9"
  }
 },
 "nbformat": 4,
 "nbformat_minor": 5
}
