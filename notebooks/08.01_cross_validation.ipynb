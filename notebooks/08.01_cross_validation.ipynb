{
 "cells": [
  {
   "cell_type": "markdown",
   "id": "7f1526a2-fcff-489a-a8fc-e8df767af59d",
   "metadata": {},
   "source": [
    "# Cross validation"
   ]
  },
  {
   "cell_type": "code",
   "execution_count": null,
   "id": "265421db-c399-487c-aae5-f61507e8988c",
   "metadata": {},
   "outputs": [],
   "source": [
    "# %load imports.py\n",
    "%load_ext autoreload\n",
    "%autoreload 2\n",
    "%reload_kedro\n",
    "%config Completer.use_jedi = False  ## (To fix autocomplete)\n",
    "import warnings\n",
    "warnings.filterwarnings('ignore')\n",
    "import pandas as pd\n",
    "from src.models.vmm import ModelSimulator\n",
    "import matplotlib.pyplot as plt\n",
    "from src.visualization.plot import track_plots, plot, captive_plot\n",
    "import kedro\n",
    "import numpy as np\n",
    "import os.path\n",
    "import anyconfig\n",
    "\n",
    "import matplotlib\n",
    "matplotlib.rcParams[\"figure.figsize\"] = (15,4)\n",
    "from src.symbols import *\n",
    "\n",
    "# Read configs:\n",
    "conf_path = os.path.join(\"../conf/base/\")\n",
    "runs_globals_path = os.path.join(\n",
    "    conf_path,\n",
    "    \"runs_globals.yml\",\n",
    ")\n",
    "\n",
    "runs_globals = anyconfig.load(runs_globals_path)\n",
    "model_test_ids = runs_globals[\"model_test_ids\"]\n",
    "\n",
    "join_globals_path = os.path.join(\n",
    "    conf_path,\n",
    "    \"join_globals.yml\",\n",
    ")\n",
    "\n",
    "joins = runs_globals[\"joins\"]\n",
    "join_runs_dict = anyconfig.load(join_globals_path)\n",
    "\n",
    "globals_path = os.path.join(\n",
    "    conf_path,\n",
    "    \"globals.yml\",\n",
    ")\n",
    "global_variables = anyconfig.load(globals_path)\n",
    "\n",
    "\n",
    "\n",
    "vmms = global_variables[\"vmms\"]\n",
    "only_joined = global_variables[\n",
    "    \"only_joined\"\n",
    "]  # (regress/predict with only models from joined runs)S"
   ]
  },
  {
   "cell_type": "code",
   "execution_count": null,
   "id": "31c4718e-2a08-45ed-bf2a-1aa7b78b8c49",
   "metadata": {},
   "outputs": [],
   "source": [
    "from wPCC_pipeline.pipelines.motion_regression.nodes import fit_motions\n",
    "from sklearn.model_selection import KFold\n",
    "from sklearn.model_selection import RepeatedKFold\n",
    "from sklearn.model_selection import train_test_split\n",
    "from sklearn.metrics import mean_squared_error\n",
    "from sklearn.model_selection import GridSearchCV\n",
    "from sklearn.linear_model import LinearRegression\n",
    "from sklearn.pipeline import Pipeline\n",
    "from sklearn.feature_selection import SelectKBest\n",
    "from sklearn.feature_selection import f_regression"
   ]
  },
  {
   "cell_type": "code",
   "execution_count": null,
   "id": "eb612c66-5b54-4906-8675-2a5fc24e32f1",
   "metadata": {},
   "outputs": [],
   "source": [
    "join = \"joined\"\n",
    "data = catalog.load(f\"{ join }.data_ek_smooth\")\n",
    "\n",
    "\n",
    "added_masses = catalog.load(\"added_masses\")\n",
    "ship_data = catalog.load(\"ship_data\")\n",
    "#vmm = catalog.load(\"vmm_martins_simple\")\n",
    "vmm_name = \"vmm_abkowitz\"\n",
    "vmm = catalog.load(f\"{vmm_name}\")\n",
    "regression = catalog.load(f\"{ vmm_name }.motion_regression.joined.regression\")\n",
    "exclude_parameters = catalog.load(\"params:motion_regression.exclude_parameters\")\n",
    "ship_parameters = catalog.load(\"ship_data\")\n",
    "ek = catalog.load(f\"{ vmm_name }.ek\")"
   ]
  },
  {
   "cell_type": "code",
   "execution_count": null,
   "id": "47612529-eb13-4305-b113-ad5dec2b6fad",
   "metadata": {},
   "outputs": [],
   "source": [
    "data.head()"
   ]
  },
  {
   "cell_type": "code",
   "execution_count": null,
   "id": "153a56bd-487b-40a3-8491-4a42d0091e2c",
   "metadata": {},
   "outputs": [],
   "source": [
    "for key in ['u1d','v1d','r1d']:\n",
    "    \n",
    "    fig,ax=plt.subplots()\n",
    "    fig.set_size_inches(10,5)\n",
    "    data.plot(y=key, ax=ax)\n",
    "    ax.set_title(key)\n",
    "    "
   ]
  },
  {
   "cell_type": "code",
   "execution_count": null,
   "id": "b272c668-fd83-445c-8130-b2bdcee74db0",
   "metadata": {},
   "outputs": [],
   "source": [
    "regression.model_Y.summary()"
   ]
  },
  {
   "cell_type": "code",
   "execution_count": null,
   "id": "065dfc5d-cdfc-46cb-a563-5939f99d60a7",
   "metadata": {},
   "outputs": [],
   "source": [
    "select_k_best = SelectKBest(score_func=f_regression, k=4)\n",
    "linear_regression = LinearRegression()\n",
    "\n",
    "steps = [\n",
    "    ('select_k_best', select_k_best),\n",
    "    ('linear_regression', linear_regression),\n",
    "]\n",
    "\n",
    "pipeline = Pipeline(steps=steps)"
   ]
  },
  {
   "cell_type": "code",
   "execution_count": null,
   "id": "05dd76fc-f9ea-4989-95d9-63f0a78caa09",
   "metadata": {},
   "outputs": [],
   "source": [
    "from src.parameters import df_parameters\n",
    "from src.models.vmm import VMM\n",
    "from src.models.regression import MotionRegression\n",
    "from sklearn.model_selection import PredefinedSplit\n",
    "p = df_parameters['symbol']"
   ]
  },
  {
   "cell_type": "code",
   "execution_count": null,
   "id": "b9c5ad2d-f731-4dcc-896c-f14e94f8b9db",
   "metadata": {},
   "outputs": [],
   "source": [
    "id = 22774\n",
    "#test_mask = data['id'] == id\n",
    "test_mask = data['id'].isin([22771,22772,22773])"
   ]
  },
  {
   "cell_type": "code",
   "execution_count": null,
   "id": "ec7168ce-59fa-4703-9c7b-57599d564d90",
   "metadata": {},
   "outputs": [],
   "source": [
    "from copy import deepcopy\n",
    "cv = RepeatedKFold(n_splits=2, n_repeats=5, random_state=1)\n",
    "test_fold = data['id']\n",
    "ps = PredefinedSplit(test_fold)\n",
    "\n",
    "removes_all = []\n",
    "\n",
    "for dof in ['X','Y','N']:\n",
    "    \n",
    "    X_key = f\"X_{dof}\"\n",
    "    y_key = f\"y_{dof}\"\n",
    "    #X = getattr(regression, X_key).loc[~test_mask]\n",
    "    #y = getattr(regression, y_key).loc[~test_mask]\n",
    "    \n",
    "    X = getattr(regression, X_key)\n",
    "    y = getattr(regression, y_key)\n",
    "    \n",
    "    grid = dict()\n",
    "    n_ = len(X.columns)\n",
    "    grid['select_k_best__k'] = list(np.arange(n_-15,n_))\n",
    "    \n",
    "    search = GridSearchCV(estimator=pipeline, \n",
    "                          param_grid=grid, \n",
    "                          scoring='neg_mean_absolute_error', \n",
    "                          n_jobs=-1, \n",
    "                          cv=ps,\n",
    "                          #cv=cv,\n",
    "                         \n",
    "                         )\n",
    "    # perform the search\n",
    "    search_result = search.fit(X, y)\n",
    "    mask = search_result.best_estimator_['select_k_best'].get_support()\n",
    "    #exclude = set(['Y0','N0'])\n",
    "    exclude = set([])\n",
    "    \n",
    "    removes = set(X.columns) - set(X.columns[mask]) - exclude\n",
    "    if len(removes) > 0:\n",
    "        removes_all+=list(removes)"
   ]
  },
  {
   "cell_type": "code",
   "execution_count": null,
   "id": "4dc2669d-4773-49b2-b497-28944563f6ab",
   "metadata": {},
   "outputs": [],
   "source": [
    "removes_all = list(set(removes_all \n",
    "+ [f\"Y{key[1:]}\" for key in removes_all if key[0]=='N']\n",
    "+ [f\"N{key[1:]}\" for key in removes_all if key[0]=='Y']\n",
    "))"
   ]
  },
  {
   "cell_type": "code",
   "execution_count": null,
   "id": "57c6dd19-507d-476a-95df-1d9dbe23b496",
   "metadata": {},
   "outputs": [],
   "source": [
    "removes_all"
   ]
  },
  {
   "cell_type": "code",
   "execution_count": null,
   "id": "74ddbd88-add4-4228-b521-f11ef907edaa",
   "metadata": {},
   "outputs": [],
   "source": [
    "eqs = {}\n",
    "for dof in ['X','Y','N']:    \n",
    "    key_eq = f\"{dof}_eq\"\n",
    "    eq = getattr(vmm,key_eq)\n",
    "    subs = [(p[key],0) for key in removes_all]\n",
    "    eqs[key_eq] = eq.subs(subs)"
   ]
  },
  {
   "cell_type": "code",
   "execution_count": null,
   "id": "ea2847c5-f519-46b8-8fcd-b88ba6d2d496",
   "metadata": {},
   "outputs": [],
   "source": [
    "eqs['N_eq']"
   ]
  },
  {
   "cell_type": "code",
   "execution_count": null,
   "id": "1ac2320e-b835-4681-833b-99a27bdd25fd",
   "metadata": {},
   "outputs": [],
   "source": [
    "vmm2 = VMM(**eqs)"
   ]
  },
  {
   "cell_type": "code",
   "execution_count": null,
   "id": "3f364caf-be96-4c9f-97d1-79fc3ad95573",
   "metadata": {},
   "outputs": [],
   "source": [
    "eqs3 = {\n",
    "    'X_eq' : vmm.X_eq,\n",
    "    'Y_eq' : vmm.Y_eq.subs([('Y_{rdeltadelta}',0)]),\n",
    "    'N_eq' : vmm.N_eq.subs([('N_{rdeltadelta}',0)]),\n",
    "    \n",
    "}\n",
    "vmm3 = VMM(**eqs3)"
   ]
  },
  {
   "cell_type": "code",
   "execution_count": null,
   "id": "8959432f-29fa-485e-b7c8-3ef85bc59897",
   "metadata": {},
   "outputs": [],
   "source": [
    "regression2 = MotionRegression(vmm=vmm2, \n",
    "                               data=data.loc[~test_mask],\n",
    "                               #data=data, \n",
    "                               added_masses=added_masses, \n",
    "                               ship_parameters=ship_parameters, \n",
    "                               exclude_parameters=exclude_parameters,\n",
    "                              )\n",
    "\n",
    "regression3 = MotionRegression(vmm=vmm, \n",
    "                               data=data.loc[~test_mask],\n",
    "                               #data=data, \n",
    "                               added_masses=added_masses, \n",
    "                               ship_parameters=ship_parameters, \n",
    "                               exclude_parameters=exclude_parameters,\n",
    "                              )"
   ]
  },
  {
   "cell_type": "code",
   "execution_count": null,
   "id": "f145c71c-9115-4693-9c10-01d9e4553b4c",
   "metadata": {},
   "outputs": [],
   "source": [
    "vmm.X_eq.rhs.free_symbols - vmm2.X_eq.rhs.free_symbols"
   ]
  },
  {
   "cell_type": "code",
   "execution_count": null,
   "id": "8405c599-f217-496e-b7fd-8b1e9f2e4a6e",
   "metadata": {},
   "outputs": [],
   "source": [
    "vmm.Y_eq.rhs.free_symbols - vmm2.Y_eq.rhs.free_symbols"
   ]
  },
  {
   "cell_type": "code",
   "execution_count": null,
   "id": "98871b19-80d6-4998-b493-1e941f422f3f",
   "metadata": {},
   "outputs": [],
   "source": [
    "vmm.N_eq.rhs.free_symbols - vmm2.N_eq.rhs.free_symbols"
   ]
  },
  {
   "cell_type": "code",
   "execution_count": null,
   "id": "e7ef46b0-37ad-4c98-8afe-9ed70e93d0f4",
   "metadata": {},
   "outputs": [],
   "source": [
    "display(vmm2.X_eq)\n",
    "display(vmm2.Y_eq)\n",
    "display(vmm2.N_eq)\n"
   ]
  },
  {
   "cell_type": "code",
   "execution_count": null,
   "id": "6b81430e-448d-40b4-b034-868e44dda240",
   "metadata": {},
   "outputs": [],
   "source": [
    "vmm2.N_eq"
   ]
  },
  {
   "cell_type": "code",
   "execution_count": null,
   "id": "64188a20-e294-4747-9636-7295b1559406",
   "metadata": {},
   "outputs": [],
   "source": [
    "model = regression.create_model(control_keys=['delta','thrust'])\n",
    "model2 = regression2.create_model(control_keys=['delta','thrust'])\n",
    "model3 = regression3.create_model(control_keys=['delta','thrust'])"
   ]
  },
  {
   "cell_type": "code",
   "execution_count": null,
   "id": "5a7ea54a-9159-44a7-b830-4171f673b849",
   "metadata": {},
   "outputs": [],
   "source": [
    "missing = set(model.parameters.keys()) - set(model2.parameters.keys())\n",
    "for key in missing:\n",
    "    model2.parameters[key] = 0"
   ]
  },
  {
   "cell_type": "code",
   "execution_count": null,
   "id": "ab922bc7-3c12-4475-a2f4-854a5b1047fb",
   "metadata": {},
   "outputs": [],
   "source": [
    "from wPCC_pipeline.pipelines.prediction.nodes import simulate_euler\n",
    "\n",
    "#id = 22774\n",
    "id = 22771\n",
    "df_smooth = catalog.load(f\"{ id }.data_ek_smooth\")"
   ]
  },
  {
   "cell_type": "code",
   "execution_count": null,
   "id": "0cdd924a-0002-4369-88a3-2cc9eb9ef270",
   "metadata": {},
   "outputs": [],
   "source": [
    "dataframes = {}\n",
    "dataframes['model test'] = df_smooth\n",
    "dataframes['Abkowitz'] = simulate_euler(data=df_smooth, model=model,ek=ek, solver='Radau')\n",
    "dataframes['Reduced'] = simulate_euler(data=df_smooth, model=model2,ek=ek, solver='Radau')\n",
    "dataframes['Abkowitz train'] = simulate_euler(data=df_smooth, model=model3,ek=ek, solver='Radau')\n",
    "\n",
    "\n",
    "    "
   ]
  },
  {
   "cell_type": "code",
   "execution_count": null,
   "id": "423c9034-2442-4397-82da-61bd7f559815",
   "metadata": {},
   "outputs": [],
   "source": [
    "fig,ax=plt.subplots()\n",
    "fig.set_size_inches(15,15)\n",
    "track_plots(dataframes, lpp=ship_data['L'], beam=ship_data['B'], plot_boats=False, ax=ax)\n",
    "plot(dataframes);"
   ]
  },
  {
   "cell_type": "code",
   "execution_count": null,
   "id": "bdae5126-0ea0-4659-b411-65b5372ddb8f",
   "metadata": {},
   "outputs": [],
   "source": [
    "df_parameters_compare = pd.DataFrame()\n",
    "df_parameters_compare['Abkowitz'] = model.parameters\n",
    "df_parameters_compare['Reduced'] = model2.parameters"
   ]
  },
  {
   "cell_type": "code",
   "execution_count": null,
   "id": "f52f59c1-c498-4a4c-97f6-ddb86a4a3dce",
   "metadata": {},
   "outputs": [],
   "source": [
    "df_parameters_compare.plot.bar()"
   ]
  },
  {
   "cell_type": "code",
   "execution_count": null,
   "id": "99c359db-c098-49bb-ace9-0bbc9b8238bd",
   "metadata": {},
   "outputs": [],
   "source": [
    "## Retrain on all data\n",
    "regression2 = MotionRegression(vmm=vmm2, \n",
    "                               data=data,\n",
    "                               added_masses=added_masses, \n",
    "                               ship_parameters=ship_parameters, \n",
    "                               exclude_parameters=exclude_parameters,\n",
    "                              )\n",
    "model2 = regression2.create_model(control_keys=['delta','thrust'])\n",
    "\n",
    "catalog.save(\"vmm_abkowitz_simple.motion_regression.joined.model\", model2) \n",
    "catalog.save(\"vmm_abkowitz_simple.motion_regression.joined.regression\", regression2) \n",
    "catalog.save(\"vmm_abkowitz_simple\", vmm2)"
   ]
  },
  {
   "cell_type": "code",
   "execution_count": null,
   "id": "193ee466-d246-4c5f-ac65-e2461d190938",
   "metadata": {},
   "outputs": [],
   "source": []
  }
 ],
 "metadata": {
  "kernelspec": {
   "display_name": "wPCC_pipeline",
   "language": "python",
   "name": "python3"
  },
  "language_info": {
   "codemirror_mode": {
    "name": "ipython",
    "version": 3
   },
   "file_extension": ".py",
   "mimetype": "text/x-python",
   "name": "python",
   "nbconvert_exporter": "python",
   "pygments_lexer": "ipython3",
   "version": "3.7.9"
  }
 },
 "nbformat": 4,
 "nbformat_minor": 5
}
