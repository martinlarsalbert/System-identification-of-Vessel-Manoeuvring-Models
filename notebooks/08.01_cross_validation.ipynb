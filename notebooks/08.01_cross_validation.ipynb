{
 "cells": [
  {
   "cell_type": "markdown",
   "id": "7f1526a2-fcff-489a-a8fc-e8df767af59d",
   "metadata": {},
   "source": [
    "# Cross validation"
   ]
  },
  {
   "cell_type": "code",
   "execution_count": null,
   "id": "265421db-c399-487c-aae5-f61507e8988c",
   "metadata": {},
   "outputs": [],
   "source": [
    "# %load imports.py\n",
    "%load_ext autoreload\n",
    "%autoreload 2\n",
    "%reload_kedro\n",
    "%config Completer.use_jedi = False  ## (To fix autocomplete)\n",
    "import pandas as pd\n",
    "from src.models.vmm import ModelSimulator\n",
    "import matplotlib.pyplot as plt\n",
    "from src.visualization.plot import track_plots, plot, captive_plot\n",
    "import kedro\n",
    "import numpy as np\n",
    "import os.path\n",
    "import anyconfig\n",
    "\n",
    "import matplotlib\n",
    "matplotlib.rcParams[\"figure.figsize\"] = (15,4)\n",
    "from src.symbols import *\n",
    "\n",
    "# Read configs:\n",
    "conf_path = os.path.join(\"../conf/base/\")\n",
    "runs_globals_path = os.path.join(\n",
    "    conf_path,\n",
    "    \"runs_globals.yml\",\n",
    ")\n",
    "\n",
    "runs_globals = anyconfig.load(runs_globals_path)\n",
    "model_test_ids = runs_globals[\"model_test_ids\"]\n",
    "\n",
    "join_globals_path = os.path.join(\n",
    "    conf_path,\n",
    "    \"join_globals.yml\",\n",
    ")\n",
    "\n",
    "joins = runs_globals[\"joins\"]\n",
    "join_runs_dict = anyconfig.load(join_globals_path)\n",
    "\n",
    "globals_path = os.path.join(\n",
    "    conf_path,\n",
    "    \"globals.yml\",\n",
    ")\n",
    "global_variables = anyconfig.load(globals_path)\n",
    "\n",
    "\n",
    "\n",
    "vmms = global_variables[\"vmms\"]\n",
    "only_joined = global_variables[\n",
    "    \"only_joined\"\n",
    "]  # (regress/predict with only models from joined runs)S"
   ]
  },
  {
   "cell_type": "code",
   "execution_count": null,
   "id": "31c4718e-2a08-45ed-bf2a-1aa7b78b8c49",
   "metadata": {},
   "outputs": [],
   "source": [
    "from wPCC_pipeline.pipelines.motion_regression.nodes import fit_motions\n",
    "from sklearn.model_selection import KFold\n",
    "from sklearn.model_selection import RepeatedKFold"
   ]
  },
  {
   "cell_type": "code",
   "execution_count": null,
   "id": "eb612c66-5b54-4906-8675-2a5fc24e32f1",
   "metadata": {},
   "outputs": [],
   "source": [
    "join = \"joined\"\n",
    "data = catalog.load(f\"{ join }.data_ek_smooth\")\n",
    "\n",
    "\n",
    "added_masses = catalog.load(\"added_masses\")\n",
    "ship_data = catalog.load(\"ship_data\")\n",
    "#vmm = catalog.load(\"vmm_martins_simple\")\n",
    "vmm = catalog.load(\"vmm_abkowitz\")\n",
    "exclude_parameters = catalog.load(\"params:motion_regression.exclude_parameters\")"
   ]
  },
  {
   "cell_type": "code",
   "execution_count": null,
   "id": "153a56bd-487b-40a3-8491-4a42d0091e2c",
   "metadata": {},
   "outputs": [],
   "source": [
    "for key in ['u1d','v1d','r1d']:\n",
    "    \n",
    "    fig,ax=plt.subplots()\n",
    "    fig.set_size_inches(10,5)\n",
    "    data.plot(y=key, ax=ax)\n",
    "    ax.set_title(key)\n",
    "    "
   ]
  },
  {
   "cell_type": "code",
   "execution_count": null,
   "id": "68e300ce-b856-432b-8f7c-5ce79b8e4bed",
   "metadata": {},
   "outputs": [],
   "source": [
    "regression, parameters = fit_motions(data=data, added_masses=added_masses, ship_data=ship_data, vmm=vmm, exclude_parameters=exclude_parameters)"
   ]
  },
  {
   "cell_type": "code",
   "execution_count": null,
   "id": "b2b9ced1-b447-49e4-b905-6a55d1e7c57e",
   "metadata": {},
   "outputs": [],
   "source": [
    "regression.model_X.summary()"
   ]
  },
  {
   "cell_type": "code",
   "execution_count": null,
   "id": "332fffcc-c6d1-4158-a676-0ff016dabfeb",
   "metadata": {},
   "outputs": [],
   "source": [
    "regression.parameters"
   ]
  },
  {
   "cell_type": "code",
   "execution_count": null,
   "id": "c2b1da9c-0f88-49a4-893c-5ad660a7fb08",
   "metadata": {},
   "outputs": [],
   "source": [
    "Xudot = added_masses['Xudot']\n",
    "\n",
    "ship_data_prime = regression.ps.prime(ship_data)\n",
    "m = ship_data_prime['m']\n",
    "\n",
    "regression.parameters['regressed']/(-Xudot+m)\n"
   ]
  },
  {
   "cell_type": "code",
   "execution_count": null,
   "id": "48ae6f60-930a-4f2f-8608-cfb3663e7d5b",
   "metadata": {},
   "outputs": [],
   "source": [
    "regression.model_X.params['Xrr']*(-Xudot+m)\n",
    "regression.model_X.bse['Xrr']*(-Xudot+m)"
   ]
  },
  {
   "cell_type": "code",
   "execution_count": null,
   "id": "baaa44e3-48f8-4235-bb69-888526ec2fdb",
   "metadata": {
    "tags": []
   },
   "outputs": [],
   "source": [
    "X = data\n",
    "random_state = 42\n",
    "rkf = RepeatedKFold(n_splits=2, n_repeats=50, random_state=random_state)\n",
    "\n",
    "df_parameters = pd.DataFrame()\n",
    "\n",
    "for train, test in rkf.split(X):\n",
    "    \n",
    "    X_train = X.iloc[train]\n",
    "       \n",
    "    regression_, parameters = fit_motions(data=X_train,\n",
    "                                         added_masses=added_masses,\n",
    "                                         ship_data=ship_data,\n",
    "                                         vmm=vmm,\n",
    "                                         exclude_parameters=exclude_parameters)\n",
    "    \n",
    "    df_parameters=df_parameters.append(parameters[\"regressed\"], ignore_index=True)\n",
    "    "
   ]
  },
  {
   "cell_type": "code",
   "execution_count": null,
   "id": "fdd856b9-55ca-4aab-9553-130aaa6b6b3d",
   "metadata": {},
   "outputs": [],
   "source": [
    "df_parameters.mean()"
   ]
  },
  {
   "cell_type": "code",
   "execution_count": null,
   "id": "f35e900e-5e0d-484a-b7fb-edde3e96ae07",
   "metadata": {},
   "outputs": [],
   "source": [
    "df_parameters.std()"
   ]
  },
  {
   "cell_type": "code",
   "execution_count": null,
   "id": "b2130423-5c93-473d-84c7-e20e91840cb0",
   "metadata": {},
   "outputs": [],
   "source": [
    "df_parameters.std() / df_parameters.mean()"
   ]
  },
  {
   "cell_type": "code",
   "execution_count": null,
   "id": "3b85d764-a6c4-4d99-a586-b0d8e65ee644",
   "metadata": {},
   "outputs": [],
   "source": [
    "df_parameters.hist(column='Xrr', bins=20)"
   ]
  },
  {
   "cell_type": "code",
   "execution_count": null,
   "id": "1f80a811-a814-48dc-8b04-17726532917e",
   "metadata": {},
   "outputs": [],
   "source": [
    "import seaborn as sns\n",
    "from scipy.stats import norm\n",
    "\n",
    "#key = 'Xrr'\n",
    "key = 'Xdeltadelta'\n",
    "grid = sns.displot(df_parameters, x=key, kind=\"kde\")\n",
    "\n",
    "mu = regression.model_X.params[key]*(-Xudot+m)\n",
    "std = regression.model_X.bse[key]*(-Xudot+m)\n",
    "\n",
    "rv = norm(loc=mu, scale=std)\n",
    "x = np.linspace(df_parameters[key].min(), df_parameters[key].max(),100)\n",
    "\n",
    "ax = grid.ax\n",
    "ax.plot(x,rv.pdf(x))"
   ]
  },
  {
   "cell_type": "code",
   "execution_count": null,
   "id": "4183b8a6-7505-4de7-9592-5deed93897fb",
   "metadata": {},
   "outputs": [],
   "source": [
    "df_parameters.plot()"
   ]
  },
  {
   "cell_type": "code",
   "execution_count": null,
   "id": "49ed2374-f716-4e8c-9165-5c13fd4bbcc4",
   "metadata": {},
   "outputs": [],
   "source": []
  }
 ],
 "metadata": {
  "kernelspec": {
   "display_name": "wPCC_pipeline",
   "language": "python",
   "name": "python3"
  },
  "language_info": {
   "codemirror_mode": {
    "name": "ipython",
    "version": 3
   },
   "file_extension": ".py",
   "mimetype": "text/x-python",
   "name": "python",
   "nbconvert_exporter": "python",
   "pygments_lexer": "ipython3",
   "version": "3.7.9"
  }
 },
 "nbformat": 4,
 "nbformat_minor": 5
}
