{
 "cells": [
  {
   "cell_type": "markdown",
   "id": "fe79187c-b29e-4d28-8f26-6a882616c144",
   "metadata": {},
   "source": [
    "# Propeller model KVLCC2"
   ]
  },
  {
   "cell_type": "code",
   "execution_count": null,
   "id": "016e1503-025d-4117-805d-6eeee56adf66",
   "metadata": {},
   "outputs": [],
   "source": [
    "# %load imports.py\n",
    "%load_ext autoreload\n",
    "%autoreload 2\n",
    "%reload_kedro\n",
    "%config Completer.use_jedi = False  ## (To fix autocomplete)\n",
    "%matplotlib inline\n",
    "\n",
    "import warnings\n",
    "warnings.filterwarnings('ignore')\n",
    "\n",
    "import pandas as pd\n",
    "pd.set_option('display.max_rows', 500)\n",
    "pd.set_option('display.max_columns', 500)\n",
    "from vessel_manoeuvring_models.models.vmm import ModelSimulator\n",
    "import matplotlib.pyplot as plt\n",
    "from vessel_manoeuvring_models.visualization.plot import track_plots, plot, captive_plot\n",
    "import kedro\n",
    "import numpy as np\n",
    "import os.path\n",
    "import anyconfig\n",
    "\n",
    "import matplotlib\n",
    "matplotlib.rcParams[\"figure.figsize\"] = (10,10)\n",
    "from vessel_manoeuvring_models.symbols import *\n",
    "\n",
    "# Read configs:\n",
    "conf_path = os.path.join(\"../conf/base/\")\n",
    "runs_globals_path = os.path.join(\n",
    "    conf_path,\n",
    "    \"runs_globals.yml\",\n",
    ")\n",
    "\n",
    "runs_globals = anyconfig.load(runs_globals_path)\n",
    "model_test_ids = runs_globals[\"model_test_ids\"]\n",
    "\n",
    "join_globals_path = os.path.join(\n",
    "    conf_path,\n",
    "    \"join_globals.yml\",\n",
    ")\n",
    "\n",
    "joins = runs_globals[\"joins\"]\n",
    "join_runs_dict = anyconfig.load(join_globals_path)\n",
    "\n",
    "globals_path = os.path.join(\n",
    "    conf_path,\n",
    "    \"globals.yml\",\n",
    ")\n",
    "global_variables = anyconfig.load(globals_path)\n",
    "\n",
    "\n",
    "\n",
    "vmm_names = global_variables[\"vmms\"]\n",
    "\n",
    "from wPCC_pipeline.pipelines.motion_regression.nodes import predict_force, fit_motions, create_model_from_motion_regression, create_full_model_from_motion_regression\n",
    "from wPCC_pipeline.pipelines.prediction.nodes import simulate_euler\n",
    "from vessel_manoeuvring_models.models.vmm import VMM\n",
    "from vessel_manoeuvring_models.parameters import df_parameters\n",
    "from vessel_manoeuvring_models.models.propeller import fit, predict, predictor\n",
    "from wPCC_pipeline.pipelines.kvlcc2.nodes import fit_propeller_characteristics\n",
    "import vessel_manoeuvring_models.models.MMG_propeller as MMG_propeller\n",
    "from vessel_manoeuvring_models.substitute_dynamic_symbols import run\n",
    "from vessel_manoeuvring_models.models.propeller import preprocess\n",
    "import vessel_manoeuvring_models.models.propeller as propeller\n",
    "from sklearn.metrics import r2_score\n",
    "\n",
    "import statsmodels.api as sm"
   ]
  },
  {
   "cell_type": "code",
   "execution_count": null,
   "id": "02a07783-e683-489e-929a-c646b61b93ac",
   "metadata": {},
   "outputs": [],
   "source": [
    "ship=\"kvlcc2_hsva\"\n",
    "vmm_name = \"vmm_martins_simple\"\n",
    "#vmm_name = \"vmm_abkowitz\"\n",
    "vmm = catalog.load(vmm_name)\n",
    "ship_data = catalog.load(f\"{ship}.ship_data\")\n",
    "data = catalog.load(f\"{ship}.updated.joined.data_ek_smooth\")\n",
    "added_masses = catalog.load(f\"{ship}.added_masses\")\n",
    "exclude_parameters = catalog.load(f\"params:{ship}.motion_regression.exclude_parameters\")\n",
    "open_water_characteristics = catalog.load(f\"{ship}.open_water_characteristics\")\n",
    "propeller_coefficients = catalog.load(f\"{ship}.propeller_coefficients\")"
   ]
  },
  {
   "cell_type": "code",
   "execution_count": null,
   "id": "a2347b5d-3c14-4cec-8bba-15258cdd7b19",
   "metadata": {},
   "outputs": [],
   "source": [
    "MMG_propeller.eq_w_p"
   ]
  },
  {
   "cell_type": "code",
   "execution_count": null,
   "id": "82e9313f-bc88-496a-95a4-9e168f824859",
   "metadata": {},
   "outputs": [],
   "source": [
    "eq = MMG_propeller.X_P_solution[0][thrust]\n",
    "lambda_thrust = sp.lambdify(list(eq.free_symbols), eq)"
   ]
  },
  {
   "cell_type": "code",
   "execution_count": null,
   "id": "38408cf9-53bd-49e7-a9b0-1c3516107fda",
   "metadata": {},
   "outputs": [],
   "source": [
    "ship_data"
   ]
  },
  {
   "cell_type": "code",
   "execution_count": null,
   "id": "ed401025-3ac8-485d-9038-961356655813",
   "metadata": {},
   "outputs": [],
   "source": [
    "ship_data_ = ship_data.copy()\n",
    "#ship_data_['w_p0'] = 0.5"
   ]
  },
  {
   "cell_type": "code",
   "execution_count": null,
   "id": "4800f14d-ceac-4356-85c8-ba72667f7356",
   "metadata": {},
   "outputs": [],
   "source": [
    "ids = data['id'].unique()\n",
    "\n",
    "np.random.seed(44)\n",
    "ids_test = np.random.choice(ids, size=int(np.ceil(len(ids)*0.5)), replace=False)\n",
    "ids_train = list(set(ids) - set(ids_test))\n",
    "\n",
    "mask = data['id'].isin(ids_train)\n",
    "df_train = data.loc[mask].copy()"
   ]
  },
  {
   "cell_type": "code",
   "execution_count": null,
   "id": "56f38ccb-72d7-4b56-b800-d0a3a0ee255a",
   "metadata": {},
   "outputs": [],
   "source": [
    "def train_MMG(df_train):\n",
    "    \n",
    "    df_train_MMG = df_train.copy()\n",
    "    df_train_MMG = preprocess(df_train_MMG, ship_data=ship_data, propeller_coefficients=propeller_coefficients)\n",
    "    df_train_MMG['C_2'] = np.where(df_train_MMG['beta_p'] > 0, ship_data_[\"C_2_beta_p_pos\"], ship_data_[\"C_2_beta_p_neg\"])\n",
    "    \n",
    "    df_train_MMG['thrust_'] = run(function=lambda_thrust, inputs=df_train_MMG, **ship_data_, **propeller_coefficients)\n",
    "    X = df_train_MMG[['thrust_']]\n",
    "    y = df_train['thrust']\n",
    "    model = sm.OLS(y,X)\n",
    "    predictor_MMG = model.fit()\n",
    "    return predictor_MMG\n",
    "\n",
    "def train_simple(df_train):\n",
    "    df_train_simple = df_train.copy()\n",
    "    df_train_simple['thrust_'] = run(propeller.lambda_thrust_simple, inputs=df_train_simple, **ship_data_, **propeller_coefficients, w_p=ship_data['w_p0'])\n",
    "    X = df_train_simple[['thrust_']]\n",
    "    y = df_train['thrust']\n",
    "    model = sm.OLS(y,X)\n",
    "    predictor_simple = model.fit()\n",
    "    return predictor_simple"
   ]
  },
  {
   "cell_type": "code",
   "execution_count": null,
   "id": "c716a4da-01c0-437e-bedf-f360072e955d",
   "metadata": {},
   "outputs": [],
   "source": [
    "predictor_MMG = train_MMG(df_train=df_train)\n",
    "predictor_simple = train_simple(df_train=df_train)\n",
    "\n",
    "add_constant=False\n",
    "model_pos, model_neg = propeller.fit(data=df_train, ship_data=ship_data, propeller_coefficients=propeller_coefficients, add_constant=add_constant)\n"
   ]
  },
  {
   "cell_type": "code",
   "execution_count": null,
   "id": "12343fb1-ca51-4524-93d6-0a233845737e",
   "metadata": {},
   "outputs": [],
   "source": [
    "mask = data['id'].isin(ids_test)\n",
    "df_test = data.loc[mask].copy()"
   ]
  },
  {
   "cell_type": "code",
   "execution_count": null,
   "id": "c5eeba69-123d-4616-8225-50d1fe22bb47",
   "metadata": {},
   "outputs": [],
   "source": [
    "def predict_MMG(df_test):\n",
    "    df_predict_MMG = df_test.copy()\n",
    "    df_predict_MMG = preprocess(df_predict_MMG, ship_data=ship_data, propeller_coefficients=propeller_coefficients)\n",
    "    df_predict_MMG['C_2'] = np.where(df_predict_MMG['beta_p'] > 0, ship_data_[\"C_2_beta_p_pos\"], ship_data_[\"C_2_beta_p_neg\"])\n",
    "    df_predict_MMG['thrust_'] = run(function=lambda_thrust, inputs=df_predict_MMG, **ship_data_, **propeller_coefficients)\n",
    "    X = df_predict_MMG[['thrust_']]\n",
    "    df_predict_MMG['thrust'] = predictor_MMG.predict(X)\n",
    "    return df_predict_MMG"
   ]
  },
  {
   "cell_type": "code",
   "execution_count": null,
   "id": "6734fa91-8bb5-49c9-927b-b15cf09cd5fb",
   "metadata": {},
   "outputs": [],
   "source": [
    "def predict_simple(df_test):\n",
    "    df_predict_simple = df_test.copy()\n",
    "    df_predict_simple['thrust_'] = run(propeller.lambda_thrust_simple, inputs=df_predict_simple, **ship_data_, **propeller_coefficients, w_p=ship_data['w_p0'])\n",
    "    X = df_predict_simple[['thrust_']]\n",
    "    y = df_test['thrust']\n",
    "    df_predict_simple['thrust'] = predictor_simple.predict(X)\n",
    "    return df_predict_simple"
   ]
  },
  {
   "cell_type": "code",
   "execution_count": null,
   "id": "e5c759cf-c346-4c6d-aac3-beaf3104cda8",
   "metadata": {},
   "outputs": [],
   "source": [
    "df_predict_MMG = predict_MMG(df_test=df_test)\n",
    "df_predict_simple = predict_simple(df_test=df_test)\n",
    "df_predict = propeller.predict(model_pos=model_pos, model_neg=model_neg, data=df_test, propeller_coefficients=propeller_coefficients, ship_data=ship_data)"
   ]
  },
  {
   "cell_type": "code",
   "execution_count": null,
   "id": "0e6da154-f4df-4c36-bde4-681e494311c1",
   "metadata": {},
   "outputs": [],
   "source": [
    "fig,ax=plt.subplots()\n",
    "mask = df_test['id'] == df_test['id'].unique()[-1]\n",
    "df_test.loc[mask].plot(y='thrust', ax=ax, label='True')\n",
    "df_predict_MMG.loc[mask].plot(y='thrust', ax=ax, label='MMG')\n",
    "df_predict_simple.loc[mask].plot(y='thrust', ax=ax, label='simple')\n",
    "df_predict.loc[mask].plot(y='thrust', ax=ax, label='model')\n",
    "ax.set_xlabel('time [s]')\n",
    "ax.set_ylabel('thrust [N]');\n"
   ]
  },
  {
   "cell_type": "code",
   "execution_count": null,
   "id": "91c1d0d0-e75f-4b99-9df7-07aebdfb47c3",
   "metadata": {},
   "outputs": [],
   "source": [
    "r2_score(y_true=df_test['thrust'], y_pred=df_predict_MMG['thrust'])"
   ]
  },
  {
   "cell_type": "code",
   "execution_count": null,
   "id": "8b88bbea-e59e-4ac6-bb77-da498fe9afa9",
   "metadata": {},
   "outputs": [],
   "source": [
    "r2_score(y_true=df_test['thrust'], y_pred=df_predict_simple['thrust'])"
   ]
  },
  {
   "cell_type": "code",
   "execution_count": null,
   "id": "8c8c6592-25b8-47c6-92c0-26f168fea3e1",
   "metadata": {},
   "outputs": [],
   "source": [
    "r2_score(y_true=df_test['thrust'], y_pred=df_predict['thrust'])"
   ]
  },
  {
   "cell_type": "code",
   "execution_count": null,
   "id": "11628d98-d366-42f8-a2de-e599948313d0",
   "metadata": {},
   "outputs": [],
   "source": [
    "model_pos.summary()"
   ]
  },
  {
   "cell_type": "code",
   "execution_count": null,
   "id": "61045240-b07b-44ae-9aed-69ebc5e3566e",
   "metadata": {},
   "outputs": [],
   "source": [
    "model_neg.summary()"
   ]
  },
  {
   "cell_type": "code",
   "execution_count": null,
   "id": "0103848e-c987-49c2-abaf-86f54e59ef6c",
   "metadata": {},
   "outputs": [],
   "source": [
    "scores = []\n",
    "for i in range(100):\n",
    "    \n",
    "    np.random.seed(i)\n",
    "    ids_test = np.random.choice(ids, size=int(np.ceil(len(ids)*0.5)), replace=False)\n",
    "    ids_train = list(set(ids) - set(ids_test))\n",
    "    \n",
    "    mask = data['id'].isin(ids_train)\n",
    "    df_train = data.loc[mask].copy()\n",
    "    \n",
    "    mask = data['id'].isin(ids_test)\n",
    "    df_test = data.loc[mask].copy()\n",
    "    \n",
    "    \n",
    "    # Train\n",
    "    predictor_MMG = train_MMG(df_train=df_train)\n",
    "    predictor_simple = train_simple(df_train=df_train)\n",
    "\n",
    "    add_constant=False\n",
    "    model_pos, model_neg = propeller.fit(data=df_train, ship_data=ship_data, propeller_coefficients=propeller_coefficients, add_constant=add_constant)\n",
    "\n",
    "    # Predict\n",
    "    df_predict_MMG = predict_MMG(df_test=df_test)\n",
    "    df_predict_simple = predict_simple(df_test=df_test)\n",
    "    df_predict = propeller.predict(model_pos=model_pos, model_neg=model_neg, data=df_test, propeller_coefficients=propeller_coefficients, ship_data=ship_data)\n",
    "   \n",
    "    score = {}\n",
    "    score['MMG'] = r2_score(y_true=df_test['thrust'], y_pred=df_predict_MMG['thrust'])\n",
    "    score['simple'] = r2_score(y_true=df_test['thrust'], y_pred=df_predict_simple['thrust'])\n",
    "    score['model'] = r2_score(y_true=df_test['thrust'], y_pred=df_predict['thrust'])\n",
    "    scores.append(score)\n",
    "    \n",
    "    \n",
    "scores= pd.DataFrame(scores)\n",
    "    "
   ]
  },
  {
   "cell_type": "code",
   "execution_count": null,
   "id": "5cf24d1b-1ab7-4fdd-aab1-3a285430b05a",
   "metadata": {},
   "outputs": [],
   "source": [
    "scores.describe()"
   ]
  },
  {
   "cell_type": "code",
   "execution_count": null,
   "id": "9c7265f0-2b7d-482c-969c-4f002f800bbc",
   "metadata": {},
   "outputs": [],
   "source": []
  }
 ],
 "metadata": {
  "citation-manager": {
   "items": {}
  },
  "kernelspec": {
   "display_name": "wPCC_pipeline",
   "language": "python",
   "name": "python3"
  },
  "language_info": {
   "codemirror_mode": {
    "name": "ipython",
    "version": 3
   },
   "file_extension": ".py",
   "mimetype": "text/x-python",
   "name": "python",
   "nbconvert_exporter": "python",
   "pygments_lexer": "ipython3",
   "version": "3.7.9"
  }
 },
 "nbformat": 4,
 "nbformat_minor": 5
}
