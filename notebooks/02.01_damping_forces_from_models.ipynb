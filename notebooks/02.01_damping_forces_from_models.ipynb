{
 "cells": [
  {
   "cell_type": "markdown",
   "id": "b18475f5-4265-4cc2-a3ce-c6819851067d",
   "metadata": {},
   "source": [
    "# Damping forces from models"
   ]
  },
  {
   "cell_type": "code",
   "execution_count": null,
   "id": "47b26fa6-0fca-48c3-aba2-ff9d77a7d65f",
   "metadata": {},
   "outputs": [],
   "source": [
    "# %load imports.py\n",
    "%load_ext autoreload\n",
    "%autoreload 2\n",
    "%reload_kedro\n",
    "import pandas as pd\n",
    "from vessel_manoeuvring_models.models.vmm import ModelSimulator\n",
    "import matplotlib.pyplot as plt\n",
    "from vessel_manoeuvring_models.visualization.plot import track_plots, plot, captive_plot\n",
    "import kedro\n",
    "import numpy as np\n",
    "\n",
    "import matplotlib\n",
    "matplotlib.rcParams[\"figure.figsize\"] = (15,4)\n",
    "from vessel_manoeuvring_models.symbols import *"
   ]
  },
  {
   "cell_type": "code",
   "execution_count": null,
   "id": "1d46738b-ef0a-4b0f-a531-1dd2ed9d3fab",
   "metadata": {},
   "outputs": [],
   "source": [
    "def get_dataset_name(vmm='vmm_linear', regression='force_regression', id=22773):\n",
    "    jinja = \"{{ vmm }}.{{ regression }}.{{ id }}.data_damping_forces\"\n",
    "    template = jinja.replace(r'{{','{').replace(r'}}','}')\n",
    "    \n",
    "    return eval(f\"f'{template}'\")\n",
    "\n",
    "def get_dataset(vmm='vmm_linear', regression='force_regression', id=22773):\n",
    "    \n",
    "    name = get_dataset_name(vmm=vmm, regression=regression, id=id)\n",
    "    return catalog.load(name)\n",
    "\n",
    "def get_dataset_name_joined(vmm='vmm_linear', regression='force_regression', id=22773, join_name='joined'):\n",
    "    jinja = \"{{ vmm }}.{{ regression }}.{{ join_name }}.{{ id }}.data_damping_forces\"\n",
    "    template = jinja.replace(r'{{','{').replace(r'}}','}')\n",
    "    \n",
    "    return eval(f\"f'{template}'\")\n",
    "\n",
    "def get_dataset_joined(vmm='vmm_linear', regression='force_regression', id=22773):\n",
    "    \n",
    "    name = get_dataset_name(vmm=vmm, regression=regression, id=id)\n",
    "    return catalog.load(name)\n",
    "    \n",
    "    "
   ]
  },
  {
   "cell_type": "code",
   "execution_count": null,
   "id": "1642d90a-b80c-4cfa-b0e3-e9a4cf75eb2f",
   "metadata": {},
   "outputs": [],
   "source": [
    "df_VCT = catalog.load(\"force_regression.data_scaled_resistance_corrected\")\n",
    "df_VCT['item'] = 'VCT'\n",
    "#data = df_VCT[['fx','fy','mz','u','v','V','r','beta','delta','thrust','test type']].copy()\n",
    "#data['item'] = 'VCT'\n",
    "data = pd.DataFrame()\n",
    "\n",
    "\n",
    "#vmms = ['vmm_martin']\n",
    "vmms = ['vmm_martins_simple']\n",
    "#vmms = ['vmm_linear']\n",
    "model_test_ids = [22773]\n",
    "\n",
    "for vmm in vmms:\n",
    "    data_ = get_dataset(vmm=vmm)\n",
    "    data_['item'] = get_dataset_name(vmm=vmm)\n",
    "    data = data.append(data_)\n",
    "    \n",
    "for vmm in vmms:\n",
    "    data_ = get_dataset_joined(vmm=vmm, regression='motion_regression')\n",
    "    data_['item'] = get_dataset_name_joined(vmm=vmm, regression='motion_regression', join_name='joined')\n",
    "    data = data.append(data_)\n",
    "    \n",
    "data.append(df_VCT)"
   ]
  },
  {
   "cell_type": "code",
   "execution_count": null,
   "id": "3801928f-c421-464c-9fed-918a4ddca69e",
   "metadata": {},
   "outputs": [],
   "source": [
    "import plotly.express as px\n",
    "from vessel_manoeuvring_models.visualization.plot import test_type_xplot\n",
    "\n",
    "V = data.groupby(by='V')['item'].count().sort_values().index[-1]\n",
    "data_V = data.groupby(by='V').get_group(V).copy()\n",
    "\n",
    "data_V[\"v*r\"] = data_V[\"v\"] * data_V[\"r\"]\n",
    "data_V[\"beta\"] = -np.arctan2(data_V[\"v\"], data_V[\"u\"])\n",
    "\n",
    "key = 'mz'\n",
    "\n",
    "for test_type, df in data_V.groupby(by='test type'):\n",
    "    \n",
    "    if test_type == 'resistance':\n",
    "        continue\n",
    "    \n",
    "    x = test_type_xplot.get(test_type, 'delta')\n",
    "    fig = px.line(df.sort_values(by=x), x=x, y=key, color=\"item\", width=1200, height=300, title=test_type)\n",
    "    fig.show()\n",
    "    \n",
    "fig = px.line(data.groupby(by='test type').get_group('resistance').sort_values(by='u'), x='u', y='fx', color=\"item\", width=1200, height=300, title='resistance')\n",
    "fig.show()"
   ]
  },
  {
   "cell_type": "code",
   "execution_count": null,
   "id": "d28537d7-6d15-4b31-abbe-3130269e6224",
   "metadata": {},
   "outputs": [],
   "source": [
    "captive_plot(data, styles=['-','--','o'])"
   ]
  },
  {
   "cell_type": "code",
   "execution_count": null,
   "id": "7db4f751-01ab-4734-8f88-8986f43a2e74",
   "metadata": {},
   "outputs": [],
   "source": [
    "data.groupby(by=['test type']).get_group('resistance')"
   ]
  },
  {
   "cell_type": "code",
   "execution_count": null,
   "id": "73d204b7-57e7-4862-9fd9-e60b23b1071c",
   "metadata": {},
   "outputs": [],
   "source": []
  },
  {
   "cell_type": "code",
   "execution_count": null,
   "id": "c72798e3-c105-48fc-8d8a-41c9833d6ad3",
   "metadata": {},
   "outputs": [],
   "source": []
  }
 ],
 "metadata": {
  "kernelspec": {
   "display_name": "wPCC_pipeline",
   "language": "python",
   "name": "python3"
  },
  "language_info": {
   "codemirror_mode": {
    "name": "ipython",
    "version": 3
   },
   "file_extension": ".py",
   "mimetype": "text/x-python",
   "name": "python",
   "nbconvert_exporter": "python",
   "pygments_lexer": "ipython3",
   "version": "3.7.9"
  }
 },
 "nbformat": 4,
 "nbformat_minor": 5
}
