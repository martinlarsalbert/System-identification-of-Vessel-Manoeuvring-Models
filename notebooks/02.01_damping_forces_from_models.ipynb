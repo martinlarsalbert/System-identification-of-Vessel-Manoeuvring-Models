{
 "cells": [
  {
   "cell_type": "markdown",
   "id": "b18475f5-4265-4cc2-a3ce-c6819851067d",
   "metadata": {},
   "source": [
    "# Damping forces from models"
   ]
  },
  {
   "cell_type": "code",
   "execution_count": null,
   "id": "47b26fa6-0fca-48c3-aba2-ff9d77a7d65f",
   "metadata": {},
   "outputs": [],
   "source": [
    "# %load imports.py\n",
    "%load_ext autoreload\n",
    "%autoreload 2\n",
    "%reload_kedro\n",
    "import pandas as pd\n",
    "from src.models.vmm import ModelSimulator\n",
    "import matplotlib.pyplot as plt\n",
    "from src.visualization.plot import track_plots, plot, captive_plot\n",
    "import kedro\n",
    "import numpy as np\n",
    "\n",
    "import matplotlib\n",
    "matplotlib.rcParams[\"figure.figsize\"] = (15,4)"
   ]
  },
  {
   "cell_type": "code",
   "execution_count": null,
   "id": "1d46738b-ef0a-4b0f-a531-1dd2ed9d3fab",
   "metadata": {},
   "outputs": [],
   "source": [
    "def get_dataset_name(vmm='vmm_linear', regression='force_regression', id=22773):\n",
    "    jinja = \"{{ vmm }}.{{ regression }}.{{ id }}.data_damping_forces\"\n",
    "    template = jinja.replace(r'{{','{').replace(r'}}','}')\n",
    "    \n",
    "    return eval(f\"f'{template}'\")\n",
    "\n",
    "def get_dataset(vmm='vmm_linear', regression='force_regression', id=22773):\n",
    "    \n",
    "    name = get_dataset_name(vmm=vmm, regression=regression, id=id)\n",
    "    return catalog.load(name)\n",
    "\n",
    "def get_dataset_name_joined(vmm='vmm_linear', regression='force_regression', id=22773):\n",
    "    jinja = \"{{ vmm }}.{{ regression }}.joined.{{ id }}.data_damping_forces\"\n",
    "    template = jinja.replace(r'{{','{').replace(r'}}','}')\n",
    "    \n",
    "    return eval(f\"f'{template}'\")\n",
    "\n",
    "def get_dataset_joined(vmm='vmm_linear', regression='force_regression', id=22773):\n",
    "    \n",
    "    name = get_dataset_name(vmm=vmm, regression=regression, id=id)\n",
    "    return catalog.load(name)\n",
    "    \n",
    "    "
   ]
  },
  {
   "cell_type": "code",
   "execution_count": null,
   "id": "1642d90a-b80c-4cfa-b0e3-e9a4cf75eb2f",
   "metadata": {},
   "outputs": [],
   "source": [
    "df_VCT = catalog.load('force_regression.data_scaled')\n",
    "\n",
    "data = df_VCT[['fx','fy','mz','u','v','V','r','beta','delta','thrust','test type']].copy()\n",
    "data['item'] = 'VCT'\n",
    "\n",
    "vmms = ['vmm_martin']\n",
    "model_test_ids = [22773]\n",
    "\n",
    "for vmm in vmms:\n",
    "    data_ = get_dataset(vmm=vmm)\n",
    "    data_['item'] = get_dataset_name(vmm=vmm)\n",
    "    data = data.append(data_)\n",
    "    \n",
    "for vmm in vmms:\n",
    "    data_ = get_dataset_joined(vmm=vmm, regression='motion_regression')\n",
    "    data_['item'] = get_dataset_name_joined(vmm=vmm, regression='motion_regression')\n",
    "    data = data.append(data_)\n",
    "    \n",
    "for vmm in vmms:\n",
    "    for model_test_id in model_test_ids:\n",
    "        data_ = get_dataset(vmm=vmm, regression='motion_regression', id=model_test_id)\n",
    "        data_['item'] = get_dataset_name(vmm=vmm, regression='motion_regression', id=model_test_id)\n",
    "        data = data.append(data_)"
   ]
  },
  {
   "cell_type": "code",
   "execution_count": null,
   "id": "a20305f0-439d-46a3-a58b-be4e55da28c1",
   "metadata": {},
   "outputs": [],
   "source": [
    "captive_plot(data, styles=['.','-'])"
   ]
  },
  {
   "cell_type": "code",
   "execution_count": null,
   "id": "2677aaff-4c02-44ed-8cfe-901bbd412f58",
   "metadata": {},
   "outputs": [],
   "source": [
    "data['item'].unique()"
   ]
  },
  {
   "cell_type": "code",
   "execution_count": null,
   "id": "a215ac9d-61df-40e4-80b4-ee56d8475b37",
   "metadata": {},
   "outputs": [],
   "source": [
    "data2 = data.groupby(by='item').filter(lambda x : x.iloc[0]['item'] in ['vmm_martin.force_regression.22773.data_damping_forces','vmm_martin.motion_regression.22773.data_damping_forces'])"
   ]
  },
  {
   "cell_type": "code",
   "execution_count": null,
   "id": "da5d3c37-d0c1-448b-96c9-0de148c1eebd",
   "metadata": {},
   "outputs": [],
   "source": [
    "captive_plot(data2, styles=[':','-'])"
   ]
  },
  {
   "cell_type": "code",
   "execution_count": null,
   "id": "2bb446f3-5054-4a8f-8e8e-17f804cb6b87",
   "metadata": {},
   "outputs": [],
   "source": [
    "items=data.groupby(by='item')\n",
    "df_force = items.get_group('vmm_martin.force_regression.22773.data_damping_forces')\n",
    "df_motion= items.get_group('vmm_martin.motion_regression.22773.data_damping_forces')"
   ]
  },
  {
   "cell_type": "code",
   "execution_count": null,
   "id": "041bf8ad-aeca-42f3-9eda-11f66e68d4e2",
   "metadata": {},
   "outputs": [],
   "source": [
    "df_compare = df_force.copy()\n",
    "forces = ['fx','fy','mz']\n",
    "df_compare[forces] = df_force[forces]/df_motion[forces]\n",
    "df_compare['item'] = 'compare'\n",
    "df_compare['test type'] = df_force['test type']"
   ]
  },
  {
   "cell_type": "code",
   "execution_count": null,
   "id": "1ca28c4e-dab2-49ab-b27e-f1395160c7a9",
   "metadata": {},
   "outputs": [],
   "source": [
    "captive_plot(df_compare, styles=['-'])"
   ]
  },
  {
   "cell_type": "code",
   "execution_count": null,
   "id": "330578fe-5998-4683-bd1b-b1f0562610eb",
   "metadata": {},
   "outputs": [],
   "source": [
    "df_compare.sort_values(by='V').plot(x='V', y='fx')"
   ]
  },
  {
   "cell_type": "code",
   "execution_count": null,
   "id": "3801928f-c421-464c-9fed-918a4ddca69e",
   "metadata": {},
   "outputs": [],
   "source": []
  }
 ],
 "metadata": {
  "kernelspec": {
   "display_name": "wPCC_pipeline",
   "language": "python",
   "name": "python3"
  },
  "language_info": {
   "codemirror_mode": {
    "name": "ipython",
    "version": 3
   },
   "file_extension": ".py",
   "mimetype": "text/x-python",
   "name": "python",
   "nbconvert_exporter": "python",
   "pygments_lexer": "ipython3",
   "version": "3.7.9"
  }
 },
 "nbformat": 4,
 "nbformat_minor": 5
}
