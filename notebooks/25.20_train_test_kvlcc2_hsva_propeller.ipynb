{
 "cells": [
  {
   "cell_type": "markdown",
   "id": "21fadab3-6e5d-49d8-8227-a9f5b1505fc0",
   "metadata": {
    "citation-manager": {
     "citations": {
      "hzn48": [
       {
        "id": "7505983/U2L55C9Q",
        "source": "zotero"
       }
      ]
     }
    },
    "tags": []
   },
   "source": [
    "# Train test split KVLCC2 HSVA with propeller model\n",
    "<cite id=\"hzn48\"><a href=\"#zotero|7505983/U2L55C9Q\">(Luo et al., 2016)</a></cite>"
   ]
  },
  {
   "cell_type": "code",
   "execution_count": null,
   "id": "2020a162-05bf-4649-961b-a6c00ea48c4a",
   "metadata": {},
   "outputs": [],
   "source": [
    "# %load imports.py\n",
    "%load_ext autoreload\n",
    "%autoreload 2\n",
    "%reload_kedro\n",
    "%config Completer.use_jedi = False  ## (To fix autocomplete)\n",
    "%matplotlib inline\n",
    "\n",
    "import warnings\n",
    "warnings.filterwarnings('ignore')\n",
    "\n",
    "import pandas as pd\n",
    "pd.set_option('display.max_rows', 500)\n",
    "pd.set_option('display.max_columns', 500)\n",
    "from src.models.vmm import ModelSimulator\n",
    "import matplotlib.pyplot as plt\n",
    "from src.visualization.plot import track_plots, plot, captive_plot\n",
    "import kedro\n",
    "import numpy as np\n",
    "import os.path\n",
    "import anyconfig\n",
    "\n",
    "import matplotlib\n",
    "matplotlib.rcParams[\"figure.figsize\"] = (10,10)\n",
    "from src.symbols import *\n",
    "\n",
    "# Read configs:\n",
    "conf_path = os.path.join(\"../conf/base/\")\n",
    "runs_globals_path = os.path.join(\n",
    "    conf_path,\n",
    "    \"runs_globals.yml\",\n",
    ")\n",
    "\n",
    "runs_globals = anyconfig.load(runs_globals_path)\n",
    "model_test_ids = runs_globals[\"model_test_ids\"]\n",
    "\n",
    "join_globals_path = os.path.join(\n",
    "    conf_path,\n",
    "    \"join_globals.yml\",\n",
    ")\n",
    "\n",
    "joins = runs_globals[\"joins\"]\n",
    "join_runs_dict = anyconfig.load(join_globals_path)\n",
    "\n",
    "globals_path = os.path.join(\n",
    "    conf_path,\n",
    "    \"globals.yml\",\n",
    ")\n",
    "global_variables = anyconfig.load(globals_path)\n",
    "\n",
    "\n",
    "\n",
    "vmm_names = global_variables[\"vmms\"]\n",
    "\n",
    "from wPCC_pipeline.pipelines.motion_regression.nodes import predict_force, fit_motions, create_model_from_motion_regression, create_full_model_from_motion_regression\n",
    "from wPCC_pipeline.pipelines.prediction.nodes import simulate_euler\n",
    "from src.models.vmm import VMM\n",
    "from src.parameters import df_parameters\n",
    "from src.models.propeller import fit, predict, predictor"
   ]
  },
  {
   "cell_type": "code",
   "execution_count": null,
   "id": "1dc9730f-67db-4e4a-ae0d-911ad8c54d0f",
   "metadata": {},
   "outputs": [],
   "source": [
    "ship=\"kvlcc2_hsva\"\n",
    "vmm_name = \"vmm_martins_simple\"\n",
    "#vmm_name = \"vmm_abkowitz\"\n",
    "vmm = catalog.load(vmm_name)\n",
    "\n",
    "ship_data = catalog.load(f\"{ship}.ship_data\")\n",
    "\n",
    "train = \"HSVA_CPMC_KVLCC2_Z_25_05\"\n",
    "df_train = catalog.load(f'{ship}.updated.{train}.data_ek_smooth')\n",
    "\n",
    "test = \"HSVA_CPMC_KVLCC2_Z_35_05\"\n",
    "df_test = catalog.load(f'{ship}.updated.{test}.data_ek_smooth')\n",
    "\n",
    "#delta_start = np.deg2rad(10.5)\n",
    "#\n",
    "#for data in [df_train, df_test]:\n",
    "#    index_start = (data['delta'].diff().abs() > 0).idxmax()\n",
    "#    start = data.loc[0:index_start] \n",
    "#    start['delta'] = delta_start\n",
    "\n",
    "#index_start = (df_train['delta'].diff().abs() > 0).idxmax()\n",
    "#df_train = df_train.loc[index_start:].copy()\n",
    "#df_train.index = df_train.index - df_train.index[0]\n",
    "\n",
    "index_start = (df_test['delta'].diff().abs() > 0).idxmax()\n",
    "df_test = df_test.loc[index_start:].copy()\n",
    "df_test.index = df_test.index - df_test.index[0]\n",
    "\n",
    "\n",
    "added_masses = catalog.load(f\"{ship}.added_masses\")\n",
    "exclude_parameters = catalog.load(f\"params:{ship}.motion_regression.exclude_parameters\")"
   ]
  },
  {
   "cell_type": "code",
   "execution_count": null,
   "id": "5e31d2cb-ee93-4cb3-b4d1-c3de5a8a9551",
   "metadata": {},
   "outputs": [],
   "source": [
    "data = df_train\n",
    "data_with_force = predict_force(data=data, added_masses=added_masses, ship_parameters=ship_data, vmm=vmm)\n"
   ]
  },
  {
   "cell_type": "code",
   "execution_count": null,
   "id": "861ae36e-85ad-41e9-b842-3c3fb7e6ef4d",
   "metadata": {},
   "outputs": [],
   "source": [
    "vmm.X_eq"
   ]
  },
  {
   "cell_type": "code",
   "execution_count": null,
   "id": "f023dccf-3704-4fe4-9267-c959b8ddd004",
   "metadata": {},
   "outputs": [],
   "source": [
    "vmm.Y_eq"
   ]
  },
  {
   "cell_type": "code",
   "execution_count": null,
   "id": "58304827-0024-4a36-9bda-f23278056edb",
   "metadata": {},
   "outputs": [],
   "source": [
    "vmm.N_eq"
   ]
  },
  {
   "cell_type": "code",
   "execution_count": null,
   "id": "5612f780-857e-4fb8-99c3-30023fd90bbc",
   "metadata": {},
   "outputs": [],
   "source": [
    "regression, parameters = fit_motions(data=data_with_force, added_masses=added_masses, ship_data=ship_data, vmm=vmm, exclude_parameters=exclude_parameters)"
   ]
  },
  {
   "cell_type": "code",
   "execution_count": null,
   "id": "50ef2f11-0b6d-4580-a311-2d675af61dfc",
   "metadata": {},
   "outputs": [],
   "source": [
    "model = create_model_from_motion_regression(regression=regression)"
   ]
  },
  {
   "cell_type": "markdown",
   "id": "13c52c7e-2b21-4958-9e51-81d09714453a",
   "metadata": {
    "tags": []
   },
   "source": [
    "## Thrust model"
   ]
  },
  {
   "cell_type": "code",
   "execution_count": null,
   "id": "50092a97-863e-4d61-8f4e-6192296d41aa",
   "metadata": {},
   "outputs": [],
   "source": [
    "propeller_coefficients = catalog.load(\"kvlcc2.propeller_coefficients\")"
   ]
  },
  {
   "cell_type": "code",
   "execution_count": null,
   "id": "283d999a-9815-4251-9ee0-469a31338ed8",
   "metadata": {},
   "outputs": [],
   "source": [
    "add_constant = False\n",
    "model_pos, model_neg = fit(data=data, ship_data=ship_data, propeller_coefficients=propeller_coefficients, add_constant=add_constant) \n",
    "data_predicted_thrust = predict(model_pos=model_pos, model_neg=model_neg, data=data_with_force, propeller_coefficients=propeller_coefficients, \n",
    "                                ship_data=ship_data, add_constant=add_constant)\n",
    "\n",
    "regression_predicted_thrust, parameters = fit_motions(data=data_predicted_thrust, added_masses=added_masses, \n",
    "                                                      ship_data=ship_data, vmm=vmm, exclude_parameters=exclude_parameters)"
   ]
  },
  {
   "cell_type": "code",
   "execution_count": null,
   "id": "3a3a8c6f-c3ce-4817-97be-4e91b848addd",
   "metadata": {},
   "outputs": [],
   "source": [
    "model_predicted_thrust = create_full_model_from_motion_regression(regression=regression_predicted_thrust, \n",
    "                                                                  model_pos=model_pos, \n",
    "                                                                  model_neg=model_neg, \n",
    "                                                                  propeller_coefficients=propeller_coefficients)"
   ]
  },
  {
   "cell_type": "code",
   "execution_count": null,
   "id": "901304a2-66d2-42a4-a07e-668a81e901e6",
   "metadata": {},
   "outputs": [],
   "source": [
    "df_ = df_test.copy()\n",
    "df_predicted_thrust = predict(model_pos=model_pos, model_neg=model_neg, data=df_test, propeller_coefficients=propeller_coefficients, \n",
    "                                ship_data=ship_data, add_constant=add_constant)\n",
    "\n",
    "#df_.iloc[0]['r'] = 0\n",
    "#df_.iloc[0]['r'] = -0.03\n",
    "#df_['delta']+=np.deg2rad(1.5)\n",
    "    \n",
    "result = model.simulate(df_=df_)\n",
    "result_predicted_thrust = model_predicted_thrust.simulate(df_=df_.drop(columns=['thrust']))\n",
    "\n",
    "df_result = result.result.copy()\n",
    "df_result_predicted_thrust = result_predicted_thrust.result.copy()\n",
    "df_result_predicted_thrust['thrust'] = predict(model_pos=model_pos, \n",
    "                                               model_neg=model_neg, \n",
    "                                               data=df_result_predicted_thrust, \n",
    "                                               propeller_coefficients=propeller_coefficients, \n",
    "                                               ship_data=ship_data)['thrust']\n",
    "\n",
    "for df in [df_test, df_result, df_result_predicted_thrust]:\n",
    "    df['psi_deg'] = np.rad2deg(df['psi'])\n",
    "    df['delta_deg'] = np.rad2deg(df['delta'])\n",
    "\n",
    "dataframes = {\n",
    "    'Experiment' : df_test,\n",
    "    'Hull + Rudder prediction' : df_result,\n",
    "    'Full prediction' : df_result_predicted_thrust,\n",
    "    \n",
    "}\n",
    "\n",
    "styles = {\n",
    "    'Experiment' : {'style':'r--'},\n",
    "    'Hull + Rudder prediction' : {'style':'b--'},\n",
    "    'Full prediction' : {'style':'k-'},\n",
    "}\n",
    "\n",
    "\n"
   ]
  },
  {
   "cell_type": "code",
   "execution_count": null,
   "id": "3b0c56c5-e0f3-4f0b-ad5e-d57071c91942",
   "metadata": {},
   "outputs": [],
   "source": [
    "track_plots(dataframes, lpp=ship_data['L'], beam=ship_data['B'],  styles=styles);"
   ]
  },
  {
   "cell_type": "code",
   "execution_count": null,
   "id": "6c9ac758-ed4e-4d7f-a7d9-4d57cf602bba",
   "metadata": {},
   "outputs": [],
   "source": [
    "#plot(dataframes=dataframes, keys=['delta_deg','psi_deg','y0','u','v','r'], ncols=1, styles=styles, time_window=[0,2]);\n",
    "plot(dataframes=dataframes, keys=['delta_deg','psi_deg','thrust','y0','u','v','r'], ncols=1, styles=styles);"
   ]
  },
  {
   "cell_type": "code",
   "execution_count": null,
   "id": "392af917-050a-46d0-9094-018d9c6ac903",
   "metadata": {},
   "outputs": [],
   "source": [
    "u0 = data['u'].iloc[0]\n",
    "rev = data['rev'].iloc[0]\n",
    "result2 = model_predicted_thrust.zigzag(u0=u0, rev=rev, angle=35, heading_dev=5)\n",
    "result2.include_accelerations=False\n",
    "df_result2 = result2.result.copy()\n",
    "for df in [df_result2]:\n",
    "    df['psi_deg'] = np.rad2deg(df['psi'])\n",
    "    df['delta_deg'] = np.rad2deg(df['delta'])"
   ]
  },
  {
   "cell_type": "code",
   "execution_count": null,
   "id": "e94a6405-75a9-4582-965f-65b9023dee0e",
   "metadata": {},
   "outputs": [],
   "source": [
    "df_result2['thrust'] = predict(model_pos=model_pos, model_neg=model_neg, data=df_result2, propeller_coefficients=propeller_coefficients, ship_data=ship_data)['thrust']"
   ]
  },
  {
   "cell_type": "code",
   "execution_count": null,
   "id": "14cc05f7-1f02-4162-b609-88996468e004",
   "metadata": {},
   "outputs": [],
   "source": [
    "track_plots({'sim':result2.result}, lpp=ship_data['L'], beam=ship_data['B'],  styles=styles);"
   ]
  },
  {
   "cell_type": "code",
   "execution_count": null,
   "id": "30ab3792-69e9-4892-856c-7765ca6a74e5",
   "metadata": {},
   "outputs": [],
   "source": [
    "plot({'sim':df_result2}, keys=['delta_deg','psi_deg','thrust','y0','u','v','r'], ncols=1, time_window=[0,10]);"
   ]
  },
  {
   "cell_type": "code",
   "execution_count": null,
   "id": "5e686536-9c00-42dd-b48d-a8b6bce6e965",
   "metadata": {},
   "outputs": [],
   "source": [
    "u0 = data['u'].iloc[0]\n",
    "rev = data['rev'].iloc[0]\n",
    "result2 = model_predicted_thrust.turning_circle(u0=u0, rev=rev, angle=35)\n",
    "result2.include_accelerations=False\n",
    "df_result2 = result2.result.copy()"
   ]
  },
  {
   "cell_type": "code",
   "execution_count": null,
   "id": "b98ea567-b97f-4f11-a45b-13d5473a73b3",
   "metadata": {},
   "outputs": [],
   "source": [
    "df_result2['thrust'] = predict(model_pos=model_pos, model_neg=model_neg, data=df_result2, propeller_coefficients=propeller_coefficients, ship_data=ship_data)['thrust']"
   ]
  },
  {
   "cell_type": "code",
   "execution_count": null,
   "id": "5d8cfc4d-1de3-4ae3-97df-cc1b5f20878c",
   "metadata": {},
   "outputs": [],
   "source": [
    "track_plots({'sim':result2.result}, lpp=ship_data['L'], beam=ship_data['B'],  styles=styles);"
   ]
  },
  {
   "cell_type": "code",
   "execution_count": null,
   "id": "d441f6b3-cfec-4f4d-ae51-77f69ab0e4b7",
   "metadata": {},
   "outputs": [],
   "source": [
    "plot({'sim':df_result2}, keys=['delta','psi','thrust','y0','u','v','r'], ncols=1,);"
   ]
  }
 ],
 "metadata": {
  "citation-manager": {
   "items": {
    "zotero": {
     "7505983/U2L55C9Q": {
      "DOI": "10.1115/1.4032892",
      "URL": "https://asmedigitalcollection.asme.org/offshoremechanics/article/doi/10.1115/1.4032892/376874/Parameter-Identification-of-Ship-Maneuvering-Model",
      "abstract": "Combined with the free-running model tests of KVLCC ship, the system identification (SI) based on support vector machines (SVM) is proposed for the prediction of ship maneuvering motion. The hydrodynamic derivatives in an Abkowitz model are determined by the Lagrangian factors and the support vectors in the SVM regression model. To obtain the optimized structural factors in SVM, particle swarm optimization (PSO) is incorporated into SVM. To diminish the drift of hydrodynamic derivatives after regression, a difference method is adopted to reconstruct the training samples before identification. The validity of the difference method is verified by correlation analysis. Based on the Abkowitz mathematical model, the simulation of ship maneuvering motion is conducted. Comparison between the predicted results and the test results demonstrates the validity of the proposed methods in this paper.",
      "accessed": {
       "date-parts": [
        [
         2020,
         8,
         24
        ]
       ]
      },
      "author": [
       {
        "family": "Luo",
        "given": "Weilin"
       },
       {
        "family": "Guedes Soares",
        "given": "C."
       },
       {
        "family": "Zou",
        "given": "Zaojian"
       }
      ],
      "container-title": "Journal of Offshore Mechanics and Arctic Engineering",
      "id": "7505983/U2L55C9Q",
      "issue": "3",
      "issued": {
       "date-parts": [
        [
         2016,
         6,
         1
        ]
       ]
      },
      "language": "en",
      "page": "031101",
      "system_id": "zotero|7505983/U2L55C9Q",
      "title": "Parameter Identification of Ship Maneuvering Model Based on Support Vector Machines and Particle Swarm Optimization",
      "type": "article-journal",
      "volume": "138"
     }
    }
   }
  },
  "kernelspec": {
   "display_name": "wPCC_pipeline",
   "language": "python",
   "name": "python3"
  },
  "language_info": {
   "codemirror_mode": {
    "name": "ipython",
    "version": 3
   },
   "file_extension": ".py",
   "mimetype": "text/x-python",
   "name": "python",
   "nbconvert_exporter": "python",
   "pygments_lexer": "ipython3",
   "version": "3.7.9"
  }
 },
 "nbformat": 4,
 "nbformat_minor": 5
}
