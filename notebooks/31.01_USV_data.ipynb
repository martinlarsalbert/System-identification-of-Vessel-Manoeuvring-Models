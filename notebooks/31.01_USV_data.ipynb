{
 "cells": [
  {
   "cell_type": "markdown",
   "id": "9163d20d-4f88-4cc6-88ea-09a96a12f4ad",
   "metadata": {},
   "source": [
    "# Investigating the USV data from Paper 2"
   ]
  },
  {
   "cell_type": "code",
   "execution_count": null,
   "id": "b66071cb-242c-4058-9647-ee4d5a1f20fa",
   "metadata": {
    "tags": [
     "remove-cell"
    ]
   },
   "outputs": [],
   "source": [
    "# %load imports.py\n",
    "%load_ext autoreload\n",
    "%autoreload 2\n",
    "%reload_kedro\n",
    "%config Completer.use_jedi = False  ## (To fix autocomplete)\n",
    "%matplotlib inline\n",
    "\n",
    "import warnings\n",
    "warnings.filterwarnings('ignore')\n",
    "\n",
    "import pandas as pd\n",
    "pd.set_option('display.max_rows', 500)\n",
    "pd.set_option('display.max_columns', 500)\n",
    "from src.models.vmm import ModelSimulator\n",
    "import matplotlib.pyplot as plt\n",
    "from src.visualization.plot import track_plots, plot, captive_plot, track_plot\n",
    "import kedro\n",
    "import numpy as np\n",
    "import os.path\n",
    "import anyconfig\n",
    "\n",
    "import matplotlib\n",
    "#plt.style.use('paper')\n",
    "#from IPython.display import set_matplotlib_formats\n",
    "#set_matplotlib_formats('pdf')\n",
    "\n",
    "from src.symbols import *\n",
    "\n",
    "# Read configs:\n",
    "conf_path = os.path.join(\"../conf/base/\")\n",
    "runs_globals_path = os.path.join(\n",
    "    conf_path,\n",
    "    \"runs_globals.yml\",\n",
    ")\n",
    "\n",
    "runs_globals = anyconfig.load(runs_globals_path)\n",
    "model_test_ids = runs_globals[\"model_test_ids\"]\n",
    "\n",
    "join_globals_path = os.path.join(\n",
    "    conf_path,\n",
    "    \"join_globals.yml\",\n",
    ")\n",
    "\n",
    "joins = runs_globals[\"joins\"]\n",
    "join_runs_dict = anyconfig.load(join_globals_path)\n",
    "\n",
    "globals_path = os.path.join(\n",
    "    conf_path,\n",
    "    \"globals.yml\",\n",
    ")\n",
    "global_variables = anyconfig.load(globals_path)\n",
    "\n",
    "\n",
    "\n",
    "vmm_names = global_variables[\"vmms\"]\n",
    "\n",
    "from wPCC_pipeline.pipelines.motion_regression.nodes import predict_force, fit_motions, create_model_from_motion_regression\n",
    "from wPCC_pipeline.pipelines.prediction.nodes import simulate_euler\n",
    "from src.prime_system import PrimeSystem\n",
    "\n",
    "from sklearn.linear_model import LinearRegression\n",
    "from sklearn.model_selection import cross_val_score\n",
    "from sklearn.model_selection import RepeatedKFold\n",
    "from sklearn.feature_selection import SelectKBest\n",
    "from sklearn.feature_selection import f_regression\n",
    "from sklearn.pipeline import Pipeline\n",
    "from src.parameters import df_parameters\n",
    "p = df_parameters['symbol']\n",
    "from src.feature_selection import drop_multicollinearity\n",
    "from src.bias_variance_tradeoff import train_test_split_run\n",
    "from sklearn.metrics import r2_score\n",
    "from wPCC_pipeline.pipelines.motion_regression.nodes import predict_force, fit_motions, create_model_from_motion_regression, create_full_model_from_motion_regression\n",
    "from src.models.regression import Regression\n",
    "from myst_nb import glue\n",
    "import src.symbols as s\n",
    "from IPython.display import Latex\n",
    "from src.substitute_dynamic_symbols import run\n",
    "import seaborn as sns\n",
    "from src.feature_selection import feature_imporance, BestFeatures, DropCorrelation\n",
    "from wPCC_pipeline.turning_circle import TurningCircle\n",
    "from src.models.propeller import fit, predict, predictor\n",
    "from wPCC_pipeline.monte_carlo import monte_carlo, parameter_variation\n",
    "from wPCC_pipeline.pipelines.preprocess.nodes import load, filter"
   ]
  },
  {
   "cell_type": "code",
   "execution_count": null,
   "id": "f5ce6e78-b5cb-4284-a279-2e56720a3543",
   "metadata": {},
   "outputs": [],
   "source": [
    "%reload_kedro"
   ]
  },
  {
   "cell_type": "code",
   "execution_count": null,
   "id": "89ff239b-27f5-4530-aa0e-429bb55866f6",
   "metadata": {},
   "outputs": [],
   "source": [
    "ship=\"USV\"\n",
    "id = \"zigzag_30_inter_xy\"\n",
    "#id = \"turnningdata_xy\"\n",
    "data = catalog.load(f\"{ ship }.{ id }.raw_data\")\n",
    "\n",
    "if id == \"zigzag_30_inter_xy\":\n",
    "    #data.index = data.index/10  #?\n",
    "    cutoff = 0.5\n",
    "else:\n",
    "    #data.index = data.index/2  #?\n",
    "    cutoff = 0.1"
   ]
  },
  {
   "cell_type": "code",
   "execution_count": null,
   "id": "a4e9c7cb-4c2e-4ed4-bbf3-c91a9dd3cfff",
   "metadata": {},
   "outputs": [],
   "source": [
    "data.head()"
   ]
  },
  {
   "cell_type": "code",
   "execution_count": null,
   "id": "3d490ea2-2d0a-47e4-b70d-c4c3cdaf568d",
   "metadata": {},
   "outputs": [],
   "source": [
    "np.mean(np.diff(data.index))"
   ]
  },
  {
   "cell_type": "code",
   "execution_count": null,
   "id": "87a5c223-fd9c-4a0d-bd78-f1f332a8cd5f",
   "metadata": {},
   "outputs": [],
   "source": [
    "data.index[-1]"
   ]
  },
  {
   "cell_type": "code",
   "execution_count": null,
   "id": "567c9d00-1689-46ef-85d6-2b3e9b679cd3",
   "metadata": {},
   "outputs": [],
   "source": [
    "data.dtypes"
   ]
  },
  {
   "cell_type": "code",
   "execution_count": null,
   "id": "fdadff65-f0d1-476b-83cb-2fc9fea2a2d2",
   "metadata": {},
   "outputs": [],
   "source": [
    "data['-rudder'] = -data['rudder']\n",
    "data.plot(y=['heading','rudder'])"
   ]
  },
  {
   "cell_type": "code",
   "execution_count": null,
   "id": "45800687-4715-4e5f-a104-7f3f2a555c4b",
   "metadata": {},
   "outputs": [],
   "source": [
    "fig,ax=plt.subplots()\n",
    "data['psi'] = np.unwrap(data['psi'])\n",
    "data.plot(x='y0',y='x0', kind='line', ax=ax)\n",
    "ax.axis('equal')"
   ]
  },
  {
   "cell_type": "code",
   "execution_count": null,
   "id": "a1a32dfa-4349-4536-874e-fdb0aff7abc1",
   "metadata": {},
   "outputs": [],
   "source": [
    "df = load(data)"
   ]
  },
  {
   "cell_type": "code",
   "execution_count": null,
   "id": "a3cf83b6-656f-43fb-9e5a-e032c9fd01a2",
   "metadata": {},
   "outputs": [],
   "source": [
    "df.plot(y='u')"
   ]
  },
  {
   "cell_type": "code",
   "execution_count": null,
   "id": "09f4bd50-09d7-466b-8af7-6d8232bf8c42",
   "metadata": {},
   "outputs": [],
   "source": [
    "df.plot(y='v')"
   ]
  },
  {
   "cell_type": "code",
   "execution_count": null,
   "id": "79d9b201-df99-416c-bdf2-151ec68aeb1d",
   "metadata": {},
   "outputs": [],
   "source": [
    "\n",
    "\n",
    "df_filtered = filter(df, cutoff=cutoff)\n",
    "\n",
    "df_filtered['psi'] = np.unwrap(df_filtered['psi'])\n",
    "mask = (df_filtered['psi'] - df_filtered.iloc[0]['psi']).abs() < 1.37*(2*np.pi)\n",
    "df_filtered = df_filtered.loc[mask]"
   ]
  },
  {
   "cell_type": "code",
   "execution_count": null,
   "id": "8a16355f-bb8f-46da-a90a-4a287f9963f4",
   "metadata": {},
   "outputs": [],
   "source": [
    "track_plot(df_filtered, lpp=3, beam=0.7)\n",
    "\n",
    "fig,ax=plt.subplots()\n",
    "df_filtered.plot(y='u',ax=ax)\n",
    "ax.grid()\n",
    "\n",
    "fig,ax=plt.subplots()\n",
    "df_filtered.plot(y='v', ax=ax)\n",
    "ax.grid()\n",
    "\n",
    "fig,ax=plt.subplots()\n",
    "df_filtered['r_deg'] = np.rad2deg(df_filtered['r'])\n",
    "df_filtered.plot(y='r_deg', ax=ax)\n",
    "ax.grid()"
   ]
  },
  {
   "cell_type": "code",
   "execution_count": null,
   "id": "2f744c1c-1880-4b33-9f96-c0830faa74a7",
   "metadata": {},
   "outputs": [],
   "source": []
  },
  {
   "cell_type": "code",
   "execution_count": null,
   "id": "1fecc4bc-c080-4e1f-a1e0-b49c3076b9d9",
   "metadata": {},
   "outputs": [],
   "source": []
  }
 ],
 "metadata": {
  "citation-manager": {
   "items": {}
  },
  "kernelspec": {
   "display_name": "wPCC_pipeline",
   "language": "python",
   "name": "python3"
  },
  "language_info": {
   "codemirror_mode": {
    "name": "ipython",
    "version": 3
   },
   "file_extension": ".py",
   "mimetype": "text/x-python",
   "name": "python",
   "nbconvert_exporter": "python",
   "pygments_lexer": "ipython3",
   "version": "3.7.9"
  }
 },
 "nbformat": 4,
 "nbformat_minor": 5
}
