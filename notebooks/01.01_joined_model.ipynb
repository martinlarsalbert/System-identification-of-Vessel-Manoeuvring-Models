{
 "cells": [
  {
   "cell_type": "code",
   "execution_count": null,
   "id": "19971105-1894-4bf4-8585-50241cf348ac",
   "metadata": {},
   "outputs": [],
   "source": [
    "%load_ext autoreload\n",
    "%autoreload 2\n",
    "%reload_kedro\n",
    "import pandas as pd\n",
    "from src.models.vmm import ModelSimulator\n",
    "import matplotlib.pyplot as plt\n",
    "from src.visualization.plot import track_plots, plot\n",
    "import kedro\n",
    "\n",
    "import matplotlib\n",
    "matplotlib.rcParams[\"figure.figsize\"] = (15,4)"
   ]
  },
  {
   "cell_type": "code",
   "execution_count": null,
   "id": "ffc53b53-94a9-4b9b-8644-17f9ca3fbbb6",
   "metadata": {},
   "outputs": [],
   "source": [
    "id = \"22774\"\n",
    "df = catalog.load(f\"{id}.data\")\n",
    "df_smooth = catalog.load(f\"{id}.data_ek_smooth\")\n",
    "model = catalog.load(\"vmm_martin.motion_regression.joined.model\")"
   ]
  },
  {
   "cell_type": "code",
   "execution_count": null,
   "id": "98d44262-efcc-4bab-bb33-7ef92571e83b",
   "metadata": {},
   "outputs": [],
   "source": [
    "result = model.simulate(df_=df)\n",
    "result2 = model.simulate(df_=df_smooth)\n"
   ]
  },
  {
   "cell_type": "code",
   "execution_count": null,
   "id": "3125bf62-cfd6-49a4-92be-095a5120288a",
   "metadata": {},
   "outputs": [],
   "source": [
    "dataframes = {\n",
    "'model test' : df,\n",
    "'simulation (model test)' : result.result,\n",
    "'simulation (smooth)' : result2.result,\n",
    "    \n",
    "}\n",
    "\n",
    "fig,ax=plt.subplots()\n",
    "track_plots(dataframes=dataframes, lpp=model.ship_parameters['L'], beam=model.ship_parameters['B'], ax=ax);\n",
    "\n",
    "plot(dataframes, keys=result.result.columns);\n"
   ]
  },
  {
   "cell_type": "code",
   "execution_count": null,
   "id": "0b089ffc-90dc-4a57-b71b-cf8880b5a25d",
   "metadata": {},
   "outputs": [],
   "source": []
  },
  {
   "cell_type": "code",
   "execution_count": null,
   "id": "a1670674-8aec-4de7-b8c0-79ac39d7c843",
   "metadata": {},
   "outputs": [],
   "source": []
  }
 ],
 "metadata": {
  "kernelspec": {
   "display_name": "wPCC_pipeline",
   "language": "python",
   "name": "python3"
  },
  "language_info": {
   "codemirror_mode": {
    "name": "ipython",
    "version": 3
   },
   "file_extension": ".py",
   "mimetype": "text/x-python",
   "name": "python",
   "nbconvert_exporter": "python",
   "pygments_lexer": "ipython3",
   "version": "3.7.9"
  }
 },
 "nbformat": 4,
 "nbformat_minor": 5
}
