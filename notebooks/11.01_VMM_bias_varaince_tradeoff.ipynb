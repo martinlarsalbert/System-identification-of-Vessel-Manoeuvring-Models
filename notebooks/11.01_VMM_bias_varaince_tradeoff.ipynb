{
 "cells": [
  {
   "cell_type": "markdown",
   "id": "d1015682-05de-4ce2-b045-3144833b6063",
   "metadata": {},
   "source": [
    "# manoeuvring model Bias-variance tradeoff\n"
   ]
  },
  {
   "cell_type": "code",
   "execution_count": null,
   "id": "967fb38a-bc12-4a34-acd3-69108af360c7",
   "metadata": {},
   "outputs": [],
   "source": [
    "# %load imports.py\n",
    "\n",
    "import warnings\n",
    "warnings.filterwarnings('ignore')\n",
    "\n",
    "%load_ext autoreload\n",
    "%autoreload 2\n",
    "%reload_kedro\n",
    "%config Completer.use_jedi = False  ## (To fix autocomplete)\n",
    "import pandas as pd\n",
    "pd.set_option('display.max_rows', 500)\n",
    "pd.set_option('display.max_columns', 500)\n",
    "\n",
    "from src.models.vmm import ModelSimulator\n",
    "import matplotlib.pyplot as plt\n",
    "from src.visualization.plot import track_plots, plot, captive_plot\n",
    "import kedro\n",
    "import numpy as np\n",
    "import os.path\n",
    "import anyconfig\n",
    "\n",
    "import matplotlib\n",
    "matplotlib.rcParams[\"figure.figsize\"] = (15,4)\n",
    "from src.symbols import *\n",
    "\n",
    "# Read configs:\n",
    "conf_path = os.path.join(\"../conf/base/\")\n",
    "runs_globals_path = os.path.join(\n",
    "    conf_path,\n",
    "    \"runs_globals.yml\",\n",
    ")\n",
    "\n",
    "runs_globals = anyconfig.load(runs_globals_path)\n",
    "model_test_ids = runs_globals[\"model_test_ids\"]\n",
    "\n",
    "join_globals_path = os.path.join(\n",
    "    conf_path,\n",
    "    \"join_globals.yml\",\n",
    ")\n",
    "\n",
    "joins = runs_globals[\"joins\"]\n",
    "join_runs_dict = anyconfig.load(join_globals_path)\n",
    "\n",
    "globals_path = os.path.join(\n",
    "    conf_path,\n",
    "    \"globals.yml\",\n",
    ")\n",
    "global_variables = anyconfig.load(globals_path)\n",
    "\n",
    "\n",
    "\n",
    "vmm_names = global_variables[\"vmms\"]\n",
    "only_joined = global_variables[\n",
    "    \"only_joined\"\n",
    "]  # (regress/predict with only models from joined runs)S"
   ]
  },
  {
   "cell_type": "code",
   "execution_count": null,
   "id": "ccce393f-e688-442e-843a-5eea27effe0a",
   "metadata": {},
   "outputs": [],
   "source": [
    "from wPCC_pipeline.pipelines.motion_regression.nodes import fit_motions\n",
    "from sklearn.model_selection import KFold\n",
    "from sklearn.model_selection import RepeatedKFold\n",
    "from sklearn.linear_model import LinearRegression\n",
    "import statsmodels.api as sm\n",
    "import seaborn as sns\n",
    "from src.bias_variance_tradeoff import (train_test_split, \n",
    "                                        train_test_split_run, \n",
    "                                        train_test_split_exteme, \n",
    "                                        train_predict, \n",
    "                                        pivot_mean, variances)"
   ]
  },
  {
   "cell_type": "code",
   "execution_count": null,
   "id": "f58f773b-930e-4d3e-9292-8df84be5a136",
   "metadata": {
    "tags": []
   },
   "outputs": [],
   "source": [
    "join = \"joined\"\n",
    "data = catalog.load(f\"{ join }.data_ek_smooth\")\n",
    "\n",
    "added_masses = catalog.load(\"added_masses\")\n",
    "ship_data = catalog.load(\"ship_data\")\n",
    "exclude_parameters = catalog.load(\"params:motion_regression.exclude_parameters\")\n",
    "\n",
    "runs_meta_data = catalog.load(\"runs_meta_data\")\n",
    "runs_meta_data.sort_values(by='description', inplace=True)\n",
    "\n",
    "vmms = {}\n",
    "for vmm_name in vmm_names:\n",
    "    vmms[vmm_name] = catalog.load(f\"{vmm_name}\")\n"
   ]
  },
  {
   "cell_type": "code",
   "execution_count": null,
   "id": "dc650229-b40a-4e18-8e27-c5e2f3fe979c",
   "metadata": {},
   "outputs": [],
   "source": [
    "data.head()"
   ]
  },
  {
   "cell_type": "code",
   "execution_count": null,
   "id": "21af1da5-2ddb-45d3-be56-da977c284452",
   "metadata": {},
   "outputs": [],
   "source": [
    "runs_meta_data.head()"
   ]
  },
  {
   "cell_type": "code",
   "execution_count": null,
   "id": "e9ef38e9-bc34-4ffe-9aae-9aa6081d4753",
   "metadata": {},
   "outputs": [],
   "source": [
    "fig,ax=plt.subplots()\n",
    "fig.set_size_inches(10,5)\n",
    "\n",
    "data_ = data.copy()\n",
    "data_['beta'] = -np.arctan2(data_['v'],data['u'])\n",
    "data_['beta_deg'] = np.rad2deg(data_['beta'])\n",
    "data_['r_deg'] = np.rad2deg(data_['r'])\n",
    "data_['delta_deg'] = np.rad2deg(data_['delta'])\n",
    "\n",
    "mask = runs_meta_data.index.isin(data_['id'].unique())\n",
    "runs_meta_data_selected = runs_meta_data.loc[mask].copy()\n",
    "mask = runs_meta_data_selected.duplicated(subset='description', keep='last')\n",
    "runs_meta_data_selected = runs_meta_data_selected.loc[~mask]\n",
    "data_groups = data_.groupby(by='id')\n",
    "\n",
    "for id, meta_data in runs_meta_data_selected.iterrows():\n",
    "    \n",
    "    if not id in data_groups.groups.keys():\n",
    "        continue\n",
    "    \n",
    "    df_ = data_groups.get_group(id)\n",
    "    description = runs_meta_data.loc[id]['description']\n",
    "    df_.plot(x='beta_deg', y='r_deg', ax=ax, label=description)\n",
    "    \n",
    "ax.set_ylabel(r'$r$ (yaw rate) $[deg/s]$')\n",
    "ax.set_xlabel(r'$\\beta$ (drift angle) $[deg]$');\n"
   ]
  },
  {
   "cell_type": "code",
   "execution_count": null,
   "id": "b7ca5f26-b61a-4c30-9f2d-da9769136d9c",
   "metadata": {},
   "outputs": [],
   "source": [
    "fig,ax=plt.subplots()\n",
    "fig.set_size_inches(10,5)\n",
    "\n",
    "for id, meta_data in runs_meta_data_selected.iterrows():\n",
    "    \n",
    "    if not id in data_groups.groups.keys():\n",
    "        continue\n",
    "    \n",
    "    df_ = data_groups.get_group(id)\n",
    "    description = runs_meta_data.loc[id]['description']\n",
    "    df_.plot(x='delta_deg', y='u', ax=ax, label=description)\n",
    "    \n",
    "ax.set_ylabel(r'$u$ (longitudinal speed) $[m/s]$')\n",
    "ax.set_xlabel(r'$\\delta$ (rudder angle) $[deg]$');"
   ]
  },
  {
   "cell_type": "code",
   "execution_count": null,
   "id": "b6fbac71-2987-43e7-b453-683ae03eff05",
   "metadata": {},
   "outputs": [],
   "source": [
    "for key in ['r1d']:\n",
    "    \n",
    "    fig,ax=plt.subplots()\n",
    "    fig.set_size_inches(10,5)\n",
    "    \n",
    "    for id, df_ in data.groupby(by='id'):\n",
    "        df_.plot(y=key, ax=ax, label=id)\n",
    "    \n",
    "    ax.set_title(key)\n",
    "    "
   ]
  },
  {
   "cell_type": "code",
   "execution_count": null,
   "id": "62821fac-94c6-43e9-952f-b17dba265ece",
   "metadata": {},
   "outputs": [],
   "source": [
    "np.random.seed(42)\n",
    "\n",
    "regressions = {}\n",
    "\n",
    "for vmm_name, vmm in vmms.items():\n",
    "\n",
    "    regression, parameters = fit_motions(data=data, \n",
    "                                     added_masses=added_masses, \n",
    "                                     ship_data=ship_data, \n",
    "                                     vmm=vmm, \n",
    "                                     exclude_parameters=exclude_parameters)\n",
    "    regressions[vmm_name] = regression"
   ]
  },
  {
   "cell_type": "code",
   "execution_count": null,
   "id": "558742ba-d8fc-4543-82b3-24c8d67c288c",
   "metadata": {},
   "outputs": [],
   "source": [
    "regression = regressions['vmm_martins_simple']"
   ]
  },
  {
   "cell_type": "code",
   "execution_count": null,
   "id": "fdcdd647-6fa4-472e-91ce-749d46a00b60",
   "metadata": {},
   "outputs": [],
   "source": [
    "X_train, y_train, X_test, y_test, train_data = train_test_split_run(X=regression.X_N, y=regression.y_N, id=data['id'])\n",
    "\n",
    "fig,ax=plt.subplots()\n",
    "y_train.plot(ax=ax, label='train')\n",
    "y_test.plot(ax=ax, label='test')\n",
    "ax.legend()"
   ]
  },
  {
   "cell_type": "markdown",
   "id": "83604db1-6dc1-42a3-bfe2-d7b73f5a5d97",
   "metadata": {},
   "source": [
    "Train many models on samples from the training set, then calculate bias and variance on the test set."
   ]
  },
  {
   "cell_type": "code",
   "execution_count": null,
   "id": "44310bd2-b28f-4df7-9c23-7ca65ae540e7",
   "metadata": {},
   "outputs": [],
   "source": [
    "df_sample_predictions = train_predict(X_test=X_test, y_test=y_test, train_data=train_data, train_ratio=0.3)"
   ]
  },
  {
   "cell_type": "code",
   "execution_count": null,
   "id": "6cde7803-62c5-4271-ae2c-99c4c28b4bb8",
   "metadata": {},
   "outputs": [],
   "source": [
    "df_sample_predictions.head()"
   ]
  },
  {
   "cell_type": "code",
   "execution_count": null,
   "id": "38d69082-6dbb-449e-9e4d-8cd431e836fc",
   "metadata": {},
   "outputs": [],
   "source": [
    "df_sample_predictions['residual'] = df_sample_predictions['y_hat'] - df_sample_predictions['z']\n",
    "df_sample_predictions['residual^2'] = df_sample_predictions['residual']**2"
   ]
  },
  {
   "cell_type": "code",
   "execution_count": null,
   "id": "7acb8788-f087-4843-b027-71aef1367f9d",
   "metadata": {},
   "outputs": [],
   "source": [
    "df_sample_predictions['residual'].hist(bins=100)"
   ]
  },
  {
   "cell_type": "code",
   "execution_count": null,
   "id": "ac657440-fee7-4d87-b650-24aca8b65f7e",
   "metadata": {},
   "outputs": [],
   "source": [
    "f_hats = pivot_mean(df_sample_predictions, key='y_hat').transpose()\n",
    "f_hats.head()"
   ]
  },
  {
   "cell_type": "code",
   "execution_count": null,
   "id": "2248f0af-042f-46b3-88dd-3efac3ee9b25",
   "metadata": {},
   "outputs": [],
   "source": [
    "fig,ax=plt.subplots()\n",
    "mask = df_sample_predictions['i'].isin(np.arange(10))\n",
    "for i, df_ in df_sample_predictions.loc[mask].groupby(by='i'):\n",
    "    df_.plot(x='x', y='y_hat', alpha=0.7, ax=ax)\n",
    "\n",
    "f_hats.plot(ax=ax, label='$\\hat{f}(x)$')\n",
    "y_test.plot(ax=ax, label='y')\n",
    "ax.legend()"
   ]
  },
  {
   "cell_type": "code",
   "execution_count": null,
   "id": "22824f7d-1243-42d2-93ce-40d658106928",
   "metadata": {},
   "outputs": [],
   "source": [
    "df_sample_predictions = pd.DataFrame()\n",
    "\n",
    "ids=[22771, 22772, 22773]\n",
    "for vmm_name, regression in regressions.items():\n",
    "    \n",
    "    X_train, y_train, X_test, y_test, train_data = train_test_split_run(X=regression.X_X, \n",
    "                                                                       y=regression.y_N, \n",
    "                                                                       id=data['id'], \n",
    "                                                                       ids=ids)\n",
    "    \n",
    "    df_ = train_predict(train_data, X_test=X_test, y_test=y_test, train_ratio=0.2, N_trainings=10,)\n",
    "    df_['vmm'] = vmm_name\n",
    "    df_sample_predictions = df_sample_predictions.append(df_)\n",
    "    \n",
    "df_sample_predictions.sort_values(by=['parameters','x'], inplace=True)\n",
    "\n",
    "df_sample_predictions['residual'] = df_sample_predictions['y_hat'] - df_sample_predictions['z']\n",
    "df_sample_predictions['residual^2'] = df_sample_predictions['residual']**2"
   ]
  },
  {
   "cell_type": "code",
   "execution_count": null,
   "id": "fa0d01b6-9e47-4345-9417-18e86d9c1888",
   "metadata": {},
   "outputs": [],
   "source": [
    "vmm_groups = df_sample_predictions.groupby(by='vmm', sort=False)\n",
    "f_hats = vmm_groups.apply(pivot_mean, key='y_hat').transpose()\n",
    "f_hats.head()"
   ]
  },
  {
   "cell_type": "code",
   "execution_count": null,
   "id": "eb4b53aa-aaf0-4d2e-b329-f84ef64318e3",
   "metadata": {},
   "outputs": [],
   "source": [
    "fig,ax=plt.subplots()\n",
    "f_hats.plot(ax=ax)\n",
    "y_test.plot(ax=ax, label='y', lw=3, zorder=10)\n",
    "ax.set_title('$\\hat{f}(x)$')\n",
    "ax.legend()"
   ]
  },
  {
   "cell_type": "code",
   "execution_count": null,
   "id": "4138e208-09d2-4eed-bfc2-3843a0edf633",
   "metadata": {},
   "outputs": [],
   "source": [
    "MSEs = vmm_groups.apply(pivot_mean, key='residual^2').transpose()\n",
    "MSEs.head()\n"
   ]
  },
  {
   "cell_type": "code",
   "execution_count": null,
   "id": "2902e661-c235-4456-a65a-38070970c631",
   "metadata": {},
   "outputs": [],
   "source": [
    "fig,ax=plt.subplots()\n",
    "MSEs.plot(ax=ax)\n",
    "ax.set_title('MSE')\n",
    "ax.legend()"
   ]
  },
  {
   "cell_type": "code",
   "execution_count": null,
   "id": "713d376b-170d-475c-87c3-8a261fc0e631",
   "metadata": {},
   "outputs": [],
   "source": [
    "bias = f_hats.sub(y_test.values, axis=0)"
   ]
  },
  {
   "cell_type": "code",
   "execution_count": null,
   "id": "cc2ea731-f0dc-4875-8b82-e481d55a8851",
   "metadata": {},
   "outputs": [],
   "source": [
    "fig,ax=plt.subplots()\n",
    "bias.plot(ax=ax)\n",
    "ax.set_title('bias')\n",
    "ax.legend();"
   ]
  },
  {
   "cell_type": "code",
   "execution_count": null,
   "id": "8b0dd55d-08db-45d9-8827-57b62cc6c78a",
   "metadata": {},
   "outputs": [],
   "source": [
    "df_variances = vmm_groups.apply(variances).transpose()"
   ]
  },
  {
   "cell_type": "code",
   "execution_count": null,
   "id": "ecceae80-227c-47c4-8dda-4a8948a71137",
   "metadata": {},
   "outputs": [],
   "source": [
    "fig,ax=plt.subplots()\n",
    "df_variances.plot(ax=ax)\n",
    "ax.set_title('variance')\n",
    "ax.legend();"
   ]
  },
  {
   "cell_type": "code",
   "execution_count": null,
   "id": "9a674459-f606-4034-a7ae-1a3d9b73a185",
   "metadata": {},
   "outputs": [],
   "source": [
    "df_errors = pd.DataFrame()\n",
    "df_errors['MSE'] = MSEs.mean()\n",
    "df_errors['bias^2'] = (bias**2).mean()\n",
    "df_errors['variance'] = df_variances.mean()"
   ]
  },
  {
   "cell_type": "code",
   "execution_count": null,
   "id": "7b916a31-c37b-4241-a57b-442b42d73ce5",
   "metadata": {},
   "outputs": [],
   "source": [
    "df_errors"
   ]
  },
  {
   "cell_type": "code",
   "execution_count": null,
   "id": "63c6d1ce-b1aa-4d26-a1f4-17d20e1ceb15",
   "metadata": {},
   "outputs": [],
   "source": [
    "fig,ax=plt.subplots()\n",
    "df_errors.plot.bar(y=['bias^2', 'variance'], stacked=True, ax=ax)\n",
    "ax.set_title('MSE');"
   ]
  },
  {
   "cell_type": "markdown",
   "id": "8285e542-07bb-4186-9fca-331fc5230f48",
   "metadata": {},
   "source": [
    "## Extreme test"
   ]
  },
  {
   "cell_type": "code",
   "execution_count": null,
   "id": "f20302ae-37f4-4be1-a1cf-75c7775cb976",
   "metadata": {},
   "outputs": [],
   "source": [
    "X_train, y_train, X_test, y_test, train_data = train_test_split_exteme(X=regression.X_N, y=regression.y_N, data=data, \n",
    "                                                                          min_ratio=0.05, \n",
    "                                                                          max_ratio=0.05,\n",
    "                                                                          min_keys=['u'],\n",
    "                                                                          max_keys=['v','r'])\n",
    "\n",
    "\n",
    "fig,ax=plt.subplots()\n",
    "\n",
    "y_train.plot(ax=ax, label='train', style='.')\n",
    "y_test.plot(ax=ax, label='test', style='.')\n",
    "ax.legend();\n"
   ]
  },
  {
   "cell_type": "code",
   "execution_count": null,
   "id": "25a554e5-5cb7-47de-9fd4-f86891c57469",
   "metadata": {},
   "outputs": [],
   "source": [
    "%%time\n",
    "df_sample_predictions = pd.DataFrame()\n",
    "\n",
    "for vmm_name, regression in regressions.items():\n",
    "    \n",
    "    X_train, y_train, X_test, y_test, train_data = train_test_split_exteme(X=regression.X_N,\n",
    "                                                                        y=regression.y_N,\n",
    "                                                                        data=data,\n",
    "                                                                        min_ratio=0.05, \n",
    "                                                                        max_ratio=0.05,\n",
    "                                                                        min_keys=['u'],\n",
    "                                                                        max_keys=['v','r'])\n",
    "    \n",
    "    df_ = train_predict(train_data, X_test=X_test, y_test=y_test, train_ratio=0.01, N_trainings=10)\n",
    "    df_['vmm'] = vmm_name\n",
    "    df_sample_predictions = df_sample_predictions.append(df_)\n",
    "    \n",
    "df_sample_predictions.sort_values(by=['parameters','x'], inplace=True)\n",
    "\n",
    "df_sample_predictions['residual'] = df_sample_predictions['y_hat'] - df_sample_predictions['z']\n",
    "df_sample_predictions['residual^2'] = df_sample_predictions['residual']**2"
   ]
  },
  {
   "cell_type": "code",
   "execution_count": null,
   "id": "9b11af34-76a7-4cad-9fbf-8af85cfbdd6b",
   "metadata": {},
   "outputs": [],
   "source": [
    "vmm_groups = df_sample_predictions.groupby(by='vmm', sort=False)\n",
    "f_hats = vmm_groups.apply(pivot_mean, key='y_hat').transpose()\n",
    "bias = f_hats.sub(y_test.values, axis=0)\n",
    "MSEs = vmm_groups.apply(pivot_mean, key='residual^2').transpose()\n",
    "df_variances = vmm_groups.apply(variances).transpose()\n",
    "\n",
    "df_errors = pd.DataFrame()\n",
    "df_errors['MSE'] = MSEs.mean()\n",
    "df_errors['bias^2'] = (bias**2).mean()\n",
    "df_errors['variance'] = df_variances.mean()\n",
    "df_errors"
   ]
  },
  {
   "cell_type": "code",
   "execution_count": null,
   "id": "e4ff8c5a-f32f-4412-a87c-18474319f06e",
   "metadata": {},
   "outputs": [],
   "source": [
    "fig,ax=plt.subplots()\n",
    "df_errors.plot.bar(y=['bias^2', 'variance'], stacked=True, ax=ax)\n",
    "ax.set_title('MSE');"
   ]
  },
  {
   "cell_type": "markdown",
   "id": "fcc4656d-3e00-4703-a620-dd7206ff6d06",
   "metadata": {
    "tags": []
   },
   "source": [
    "## Random test"
   ]
  },
  {
   "cell_type": "code",
   "execution_count": null,
   "id": "2c870026-e1e3-49a2-9095-363bbb2a5cd7",
   "metadata": {},
   "outputs": [],
   "source": [
    "X_train, y_train, X_test, y_test, train_data = train_test_split(X=regression.X_N,\n",
    "                                                                y=regression.y_N, \n",
    "                                                                test_ratio=0.01)\n",
    "\n",
    "\n",
    "fig,ax=plt.subplots()\n",
    "\n",
    "y_train.plot(ax=ax, label='train', style='.')\n",
    "y_test.plot(ax=ax, label='test', style='.')\n",
    "ax.legend();"
   ]
  },
  {
   "cell_type": "code",
   "execution_count": null,
   "id": "0615837a-6a38-4552-99bd-5acafddc31d4",
   "metadata": {},
   "outputs": [],
   "source": [
    "df_sample_predictions = pd.DataFrame()\n",
    "\n",
    "for vmm_name, regression in regressions.items():\n",
    "    \n",
    "    X_train, y_train, X_test, y_test, train_data = train_test_split(X=regression.X_N,\n",
    "                                                                    y=regression.y_N, \n",
    "                                                                    test_ratio=0.01)\n",
    "    \n",
    "    df_ = train_predict(train_data, X_test=X_test, y_test=y_test, train_ratio=0.005, N_trainings=10)\n",
    "    df_['vmm'] = vmm_name\n",
    "    df_sample_predictions = df_sample_predictions.append(df_, ignore_index=True)\n",
    "    \n",
    "df_sample_predictions.sort_values(by=['parameters','x'], inplace=True)\n",
    "\n",
    "df_sample_predictions['residual'] = df_sample_predictions['y_hat'] - df_sample_predictions['z']\n",
    "df_sample_predictions['residual^2'] = df_sample_predictions['residual']**2"
   ]
  },
  {
   "cell_type": "code",
   "execution_count": null,
   "id": "6dde6aef-676d-45d4-b171-ff3cc5a4f89d",
   "metadata": {},
   "outputs": [],
   "source": [
    "vmm_groups = df_sample_predictions.groupby(by='vmm', sort=False)\n",
    "f_hats = vmm_groups.apply(pivot_mean, key='y_hat').transpose()\n",
    "bias = f_hats.sub(y_test.values, axis=0)\n",
    "MSEs = vmm_groups.apply(pivot_mean, key='residual^2').transpose()\n",
    "df_variances = vmm_groups.apply(variances).transpose()\n",
    "\n",
    "df_errors = pd.DataFrame()\n",
    "df_errors['MSE'] = MSEs.mean()\n",
    "df_errors['bias^2'] = (bias**2).mean()\n",
    "df_errors['variance'] = df_variances.mean()\n",
    "df_errors"
   ]
  },
  {
   "cell_type": "code",
   "execution_count": null,
   "id": "da869ae7-8158-4cc2-beba-07926fea0ec3",
   "metadata": {},
   "outputs": [],
   "source": [
    "fig,ax=plt.subplots()\n",
    "df_errors.plot.bar(y=['bias^2', 'variance'], stacked=True, ax=ax)\n",
    "ax.set_title('MSE');"
   ]
  },
  {
   "cell_type": "code",
   "execution_count": null,
   "id": "5e16139b-e3fc-418d-af50-671fdb9c5e4e",
   "metadata": {},
   "outputs": [],
   "source": [
    "df_sample_predictions = pd.DataFrame()\n",
    "\n",
    "train_ratios = 0.5**(np.arange(3,9))\n",
    "\n",
    "for vmm_name, regression in regressions.items():\n",
    "    \n",
    "    X_train, y_train, X_test, y_test, train_data = train_test_split(X=regression.X_N,\n",
    "                                                                    y=regression.y_N, \n",
    "                                                                    test_ratio=0.01)\n",
    "    \n",
    "    for train_ratio in train_ratios:\n",
    "        df_ = train_predict(train_data, X_test=X_test, y_test=y_test, train_ratio=train_ratio, N_trainings=10)\n",
    "        df_['vmm'] = vmm_name\n",
    "        df_['train_ratio'] = train_ratio\n",
    "        df_sample_predictions = df_sample_predictions.append(df_, ignore_index=True)\n",
    "    \n",
    "df_sample_predictions.sort_values(by=['parameters','x'], inplace=True)\n",
    "\n",
    "df_sample_predictions['residual'] = df_sample_predictions['y_hat'] - df_sample_predictions['z']\n",
    "df_sample_predictions['residual^2'] = df_sample_predictions['residual']**2"
   ]
  },
  {
   "cell_type": "code",
   "execution_count": null,
   "id": "5c47c504-98cf-438a-b4d7-8e559f87c09f",
   "metadata": {},
   "outputs": [],
   "source": [
    "vmm_groups = df_sample_predictions.groupby(by=['train_ratio','vmm'], sort=False)\n",
    "f_hats = vmm_groups.apply(pivot_mean, key='y_hat').transpose()\n",
    "bias = f_hats.sub(y_test.values, axis=0)\n",
    "MSEs = vmm_groups.apply(pivot_mean, key='residual^2').transpose()\n",
    "df_variances = vmm_groups.apply(variances).transpose()\n",
    "\n",
    "df_errors = pd.DataFrame()\n",
    "df_errors['MSE'] = MSEs.mean()\n",
    "df_errors['bias^2'] = (bias**2).mean()\n",
    "df_errors['variance'] = df_variances.mean()\n",
    "df_errors"
   ]
  },
  {
   "cell_type": "code",
   "execution_count": null,
   "id": "daffa4c5-0135-465f-9191-29cd2d9cb2d8",
   "metadata": {},
   "outputs": [],
   "source": [
    "sns.relplot(x='train_ratio', y='MSE', hue='vmm', kind='line', data=df_errors)"
   ]
  },
  {
   "cell_type": "code",
   "execution_count": null,
   "id": "1f7e3108-956a-45d9-8a8b-14bd60d548fa",
   "metadata": {},
   "outputs": [],
   "source": [
    "sns.relplot(x='train_ratio', y='variance', hue='vmm', kind='line', data=df_errors)"
   ]
  },
  {
   "cell_type": "code",
   "execution_count": null,
   "id": "62350c23-101a-4dde-a828-57a6c9331f0d",
   "metadata": {},
   "outputs": [],
   "source": []
  },
  {
   "cell_type": "code",
   "execution_count": null,
   "id": "0a30bb00-dfb8-4551-af45-c3333fae14e7",
   "metadata": {},
   "outputs": [],
   "source": []
  },
  {
   "cell_type": "code",
   "execution_count": null,
   "id": "5e49942f-578e-41f3-839c-851eaed9087b",
   "metadata": {},
   "outputs": [],
   "source": []
  },
  {
   "cell_type": "code",
   "execution_count": null,
   "id": "ab0b4331-032b-4e69-97a4-4038090076e1",
   "metadata": {},
   "outputs": [],
   "source": []
  },
  {
   "cell_type": "code",
   "execution_count": null,
   "id": "1350259a-cf94-4369-9921-9dc7d35e0a75",
   "metadata": {},
   "outputs": [],
   "source": []
  },
  {
   "cell_type": "code",
   "execution_count": null,
   "id": "8254f655-2e56-4aba-89c5-d5c22d6af9b3",
   "metadata": {},
   "outputs": [],
   "source": []
  },
  {
   "cell_type": "code",
   "execution_count": null,
   "id": "0876da42-73e0-40d7-8cdd-8544740cd3ce",
   "metadata": {},
   "outputs": [],
   "source": []
  }
 ],
 "metadata": {
  "kernelspec": {
   "display_name": "wPCC_pipeline",
   "language": "python",
   "name": "python3"
  },
  "language_info": {
   "codemirror_mode": {
    "name": "ipython",
    "version": 3
   },
   "file_extension": ".py",
   "mimetype": "text/x-python",
   "name": "python",
   "nbconvert_exporter": "python",
   "pygments_lexer": "ipython3",
   "version": "3.7.9"
  }
 },
 "nbformat": 4,
 "nbformat_minor": 5
}
