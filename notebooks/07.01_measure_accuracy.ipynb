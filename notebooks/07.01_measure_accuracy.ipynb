{
 "cells": [
  {
   "cell_type": "markdown",
   "id": "2b2ecfb2-fe73-4922-92d9-498fcb87bc8b",
   "metadata": {
    "tags": []
   },
   "source": [
    "# Measure accuracy\n",
    "How should the accuracy of a model be measured?"
   ]
  },
  {
   "cell_type": "code",
   "execution_count": null,
   "id": "66def191-18af-4642-94fd-cfce4c0a3e5d",
   "metadata": {},
   "outputs": [],
   "source": [
    "# %load imports.py\n",
    "%load_ext autoreload\n",
    "%autoreload 2\n",
    "%reload_kedro\n",
    "%config Completer.use_jedi = False  ## (To fix autocomplete)\n",
    "import pandas as pd\n",
    "from src.models.vmm import ModelSimulator\n",
    "import matplotlib.pyplot as plt\n",
    "from src.visualization.plot import track_plots, plot, captive_plot\n",
    "import kedro\n",
    "import numpy as np\n",
    "import os.path\n",
    "import anyconfig\n",
    "\n",
    "import matplotlib\n",
    "matplotlib.rcParams[\"figure.figsize\"] = (15,4)\n",
    "from src.symbols import *\n",
    "\n",
    "# Read configs:\n",
    "conf_path = os.path.join(\"../conf/base/\")\n",
    "runs_globals_path = os.path.join(\n",
    "    conf_path,\n",
    "    \"runs_globals.yml\",\n",
    ")\n",
    "\n",
    "runs_globals = anyconfig.load(runs_globals_path)\n",
    "model_test_ids = runs_globals[\"model_test_ids\"]\n",
    "\n",
    "join_globals_path = os.path.join(\n",
    "    conf_path,\n",
    "    \"join_globals.yml\",\n",
    ")\n",
    "\n",
    "joins = runs_globals[\"joins\"]\n",
    "join_runs_dict = anyconfig.load(join_globals_path)\n",
    "\n",
    "globals_path = os.path.join(\n",
    "    conf_path,\n",
    "    \"globals.yml\",\n",
    ")\n",
    "global_variables = anyconfig.load(globals_path)\n",
    "\n",
    "\n",
    "\n",
    "vmms = global_variables[\"vmms\"]\n",
    "only_joined = global_variables[\n",
    "    \"only_joined\"\n",
    "]  # (regress/predict with only models from joined runs)S"
   ]
  },
  {
   "cell_type": "code",
   "execution_count": null,
   "id": "79890158-f361-4721-a0a6-aa694b4e20e0",
   "metadata": {},
   "outputs": [],
   "source": [
    "from wPCC_pipeline.pipelines.prediction.nodes import simulation_accuracy\n",
    "from wPCC_pipeline.pipelines.filter_data_extended_kalman.nodes import extended_kalman_filter\n",
    "from src.extended_kalman_vmm import ExtendedKalman\n"
   ]
  },
  {
   "cell_type": "code",
   "execution_count": null,
   "id": "3c95c9df-1b98-4852-8c3c-7098efa2de53",
   "metadata": {},
   "outputs": [],
   "source": [
    "id = 22773\n",
    "df_smooth = catalog.load(f\"{ id }.data_ek_smooth\")\n",
    "df_data = catalog.load(f\"{ id }.data\")\n",
    "df_data['U'] = np.sqrt(df_data['u']**2 + df_data['v']**2)\n",
    "\n",
    "model1 = catalog.load(f\"vmm_martin.motion_regression.joined.model\")\n",
    "model2 = catalog.load(f\"vmm_linear.motion_regression.joined.model\")\n",
    "\n",
    "ship_data = catalog.load(\"ship_data\")"
   ]
  },
  {
   "cell_type": "code",
   "execution_count": null,
   "id": "0bd0827f-dae7-40ba-8055-d1806b232c7c",
   "metadata": {},
   "outputs": [],
   "source": [
    "result1 = model1.simulate(df_=df_smooth)\n",
    "result2 = model2.simulate(df_=df_smooth)"
   ]
  },
  {
   "cell_type": "code",
   "execution_count": null,
   "id": "52caa7b7-172b-4299-b422-ebe74f2cbd23",
   "metadata": {},
   "outputs": [],
   "source": [
    "dataframes = {\n",
    "'model test' : df_smooth,\n",
    "'simulation (model1)' : result1.result,  \n",
    "'simulation (model2)' : result2.result,  \n",
    "#'simulation (hybrid)' : result_hybrid.result,\n",
    "\n",
    "}\n",
    "\n",
    "fig,ax=plt.subplots()\n",
    "track_plots(dataframes=dataframes, lpp=ship_data['L'], beam=ship_data['B'], ax=ax, plot_boats=False);\n",
    "\n",
    "plot(dataframes, keys=result1.result.columns);"
   ]
  },
  {
   "cell_type": "code",
   "execution_count": null,
   "id": "4dd456ba-9fa3-4f59-b12f-813d225f1d4a",
   "metadata": {},
   "outputs": [],
   "source": [
    "simulation_accuracy(data=df_smooth, results=result1.result)"
   ]
  },
  {
   "cell_type": "code",
   "execution_count": null,
   "id": "505f65c0-cab1-45cb-9424-28d96f15b323",
   "metadata": {},
   "outputs": [],
   "source": [
    "simulation_accuracy(data=df_smooth, results=result2.result)"
   ]
  },
  {
   "cell_type": "code",
   "execution_count": null,
   "id": "07982c92-6505-496a-abfa-903c0844f13e",
   "metadata": {},
   "outputs": [],
   "source": [
    "from wPCC_pipeline.pipelines.extended_kalman.nodes import create_extended_kalman\n",
    "from wPCC_pipeline.pipelines.filter_data_extended_kalman.nodes import resimulate_extended_kalman"
   ]
  },
  {
   "cell_type": "code",
   "execution_count": null,
   "id": "6ac75329-ae47-448b-997f-4c8a7427cf39",
   "metadata": {},
   "outputs": [],
   "source": [
    "\n",
    "\n",
    "ek1 = create_extended_kalman(parameters=model1.parameters, ship_data=ship_data, vmm=model1)\n",
    "ek2 = create_extended_kalman(parameters=model2.parameters, ship_data=ship_data, vmm=model2)\n",
    "\n",
    "#ek1 = ExtendedKalman(vmm=model1, parameters=model1.parameters, ship_parameters=ship_data)"
   ]
  },
  {
   "cell_type": "code",
   "execution_count": null,
   "id": "a5d4aeb1-d65e-482f-86f0-5652ce1263eb",
   "metadata": {},
   "outputs": [],
   "source": [
    "ek1.simulate(data=df_smooth, input_columns=['delta','thrust'])"
   ]
  },
  {
   "cell_type": "code",
   "execution_count": null,
   "id": "1db2bdc5-24b8-494e-9181-0e782977cec2",
   "metadata": {},
   "outputs": [],
   "source": [
    "df_smooth['U'] = np.sqrt(df_smooth['u']**2 + df_smooth['v']**2)\n",
    "state_columns=[\"x0\", \"y0\", \"psi\", \"u\", \"v\", \"r\"]\n",
    "\n",
    "data = df_smooth[state_columns]\n",
    "\n",
    "x = df_smooth[state_columns].values.T\n",
    "\n",
    "t = df_smooth.index\n",
    "h = t[1] - t[0]\n",
    "\n",
    "\n",
    "def predict(ek, input_columns=[\"delta\",\"thrust\"]):\n",
    "    \n",
    "    \n",
    "    input = df_smooth[input_columns]\n",
    "\n",
    "    \n",
    "    x_dot = ek.lambda_f(x, input).T\n",
    "    x_dot = np.concatenate((np.zeros((0,len(state_columns))),x_dot))\n",
    "        \n",
    "    dx_data = x_dot*h\n",
    "    dx = pd.DataFrame(dx_data, columns=state_columns)\n",
    "    \n",
    "    df_predict = data + dx.values\n",
    "    \n",
    "    return df_predict"
   ]
  },
  {
   "cell_type": "code",
   "execution_count": null,
   "id": "a75ca026-4359-456a-8e31-6f76ccbfb292",
   "metadata": {},
   "outputs": [],
   "source": [
    "df_predict1 = predict(ek1)\n",
    "df_predict2 = predict(ek2, input_columns=[\"delta\",\"U\"])\n",
    "\n",
    "df_error1 = df_predict1 - data\n",
    "df_error2 = df_predict2 - data\n"
   ]
  },
  {
   "cell_type": "code",
   "execution_count": null,
   "id": "85588ad0-cc2d-447e-93c0-b99e37d8f3b5",
   "metadata": {},
   "outputs": [],
   "source": [
    "dataframes = {\n",
    "    'model1': df_error1,\n",
    "    'model2': df_error2,\n",
    "}\n",
    "plot(dataframes, keys=data.columns);"
   ]
  },
  {
   "cell_type": "code",
   "execution_count": null,
   "id": "f5ebe332-f884-48d3-92f1-ed74fa8ee9e9",
   "metadata": {},
   "outputs": [],
   "source": [
    "from sklearn.metrics import r2_score, mean_squared_error\n",
    "\n",
    "def mean_squared_errors(df_pred, data, keys=[\"u\", \"v\", \"r\"]):\n",
    "    accuracies = {\n",
    "        key: np.sqrt(mean_squared_error(y_true=data[key], y_pred=df_pred[key]))\n",
    "        #key: (r2_score(y_true=data[key], y_pred=df_pred[key]))\n",
    "        for key in keys\n",
    "        if df_pred[key].notnull().all() and len(data[key]) == len(df_pred[key])\n",
    "    }\n",
    "    return accuracies"
   ]
  },
  {
   "cell_type": "code",
   "execution_count": null,
   "id": "34109839-8d7e-4fc4-b5f0-b9e52113ca86",
   "metadata": {},
   "outputs": [],
   "source": [
    "df_accuracies = pd.DataFrame(columns=['u','v','r'])\n",
    "accuracies = pd.Series(mean_squared_errors(df_predict1, data=data), name='model1')\n",
    "df_accuracies =df_accuracies.append(accuracies)\n",
    "\n",
    "accuracies = pd.Series(mean_squared_errors(df_predict2, data=data), name='model2')\n",
    "df_accuracies =df_accuracies.append(accuracies)"
   ]
  },
  {
   "cell_type": "code",
   "execution_count": null,
   "id": "11534de8-fa47-4369-9b0e-fa67790d26e4",
   "metadata": {},
   "outputs": [],
   "source": [
    "df_accuracies.plot.bar()"
   ]
  },
  {
   "cell_type": "code",
   "execution_count": null,
   "id": "8f49c40a-086b-4401-b307-bcc9ed72ed6f",
   "metadata": {},
   "outputs": [],
   "source": [
    "keys_error = ['u','v','r']\n",
    "keys_x = ['u','v','r','delta']\n",
    "\n",
    "fig,axes = plt.subplots(ncols=len(keys_x))\n",
    "\n",
    "for ax, key in zip(axes,keys_x):\n",
    "    \n",
    "    for key_error in keys_error:\n",
    "        \n",
    "        ax.plot(df_smooth[key],df_error1[key_error], '-', label=key_error)\n",
    "    \n",
    "    ax.set_xlabel(key)\n",
    "    ax.legend()\n",
    "    \n",
    "    \n"
   ]
  },
  {
   "cell_type": "code",
   "execution_count": null,
   "id": "d3c48a3d-3ff3-4902-bc01-6a627963fed1",
   "metadata": {},
   "outputs": [],
   "source": [
    "from src.extended_kalman_filter import loglikelihood"
   ]
  },
  {
   "cell_type": "code",
   "execution_count": null,
   "id": "c8d2700b-5598-4606-a29a-2d9dad2ad976",
   "metadata": {},
   "outputs": [],
   "source": [
    "covariance_matrixes = catalog.load(\"covariance_matrixes\")"
   ]
  },
  {
   "cell_type": "code",
   "execution_count": null,
   "id": "65ca7dd4-45d9-4032-8828-b73ef46a2149",
   "metadata": {},
   "outputs": [],
   "source": [
    "extended_kalman_filter(ek=ek1, data=df_data, covariance_matrixes=covariance_matrixes)\n",
    "extended_kalman_filter(ek=ek2, data=df_data, covariance_matrixes=covariance_matrixes, input_columns=['delta','U'])"
   ]
  },
  {
   "cell_type": "code",
   "execution_count": null,
   "id": "651ba4ee-3f4b-4161-9163-4f621890d04f",
   "metadata": {},
   "outputs": [],
   "source": [
    "loglikelihoods = pd.Series()\n",
    "loglikelihoods['model1'] = loglikelihood(ek1.time_steps)/len(df_smooth)"
   ]
  },
  {
   "cell_type": "code",
   "execution_count": null,
   "id": "7ad78234-2544-4cb8-ae4f-9184408130fd",
   "metadata": {},
   "outputs": [],
   "source": [
    "loglikelihoods['model2'] = loglikelihood(ek2.time_steps)/len(df_smooth)\n",
    "loglikelihoods"
   ]
  },
  {
   "cell_type": "code",
   "execution_count": null,
   "id": "18c8f752-e247-42bc-8c9e-5e474da897f4",
   "metadata": {},
   "outputs": [],
   "source": [
    "loglikelihoods.plot.bar()"
   ]
  },
  {
   "cell_type": "code",
   "execution_count": null,
   "id": "4b30bd54-9ab8-4bfb-8337-a90ab6760b0e",
   "metadata": {},
   "outputs": [],
   "source": [
    "from wPCC_pipeline.pipelines.brix.nodes import initial_parameters\n",
    "from wPCC_pipeline.pipelines.vessel_manoeuvring_models.nodes import martins_model\n",
    "vmm = martins_model()\n",
    "parameters = initial_parameters(ship_data=ship_data)"
   ]
  },
  {
   "cell_type": "code",
   "execution_count": null,
   "id": "5018f3e0-d985-4ae3-bf9f-3c743418d76e",
   "metadata": {},
   "outputs": [],
   "source": [
    "ek = create_extended_kalman(parameters=parameters, ship_data=ship_data, vmm=vmm)"
   ]
  },
  {
   "cell_type": "code",
   "execution_count": null,
   "id": "39d2bfdd-e78a-415d-be59-342b877e6ecb",
   "metadata": {},
   "outputs": [],
   "source": [
    "extended_kalman_filter(ek=ek, data=df_data, covariance_matrixes=covariance_matrixes)"
   ]
  },
  {
   "cell_type": "code",
   "execution_count": null,
   "id": "42e7f4f2-6a1d-49d2-a9dd-5a1d2d8511fa",
   "metadata": {},
   "outputs": [],
   "source": [
    "loglikelihoods['ek'] = loglikelihood(ek.time_steps)/len(df_smooth)"
   ]
  },
  {
   "cell_type": "code",
   "execution_count": null,
   "id": "b94e7130-d990-4fd5-80db-2f8ee0a49893",
   "metadata": {},
   "outputs": [],
   "source": [
    "loglikelihoods"
   ]
  }
 ],
 "metadata": {
  "kernelspec": {
   "display_name": "wPCC_pipeline",
   "language": "python",
   "name": "python3"
  },
  "language_info": {
   "codemirror_mode": {
    "name": "ipython",
    "version": 3
   },
   "file_extension": ".py",
   "mimetype": "text/x-python",
   "name": "python",
   "nbconvert_exporter": "python",
   "pygments_lexer": "ipython3",
   "version": "3.7.9"
  }
 },
 "nbformat": 4,
 "nbformat_minor": 5
}
