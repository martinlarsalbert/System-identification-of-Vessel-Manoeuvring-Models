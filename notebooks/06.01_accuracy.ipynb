{
 "cells": [
  {
   "cell_type": "markdown",
   "id": "68570688-3c8a-4ee9-a883-d4d6c44468fe",
   "metadata": {},
   "source": [
    "# Accuracy of the models"
   ]
  },
  {
   "cell_type": "code",
   "execution_count": null,
   "id": "d1742882-df70-4749-8f1a-1a77377b796b",
   "metadata": {},
   "outputs": [],
   "source": [
    "# %load imports.py\n",
    "%load_ext autoreload\n",
    "%autoreload 2\n",
    "%reload_kedro\n",
    "%config Completer.use_jedi = False  ## (To fix autocomplete)\n",
    "import pandas as pd\n",
    "from src.models.vmm import ModelSimulator\n",
    "import matplotlib.pyplot as plt\n",
    "from src.visualization.plot import track_plots, plot, captive_plot\n",
    "import kedro\n",
    "import numpy as np\n",
    "import os.path\n",
    "import anyconfig\n",
    "\n",
    "import matplotlib\n",
    "matplotlib.rcParams[\"figure.figsize\"] = (15,4)\n",
    "from src.symbols import *\n",
    "\n",
    "# Read configs:\n",
    "conf_path = os.path.join(\"../conf/base/\")\n",
    "runs_globals_path = os.path.join(\n",
    "    conf_path,\n",
    "    \"runs_globals.yml\",\n",
    ")\n",
    "\n",
    "runs_globals = anyconfig.load(runs_globals_path)\n",
    "model_test_ids = runs_globals[\"model_test_ids\"]\n",
    "\n",
    "join_globals_path = os.path.join(\n",
    "    conf_path,\n",
    "    \"join_globals.yml\",\n",
    ")\n",
    "\n",
    "joins = runs_globals[\"joins\"]\n",
    "join_runs_dict = anyconfig.load(join_globals_path)\n",
    "\n",
    "globals_path = os.path.join(\n",
    "    conf_path,\n",
    "    \"globals.yml\",\n",
    ")\n",
    "global_variables = anyconfig.load(globals_path)\n",
    "\n",
    "\n",
    "\n",
    "vmms = global_variables[\"vmms\"]\n",
    "only_joined = global_variables[\n",
    "    \"only_joined\"\n",
    "]  # (regress/predict with only models from joined runs)S"
   ]
  },
  {
   "cell_type": "code",
   "execution_count": null,
   "id": "2523b4dc-19ed-4217-b092-181253ee4455",
   "metadata": {
    "tags": []
   },
   "outputs": [],
   "source": [
    "regressions = global_variables['regressions']\n",
    "\n",
    "regression_names = ['motion_regression','force_regression']\n",
    "\n",
    "def load_joined(join='joined'):\n",
    "    df_accuracies = pd.DataFrame()\n",
    "    \n",
    "    for vmm_name in vmms:\n",
    "        for model_test_id in model_test_ids:\n",
    "            \n",
    "            file_paths = []\n",
    "            file_paths.append(f\"{ vmm_name }.motion_regression.{join}.{model_test_id}.simulation_accuracy\")\n",
    "            file_paths.append(f\"{ vmm_name }.force_regression.{model_test_id}.simulation_accuracy\")\n",
    "            \n",
    "            \n",
    "            for regression,file_path in zip(regression_names, file_paths):\n",
    "                try:\n",
    "                    accuracy = catalog.load(file_path)\n",
    "                except:\n",
    "                    continue\n",
    "                \n",
    "                accuracy = pd.Series(accuracy)\n",
    "                accuracy['total'] = accuracy.mean()\n",
    "                \n",
    "                accuracy['vmm'] = vmm_name\n",
    "                accuracy['regression'] = regression\n",
    "                accuracy['model test'] = model_test_id\n",
    "                \n",
    "                df_accuracies = df_accuracies.append(accuracy, ignore_index=True)\n",
    "                \n",
    "    return df_accuracies\n",
    "            "
   ]
  },
  {
   "cell_type": "code",
   "execution_count": null,
   "id": "9cca977a-f2e5-4044-94c0-c7033bf735b2",
   "metadata": {
    "jupyter": {
     "outputs_hidden": true
    },
    "tags": []
   },
   "outputs": [],
   "source": [
    "df_accuracies = load_joined()"
   ]
  },
  {
   "cell_type": "code",
   "execution_count": null,
   "id": "dcfd11aa-a186-4edb-b6a0-735d5812efc6",
   "metadata": {},
   "outputs": [],
   "source": [
    "df_compare = df_accuracies.groupby(by=['vmm','regression']).mean().sort_values(by='total', ascending=True)\n",
    "df_compare"
   ]
  },
  {
   "cell_type": "code",
   "execution_count": null,
   "id": "a2859ac3-222a-4831-90bb-9f6cf7d3af66",
   "metadata": {},
   "outputs": [],
   "source": [
    "df_compare['total'].plot.bar()"
   ]
  },
  {
   "cell_type": "code",
   "execution_count": null,
   "id": "9d2d5a19-4f71-4262-a0d1-da479698702a",
   "metadata": {},
   "outputs": [],
   "source": [
    "df_compare.reset_index().pivot(index=['vmm'], columns=['regression'], values='total').plot.bar();"
   ]
  },
  {
   "cell_type": "code",
   "execution_count": null,
   "id": "fb5394e1-d957-4e91-8cdd-1821068f789f",
   "metadata": {
    "jupyter": {
     "outputs_hidden": true
    },
    "tags": []
   },
   "outputs": [],
   "source": [
    "df_accuracies_report = load_joined(join='report')"
   ]
  },
  {
   "cell_type": "code",
   "execution_count": null,
   "id": "38fb774f-71a9-4215-8bb2-3e8dfa8ec130",
   "metadata": {},
   "outputs": [],
   "source": [
    "df_compare = df_accuracies_report.groupby(by=['vmm','regression']).mean().sort_values(by='total', ascending=True)\n",
    "df_compare"
   ]
  },
  {
   "cell_type": "code",
   "execution_count": null,
   "id": "9d4a9ed9-7ed7-4c45-98c0-409198caa253",
   "metadata": {},
   "outputs": [],
   "source": [
    "df_compare['total'].plot.bar()"
   ]
  },
  {
   "cell_type": "code",
   "execution_count": null,
   "id": "c38491a4-76ee-4429-b58c-0d99da9b7f47",
   "metadata": {},
   "outputs": [],
   "source": []
  }
 ],
 "metadata": {
  "kernelspec": {
   "display_name": "wPCC_pipeline",
   "language": "python",
   "name": "python3"
  },
  "language_info": {
   "codemirror_mode": {
    "name": "ipython",
    "version": 3
   },
   "file_extension": ".py",
   "mimetype": "text/x-python",
   "name": "python",
   "nbconvert_exporter": "python",
   "pygments_lexer": "ipython3",
   "version": "3.7.9"
  }
 },
 "nbformat": 4,
 "nbformat_minor": 5
}
