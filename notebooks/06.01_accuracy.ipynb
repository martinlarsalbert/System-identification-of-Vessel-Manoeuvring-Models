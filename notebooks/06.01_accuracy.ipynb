{
 "cells": [
  {
   "cell_type": "markdown",
   "id": "68570688-3c8a-4ee9-a883-d4d6c44468fe",
   "metadata": {},
   "source": [
    "# Accuracy of the models"
   ]
  },
  {
   "cell_type": "code",
   "execution_count": null,
   "id": "d1742882-df70-4749-8f1a-1a77377b796b",
   "metadata": {},
   "outputs": [],
   "source": [
    "# %load imports.py\n",
    "%load_ext autoreload\n",
    "%autoreload 2\n",
    "%reload_kedro\n",
    "%config Completer.use_jedi = False  ## (To fix autocomplete)\n",
    "import pandas as pd\n",
    "from vessel_manoeuvring_models.models.vmm import ModelSimulator\n",
    "import matplotlib.pyplot as plt\n",
    "from vessel_manoeuvring_models.visualization.plot import track_plots, plot, captive_plot\n",
    "import kedro\n",
    "import numpy as np\n",
    "import os.path\n",
    "import anyconfig\n",
    "\n",
    "import matplotlib\n",
    "matplotlib.rcParams[\"figure.figsize\"] = (15,4)\n",
    "from vessel_manoeuvring_models.symbols import *\n",
    "\n",
    "# Read configs:\n",
    "conf_path = os.path.join(\"../conf/base/\")\n",
    "runs_globals_path = os.path.join(\n",
    "    conf_path,\n",
    "    \"runs_globals.yml\",\n",
    ")\n",
    "\n",
    "runs_globals = anyconfig.load(runs_globals_path)\n",
    "model_test_ids = runs_globals[\"model_test_ids\"]\n",
    "\n",
    "join_globals_path = os.path.join(\n",
    "    conf_path,\n",
    "    \"join_globals.yml\",\n",
    ")\n",
    "\n",
    "joins = runs_globals[\"joins\"]\n",
    "join_runs_dict = anyconfig.load(join_globals_path)\n",
    "\n",
    "globals_path = os.path.join(\n",
    "    conf_path,\n",
    "    \"globals.yml\",\n",
    ")\n",
    "global_variables = anyconfig.load(globals_path)\n",
    "\n",
    "\n",
    "\n",
    "vmms = global_variables[\"vmms\"]\n",
    "only_joined = global_variables[\n",
    "    \"only_joined\"\n",
    "]  # (regress/predict with only models from joined runs)S"
   ]
  },
  {
   "cell_type": "code",
   "execution_count": null,
   "id": "2523b4dc-19ed-4217-b092-181253ee4455",
   "metadata": {
    "tags": []
   },
   "outputs": [],
   "source": [
    "regressions = global_variables['regressions']\n",
    "\n",
    "regression_names = ['motion_regression','force_regression']\n",
    "\n",
    "def load_joined(join='joined'):\n",
    "    df_accuracies = pd.DataFrame()\n",
    "    \n",
    "    for vmm_name in vmms:\n",
    "        for model_test_id in model_test_ids:\n",
    "            \n",
    "            file_paths = []\n",
    "            file_paths.append(f\"{ vmm_name }.motion_regression.{join}.{model_test_id}.simulation_accuracy\")\n",
    "            file_paths.append(f\"{ vmm_name }.force_regression.{model_test_id}.simulation_accuracy\")\n",
    "            \n",
    "            \n",
    "            for regression,file_path in zip(regression_names, file_paths):\n",
    "                try:\n",
    "                    accuracy = catalog.load(file_path)\n",
    "                except:\n",
    "                    continue\n",
    "                \n",
    "                accuracy = pd.Series(accuracy)\n",
    "                accuracy['total'] = accuracy.mean()\n",
    "                \n",
    "                accuracy['vmm'] = vmm_name\n",
    "                accuracy['regression'] = regression\n",
    "                accuracy['model test'] = model_test_id\n",
    "                \n",
    "                df_accuracies = df_accuracies.append(accuracy, ignore_index=True)\n",
    "                \n",
    "    return df_accuracies\n",
    "            "
   ]
  },
  {
   "cell_type": "code",
   "execution_count": null,
   "id": "9cca977a-f2e5-4044-94c0-c7033bf735b2",
   "metadata": {
    "jupyter": {
     "outputs_hidden": true
    },
    "tags": []
   },
   "outputs": [],
   "source": [
    "df_accuracies = load_joined()"
   ]
  },
  {
   "cell_type": "code",
   "execution_count": null,
   "id": "dcfd11aa-a186-4edb-b6a0-735d5812efc6",
   "metadata": {},
   "outputs": [],
   "source": [
    "df_compare = df_accuracies.groupby(by=['vmm','regression']).mean().sort_values(by='total', ascending=True)\n",
    "df_compare"
   ]
  },
  {
   "cell_type": "code",
   "execution_count": null,
   "id": "a2859ac3-222a-4831-90bb-9f6cf7d3af66",
   "metadata": {},
   "outputs": [],
   "source": [
    "df_compare['total'].plot.bar()"
   ]
  },
  {
   "cell_type": "code",
   "execution_count": null,
   "id": "9d2d5a19-4f71-4262-a0d1-da479698702a",
   "metadata": {},
   "outputs": [],
   "source": [
    "df_compare.reset_index().pivot(index=['vmm'], columns=['regression'], values='total').plot.bar();"
   ]
  },
  {
   "cell_type": "code",
   "execution_count": null,
   "id": "65e5259a-9789-4460-9adf-6f169f3b1b95",
   "metadata": {
    "tags": []
   },
   "outputs": [],
   "source": [
    "df_compare.groupby('regression').get_group('motion_regression').plot.bar(y=['x0','y0','psi'])"
   ]
  },
  {
   "cell_type": "markdown",
   "id": "ef8ea247-0580-4863-ad6c-b030cb8d9a9a",
   "metadata": {},
   "source": [
    "## Online prediction accuracy"
   ]
  },
  {
   "cell_type": "code",
   "execution_count": null,
   "id": "aa2559bf-2520-4bf1-80bb-75b8ed628fa8",
   "metadata": {
    "jupyter": {
     "outputs_hidden": true
    },
    "tags": []
   },
   "outputs": [],
   "source": [
    "regression = \"motion_regression\"\n",
    "\n",
    "df_rmse = pd.DataFrame() \n",
    "\n",
    "for vmm in vmms:\n",
    "    \n",
    "    for join in joins:\n",
    "    \n",
    "        for id in model_test_ids:\n",
    "\n",
    "            rmse = catalog.load(f\"{ vmm }.{ regression }.{ join }.{ id }.online_prediction_rmse\")\n",
    "            \n",
    "            \n",
    "            rmse[\"vmm\"] = vmm\n",
    "            rmse[\"join\"] = join\n",
    "            rmse[\"model_test_id\"] = id\n",
    "            df_rmse = df_rmse.append(rmse, ignore_index=True)\n",
    "            \n",
    "            \n",
    "            "
   ]
  },
  {
   "cell_type": "code",
   "execution_count": null,
   "id": "8a6d6163-2af7-4179-b3cc-63e8cdd2390c",
   "metadata": {},
   "outputs": [],
   "source": [
    "df_rmse"
   ]
  },
  {
   "cell_type": "code",
   "execution_count": null,
   "id": "670c09da-9eb5-4159-b975-a93e7df11aeb",
   "metadata": {},
   "outputs": [],
   "source": [
    "df_rmse.groupby(by=['vmm','join']).mean().plot.bar()"
   ]
  },
  {
   "cell_type": "code",
   "execution_count": null,
   "id": "612e9160-7d11-4fe1-9bfa-2d7c50287c74",
   "metadata": {},
   "outputs": [],
   "source": [
    "df_rmse.groupby(by=['join']).get_group('joined').groupby(by=['vmm']).mean().plot.bar()"
   ]
  },
  {
   "cell_type": "code",
   "execution_count": null,
   "id": "06ad0184-2289-4926-a42a-ad0623338bd6",
   "metadata": {},
   "outputs": [],
   "source": [
    "df_compare = df_rmse.groupby(by=['join']).get_group('joined').copy()\n",
    "#df_compare.set_index('model_test_id', inplace=True)\n",
    "df_compare.pivot(index='model_test_id', columns='vmm').plot.bar(y='A_FP')"
   ]
  },
  {
   "cell_type": "code",
   "execution_count": null,
   "id": "5fc85b19-ec5d-4f6a-a11f-08c5ad1c6c12",
   "metadata": {},
   "outputs": [],
   "source": [
    "id = 22774\n",
    "\n",
    "df = catalog.load(f\"{ id }.data_ek_smooth\")\n",
    "#df = catalog.load(f\"{ id }.data\")\n",
    "\n",
    "df_online_errors = pd.DataFrame()\n",
    "\n",
    "keys=['u1d','v1d','r1d']\n",
    "#keys=['x0','y0','psi']\n",
    "\n",
    "data = df[keys].copy()\n",
    "\n",
    "for vmm in vmms:\n",
    "    df_ = catalog.load(f\"{ vmm }.{ regression }.{ join }.{ id }.data_online_predict\")\n",
    "    df_ = df_[keys].copy()\n",
    "    df_= (df_ - data.values)/data.abs().max()\n",
    "    df_['vmm'] = vmm\n",
    "    df_['model_test_id'] = id\n",
    "    df_online_errors = df_online_errors.append(df_)\n",
    "    \n"
   ]
  },
  {
   "cell_type": "code",
   "execution_count": null,
   "id": "0b4bbe46-386c-4fe1-8b83-dad90d6692de",
   "metadata": {},
   "outputs": [],
   "source": [
    "df_online_errors.head()"
   ]
  },
  {
   "cell_type": "code",
   "execution_count": null,
   "id": "6f957ae6-00c2-46c8-a8db-ce1a6c3d4bfe",
   "metadata": {},
   "outputs": [],
   "source": [
    "dataframes={key:value for key,value in df_online_errors.groupby(['vmm','model_test_id'])}\n",
    "styles={key:{'alpha':0.9} for key,value in df_online_errors.groupby(['vmm','model_test_id'])}\n",
    "\n",
    "\n",
    "plot(dataframes, keys=keys,styles=styles);"
   ]
  },
  {
   "cell_type": "code",
   "execution_count": null,
   "id": "4ebd58b8-23f4-4b58-9487-db48e0c92af6",
   "metadata": {},
   "outputs": [],
   "source": []
  },
  {
   "cell_type": "code",
   "execution_count": null,
   "id": "532c591a-580c-47b0-b379-188e78d36e41",
   "metadata": {},
   "outputs": [],
   "source": []
  },
  {
   "cell_type": "code",
   "execution_count": null,
   "id": "5dd1788e-5ad7-4ab1-a03e-023540884019",
   "metadata": {},
   "outputs": [],
   "source": []
  },
  {
   "cell_type": "code",
   "execution_count": null,
   "id": "4dea39e9-ed4a-420e-a414-5575b7f54477",
   "metadata": {},
   "outputs": [],
   "source": []
  },
  {
   "cell_type": "code",
   "execution_count": null,
   "id": "3408e8f3-25f7-4d72-ac63-ad9d505f364e",
   "metadata": {},
   "outputs": [],
   "source": []
  },
  {
   "cell_type": "code",
   "execution_count": null,
   "id": "6d2b9b4d-9372-4f9e-ab86-5739f707a7be",
   "metadata": {},
   "outputs": [],
   "source": []
  }
 ],
 "metadata": {
  "kernelspec": {
   "display_name": "wPCC_pipeline",
   "language": "python",
   "name": "python3"
  },
  "language_info": {
   "codemirror_mode": {
    "name": "ipython",
    "version": 3
   },
   "file_extension": ".py",
   "mimetype": "text/x-python",
   "name": "python",
   "nbconvert_exporter": "python",
   "pygments_lexer": "ipython3",
   "version": "3.7.9"
  }
 },
 "nbformat": 4,
 "nbformat_minor": 5
}
