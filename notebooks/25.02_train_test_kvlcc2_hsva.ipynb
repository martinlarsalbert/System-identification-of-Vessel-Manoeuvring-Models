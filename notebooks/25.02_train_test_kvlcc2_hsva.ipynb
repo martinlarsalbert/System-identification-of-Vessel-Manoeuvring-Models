{
 "cells": [
  {
   "cell_type": "markdown",
   "id": "21fadab3-6e5d-49d8-8227-a9f5b1505fc0",
   "metadata": {
    "citation-manager": {
     "citations": {
      "hzn48": [
       {
        "id": "7505983/U2L55C9Q",
        "source": "zotero"
       }
      ]
     }
    },
    "tags": []
   },
   "source": [
    "# Train test split KVLCC2 HSVA\n",
    "<cite id=\"hzn48\"><a href=\"#zotero|7505983/U2L55C9Q\">(Luo et al., 2016)</a></cite>"
   ]
  },
  {
   "cell_type": "code",
   "execution_count": null,
   "id": "2020a162-05bf-4649-961b-a6c00ea48c4a",
   "metadata": {},
   "outputs": [],
   "source": [
    "# %load imports.py\n",
    "%load_ext autoreload\n",
    "%autoreload 2\n",
    "%reload_kedro\n",
    "%config Completer.use_jedi = False  ## (To fix autocomplete)\n",
    "%matplotlib inline\n",
    "\n",
    "import warnings\n",
    "warnings.filterwarnings('ignore')\n",
    "\n",
    "import pandas as pd\n",
    "pd.set_option('display.max_rows', 500)\n",
    "pd.set_option('display.max_columns', 500)\n",
    "from src.models.vmm import ModelSimulator\n",
    "import matplotlib.pyplot as plt\n",
    "from src.visualization.plot import track_plots, plot, captive_plot\n",
    "import kedro\n",
    "import numpy as np\n",
    "import os.path\n",
    "import anyconfig\n",
    "\n",
    "import matplotlib\n",
    "matplotlib.rcParams[\"figure.figsize\"] = (10,10)\n",
    "from src.symbols import *\n",
    "\n",
    "# Read configs:\n",
    "conf_path = os.path.join(\"../conf/base/\")\n",
    "runs_globals_path = os.path.join(\n",
    "    conf_path,\n",
    "    \"runs_globals.yml\",\n",
    ")\n",
    "\n",
    "runs_globals = anyconfig.load(runs_globals_path)\n",
    "model_test_ids = runs_globals[\"model_test_ids\"]\n",
    "\n",
    "join_globals_path = os.path.join(\n",
    "    conf_path,\n",
    "    \"join_globals.yml\",\n",
    ")\n",
    "\n",
    "joins = runs_globals[\"joins\"]\n",
    "join_runs_dict = anyconfig.load(join_globals_path)\n",
    "\n",
    "globals_path = os.path.join(\n",
    "    conf_path,\n",
    "    \"globals.yml\",\n",
    ")\n",
    "global_variables = anyconfig.load(globals_path)\n",
    "\n",
    "\n",
    "\n",
    "vmm_names = global_variables[\"vmms\"]\n",
    "\n",
    "from wPCC_pipeline.pipelines.motion_regression.nodes import predict_force, fit_motions, create_model_from_motion_regression\n",
    "from wPCC_pipeline.pipelines.prediction.nodes import simulate_euler\n",
    "from src.parameters import df_parameters\n",
    "from src.models.vmm import manoeuvring model"
   ]
  },
  {
   "cell_type": "code",
   "execution_count": null,
   "id": "1dc9730f-67db-4e4a-ae0d-911ad8c54d0f",
   "metadata": {},
   "outputs": [],
   "source": [
    "ship=\"kvlcc2_hsva\"\n",
    "#vmm_name = \"vmm_martins_simple\"\n",
    "vmm_name = \"vmm_abkowitz\"\n",
    "vmm = catalog.load(vmm_name)\n",
    "\n",
    "ship_data = catalog.load(f\"{ship}.ship_data\")\n",
    "\n",
    "train = \"HSVA_CPMC_KVLCC2_Z_25_05\"\n",
    "df_train = catalog.load(f'{ship}.updated.{train}.data_ek_smooth')\n",
    "\n",
    "test = \"HSVA_CPMC_KVLCC2_Z_35_05\"\n",
    "df_test = catalog.load(f'{ship}.updated.{test}.data_ek_smooth')\n",
    "\n",
    "#delta_start = np.deg2rad(10.5)\n",
    "#\n",
    "#for data in [df_train, df_test]:\n",
    "#    index_start = (data['delta'].diff().abs() > 0).idxmax()\n",
    "#    start = data.loc[0:index_start] \n",
    "#    start['delta'] = delta_start\n",
    "\n",
    "#index_start = (df_train['delta'].diff().abs() > 0).idxmax()\n",
    "#df_train = df_train.loc[index_start:].copy()\n",
    "#df_train.index = df_train.index - df_train.index[0]\n",
    "\n",
    "index_start = (df_test['delta'].diff().abs() > 0).idxmax()\n",
    "df_test = df_test.loc[index_start:].copy()\n",
    "df_test.index = df_test.index - df_test.index[0]\n",
    "\n",
    "\n",
    "added_masses = catalog.load(f\"{ship}.added_masses\")\n",
    "exclude_parameters = catalog.load(f\"params:{ship}.motion_regression.exclude_parameters\")\n"
   ]
  },
  {
   "cell_type": "code",
   "execution_count": null,
   "id": "5e31d2cb-ee93-4cb3-b4d1-c3de5a8a9551",
   "metadata": {},
   "outputs": [],
   "source": [
    "data = df_train\n",
    "data_with_force = predict_force(data=data, added_masses=added_masses, ship_parameters=ship_data, vmm=vmm)\n"
   ]
  },
  {
   "cell_type": "code",
   "execution_count": null,
   "id": "5612f780-857e-4fb8-99c3-30023fd90bbc",
   "metadata": {},
   "outputs": [],
   "source": [
    "regression, parameters = fit_motions(data=data_with_force, added_masses=added_masses, ship_data=ship_data, vmm=vmm, exclude_parameters=exclude_parameters)"
   ]
  },
  {
   "cell_type": "code",
   "execution_count": null,
   "id": "e460da79-1ab5-49eb-81a7-ae102e839377",
   "metadata": {},
   "outputs": [],
   "source": [
    "mask = regression.parameters['$P_{value}$'] > 10**-3\n",
    "symbols_ = df_parameters.loc[regression.parameters.loc[mask].index,'symbol']\n",
    "subs = [(value,0) for value in symbols_.values]\n",
    "X_eq2 = vmm.X_eq.subs(subs)\n",
    "Y_eq2 = vmm.Y_eq.subs(subs)\n",
    "N_eq2 = vmm.N_eq.subs(subs)\n",
    "vmm2 = manoeuvring model(X_eq=X_eq2, Y_eq=Y_eq2, N_eq=N_eq2)"
   ]
  },
  {
   "cell_type": "code",
   "execution_count": null,
   "id": "7d65d02d-bd55-4052-a662-8e8dd7a3797f",
   "metadata": {},
   "outputs": [],
   "source": [
    "X_eq2"
   ]
  },
  {
   "cell_type": "code",
   "execution_count": null,
   "id": "5210181f-b249-40ec-bf01-e3e883d6a2e5",
   "metadata": {},
   "outputs": [],
   "source": [
    "Y_eq2"
   ]
  },
  {
   "cell_type": "code",
   "execution_count": null,
   "id": "c49b98e0-9689-4a8a-b46e-dcab856028d8",
   "metadata": {},
   "outputs": [],
   "source": [
    "N_eq2"
   ]
  },
  {
   "cell_type": "code",
   "execution_count": null,
   "id": "342f410d-49f6-460f-a20f-b9c7e929e0ad",
   "metadata": {},
   "outputs": [],
   "source": [
    "regression2, parameters2 = fit_motions(data=data_with_force, added_masses=added_masses, ship_data=ship_data, vmm=vmm2, exclude_parameters=exclude_parameters)"
   ]
  },
  {
   "cell_type": "code",
   "execution_count": null,
   "id": "ec1e3f17-589c-4180-8c3f-55455b2112cf",
   "metadata": {},
   "outputs": [],
   "source": [
    "regression.parameters['range'] = (regression.parameters['$conf_{higher}$'] - regression.parameters['$conf_{lower}$'])/(regression.parameters['regressed']).abs()\n",
    "regression.parameters"
   ]
  },
  {
   "cell_type": "code",
   "execution_count": null,
   "id": "8d473b18-e890-4aa0-a5a3-9eab833e5311",
   "metadata": {},
   "outputs": [],
   "source": [
    "len(regression.parameters)"
   ]
  },
  {
   "cell_type": "code",
   "execution_count": null,
   "id": "3bb65240-a080-4c2e-98b8-a3a10cb56922",
   "metadata": {},
   "outputs": [],
   "source": [
    "len(regression2.parameters)"
   ]
  },
  {
   "cell_type": "code",
   "execution_count": null,
   "id": "50ef2f11-0b6d-4580-a311-2d675af61dfc",
   "metadata": {},
   "outputs": [],
   "source": [
    "model2 = create_model_from_motion_regression(regression=regression2)"
   ]
  },
  {
   "cell_type": "code",
   "execution_count": null,
   "id": "ea14c305-553d-4679-88dd-20e5db027de7",
   "metadata": {},
   "outputs": [],
   "source": [
    "parameters3['$P_{value}$'].max()"
   ]
  },
  {
   "cell_type": "code",
   "execution_count": null,
   "id": "441c40c3-4f91-4a54-b8e8-501e0e592fd7",
   "metadata": {},
   "outputs": [],
   "source": [
    "X_eq3 = vmm.X_eq\n",
    "Y_eq3 = vmm.Y_eq\n",
    "N_eq3 = vmm.N_eq\n",
    "parameters3 = regression.parameters.copy()\n",
    "parameters3['range'] = (parameters3['$conf_{higher}$'] - parameters3['$conf_{lower}$'])/(parameters3['regressed']).abs()"
   ]
  },
  {
   "cell_type": "code",
   "execution_count": null,
   "id": "87b8eff2-b9ff-4379-99d2-a5e4257a8e0d",
   "metadata": {},
   "outputs": [],
   "source": [
    "parameters3"
   ]
  },
  {
   "cell_type": "code",
   "execution_count": null,
   "id": "6eae8239-ab82-4fa8-99c3-fe26a5b71b5c",
   "metadata": {},
   "outputs": [],
   "source": [
    "range_critical = 0.8\n",
    "\n",
    "while parameters3['range'].max() > P_critical:\n",
    "    \n",
    "    id = parameters3['range'].idxmax()\n",
    "    symbol = df_parameters.loc[id]['symbol']\n",
    "    print(f\"removing:{symbol}\")\n",
    "    subs = [(symbol,0)]\n",
    "    \n",
    "    X_eq3 = X_eq3.subs(subs)\n",
    "    Y_eq3 = Y_eq3.subs(subs)\n",
    "    N_eq3 = N_eq3.subs(subs)\n",
    "    vmm3 = manoeuvring model(X_eq=X_eq3, Y_eq=Y_eq3, N_eq=N_eq3)\n",
    "    \n",
    "    regression3, parameters3 = fit_motions(data=data_with_force, added_masses=added_masses, ship_data=ship_data, vmm=vmm3, exclude_parameters=exclude_parameters)\n",
    "    parameters3['range'] = (parameters3['$conf_{higher}$'] - parameters3['$conf_{lower}$'])/(parameters3['regressed']).abs()\n",
    "    \n",
    "    parameters3.loc['Xu','range'] = 0\n",
    "    parameters3.loc['Yr','range'] = 0\n",
    "    parameters3.loc['Yv','range'] = 0\n",
    "    parameters3.loc['Nr','range'] = 0\n",
    "    parameters3.loc['Nv','range'] = 0\n",
    "    parameters3.loc['Ydelta','range'] = 0\n",
    "    parameters3.loc['Ndelta','range'] = 0\n",
    "    parameters3.loc['Ythrustdelta','range'] = 0\n",
    "    parameters3.loc['Nthrustdelta','range'] = 0\n",
    "    \n",
    "    \n",
    "    \n",
    "    "
   ]
  },
  {
   "cell_type": "code",
   "execution_count": null,
   "id": "1547e228-f900-4ef2-bf88-d67d020421e4",
   "metadata": {},
   "outputs": [],
   "source": [
    "len(regression3.parameters)"
   ]
  },
  {
   "cell_type": "code",
   "execution_count": null,
   "id": "a70b46aa-b502-4c13-a621-fb9be1e6d89f",
   "metadata": {},
   "outputs": [],
   "source": [
    "regression3.parameters"
   ]
  },
  {
   "cell_type": "code",
   "execution_count": null,
   "id": "a19e4149-ec35-4b7d-91f1-6ea3385459f5",
   "metadata": {},
   "outputs": [],
   "source": [
    "display(regression3.X_eq)\n",
    "display(regression3.Y_eq)\n",
    "display(regression3.N_eq)"
   ]
  },
  {
   "cell_type": "code",
   "execution_count": null,
   "id": "ab6f9a80-9fec-411b-8f97-c4bac4cb4034",
   "metadata": {},
   "outputs": [],
   "source": [
    "regression3.model_Y.summary()"
   ]
  },
  {
   "cell_type": "code",
   "execution_count": null,
   "id": "df6f3a35-f6f2-4d43-a2ba-5759ceb7e237",
   "metadata": {},
   "outputs": [],
   "source": [
    "model3 = create_model_from_motion_regression(regression=regression3)"
   ]
  },
  {
   "cell_type": "code",
   "execution_count": null,
   "id": "901304a2-66d2-42a4-a07e-668a81e901e6",
   "metadata": {},
   "outputs": [],
   "source": [
    "df_ = df_test.copy()\n",
    "df_.iloc[0]['r'] = 0\n",
    "result = model2.simulate(df_=df_)\n",
    "result3 = model3.simulate(df_=df_)\n",
    "df_result = result.result.copy()\n",
    "df_result3 = result3.result.copy()\n",
    "\n",
    "df_result['psi_deg'] = np.rad2deg(df_result['psi'])\n",
    "df_result3['psi_deg'] = np.rad2deg(df_result3['psi'])\n",
    "\n",
    "df_test['psi_deg'] = np.rad2deg(df_test['psi'])\n",
    "df_result['delta_deg'] = np.rad2deg(df_result['delta'])\n",
    "df_result3['delta_deg'] = np.rad2deg(df_result3['delta'])\n",
    "\n",
    "df_test['delta_deg'] = np.rad2deg(df_test['delta'])\n"
   ]
  },
  {
   "cell_type": "code",
   "execution_count": null,
   "id": "a566fe22-43a9-42f7-b8f5-0b9a4abb2d4d",
   "metadata": {},
   "outputs": [],
   "source": [
    "dataframes = {\n",
    "    'Experiment' : df_test,\n",
    "    'Prediction' : df_result,\n",
    "    'Prediction3' : df_result3,\n",
    "}\n",
    "\n",
    "styles = {\n",
    "    'Experiment' : {'style':'r--'},\n",
    "    'Prediction' : {'style':'b-'},\n",
    "    'Prediction3' : {'style':'g-'},\n",
    "}"
   ]
  },
  {
   "cell_type": "code",
   "execution_count": null,
   "id": "3b0c56c5-e0f3-4f0b-ad5e-d57071c91942",
   "metadata": {},
   "outputs": [],
   "source": [
    "track_plots(dataframes, lpp=ship_data['L'], beam=ship_data['B'],  styles=styles);"
   ]
  },
  {
   "cell_type": "code",
   "execution_count": null,
   "id": "6c9ac758-ed4e-4d7f-a7d9-4d57cf602bba",
   "metadata": {},
   "outputs": [],
   "source": [
    "plot(dataframes=dataframes, keys=['delta_deg','psi_deg','y0','u','v','r'], ncols=1, styles=styles, time_window=[0,2]);\n",
    "plot(dataframes=dataframes, keys=['delta_deg','psi_deg','y0','u','v','r'], ncols=1, styles=styles);"
   ]
  },
  {
   "cell_type": "code",
   "execution_count": null,
   "id": "c13c5b77-3102-43f0-9ab7-e311b24f314a",
   "metadata": {},
   "outputs": [],
   "source": [
    "import statsmodels.api as sm\n",
    "import seaborn as sns\n",
    "\n",
    "X = pd.DataFrame()\n",
    "N = 1000\n",
    "x1 = X['x1'] = np.linspace(0,1,N)\n",
    "x2 = X['x2'] = X['x1'] + np.random.normal(scale=0.05, size=N)\n",
    "y = x1 + x2 + np.random.normal(scale=0.1, size=N)\n",
    "\n",
    "data = X.copy()\n",
    "data['y'] = y\n",
    "\n",
    "sns.pairplot(data=data)"
   ]
  },
  {
   "cell_type": "code",
   "execution_count": null,
   "id": "fe64cd31-979a-4b33-9403-70e6b3cc36fc",
   "metadata": {},
   "outputs": [],
   "source": [
    "data.corr()"
   ]
  },
  {
   "cell_type": "code",
   "execution_count": null,
   "id": "2ce6256d-2654-4f1d-84cc-d96ad54e5f6f",
   "metadata": {},
   "outputs": [],
   "source": [
    "model1 = sm.OLS(y,X)\n",
    "result = model1.fit()\n",
    "result.summary()"
   ]
  },
  {
   "cell_type": "code",
   "execution_count": null,
   "id": "b5531edc-e84e-47a0-8951-7cc1e7fd1181",
   "metadata": {},
   "outputs": [],
   "source": [
    "y2 = y.diff()[1:].copy()\n",
    "X2 = X.diff().iloc[1:].copy()\n",
    "model2 = sm.OLS(y2,X2)\n",
    "result2 = model2.fit()\n",
    "result2.summary()"
   ]
  },
  {
   "cell_type": "code",
   "execution_count": null,
   "id": "92b19299-59a0-48ee-811b-04b59955f87f",
   "metadata": {},
   "outputs": [],
   "source": [
    "X3 = X[['x1']]\n",
    "model3 = sm.OLS(y,X3)\n",
    "result3 = model3.fit()\n",
    "result3.summary()"
   ]
  },
  {
   "cell_type": "code",
   "execution_count": null,
   "id": "fd8d56fa-d326-4e1d-af4e-839c403eecfd",
   "metadata": {},
   "outputs": [],
   "source": [
    "X.corr()"
   ]
  },
  {
   "cell_type": "code",
   "execution_count": null,
   "id": "a5ee8cae-d1c6-4775-8900-b85e1278041f",
   "metadata": {},
   "outputs": [],
   "source": [
    "X2.corr()"
   ]
  },
  {
   "cell_type": "code",
   "execution_count": null,
   "id": "8b66cd32-e4c0-403e-ba69-376a2382bce0",
   "metadata": {},
   "outputs": [],
   "source": [
    "result.condition_number"
   ]
  },
  {
   "cell_type": "code",
   "execution_count": null,
   "id": "94eaa9fa-7cec-45e2-a8dc-a896544bbc87",
   "metadata": {},
   "outputs": [],
   "source": [
    "result2.condition_number"
   ]
  },
  {
   "cell_type": "code",
   "execution_count": null,
   "id": "6a69cea5-daf4-416c-81f1-0c9a5ab98418",
   "metadata": {},
   "outputs": [],
   "source": []
  }
 ],
 "metadata": {
  "citation-manager": {
   "items": {
    "zotero": {
     "7505983/U2L55C9Q": {
      "DOI": "10.1115/1.4032892",
      "URL": "https://asmedigitalcollection.asme.org/offshoremechanics/article/doi/10.1115/1.4032892/376874/Parameter-Identification-of-Ship-Maneuvering-Model",
      "abstract": "Combined with the free-running model tests of KVLCC ship, the system identification (SI) based on support vector machines (SVM) is proposed for the prediction of ship maneuvering motion. The hydrodynamic derivatives in an Abkowitz model are determined by the Lagrangian factors and the support vectors in the SVM regression model. To obtain the optimized structural factors in SVM, particle swarm optimization (PSO) is incorporated into SVM. To diminish the drift of hydrodynamic derivatives after regression, a difference method is adopted to reconstruct the training samples before identification. The validity of the difference method is verified by correlation analysis. Based on the Abkowitz mathematical model, the simulation of ship maneuvering motion is conducted. Comparison between the predicted results and the test results demonstrates the validity of the proposed methods in this paper.",
      "accessed": {
       "date-parts": [
        [
         2020,
         8,
         24
        ]
       ]
      },
      "author": [
       {
        "family": "Luo",
        "given": "Weilin"
       },
       {
        "family": "Guedes Soares",
        "given": "C."
       },
       {
        "family": "Zou",
        "given": "Zaojian"
       }
      ],
      "container-title": "Journal of Offshore Mechanics and Arctic Engineering",
      "id": "7505983/U2L55C9Q",
      "issue": "3",
      "issued": {
       "date-parts": [
        [
         2016,
         6,
         1
        ]
       ]
      },
      "language": "en",
      "page": "031101",
      "system_id": "zotero|7505983/U2L55C9Q",
      "title": "Parameter Identification of Ship Maneuvering Model Based on Support Vector Machines and Particle Swarm Optimization",
      "type": "article-journal",
      "volume": "138"
     }
    }
   }
  },
  "kernelspec": {
   "display_name": "wPCC_pipeline",
   "language": "python",
   "name": "python3"
  },
  "language_info": {
   "codemirror_mode": {
    "name": "ipython",
    "version": 3
   },
   "file_extension": ".py",
   "mimetype": "text/x-python",
   "name": "python",
   "nbconvert_exporter": "python",
   "pygments_lexer": "ipython3",
   "version": "3.7.9"
  }
 },
 "nbformat": 4,
 "nbformat_minor": 5
}
