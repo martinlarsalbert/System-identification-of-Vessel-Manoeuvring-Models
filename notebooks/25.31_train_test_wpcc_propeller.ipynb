{
 "cells": [
  {
   "cell_type": "markdown",
   "id": "21fadab3-6e5d-49d8-8227-a9f5b1505fc0",
   "metadata": {
    "citation-manager": {
     "citations": {
      "hzn48": [
       {
        "id": "7505983/U2L55C9Q",
        "source": "zotero"
       }
      ]
     }
    },
    "tags": []
   },
   "source": [
    "# Train test split WPCC with propeller model\n",
    "<cite id=\"hzn48\"><a href=\"#zotero|7505983/U2L55C9Q\">(Luo et al., 2016)</a></cite>"
   ]
  },
  {
   "cell_type": "code",
   "execution_count": null,
   "id": "2020a162-05bf-4649-961b-a6c00ea48c4a",
   "metadata": {},
   "outputs": [],
   "source": [
    "# %load imports.py\n",
    "%load_ext autoreload\n",
    "%autoreload 2\n",
    "%reload_kedro\n",
    "%config Completer.use_jedi = False  ## (To fix autocomplete)\n",
    "%matplotlib inline\n",
    "\n",
    "import warnings\n",
    "warnings.filterwarnings('ignore')\n",
    "\n",
    "import pandas as pd\n",
    "pd.set_option('display.max_rows', 500)\n",
    "pd.set_option('display.max_columns', 500)\n",
    "from src.models.vmm import ModelSimulator\n",
    "import matplotlib.pyplot as plt\n",
    "from src.visualization.plot import track_plots, plot, captive_plot\n",
    "import kedro\n",
    "import numpy as np\n",
    "import os.path\n",
    "import anyconfig\n",
    "\n",
    "import matplotlib\n",
    "matplotlib.rcParams[\"figure.figsize\"] = (10,10)\n",
    "from src.symbols import *\n",
    "\n",
    "# Read configs:\n",
    "conf_path = os.path.join(\"../conf/base/\")\n",
    "runs_globals_path = os.path.join(\n",
    "    conf_path,\n",
    "    \"runs_globals.yml\",\n",
    ")\n",
    "\n",
    "runs_globals = anyconfig.load(runs_globals_path)\n",
    "model_test_ids = runs_globals[\"model_test_ids\"]\n",
    "\n",
    "join_globals_path = os.path.join(\n",
    "    conf_path,\n",
    "    \"join_globals.yml\",\n",
    ")\n",
    "\n",
    "joins = runs_globals[\"joins\"]\n",
    "join_runs_dict = anyconfig.load(join_globals_path)\n",
    "\n",
    "globals_path = os.path.join(\n",
    "    conf_path,\n",
    "    \"globals.yml\",\n",
    ")\n",
    "global_variables = anyconfig.load(globals_path)\n",
    "\n",
    "\n",
    "\n",
    "vmm_names = global_variables[\"vmms\"]\n",
    "\n",
    "from wPCC_pipeline.pipelines.motion_regression.nodes import predict_force, fit_motions, create_model_from_motion_regression, create_full_model_from_motion_regression\n",
    "from wPCC_pipeline.pipelines.prediction.nodes import simulate_euler\n",
    "from src.models.vmm import VMM\n",
    "from src.parameters import df_parameters\n",
    "from src.models.propeller import fit, predict, predictor\n",
    "from wPCC_pipeline.pipelines.kvlcc2.nodes import fit_propeller_characteristics"
   ]
  },
  {
   "cell_type": "code",
   "execution_count": null,
   "id": "1dc9730f-67db-4e4a-ae0d-911ad8c54d0f",
   "metadata": {},
   "outputs": [],
   "source": [
    "ship=\"wpcc\"\n",
    "vmm_name = \"vmm_martins_simple\"\n",
    "#vmm_name = \"vmm_abkowitz\"\n",
    "vmm = catalog.load(vmm_name)\n",
    "ship_data = catalog.load(f\"{ship}.ship_data\")\n",
    "data = catalog.load(f\"{ship}.updated.joined.data_ek_smooth\")\n",
    "data['rev'] = data[[r'Prop/PS/Rpm',r'Prop/SB/Rpm']].mean(axis=1)\n",
    "added_masses = catalog.load(f\"{ship}.added_masses\")\n",
    "exclude_parameters = catalog.load(f\"params:{ship}.motion_regression.exclude_parameters\")\n",
    "open_water_characteristics = catalog.load(f\"{ship}.open_water_characteristics\")\n",
    "propeller_coefficients = catalog.load(f\"{ship}.propeller_coefficients\")"
   ]
  },
  {
   "cell_type": "code",
   "execution_count": null,
   "id": "b41010a2-9e57-47a2-a69c-38b6909d50e1",
   "metadata": {},
   "outputs": [],
   "source": [
    "kt = open_water_characteristics['Kt']\n",
    "kq = open_water_characteristics['Kq']\n",
    "J = open_water_characteristics.index\n",
    "\n",
    "#propeller_coefficients = fit_propeller_characteristics(open_water_characteristics=open_water_characteristics)\n",
    "#propeller_coefficients = pd.Series(propeller_coefficients)\n",
    "coefficients = np.flipud(list(propeller_coefficients.values()))\n",
    "#coefficients = propeller_coefficients.values\n",
    "Kt = np.polyval(p=coefficients, x=J)\n",
    "\n",
    "open_water_characteristics['10*kq'] = 10*open_water_characteristics['Kq']\n",
    "open_water_characteristics['eta0'] = kt/(kq*2*np.pi)*J\n",
    "fig,ax=plt.subplots()\n",
    "open_water_characteristics.plot(y=['Kt','10*kq','eta0'], ax=ax)\n",
    "\n",
    "ax.plot(J,Kt,'k--',)"
   ]
  },
  {
   "cell_type": "code",
   "execution_count": null,
   "id": "f74bbd37-213e-4a37-8ff3-707501f37f6a",
   "metadata": {},
   "outputs": [],
   "source": [
    "data.head()"
   ]
  },
  {
   "cell_type": "code",
   "execution_count": null,
   "id": "a522d6f1-bebc-4604-bc7b-f965959c6f38",
   "metadata": {},
   "outputs": [],
   "source": [
    "ids = data['id'].unique()"
   ]
  },
  {
   "cell_type": "code",
   "execution_count": null,
   "id": "df105c43-01f2-4067-a29c-27a62011f32f",
   "metadata": {},
   "outputs": [],
   "source": [
    "np.random.seed(11)\n",
    "ids_test = np.random.choice(ids, size=int(np.ceil(len(ids)*0.4)), replace=False)\n",
    "ids_train = list(set(ids) - set(ids_test))\n",
    "\n",
    "mask = data['id'].isin(ids_train)\n",
    "df_train = data.loc[mask].copy()"
   ]
  },
  {
   "cell_type": "code",
   "execution_count": null,
   "id": "9b065a78-1700-4555-8cff-13730439f864",
   "metadata": {},
   "outputs": [],
   "source": [
    "dataframes_test = {}\n",
    "for id in ids_test:\n",
    "    dataframes_test[id] = catalog.load(f'{ship}.updated.{id}.data_ek_smooth')"
   ]
  },
  {
   "cell_type": "code",
   "execution_count": null,
   "id": "606a3398-c20c-47cf-b10b-164ae4fb192e",
   "metadata": {},
   "outputs": [],
   "source": [
    "track_plots(dataframes_test, lpp=ship_data['L'], beam=ship_data['B']);"
   ]
  },
  {
   "cell_type": "code",
   "execution_count": null,
   "id": "6ebed184-dc44-4731-b9bc-89e73944cacc",
   "metadata": {},
   "outputs": [],
   "source": [
    "plot(dataframes=dataframes_test, keys=['delta','psi','thrust'], ncols=1);"
   ]
  },
  {
   "cell_type": "code",
   "execution_count": null,
   "id": "5e31d2cb-ee93-4cb3-b4d1-c3de5a8a9551",
   "metadata": {},
   "outputs": [],
   "source": [
    "df_train = df_train[[\"x0\",\"y0\",\"z0\",\"u\",'v','r','u1d','v1d','r1d','delta','thrust','rev']].copy()\n",
    "data_with_force = predict_force(data=df_train, added_masses=added_masses, ship_parameters=ship_data, vmm=vmm)"
   ]
  },
  {
   "cell_type": "code",
   "execution_count": null,
   "id": "861ae36e-85ad-41e9-b842-3c3fb7e6ef4d",
   "metadata": {},
   "outputs": [],
   "source": [
    "vmm.X_eq"
   ]
  },
  {
   "cell_type": "code",
   "execution_count": null,
   "id": "f023dccf-3704-4fe4-9267-c959b8ddd004",
   "metadata": {},
   "outputs": [],
   "source": [
    "vmm.Y_eq"
   ]
  },
  {
   "cell_type": "code",
   "execution_count": null,
   "id": "58304827-0024-4a36-9bda-f23278056edb",
   "metadata": {},
   "outputs": [],
   "source": [
    "vmm.N_eq"
   ]
  },
  {
   "cell_type": "code",
   "execution_count": null,
   "id": "5612f780-857e-4fb8-99c3-30023fd90bbc",
   "metadata": {},
   "outputs": [],
   "source": [
    "regression, parameters = fit_motions(data=data_with_force, added_masses=added_masses, ship_data=ship_data, vmm=vmm, exclude_parameters=exclude_parameters)"
   ]
  },
  {
   "cell_type": "code",
   "execution_count": null,
   "id": "50ef2f11-0b6d-4580-a311-2d675af61dfc",
   "metadata": {},
   "outputs": [],
   "source": [
    "model = create_model_from_motion_regression(regression=regression)"
   ]
  },
  {
   "cell_type": "markdown",
   "id": "13c52c7e-2b21-4958-9e51-81d09714453a",
   "metadata": {
    "tags": []
   },
   "source": [
    "## Thrust model"
   ]
  },
  {
   "cell_type": "code",
   "execution_count": null,
   "id": "522956b0-3aee-47df-8dd8-5bbf8b5c33cf",
   "metadata": {},
   "outputs": [],
   "source": [
    "#from src.models.propeller import preprocess, lambda_w_p, lambda_thrust_simple\n",
    "#from src.substitute_dynamic_symbols import run\n",
    "#import statsmodels.api as sm\n",
    "#\n",
    "#def features(df, ship_data: dict, add_constant=False):\n",
    "#\n",
    "#    if isinstance(df, pd.DataFrame):\n",
    "#        X = pd.DataFrame(index=df.index.copy())\n",
    "#    else:\n",
    "#        X = pd.DataFrame(index=[0])\n",
    "#\n",
    "#    twin = ship_data['TWIN'] == 1\n",
    "#    X[\"delta\"] = 0\n",
    "#    \n",
    "#    \n",
    "#    X[\"delta**2\"] = df[\"delta\"] ** 2\n",
    "#    v_p = df[\"v\"] + df[\"r\"] * ship_data[\"x_p\"]\n",
    "#    X[\"v_p\"] = 0\n",
    "#    X[\"v_p**2\"] = v_p ** 2\n",
    "#\n",
    "#    if add_constant:\n",
    "#        X = sm.tools.add_constant(X, has_constant=\"add\")\n",
    "#\n",
    "#    return X\n",
    "#\n",
    "#\n",
    "#def fit(\n",
    "#    data: pd.DataFrame,\n",
    "#    ship_data: dict,\n",
    "#    propeller_coefficients: dict,\n",
    "#    add_constant=False,\n",
    "#):\n",
    "#\n",
    "#    data = preprocess(\n",
    "#        data, ship_data=ship_data, propeller_coefficients=propeller_coefficients\n",
    "#    )\n",
    "#    \n",
    "#    if ship_data['TWIN'] == 1:\n",
    "#        data = data.copy()\n",
    "#        data['thrust']/=2\n",
    "#    \n",
    "#    data[\"w_p\"] = run(lambda_w_p, inputs=data, **ship_data, **propeller_coefficients)\n",
    "#\n",
    "#    df_pos = data.copy()\n",
    "#    X = features(df_pos, ship_data=ship_data, add_constant=add_constant)\n",
    "#    y = df_pos[\"w_p\"] - ship_data[\"w_p0\"]\n",
    "#    linear_regression_pos = sm.OLS(y, X, hasconst=add_constant)\n",
    "#    model_pos = linear_regression_pos.fit()\n",
    "#\n",
    "#    df_neg = data.copy()\n",
    "#\n",
    "#    X = features(df_neg, ship_data=ship_data, add_constant=add_constant)\n",
    "#    y = df_neg[\"w_p\"] - ship_data[\"w_p0\"]\n",
    "#    linear_regression_neg = sm.OLS(y, X, hasconst=add_constant)\n",
    "#    model_neg = linear_regression_neg.fit()\n",
    "#\n",
    "#    return model_pos, model_neg"
   ]
  },
  {
   "cell_type": "code",
   "execution_count": null,
   "id": "283d999a-9815-4251-9ee0-469a31338ed8",
   "metadata": {},
   "outputs": [],
   "source": [
    "add_constant = True\n",
    "model_pos, model_neg = fit(data=df_train, ship_data=ship_data, propeller_coefficients=propeller_coefficients, add_constant=add_constant) \n",
    "data_predicted_thrust = predict(model_pos=model_pos, model_neg=model_neg, data=data_with_force, propeller_coefficients=propeller_coefficients, \n",
    "                                ship_data=ship_data)\n",
    "\n",
    "regression_predicted_thrust, parameters = fit_motions(data=data_predicted_thrust, added_masses=added_masses, \n",
    "                                                      ship_data=ship_data, vmm=vmm, exclude_parameters=exclude_parameters)"
   ]
  },
  {
   "cell_type": "code",
   "execution_count": null,
   "id": "ccf3b912-659e-4421-bb1b-6e79abbff4a8",
   "metadata": {},
   "outputs": [],
   "source": [
    "fig,ax=plt.subplots()\n",
    "df_train.plot(y='thrust', ax=ax)\n",
    "data_predicted_thrust.plot(y='thrust', ax=ax)"
   ]
  },
  {
   "cell_type": "code",
   "execution_count": null,
   "id": "3a3a8c6f-c3ce-4817-97be-4e91b848addd",
   "metadata": {},
   "outputs": [],
   "source": [
    "model_predicted_thrust = create_full_model_from_motion_regression(regression=regression_predicted_thrust, \n",
    "                                                                  model_pos=model_pos, \n",
    "                                                                  model_neg=model_neg, \n",
    "                                                                  propeller_coefficients=propeller_coefficients)"
   ]
  },
  {
   "cell_type": "code",
   "execution_count": null,
   "id": "f6f4d301-1d1b-4d70-aaf8-4f4491dfa7b2",
   "metadata": {},
   "outputs": [],
   "source": [
    "model_pos.summary()"
   ]
  },
  {
   "cell_type": "code",
   "execution_count": null,
   "id": "901304a2-66d2-42a4-a07e-668a81e901e6",
   "metadata": {},
   "outputs": [],
   "source": [
    "for id in ids_test:\n",
    "    \n",
    "    df_test = catalog.load(f'{ship}.updated.{id}.data_ek_smooth')\n",
    "    df_test['rev'] = df_test[[r'Prop/PS/Rpm',r'Prop/SB/Rpm']].mean(axis=1)\n",
    "    \n",
    "    df_predicted_thrust = predict(model_pos=model_pos, model_neg=model_neg, data=df_test, propeller_coefficients=propeller_coefficients, \n",
    "                                    ship_data=ship_data)\n",
    "        \n",
    "    result = model.simulate(df_=df_test)\n",
    "    result_predicted_thrust = model_predicted_thrust.simulate(df_=df_test.drop(columns=['thrust']))\n",
    "    \n",
    "    df_result = result.result.copy()\n",
    "    df_result_predicted_thrust = result_predicted_thrust.result.copy()\n",
    "    df_result_predicted_thrust['thrust'] = predict(model_pos=model_pos, \n",
    "                                                   model_neg=model_neg, \n",
    "                                                   data=df_result_predicted_thrust, \n",
    "                                                   propeller_coefficients=propeller_coefficients, \n",
    "                                                   ship_data=ship_data)['thrust']\n",
    "    \n",
    "    for df in [df_test, df_result, df_result_predicted_thrust]:\n",
    "        df['psi_deg'] = np.rad2deg(df['psi'])\n",
    "        df['delta_deg'] = np.rad2deg(df['delta'])\n",
    "    \n",
    "    dataframes = {\n",
    "        'Experiment' : df_test,\n",
    "        'Hull + Rudder prediction' : df_result,\n",
    "        'Full prediction' : df_result_predicted_thrust,\n",
    "        \n",
    "    }\n",
    "    \n",
    "    styles = {\n",
    "        'Experiment' : {'style':'r--'},\n",
    "        'Hull + Rudder prediction' : {'style':'b:'},\n",
    "        'Full prediction' : {'style':'g-'},\n",
    "    }\n",
    "    \n",
    "    track_plots(dataframes, lpp=ship_data['L'], beam=ship_data['B'],  styles=styles);\n",
    "    plot(dataframes=dataframes, keys=['delta_deg','psi_deg','thrust','y0','u','v','r'], ncols=1, styles=styles);"
   ]
  },
  {
   "cell_type": "code",
   "execution_count": null,
   "id": "392af917-050a-46d0-9094-018d9c6ac903",
   "metadata": {},
   "outputs": [],
   "source": [
    "u0 = df_test['u'].iloc[0]\n",
    "rev = df_test['rev'].iloc[0]\n",
    "result2 = model_predicted_thrust.zigzag(u0=u0, rev=rev, angle=20, heading_dev=10)\n",
    "result2.include_accelerations=False\n",
    "df_result2 = result2.result.copy()\n",
    "for df in [df_result2]:\n",
    "    df['psi_deg'] = np.rad2deg(df['psi'])\n",
    "    df['delta_deg'] = np.rad2deg(df['delta'])"
   ]
  },
  {
   "cell_type": "code",
   "execution_count": null,
   "id": "e94a6405-75a9-4582-965f-65b9023dee0e",
   "metadata": {},
   "outputs": [],
   "source": [
    "df_result2['thrust'] = predict(model_pos=model_pos, model_neg=model_neg, data=df_result2, propeller_coefficients=propeller_coefficients, ship_data=ship_data)['thrust']"
   ]
  },
  {
   "cell_type": "code",
   "execution_count": null,
   "id": "14cc05f7-1f02-4162-b609-88996468e004",
   "metadata": {},
   "outputs": [],
   "source": [
    "track_plots({'sim':result2.result,'test':df_test}, lpp=ship_data['L'], beam=ship_data['B'],  styles=styles);"
   ]
  },
  {
   "cell_type": "code",
   "execution_count": null,
   "id": "30ab3792-69e9-4892-856c-7765ca6a74e5",
   "metadata": {},
   "outputs": [],
   "source": [
    "plot({'sim':result2.result,'test':df_test}, keys=['delta','psi','thrust','y0','u','v','r'], ncols=1, time_window=[0,10]);"
   ]
  },
  {
   "cell_type": "code",
   "execution_count": null,
   "id": "5e686536-9c00-42dd-b48d-a8b6bce6e965",
   "metadata": {},
   "outputs": [],
   "source": [
    "u0 = data['u'].iloc[0]\n",
    "rev = data['rev'].iloc[0]\n",
    "result2 = model_predicted_thrust.turning_circle(u0=u0, rev=rev, angle=35)\n",
    "result2.include_accelerations=False\n",
    "df_result2 = result2.result.copy()"
   ]
  },
  {
   "cell_type": "code",
   "execution_count": null,
   "id": "b98ea567-b97f-4f11-a45b-13d5473a73b3",
   "metadata": {},
   "outputs": [],
   "source": [
    "df_result2['thrust'] = predict(model_pos=model_pos, model_neg=model_neg, data=df_result2, propeller_coefficients=propeller_coefficients, ship_data=ship_data)['thrust']"
   ]
  },
  {
   "cell_type": "code",
   "execution_count": null,
   "id": "5d8cfc4d-1de3-4ae3-97df-cc1b5f20878c",
   "metadata": {},
   "outputs": [],
   "source": [
    "track_plots({'sim':result2.result}, lpp=ship_data['L'], beam=ship_data['B'],  styles=styles);"
   ]
  },
  {
   "cell_type": "code",
   "execution_count": null,
   "id": "d441f6b3-cfec-4f4d-ae51-77f69ab0e4b7",
   "metadata": {},
   "outputs": [],
   "source": [
    "plot({'sim':df_result2}, keys=['delta','psi','thrust','y0','u','v','r'], ncols=1,);"
   ]
  },
  {
   "cell_type": "code",
   "execution_count": null,
   "id": "ad578aeb-b1d9-4c42-bedb-ca4f8097e4a4",
   "metadata": {},
   "outputs": [],
   "source": []
  },
  {
   "cell_type": "code",
   "execution_count": null,
   "id": "8259ccf7-1a98-40e3-91d4-63fc0c6ada78",
   "metadata": {},
   "outputs": [],
   "source": []
  },
  {
   "cell_type": "code",
   "execution_count": null,
   "id": "74a46ea9-3e2b-4c0f-ba22-094681c0188e",
   "metadata": {},
   "outputs": [],
   "source": [
    "5.0/41.2"
   ]
  },
  {
   "cell_type": "code",
   "execution_count": null,
   "id": "1951aceb-64ca-42ac-a687-5ecfde1c44a2",
   "metadata": {},
   "outputs": [],
   "source": []
  },
  {
   "cell_type": "code",
   "execution_count": null,
   "id": "896e42c4-d487-40b3-b0a4-f2cc78cdabee",
   "metadata": {},
   "outputs": [],
   "source": []
  },
  {
   "cell_type": "code",
   "execution_count": null,
   "id": "a1da91e8-7ae7-447f-91ce-15dbc3d75967",
   "metadata": {},
   "outputs": [],
   "source": []
  }
 ],
 "metadata": {
  "citation-manager": {
   "items": {
    "zotero": {
     "7505983/U2L55C9Q": {
      "DOI": "10.1115/1.4032892",
      "URL": "https://asmedigitalcollection.asme.org/offshoremechanics/article/doi/10.1115/1.4032892/376874/Parameter-Identification-of-Ship-Maneuvering-Model",
      "abstract": "Combined with the free-running model tests of KVLCC ship, the system identification (SI) based on support vector machines (SVM) is proposed for the prediction of ship maneuvering motion. The hydrodynamic derivatives in an Abkowitz model are determined by the Lagrangian factors and the support vectors in the SVM regression model. To obtain the optimized structural factors in SVM, particle swarm optimization (PSO) is incorporated into SVM. To diminish the drift of hydrodynamic derivatives after regression, a difference method is adopted to reconstruct the training samples before identification. The validity of the difference method is verified by correlation analysis. Based on the Abkowitz mathematical model, the simulation of ship maneuvering motion is conducted. Comparison between the predicted results and the test results demonstrates the validity of the proposed methods in this paper.",
      "accessed": {
       "date-parts": [
        [
         2020,
         8,
         24
        ]
       ]
      },
      "author": [
       {
        "family": "Luo",
        "given": "Weilin"
       },
       {
        "family": "Guedes Soares",
        "given": "C."
       },
       {
        "family": "Zou",
        "given": "Zaojian"
       }
      ],
      "container-title": "Journal of Offshore Mechanics and Arctic Engineering",
      "id": "7505983/U2L55C9Q",
      "issue": "3",
      "issued": {
       "date-parts": [
        [
         2016,
         6,
         1
        ]
       ]
      },
      "language": "en",
      "page": "031101",
      "system_id": "zotero|7505983/U2L55C9Q",
      "title": "Parameter Identification of Ship Maneuvering Model Based on Support Vector Machines and Particle Swarm Optimization",
      "type": "article-journal",
      "volume": "138"
     }
    }
   }
  },
  "kernelspec": {
   "display_name": "wPCC_pipeline",
   "language": "python",
   "name": "python3"
  },
  "language_info": {
   "codemirror_mode": {
    "name": "ipython",
    "version": 3
   },
   "file_extension": ".py",
   "mimetype": "text/x-python",
   "name": "python",
   "nbconvert_exporter": "python",
   "pygments_lexer": "ipython3",
   "version": "3.7.9"
  }
 },
 "nbformat": 4,
 "nbformat_minor": 5
}
