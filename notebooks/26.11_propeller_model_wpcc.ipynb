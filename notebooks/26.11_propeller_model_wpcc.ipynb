{
 "cells": [
  {
   "cell_type": "markdown",
   "id": "fe79187c-b29e-4d28-8f26-6a882616c144",
   "metadata": {},
   "source": [
    "# Propeller model WPCC"
   ]
  },
  {
   "cell_type": "code",
   "execution_count": null,
   "id": "016e1503-025d-4117-805d-6eeee56adf66",
   "metadata": {},
   "outputs": [],
   "source": [
    "# %load imports.py\n",
    "%load_ext autoreload\n",
    "%autoreload 2\n",
    "%reload_kedro\n",
    "%config Completer.use_jedi = False  ## (To fix autocomplete)\n",
    "%matplotlib inline\n",
    "\n",
    "import warnings\n",
    "warnings.filterwarnings('ignore')\n",
    "\n",
    "import pandas as pd\n",
    "pd.set_option('display.max_rows', 500)\n",
    "pd.set_option('display.max_columns', 500)\n",
    "from src.models.vmm import ModelSimulator\n",
    "import matplotlib.pyplot as plt\n",
    "from src.visualization.plot import track_plots, plot, captive_plot\n",
    "import kedro\n",
    "import numpy as np\n",
    "import os.path\n",
    "import anyconfig\n",
    "\n",
    "import matplotlib\n",
    "matplotlib.rcParams[\"figure.figsize\"] = (10,10)\n",
    "from src.symbols import *\n",
    "\n",
    "# Read configs:\n",
    "conf_path = os.path.join(\"../conf/base/\")\n",
    "runs_globals_path = os.path.join(\n",
    "    conf_path,\n",
    "    \"runs_globals.yml\",\n",
    ")\n",
    "\n",
    "runs_globals = anyconfig.load(runs_globals_path)\n",
    "model_test_ids = runs_globals[\"model_test_ids\"]\n",
    "\n",
    "join_globals_path = os.path.join(\n",
    "    conf_path,\n",
    "    \"join_globals.yml\",\n",
    ")\n",
    "\n",
    "joins = runs_globals[\"joins\"]\n",
    "join_runs_dict = anyconfig.load(join_globals_path)\n",
    "\n",
    "globals_path = os.path.join(\n",
    "    conf_path,\n",
    "    \"globals.yml\",\n",
    ")\n",
    "global_variables = anyconfig.load(globals_path)\n",
    "\n",
    "\n",
    "\n",
    "vmm_names = global_variables[\"vmms\"]\n",
    "\n",
    "from wPCC_pipeline.pipelines.motion_regression.nodes import predict_force, fit_motions, create_model_from_motion_regression, create_full_model_from_motion_regression\n",
    "from wPCC_pipeline.pipelines.prediction.nodes import simulate_euler\n",
    "from src.models.vmm import VMM\n",
    "from src.parameters import df_parameters\n",
    "from src.models.propeller import fit, predict, predictor\n",
    "from wPCC_pipeline.pipelines.kvlcc2.nodes import fit_propeller_characteristics"
   ]
  },
  {
   "cell_type": "code",
   "execution_count": null,
   "id": "02a07783-e683-489e-929a-c646b61b93ac",
   "metadata": {},
   "outputs": [],
   "source": [
    "ship=\"wpcc\"\n",
    "vmm_name = \"vmm_martins_simple\"\n",
    "#vmm_name = \"vmm_abkowitz\"\n",
    "vmm = catalog.load(vmm_name)\n",
    "ship_data = catalog.load(f\"{ship}.ship_data\")\n",
    "data = catalog.load(f\"{ship}.updated.joined.data_ek_smooth\")\n",
    "data['rev'] = data[[r'Prop/PS/Rpm',r'Prop/SB/Rpm']].mean(axis=1)\n",
    "\n",
    "data['v_p'] = data[\"v\"] + data[\"r\"] * ship_data[\"x_p\"]\n",
    "\n",
    "added_masses = catalog.load(f\"{ship}.added_masses\")\n",
    "exclude_parameters = catalog.load(f\"params:{ship}.motion_regression.exclude_parameters\")\n",
    "open_water_characteristics = catalog.load(f\"{ship}.open_water_characteristics\")\n",
    "propeller_coefficients = catalog.load(f\"{ship}.propeller_coefficients\")"
   ]
  },
  {
   "cell_type": "code",
   "execution_count": null,
   "id": "887dfb82-0a4d-41a4-aaa0-18b766f37a01",
   "metadata": {},
   "outputs": [],
   "source": [
    "from src.models.propeller import preprocess, lambda_w_p\n",
    "from src.substitute_dynamic_symbols import run\n",
    "import statsmodels.api as sm"
   ]
  },
  {
   "cell_type": "code",
   "execution_count": null,
   "id": "f655407a-7e20-4ed1-9174-54bfb6bedaf0",
   "metadata": {},
   "outputs": [],
   "source": [
    "data[\"w_p\"] = run(lambda_w_p, inputs=data[['u','rev']], **ship_data, **propeller_coefficients, thrust=data['thrust']/2)\n",
    "data[\"delta_w_p\"] = data[\"w_p\"] - ship_data['w_p0']\n",
    "\n",
    "y_p = -0.35\n",
    "up = data['u'] - y_p*data['r']\n",
    "data[\"w_p_PS\"] = run(lambda_w_p, inputs={}, **ship_data, **propeller_coefficients, \n",
    "                     thrust=data['Prop/PS/Thrust'], \n",
    "                     u=up, \n",
    "                     rev=data['Prop/PS/Rpm'])\n",
    "data[\"delta_w_p_PS\"] = data[\"w_p_PS\"] - ship_data['w_p0']\n",
    "\n",
    "\n",
    "y_p = 0.35\n",
    "up = data['u'] - y_p*data['r']\n",
    "data[\"w_p_SB\"] = run(lambda_w_p, inputs={}, **ship_data, **propeller_coefficients, \n",
    "                     thrust=data['Prop/SB/Thrust'], \n",
    "                     u=up, \n",
    "                     rev=data['Prop/SB/Rpm'])\n",
    "data[\"delta_w_p_SB\"] = data[\"w_p_SB\"] - ship_data['w_p0']\n"
   ]
  },
  {
   "cell_type": "code",
   "execution_count": null,
   "id": "48d0c3f4-accf-4e3c-a88b-e8fde4deaadf",
   "metadata": {},
   "outputs": [],
   "source": [
    "df_train = data"
   ]
  },
  {
   "cell_type": "code",
   "execution_count": null,
   "id": "3656146f-95ee-421f-9db1-11f3493f769f",
   "metadata": {},
   "outputs": [],
   "source": [
    "add_constant = True\n",
    "model_pos, model_neg = fit(data=df_train, ship_data=ship_data, propeller_coefficients=propeller_coefficients, add_constant=add_constant) \n"
   ]
  },
  {
   "cell_type": "code",
   "execution_count": null,
   "id": "e21fb621-8391-43dc-97f1-5b8ed934ef97",
   "metadata": {},
   "outputs": [],
   "source": [
    "model_pos.summary()"
   ]
  },
  {
   "cell_type": "code",
   "execution_count": null,
   "id": "59d37030-df2b-438d-83ac-1a06e2a0f538",
   "metadata": {},
   "outputs": [],
   "source": [
    "data_predicted_thrust = predict(model_pos=model_pos, model_neg=model_neg, data=df_train, propeller_coefficients=propeller_coefficients, \n",
    "                                ship_data=ship_data)\n"
   ]
  },
  {
   "cell_type": "code",
   "execution_count": null,
   "id": "822a16d9-7d15-4a88-93be-030b36fda9cc",
   "metadata": {},
   "outputs": [],
   "source": [
    "fig,ax=plt.subplots()\n",
    "df_train.plot(y='thrust', ax=ax, label='True')\n",
    "data_predicted_thrust.plot(y='thrust', ax=ax, label='Prediction')"
   ]
  },
  {
   "cell_type": "code",
   "execution_count": null,
   "id": "a33eba63-a997-4332-9cb7-7d40c1a063c4",
   "metadata": {},
   "outputs": [],
   "source": [
    "for id, df_ in df_train.groupby(by='id', sort=False):\n",
    "    \n",
    "    mask = data_predicted_thrust['id'] == id\n",
    "    df_pred = data_predicted_thrust.loc[mask]\n",
    "    \n",
    "    fig,axes=plt.subplots(ncols=2)\n",
    "    fig.set_size_inches(15,5)\n",
    "    fig.suptitle(id)\n",
    "    \n",
    "    ax = axes[0]\n",
    "    df_.plot(y=[r'delta_w_p_PS',r'delta_w_p_SB'], label=['PS','SB'], ax=ax)\n",
    "    #df_.plot(y=[r'Prop/PS/Thrust',r'Prop/SB/Thrust'], label=['PS','SB'], ax=ax)\n",
    "    ax.set_ylim(-1,0.5)\n",
    "    \n",
    "    ax = axes[1]\n",
    "    df_.plot(y=['v_p'], ax=ax)\n",
    "    ax.set_ylim(data['v_p'].min(),data['v_p'].max())\n",
    "    \n",
    "    ax2 = ax.twinx()\n",
    "    df_.plot(y=['delta'], style='r-', ax=ax2)\n",
    "    \n",
    "    "
   ]
  },
  {
   "cell_type": "code",
   "execution_count": null,
   "id": "c540a536-130d-492c-9aa9-cf43c81b0861",
   "metadata": {},
   "outputs": [],
   "source": [
    "df_PS = data.copy()\n",
    "df_PS['thrust'] = df_PS['Prop/PS/Thrust']\n",
    "df_PS['rev'] = df_PS[r'Prop/PS/Rpm']\n",
    "df_SB = data.copy()\n",
    "df_SB['thrust'] = df_SB['Prop/SB/Thrust']\n",
    "df_SB['rev'] = df_SB[r'Prop/SB/Rpm']\n",
    "\n",
    "df = pd.concat([df_PS,df_SB])"
   ]
  },
  {
   "cell_type": "code",
   "execution_count": null,
   "id": "54dc14a7-2fd8-46d5-91ec-500f0875ea42",
   "metadata": {},
   "outputs": [],
   "source": [
    "ship_data['y_p'] = -0.35"
   ]
  },
  {
   "cell_type": "code",
   "execution_count": null,
   "id": "918bb560-eaa5-4152-ace2-ed4982aed88c",
   "metadata": {},
   "outputs": [],
   "source": [
    "def features(df, ship_data: dict, add_constant=False):\n",
    "\n",
    "    if isinstance(df, pd.DataFrame):\n",
    "        X = pd.DataFrame(index=df.index.copy())\n",
    "    else:\n",
    "        X = pd.DataFrame(index=[0])\n",
    "\n",
    "    #X[\"delta\"] = df[\"delta\"]\n",
    "\n",
    "    X[\"delta**2\"] = df[\"delta\"] ** 2\n",
    "    v_p = df[\"v\"] + df[\"r\"] * ship_data[\"x_p\"]\n",
    "    \n",
    "    #X['u'] = df['u']\n",
    "    u_p = -df[\"r\"] * ship_data[\"y_p\"]\n",
    "    X['u_p'] = u_p\n",
    "    X[\"v_p\"] = v_p\n",
    "\n",
    "    X[\"v_p**2\"] = v_p ** 2\n",
    "\n",
    "    if add_constant:\n",
    "        X = sm.tools.add_constant(X, has_constant=\"add\")\n",
    "\n",
    "    return X\n",
    "\n",
    "\n",
    "def fit_(\n",
    "    data: pd.DataFrame,\n",
    "    ship_data: dict,\n",
    "    propeller_coefficients: dict,\n",
    "    add_constant=False,\n",
    "):\n",
    "\n",
    "    data = preprocess(\n",
    "        data, ship_data=ship_data, propeller_coefficients=propeller_coefficients\n",
    "    )\n",
    "\n",
    "    data[\"w_p\"] = run(lambda_w_p, inputs=data, **ship_data, **propeller_coefficients)\n",
    "\n",
    "    mask = data[\"beta_p\"] > 0\n",
    "    df_pos = data.loc[mask].copy()\n",
    "\n",
    "    X = features(df_pos, ship_data=ship_data, add_constant=add_constant)\n",
    "    y = df_pos[\"w_p\"] - ship_data[\"w_p0\"]\n",
    "    linear_regression_pos = sm.OLS(y, X, hasconst=add_constant)\n",
    "    model_pos = linear_regression_pos.fit()\n",
    "\n",
    "    mask = data[\"beta_p\"] <= 0\n",
    "    df_neg = data.loc[mask].copy()\n",
    "\n",
    "    X = features(df_neg, ship_data=ship_data, add_constant=add_constant)\n",
    "    y = df_neg[\"w_p\"] - ship_data[\"w_p0\"]\n",
    "    linear_regression_neg = sm.OLS(y, X, hasconst=add_constant)\n",
    "    model_neg = linear_regression_neg.fit()\n",
    "\n",
    "    return model_pos, model_neg"
   ]
  },
  {
   "cell_type": "code",
   "execution_count": null,
   "id": "f9b846e5-0ad6-4031-ae71-3a93fd31cc17",
   "metadata": {},
   "outputs": [],
   "source": [
    "add_constant = True\n",
    "model_pos, model_neg = fit_(data=df_PS, ship_data=ship_data, propeller_coefficients=propeller_coefficients, add_constant=add_constant) \n"
   ]
  },
  {
   "cell_type": "code",
   "execution_count": null,
   "id": "a1ab5f8e-448a-4079-b9b6-5813960e3562",
   "metadata": {},
   "outputs": [],
   "source": [
    "model_pos.summary()"
   ]
  },
  {
   "cell_type": "code",
   "execution_count": null,
   "id": "c39941b4-da58-4404-896f-528ad4082f48",
   "metadata": {},
   "outputs": [],
   "source": [
    "model_neg.summary()"
   ]
  },
  {
   "cell_type": "code",
   "execution_count": null,
   "id": "ba551075-e7fc-4f63-b702-d5442ad72faa",
   "metadata": {},
   "outputs": [],
   "source": [
    "#df_PS[\"w_p_PS\"] = run(lambda_w_p, inputs=df_PS, **ship_data, **propeller_coefficients)\n",
    "\n",
    "X = pd.DataFrame(index=df_PS.index)\n",
    "X = sm.tools.add_constant(X, has_constant=\"add\")\n",
    "y = df_PS[\"w_p_PS\"] - ship_data[\"w_p0\"]\n",
    "linear_regression = sm.OLS(y, X, hasconst=False)\n",
    "result = linear_regression.fit()"
   ]
  },
  {
   "cell_type": "code",
   "execution_count": null,
   "id": "870aefa5-a18b-4c21-8f5d-d6634d7c8dac",
   "metadata": {},
   "outputs": [],
   "source": [
    "result.summary()"
   ]
  },
  {
   "cell_type": "code",
   "execution_count": null,
   "id": "4d08636c-06d7-4452-9fd0-1622a3f16f99",
   "metadata": {},
   "outputs": [],
   "source": [
    "y.plot()"
   ]
  },
  {
   "cell_type": "code",
   "execution_count": null,
   "id": "c9cc5148-d229-4dee-8370-325283162b74",
   "metadata": {},
   "outputs": [],
   "source": []
  },
  {
   "cell_type": "code",
   "execution_count": null,
   "id": "75d03ee6-2066-4b4e-8348-41fe25004655",
   "metadata": {},
   "outputs": [],
   "source": []
  }
 ],
 "metadata": {
  "citation-manager": {
   "items": {}
  },
  "kernelspec": {
   "display_name": "wPCC_pipeline",
   "language": "python",
   "name": "python3"
  },
  "language_info": {
   "codemirror_mode": {
    "name": "ipython",
    "version": 3
   },
   "file_extension": ".py",
   "mimetype": "text/x-python",
   "name": "python",
   "nbconvert_exporter": "python",
   "pygments_lexer": "ipython3",
   "version": "3.7.9"
  }
 },
 "nbformat": 4,
 "nbformat_minor": 5
}
