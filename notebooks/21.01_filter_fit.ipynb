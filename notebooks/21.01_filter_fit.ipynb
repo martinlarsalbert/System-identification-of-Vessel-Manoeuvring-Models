{
 "cells": [
  {
   "cell_type": "markdown",
   "id": "895df866-fc67-4501-b021-b13212febda4",
   "metadata": {},
   "source": [
    "# Fit a manoeuvring model on raw data and filtered data"
   ]
  },
  {
   "cell_type": "code",
   "execution_count": null,
   "id": "491b432b-4e72-4768-88cd-e759d31cc86b",
   "metadata": {},
   "outputs": [],
   "source": [
    "# %load imports.py\n",
    "%load_ext autoreload\n",
    "%autoreload 2\n",
    "%config Completer.use_jedi = False  ## (To fix autocomplete)\n",
    "\n",
    "import pandas as pd\n",
    "from vessel_manoeuvring_models.models.vmm import ModelSimulator\n",
    "import matplotlib.pyplot as plt\n",
    "import matplotlib\n",
    "#plt.style.use('presentation')\n",
    "\n",
    "from vessel_manoeuvring_models.visualization.plot import track_plots, plot, captive_plot\n",
    "import kedro\n",
    "import numpy as np\n",
    "import os.path\n",
    "import anyconfig\n",
    "\n",
    "\n",
    "from myst_nb import glue\n",
    "from vessel_manoeuvring_models.symbols import *\n",
    "import vessel_manoeuvring_models.symbols as symbols\n",
    "from vessel_manoeuvring_models.system_equations import *\n",
    "\n",
    "from IPython.display import display, Math, Latex, Markdown\n",
    "from sympy.physics.vector.printing import vpprint, vlatex\n",
    "\n",
    "from vessel_manoeuvring_models.models.regression import MotionRegression, Regression\n",
    "\n",
    "from vessel_manoeuvring_models.parameters import df_parameters\n",
    "from vessel_manoeuvring_models.substitute_dynamic_symbols import run\n",
    "from vessel_manoeuvring_models.models.diff_eq_to_matrix import DiffEqToMatrix\n",
    "p = df_parameters[\"symbol\"]\n",
    "import statsmodels.api as sm\n",
    "\n",
    "from vessel_manoeuvring_models.models.force_from_motion import predict_force\n",
    "\n",
    "# Read configs:\n",
    "conf_path = os.path.join(\"../conf/base/\")\n",
    "runs_globals_path = os.path.join(\n",
    "    conf_path,\n",
    "    \"runs_globals.yml\",\n",
    ")\n",
    "\n",
    "runs_globals = anyconfig.load(runs_globals_path)\n",
    "model_test_ids = runs_globals[\"model_test_ids\"]\n",
    "\n",
    "join_globals_path = os.path.join(\n",
    "    conf_path,\n",
    "    \"join_globals.yml\",\n",
    ")\n",
    "\n",
    "joins = runs_globals[\"joins\"]\n",
    "join_runs_dict = anyconfig.load(join_globals_path)\n",
    "\n",
    "globals_path = os.path.join(\n",
    "    conf_path,\n",
    "    \"globals.yml\",\n",
    ")\n",
    "global_variables = anyconfig.load(globals_path)\n",
    "from vessel_manoeuvring_models.prime_system import PrimeSystem\n",
    "from wPCC_pipeline.pipelines.kvlcc2.nodes import calculate_thrust\n",
    "from wPCC_pipeline.pipelines.motion_regression.nodes import predict_force, fit_motions\n",
    "from wPCC_pipeline.pipelines.prediction.nodes import simulate_euler\n",
    "from wPCC_pipeline.pipelines.filter_data_extended_kalman.nodes import extended_kalman_filter, extended_kalman_smoother"
   ]
  },
  {
   "cell_type": "code",
   "execution_count": null,
   "id": "6804209f-568c-4db4-9829-c11260f89e57",
   "metadata": {},
   "outputs": [],
   "source": [
    "%reload_kedro\n",
    "\n",
    "#id = \"MARIN_FREE_KVLCC2_tc_35_m\"\n",
    "id = \"MARIN_FREE_KVLCC2_zz_20_m\"\n",
    "#id = \"MARIN_FREE_KVLCC2_tc_35_m\"\n",
    "\n",
    "df_raw = catalog.load(f\"kvlcc2.{id}.raw_data\")\n",
    "data = catalog.load(f\"kvlcc2.{id}.data\")\n",
    "df_smooth = catalog.load(f\"kvlcc2.initial.{id}.data_ek_smooth\")\n",
    "df_ek = catalog.load(f\"kvlcc2.initial.{id}.data_ek_filter\")\n",
    "\n",
    "\n",
    "#df_raw.index = df_raw.index-4\n",
    "dataframes = {'raw':data,\n",
    "              'df_ek': df_ek,\n",
    "              'smooth' : df_smooth,        \n",
    "             }\n",
    "\n",
    "styles = {\n",
    "\n",
    "    'df_ek':{'alpha':0.5},\n",
    "}\n",
    "\n",
    "ek = catalog.load(\"kvlcc2.vmm_abkowitz.ek\")\n",
    "covariance_matrixes = catalog.load(\"kvlcc2.vmm_martin.covariance_matrixes\")\n",
    "x0 = catalog.load(f\"kvlcc2.initial.{id}.x0\")\n",
    "parameters = catalog.load(f\"kvlcc2.initial.vmm_martin.joined.derivatives\")"
   ]
  },
  {
   "cell_type": "code",
   "execution_count": null,
   "id": "09ce91d1-ff6a-4f0d-bc84-8c46a5aa602f",
   "metadata": {},
   "outputs": [],
   "source": [
    "def filter_with_updated_model(ek, parameters, data, covariance_matrixes, x0):\n",
    "    \n",
    "    ek2 = ek.copy()\n",
    "    ek2.parameters.update(parameters['regressed'])\n",
    "    ek_filtered, data_ek_filter, time_steps = extended_kalman_filter(ek=ek2, data=data, covariance_matrixes=covariance_matrixes, x0=x0, hydrodynamic_derivatives=parameters)\n",
    "    ek_smooth, data_ek_smooth = extended_kalman_smoother(ek=ek_filtered, data=data, time_steps=time_steps, covariance_matrixes=covariance_matrixes, hydrodynamic_derivatives=parameters)\n",
    "    return data_ek_smooth"
   ]
  },
  {
   "cell_type": "code",
   "execution_count": null,
   "id": "18fc260f-f1e6-469e-b258-2bf4a1c2a978",
   "metadata": {},
   "outputs": [],
   "source": [
    "dataframes['smooth2'] = filter_with_updated_model(ek, parameters, data, covariance_matrixes, x0)"
   ]
  },
  {
   "cell_type": "code",
   "execution_count": null,
   "id": "323d7b9d-6f4c-4131-a0d5-3e6a000179b1",
   "metadata": {},
   "outputs": [],
   "source": [
    "plot(dataframes=dataframes, keys=[\"thrust\", \"psi\", \"u\", \"v\", \"r\", \"u1d\",\"v1d\",\"r1d\"], styles=styles);"
   ]
  },
  {
   "cell_type": "code",
   "execution_count": null,
   "id": "c8f6fe19-e5e0-47dd-b105-23032570594a",
   "metadata": {},
   "outputs": [],
   "source": [
    "%reload_kedro\n",
    "added_masses = catalog.load(\"kvlcc2.added_masses\")\n",
    "ship_data = catalog.load(\"kvlcc2.ship_data\")\n",
    "vmm = catalog.load(\"vmm_abkowitz\")\n",
    "exclude_parameters = catalog.load(\"params:kvlcc2.motion_regression.exclude_parameters\")"
   ]
  },
  {
   "cell_type": "code",
   "execution_count": null,
   "id": "5f1e9c3c-8200-4119-8191-32d4db824426",
   "metadata": {},
   "outputs": [],
   "source": [
    "def fit_data(data):\n",
    "    \n",
    "    mask = (data['u']==0)\n",
    "    data.loc[mask,'u'] = 0.01\n",
    "    \n",
    "    mask = (data['v']==0)\n",
    "    data.loc[mask,'v'] = 0.01\n",
    "    \n",
    "    data = predict_force(data=data, added_masses=added_masses, ship_parameters=ship_data, vmm=vmm)\n",
    "    \n",
    "    regression, derivatives = fit_motions(data=data, added_masses=added_masses, ship_data=ship_data, vmm=vmm, exclude_parameters=exclude_parameters)\n",
    "    model = regression.create_model(control_keys=['delta','thrust'])\n",
    "    \n",
    "    df_sim = simulate_euler(data=data, model=model, ek=ek)\n",
    "    \n",
    "    return regression, model, df_sim\n",
    "    "
   ]
  },
  {
   "cell_type": "code",
   "execution_count": null,
   "id": "60ac2922-baf4-4651-8f45-d10bdb0b1b72",
   "metadata": {},
   "outputs": [],
   "source": [
    "regressions = {}\n",
    "models = {}\n",
    "simulations = {}\n",
    "\n",
    "for dataset_name, data in dataframes.items():\n",
    "    \n",
    "    regression, model, df_sim = fit_data(data=data)\n",
    "    regressions[dataset_name] = regression\n",
    "    models[dataset_name] = model\n",
    "    simulations[dataset_name] = df_sim\n",
    "    "
   ]
  },
  {
   "cell_type": "code",
   "execution_count": null,
   "id": "4bb28b8b-7bff-4b6c-844d-646d1d110658",
   "metadata": {},
   "outputs": [],
   "source": [
    "dataframes_ = {\n",
    "    'model test':data,\n",
    "}\n",
    "dataframes_.update(simulations)\n",
    "dataframes_.pop('raw')\n",
    "plot(dataframes_, keys=[\"delta\", \"psi\", \"u\", \"v\", \"r\", \"u1d\",\"v1d\",\"r1d\"]);"
   ]
  },
  {
   "cell_type": "code",
   "execution_count": null,
   "id": "6759814d-b754-4b93-9655-9098f04fd457",
   "metadata": {},
   "outputs": [],
   "source": [
    "simulations['smooth'].isnull().any()"
   ]
  },
  {
   "cell_type": "code",
   "execution_count": null,
   "id": "82aa8585-3d29-4aa6-9fd4-1a6b492b0dca",
   "metadata": {},
   "outputs": [],
   "source": [
    "fig,ax=plt.subplots()\n",
    "fig.set_size_inches(15,15)\n",
    "track_plots(dataframes_, lpp=ship_data['L'], beam=ship_data['B'], ax=ax)"
   ]
  },
  {
   "cell_type": "code",
   "execution_count": null,
   "id": "bb6a467c-b6b1-4c89-aadb-884f4c0b63cc",
   "metadata": {},
   "outputs": [],
   "source": [
    "%reload_kedro\n",
    "\n",
    "#id = \"MARIN_FREE_KVLCC2_tc_35_m\"\n",
    "id = \"MARIN_FREE_KVLCC2_zz_20_m\"\n",
    "#id = \"MARIN_FREE_KVLCC2_tc_35_m\"\n",
    "\n",
    "data = catalog.load(f\"kvlcc2.{id}.data\")\n",
    "\n",
    "dataframes_ = {'initial': catalog.load(f\"kvlcc2.initial.{id}.data_ek_smooth\"),\n",
    "               'updated': catalog.load(f\"kvlcc2.updated.{id}.data_ek_smooth\")}\n",
    "\n",
    "parameters_initial = catalog.load(f\"kvlcc2.initial.vmm_martin.joined.derivatives\")\n",
    "parameters_updated = catalog.load(f\"kvlcc2.updated.vmm_martin.joined.derivatives\")\n",
    "\n",
    "plot(dataframes_);"
   ]
  },
  {
   "cell_type": "code",
   "execution_count": null,
   "id": "163eeabc-97a8-42bb-896c-b61e55e0fa5a",
   "metadata": {},
   "outputs": [],
   "source": [
    "df_parameters = pd.DataFrame()\n",
    "df_parameters['initial'] = parameters_initial['regressed']\n",
    "df_parameters['updated'] = parameters_updated['regressed']\n",
    "df_parameters.plot.bar()"
   ]
  }
 ],
 "metadata": {
  "kernelspec": {
   "display_name": "wPCC_pipeline",
   "language": "python",
   "name": "python3"
  },
  "language_info": {
   "codemirror_mode": {
    "name": "ipython",
    "version": 3
   },
   "file_extension": ".py",
   "mimetype": "text/x-python",
   "name": "python",
   "nbconvert_exporter": "python",
   "pygments_lexer": "ipython3",
   "version": "3.7.9"
  }
 },
 "nbformat": 4,
 "nbformat_minor": 5
}
