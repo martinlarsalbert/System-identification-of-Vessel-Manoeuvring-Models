{
 "cells": [
  {
   "cell_type": "markdown",
   "id": "dcc35bb1-9ffc-4866-ac13-6486d479c936",
   "metadata": {},
   "source": [
    "# KVLCC2"
   ]
  },
  {
   "cell_type": "code",
   "execution_count": null,
   "id": "a1c01f70-1761-46a4-a796-cc36ea28e8d0",
   "metadata": {},
   "outputs": [],
   "source": [
    "# %load imports.py\n",
    "%load_ext autoreload\n",
    "%autoreload 2\n",
    "%config Completer.use_jedi = False  ## (To fix autocomplete)\n",
    "\n",
    "import pandas as pd\n",
    "from src.models.vmm import ModelSimulator\n",
    "import matplotlib.pyplot as plt\n",
    "import matplotlib\n",
    "#plt.style.use('presentation')\n",
    "\n",
    "from src.visualization.plot import track_plots, plot, captive_plot\n",
    "import kedro\n",
    "import numpy as np\n",
    "import os.path\n",
    "import anyconfig\n",
    "\n",
    "\n",
    "from myst_nb import glue\n",
    "from src.symbols import *\n",
    "import src.symbols as symbols\n",
    "from src.system_equations import *\n",
    "\n",
    "from IPython.display import display, Math, Latex, Markdown\n",
    "from sympy.physics.vector.printing import vpprint, vlatex\n",
    "\n",
    "from src.models.regression import MotionRegression, Regression\n",
    "\n",
    "from src.parameters import df_parameters\n",
    "from src.substitute_dynamic_symbols import run\n",
    "from src.models.diff_eq_to_matrix import DiffEqToMatrix\n",
    "p = df_parameters[\"symbol\"]\n",
    "import statsmodels.api as sm\n",
    "\n",
    "from src.models.force_from_motion import predict_force\n",
    "\n",
    "# Read configs:\n",
    "conf_path = os.path.join(\"../conf/base/\")\n",
    "runs_globals_path = os.path.join(\n",
    "    conf_path,\n",
    "    \"runs_globals.yml\",\n",
    ")\n",
    "\n",
    "runs_globals = anyconfig.load(runs_globals_path)\n",
    "model_test_ids = runs_globals[\"model_test_ids\"]\n",
    "\n",
    "join_globals_path = os.path.join(\n",
    "    conf_path,\n",
    "    \"join_globals.yml\",\n",
    ")\n",
    "\n",
    "joins = runs_globals[\"joins\"]\n",
    "join_runs_dict = anyconfig.load(join_globals_path)\n",
    "\n",
    "globals_path = os.path.join(\n",
    "    conf_path,\n",
    "    \"globals.yml\",\n",
    ")\n",
    "global_variables = anyconfig.load(globals_path)\n",
    "from src.prime_system import PrimeSystem"
   ]
  },
  {
   "cell_type": "markdown",
   "id": "878bd197-3799-4233-933e-c89bc771a0f8",
   "metadata": {},
   "source": [
    "| Column | Unit | Meaning | Reference |\n",
    "| ------ | ---- | ------- | ----------|\n",
    "| 1 | s | time | manoeuvre starts at zero i.e. the rudder starts to move at t=0. Time step is about 0.135(full scale) |\n",
    "| 2 | m | x-position | position of ship origo  in Earth-fixed coordinate system(North). |\n",
    "| 3 | m | y-position | position of ship origo in Earth-fixed coordinate system(East) |\n",
    "| 4 | deg | heel angle | starboard side in the water is a positive |\n",
    "| 5 | deg | heading angle | bow to starboard is positive |\n",
    "| 6 | m/s | long. velocity | speed through the water of ship origo |\n",
    "| 7 | m/s | transv. velocity | speed through the water of ship origo |\n",
    "| 8 | deg/s | roll velocity | ship origo, starboard downwards is positive |\n",
    "| 9 | deg/s | yaw velocity | ship origo, bow towards starboard is positive |\n",
    "| 10 | deg | rudder angle | trailing edge to portside is positive |\n",
    "| 11 | RPM | prop. revolutions | positive clockwise seen from aft. |\n"
   ]
  },
  {
   "cell_type": "code",
   "execution_count": null,
   "id": "84fba847-151d-4c44-a83a-9741bfce93a7",
   "metadata": {},
   "outputs": [],
   "source": [
    "columns = [\n",
    "'time',\n",
    "'x0',\n",
    "'y0',\n",
    "'phi',\n",
    "'psi',\n",
    "'u',\n",
    "'v',\n",
    "'p',\n",
    "'r',\n",
    "'delta',\n",
    "'rev',\n",
    "]\n",
    "\n",
    "df = pd.read_csv(\"../data/01_raw/kvlcc2/MARIN_FREE_KVLCC2_zz_-20_m.dat\", names=columns, header=1, sep='\\t')\n",
    "df.dropna(how='all', inplace=True)\n",
    "\n",
    "dt = 0.135\n",
    "df['time'] = np.arange(0,len(df)*dt,dt)\n",
    "\n",
    "\n",
    "df.set_index('time', inplace=True)\n",
    "df.sort_index(inplace=True)\n",
    "angles = ['phi','psi','r','delta']\n",
    "df[angles] = np.deg2rad(df[angles])"
   ]
  },
  {
   "cell_type": "code",
   "execution_count": null,
   "id": "1ecda8a0-1dab-4035-acf9-e677a732e0a9",
   "metadata": {},
   "outputs": [],
   "source": [
    "fig,ax=plt.subplots()\n",
    "fig.set_size_inches(15,15)\n",
    "ax.axis('equal')\n",
    "df.plot(x='y0', y='x0', ax=ax)\n"
   ]
  },
  {
   "cell_type": "code",
   "execution_count": null,
   "id": "1f717623-d6d8-4194-b778-7fdf52d9629a",
   "metadata": {},
   "outputs": [],
   "source": [
    "df.iloc[-100:].plot(y='x0')"
   ]
  },
  {
   "cell_type": "code",
   "execution_count": null,
   "id": "5eb61e57-2b64-4aca-ba99-a9d883f90753",
   "metadata": {},
   "outputs": [],
   "source": [
    "df.iloc[-100:]"
   ]
  },
  {
   "cell_type": "code",
   "execution_count": null,
   "id": "1e08a310-0c83-448d-a28c-6af4824d102b",
   "metadata": {},
   "outputs": [],
   "source": [
    "%reload_kedro\n",
    "ship_data = catalog.load(\"kvlcc2.ship_data\")"
   ]
  },
  {
   "cell_type": "code",
   "execution_count": null,
   "id": "a2718afe-235e-4ad7-ba6d-f7b194ceed4f",
   "metadata": {},
   "outputs": [],
   "source": [
    "ps = PrimeSystem(**ship_data)"
   ]
  },
  {
   "cell_type": "code",
   "execution_count": null,
   "id": "1de74780-0e82-4056-bbe0-400cf9e62731",
   "metadata": {},
   "outputs": [],
   "source": [
    "shipdata_prime = ps.prime(ship_data)"
   ]
  },
  {
   "cell_type": "code",
   "execution_count": null,
   "id": "c5f67b13-f85a-4815-a709-aed539349018",
   "metadata": {},
   "outputs": [],
   "source": [
    "ship_data['m']/(1/2*1000*(ship_data['L']**2*ship_data['T']))"
   ]
  },
  {
   "cell_type": "code",
   "execution_count": null,
   "id": "e0f3fb91-e897-40d0-8714-bd0f68fe598f",
   "metadata": {},
   "outputs": [],
   "source": [
    "0.235/(1/2*(2.909**3))"
   ]
  },
  {
   "cell_type": "code",
   "execution_count": null,
   "id": "18653325-405d-4590-bec3-f7d7189fa6bf",
   "metadata": {},
   "outputs": [],
   "source": [
    "ps._unprime(0.011,unit = \"inertia_moment\")"
   ]
  },
  {
   "cell_type": "code",
   "execution_count": null,
   "id": "b6366133-91f4-4074-ab6f-753357773b4d",
   "metadata": {},
   "outputs": [],
   "source": [
    "mx_prime = 0.022\n",
    "my_prime = 0.223\n",
    "mx = ps._unprime(mx_prime,unit = \"mass\")\n",
    "my = ps._unprime(my_prime,unit = \"mass\")"
   ]
  },
  {
   "cell_type": "code",
   "execution_count": null,
   "id": "d79317b5-3249-49fe-b18a-6fe353c9c3a7",
   "metadata": {},
   "outputs": [],
   "source": [
    "mx_prime-shipdata_prime['m']"
   ]
  },
  {
   "cell_type": "code",
   "execution_count": null,
   "id": "db9de6f6-29df-478c-a669-3d8aaef57597",
   "metadata": {},
   "outputs": [],
   "source": [
    "(mx_prime-shipdata_prime['m'])/shipdata_prime['m']"
   ]
  },
  {
   "cell_type": "code",
   "execution_count": null,
   "id": "4eccdfbd-37ea-43f4-ad46-dcb245baac1d",
   "metadata": {},
   "outputs": [],
   "source": []
  }
 ],
 "metadata": {
  "kernelspec": {
   "display_name": "wPCC_pipeline",
   "language": "python",
   "name": "python3"
  },
  "language_info": {
   "codemirror_mode": {
    "name": "ipython",
    "version": 3
   },
   "file_extension": ".py",
   "mimetype": "text/x-python",
   "name": "python",
   "nbconvert_exporter": "python",
   "pygments_lexer": "ipython3",
   "version": "3.7.9"
  }
 },
 "nbformat": 4,
 "nbformat_minor": 5
}
