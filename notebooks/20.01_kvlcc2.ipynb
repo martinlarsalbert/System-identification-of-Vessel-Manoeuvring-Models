{
 "cells": [
  {
   "cell_type": "markdown",
   "id": "dcc35bb1-9ffc-4866-ac13-6486d479c936",
   "metadata": {},
   "source": [
    "# KVLCC2"
   ]
  },
  {
   "cell_type": "code",
   "execution_count": null,
   "id": "a1c01f70-1761-46a4-a796-cc36ea28e8d0",
   "metadata": {},
   "outputs": [],
   "source": [
    "# %load imports.py\n",
    "%load_ext autoreload\n",
    "%autoreload 2\n",
    "%config Completer.use_jedi = False  ## (To fix autocomplete)\n",
    "\n",
    "import pandas as pd\n",
    "from src.models.vmm import ModelSimulator\n",
    "import matplotlib.pyplot as plt\n",
    "import matplotlib\n",
    "#plt.style.use('presentation')\n",
    "\n",
    "from src.visualization.plot import track_plots, plot, captive_plot\n",
    "import kedro\n",
    "import numpy as np\n",
    "import os.path\n",
    "import anyconfig\n",
    "\n",
    "\n",
    "from myst_nb import glue\n",
    "from src.symbols import *\n",
    "import src.symbols as symbols\n",
    "from src.system_equations import *\n",
    "\n",
    "from IPython.display import display, Math, Latex, Markdown\n",
    "from sympy.physics.vector.printing import vpprint, vlatex\n",
    "\n",
    "from src.models.regression import MotionRegression, Regression\n",
    "\n",
    "from src.parameters import df_parameters\n",
    "from src.substitute_dynamic_symbols import run\n",
    "from src.models.diff_eq_to_matrix import DiffEqToMatrix\n",
    "p = df_parameters[\"symbol\"]\n",
    "import statsmodels.api as sm\n",
    "\n",
    "from src.models.force_from_motion import predict_force\n",
    "\n",
    "# Read configs:\n",
    "conf_path = os.path.join(\"../conf/base/\")\n",
    "runs_globals_path = os.path.join(\n",
    "    conf_path,\n",
    "    \"runs_globals.yml\",\n",
    ")\n",
    "\n",
    "runs_globals = anyconfig.load(runs_globals_path)\n",
    "model_test_ids = runs_globals[\"model_test_ids\"]\n",
    "\n",
    "join_globals_path = os.path.join(\n",
    "    conf_path,\n",
    "    \"join_globals.yml\",\n",
    ")\n",
    "\n",
    "joins = runs_globals[\"joins\"]\n",
    "join_runs_dict = anyconfig.load(join_globals_path)\n",
    "\n",
    "globals_path = os.path.join(\n",
    "    conf_path,\n",
    "    \"globals.yml\",\n",
    ")\n",
    "global_variables = anyconfig.load(globals_path)\n",
    "from src.prime_system import PrimeSystem\n",
    "from wPCC_pipeline.pipelines.kvlcc2.nodes import calculate_thrust"
   ]
  },
  {
   "cell_type": "markdown",
   "id": "878bd197-3799-4233-933e-c89bc771a0f8",
   "metadata": {},
   "source": [
    "| Column | Unit | Meaning | Reference |\n",
    "| ------ | ---- | ------- | ----------|\n",
    "| 1 | s | time | manoeuvre starts at zero i.e. the rudder starts to move at t=0. Time step is about 0.135(full scale) |\n",
    "| 2 | m | x-position | position of ship origo  in Earth-fixed coordinate system(North). |\n",
    "| 3 | m | y-position | position of ship origo in Earth-fixed coordinate system(East) |\n",
    "| 4 | deg | heel angle | starboard side in the water is a positive |\n",
    "| 5 | deg | heading angle | bow to starboard is positive |\n",
    "| 6 | m/s | long. velocity | speed through the water of ship origo |\n",
    "| 7 | m/s | transv. velocity | speed through the water of ship origo |\n",
    "| 8 | deg/s | roll velocity | ship origo, starboard downwards is positive |\n",
    "| 9 | deg/s | yaw velocity | ship origo, bow towards starboard is positive |\n",
    "| 10 | deg | rudder angle | trailing edge to portside is positive |\n",
    "| 11 | RPM | prop. revolutions | positive clockwise seen from aft. |\n"
   ]
  },
  {
   "cell_type": "code",
   "execution_count": null,
   "id": "84fba847-151d-4c44-a83a-9741bfce93a7",
   "metadata": {},
   "outputs": [],
   "source": [
    "columns = [\n",
    "'time',\n",
    "'x0',\n",
    "'y0',\n",
    "'phi',\n",
    "'psi',\n",
    "'u',\n",
    "'v',\n",
    "'p',\n",
    "'r',\n",
    "'delta',\n",
    "'rev',\n",
    "]\n",
    "\n",
    "df = pd.read_csv(\"../data/01_raw/kvlcc2/MARIN_FREE_KVLCC2_zz_-20_m.dat\", names=columns, header=1, sep='\\t')\n",
    "df.dropna(how='all', inplace=True)\n",
    "\n",
    "dt = 0.135\n",
    "df['time'] = np.arange(0,len(df)*dt,dt)\n",
    "\n",
    "\n",
    "df.set_index('time', inplace=True)\n",
    "df.sort_index(inplace=True)\n",
    "angles = ['phi','psi','r','delta']\n",
    "df[angles] = np.deg2rad(df[angles])"
   ]
  },
  {
   "cell_type": "code",
   "execution_count": null,
   "id": "1ecda8a0-1dab-4035-acf9-e677a732e0a9",
   "metadata": {},
   "outputs": [],
   "source": [
    "fig,ax=plt.subplots()\n",
    "fig.set_size_inches(15,15)\n",
    "ax.axis('equal')\n",
    "df.plot(x='y0', y='x0', ax=ax)\n"
   ]
  },
  {
   "cell_type": "code",
   "execution_count": null,
   "id": "1f717623-d6d8-4194-b778-7fdf52d9629a",
   "metadata": {},
   "outputs": [],
   "source": [
    "df.iloc[-100:].plot(y='x0')"
   ]
  },
  {
   "cell_type": "code",
   "execution_count": null,
   "id": "5eb61e57-2b64-4aca-ba99-a9d883f90753",
   "metadata": {},
   "outputs": [],
   "source": [
    "df.iloc[-100:]"
   ]
  },
  {
   "cell_type": "code",
   "execution_count": null,
   "id": "1e08a310-0c83-448d-a28c-6af4824d102b",
   "metadata": {},
   "outputs": [],
   "source": [
    "%reload_kedro\n",
    "ship_data = catalog.load(\"kvlcc2.ship_data\")"
   ]
  },
  {
   "cell_type": "code",
   "execution_count": null,
   "id": "aed1a636-40b5-48d3-a121-a81a8c9a3e43",
   "metadata": {},
   "outputs": [],
   "source": [
    "np.sqrt(ship_data['I_z']/ship_data['m'])/ship_data['L']"
   ]
  },
  {
   "cell_type": "code",
   "execution_count": null,
   "id": "69b92c15-2d5e-40e6-884a-e568e799026b",
   "metadata": {},
   "outputs": [],
   "source": [
    "ship_data_wpcc = catalog.load(\"wpcc.ship_data\")\n",
    "np.sqrt(ship_data_wpcc['I_z']/ship_data_wpcc['m'])/ship_data_wpcc['L']"
   ]
  },
  {
   "cell_type": "code",
   "execution_count": null,
   "id": "a2718afe-235e-4ad7-ba6d-f7b194ceed4f",
   "metadata": {},
   "outputs": [],
   "source": [
    "ps = PrimeSystem(**ship_data)"
   ]
  },
  {
   "cell_type": "code",
   "execution_count": null,
   "id": "1de74780-0e82-4056-bbe0-400cf9e62731",
   "metadata": {},
   "outputs": [],
   "source": [
    "shipdata_prime = ps.prime(ship_data)"
   ]
  },
  {
   "cell_type": "code",
   "execution_count": null,
   "id": "c5f67b13-f85a-4815-a709-aed539349018",
   "metadata": {},
   "outputs": [],
   "source": [
    "ship_data['m']/(1/2*1000*(ship_data['L']**2*ship_data['T']))"
   ]
  },
  {
   "cell_type": "code",
   "execution_count": null,
   "id": "e0f3fb91-e897-40d0-8714-bd0f68fe598f",
   "metadata": {},
   "outputs": [],
   "source": [
    "0.235/(1/2*(2.909**3))"
   ]
  },
  {
   "cell_type": "code",
   "execution_count": null,
   "id": "18653325-405d-4590-bec3-f7d7189fa6bf",
   "metadata": {},
   "outputs": [],
   "source": [
    "I_z = ps._unprime(0.011,unit = \"inertia_moment\")\n",
    "np.sqrt(I_z/ship_data['m'])/ship_data['L']"
   ]
  },
  {
   "cell_type": "code",
   "execution_count": null,
   "id": "519e9890-e51d-4f67-b816-cd6aa6a77c11",
   "metadata": {},
   "outputs": [],
   "source": [
    "k_z = 0.25\n",
    "ship_data['m']*(ship_data['L']*k_z)**2"
   ]
  },
  {
   "cell_type": "code",
   "execution_count": null,
   "id": "ab9d6ae1-a821-4e08-a68e-7d7cc08700d3",
   "metadata": {},
   "outputs": [],
   "source": [
    "ship_data['m']*(ship_data['L']*0.5)**2"
   ]
  },
  {
   "cell_type": "code",
   "execution_count": null,
   "id": "b6366133-91f4-4074-ab6f-753357773b4d",
   "metadata": {},
   "outputs": [],
   "source": [
    "prime_1_to_2 = ship_data['T']/ship_data['L']\n",
    "Xudot_prime2 = 0.022\n",
    "Yvdot_prime2 = 0.223\n",
    "Nrdot_prime2 = 0.011\n",
    "\n",
    "Xudot_prime = Xudot_prime2*prime_1_to_2\n",
    "Yvdot_prime = Yvdot_prime2*prime_1_to_2\n",
    "Nrdot_prime = Nrdot_prime2*prime_1_to_2\n"
   ]
  },
  {
   "cell_type": "code",
   "execution_count": null,
   "id": "8d39d330-479c-478c-96d3-7f9c27897841",
   "metadata": {},
   "outputs": [],
   "source": [
    "Xudot_prime"
   ]
  },
  {
   "cell_type": "code",
   "execution_count": null,
   "id": "f1d9092e-ab85-44b7-8ce7-be10347640dd",
   "metadata": {},
   "outputs": [],
   "source": [
    "Yvdot_prime"
   ]
  },
  {
   "cell_type": "code",
   "execution_count": null,
   "id": "24457476-91ef-4ffc-b534-c310ab478c48",
   "metadata": {},
   "outputs": [],
   "source": [
    "Nrdot_prime"
   ]
  },
  {
   "cell_type": "code",
   "execution_count": null,
   "id": "db9de6f6-29df-478c-a669-3d8aaef57597",
   "metadata": {},
   "outputs": [],
   "source": [
    "(mx_prime-shipdata_prime['m'])/shipdata_prime['m']"
   ]
  },
  {
   "cell_type": "code",
   "execution_count": null,
   "id": "c274c040-511d-434b-9185-c09b264f3076",
   "metadata": {},
   "outputs": [],
   "source": [
    "X_rudder = 5.2/ship_data['scale_factor'] - ship_data['L']/2\n",
    "X_rudder"
   ]
  },
  {
   "cell_type": "code",
   "execution_count": null,
   "id": "2e88974f-7a3f-4e30-916c-b1e009aa1510",
   "metadata": {},
   "outputs": [],
   "source": [
    "%reload_kedro\n",
    "\n",
    "#id = \"MARIN_FREE_KVLCC2_tc_35_m\"\n",
    "id = \"MARIN_FREE_KVLCC2_zz_20_m\"\n",
    "dataframes = {}\n",
    "dataframes[id] = catalog.load(f\"kvlcc2.{id}.raw_data\")\n",
    "\n",
    "id = \"MARIN_FREE_KVLCC2_zz_-20_m\"\n",
    "#df_ = catalog.load(f\"kvlcc2.{id}.data_ek_smooth\")\n",
    "df_ = catalog.load(f\"kvlcc2.{id}.raw_data\")\n",
    "df_['y0']*=-1\n",
    "df_['psi']*=-1\n",
    "df_['delta']*=-1\n",
    "df_['r']*=-1\n",
    "df_['v']*=-1\n",
    "#df_['r1d']*=-1\n",
    "#df_['v1d']*=-1\n",
    "\n",
    "dataframes[id] = df_\n",
    "\n",
    "track_plots(dataframes=dataframes, lpp=ship_data['L'], beam=ship_data['B']);\n",
    "plot(dataframes);"
   ]
  },
  {
   "cell_type": "code",
   "execution_count": null,
   "id": "4eccdfbd-37ea-43f4-ad46-dcb245baac1d",
   "metadata": {},
   "outputs": [],
   "source": [
    "%reload_kedro\n",
    "\n",
    "#id = \"MARIN_FREE_KVLCC2_tc_35_m\"\n",
    "id = \"MARIN_FREE_KVLCC2_zz_20_m\"\n",
    "\n",
    "df_raw = catalog.load(f\"kvlcc2.{id}.raw_data\")\n",
    "data = catalog.load(f\"kvlcc2.{id}.data\")\n",
    "df_smooth = catalog.load(f\"kvlcc2.{id}.data_ek_smooth\")\n",
    "dataframes = {'raw':data,\n",
    "              'ek' : df_smooth,\n",
    "             }"
   ]
  },
  {
   "cell_type": "code",
   "execution_count": null,
   "id": "5af346cf-de30-431f-990c-04cba0f1afae",
   "metadata": {},
   "outputs": [],
   "source": [
    "track_plots(dataframes=dataframes, lpp=ship_data['L'], beam=ship_data['B']);"
   ]
  },
  {
   "cell_type": "code",
   "execution_count": null,
   "id": "fc84c892-8cba-45b5-a8b0-44f6aa5507cc",
   "metadata": {},
   "outputs": [],
   "source": [
    "plot(dataframes=dataframes);"
   ]
  },
  {
   "cell_type": "code",
   "execution_count": null,
   "id": "ee77874d-71f6-4749-a308-bd841190c3ef",
   "metadata": {},
   "outputs": [],
   "source": [
    "%reload_kedro\n",
    "ship_data = catalog.load(\"kvlcc2.ship_data\")\n",
    "open_water_characteristics = catalog.load(f\"kvlcc2.open_water_characteristics\")\n",
    "open_water_characteristics['Kq'] = open_water_characteristics[\"10Kq\"]/10"
   ]
  },
  {
   "cell_type": "code",
   "execution_count": null,
   "id": "b9d7fa53-e522-4567-b28d-8571ffd7be10",
   "metadata": {},
   "outputs": [],
   "source": [
    "open_water_characteristics.plot(y=['Kt','10Kq','Eta'])"
   ]
  },
  {
   "cell_type": "code",
   "execution_count": null,
   "id": "ff2c2166-2eb4-48e8-a143-45b744a1b0a9",
   "metadata": {},
   "outputs": [],
   "source": [
    "open_water_characteristics.head()"
   ]
  },
  {
   "cell_type": "code",
   "execution_count": null,
   "id": "931d65c0-d980-4eed-9289-003345f77b03",
   "metadata": {},
   "outputs": [],
   "source": [
    "coefficients = np.polyfit(x=open_water_characteristics.index, y=open_water_characteristics['Kt'], deg=2)"
   ]
  },
  {
   "cell_type": "code",
   "execution_count": null,
   "id": "181e5d16-d144-4474-8e96-1bbba0fee1d6",
   "metadata": {},
   "outputs": [],
   "source": [
    "df_ = pd.DataFrame()\n",
    "J = open_water_characteristics.index\n",
    "n = 1.0\n",
    "D = ship_data['D']\n",
    "w0 = ship_data['w0']\n",
    "rho = 1000\n",
    "tdf = ship_data['tdf']\n",
    "df_['J'] = J\n",
    "df_['u'] = J*n*D/(1-w0)\n",
    "df_['v'] = 0\n",
    "df_['r'] = 0\n",
    "df_['rev'] = n\n",
    "df_['V'] = np.sqrt(df_['u']**2 + df_['v']**2)\n",
    "\n",
    "df_ = calculate_thrust(df=df_, ship_data=ship_data, open_water_characteristics=open_water_characteristics)\n",
    "df_['Kt'] = df_['thrust'] / ((1 - tdf) * rho * n ** 2 * D ** 4)"
   ]
  },
  {
   "cell_type": "code",
   "execution_count": null,
   "id": "8ae654bb-5423-4fe5-b8e6-300bc6f00bcf",
   "metadata": {},
   "outputs": [],
   "source": [
    "fig,ax=plt.subplots()\n",
    "open_water_characteristics.plot(y='Kt', ax=ax, label='MARIN')\n",
    "df_.plot(x='J', y='Kt', ax=ax, label='NMRI', style='--')\n",
    "\n",
    "#ax.plot(J, np.polyval(coefficients, x=J),'--', 'fit')"
   ]
  }
 ],
 "metadata": {
  "kernelspec": {
   "display_name": "wPCC_pipeline",
   "language": "python",
   "name": "python3"
  },
  "language_info": {
   "codemirror_mode": {
    "name": "ipython",
    "version": 3
   },
   "file_extension": ".py",
   "mimetype": "text/x-python",
   "name": "python",
   "nbconvert_exporter": "python",
   "pygments_lexer": "ipython3",
   "version": "3.7.9"
  }
 },
 "nbformat": 4,
 "nbformat_minor": 5
}
