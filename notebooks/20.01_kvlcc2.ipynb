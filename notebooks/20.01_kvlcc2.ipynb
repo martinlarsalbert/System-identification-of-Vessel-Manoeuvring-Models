{
 "cells": [
  {
   "cell_type": "markdown",
   "id": "dcc35bb1-9ffc-4866-ac13-6486d479c936",
   "metadata": {},
   "source": [
    "# KVLCC2"
   ]
  },
  {
   "cell_type": "code",
   "execution_count": null,
   "id": "a1c01f70-1761-46a4-a796-cc36ea28e8d0",
   "metadata": {},
   "outputs": [],
   "source": [
    "# %load imports.py\n",
    "%load_ext autoreload\n",
    "%autoreload 2\n",
    "%config Completer.use_jedi = False  ## (To fix autocomplete)\n",
    "\n",
    "import pandas as pd\n",
    "from src.models.vmm import ModelSimulator\n",
    "import matplotlib.pyplot as plt\n",
    "import matplotlib\n",
    "#plt.style.use('presentation')\n",
    "\n",
    "from src.visualization.plot import track_plots, plot, captive_plot\n",
    "import kedro\n",
    "import numpy as np\n",
    "import os.path\n",
    "import anyconfig\n",
    "\n",
    "\n",
    "from myst_nb import glue\n",
    "from src.symbols import *\n",
    "import src.symbols as symbols\n",
    "from src.system_equations import *\n",
    "\n",
    "from IPython.display import display, Math, Latex, Markdown\n",
    "from sympy.physics.vector.printing import vpprint, vlatex\n",
    "\n",
    "from src.models.regression import MotionRegression, Regression\n",
    "\n",
    "from src.parameters import df_parameters\n",
    "from src.substitute_dynamic_symbols import run\n",
    "from src.models.diff_eq_to_matrix import DiffEqToMatrix\n",
    "p = df_parameters[\"symbol\"]\n",
    "import statsmodels.api as sm\n",
    "\n",
    "from src.models.force_from_motion import predict_force\n",
    "\n",
    "# Read configs:\n",
    "conf_path = os.path.join(\"../conf/base/\")\n",
    "runs_globals_path = os.path.join(\n",
    "    conf_path,\n",
    "    \"runs_globals.yml\",\n",
    ")\n",
    "\n",
    "runs_globals = anyconfig.load(runs_globals_path)\n",
    "model_test_ids = runs_globals[\"model_test_ids\"]\n",
    "\n",
    "join_globals_path = os.path.join(\n",
    "    conf_path,\n",
    "    \"join_globals.yml\",\n",
    ")\n",
    "\n",
    "joins = runs_globals[\"joins\"]\n",
    "join_runs_dict = anyconfig.load(join_globals_path)\n",
    "\n",
    "globals_path = os.path.join(\n",
    "    conf_path,\n",
    "    \"globals.yml\",\n",
    ")\n",
    "global_variables = anyconfig.load(globals_path)\n",
    "from src.prime_system import PrimeSystem\n",
    "from wPCC_pipeline.pipelines.kvlcc2.nodes import calculate_thrust"
   ]
  },
  {
   "cell_type": "markdown",
   "id": "878bd197-3799-4233-933e-c89bc771a0f8",
   "metadata": {},
   "source": [
    "| Column | Unit | Meaning | Reference |\n",
    "| ------ | ---- | ------- | ----------|\n",
    "| 1 | s | time | manoeuvre starts at zero i.e. the rudder starts to move at t=0. Time step is about 0.135(full scale) |\n",
    "| 2 | m | x-position | position of ship origo  in Earth-fixed coordinate system(North). |\n",
    "| 3 | m | y-position | position of ship origo in Earth-fixed coordinate system(East) |\n",
    "| 4 | deg | heel angle | starboard side in the water is a positive |\n",
    "| 5 | deg | heading angle | bow to starboard is positive |\n",
    "| 6 | m/s | long. velocity | speed through the water of ship origo |\n",
    "| 7 | m/s | transv. velocity | speed through the water of ship origo |\n",
    "| 8 | deg/s | roll velocity | ship origo, starboard downwards is positive |\n",
    "| 9 | deg/s | yaw velocity | ship origo, bow towards starboard is positive |\n",
    "| 10 | deg | rudder angle | trailing edge to portside is positive |\n",
    "| 11 | RPM | prop. revolutions | positive clockwise seen from aft. |\n"
   ]
  },
  {
   "cell_type": "code",
   "execution_count": null,
   "id": "84fba847-151d-4c44-a83a-9741bfce93a7",
   "metadata": {},
   "outputs": [],
   "source": [
    "columns = [\n",
    "'time',\n",
    "'x0',\n",
    "'y0',\n",
    "'phi',\n",
    "'psi',\n",
    "'u',\n",
    "'v',\n",
    "'p',\n",
    "'r',\n",
    "'delta',\n",
    "'rev',\n",
    "]\n",
    "\n",
    "df = pd.read_csv(\"../data/01_raw/kvlcc2/MARIN_FREE_KVLCC2_zz_-20_m.dat\", names=columns, header=1, sep='\\t')\n",
    "df.dropna(how='all', inplace=True)\n",
    "\n",
    "mask = df['time'].diff()!=0\n",
    "df = df.loc[mask]\n",
    "df.set_index('time', inplace=True)\n",
    "df.sort_index(inplace=True)\n",
    "df.index = pd.to_timedelta(df.index, unit='s')\n",
    "df = df.resample('0.1S').interpolate().resample('5S').mean()\n",
    "df.index = df.index.total_seconds()\n",
    "\n",
    "angles = ['phi','psi','r','delta']\n",
    "df[angles] = np.deg2rad(df[angles])"
   ]
  },
  {
   "cell_type": "code",
   "execution_count": null,
   "id": "71b24455-ba1e-4571-ab1b-52886007749a",
   "metadata": {},
   "outputs": [],
   "source": [
    "df.isnull().any()"
   ]
  },
  {
   "cell_type": "code",
   "execution_count": null,
   "id": "1ecda8a0-1dab-4035-acf9-e677a732e0a9",
   "metadata": {},
   "outputs": [],
   "source": [
    "fig,ax=plt.subplots()\n",
    "fig.set_size_inches(15,15)\n",
    "ax.axis('equal')\n",
    "df.plot(x='y0', y='x0', ax=ax)\n"
   ]
  },
  {
   "cell_type": "code",
   "execution_count": null,
   "id": "1f717623-d6d8-4194-b778-7fdf52d9629a",
   "metadata": {},
   "outputs": [],
   "source": [
    "df.plot(y='y0', style='.-')"
   ]
  },
  {
   "cell_type": "code",
   "execution_count": null,
   "id": "5eb61e57-2b64-4aca-ba99-a9d883f90753",
   "metadata": {},
   "outputs": [],
   "source": [
    "df.iloc[-100:]"
   ]
  },
  {
   "cell_type": "code",
   "execution_count": null,
   "id": "1e08a310-0c83-448d-a28c-6af4824d102b",
   "metadata": {},
   "outputs": [],
   "source": [
    "%reload_kedro\n",
    "ship_data = catalog.load(\"kvlcc2.ship_data\")"
   ]
  },
  {
   "cell_type": "code",
   "execution_count": null,
   "id": "aed1a636-40b5-48d3-a121-a81a8c9a3e43",
   "metadata": {},
   "outputs": [],
   "source": [
    "np.sqrt(ship_data['I_z']/ship_data['m'])/ship_data['L']"
   ]
  },
  {
   "cell_type": "code",
   "execution_count": null,
   "id": "69b92c15-2d5e-40e6-884a-e568e799026b",
   "metadata": {},
   "outputs": [],
   "source": [
    "ship_data_wpcc = catalog.load(\"wpcc.ship_data\")\n",
    "np.sqrt(ship_data_wpcc['I_z']/ship_data_wpcc['m'])/ship_data_wpcc['L']"
   ]
  },
  {
   "cell_type": "code",
   "execution_count": null,
   "id": "a2718afe-235e-4ad7-ba6d-f7b194ceed4f",
   "metadata": {},
   "outputs": [],
   "source": [
    "ps = PrimeSystem(**ship_data)"
   ]
  },
  {
   "cell_type": "code",
   "execution_count": null,
   "id": "1de74780-0e82-4056-bbe0-400cf9e62731",
   "metadata": {},
   "outputs": [],
   "source": [
    "shipdata_prime = ps.prime(ship_data)"
   ]
  },
  {
   "cell_type": "code",
   "execution_count": null,
   "id": "c5f67b13-f85a-4815-a709-aed539349018",
   "metadata": {},
   "outputs": [],
   "source": [
    "ship_data['m']/(1/2*1000*(ship_data['L']**2*ship_data['T']))"
   ]
  },
  {
   "cell_type": "code",
   "execution_count": null,
   "id": "e0f3fb91-e897-40d0-8714-bd0f68fe598f",
   "metadata": {},
   "outputs": [],
   "source": [
    "0.235/(1/2*(2.909**3))"
   ]
  },
  {
   "cell_type": "code",
   "execution_count": null,
   "id": "18653325-405d-4590-bec3-f7d7189fa6bf",
   "metadata": {},
   "outputs": [],
   "source": [
    "I_z = ps._unprime(0.011,unit = \"inertia_moment\")\n",
    "np.sqrt(I_z/ship_data['m'])/ship_data['L']"
   ]
  },
  {
   "cell_type": "code",
   "execution_count": null,
   "id": "519e9890-e51d-4f67-b816-cd6aa6a77c11",
   "metadata": {},
   "outputs": [],
   "source": [
    "k_z = 0.25\n",
    "ship_data['m']*(ship_data['L']*k_z)**2"
   ]
  },
  {
   "cell_type": "code",
   "execution_count": null,
   "id": "ab9d6ae1-a821-4e08-a68e-7d7cc08700d3",
   "metadata": {},
   "outputs": [],
   "source": [
    "ship_data['m']*(ship_data['L']*0.5)**2"
   ]
  },
  {
   "cell_type": "code",
   "execution_count": null,
   "id": "b6366133-91f4-4074-ab6f-753357773b4d",
   "metadata": {},
   "outputs": [],
   "source": [
    "prime_1_to_2 = ship_data['T']/ship_data['L']\n",
    "Xudot_prime2 = 0.022\n",
    "Yvdot_prime2 = 0.223\n",
    "Nrdot_prime2 = 0.011\n",
    "\n",
    "Xudot_prime = Xudot_prime2*prime_1_to_2\n",
    "Yvdot_prime = Yvdot_prime2*prime_1_to_2\n",
    "Nrdot_prime = Nrdot_prime2*prime_1_to_2\n"
   ]
  },
  {
   "cell_type": "code",
   "execution_count": null,
   "id": "8d39d330-479c-478c-96d3-7f9c27897841",
   "metadata": {},
   "outputs": [],
   "source": [
    "Xudot_prime"
   ]
  },
  {
   "cell_type": "code",
   "execution_count": null,
   "id": "f1d9092e-ab85-44b7-8ce7-be10347640dd",
   "metadata": {},
   "outputs": [],
   "source": [
    "Yvdot_prime"
   ]
  },
  {
   "cell_type": "code",
   "execution_count": null,
   "id": "24457476-91ef-4ffc-b534-c310ab478c48",
   "metadata": {},
   "outputs": [],
   "source": [
    "Nrdot_prime"
   ]
  },
  {
   "cell_type": "code",
   "execution_count": null,
   "id": "2caa50d5-3061-4e69-9383-3588b31bbfd7",
   "metadata": {},
   "outputs": [],
   "source": [
    "x_p = 5.2/ship_data['scale_factor'] - ship_data['L']/2\n",
    "x_p"
   ]
  },
  {
   "cell_type": "code",
   "execution_count": null,
   "id": "c274c040-511d-434b-9185-c09b264f3076",
   "metadata": {},
   "outputs": [],
   "source": [
    "x_r = - ship_data['L']/2\n",
    "x_r"
   ]
  },
  {
   "cell_type": "code",
   "execution_count": null,
   "id": "2e88974f-7a3f-4e30-916c-b1e009aa1510",
   "metadata": {},
   "outputs": [],
   "source": [
    "%reload_kedro\n",
    "\n",
    "#id = \"MARIN_FREE_KVLCC2_tc_35_m\"\n",
    "id = \"MARIN_FREE_KVLCC2_zz_20_m\"\n",
    "dataframes = {}\n",
    "dataframes[id] = catalog.load(f\"kvlcc2.{id}.raw_data\")\n",
    "\n",
    "id = \"MARIN_FREE_KVLCC2_zz_-20_m\"\n",
    "#df_ = catalog.load(f\"kvlcc2.{id}.data_ek_smooth\")\n",
    "df_ = catalog.load(f\"kvlcc2.{id}.raw_data\")\n",
    "df_['y0']*=-1\n",
    "df_['psi']*=-1\n",
    "df_['delta']*=-1\n",
    "df_['r']*=-1\n",
    "df_['v']*=-1\n",
    "#df_['r1d']*=-1\n",
    "#df_['v1d']*=-1\n",
    "\n",
    "dataframes[id] = df_\n",
    "\n",
    "track_plots(dataframes=dataframes, lpp=ship_data['L'], beam=ship_data['B']);\n",
    "plot(dataframes);"
   ]
  },
  {
   "cell_type": "code",
   "execution_count": null,
   "id": "4eccdfbd-37ea-43f4-ad46-dcb245baac1d",
   "metadata": {},
   "outputs": [],
   "source": [
    "%reload_kedro\n",
    "\n",
    "#id = \"MARIN_FREE_KVLCC2_tc_35_m\"\n",
    "id = \"MARIN_FREE_KVLCC2_zz_10_m\"\n",
    "\n",
    "df_raw = catalog.load(f\"kvlcc2.{id}.raw_data\")\n",
    "data = catalog.load(f\"kvlcc2.{id}.data\")\n",
    "df_smooth = catalog.load(f\"kvlcc2.{id}.data_ek_smooth\")\n",
    "df_ek = catalog.load(f\"kvlcc2.{id}.data_ek_filter\")\n",
    "\n",
    "\n",
    "#df_raw.index = df_raw.index-4\n",
    "dataframes = {'raw':data,\n",
    "              #'lowpass':data,\n",
    "              'df_ek': df_ek,\n",
    "              'smooth' : df_smooth,\n",
    "              \n",
    "             }\n",
    "\n",
    "styles = {\n",
    "\n",
    "    'df_ek':{'alpha':0.5},\n",
    "}"
   ]
  },
  {
   "cell_type": "code",
   "execution_count": null,
   "id": "5af346cf-de30-431f-990c-04cba0f1afae",
   "metadata": {},
   "outputs": [],
   "source": [
    "track_plots(dataframes=dataframes, lpp=ship_data['L'], beam=ship_data['B']);"
   ]
  },
  {
   "cell_type": "code",
   "execution_count": null,
   "id": "fc84c892-8cba-45b5-a8b0-44f6aa5507cc",
   "metadata": {},
   "outputs": [],
   "source": [
    "plot(dataframes=dataframes, keys=[\"thrust\", \"psi\", \"u\", \"v\", \"r\", \"u1d\",\"v1d\",\"r1d\"], styles=styles);"
   ]
  },
  {
   "cell_type": "code",
   "execution_count": null,
   "id": "d388b81e-06bf-4113-a6aa-0cd015a33c60",
   "metadata": {},
   "outputs": [],
   "source": [
    "from wPCC_pipeline.pipelines.filter_data_extended_kalman.nodes import extended_kalman_filter, extended_kalman_smoother"
   ]
  },
  {
   "cell_type": "code",
   "execution_count": null,
   "id": "f6337c27-3dca-47c0-9486-ebb5914e312a",
   "metadata": {},
   "outputs": [],
   "source": [
    "%reload_kedro\n",
    "ek = catalog.load(\"kvlcc2.vmm_martin.ek\")\n",
    "covariance_matrixes = catalog.load(\"kvlcc2.vmm_martin.covariance_matrixes\")\n",
    "x0 = catalog.load(f\"kvlcc2.{id}.x0\")\n",
    "parameters = catalog.load(f\"kvlcc2.vmm_martin.joined.derivatives\")"
   ]
  },
  {
   "cell_type": "code",
   "execution_count": null,
   "id": "50fcaa73-997d-46a1-a568-6791149c18e1",
   "metadata": {},
   "outputs": [],
   "source": [
    "ek.parameters.update(parameters['regressed'])"
   ]
  },
  {
   "cell_type": "code",
   "execution_count": null,
   "id": "0bdde2a3-bd41-46cb-b3df-8c26e8bd01db",
   "metadata": {},
   "outputs": [],
   "source": [
    "ek_filtered, data_ek_filter, time_steps = extended_kalman_filter(ek=ek, data=data, covariance_matrixes=covariance_matrixes, x0=x0)"
   ]
  },
  {
   "cell_type": "code",
   "execution_count": null,
   "id": "330b3667-3f17-402b-97ac-4c061207bd79",
   "metadata": {},
   "outputs": [],
   "source": [
    "ek_smooth, data_ek_smooth = extended_kalman_smoother(ek=ek, data=data, time_steps=time_steps, covariance_matrixes=covariance_matrixes)"
   ]
  },
  {
   "cell_type": "code",
   "execution_count": null,
   "id": "eeea5c77-039e-4400-b7f8-4cd3e05884d3",
   "metadata": {},
   "outputs": [],
   "source": [
    "dataframes['smooth2'] = data_ek_smooth"
   ]
  },
  {
   "cell_type": "code",
   "execution_count": null,
   "id": "dabc26b9-4392-4cf2-9cc4-020f70495926",
   "metadata": {},
   "outputs": [],
   "source": [
    "dataframes = {'raw':df_raw,\n",
    "              'df_ek': df_ek,\n",
    "              #'smooth' : df_smooth,\n",
    "              'df_ek2': data_ek_filter,\n",
    "              #'smooth2' : data_ek_smooth,\n",
    "                            \n",
    "             }\n",
    "\n",
    "styles = {\n",
    "\n",
    "    'df_ek':{'alpha':0.5},\n",
    "}\n",
    "\n",
    "plot(dataframes=dataframes, keys=[\"thrust\", \"psi\", \"u\", \"v\", \"r\", \"delta\"], styles=styles);"
   ]
  },
  {
   "cell_type": "code",
   "execution_count": null,
   "id": "19ce31ba-bd86-40ff-8ed9-f087285dc225",
   "metadata": {},
   "outputs": [],
   "source": [
    "dataframes = {'raw':df_raw,\n",
    "              #'df_ek': df_ek,\n",
    "              'smooth' : df_smooth,\n",
    "              #'df_ek2': data_ek_filter,\n",
    "              'smooth2' : data_ek_smooth,\n",
    "                            \n",
    "             }\n",
    "\n",
    "styles = {\n",
    "\n",
    "    'df_ek':{'alpha':0.5},\n",
    "}\n",
    "\n",
    "plot(dataframes=dataframes, keys=[\"thrust\", \"psi\", \"u\", \"v\", \"r\", \"delta\"], styles=styles);"
   ]
  },
  {
   "cell_type": "code",
   "execution_count": null,
   "id": "f583ad41-20e9-4190-9bc0-178b13fbbc53",
   "metadata": {},
   "outputs": [],
   "source": [
    "x = [1,2,3,4]\n",
    "y = [0,1,0,0]\n",
    "dydx = np.gradient(y, x)\n",
    "\n",
    "fig,ax=plt.subplots()\n",
    "ax.plot(x,y,'s-')\n",
    "ax2 = ax.twinx()\n",
    "ax2.plot(x,dydx,'.-')"
   ]
  },
  {
   "cell_type": "code",
   "execution_count": null,
   "id": "32dedacc-2958-4cb3-9b1d-5a02099337f4",
   "metadata": {},
   "outputs": [],
   "source": []
  }
 ],
 "metadata": {
  "kernelspec": {
   "display_name": "wPCC_pipeline",
   "language": "python",
   "name": "python3"
  },
  "language_info": {
   "codemirror_mode": {
    "name": "ipython",
    "version": 3
   },
   "file_extension": ".py",
   "mimetype": "text/x-python",
   "name": "python",
   "nbconvert_exporter": "python",
   "pygments_lexer": "ipython3",
   "version": "3.7.9"
  }
 },
 "nbformat": 4,
 "nbformat_minor": 5
}
