{
 "cells": [
  {
   "cell_type": "markdown",
   "id": "21fadab3-6e5d-49d8-8227-a9f5b1505fc0",
   "metadata": {
    "tags": []
   },
   "source": [
    "# Train test split KVLCC2 HSVA"
   ]
  },
  {
   "cell_type": "code",
   "execution_count": null,
   "id": "2020a162-05bf-4649-961b-a6c00ea48c4a",
   "metadata": {},
   "outputs": [],
   "source": [
    "# %load imports.py\n",
    "%load_ext autoreload\n",
    "%autoreload 2\n",
    "%reload_kedro\n",
    "%config Completer.use_jedi = False  ## (To fix autocomplete)\n",
    "%matplotlib inline\n",
    "\n",
    "import warnings\n",
    "warnings.filterwarnings('ignore')\n",
    "\n",
    "import pandas as pd\n",
    "pd.set_option('display.max_rows', 500)\n",
    "pd.set_option('display.max_columns', 500)\n",
    "from src.models.vmm import ModelSimulator\n",
    "import matplotlib.pyplot as plt\n",
    "from src.visualization.plot import track_plots, plot, captive_plot\n",
    "import kedro\n",
    "import numpy as np\n",
    "import os.path\n",
    "import anyconfig\n",
    "\n",
    "import matplotlib\n",
    "matplotlib.rcParams[\"figure.figsize\"] = (10,7)\n",
    "from src.symbols import *\n",
    "\n",
    "# Read configs:\n",
    "conf_path = os.path.join(\"../conf/base/\")\n",
    "runs_globals_path = os.path.join(\n",
    "    conf_path,\n",
    "    \"runs_globals.yml\",\n",
    ")\n",
    "\n",
    "runs_globals = anyconfig.load(runs_globals_path)\n",
    "model_test_ids = runs_globals[\"model_test_ids\"]\n",
    "\n",
    "join_globals_path = os.path.join(\n",
    "    conf_path,\n",
    "    \"join_globals.yml\",\n",
    ")\n",
    "\n",
    "joins = runs_globals[\"joins\"]\n",
    "join_runs_dict = anyconfig.load(join_globals_path)\n",
    "\n",
    "globals_path = os.path.join(\n",
    "    conf_path,\n",
    "    \"globals.yml\",\n",
    ")\n",
    "global_variables = anyconfig.load(globals_path)\n",
    "\n",
    "\n",
    "\n",
    "vmm_names = global_variables[\"vmms\"]\n",
    "\n",
    "from wPCC_pipeline.pipelines.motion_regression.nodes import predict_force, fit_motions, create_model_from_motion_regression\n",
    "from wPCC_pipeline.pipelines.prediction.nodes import simulate_euler\n",
    "from src.prime_system import PrimeSystem\n",
    "\n",
    "from sklearn.linear_model import LinearRegression\n",
    "from sklearn.model_selection import cross_val_score\n",
    "from sklearn.model_selection import RepeatedKFold\n",
    "from sklearn.feature_selection import SelectKBest\n",
    "from sklearn.feature_selection import f_regression\n",
    "from sklearn.pipeline import Pipeline"
   ]
  },
  {
   "cell_type": "code",
   "execution_count": null,
   "id": "1dc9730f-67db-4e4a-ae0d-911ad8c54d0f",
   "metadata": {},
   "outputs": [],
   "source": [
    "ship=\"kvlcc2_hsva\"\n",
    "#vmm_name = \"vmm_martins_simple\"\n",
    "vmm_name = \"vmm_abkowitz\"\n",
    "vmm = catalog.load(vmm_name)\n",
    "\n",
    "ship_data = catalog.load(f\"{ship}.ship_data\")\n",
    "\n",
    "regression = catalog.load(f\"{ship}.updated.{vmm_name}.joined.regression\")\n",
    "data = catalog.load(f\"{ship}.updated.joined.data_ek_smooth\")\n",
    "\n",
    "added_masses = catalog.load(f\"{ship}.added_masses\")\n",
    "exclude_parameters = catalog.load(f\"params:{ship}.motion_regression.exclude_parameters\")\n",
    "data_with_force = predict_force(data=data, added_masses=added_masses, ship_parameters=ship_data, vmm=vmm)"
   ]
  },
  {
   "cell_type": "code",
   "execution_count": null,
   "id": "16c07a2e-5de1-48b8-b5ad-4591a6dc24bc",
   "metadata": {},
   "outputs": [],
   "source": [
    "from src.bias_variance_tradeoff import train_test_split_exteme, train_test_split_run\n",
    "from sklearn.metrics import r2_score"
   ]
  },
  {
   "cell_type": "code",
   "execution_count": null,
   "id": "5ae181a3-66d4-41e4-82d6-4882067f8f84",
   "metadata": {},
   "outputs": [],
   "source": [
    "ps = PrimeSystem(**ship_data)\n",
    "#data['U'] = np.sqrt(data['u']**2 + data['v']**2)\n",
    "data_prime = ps.prime(data_with_force, U=data_with_force['U'])"
   ]
  },
  {
   "cell_type": "code",
   "execution_count": null,
   "id": "20395822-6e5c-4288-bd51-c48753488118",
   "metadata": {},
   "outputs": [],
   "source": [
    "def create_model(k):\n",
    "    \n",
    "    select_k_best = SelectKBest(score_func=f_regression, k=k)\n",
    "    linear_regression = LinearRegression()\n",
    "    steps = [\n",
    "        ('select_k_best', select_k_best),\n",
    "        ('linear_regression', linear_regression),\n",
    "    ]\n",
    "    model = Pipeline(steps=steps)\n",
    "    return model\n",
    "        \n",
    "\n",
    "def predict(model, X_test, dof, data):\n",
    "\n",
    "    y_pred = model.predict(X_test)        \n",
    "    y_pred = pd.Series(y_pred, index=X_test.index)\n",
    "    \n",
    "    return y_pred\n",
    "        \n",
    "def vary_k(X_train, y_train, X_test, y_test, dof, data):\n",
    "    \n",
    "    scores = {}\n",
    "    for k in range(1,X.shape[1]):\n",
    "    \n",
    "        select_k_best = SelectKBest(score_func=f_regression, k=k)\n",
    "        linear_regression = LinearRegression(fit_intercept=False)\n",
    "        steps = [\n",
    "            ('select_k_best', select_k_best),\n",
    "            ('linear_regression', linear_regression),\n",
    "        ]\n",
    "        \n",
    "        model = create_model(k=k)\n",
    "        model.fit(X=X_train, y=y_train)\n",
    "        \n",
    "        y_pred = predict(model=model, X_test=X_test, dof=dof, data=data)\n",
    "        \n",
    "        scores[k] = r2_score(y_true=y_test, y_pred=y_pred)\n",
    "        scores = pd.Series(scores)\n",
    "    \n",
    "    return scores"
   ]
  },
  {
   "cell_type": "code",
   "execution_count": null,
   "id": "94bb210f-9744-433a-86ba-738be0520084",
   "metadata": {},
   "outputs": [],
   "source": [
    "exclude_parameters"
   ]
  },
  {
   "cell_type": "code",
   "execution_count": null,
   "id": "c016b478-3696-4d81-918a-2b513138bbc2",
   "metadata": {},
   "outputs": [],
   "source": [
    "exclude_parameters_ = {'Xthrust':1}\n",
    "regression.diff_eq_X.exclude_parameters = pd.Series(exclude_parameters_)\n",
    "X_X, y_X = regression.diff_eq_X.calculate_features_and_label(data=data_prime, y=data_prime['fx'])\n",
    "y_X"
   ]
  },
  {
   "cell_type": "code",
   "execution_count": null,
   "id": "5b827aad-cd85-46cf-94b7-b1dcd056de0b",
   "metadata": {},
   "outputs": [],
   "source": [
    "regression.data_prime = data_prime\n",
    "exclude_parameters_ = pd.Series({'Xthrust':0.90})\n",
    "\n",
    "regression.exclude_parameters = exclude_parameters_\n",
    "regression.diff_eq_X.exclude_parameters = exclude_parameters_\n",
    "regression.calculate_features_and_labels()"
   ]
  },
  {
   "cell_type": "code",
   "execution_count": null,
   "id": "3dc6ec36-c6a3-454d-926a-13b00bf47e2e",
   "metadata": {},
   "outputs": [],
   "source": [
    "xthrust = exclude_parameters['Xthrust']*data_prime['thrust']\n",
    "\n",
    "xys = {#'fx' : {'data' : (regression.X_X, regression.y_X-xthrust),},\n",
    "       'fx' : {'data' : (regression.X_X, regression.y_X),'k':13},\n",
    "           \n",
    "       'fy' : {'data' :(regression.X_Y, regression.y_Y),},\n",
    "       'mz' : {'data' :(regression.X_N, regression.y_N),},\n",
    "      }\n",
    "\n",
    "parameters = {}\n",
    "for dof, items in xys.items():\n",
    "    \n",
    "    X = items['data'][0]\n",
    "    y = items['data'][1]\n",
    "    \n",
    "    #X_train, y_train, X_test, y_test, train_data = train_test_split_exteme(X=X, y=y, data=data)\n",
    "    X_train, y_train, X_test, y_test, train_data = train_test_split_run(X=X, y=y, id=data.id, ids=[\"HSVA_CPMC_KVLCC2_Z_35_05\"])\n",
    "\n",
    "    \n",
    "    k = items.get('k', X_train.shape[1])\n",
    "    \n",
    "    scores = vary_k(X_train, y_train, X_test, y_test, dof, data_prime)\n",
    "    \n",
    "    fig,ax=plt.subplots()\n",
    "    scores.plot(ax=ax, style='.-')\n",
    "    ax.grid(True)\n",
    "    ax.set_xticks(np.arange(scores.index[0], scores.index[-1], 1));\n",
    "    ax.set_title(dof)\n",
    "    ax.set_ylim(0.2,1)\n",
    "    \n",
    "    model = create_model(k=k)\n",
    "    model.fit(X=X_train, y=y_train)\n",
    "    \n",
    "    select_k_best = model['select_k_best']\n",
    "    parameter_names = X_train.columns[select_k_best.get_support()]\n",
    "    linear_regression = model['linear_regression']\n",
    "    parameter_values = linear_regression.coef_\n",
    "    parameters.update({name:value for name,value in zip(parameter_names, parameter_values)})\n",
    "    \n",
    "    y_pred = predict(model=model, X_test=X_test, dof=dof, data=data_prime)\n",
    "    \n",
    "    fig,ax=plt.subplots()\n",
    "    y_train.plot(style='.', ax=ax)\n",
    "    y_test.plot(style='.', ax=ax)\n",
    "    y_pred.plot(style='o', ax=ax, alpha=0.2)\n",
    "    ax.set_title(dof)"
   ]
  },
  {
   "cell_type": "code",
   "execution_count": null,
   "id": "b9ccbfaf-c16e-434e-a8a7-a063b57c601a",
   "metadata": {},
   "outputs": [],
   "source": [
    "ship_model = catalog.load(f\"{ship}.updated.{vmm_name}.joined.model\")\n",
    "df_parameters = pd.DataFrame()\n",
    "df_parameters['original'] = ship_model.parameters\n",
    "df_parameters['selected'] = 0\n",
    "df_parameters['selected'].update(added_masses)\n",
    "df_parameters['selected'].update(parameters)\n",
    "df_parameters['selected'].update(exclude_parameters_)\n",
    "\n",
    "\n",
    "ship_model2 = ship_model.copy()\n",
    "ship_model2.parameters = df_parameters['selected']\n",
    "\n",
    "df_parameters['selected'].plot.bar()"
   ]
  },
  {
   "cell_type": "code",
   "execution_count": null,
   "id": "b217b198-ca3d-4c8b-a1f8-c9e6d4f5f23f",
   "metadata": {},
   "outputs": [],
   "source": [
    "test = \"HSVA_CPMC_KVLCC2_Z_35_05\"\n",
    "df_test = catalog.load(f'{ship}.updated.{test}.data_ek_smooth')\n",
    "ek = catalog.load(f\"{ship}.{vmm_name}.ek\")"
   ]
  },
  {
   "cell_type": "code",
   "execution_count": null,
   "id": "f8da6ece-a4a7-4dac-ac3d-ef3a99c134fe",
   "metadata": {},
   "outputs": [],
   "source": [
    "simulate_euler(data=df_test, model=ship_model2, ek=ek)"
   ]
  },
  {
   "cell_type": "code",
   "execution_count": null,
   "id": "901304a2-66d2-42a4-a07e-668a81e901e6",
   "metadata": {},
   "outputs": [],
   "source": [
    "model = ship_model2\n",
    "df_ = df_test.copy()\n",
    "df_.iloc[0]['r'] = 0\n",
    "result = model.simulate(df_=df_)\n",
    "df_result = result.result.copy()\n",
    "df_result['psi_deg'] = np.rad2deg(df_result['psi'])\n",
    "df_test['psi_deg'] = np.rad2deg(df_test['psi'])\n",
    "df_result['delta_deg'] = np.rad2deg(df_result['delta'])\n",
    "df_test['delta_deg'] = np.rad2deg(df_test['delta'])\n"
   ]
  },
  {
   "cell_type": "code",
   "execution_count": null,
   "id": "a566fe22-43a9-42f7-b8f5-0b9a4abb2d4d",
   "metadata": {},
   "outputs": [],
   "source": [
    "dataframes = {\n",
    "    'Experiment' : df_test,\n",
    "    'Prediction' : df_result\n",
    "}\n",
    "\n",
    "styles = {\n",
    "    'Experiment' : {'style':'r--'},\n",
    "    'Prediction' : {'style':'b-'},\n",
    "}"
   ]
  },
  {
   "cell_type": "code",
   "execution_count": null,
   "id": "3b0c56c5-e0f3-4f0b-ad5e-d57071c91942",
   "metadata": {},
   "outputs": [],
   "source": [
    "track_plots(dataframes, lpp=ship_data['L'], beam=ship_data['B'],  styles=styles);"
   ]
  },
  {
   "cell_type": "code",
   "execution_count": null,
   "id": "6c9ac758-ed4e-4d7f-a7d9-4d57cf602bba",
   "metadata": {},
   "outputs": [],
   "source": [
    "plot(dataframes=dataframes, keys=['delta_deg','psi_deg','y0','u','v','r'], ncols=1, styles=styles, time_window=[0,2]);\n",
    "plot(dataframes=dataframes, keys=['delta_deg','psi_deg','y0','u','v','r'], ncols=1, styles=styles);"
   ]
  },
  {
   "cell_type": "code",
   "execution_count": null,
   "id": "4ec76126-bcb0-4779-815a-3b24c303868c",
   "metadata": {},
   "outputs": [],
   "source": [
    "parameters"
   ]
  },
  {
   "cell_type": "code",
   "execution_count": null,
   "id": "c13c5b77-3102-43f0-9ab7-e311b24f314a",
   "metadata": {},
   "outputs": [],
   "source": [
    "import statsmodels.api as sm\n",
    "import seaborn as sns\n",
    "\n",
    "X = pd.DataFrame()\n",
    "N = 1000\n",
    "x1 = X['x1'] = np.linspace(0,1,N)\n",
    "x2 = X['x2'] = X['x1'] + np.random.normal(scale=0.05, size=N)\n",
    "y = x1 + x2 + np.random.normal(scale=0.1, size=N)\n",
    "\n",
    "data = X.copy()\n",
    "data['y'] = y\n",
    "\n",
    "sns.pairplot(data=data)"
   ]
  },
  {
   "cell_type": "code",
   "execution_count": null,
   "id": "fe64cd31-979a-4b33-9403-70e6b3cc36fc",
   "metadata": {},
   "outputs": [],
   "source": [
    "data.corr()"
   ]
  },
  {
   "cell_type": "code",
   "execution_count": null,
   "id": "2ce6256d-2654-4f1d-84cc-d96ad54e5f6f",
   "metadata": {},
   "outputs": [],
   "source": [
    "model1 = sm.OLS(y,X)\n",
    "result = model1.fit()\n",
    "result.summary()"
   ]
  },
  {
   "cell_type": "code",
   "execution_count": null,
   "id": "b5531edc-e84e-47a0-8951-7cc1e7fd1181",
   "metadata": {},
   "outputs": [],
   "source": [
    "y2 = y.diff()[1:].copy()\n",
    "X2 = X.diff().iloc[1:].copy()\n",
    "model2 = sm.OLS(y2,X2)\n",
    "result2 = model2.fit()\n",
    "result2.summary()"
   ]
  },
  {
   "cell_type": "code",
   "execution_count": null,
   "id": "92b19299-59a0-48ee-811b-04b59955f87f",
   "metadata": {},
   "outputs": [],
   "source": [
    "X3 = X[['x1']]\n",
    "model3 = sm.OLS(y,X3)\n",
    "result3 = model3.fit()\n",
    "result3.summary()"
   ]
  },
  {
   "cell_type": "code",
   "execution_count": null,
   "id": "fd8d56fa-d326-4e1d-af4e-839c403eecfd",
   "metadata": {},
   "outputs": [],
   "source": [
    "X.corr()"
   ]
  },
  {
   "cell_type": "code",
   "execution_count": null,
   "id": "a5ee8cae-d1c6-4775-8900-b85e1278041f",
   "metadata": {},
   "outputs": [],
   "source": [
    "X2.corr()"
   ]
  },
  {
   "cell_type": "code",
   "execution_count": null,
   "id": "8b66cd32-e4c0-403e-ba69-376a2382bce0",
   "metadata": {},
   "outputs": [],
   "source": [
    "result.condition_number"
   ]
  },
  {
   "cell_type": "code",
   "execution_count": null,
   "id": "94eaa9fa-7cec-45e2-a8dc-a896544bbc87",
   "metadata": {},
   "outputs": [],
   "source": [
    "result2.condition_number"
   ]
  },
  {
   "cell_type": "code",
   "execution_count": null,
   "id": "6a69cea5-daf4-416c-81f1-0c9a5ab98418",
   "metadata": {},
   "outputs": [],
   "source": []
  }
 ],
 "metadata": {
  "citation-manager": {
   "items": {}
  },
  "kernelspec": {
   "display_name": "wPCC_pipeline",
   "language": "python",
   "name": "python3"
  },
  "language_info": {
   "codemirror_mode": {
    "name": "ipython",
    "version": 3
   },
   "file_extension": ".py",
   "mimetype": "text/x-python",
   "name": "python",
   "nbconvert_exporter": "python",
   "pygments_lexer": "ipython3",
   "version": "3.7.9"
  }
 },
 "nbformat": 4,
 "nbformat_minor": 5
}
