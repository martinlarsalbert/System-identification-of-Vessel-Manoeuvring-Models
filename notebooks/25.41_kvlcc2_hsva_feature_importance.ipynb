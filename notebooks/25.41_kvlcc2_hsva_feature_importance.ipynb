{
 "cells": [
  {
   "cell_type": "markdown",
   "id": "21fadab3-6e5d-49d8-8227-a9f5b1505fc0",
   "metadata": {
    "tags": []
   },
   "source": [
    "# Train test split KVLCC2 HSVA feature importance"
   ]
  },
  {
   "cell_type": "code",
   "execution_count": null,
   "id": "2020a162-05bf-4649-961b-a6c00ea48c4a",
   "metadata": {},
   "outputs": [],
   "source": [
    "# %load imports.py\n",
    "%load_ext autoreload\n",
    "%autoreload 2\n",
    "%reload_kedro\n",
    "%config Completer.use_jedi = False  ## (To fix autocomplete)\n",
    "%matplotlib inline\n",
    "\n",
    "import warnings\n",
    "warnings.filterwarnings('ignore')\n",
    "\n",
    "import pandas as pd\n",
    "pd.set_option('display.max_rows', 500)\n",
    "pd.set_option('display.max_columns', 500)\n",
    "from src.models.vmm import ModelSimulator\n",
    "import matplotlib.pyplot as plt\n",
    "from src.visualization.plot import track_plots, plot, captive_plot\n",
    "import kedro\n",
    "import numpy as np\n",
    "import os.path\n",
    "import anyconfig\n",
    "\n",
    "import matplotlib\n",
    "matplotlib.rcParams[\"figure.figsize\"] = (10,7)\n",
    "from src.symbols import *\n",
    "\n",
    "# Read configs:\n",
    "conf_path = os.path.join(\"../conf/base/\")\n",
    "runs_globals_path = os.path.join(\n",
    "    conf_path,\n",
    "    \"runs_globals.yml\",\n",
    ")\n",
    "\n",
    "runs_globals = anyconfig.load(runs_globals_path)\n",
    "model_test_ids = runs_globals[\"model_test_ids\"]\n",
    "\n",
    "join_globals_path = os.path.join(\n",
    "    conf_path,\n",
    "    \"join_globals.yml\",\n",
    ")\n",
    "\n",
    "joins = runs_globals[\"joins\"]\n",
    "join_runs_dict = anyconfig.load(join_globals_path)\n",
    "\n",
    "globals_path = os.path.join(\n",
    "    conf_path,\n",
    "    \"globals.yml\",\n",
    ")\n",
    "global_variables = anyconfig.load(globals_path)\n",
    "\n",
    "\n",
    "\n",
    "vmm_names = global_variables[\"vmms\"]\n",
    "\n",
    "from wPCC_pipeline.pipelines.motion_regression.nodes import predict_force, fit_motions, create_model_from_motion_regression\n",
    "from wPCC_pipeline.pipelines.prediction.nodes import simulate_euler\n",
    "from src.prime_system import PrimeSystem\n",
    "\n",
    "from sklearn.linear_model import LinearRegression\n",
    "from sklearn.model_selection import cross_val_score\n",
    "from sklearn.model_selection import RepeatedKFold\n",
    "from sklearn.feature_selection import SelectKBest\n",
    "from sklearn.feature_selection import f_regression\n",
    "from sklearn.pipeline import Pipeline\n",
    "from src.parameters import df_parameters\n",
    "p = df_parameters['symbol']"
   ]
  },
  {
   "cell_type": "code",
   "execution_count": null,
   "id": "1dc9730f-67db-4e4a-ae0d-911ad8c54d0f",
   "metadata": {},
   "outputs": [],
   "source": [
    "ship=\"kvlcc2_hsva\"\n",
    "#vmm_name = \"vmm_martins_simple\"\n",
    "vmm_name = \"vmm_abkowitz\"\n",
    "vmm = catalog.load(vmm_name)\n",
    "\n",
    "ship_data = catalog.load(f\"{ship}.ship_data\")\n",
    "\n",
    "regression = catalog.load(f\"{ship}.updated.{vmm_name}.joined.regression\")\n",
    "regression.diff_eq_Y.exclude_parameters.pop('Ydelta')\n",
    "regression.diff_eq_Y.exclude_parameters.pop('Ythrustdelta')\n",
    "\n",
    "\n",
    "data = catalog.load(f\"{ship}.updated.joined.data_ek_smooth\")\n",
    "\n",
    "added_masses = catalog.load(f\"{ship}.added_masses\")\n",
    "exclude_parameters = catalog.load(f\"params:{ship}.motion_regression.exclude_parameters\")\n",
    "data_with_force = predict_force(data=data, added_masses=added_masses, ship_parameters=ship_data, vmm=vmm)"
   ]
  },
  {
   "cell_type": "code",
   "execution_count": null,
   "id": "16c07a2e-5de1-48b8-b5ad-4591a6dc24bc",
   "metadata": {},
   "outputs": [],
   "source": [
    "from src.bias_variance_tradeoff import train_test_split_exteme, train_test_split_run\n",
    "from sklearn.metrics import r2_score\n",
    "from sklearn.preprocessing import MinMaxScaler, StandardScaler"
   ]
  },
  {
   "cell_type": "code",
   "execution_count": null,
   "id": "2738d7e9-377f-4a73-a946-29ad5d89bb6a",
   "metadata": {},
   "outputs": [],
   "source": [
    "ids = list(data_with_force['id'].unique())\n",
    "ids_train = ids.copy()\n",
    "id_test = 'HSVA_CPMC_KVLCC2_Z_35_05'\n",
    "ids_train.remove(id_test)\n",
    "mask = data_with_force['id'].isin(ids_train)\n",
    "data_train = data_with_force.loc[mask].copy()"
   ]
  },
  {
   "cell_type": "code",
   "execution_count": null,
   "id": "5ae181a3-66d4-41e4-82d6-4882067f8f84",
   "metadata": {},
   "outputs": [],
   "source": [
    "ps = PrimeSystem(**ship_data)\n",
    "#data['U'] = np.sqrt(data['u']**2 + data['v']**2)\n",
    "data_prime = ps.prime(data_train, U=data_with_force['U'])"
   ]
  },
  {
   "cell_type": "code",
   "execution_count": null,
   "id": "5b3f7989-9f75-4bcf-893e-11573db267c0",
   "metadata": {},
   "outputs": [],
   "source": [
    "Xs = {}\n",
    "ys = {}\n",
    "\n",
    "Xs['X'], ys['X'] = regression.diff_eq_X.calculate_features_and_label(data=data_prime, y=data_prime['fx'])\n",
    "Xs['Y'], ys['Y'] = regression.diff_eq_Y.calculate_features_and_label(data=data_prime, y=data_prime['fy'])\n",
    "Xs['N'], ys['N'] = regression.diff_eq_N.calculate_features_and_label(data=data_prime, y=data_prime['mz'])\n",
    "\n",
    "dofs = list(Xs.keys())"
   ]
  },
  {
   "cell_type": "code",
   "execution_count": null,
   "id": "72f74594-325b-4f99-9d85-27718b02991b",
   "metadata": {},
   "outputs": [],
   "source": [
    "def feature_imporance(X,y):\n",
    "    \n",
    "    scaler = MinMaxScaler()\n",
    "    #scaler = StandardScaler()\n",
    "    scaler.fit(X)\n",
    "    X_transform = pd.DataFrame(scaler.transform(X), columns=X.columns, index=X.index)\n",
    "    linear_regression = LinearRegression(fit_intercept=False)\n",
    "    linear_regression.fit(X=X_transform, y=y)\n",
    "    \n",
    "    coeffs = pd.Series(linear_regression.coef_, index=X_transform.columns)\n",
    "    importance = coeffs.abs().sort_values(ascending=False)\n",
    "    importance = importance/importance.sum()\n",
    "    return importance\n",
    "\n",
    "importances = {}\n",
    "\n",
    "for dof,X in Xs.items():\n",
    "    y = ys[dof]\n",
    "    importances[dof] = feature_imporance(X,y)"
   ]
  },
  {
   "cell_type": "code",
   "execution_count": null,
   "id": "b6d504c2-9278-44d2-bbcc-eae3d96808a1",
   "metadata": {},
   "outputs": [],
   "source": [
    "for dof in dofs:\n",
    "    fig,ax=plt.subplots()\n",
    "    importances[dof].plot.bar(ax=ax)\n",
    "    fig.suptitle(dof)"
   ]
  },
  {
   "cell_type": "code",
   "execution_count": null,
   "id": "0e7611ef-cb0c-4f5c-87d0-38653183507f",
   "metadata": {},
   "outputs": [],
   "source": [
    "min_importance = 0.01\n",
    "removes = []\n",
    "for dof in dofs:\n",
    "    mask = importances[dof] < min_importance\n",
    "    removes+=list(importances[dof].loc[mask].index)"
   ]
  },
  {
   "cell_type": "code",
   "execution_count": null,
   "id": "23352053-3748-4979-9e04-60b58168be87",
   "metadata": {},
   "outputs": [],
   "source": [
    "subs = [(p[remove],0) for remove in removes]\n",
    "X_eq_simplified = regression.X_eq.subs(subs)\n",
    "Y_eq_simplified = regression.Y_eq.subs(subs)\n",
    "N_eq_simplified = regression.N_eq.subs(subs)\n",
    "\n",
    "display(X_eq_simplified)\n",
    "display(Y_eq_simplified)\n",
    "display(N_eq_simplified)"
   ]
  },
  {
   "cell_type": "code",
   "execution_count": null,
   "id": "7c508342-bfe3-4c7d-a94e-82b434b2248f",
   "metadata": {},
   "outputs": [],
   "source": [
    "X.drop(columns=list(set(removes) & set(X.columns)))"
   ]
  },
  {
   "cell_type": "code",
   "execution_count": null,
   "id": "0c645fac-7615-4a7a-ab03-04b5ce85bf4a",
   "metadata": {},
   "outputs": [],
   "source": [
    "from sklearn.base import BaseEstimator, TransformerMixin\n",
    "\n",
    "class BestFeatures(BaseEstimator, TransformerMixin):\n",
    "    \n",
    "    def __init__(self,k):\n",
    "        super().__init__()\n",
    "        self.k=k\n",
    "            \n",
    "    def fit(self, X, y):\n",
    "        \n",
    "        importance = feature_imporance(X,y)\n",
    "    \n",
    "        if self.k > len(importance):\n",
    "            k = len(importance)\n",
    "        else:\n",
    "            k = self.k\n",
    "            \n",
    "        self.features = list(importance.index[0:k])\n",
    "        \n",
    "        return self\n",
    "    \n",
    "    def transform(self, X, y=None):\n",
    "        # Perform arbitary transformation\n",
    "        return X[self.features].copy()"
   ]
  },
  {
   "cell_type": "code",
   "execution_count": null,
   "id": "532b445c-b33b-45b8-b647-5993b16746f6",
   "metadata": {},
   "outputs": [],
   "source": [
    "best_features = BestFeatures(k=3)\n",
    "best_features.fit(X=X, y=y)\n",
    "best_features.transform(X)"
   ]
  },
  {
   "cell_type": "code",
   "execution_count": null,
   "id": "c3de126c-2eaf-44a6-8dba-5840a95842d1",
   "metadata": {},
   "outputs": [],
   "source": [
    "regression.diff_eq_Y.exclude_parameters"
   ]
  },
  {
   "cell_type": "code",
   "execution_count": null,
   "id": "20395822-6e5c-4288-bd51-c48753488118",
   "metadata": {},
   "outputs": [],
   "source": [
    "def create_model(k):\n",
    "    \n",
    "    best_features = BestFeatures(k=k)\n",
    "    linear_regression = LinearRegression(fit_intercept=False)\n",
    "    \n",
    "    steps = [\n",
    "        ('select',best_features),\n",
    "        ('regression',linear_regression),\n",
    "    ]\n",
    "    \n",
    "    pipeline = Pipeline(steps)\n",
    "    return pipeline\n",
    "\n",
    "def predict(model, X_test, dof, data):\n",
    "\n",
    "    y_pred = model.predict(X_test)        \n",
    "    y_pred = pd.Series(y_pred, index=X_test.index)\n",
    "    \n",
    "    return y_pred\n",
    "        \n",
    "def vary_k(X_train, y_train, X_test, y_test, dof, data):\n",
    "    \n",
    "    scores = {}\n",
    "    for k in range(1,X.shape[1]):\n",
    "    \n",
    "        select_k_best = SelectKBest(score_func=f_regression, k=k)\n",
    "        \n",
    "        linear_regression = LinearRegression(fit_intercept=False)\n",
    "        \n",
    "        \n",
    "        model = create_model(k=k)\n",
    "        model.fit(X=X_train, y=y_train)\n",
    "        \n",
    "        y_pred = predict(model=model, X_test=X_test, dof=dof, data=data)\n",
    "        \n",
    "        scores[k] = r2_score(y_true=y_test, y_pred=y_pred)\n",
    "        scores = pd.Series(scores)\n",
    "    \n",
    "    return scores"
   ]
  },
  {
   "cell_type": "code",
   "execution_count": null,
   "id": "6a94f385-4b1f-4134-a8a0-8beccbbe43bc",
   "metadata": {},
   "outputs": [],
   "source": [
    "ids = list(data.id.unique())\n",
    "\n",
    "scores_all = {dof: pd.DataFrame() for dof in Xs.keys()}\n",
    "\n",
    "for seed in range(1,10):\n",
    "    \n",
    "    np.random.seed(seed)\n",
    "    ids_test = np.random.choice(ids, size=int(np.ceil(len(ids)*0.3)), replace=False)\n",
    "    ids_train = list(set(ids) - set(ids_test))\n",
    "    parameters = {}\n",
    "    \n",
    "    for dof, X in Xs.items():\n",
    "        \n",
    "        y = ys[dof]\n",
    "        \n",
    "        X_train, y_train, X_test, y_test, train_data = train_test_split_run(X=X, y=y, id=data_train.id, ids=ids_test)\n",
    "           \n",
    "        scores = vary_k(X_train, y_train, X_test, y_test, dof, data_prime)\n",
    "        \n",
    "        scores_all[dof][seed] = scores\n",
    "        "
   ]
  },
  {
   "cell_type": "code",
   "execution_count": null,
   "id": "cd7ea18d-93e0-4106-a45e-85cc691ccc8e",
   "metadata": {},
   "outputs": [],
   "source": [
    "fig,axes=plt.subplots(nrows=3)\n",
    "fig.set_size_inches(15,15)\n",
    "\n",
    "for ax,dof in zip(axes,Xs.keys()):\n",
    "    \n",
    "    scores_all[dof].plot(ax=ax, style=':')\n",
    "    scores_all[dof].mean(axis=1).plot(ax=ax, style='k.-', lw=2, label='mean')\n",
    "    \n",
    "    ax.grid(True)\n",
    "    ax.set_xticks(np.arange(scores.index[0], scores.index[-1], 1));\n",
    "    ax.set_title(dof)\n",
    "    ax.set_ylim(0.2,1)\n",
    "    "
   ]
  },
  {
   "cell_type": "code",
   "execution_count": null,
   "id": "3dc6ec36-c6a3-454d-926a-13b00bf47e2e",
   "metadata": {},
   "outputs": [],
   "source": [
    "ks = {\n",
    "'X':5,\n",
    "'Y':10,\n",
    "'N':10,\n",
    "}\n",
    "\n",
    "\n",
    "parameters = {}\n",
    "\n",
    "for dof, X in Xs.items():\n",
    "    \n",
    "    k = ks[dof]\n",
    "    model = create_model(k=k)\n",
    "    \n",
    "    #X_train, y_train, X_test, y_test, train_data = train_test_split_run(X=X, y=y, id=data_train.id, ids=ids)\n",
    "    X_train = X\n",
    "    y_train = y = ys[dof]\n",
    "    model.fit(X=X_train, y=y_train)\n",
    "    \n",
    "    select_k_best = model['select']\n",
    "    parameter_names = select_k_best.features\n",
    "    linear_regression = model['regression']\n",
    "    parameter_values = linear_regression.coef_\n",
    "    parameters.update({name:value for name,value in zip(parameter_names, parameter_values)})\n",
    "    \n",
    "    y_pred = predict(model=model, X_test=X_train, dof=dof, data=data_prime)\n",
    "    \n",
    "    fig,ax=plt.subplots()\n",
    "    y_train.plot(style='-', ax=ax, label='train')\n",
    "    y_pred.plot(style='-', ax=ax, alpha=0.5, label='pred')\n",
    "    ax.set_title(dof)\n",
    "    ax.legend()"
   ]
  },
  {
   "cell_type": "code",
   "execution_count": null,
   "id": "b9ccbfaf-c16e-434e-a8a7-a063b57c601a",
   "metadata": {},
   "outputs": [],
   "source": [
    "ship_model = catalog.load(f\"{ship}.updated.{vmm_name}.joined.model\")\n",
    "df_parameters = pd.DataFrame()\n",
    "df_parameters['original'] = ship_model.parameters\n",
    "df_parameters['selected'] = 0\n",
    "df_parameters['selected'].update(added_masses)\n",
    "df_parameters['selected'].update(parameters)\n",
    "df_parameters['selected'].update(regression.exclude_parameters)\n",
    "df_parameters['symbol'] = p\n",
    "\n",
    "\n",
    "ship_model2 = ship_model.copy()\n",
    "ship_model2.parameters = df_parameters['selected']\n",
    "\n",
    "df_parameters['selected'].plot.bar()"
   ]
  },
  {
   "cell_type": "code",
   "execution_count": null,
   "id": "d4ac91f0-709c-4403-ae57-8e4348601b0c",
   "metadata": {},
   "outputs": [],
   "source": [
    "mask = df_parameters['selected']==0\n",
    "subs = [(symbol,0) for symbol in df_parameters.loc[mask,'symbol']]\n",
    "X_eq_simplified = regression.X_eq.subs(subs)\n",
    "Y_eq_simplified = regression.Y_eq.subs(subs)\n",
    "N_eq_simplified = regression.N_eq.subs(subs)\n",
    "\n",
    "display(X_eq_simplified)\n",
    "display(Y_eq_simplified)\n",
    "display(N_eq_simplified)\n"
   ]
  },
  {
   "cell_type": "code",
   "execution_count": null,
   "id": "b217b198-ca3d-4c8b-a1f8-c9e6d4f5f23f",
   "metadata": {},
   "outputs": [],
   "source": [
    "df_test = catalog.load(f'{ship}.updated.{id_test}.data_ek_smooth')\n",
    "ek = catalog.load(f\"{ship}.{vmm_name}.ek\")"
   ]
  },
  {
   "cell_type": "code",
   "execution_count": null,
   "id": "f8da6ece-a4a7-4dac-ac3d-ef3a99c134fe",
   "metadata": {},
   "outputs": [],
   "source": [
    "df_predict = simulate_euler(data=df_test, model=ship_model, ek=ek)"
   ]
  },
  {
   "cell_type": "code",
   "execution_count": null,
   "id": "6f98f822-1445-46af-9689-cc3f71912eeb",
   "metadata": {},
   "outputs": [],
   "source": [
    "df_predict2 = simulate_euler(data=df_test, model=ship_model2, ek=ek)"
   ]
  },
  {
   "cell_type": "code",
   "execution_count": null,
   "id": "a566fe22-43a9-42f7-b8f5-0b9a4abb2d4d",
   "metadata": {},
   "outputs": [],
   "source": [
    "dataframes = {\n",
    "    'Experiment' : df_test,\n",
    "    'Prediction' : df_predict,\n",
    "    'Prediction2' : df_predict2,\n",
    "    \n",
    "}\n",
    "\n",
    "styles = {\n",
    "    'Experiment' : {'style':'r--'},\n",
    "    'Prediction' : {'style':'g-'},\n",
    "    'Prediction2' : {'style':'b-'},\n",
    "}"
   ]
  },
  {
   "cell_type": "code",
   "execution_count": null,
   "id": "3b0c56c5-e0f3-4f0b-ad5e-d57071c91942",
   "metadata": {},
   "outputs": [],
   "source": [
    "track_plots(dataframes, lpp=ship_data['L'], beam=ship_data['B'],  styles=styles, N=7);"
   ]
  },
  {
   "cell_type": "code",
   "execution_count": null,
   "id": "6c9ac758-ed4e-4d7f-a7d9-4d57cf602bba",
   "metadata": {},
   "outputs": [],
   "source": [
    "plot(dataframes=dataframes, keys=['delta','psi','y0','u','v','r'], ncols=1, styles=styles);"
   ]
  },
  {
   "cell_type": "code",
   "execution_count": null,
   "id": "4ec76126-bcb0-4779-815a-3b24c303868c",
   "metadata": {},
   "outputs": [],
   "source": [
    "parameters"
   ]
  },
  {
   "cell_type": "code",
   "execution_count": null,
   "id": "c13c5b77-3102-43f0-9ab7-e311b24f314a",
   "metadata": {},
   "outputs": [],
   "source": [
    "import statsmodels.api as sm\n",
    "import seaborn as sns\n",
    "\n",
    "X = pd.DataFrame()\n",
    "N = 1000\n",
    "x1 = X['x1'] = np.linspace(0,1,N)\n",
    "x2 = X['x2'] = X['x1'] + np.random.normal(scale=0.05, size=N)\n",
    "y = x1 + x2 + np.random.normal(scale=0.1, size=N)\n",
    "\n",
    "data = X.copy()\n",
    "data['y'] = y\n",
    "\n",
    "sns.pairplot(data=data)"
   ]
  },
  {
   "cell_type": "code",
   "execution_count": null,
   "id": "fe64cd31-979a-4b33-9403-70e6b3cc36fc",
   "metadata": {},
   "outputs": [],
   "source": [
    "data.corr()"
   ]
  },
  {
   "cell_type": "code",
   "execution_count": null,
   "id": "2ce6256d-2654-4f1d-84cc-d96ad54e5f6f",
   "metadata": {},
   "outputs": [],
   "source": [
    "model1 = sm.OLS(y,X)\n",
    "result = model1.fit()\n",
    "result.summary()"
   ]
  },
  {
   "cell_type": "code",
   "execution_count": null,
   "id": "b5531edc-e84e-47a0-8951-7cc1e7fd1181",
   "metadata": {},
   "outputs": [],
   "source": [
    "y2 = y.diff()[1:].copy()\n",
    "X2 = X.diff().iloc[1:].copy()\n",
    "model2 = sm.OLS(y2,X2)\n",
    "result2 = model2.fit()\n",
    "result2.summary()"
   ]
  },
  {
   "cell_type": "code",
   "execution_count": null,
   "id": "92b19299-59a0-48ee-811b-04b59955f87f",
   "metadata": {},
   "outputs": [],
   "source": [
    "X3 = X[['x1']]\n",
    "model3 = sm.OLS(y,X3)\n",
    "result3 = model3.fit()\n",
    "result3.summary()"
   ]
  },
  {
   "cell_type": "code",
   "execution_count": null,
   "id": "fd8d56fa-d326-4e1d-af4e-839c403eecfd",
   "metadata": {},
   "outputs": [],
   "source": [
    "X.corr()"
   ]
  },
  {
   "cell_type": "code",
   "execution_count": null,
   "id": "a5ee8cae-d1c6-4775-8900-b85e1278041f",
   "metadata": {},
   "outputs": [],
   "source": [
    "X2.corr()"
   ]
  },
  {
   "cell_type": "code",
   "execution_count": null,
   "id": "8b66cd32-e4c0-403e-ba69-376a2382bce0",
   "metadata": {},
   "outputs": [],
   "source": [
    "result.condition_number"
   ]
  },
  {
   "cell_type": "code",
   "execution_count": null,
   "id": "94eaa9fa-7cec-45e2-a8dc-a896544bbc87",
   "metadata": {},
   "outputs": [],
   "source": [
    "result2.condition_number"
   ]
  },
  {
   "cell_type": "code",
   "execution_count": null,
   "id": "387b9ab0-ffc6-4926-963a-a4c67b8929fe",
   "metadata": {},
   "outputs": [],
   "source": []
  }
 ],
 "metadata": {
  "citation-manager": {
   "items": {}
  },
  "kernelspec": {
   "display_name": "wPCC_pipeline",
   "language": "python",
   "name": "python3"
  },
  "language_info": {
   "codemirror_mode": {
    "name": "ipython",
    "version": 3
   },
   "file_extension": ".py",
   "mimetype": "text/x-python",
   "name": "python",
   "nbconvert_exporter": "python",
   "pygments_lexer": "ipython3",
   "version": "3.7.9"
  }
 },
 "nbformat": 4,
 "nbformat_minor": 5
}
