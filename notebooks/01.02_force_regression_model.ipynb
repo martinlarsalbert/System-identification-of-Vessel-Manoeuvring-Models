{
 "cells": [
  {
   "cell_type": "markdown",
   "id": "4f5da150-0470-4fbd-9766-336a7cf26d4a",
   "metadata": {},
   "source": [
    "# Prediction with ForceRegression model"
   ]
  },
  {
   "cell_type": "code",
   "execution_count": null,
   "id": "124b5734-3a38-42eb-88a7-de093b9e9afb",
   "metadata": {},
   "outputs": [],
   "source": [
    "%load_ext autoreload\n",
    "%autoreload 2\n",
    "%reload_kedro\n",
    "import pandas as pd\n",
    "from src.models.vmm import ModelSimulator\n",
    "import matplotlib.pyplot as plt\n",
    "from src.visualization.plot import track_plots, plot\n",
    "import kedro\n",
    "\n",
    "import matplotlib\n",
    "matplotlib.rcParams[\"figure.figsize\"] = (15,4)"
   ]
  },
  {
   "cell_type": "code",
   "execution_count": null,
   "id": "1a13c8e3-88c8-4ca9-be73-8d0b38b27957",
   "metadata": {},
   "outputs": [],
   "source": [
    "id = \"22774\"\n",
    "df = catalog.load(f\"{id}.data\")\n",
    "df_smooth = catalog.load(f\"{id}.data_ek_smooth\")\n",
    "model = catalog.load(\"force_regression.model\")"
   ]
  },
  {
   "cell_type": "code",
   "execution_count": null,
   "id": "605cdc19-db3f-4da7-8c46-4a487a9c37ed",
   "metadata": {},
   "outputs": [],
   "source": [
    "result = model.simulate(df_=df_smooth)"
   ]
  },
  {
   "cell_type": "code",
   "execution_count": null,
   "id": "e4da8a99-da74-4212-a56e-addff0add9e5",
   "metadata": {},
   "outputs": [],
   "source": [
    "dataframes = {\n",
    "'model test' : df,\n",
    "'simulation (model test)' : result.result,    \n",
    "}\n",
    "\n",
    "fig,ax=plt.subplots()\n",
    "track_plots(dataframes=dataframes, lpp=model.ship_parameters['L'], beam=model.ship_parameters['B'], ax=ax);\n",
    "\n",
    "plot(dataframes, keys=result.result.columns);"
   ]
  },
  {
   "cell_type": "code",
   "execution_count": null,
   "id": "77d2d05c-a6fb-4bab-a0ec-e3833ebded4c",
   "metadata": {},
   "outputs": [],
   "source": []
  }
 ],
 "metadata": {
  "kernelspec": {
   "display_name": "wPCC_pipeline",
   "language": "python",
   "name": "python3"
  },
  "language_info": {
   "codemirror_mode": {
    "name": "ipython",
    "version": 3
   },
   "file_extension": ".py",
   "mimetype": "text/x-python",
   "name": "python",
   "nbconvert_exporter": "python",
   "pygments_lexer": "ipython3",
   "version": "3.7.9"
  }
 },
 "nbformat": 4,
 "nbformat_minor": 5
}
