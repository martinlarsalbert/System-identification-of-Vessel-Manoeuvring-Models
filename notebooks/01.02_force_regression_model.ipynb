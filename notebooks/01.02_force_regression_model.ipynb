{
 "cells": [
  {
   "cell_type": "markdown",
   "id": "4f5da150-0470-4fbd-9766-336a7cf26d4a",
   "metadata": {},
   "source": [
    "# Prediction with ForceRegression model"
   ]
  },
  {
   "cell_type": "code",
   "execution_count": null,
   "id": "124b5734-3a38-42eb-88a7-de093b9e9afb",
   "metadata": {},
   "outputs": [],
   "source": [
    "# %load imports.py\n",
    "%load_ext autoreload\n",
    "%autoreload 2\n",
    "%reload_kedro\n",
    "%config Completer.use_jedi = False  ## (To fix autocomplete)\n",
    "import pandas as pd\n",
    "from src.models.vmm import ModelSimulator\n",
    "import matplotlib.pyplot as plt\n",
    "from src.visualization.plot import track_plots, plot, captive_plot\n",
    "import kedro\n",
    "import numpy as np\n",
    "import os.path\n",
    "import anyconfig\n",
    "\n",
    "import matplotlib\n",
    "matplotlib.rcParams[\"figure.figsize\"] = (15,4)\n",
    "from src.symbols import *\n",
    "\n",
    "# Read configs:\n",
    "conf_path = os.path.join(\"../conf/base/\")\n",
    "runs_globals_path = os.path.join(\n",
    "    conf_path,\n",
    "    \"runs_globals.yml\",\n",
    ")\n",
    "\n",
    "runs_globals = anyconfig.load(runs_globals_path)\n",
    "model_test_ids = runs_globals[\"model_test_ids\"]\n",
    "\n",
    "join_globals_path = os.path.join(\n",
    "    conf_path,\n",
    "    \"join_globals.yml\",\n",
    ")\n",
    "\n",
    "joins = runs_globals[\"joins\"]\n",
    "join_runs_dict = anyconfig.load(join_globals_path)\n",
    "\n",
    "globals_path = os.path.join(\n",
    "    conf_path,\n",
    "    \"globals.yml\",\n",
    ")\n",
    "global_variables = anyconfig.load(globals_path)\n",
    "\n",
    "\n",
    "\n",
    "vmms = global_variables[\"vmms\"]\n",
    "only_joined = global_variables[\n",
    "    \"only_joined\"\n",
    "]  # (regress/predict with only models from joined runs)S"
   ]
  },
  {
   "cell_type": "code",
   "execution_count": null,
   "id": "1a13c8e3-88c8-4ca9-be73-8d0b38b27957",
   "metadata": {},
   "outputs": [],
   "source": [
    "#id = \"22773\"\n",
    "id = \"22774\"\n",
    "vmm_name = \"vmm_martin\"\n",
    "#vmm_name = \"vmm_martins_simple\"\n",
    "\n",
    "df = catalog.load(f\"{id}.data\")\n",
    "df_smooth = catalog.load(f\"{id}.data_ek_smooth\")\n",
    "model = catalog.load(f\"{vmm_name}.force_regression.model\")\n",
    "regression = catalog.load(f\"{vmm_name}.force_regression.regression\")\n",
    "df_VCT = catalog.load(\"force_regression.data_scaled\")\n",
    "ship_data = catalog.load(\"ship_data\")\n",
    "\n",
    "model_motion_regression = catalog.load(f\"{vmm_name}.motion_regression.joined.model\")\n",
    "\n",
    "\n",
    "motion_regression = catalog.load(f\"{ vmm_name }.motion_regression.joined.regression\")\n",
    "force_regression = catalog.load(f\"{ vmm_name }.force_regression.regression\")\n",
    "#keys_forces = ['fx','fy','fz']\n",
    "#scale_factor=ship_data['scale_factor']\n",
    "#forces=df_VCT[keys_forces]\n",
    "#df_VCT[keys_forces] = scale_force_to_model_scale(forces=forces, scale_factor=scale_factor, **df_VCT)\n",
    "#keys_moments = ['mx','my','mz']\n",
    "#df_VCT[keys_moments] = scale_force_to_model_scale(df_VCT[keys_moments], scale_factor=scale_factor, **df_VCT)\n"
   ]
  },
  {
   "cell_type": "code",
   "execution_count": null,
   "id": "199c76b6-aa76-434b-b836-08e1aa5e46da",
   "metadata": {},
   "outputs": [],
   "source": [
    "motion_regression.parameters"
   ]
  },
  {
   "cell_type": "code",
   "execution_count": null,
   "id": "7acfe537-444e-44e8-add4-4eafcd4b207d",
   "metadata": {},
   "outputs": [],
   "source": [
    "motion_regression.model_X.summary()"
   ]
  },
  {
   "cell_type": "code",
   "execution_count": null,
   "id": "a0dd29c4-ea44-42d3-b1e2-6718b5135210",
   "metadata": {},
   "outputs": [],
   "source": [
    "force_regression.parameters"
   ]
  },
  {
   "cell_type": "code",
   "execution_count": null,
   "id": "7bfd96ba-46b2-40a1-8bb5-6a20e3015318",
   "metadata": {},
   "outputs": [],
   "source": [
    "force_regression.model_Y.summary()"
   ]
  },
  {
   "cell_type": "code",
   "execution_count": null,
   "id": "14d164e2-b83d-49d7-bac5-0c62aa21bf0d",
   "metadata": {},
   "outputs": [],
   "source": [
    "force_regression.model_Y.cov_HC0"
   ]
  },
  {
   "cell_type": "code",
   "execution_count": null,
   "id": "e4984a34-cec7-46cc-9c61-da15f8c27fed",
   "metadata": {},
   "outputs": [],
   "source": [
    "force_regression.model_Y.bse"
   ]
  },
  {
   "cell_type": "code",
   "execution_count": null,
   "id": "ffcf92a9-da15-4614-af29-d9a7747fc698",
   "metadata": {},
   "outputs": [],
   "source": [
    "from scipy.stats import norm, multivariate_normal"
   ]
  },
  {
   "cell_type": "code",
   "execution_count": null,
   "id": "804cfa72-42ee-4c71-81be-a221a3ded6db",
   "metadata": {},
   "outputs": [],
   "source": [
    "rv = norm(loc=force_regression.model_Y.params['Yv'], scale=force_regression.model_Y.bse['Yv'])\n",
    "rv.interval(alpha=0.95)"
   ]
  },
  {
   "cell_type": "code",
   "execution_count": null,
   "id": "b617d072-8ace-44cf-87b9-c28a9238f187",
   "metadata": {},
   "outputs": [],
   "source": [
    "bse = force_regression.model_X.bse\n",
    "\n",
    "means = force_regression.model_X.params\n",
    "means = means.append(force_regression.model_Y.params)\n",
    "means = means.append(force_regression.model_N.params)\n",
    "\n",
    "stds = force_regression.model_X.bse\n",
    "stds = stds.append(force_regression.model_Y.bse)\n",
    "stds = stds.append(force_regression.model_N.bse)\n",
    "\n",
    "mask = stds>10**-10\n",
    "means=means[mask].copy()\n",
    "stds=stds[mask].copy()"
   ]
  },
  {
   "cell_type": "code",
   "execution_count": null,
   "id": "db684316-b336-4e65-a72d-ae56f1d990e7",
   "metadata": {},
   "outputs": [],
   "source": [
    "cov = np.diag(stds.values**2)\n",
    "rv = multivariate_normal(mean=means, cov=cov)"
   ]
  },
  {
   "cell_type": "code",
   "execution_count": null,
   "id": "e4ed8090-724f-4611-826d-087931f1836e",
   "metadata": {},
   "outputs": [],
   "source": [
    "df_parameter_variation = pd.DataFrame(data=rv.rvs(10), columns=means.index)"
   ]
  },
  {
   "cell_type": "code",
   "execution_count": null,
   "id": "64bfc576-887a-4fea-9951-c7c753a744ce",
   "metadata": {},
   "outputs": [],
   "source": [
    "df_parameter_variation.head()"
   ]
  },
  {
   "cell_type": "code",
   "execution_count": null,
   "id": "ad84aea8-73ed-46eb-81aa-8bc0fbe85193",
   "metadata": {},
   "outputs": [],
   "source": [
    "models = {}\n",
    "results = {}\n",
    "#for index, parameters in df_parameter_variation.iterrows():\n",
    "#    \n",
    "#    model_ = model.copy()\n",
    "#    model_.parameters.update(parameters)\n",
    "#    \n",
    "#    try:\n",
    "#        result = model_.simulate(df_=df_smooth)\n",
    "#    except:\n",
    "#        continue\n",
    "#        \n",
    "#    models[index] = model_\n",
    "#    results[index] = result.result\n",
    "#    "
   ]
  },
  {
   "cell_type": "code",
   "execution_count": null,
   "id": "704c5ddb-d7c4-4b4b-8eed-0c2707038924",
   "metadata": {},
   "outputs": [],
   "source": [
    "#dataframes = {\n",
    "#'model test' : df_smooth,\n",
    "#}\n",
    "#\n",
    "#dataframes.update(results)\n",
    "#\n",
    "#styles = {key:{'style':'r-','alpha':0.3} for key in dataframes}\n",
    "#styles['model test'] = {'style':'b-', 'alpha':1, 'zorder':-10}\n",
    "#\n",
    "#fig,ax=plt.subplots()\n",
    "#track_plots(dataframes=dataframes, lpp=model.ship_parameters['L'], beam=model.ship_parameters['B'], ax=ax, plot_boats=False, styles=styles);\n",
    "#\n",
    "#plot(dataframes, keys=result.result.columns);"
   ]
  },
  {
   "cell_type": "code",
   "execution_count": null,
   "id": "3f5730c8-de14-41ec-b784-6952636e1112",
   "metadata": {},
   "outputs": [],
   "source": [
    "parameters = force_regression.parameters\n",
    "parameters['yerr'] = (parameters['$conf_{higher}$'] - parameters['$conf_{lower}$']).abs()\n",
    "parameters.plot.bar(y='regressed', yerr=parameters['yerr'])"
   ]
  },
  {
   "cell_type": "code",
   "execution_count": null,
   "id": "de86d178-5874-4840-90b1-7e59497d6873",
   "metadata": {},
   "outputs": [],
   "source": [
    "parameters.plot.bar(y='$P_{value}$')"
   ]
  },
  {
   "cell_type": "code",
   "execution_count": null,
   "id": "6dd364f0-5746-4074-b2bd-ef09e273ded4",
   "metadata": {},
   "outputs": [],
   "source": [
    "df_VCT[['u','v','V','r','fx','fy','mz']].abs().max()"
   ]
  },
  {
   "cell_type": "code",
   "execution_count": null,
   "id": "d4bbcb24-788f-4854-999a-b001a682c0ed",
   "metadata": {},
   "outputs": [],
   "source": [
    "df_parameters = pd.DataFrame()\n",
    "df_parameters['force regression'] = model.parameters\n",
    "df_parameters['motion regression'] = model_motion_regression.parameters\n",
    "df_parameters"
   ]
  },
  {
   "cell_type": "code",
   "execution_count": null,
   "id": "5a9f653c-ab51-4788-bcdc-62ba50f11a86",
   "metadata": {},
   "outputs": [],
   "source": [
    "drops = [key for key in df_parameters.index if 'dot' in key]\n",
    "drops.append('Xthrust')\n",
    "df_parameters_plot = df_parameters.drop(index=drops)\n",
    "df_parameters_plot.plot(kind='bar')"
   ]
  },
  {
   "cell_type": "code",
   "execution_count": null,
   "id": "605cdc19-db3f-4da7-8c46-4a487a9c37ed",
   "metadata": {},
   "outputs": [],
   "source": [
    "#model.parameters['Xu'] = -0.000737*1.7\n",
    "result = model.simulate(df_=df_smooth)\n",
    "result2 = model_motion_regression.simulate(df_=df_smooth)"
   ]
  },
  {
   "cell_type": "code",
   "execution_count": null,
   "id": "ac05d744-2588-4755-88d6-f11c98dd2df6",
   "metadata": {},
   "outputs": [],
   "source": [
    "#model_hybrid = model.copy()\n",
    "#steals = ['Xvr']\n",
    "#\n",
    "#for steal in steals:\n",
    "#    model_hybrid.parameters[steal] = model_motion_regression.parameters[steal]\n",
    "#    \n",
    "#result_hybrid = model_hybrid.simulate(df_=df_smooth)"
   ]
  },
  {
   "cell_type": "code",
   "execution_count": null,
   "id": "e4da8a99-da74-4212-a56e-addff0add9e5",
   "metadata": {},
   "outputs": [],
   "source": [
    "dataframes = {\n",
    "'model test' : df_smooth,\n",
    "'simulation (force regression)' : result.result,  \n",
    "'simulation (motion regression)' : result2.result,  \n",
    "#'simulation (hybrid)' : result_hybrid.result,\n",
    "\n",
    "}\n",
    "\n",
    "fig,ax=plt.subplots()\n",
    "track_plots(dataframes=dataframes, lpp=model.ship_parameters['L'], beam=model.ship_parameters['B'], ax=ax, plot_boats=False);\n",
    "\n",
    "plot(dataframes, keys=result.result.columns);"
   ]
  },
  {
   "cell_type": "code",
   "execution_count": null,
   "id": "09f7b3ef-7a54-480a-9d2f-7a8aaceea8f6",
   "metadata": {},
   "outputs": [],
   "source": [
    "catalog.load(f\"{ vmm_name }.motion_regression.joined.{id}.simulation_accuracy\")"
   ]
  },
  {
   "cell_type": "code",
   "execution_count": null,
   "id": "b1df7705-8fb6-4198-9a08-c121d9472c75",
   "metadata": {},
   "outputs": [],
   "source": [
    "regressions = global_variables['regressions']\n",
    "\n",
    "regression_names = ['motion_regression','force_regression']\n",
    "\n",
    "df_accuracies = pd.DataFrame()\n",
    "\n",
    "for vmm_name in vmms:\n",
    "    for model_test_id in model_test_ids:\n",
    "        \n",
    "        file_paths = []\n",
    "        file_paths.append(f\"{ vmm_name }.motion_regression.joined.{model_test_id}.simulation_accuracy\")\n",
    "        file_paths.append(f\"{ vmm_name }.force_regression.{model_test_id}.simulation_accuracy\")\n",
    "        \n",
    "        \n",
    "        for regression,file_path in zip(regression_names, file_paths):\n",
    "            try:\n",
    "                accuracy = catalog.load(file_path)\n",
    "            except:\n",
    "                continue\n",
    "            \n",
    "            accuracy = pd.Series(accuracy)\n",
    "            accuracy['total'] = accuracy.mean()\n",
    "            \n",
    "            accuracy['vmm'] = vmm_name\n",
    "            accuracy['regression'] = regression\n",
    "            accuracy['model test'] = model_test_id\n",
    "            \n",
    "            df_accuracies = df_accuracies.append(accuracy, ignore_index=True)\n",
    "        \n",
    "\n",
    "\n"
   ]
  },
  {
   "cell_type": "code",
   "execution_count": null,
   "id": "f8a6e256-f630-44ee-b42e-eff113295d02",
   "metadata": {},
   "outputs": [],
   "source": [
    "df_compare = df_accuracies.groupby(by=['vmm','regression']).mean().sort_values(by='total', ascending=True)\n",
    "df_compare"
   ]
  },
  {
   "cell_type": "code",
   "execution_count": null,
   "id": "60a955ab-7066-4f87-8db5-b332a30545ee",
   "metadata": {},
   "outputs": [],
   "source": [
    "df_compare['total'].plot.bar()"
   ]
  },
  {
   "cell_type": "code",
   "execution_count": null,
   "id": "d8c13ea4-59c3-4c91-b20b-e5474b77b6e6",
   "metadata": {},
   "outputs": [],
   "source": [
    "df_compare.reset_index().pivot(index=['vmm'], columns=['regression'], values='total').plot.bar();"
   ]
  },
  {
   "cell_type": "code",
   "execution_count": null,
   "id": "97dca238-a2f5-4c9c-97ef-08d4aee9b73a",
   "metadata": {},
   "outputs": [],
   "source": []
  }
 ],
 "metadata": {
  "kernelspec": {
   "display_name": "wPCC_pipeline",
   "language": "python",
   "name": "python3"
  },
  "language_info": {
   "codemirror_mode": {
    "name": "ipython",
    "version": 3
   },
   "file_extension": ".py",
   "mimetype": "text/x-python",
   "name": "python",
   "nbconvert_exporter": "python",
   "pygments_lexer": "ipython3",
   "version": "3.7.9"
  }
 },
 "nbformat": 4,
 "nbformat_minor": 5
}
