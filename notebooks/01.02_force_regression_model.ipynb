{
 "cells": [
  {
   "cell_type": "markdown",
   "id": "4f5da150-0470-4fbd-9766-336a7cf26d4a",
   "metadata": {},
   "source": [
    "# Prediction with ForceRegression model"
   ]
  },
  {
   "cell_type": "code",
   "execution_count": null,
   "id": "124b5734-3a38-42eb-88a7-de093b9e9afb",
   "metadata": {},
   "outputs": [],
   "source": [
    "%load_ext autoreload\n",
    "%autoreload 2\n",
    "%reload_kedro\n",
    "import pandas as pd\n",
    "from src.models.vmm import ModelSimulator\n",
    "import matplotlib.pyplot as plt\n",
    "from src.visualization.plot import track_plots, plot, captive_plot\n",
    "import kedro\n",
    "import numpy as np\n",
    "\n",
    "import matplotlib\n",
    "matplotlib.rcParams[\"figure.figsize\"] = (15,4)\n",
    "\n",
    "from src.vct_scaling import scale_force_to_model_scale, scale_moment_to_model_scale\n"
   ]
  },
  {
   "cell_type": "code",
   "execution_count": null,
   "id": "1a13c8e3-88c8-4ca9-be73-8d0b38b27957",
   "metadata": {},
   "outputs": [],
   "source": [
    "id = \"22773\"\n",
    "df = catalog.load(f\"{id}.data\")\n",
    "df_smooth = catalog.load(f\"{id}.data_ek_smooth\")\n",
    "model = catalog.load(\"vmm_martins_simple.force_regression.model\")\n",
    "regression = catalog.load(\"vmm_martins_simple.force_regression.regression\")\n",
    "df_VCT = catalog.load(\"force_regression.data_scaled\")\n",
    "ship_data = catalog.load(\"ship_data\")\n",
    "\n",
    "model_motion_regression = catalog.load(\"vmm_martins_simple.motion_regression.joined.model\")\n",
    "\n",
    "#keys_forces = ['fx','fy','fz']\n",
    "#scale_factor=ship_data['scale_factor']\n",
    "#forces=df_VCT[keys_forces]\n",
    "#df_VCT[keys_forces] = scale_force_to_model_scale(forces=forces, scale_factor=scale_factor, **df_VCT)\n",
    "#keys_moments = ['mx','my','mz']\n",
    "#df_VCT[keys_moments] = scale_force_to_model_scale(df_VCT[keys_moments], scale_factor=scale_factor, **df_VCT)\n"
   ]
  },
  {
   "cell_type": "code",
   "execution_count": null,
   "id": "6dd364f0-5746-4074-b2bd-ef09e273ded4",
   "metadata": {},
   "outputs": [],
   "source": [
    "df_VCT[['u','v','V','r','fx','fy','mz']].abs().max()"
   ]
  },
  {
   "cell_type": "code",
   "execution_count": null,
   "id": "d4bbcb24-788f-4854-999a-b001a682c0ed",
   "metadata": {},
   "outputs": [],
   "source": [
    "model.parameters"
   ]
  },
  {
   "cell_type": "code",
   "execution_count": null,
   "id": "605cdc19-db3f-4da7-8c46-4a487a9c37ed",
   "metadata": {},
   "outputs": [],
   "source": [
    "#model.parameters['Xu'] = -0.000737*1.7\n",
    "result = model.simulate(df_=df_smooth)"
   ]
  },
  {
   "cell_type": "code",
   "execution_count": null,
   "id": "4ff52559-1f3f-459e-994b-0f2d90e0fabe",
   "metadata": {},
   "outputs": [],
   "source": [
    "result.result.plot(y='U')"
   ]
  },
  {
   "cell_type": "code",
   "execution_count": null,
   "id": "e4da8a99-da74-4212-a56e-addff0add9e5",
   "metadata": {},
   "outputs": [],
   "source": [
    "dataframes = {\n",
    "'model test' : df_smooth,\n",
    "'simulation (model test)' : result.result,    \n",
    "}\n",
    "\n",
    "fig,ax=plt.subplots()\n",
    "track_plots(dataframes=dataframes, lpp=model.ship_parameters['L'], beam=model.ship_parameters['B'], ax=ax, plot_boats=False);\n",
    "\n",
    "plot(dataframes, keys=result.result.columns);"
   ]
  },
  {
   "cell_type": "code",
   "execution_count": null,
   "id": "88b79911-60d2-4d53-b4d6-7051e3b7aebb",
   "metadata": {},
   "outputs": [],
   "source": [
    "data = df_VCT[['fx','fy','mz','u','v','V','r','beta','delta','thrust','test type']].copy()\n",
    "df_model = data.copy()\n",
    "df_model[['fx','fy','mz']] = model.forces(inputs=df_model)\n",
    "df_model['item'] = 'regression'"
   ]
  },
  {
   "cell_type": "code",
   "execution_count": null,
   "id": "77d2d05c-a6fb-4bab-a0ec-e3833ebded4c",
   "metadata": {},
   "outputs": [],
   "source": [
    "df = data.copy()\n",
    "df['item'] = 'VCT'\n",
    "df = df.append(df_model)\n",
    "\n",
    "captive_plot(df, styles=['.','-'])"
   ]
  },
  {
   "cell_type": "code",
   "execution_count": null,
   "id": "1232a2fa-b326-4fe5-b17c-a2c83f45ddc3",
   "metadata": {},
   "outputs": [],
   "source": []
  },
  {
   "cell_type": "code",
   "execution_count": null,
   "id": "9b7dd46e-2f64-4ca5-93bf-73565cd66da1",
   "metadata": {},
   "outputs": [],
   "source": []
  },
  {
   "cell_type": "code",
   "execution_count": null,
   "id": "2eac4cc4-5cfb-4c29-927a-e5bc9449d933",
   "metadata": {},
   "outputs": [],
   "source": []
  },
  {
   "cell_type": "code",
   "execution_count": null,
   "id": "af325fc5-741d-4795-9e54-2c4d9a857216",
   "metadata": {},
   "outputs": [],
   "source": [
    "from wPCC_pipeline.pipelines.prediction.nodes import track_plot"
   ]
  },
  {
   "cell_type": "code",
   "execution_count": null,
   "id": "04a229ab-1815-4f38-befc-86b3769ed211",
   "metadata": {},
   "outputs": [],
   "source": [
    "vmm = \"vmm_martin\"\n",
    "regression = \"motion_regression\"\n",
    "id = 22637\n",
    "results = catalog.load(f\"vmm_martin.motion_regression.22637.data_resimulate\")\n",
    "data = catalog.load(\"22637.data_ek_smooth\")\n",
    "ship_data = catalog.load(\"ship_data\")\n",
    "\n",
    "track_plot(data=data, results=results, ship_data=ship_data);"
   ]
  },
  {
   "cell_type": "code",
   "execution_count": null,
   "id": "2c298db3-0edf-4310-983b-a5644a9de758",
   "metadata": {},
   "outputs": [],
   "source": [
    "#id = 22612\n",
    "id = 22613\n",
    "data_raw = catalog.load(f\"{id}.raw_data\")\n",
    "data_lowpass = catalog.load(f\"{id}.data_lowpass\")\n",
    "data_ek_smooth = catalog.load(f\"{id}.data_ek_smooth\")\n",
    "data_ek_filter = catalog.load(f\"{id}.data_ek_filter\")\n",
    "data = catalog.load(f\"{id}.data\")\n",
    "\n",
    "fig,ax=plt.subplots()\n",
    "\n",
    "data_lowpass.plot(y='u', label='lowpass', ax=ax)\n",
    "data.plot(y='u', label='data', ax=ax)\n",
    "data_ek_smooth.plot(y='u', label='smooth', ax=ax)\n",
    "data_ek_filter.plot(y='u', label='EKF', ax=ax)\n",
    "\n",
    "data_raw.index-=data_raw.index[0]\n",
    "data_raw['dx0'] = np.gradient(data_raw['x0'],data_raw.index)\n",
    "data_raw.rolling(window=20).mean().plot(y='dx0', label='raw', ax=ax, zorder=-10)\n",
    "\n",
    "ax.set_ylim(0.9,1.05)"
   ]
  },
  {
   "cell_type": "code",
   "execution_count": null,
   "id": "a237fd8c-3b6e-4546-b591-035ae1d109df",
   "metadata": {},
   "outputs": [],
   "source": [
    "from wPCC_pipeline.pipelines.preprocess.nodes import filter, assemble_data, add_thrust\n",
    "from wPCC_pipeline.pipelines.extended_kalman.nodes import create_extended_kalman\n",
    "from wPCC_pipeline.pipelines.brix.nodes import initial_parameters\n",
    "from wPCC_pipeline.pipelines.filter_data_extended_kalman.nodes import extended_kalman_filter,extended_kalman_smoother"
   ]
  },
  {
   "cell_type": "code",
   "execution_count": null,
   "id": "be03682e-b4b7-4f01-afd7-25a6fc0baa9b",
   "metadata": {},
   "outputs": [],
   "source": [
    "fig,ax=plt.subplots()\n",
    "thrust_channels = catalog.load(\"params:thrust_channels\")\n",
    "data_with_thrust = add_thrust(df=data_raw, thrust_channels=thrust_channels)\n",
    "df_lowpass = filter(df=data_with_thrust, cutoff=10, order=1)\n",
    "\n",
    "df_lowpass.plot(y='u', label='lowpass', ax=ax)"
   ]
  },
  {
   "cell_type": "code",
   "execution_count": null,
   "id": "ad0a441e-9f36-4e05-b628-2bfeb0c459d7",
   "metadata": {},
   "outputs": [],
   "source": [
    "df_data = assemble_data(df_lowpass=df_lowpass, raw_data=data_raw)"
   ]
  },
  {
   "cell_type": "code",
   "execution_count": null,
   "id": "89372a84-cd96-4555-a1b3-31fdd51a1f82",
   "metadata": {},
   "outputs": [],
   "source": [
    "ship_data = catalog.load(\"ship_data\")\n",
    "vmm = catalog.load(\"vmm_martin\")\n",
    "                   \n",
    "parameters = initial_parameters(ship_data=ship_data)\n",
    "\n",
    "ek = create_extended_kalman(parameters=parameters, ship_data=ship_data, vmm = vmm) "
   ]
  },
  {
   "cell_type": "code",
   "execution_count": null,
   "id": "cbeddec9-82d3-4dfe-aea5-07ee5e8035e0",
   "metadata": {},
   "outputs": [],
   "source": [
    "variance_u = 0.1\n",
    "variance_v = 0.1\n",
    "variance_r = np.deg2rad(0.1)\n",
    "Qd = np.diag([variance_u, variance_v, variance_r])  # process variances: u,v,r\n",
    "\n",
    "error_max_pos = 0.05\n",
    "sigma_pos = error_max_pos / 3\n",
    "variance_pos = sigma_pos ** 2\n",
    "\n",
    "error_max_psi = np.deg2rad(0.5)\n",
    "sigma_psi = error_max_psi / 3\n",
    "variance_psi = sigma_psi ** 2\n",
    "\n",
    "Rd = np.diag([variance_pos, variance_pos, variance_psi])\n",
    "P_prd = np.diag(\n",
    "    [\n",
    "        variance_pos,\n",
    "        variance_pos,\n",
    "        variance_psi,\n",
    "        variance_u,\n",
    "        variance_v,\n",
    "        variance_r,\n",
    "    ]\n",
    ")\n",
    "\n",
    "covariance_matrixes = {\n",
    "        \"P_prd\": P_prd.tolist(),\n",
    "        \"Qd\": Qd.tolist(),\n",
    "        \"Rd\": Rd.tolist(),\n",
    "    }\n",
    "\n",
    "\n",
    "ek_filtered, data_ek_filter = extended_kalman_filter(ek=ek, data=df_data, covariance_matrixes=covariance_matrixes)"
   ]
  },
  {
   "cell_type": "code",
   "execution_count": null,
   "id": "65f2cc33-113f-4a7e-b431-4f0876ab9760",
   "metadata": {},
   "outputs": [],
   "source": [
    "ek_smooth, data_ek_smooth = extended_kalman_smoother(ek=ek)"
   ]
  },
  {
   "cell_type": "code",
   "execution_count": null,
   "id": "315422b7-28aa-4eaa-8b4d-e6a26288f8b5",
   "metadata": {},
   "outputs": [],
   "source": [
    "fig,ax=plt.subplots()\n",
    "\n",
    "df_lowpass.plot(y='u', label='lowpass', ax=ax)\n",
    "df_data.plot(y='u', label='data', ax=ax)\n",
    "data_ek_filter.plot(y='u', label='EKF', ax=ax)\n",
    "data_ek_smooth.plot(y='u', label='smooth', ax=ax)\n",
    "\n",
    "#ax.set_ylim(0.9,1.05)"
   ]
  },
  {
   "cell_type": "code",
   "execution_count": null,
   "id": "ccc1c1cb-4fb3-4230-81db-31c2f950a86c",
   "metadata": {},
   "outputs": [],
   "source": []
  }
 ],
 "metadata": {
  "kernelspec": {
   "display_name": "wPCC_pipeline",
   "language": "python",
   "name": "python3"
  },
  "language_info": {
   "codemirror_mode": {
    "name": "ipython",
    "version": 3
   },
   "file_extension": ".py",
   "mimetype": "text/x-python",
   "name": "python",
   "nbconvert_exporter": "python",
   "pygments_lexer": "ipython3",
   "version": "3.7.9"
  }
 },
 "nbformat": 4,
 "nbformat_minor": 5
}
