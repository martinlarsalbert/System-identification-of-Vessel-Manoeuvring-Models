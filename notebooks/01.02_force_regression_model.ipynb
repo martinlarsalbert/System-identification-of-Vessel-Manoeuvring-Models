{
 "cells": [
  {
   "cell_type": "markdown",
   "id": "4f5da150-0470-4fbd-9766-336a7cf26d4a",
   "metadata": {},
   "source": [
    "# Prediction with ForceRegression model"
   ]
  },
  {
   "cell_type": "code",
   "execution_count": null,
   "id": "124b5734-3a38-42eb-88a7-de093b9e9afb",
   "metadata": {},
   "outputs": [],
   "source": [
    "%load_ext autoreload\n",
    "%autoreload 2\n",
    "%reload_kedro\n",
    "import pandas as pd\n",
    "from src.models.vmm import ModelSimulator\n",
    "import matplotlib.pyplot as plt\n",
    "from src.visualization.plot import track_plots, plot, captive_plot\n",
    "import kedro\n",
    "import numpy as np\n",
    "\n",
    "import matplotlib\n",
    "matplotlib.rcParams[\"figure.figsize\"] = (15,4)\n",
    "\n",
    "from src.vct_scaling import scale_force_to_model_scale, scale_moment_to_model_scale\n"
   ]
  },
  {
   "cell_type": "code",
   "execution_count": null,
   "id": "1a13c8e3-88c8-4ca9-be73-8d0b38b27957",
   "metadata": {},
   "outputs": [],
   "source": [
    "id = \"22773\"\n",
    "df = catalog.load(f\"{id}.data\")\n",
    "df_smooth = catalog.load(f\"{id}.data_ek_smooth\")\n",
    "model = catalog.load(\"vmm_martins_simple.force_regression.model\")\n",
    "regression = catalog.load(\"vmm_martins_simple.force_regression.regression\")\n",
    "df_VCT = catalog.load(\"force_regression.data_scaled\")\n",
    "ship_data = catalog.load(\"ship_data\")\n",
    "\n",
    "model_motion_regression = catalog.load(\"vmm_martins_simple.motion_regression.joined.model\")\n",
    "\n",
    "#keys_forces = ['fx','fy','fz']\n",
    "#scale_factor=ship_data['scale_factor']\n",
    "#forces=df_VCT[keys_forces]\n",
    "#df_VCT[keys_forces] = scale_force_to_model_scale(forces=forces, scale_factor=scale_factor, **df_VCT)\n",
    "#keys_moments = ['mx','my','mz']\n",
    "#df_VCT[keys_moments] = scale_force_to_model_scale(df_VCT[keys_moments], scale_factor=scale_factor, **df_VCT)\n"
   ]
  },
  {
   "cell_type": "code",
   "execution_count": null,
   "id": "6dd364f0-5746-4074-b2bd-ef09e273ded4",
   "metadata": {},
   "outputs": [],
   "source": [
    "df_VCT[['u','v','V','r','fx','fy','mz']].abs().max()"
   ]
  },
  {
   "cell_type": "code",
   "execution_count": null,
   "id": "d4bbcb24-788f-4854-999a-b001a682c0ed",
   "metadata": {},
   "outputs": [],
   "source": [
    "model.parameters"
   ]
  },
  {
   "cell_type": "code",
   "execution_count": null,
   "id": "605cdc19-db3f-4da7-8c46-4a487a9c37ed",
   "metadata": {},
   "outputs": [],
   "source": [
    "model.parameters['Xu'] = -0.000737*1.7\n",
    "result = model.simulate(df_=df_smooth)"
   ]
  },
  {
   "cell_type": "code",
   "execution_count": null,
   "id": "4ff52559-1f3f-459e-994b-0f2d90e0fabe",
   "metadata": {},
   "outputs": [],
   "source": [
    "result.result.plot(y='U')"
   ]
  },
  {
   "cell_type": "code",
   "execution_count": null,
   "id": "e4da8a99-da74-4212-a56e-addff0add9e5",
   "metadata": {},
   "outputs": [],
   "source": [
    "dataframes = {\n",
    "'model test' : df_smooth,\n",
    "'simulation (model test)' : result.result,    \n",
    "}\n",
    "\n",
    "fig,ax=plt.subplots()\n",
    "track_plots(dataframes=dataframes, lpp=model.ship_parameters['L'], beam=model.ship_parameters['B'], ax=ax, plot_boats=False);\n",
    "\n",
    "plot(dataframes, keys=result.result.columns);"
   ]
  },
  {
   "cell_type": "code",
   "execution_count": null,
   "id": "88b79911-60d2-4d53-b4d6-7051e3b7aebb",
   "metadata": {},
   "outputs": [],
   "source": [
    "data = df_VCT[['fx','fy','mz','u','v','V','r','beta','delta','thrust','test type']].copy()\n",
    "df_model = data.copy()\n",
    "df_model[['fx','fy','mz']] = model.forces(inputs=df_model)\n",
    "df_model['item'] = 'regression'"
   ]
  },
  {
   "cell_type": "code",
   "execution_count": null,
   "id": "77d2d05c-a6fb-4bab-a0ec-e3833ebded4c",
   "metadata": {},
   "outputs": [],
   "source": [
    "df = data.copy()\n",
    "df['item'] = 'VCT'\n",
    "df = df.append(df_model)\n",
    "\n",
    "captive_plot(df, styles=['.','-'])"
   ]
  },
  {
   "cell_type": "code",
   "execution_count": null,
   "id": "1232a2fa-b326-4fe5-b17c-a2c83f45ddc3",
   "metadata": {},
   "outputs": [],
   "source": []
  }
 ],
 "metadata": {
  "kernelspec": {
   "display_name": "wPCC_pipeline",
   "language": "python",
   "name": "python3"
  },
  "language_info": {
   "codemirror_mode": {
    "name": "ipython",
    "version": 3
   },
   "file_extension": ".py",
   "mimetype": "text/x-python",
   "name": "python",
   "nbconvert_exporter": "python",
   "pygments_lexer": "ipython3",
   "version": "3.7.9"
  }
 },
 "nbformat": 4,
 "nbformat_minor": 5
}
