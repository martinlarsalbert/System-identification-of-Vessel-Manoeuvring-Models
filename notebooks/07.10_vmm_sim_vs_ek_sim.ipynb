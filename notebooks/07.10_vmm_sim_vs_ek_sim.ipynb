{
    "cells": [
        {
            "cell_type": "code",
            "execution_count": null,
            "id": "c095c887-240f-4305-b347-62d4d5491b3a",
            "metadata": {},
            "outputs": [],
            "source": [
                "# %load imports.py\n",
                "%load_ext autoreload\n",
                "%autoreload 2\n",
                "%reload_kedro\n",
                "%config Completer.use_jedi = False  ## (To fix autocomplete)\n",
                "import pandas as pd\n",
                "from vessel_manoeuvring_models.models.vmm import ModelSimulator\n",
                "import matplotlib.pyplot as plt\n",
                "from vessel_manoeuvring_models.visualization.plot import track_plots, plot, captive_plot\n",
                "import kedro\n",
                "import numpy as np\n",
                "import os.path\n",
                "import anyconfig\n",
                "\n",
                "import matplotlib\n",
                "matplotlib.rcParams[\"figure.figsize\"] = (15,4)\n",
                "from vessel_manoeuvring_models.symbols import *\n",
                "\n",
                "# Read configs:\n",
                "conf_path = os.path.join(\"../conf/base/\")\n",
                "runs_globals_path = os.path.join(\n",
                "    conf_path,\n",
                "    \"runs_globals.yml\",\n",
                ")\n",
                "\n",
                "runs_globals = anyconfig.load(runs_globals_path)\n",
                "model_test_ids = runs_globals[\"model_test_ids\"]\n",
                "\n",
                "join_globals_path = os.path.join(\n",
                "    conf_path,\n",
                "    \"join_globals.yml\",\n",
                ")\n",
                "\n",
                "joins = runs_globals[\"joins\"]\n",
                "join_runs_dict = anyconfig.load(join_globals_path)\n",
                "\n",
                "globals_path = os.path.join(\n",
                "    conf_path,\n",
                "    \"globals.yml\",\n",
                ")\n",
                "global_variables = anyconfig.load(globals_path)\n",
                "\n",
                "\n",
                "\n",
                "vmms = global_variables[\"vmms\"]\n",
                "only_joined = global_variables[\n",
                "    \"only_joined\"\n",
                "]  # (regress/predict with only models from joined runs)S"
            ]
        },
        {
            "cell_type": "code",
            "execution_count": null,
            "id": "dd6cd31d-42d0-4573-aa28-23301dfe2099",
            "metadata": {},
            "outputs": [],
            "source": [
                "from wPCC_pipeline.pipelines.prediction.nodes import simulation_accuracy\n",
                "from wPCC_pipeline.pipelines.filter_data_extended_kalman.nodes import extended_kalman_filter\n",
                "from vessel_manoeuvring_models.extended_kalman_vmm import ExtendedKalman"
            ]
        },
        {
            "cell_type": "code",
            "execution_count": null,
            "id": "76368ff2-3730-4d2b-bd48-f503bdc70f8a",
            "metadata": {},
            "outputs": [],
            "source": [
                "from vessel_manoeuvring_models.models.vmm import Simulator\n",
                "from vessel_manoeuvring_models.substitute_dynamic_symbols import run"
            ]
        },
        {
            "cell_type": "code",
            "execution_count": null,
            "id": "91b0c20c-8cc5-4882-84d5-6ad5ef6a5b00",
            "metadata": {},
            "outputs": [],
            "source": [
                "id = 22774\n",
                "df_smooth = catalog.load(f\"{ id }.data_ek_smooth\")\n",
                "df_data = catalog.load(f\"{ id }.data\")\n",
                "df_data['U'] = np.sqrt(df_data['u']**2 + df_data['v']**2)\n",
                "df_smooth['U'] = np.sqrt(df_smooth['u']**2 + df_smooth['v']**2)\n",
                "\n",
                "ship_data = catalog.load(\"ship_data\")"
            ]
        },
        {
            "cell_type": "code",
            "execution_count": null,
            "id": "5550450e-88d5-497d-8597-61eedc3fb272",
            "metadata": {},
            "outputs": [],
            "source": [
                "from wPCC_pipeline.pipelines.brix.nodes import initial_parameters\n",
                "from wPCC_pipeline.pipelines.vessel_manoeuvring_models.nodes import martins_model, vmm_martins_simple_model, vmm_abkowitz_model"
            ]
        },
        {
            "cell_type": "code",
            "execution_count": null,
            "id": "3b482d07-6ca7-4724-b106-28dfcd66bcef",
            "metadata": {},
            "outputs": [],
            "source": [
                "#vmm = martins_model()\n",
                "#model = catalog.load(f\"vmm_martin.motion_regression.joined.model\")\n",
                "\n",
                "vmm = vmm_martins_simple_model()\n",
                "model = catalog.load(f\"vmm_martins_simple.motion_regression.joined.model\")\n",
                "\n",
                "#vmm = vmm_abkowitz_model()\n",
                "#model = catalog.load(f\"vmm_abkowitz.motion_regression.joined.model\")\n",
                "\n",
                "\n",
                "result = model.simulate(df_smooth)"
            ]
        },
        {
            "cell_type": "code",
            "execution_count": null,
            "id": "c237cc1a-7f99-4163-87b5-b8232fbb05a0",
            "metadata": {},
            "outputs": [],
            "source": [
                "parameters = model.parameters.copy()\n",
                "#parameters['Xudot'] = 0\n",
                "#parameters['Yvdot'] = 0\n",
                "#parameters['Yrdot'] = 0\n",
                "#\n",
                "#parameters['Nvdot'] = 0\n",
                "#parameters['Nrdot'] = 0\n",
                "\n"
            ]
        },
        {
            "cell_type": "code",
            "execution_count": null,
            "id": "e8d8ae27-005e-466d-a35b-ee9b8f53246c",
            "metadata": {},
            "outputs": [],
            "source": [
                "model2 = Simulator(X_eq=vmm.X_eq, Y_eq=vmm.Y_eq, N_eq=vmm.N_eq)\n",
                "model2.define_quasi_static_forces(X_qs_eq=vmm.X_qs_eq, Y_qs_eq=vmm.Y_qs_eq, N_qs_eq=vmm.N_qs_eq)"
            ]
        },
        {
            "cell_type": "code",
            "execution_count": null,
            "id": "4dfc6702-9f8d-4a33-a738-52fd3f5a68cb",
            "metadata": {},
            "outputs": [],
            "source": [
                "ek = ExtendedKalman(vmm=vmm, parameters=parameters, ship_parameters=ship_data)"
            ]
        },
        {
            "cell_type": "code",
            "execution_count": null,
            "id": "664bce79-35ee-459a-ab0d-d952d938687a",
            "metadata": {},
            "outputs": [],
            "source": [
                "result_ek = ek.simulate(data=df_smooth, input_columns=['delta','thrust'], solver='Radau')\n",
                "#result_ek = ek.simulate(data=df_smooth, input_columns=['delta','thrust'], solver='euler')"
            ]
        },
        {
            "cell_type": "code",
            "execution_count": null,
            "id": "2f900641-bf74-4d0d-a29b-9fe8b4ba9aa5",
            "metadata": {},
            "outputs": [],
            "source": [
                "result2 = model2.simulate(df_=df_smooth, parameters=parameters, ship_parameters=ship_data, \n",
                "            primed_parameters=True, prime_system=model.prime_system) "
            ]
        },
        {
            "cell_type": "code",
            "execution_count": null,
            "id": "c166369b-7fb5-4af5-ae23-ce5dac25b9d2",
            "metadata": {},
            "outputs": [],
            "source": [
                "dataframes = {\n",
                "#'model test' : df_smooth,\n",
                "#'simulate runge kutta (result)' : result.result,\n",
                "'simulate runge kutta (result2)' : result2.result,\n",
                "'ek sim runge kutta' : result_ek,\n",
                "}\n",
                "\n",
                "styles = {\n",
                "\n",
                "    'model test' : {'style':'-',},\n",
                "    'simulate runge kutta (result)' : {'style':'-',},\n",
                "    'simulate runge kutta (result2)' :{'style':':',},\n",
                "    'ek sim runge kutta' : {'style':'--',},\n",
                "    \n",
                "\n",
                "}\n",
                "\n",
                "fig,ax=plt.subplots()\n",
                "track_plots(dataframes=dataframes, lpp=ship_data['L'], beam=ship_data['B'], ax=ax, plot_boats=False, styles=styles);\n",
                "\n",
                "plot(dataframes, keys=result.result.columns, fig_size=(15, 20));"
            ]
        },
        {
            "cell_type": "code",
            "execution_count": null,
            "id": "6e02a485-7e17-49c3-9da0-87e954c0aa9d",
            "metadata": {},
            "outputs": [],
            "source": [
                "x = df_smooth[['x0','y0','psi','u','v','r']].values.T\n",
                "input = df_smooth[['delta','thrust']].copy()\n",
                "dx = ek.lambda_f(x=x, input = input)\n",
                "df_acc = pd.DataFrame(index=df_smooth.index, columns=['u1d','v1d','r1d'], data=dx[3:,:].T)"
            ]
        },
        {
            "cell_type": "code",
            "execution_count": null,
            "id": "7f2a6e98-5e60-4475-9c98-84957bcc559c",
            "metadata": {},
            "outputs": [],
            "source": [
                "for key in ['u1d','v1d','r1d']:\n",
                "    fig,ax=plt.subplots()\n",
                "    df_acc.plot(y=key, style='r', ax=ax, label='ek')\n",
                "    result2.result.plot(y=key, style=['b-'], ax=ax, alpha=0.5, label='sim')\n",
                "    ax.set_ylabel(key)"
            ]
        },
        {
            "cell_type": "code",
            "execution_count": null,
            "id": "edfba476-3ba2-4329-8c93-14f0481f13e4",
            "metadata": {},
            "outputs": [],
            "source": [
                "df_smooth.plot(y='r')"
            ]
        },
        {
            "cell_type": "code",
            "execution_count": null,
            "id": "5dd71971-aacd-42ab-93fa-2384fe2b80c0",
            "metadata": {},
            "outputs": [],
            "source": [
                "df_smooth.plot(y='v')"
            ]
        },
        {
            "cell_type": "code",
            "execution_count": null,
            "id": "c2030f73-e3d3-4040-948e-fdeca8a4178e",
            "metadata": {},
            "outputs": [],
            "source": [
                "df_smooth.plot(y='delta')"
            ]
        },
        {
            "cell_type": "code",
            "execution_count": null,
            "id": "623dc67e-ebd2-49fa-8d04-187c75516d74",
            "metadata": {},
            "outputs": [],
            "source": [
                "ship_data_prime = model2.prime_system.prime(ship_data)\n",
                "\n",
                "df_smooth_prime = model2.prime_system.prime(df_smooth[['x0','y0','psi','u','v','r','thrust','delta']], U=df_smooth['U'])\n",
                "u1d_, v1d_, r1d_ = run(function=model2.acceleration_lambda, **ship_data_prime, **parameters, **df_smooth_prime)\n",
                "\n",
                "df_acc_sim_prime = pd.DataFrame(index=df_smooth.index)\n",
                "df_acc_sim_prime['u1d'] = u1d_.flatten()\n",
                "df_acc_sim_prime['v1d'] = v1d_.flatten()\n",
                "df_acc_sim_prime['r1d'] = r1d_.flatten()\n",
                "df_acc_sim = model2.prime_system.unprime(df_acc_sim_prime, U=df_smooth['U'])\n"
            ]
        },
        {
            "cell_type": "code",
            "execution_count": null,
            "id": "9e4b1b77-5284-4854-a387-f1cff134b126",
            "metadata": {},
            "outputs": [],
            "source": [
                "for key in ['u1d','v1d','r1d']:\n",
                "    fig,ax=plt.subplots()\n",
                "    df_acc.plot(y=key, style='r', ax=ax, label='ek', lw=0.25)\n",
                "    df_acc_sim.plot(y=key, style=['b-'], ax=ax, alpha=1, lw=0.25, label='sim')\n",
                "    ax.set_ylabel(key)"
            ]
        },
        {
            "cell_type": "code",
            "execution_count": null,
            "id": "29f7378a-ae37-4afb-aba9-eb08392794bd",
            "metadata": {},
            "outputs": [],
            "source": [
                "df_acc/df_acc_sim"
            ]
        },
        {
            "cell_type": "code",
            "execution_count": null,
            "id": "3fc886b2-8caf-4765-a2f2-2f6a8743d8cd",
            "metadata": {},
            "outputs": [],
            "source": [
                "model2.acceleartion_eq"
            ]
        },
        {
            "cell_type": "code",
            "execution_count": null,
            "id": "85882c87-9199-40fb-8056-a5a00cf63011",
            "metadata": {},
            "outputs": [],
            "source": [
                "#A, b = sp.linear_eq_to_matrix([vmm.X_eq, Y_eq, N_eq], [u1d, v1d, r1d])"
            ]
        },
        {
            "cell_type": "code",
            "execution_count": null,
            "id": "a0976d39-26bd-4f3f-b45f-9b3bea433b11",
            "metadata": {},
            "outputs": [],
            "source": [
                "parameters"
            ]
        },
        {
            "cell_type": "code",
            "execution_count": null,
            "id": "8959d9a6-8260-4e93-bfcc-724dd3cd5cdd",
            "metadata": {},
            "outputs": [],
            "source": [
                "A, b = sp.linear_eq_to_matrix([vmm.X_eq, vmm.Y_eq, vmm.N_eq], [u1d, v1d, r1d])"
            ]
        },
        {
            "cell_type": "code",
            "execution_count": null,
            "id": "c25552f0-542f-460b-a51b-4154ffec2fca",
            "metadata": {},
            "outputs": [],
            "source": [
                "A"
            ]
        },
        {
            "cell_type": "code",
            "execution_count": null,
            "id": "c2c6524c-9707-48b1-a0cb-bfeac5842e48",
            "metadata": {},
            "outputs": [],
            "source": [
                "b"
            ]
        },
        {
            "cell_type": "code",
            "execution_count": null,
            "id": "ededfed1-e9fc-4273-9bf9-a389d7b1f862",
            "metadata": {},
            "outputs": [],
            "source": [
                "from vessel_manoeuvring_models import prime_system\n",
                "\n",
                "u_prime, v_prime = sp.symbols(\"u' v'\")\n",
                "\n",
                "\n",
                "subs_prime = [\n",
                "            (m, m / prime_system.df_prime.mass.denominator),\n",
                "            (I_z, I_z / prime_system.df_prime.inertia_moment.denominator),\n",
                "            (x_G, x_G / prime_system.df_prime.length.denominator),\n",
                "            \n",
                "            (u_prime, u / sp.sqrt(u ** 2 + v ** 2)),\n",
                "            (v_prime, v / sp.sqrt(u ** 2 + v ** 2)),\n",
                "            \n",
                "            (r, r / (sp.sqrt(u ** 2 + v ** 2) / L)),\n",
                "            (thrust, thrust / (sp.Rational(1,2) * rho * (u ** 2 + v ** 2) * L ** 2)),\n",
                "        ]"
            ]
        },
        {
            "cell_type": "code",
            "execution_count": null,
            "id": "cc231aa8-fa5e-4277-ad99-0cb44be49f8b",
            "metadata": {},
            "outputs": [],
            "source": [
                "u / sp.sqrt(u**2 + v**2)"
            ]
        },
        {
            "cell_type": "code",
            "execution_count": null,
            "id": "908abc68-b84e-440d-86d3-0eccaf06a6a8",
            "metadata": {},
            "outputs": [],
            "source": [
                "A_SI = A.subs(subs_prime)\n",
                "b_SI = b.subs(subs_prime)"
            ]
        },
        {
            "cell_type": "code",
            "execution_count": null,
            "id": "30ad74ba-707d-4d6a-87f2-458e99a60895",
            "metadata": {},
            "outputs": [],
            "source": [
                "A_SI"
            ]
        },
        {
            "cell_type": "code",
            "execution_count": null,
            "id": "484522bc-2d76-43d0-97d9-bcd7e06cdc24",
            "metadata": {},
            "outputs": [],
            "source": [
                "b_SI"
            ]
        },
        {
            "cell_type": "code",
            "execution_count": null,
            "id": "4b8341e0-7240-44b3-9f99-0c0cfdc092f9",
            "metadata": {},
            "outputs": [],
            "source": [
                "u**2+v**2"
            ]
        },
        {
            "cell_type": "code",
            "execution_count": null,
            "id": "283e4935-75e2-4c90-b561-90b48ea80432",
            "metadata": {},
            "outputs": [],
            "source": [
                "A_SI.inv() * b_SI"
            ]
        },
        {
            "cell_type": "code",
            "execution_count": null,
            "id": "c650972e-4e63-4a09-85ef-2df1e86c0ecf",
            "metadata": {},
            "outputs": [],
            "source": [
                "sp.Matrix(\n",
                "                [\n",
                "                    (u ** 2 + v ** 2) / L,\n",
                "                    (u ** 2 + v ** 2) / L,\n",
                "                    (u ** 2 + v ** 2) / (L ** 2),\n",
                "                ])"
            ]
        },
        {
            "cell_type": "code",
            "execution_count": null,
            "id": "83e57544-fed2-438d-b158-ce1d39d1d7bb",
            "metadata": {},
            "outputs": [],
            "source": [
                "sympy.matrices.dense.matrix_multiply_elementwise(\n",
                "            A_SI.inv() * b_SI,  # (Slow...)\n",
                "            sp.Matrix(\n",
                "                [\n",
                "                    (u ** 2 + v ** 2) / L,\n",
                "                    (u ** 2 + v ** 2) / L,\n",
                "                    (u ** 2 + v ** 2) / (L ** 2),\n",
                "                ]\n",
                "            ),\n",
                "        )"
            ]
        },
        {
            "cell_type": "code",
            "execution_count": null,
            "id": "38dcc183-cb32-4338-aeb3-df7840f6d920",
            "metadata": {},
            "outputs": [],
            "source": []
        }
    ],
    "metadata": {
        "kernelspec": {
            "display_name": "wPCC_pipeline",
            "language": "python",
            "name": "python3"
        },
        "language_info": {
            "codemirror_mode": {
                "name": "ipython",
                "version": 3
            },
            "file_extension": ".py",
            "mimetype": "text/x-python",
            "name": "python",
            "nbconvert_exporter": "python",
            "pygments_lexer": "ipython3",
            "version": "3.7.9"
        }
    },
    "nbformat": 4,
    "nbformat_minor": 5
}