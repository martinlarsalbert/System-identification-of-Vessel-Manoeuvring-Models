{
 "cells": [
  {
   "cell_type": "markdown",
   "id": "895df866-fc67-4501-b021-b13212febda4",
   "metadata": {},
   "source": [
    "# Create some generic data with added gausian noise"
   ]
  },
  {
   "cell_type": "code",
   "execution_count": null,
   "id": "491b432b-4e72-4768-88cd-e759d31cc86b",
   "metadata": {},
   "outputs": [],
   "source": [
    "# %load imports.py\n",
    "%load_ext autoreload\n",
    "%autoreload 2\n",
    "%config Completer.use_jedi = False  ## (To fix autocomplete)\n",
    "\n",
    "import pandas as pd\n",
    "from vessel_manoeuvring_models.models.vmm import ModelSimulator\n",
    "import matplotlib.pyplot as plt\n",
    "import matplotlib\n",
    "#plt.style.use('presentation')\n",
    "\n",
    "from vessel_manoeuvring_models.visualization.plot import track_plots, plot, captive_plot\n",
    "import kedro\n",
    "import numpy as np\n",
    "import os.path\n",
    "import anyconfig\n",
    "\n",
    "\n",
    "from myst_nb import glue\n",
    "from vessel_manoeuvring_models.symbols import *\n",
    "import vessel_manoeuvring_models.symbols as symbols\n",
    "from vessel_manoeuvring_models.system_equations import *\n",
    "\n",
    "from IPython.display import display, Math, Latex, Markdown\n",
    "from sympy.physics.vector.printing import vpprint, vlatex\n",
    "\n",
    "from vessel_manoeuvring_models.models.regression import MotionRegression, Regression\n",
    "\n",
    "from vessel_manoeuvring_models.parameters import df_parameters\n",
    "from vessel_manoeuvring_models.substitute_dynamic_symbols import run\n",
    "from vessel_manoeuvring_models.models.diff_eq_to_matrix import DiffEqToMatrix\n",
    "p = df_parameters[\"symbol\"]\n",
    "import statsmodels.api as sm\n",
    "\n",
    "from vessel_manoeuvring_models.models.force_from_motion import predict_force\n",
    "\n",
    "# Read configs:\n",
    "conf_path = os.path.join(\"../conf/base/\")\n",
    "runs_globals_path = os.path.join(\n",
    "    conf_path,\n",
    "    \"runs_globals.yml\",\n",
    ")\n",
    "\n",
    "runs_globals = anyconfig.load(runs_globals_path)\n",
    "model_test_ids = runs_globals[\"model_test_ids\"]\n",
    "\n",
    "join_globals_path = os.path.join(\n",
    "    conf_path,\n",
    "    \"join_globals.yml\",\n",
    ")\n",
    "\n",
    "joins = runs_globals[\"joins\"]\n",
    "join_runs_dict = anyconfig.load(join_globals_path)\n",
    "\n",
    "globals_path = os.path.join(\n",
    "    conf_path,\n",
    "    \"globals.yml\",\n",
    ")\n",
    "global_variables = anyconfig.load(globals_path)\n",
    "from vessel_manoeuvring_models.prime_system import PrimeSystem\n",
    "from wPCC_pipeline.pipelines.kvlcc2.nodes import calculate_thrust\n",
    "from wPCC_pipeline.pipelines.motion_regression.nodes import predict_force, fit_motions\n",
    "from wPCC_pipeline.pipelines.prediction.nodes import simulate_euler\n",
    "from wPCC_pipeline.pipelines.filter_data_extended_kalman.nodes import extended_kalman_filter, extended_kalman_smoother\n",
    "from wPCC_pipeline.pipelines.preprocess.nodes import filter"
   ]
  },
  {
   "cell_type": "code",
   "execution_count": null,
   "id": "55f3bb8f-fcc0-47bb-bd68-ad443fe82758",
   "metadata": {},
   "outputs": [],
   "source": [
    "%reload_kedro\n",
    "\n",
    "ship='generic_kvlcc2'\n",
    "id = \"MARIN_FREE_KVLCC2_zz_10_m\"\n",
    "\n",
    "raw_data = catalog.load(f\"{ship}.{id}.data\")\n",
    "\n",
    "dataframes = {\n",
    "\n",
    "#\"raw_data\" : catalog.load(f\"{ship}.{id}.data\"),   \n",
    "#\"ek\" : catalog.load(f\"{ship}.initial.{id}.data_ek_filter\"),\n",
    "#\"ek2\" : catalog.load(f\"{ship}.updated.{id}.data_ek_filter\"),\n",
    "\"smooth\" : catalog.load(f\"{ship}.initial.{id}.data_ek_smooth\"),\n",
    "\"smooth2\" : catalog.load(f\"{ship}.updated.{id}.data_ek_smooth\"),\n",
    "\"true_data\" : catalog.load(f\"{ship}.{id}.true_data\"),\n",
    "}\n",
    "\n",
    "dataframes['lowpass'] = filter(raw_data, cutoff = 1.0)\n",
    "\n",
    "styles = {\n",
    "\n",
    "    \"true_data\":{\"style\":'k--','zorder':10},\n",
    "#    \"raw_data\":{\"style\":'m-','lw':0.2},\n",
    "    \n",
    "    #\"ek\":{\"style\":'b.-'},\n",
    "\n",
    "}\n",
    "\n",
    "ek1 = catalog.load(f\"{ship}.vmm_linear.ek\") \n",
    "\n",
    "ship_data = catalog.load(f\"{ship}.ship_data\")\n"
   ]
  },
  {
   "cell_type": "code",
   "execution_count": null,
   "id": "e070b8d1-8a81-4851-adb4-091fd215c373",
   "metadata": {},
   "outputs": [],
   "source": [
    "dataframes_ = {\n",
    "    'data': raw_data,\n",
    "    'ek sim': ek1.simulate(data=raw_data, input_columns=['delta','U'])\n",
    "}\n",
    "\n",
    "track_plots(dataframes_, lpp=ship_data['L'], beam=ship_data['B'], N=10, plot_boats=True)\n",
    "plot(dataframes_, fig_size=(15,10), styles=styles, keys=['u','v','r','psi'], time_window=[0,10]);"
   ]
  },
  {
   "cell_type": "code",
   "execution_count": null,
   "id": "07532f9c-9f5c-4377-8716-abddae4e5897",
   "metadata": {},
   "outputs": [],
   "source": [
    "track_plots(dataframes, lpp=ship_data['L'], beam=ship_data['B'], N=10, plot_boats=True)\n",
    "\n",
    "plot(dataframes, fig_size=(15,10), styles=styles, keys=['delta','u','v','r','psi'], time_window=[10,20]);"
   ]
  },
  {
   "cell_type": "code",
   "execution_count": null,
   "id": "d7b826de-787d-48e2-b529-57a7f8291b8d",
   "metadata": {},
   "outputs": [],
   "source": [
    "len(dataframes['raw_data'])"
   ]
  },
  {
   "cell_type": "code",
   "execution_count": null,
   "id": "f27c85ab-7fb3-4407-86d3-8da6d41a1eac",
   "metadata": {},
   "outputs": [],
   "source": [
    "len(dataframes['true_data'])"
   ]
  },
  {
   "cell_type": "code",
   "execution_count": null,
   "id": "ae96a2e4-3dc5-4534-beaa-b34ea3d20181",
   "metadata": {},
   "outputs": [],
   "source": [
    "np.rad2deg(0.001/3)"
   ]
  },
  {
   "cell_type": "code",
   "execution_count": null,
   "id": "d4202a30-65c1-4715-bc93-ab256ae5d146",
   "metadata": {},
   "outputs": [],
   "source": []
  }
 ],
 "metadata": {
  "kernelspec": {
   "display_name": "wPCC_pipeline",
   "language": "python",
   "name": "python3"
  },
  "language_info": {
   "codemirror_mode": {
    "name": "ipython",
    "version": 3
   },
   "file_extension": ".py",
   "mimetype": "text/x-python",
   "name": "python",
   "nbconvert_exporter": "python",
   "pygments_lexer": "ipython3",
   "version": "3.7.9"
  }
 },
 "nbformat": 4,
 "nbformat_minor": 5
}
