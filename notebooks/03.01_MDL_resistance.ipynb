{
 "cells": [
  {
   "cell_type": "markdown",
   "id": "8c6449d9-0821-45a7-85ba-ce92f7b1bc81",
   "metadata": {},
   "source": [
    "# MDL resistance"
   ]
  },
  {
   "cell_type": "code",
   "execution_count": null,
   "id": "4baa1854-95bc-404b-aaf6-eddb4db419e9",
   "metadata": {},
   "outputs": [],
   "source": [
    "# %load imports.py\n",
    "%load_ext autoreload\n",
    "%autoreload 2\n",
    "%reload_kedro\n",
    "import pandas as pd\n",
    "from src.models.vmm import ModelSimulator\n",
    "import matplotlib.pyplot as plt\n",
    "from src.visualization.plot import track_plots, plot, captive_plot\n",
    "import kedro\n",
    "import numpy as np\n",
    "\n",
    "import matplotlib\n",
    "matplotlib.rcParams[\"figure.figsize\"] = (15,4)"
   ]
  },
  {
   "cell_type": "code",
   "execution_count": null,
   "id": "3f936bf8-c4c9-4b7b-9797-57c48dc87054",
   "metadata": {},
   "outputs": [],
   "source": [
    "runs_meta_data = catalog.load('runs_meta_data')\n",
    "runs_meta_data.dropna(how='any', axis=1, inplace=True)"
   ]
  },
  {
   "cell_type": "code",
   "execution_count": null,
   "id": "c3312fa3-e146-4ae7-8e06-27b78443186c",
   "metadata": {},
   "outputs": [],
   "source": [
    "runs_meta_data.head()"
   ]
  },
  {
   "cell_type": "code",
   "execution_count": null,
   "id": "983dec59-8c9c-470d-878a-afdd55474b6d",
   "metadata": {},
   "outputs": [],
   "source": [
    "runs_meta_data.columns"
   ]
  },
  {
   "cell_type": "code",
   "execution_count": null,
   "id": "76aac46f-9686-445e-b050-c05bd08b61d2",
   "metadata": {},
   "outputs": [],
   "source": [
    "reference_speeds = runs_meta_data.groupby(by='test_type').get_group('reference speed')"
   ]
  },
  {
   "cell_type": "code",
   "execution_count": null,
   "id": "9903d57d-f586-409b-b2fa-e3e115174df6",
   "metadata": {},
   "outputs": [],
   "source": [
    "df_mean = pd.DataFrame()\n",
    "df_std = pd.DataFrame()\n",
    "\n",
    "\n",
    "for id, row in reference_speeds.iterrows():\n",
    "    \n",
    "    try:\n",
    "        df_ = catalog.load(f'{id}.data_ek_smooth')\n",
    "    except:\n",
    "        continue\n",
    "    \n",
    "    s_mean = df_.mean()\n",
    "    s_mean.name = id\n",
    "    df_mean = df_mean.append(s_mean)\n",
    "    \n",
    "    s_std = df_.std()\n",
    "    s_std.name = id\n",
    "    df_std = df_std.append(s_std)\n",
    "    \n",
    "    "
   ]
  },
  {
   "cell_type": "code",
   "execution_count": null,
   "id": "20280bfa-20a3-4ae6-a5c1-2a25904aaa87",
   "metadata": {},
   "outputs": [],
   "source": [
    "df_upper = df_mean.copy()\n",
    "df_upper['thrust']+=3*df_std['thrust']\n",
    "df_lower = df_mean.copy()\n",
    "df_lower['thrust']-=3*df_std['thrust']\n",
    "df_mean.sort_values(by='u', inplace=True)\n",
    "df_upper.sort_values(by='u', inplace=True)\n",
    "df_lower.sort_values(by='u', inplace=True)"
   ]
  },
  {
   "cell_type": "code",
   "execution_count": null,
   "id": "7e5c0e74-951c-4dc5-8717-bc0b30437230",
   "metadata": {},
   "outputs": [],
   "source": [
    "fig,ax=plt.subplots()\n",
    "\n",
    "df_mean.plot(x='u', y='thrust', style='.-', ax=ax)\n",
    "df_lower.plot(x='u', y='thrust', style='-', label='lower', ax=ax)\n",
    "df_upper.plot(x='u', y='thrust', style='-', label='upper', ax=ax)\n",
    "ax.legend();\n"
   ]
  },
  {
   "cell_type": "code",
   "execution_count": null,
   "id": "0011cd7b-ab1c-4db7-93e5-282e020fbb09",
   "metadata": {},
   "outputs": [],
   "source": [
    "df_mean"
   ]
  },
  {
   "cell_type": "code",
   "execution_count": null,
   "id": "509aebe9-9008-484c-ba84-7ccb590e79d6",
   "metadata": {},
   "outputs": [],
   "source": []
  }
 ],
 "metadata": {
  "kernelspec": {
   "display_name": "wPCC_pipeline",
   "language": "python",
   "name": "python3"
  },
  "language_info": {
   "codemirror_mode": {
    "name": "ipython",
    "version": 3
   },
   "file_extension": ".py",
   "mimetype": "text/x-python",
   "name": "python",
   "nbconvert_exporter": "python",
   "pygments_lexer": "ipython3",
   "version": "3.7.9"
  }
 },
 "nbformat": 4,
 "nbformat_minor": 5
}
