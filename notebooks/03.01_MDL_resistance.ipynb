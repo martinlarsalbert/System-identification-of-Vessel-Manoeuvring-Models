{
 "cells": [
  {
   "cell_type": "markdown",
   "id": "8c6449d9-0821-45a7-85ba-ce92f7b1bc81",
   "metadata": {},
   "source": [
    "# MDL resistance"
   ]
  },
  {
   "cell_type": "code",
   "execution_count": null,
   "id": "4baa1854-95bc-404b-aaf6-eddb4db419e9",
   "metadata": {},
   "outputs": [],
   "source": [
    "# %load imports.py\n",
    "%load_ext autoreload\n",
    "%autoreload 2\n",
    "%reload_kedro\n",
    "import pandas as pd\n",
    "from vessel_manoeuvring_models.models.vmm import ModelSimulator\n",
    "import matplotlib.pyplot as plt\n",
    "from vessel_manoeuvring_models.visualization.plot import track_plots, plot, captive_plot\n",
    "import kedro\n",
    "import numpy as np\n",
    "\n",
    "import matplotlib\n",
    "matplotlib.rcParams[\"figure.figsize\"] = (15,4)\n",
    "from vessel_manoeuvring_models.symbols import *"
   ]
  },
  {
   "cell_type": "code",
   "execution_count": null,
   "id": "d4ec5c34-6ba3-47da-8a43-89fcda17ee9a",
   "metadata": {},
   "outputs": [],
   "source": [
    "from scipy.optimize import least_squares"
   ]
  },
  {
   "cell_type": "code",
   "execution_count": null,
   "id": "21d25135-dd88-4efc-a157-3836a1e46907",
   "metadata": {},
   "outputs": [],
   "source": [
    "data_TT_MDL = catalog.load('force_regression.data_TT_MDL')\n",
    "R_m = data_TT_MDL['Rm [N]']\n",
    "df_VCT = catalog.load('force_regression.data_scaled')"
   ]
  },
  {
   "cell_type": "code",
   "execution_count": null,
   "id": "56baf576-e171-4026-a31f-5fe33297d2e4",
   "metadata": {},
   "outputs": [],
   "source": [
    "def res(x, u):\n",
    "    \n",
    "    r = x*u**2\n",
    "    \n",
    "    return r\n",
    "\n",
    "def error(x,y):\n",
    "    \n",
    "    u = y.index\n",
    "    r = res(x, u)\n",
    "    e = r - y\n",
    "    return e"
   ]
  },
  {
   "cell_type": "code",
   "execution_count": null,
   "id": "6bbb27ce-35e9-420b-a924-135f7535b43c",
   "metadata": {},
   "outputs": [],
   "source": [
    "result = least_squares(fun=error, x0=[0], kwargs={'y':R_m})"
   ]
  },
  {
   "cell_type": "code",
   "execution_count": null,
   "id": "9c0272af-7a23-411f-9b9d-390370f84bf9",
   "metadata": {},
   "outputs": [],
   "source": [
    "df_resistance = df_VCT.groupby(by='test type').get_group('resistance').copy()\n",
    "df_resistance['R'] = -df_resistance['fx']"
   ]
  },
  {
   "cell_type": "code",
   "execution_count": null,
   "id": "450f81e8-cc66-4ed8-96df-dd738ba1f116",
   "metadata": {},
   "outputs": [],
   "source": [
    "df = data_TT_MDL.copy()\n",
    "u = R_m.index\n",
    "df['R_pred'] = res(result.x, u)\n",
    "\n",
    "fig,ax=plt.subplots()\n",
    "df.plot(style='.-', ax=ax);\n",
    "df_resistance.sort_values(by='u').plot(x='u',y='R', ax=ax)"
   ]
  },
  {
   "cell_type": "code",
   "execution_count": null,
   "id": "3f936bf8-c4c9-4b7b-9797-57c48dc87054",
   "metadata": {},
   "outputs": [],
   "source": [
    "runs_meta_data = catalog.load('runs_meta_data')\n",
    "runs_meta_data.dropna(how='any', axis=1, inplace=True)"
   ]
  },
  {
   "cell_type": "code",
   "execution_count": null,
   "id": "c3312fa3-e146-4ae7-8e06-27b78443186c",
   "metadata": {},
   "outputs": [],
   "source": [
    "runs_meta_data.head()"
   ]
  },
  {
   "cell_type": "code",
   "execution_count": null,
   "id": "983dec59-8c9c-470d-878a-afdd55474b6d",
   "metadata": {},
   "outputs": [],
   "source": [
    "runs_meta_data.columns"
   ]
  },
  {
   "cell_type": "code",
   "execution_count": null,
   "id": "76aac46f-9686-445e-b050-c05bd08b61d2",
   "metadata": {},
   "outputs": [],
   "source": [
    "reference_speeds = runs_meta_data.groupby(by='test_type').get_group('reference speed')"
   ]
  },
  {
   "cell_type": "code",
   "execution_count": null,
   "id": "9903d57d-f586-409b-b2fa-e3e115174df6",
   "metadata": {},
   "outputs": [],
   "source": [
    "df_mean = pd.DataFrame()\n",
    "df_std = pd.DataFrame()\n",
    "\n",
    "\n",
    "for id, row in reference_speeds.iterrows():\n",
    "    \n",
    "    try:\n",
    "        df_ = catalog.load(f'{id}.data_ek_smooth').iloc[400:-400]\n",
    "    except:\n",
    "        continue\n",
    "    \n",
    "    s_mean = df_.mean()\n",
    "    s_mean.name = id\n",
    "    df_mean = df_mean.append(s_mean)\n",
    "    \n",
    "    s_std = df_.std()\n",
    "    s_std.name = id\n",
    "    df_std = df_std.append(s_std)\n",
    "    \n",
    "    "
   ]
  },
  {
   "cell_type": "code",
   "execution_count": null,
   "id": "20280bfa-20a3-4ae6-a5c1-2a25904aaa87",
   "metadata": {},
   "outputs": [],
   "source": [
    "df_upper = df_mean.copy()\n",
    "df_upper['thrust']+=3*df_std['thrust']\n",
    "df_lower = df_mean.copy()\n",
    "df_lower['thrust']-=3*df_std['thrust']\n",
    "df_mean.sort_values(by='u', inplace=True)\n",
    "df_upper.sort_values(by='u', inplace=True)\n",
    "df_lower.sort_values(by='u', inplace=True)"
   ]
  },
  {
   "cell_type": "code",
   "execution_count": null,
   "id": "7e5c0e74-951c-4dc5-8717-bc0b30437230",
   "metadata": {},
   "outputs": [],
   "source": [
    "fig,ax=plt.subplots()\n",
    "\n",
    "df_mean.plot(x='u', y='thrust', style='.-', ax=ax)\n",
    "df_lower.plot(x='u', y='thrust', style='-', label='lower', ax=ax)\n",
    "df_upper.plot(x='u', y='thrust', style='-', label='upper', ax=ax)\n",
    "ax.legend();\n"
   ]
  },
  {
   "cell_type": "code",
   "execution_count": null,
   "id": "b1cad49e-c8ad-42c1-ab92-ba2337bd5be0",
   "metadata": {},
   "outputs": [],
   "source": [
    "#tdf = 0.117\n",
    "tdf = 0.117\n",
    "\n",
    "R_factor =1.14\n",
    "for df_ in [df_mean, df_lower, df_upper]:\n",
    "    df_['R'] = (1-tdf)*df_['thrust']/R_factor"
   ]
  },
  {
   "cell_type": "code",
   "execution_count": null,
   "id": "375dde96-49a1-48d5-b100-bfeebdc93d2c",
   "metadata": {},
   "outputs": [],
   "source": [
    "df = data_TT_MDL.copy()\n",
    "u = R_m.index\n",
    "df['R_pred'] = res(result.x, u)\n",
    "\n",
    "fig,ax=plt.subplots()\n",
    "df.plot(style='.-', ax=ax);\n",
    "df_resistance.sort_values(by='u').plot(x='u',y='R', ax=ax)\n",
    "\n",
    "df_mean.plot(x='u', y='R', style='.-', ax=ax)\n",
    "\n",
    "ax.fill_between(x=df_lower['u'], y1=df_lower['R'], y2=df_upper['R'], alpha=0.5, color='gray', label='95%')\n",
    "\n",
    "#df_lower.plot(x='u', y='R', style='-', label='lower', ax=ax)\n",
    "#df_upper.plot(x='u', y='R', style='-', label='upper', ax=ax)\n",
    "\n",
    "ax.legend();\n",
    "ax.set_xlim(0.6,1.1);\n",
    "ax.set_ylim(3,10);"
   ]
  },
  {
   "cell_type": "code",
   "execution_count": null,
   "id": "7e6742dc-21cc-4f6b-b454-830f1250cfd2",
   "metadata": {},
   "outputs": [],
   "source": [
    "1-0.117"
   ]
  },
  {
   "cell_type": "code",
   "execution_count": null,
   "id": "3e25e7ac-3f27-4f96-89e7-dc3fb0c43479",
   "metadata": {},
   "outputs": [],
   "source": []
  },
  {
   "cell_type": "code",
   "execution_count": null,
   "id": "d610fa5d-ffb9-46f6-b20e-3945764fffba",
   "metadata": {},
   "outputs": [],
   "source": []
  },
  {
   "cell_type": "code",
   "execution_count": null,
   "id": "1485bf3e-3e2d-4d25-abef-d848cb8a553d",
   "metadata": {},
   "outputs": [],
   "source": []
  },
  {
   "cell_type": "code",
   "execution_count": null,
   "id": "1cad8af4-efc8-4b49-8302-f2a9f42b4783",
   "metadata": {},
   "outputs": [],
   "source": []
  },
  {
   "cell_type": "code",
   "execution_count": null,
   "id": "d582402b-9f5c-4917-9a8b-a0ac9549f77d",
   "metadata": {},
   "outputs": [],
   "source": []
  }
 ],
 "metadata": {
  "kernelspec": {
   "display_name": "wPCC_pipeline",
   "language": "python",
   "name": "python3"
  },
  "language_info": {
   "codemirror_mode": {
    "name": "ipython",
    "version": 3
   },
   "file_extension": ".py",
   "mimetype": "text/x-python",
   "name": "python",
   "nbconvert_exporter": "python",
   "pygments_lexer": "ipython3",
   "version": "3.7.9"
  }
 },
 "nbformat": 4,
 "nbformat_minor": 5
}
